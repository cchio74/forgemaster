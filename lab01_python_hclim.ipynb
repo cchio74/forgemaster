{
  "nbformat": 4,
  "nbformat_minor": 0,
  "metadata": {
    "colab": {
      "name": "lab01_python_hclim.ipynb",
      "provenance": [],
      "authorship_tag": "ABX9TyM3N7o4GOu+IRIghlzQCmiV",
      "include_colab_link": true
    },
    "kernelspec": {
      "name": "python3",
      "display_name": "Python 3"
    }
  },
  "cells": [
    {
      "cell_type": "markdown",
      "metadata": {
        "id": "view-in-github",
        "colab_type": "text"
      },
      "source": [
        "<a href=\"https://colab.research.google.com/github/cchio74/forgemaster/blob/master/lab01_python_hclim.ipynb\" target=\"_parent\"><img src=\"https://colab.research.google.com/assets/colab-badge.svg\" alt=\"Open In Colab\"/></a>"
      ]
    },
    {
      "cell_type": "markdown",
      "metadata": {
        "id": "TyrCfEhUFoiQ",
        "colab_type": "text"
      },
      "source": [
        "#python 실습"
      ]
    },
    {
      "cell_type": "markdown",
      "metadata": {
        "id": "n5pd0GiTIWy1",
        "colab_type": "text"
      },
      "source": [
        "##들여쓰기 규칙\n"
      ]
    },
    {
      "cell_type": "code",
      "metadata": {
        "id": "gOdG84bHF-Ai",
        "colab_type": "code",
        "colab": {}
      },
      "source": [
        "x=1"
      ],
      "execution_count": null,
      "outputs": []
    },
    {
      "cell_type": "code",
      "metadata": {
        "id": "iCBbEkbAGjuq",
        "colab_type": "code",
        "colab": {
          "base_uri": "https://localhost:8080/",
          "height": 35
        },
        "outputId": "078108c9-353b-411d-e0c9-27c74e772cbd"
      },
      "source": [
        "print(type(x),x)"
      ],
      "execution_count": null,
      "outputs": [
        {
          "output_type": "stream",
          "text": [
            "<class 'int'> 1\n"
          ],
          "name": "stdout"
        }
      ]
    },
    {
      "cell_type": "code",
      "metadata": {
        "id": "ienGRPq9G0w9",
        "colab_type": "code",
        "colab": {
          "base_uri": "https://localhost:8080/",
          "height": 35
        },
        "outputId": "c5ee3584-2ad1-436a-c0a3-a43f0fef9de8"
      },
      "source": [
        "if x>0:\n",
        "    a=1\n",
        "    b=3\n",
        "    c=a+b\n",
        "else:\n",
        "    a=-1\n",
        "    b=-2\n",
        "    c=a-b\n",
        "print(c)"
      ],
      "execution_count": null,
      "outputs": [
        {
          "output_type": "stream",
          "text": [
            "4\n"
          ],
          "name": "stdout"
        }
      ]
    },
    {
      "cell_type": "markdown",
      "metadata": {
        "id": "EZ_dhTLpIuwL",
        "colab_type": "text"
      },
      "source": [
        "##표준 라이브러리"
      ]
    },
    {
      "cell_type": "markdown",
      "metadata": {
        "id": "IlVo17gaJzso",
        "colab_type": "text"
      },
      "source": [
        "python 라이브러리를 불러와서 사용하는 방법으로 import 함수를 사용한다. 예를 들어 import.math 를 쓰면 math 라이브러리를 불러서 사용하고 그 아래에 math에 등록된 여러 함수들을 사용할 수 있다.\n",
        "\n",
        "1.   항목 추가\n",
        "2.   항목 추가\n",
        "\n"
      ]
    },
    {
      "cell_type": "code",
      "metadata": {
        "id": "ddHL1FxbIppr",
        "colab_type": "code",
        "colab": {}
      },
      "source": [
        "import math"
      ],
      "execution_count": null,
      "outputs": []
    },
    {
      "cell_type": "code",
      "metadata": {
        "id": "ozKfHiGRJPOJ",
        "colab_type": "code",
        "colab": {}
      },
      "source": [
        "n=math.sqrt(9)"
      ],
      "execution_count": null,
      "outputs": []
    },
    {
      "cell_type": "code",
      "metadata": {
        "id": "pZzwJt3hJnNu",
        "colab_type": "code",
        "colab": {
          "base_uri": "https://localhost:8080/",
          "height": 35
        },
        "outputId": "e763768c-49a1-4927-929b-a9da1c2868e4"
      },
      "source": [
        "print(type(n),n)"
      ],
      "execution_count": null,
      "outputs": [
        {
          "output_type": "stream",
          "text": [
            "<class 'float'> 3.0\n"
          ],
          "name": "stdout"
        }
      ]
    },
    {
      "cell_type": "markdown",
      "metadata": {
        "id": "HtKnmMUhK3x3",
        "colab_type": "text"
      },
      "source": [
        "##주석(코멘트) 사용"
      ]
    },
    {
      "cell_type": "markdown",
      "metadata": {
        "id": "QFFrl-9WLDgn",
        "colab_type": "text"
      },
      "source": [
        "코드작성중 코드에 대한 설명을 적는 방법으로 사용함. #주석으로 하나씩 작성해도 되고, ''' 내용 ''' 으로 범위내 주석처리를 할 수도 있다."
      ]
    },
    {
      "cell_type": "code",
      "metadata": {
        "id": "on7wXkKSKOxw",
        "colab_type": "code",
        "colab": {
          "base_uri": "https://localhost:8080/",
          "height": 35
        },
        "outputId": "fdc651a5-da0d-4bbd-dd45-e3f0f105f6c2"
      },
      "source": [
        "# 코멘트\n",
        "print(n) # print"
      ],
      "execution_count": null,
      "outputs": [
        {
          "output_type": "stream",
          "text": [
            "3.0\n"
          ],
          "name": "stdout"
        }
      ]
    },
    {
      "cell_type": "code",
      "metadata": {
        "id": "d6_yHGSJKriw",
        "colab_type": "code",
        "colab": {
          "base_uri": "https://localhost:8080/",
          "height": 35
        },
        "outputId": "7f777422-3040-46e1-f241-6f79ca986b02"
      },
      "source": [
        "'''\n",
        "주석\n",
        "print(x)\n",
        "print(a)\n",
        "'''"
      ],
      "execution_count": null,
      "outputs": [
        {
          "output_type": "execute_result",
          "data": {
            "application/vnd.google.colaboratory.intrinsic+json": {
              "type": "string"
            },
            "text/plain": [
              "'\\n주석\\nprint(x)\\nprint(a)\\n'"
            ]
          },
          "metadata": {
            "tags": []
          },
          "execution_count": 15
        }
      ]
    },
    {
      "cell_type": "markdown",
      "metadata": {
        "id": "Rz3aZsLXLjok",
        "colab_type": "text"
      },
      "source": [
        "##타입"
      ]
    },
    {
      "cell_type": "markdown",
      "metadata": {
        "id": "P500S4zHMqHA",
        "colab_type": "text"
      },
      "source": [
        "int = 정수, float = 실수, inf = 무한대, bool = True 및 False 연산자임, 0은 False이고 0이 아닌 모든 것은 True이다.\n",
        "복소수는 j로 표현한다."
      ]
    },
    {
      "cell_type": "code",
      "metadata": {
        "id": "216MrNFkLTOz",
        "colab_type": "code",
        "colab": {
          "base_uri": "https://localhost:8080/",
          "height": 35
        },
        "outputId": "5d9e54f4-a7da-46bc-9531-d98d4f6885fb"
      },
      "source": [
        "x=int(3.5)\n",
        "print(type(x),x)"
      ],
      "execution_count": null,
      "outputs": [
        {
          "output_type": "stream",
          "text": [
            "<class 'int'> 3\n"
          ],
          "name": "stdout"
        }
      ]
    },
    {
      "cell_type": "code",
      "metadata": {
        "id": "bCfNh9A-Loe5",
        "colab_type": "code",
        "colab": {
          "base_uri": "https://localhost:8080/",
          "height": 35
        },
        "outputId": "98fe7ffd-bcab-43d1-fd11-4084fd6fd6a1"
      },
      "source": [
        "2e3"
      ],
      "execution_count": null,
      "outputs": [
        {
          "output_type": "execute_result",
          "data": {
            "text/plain": [
              "2000.0"
            ]
          },
          "metadata": {
            "tags": []
          },
          "execution_count": 17
        }
      ]
    },
    {
      "cell_type": "code",
      "metadata": {
        "id": "mzvYYJEuLrML",
        "colab_type": "code",
        "colab": {
          "base_uri": "https://localhost:8080/",
          "height": 35
        },
        "outputId": "b12127cb-638a-4f8e-82b3-dc200e9ed7f0"
      },
      "source": [
        "y='stress'\n",
        "type(y)\n"
      ],
      "execution_count": null,
      "outputs": [
        {
          "output_type": "execute_result",
          "data": {
            "text/plain": [
              "str"
            ]
          },
          "metadata": {
            "tags": []
          },
          "execution_count": 18
        }
      ]
    },
    {
      "cell_type": "code",
      "metadata": {
        "id": "GW3QZubSMA4e",
        "colab_type": "code",
        "colab": {
          "base_uri": "https://localhost:8080/",
          "height": 35
        },
        "outputId": "bd439e55-0779-4ac3-88c5-a19cd81676a1"
      },
      "source": [
        "x='12.3'\n",
        "print(type(x),x)"
      ],
      "execution_count": null,
      "outputs": [
        {
          "output_type": "stream",
          "text": [
            "<class 'str'> 12.3\n"
          ],
          "name": "stdout"
        }
      ]
    },
    {
      "cell_type": "code",
      "metadata": {
        "id": "SS5VGtOrMMb8",
        "colab_type": "code",
        "colab": {
          "base_uri": "https://localhost:8080/",
          "height": 35
        },
        "outputId": "f936b2d7-02a6-4531-8f89-dfb3a08dc71f"
      },
      "source": [
        "y=float(x)\n",
        "print(type(y),y)"
      ],
      "execution_count": null,
      "outputs": [
        {
          "output_type": "stream",
          "text": [
            "<class 'float'> 12.3\n"
          ],
          "name": "stdout"
        }
      ]
    },
    {
      "cell_type": "code",
      "metadata": {
        "id": "Qs8RexzDM7WW",
        "colab_type": "code",
        "colab": {
          "base_uri": "https://localhost:8080/",
          "height": 35
        },
        "outputId": "81cb8f79-80a3-460c-9178-5ec54194ff5b"
      },
      "source": [
        "y='inf'\n",
        "float(y)"
      ],
      "execution_count": null,
      "outputs": [
        {
          "output_type": "execute_result",
          "data": {
            "text/plain": [
              "inf"
            ]
          },
          "metadata": {
            "tags": []
          },
          "execution_count": 28
        }
      ]
    },
    {
      "cell_type": "code",
      "metadata": {
        "id": "axAQWTCsNMS9",
        "colab_type": "code",
        "colab": {
          "base_uri": "https://localhost:8080/",
          "height": 35
        },
        "outputId": "bc2f5049-c633-41ed-d078-a90708d8a16f"
      },
      "source": [
        "x=True\n",
        "y=False\n",
        "type(x)\n"
      ],
      "execution_count": null,
      "outputs": [
        {
          "output_type": "execute_result",
          "data": {
            "text/plain": [
              "bool"
            ]
          },
          "metadata": {
            "tags": []
          },
          "execution_count": 30
        }
      ]
    },
    {
      "cell_type": "code",
      "metadata": {
        "id": "baCMZVxWOEGV",
        "colab_type": "code",
        "colab": {
          "base_uri": "https://localhost:8080/",
          "height": 35
        },
        "outputId": "f303dd96-648d-423b-eb5c-21ce1ba1d0a1"
      },
      "source": [
        "bool(a)\n",
        "bool(0)"
      ],
      "execution_count": null,
      "outputs": [
        {
          "output_type": "execute_result",
          "data": {
            "text/plain": [
              "False"
            ]
          },
          "metadata": {
            "tags": []
          },
          "execution_count": 32
        }
      ]
    },
    {
      "cell_type": "code",
      "metadata": {
        "id": "8w8venWrPnW0",
        "colab_type": "code",
        "colab": {
          "base_uri": "https://localhost:8080/",
          "height": 35
        },
        "outputId": "fe6aa8e4-57db-4cbd-cc39-bfb69a2ce4ff"
      },
      "source": [
        "v=2+3j\n",
        "print(type(v),v)"
      ],
      "execution_count": null,
      "outputs": [
        {
          "output_type": "stream",
          "text": [
            "<class 'complex'> (2+3j)\n"
          ],
          "name": "stdout"
        }
      ]
    },
    {
      "cell_type": "code",
      "metadata": {
        "id": "Hi3v627vPttb",
        "colab_type": "code",
        "colab": {
          "base_uri": "https://localhost:8080/",
          "height": 35
        },
        "outputId": "2ba9f532-dae4-4bfd-d0a0-903234f3f1bb"
      },
      "source": [
        "v.real\n",
        "v.imag"
      ],
      "execution_count": null,
      "outputs": [
        {
          "output_type": "execute_result",
          "data": {
            "text/plain": [
              "3.0"
            ]
          },
          "metadata": {
            "tags": []
          },
          "execution_count": 36
        }
      ]
    },
    {
      "cell_type": "markdown",
      "metadata": {
        "id": "WWSw928bQrq5",
        "colab_type": "text"
      },
      "source": [
        "##연산자"
      ]
    },
    {
      "cell_type": "markdown",
      "metadata": {
        "id": "_ROjr3-IQ2hf",
        "colab_type": "text"
      },
      "source": [
        "산술연산자 : 사칙연산, %연산자는 나눗셈의 나머지, //연산자는 나눗셈의 몫을 나타낸다.     \n",
        "비교연산자 : 관계연산자라고 불림, 등호 및 부등호==, !=, <, <=, 비교연산자를 쓰면 bool연산자로 결과가 나온다.    \n",
        "할당연산자 : 변수를 지정하기 위해서 사용. x=1 과 같이 정의 .    \n",
        "논리연산자 : and or not, and는 모두 참, or은 한쪽만 참, not은 참이면 거짓으로 거짓으면 참으로 바꿈    \n",
        "bitwise 연산자 : 이진수로 바꿈 bin(a), &(and)같으면 같은거 그대로, |(or)다르것만  1으로, ^(xor)같은건 1 다르면 0, ~(complement), >> (shift 등)    \n",
        "멤버쉽연산자 : in, not in이며, 리스트 안에 포함됬는지 여부를 확인\n",
        "identity연산자 : is, is not연산자가 있다."
      ]
    },
    {
      "cell_type": "code",
      "metadata": {
        "id": "wm2WftqqRFEf",
        "colab_type": "code",
        "colab": {
          "base_uri": "https://localhost:8080/",
          "height": 35
        },
        "outputId": "1cf9cf12-68c1-4b59-83bd-fc8faaf62c02"
      },
      "source": [
        "5+2"
      ],
      "execution_count": null,
      "outputs": [
        {
          "output_type": "execute_result",
          "data": {
            "text/plain": [
              "7"
            ]
          },
          "metadata": {
            "tags": []
          },
          "execution_count": 38
        }
      ]
    },
    {
      "cell_type": "code",
      "metadata": {
        "id": "mBajvXM-RH6n",
        "colab_type": "code",
        "colab": {
          "base_uri": "https://localhost:8080/",
          "height": 35
        },
        "outputId": "c56eecab-d2a4-4ab3-b2f5-77f248c75558"
      },
      "source": [
        "5-3"
      ],
      "execution_count": null,
      "outputs": [
        {
          "output_type": "execute_result",
          "data": {
            "text/plain": [
              "2"
            ]
          },
          "metadata": {
            "tags": []
          },
          "execution_count": 39
        }
      ]
    },
    {
      "cell_type": "code",
      "metadata": {
        "id": "hiqRHLHDRIic",
        "colab_type": "code",
        "colab": {
          "base_uri": "https://localhost:8080/",
          "height": 35
        },
        "outputId": "e43cd304-9acd-4850-984c-6f269b58acec"
      },
      "source": [
        "5/3"
      ],
      "execution_count": null,
      "outputs": [
        {
          "output_type": "execute_result",
          "data": {
            "text/plain": [
              "1.6666666666666667"
            ]
          },
          "metadata": {
            "tags": []
          },
          "execution_count": 40
        }
      ]
    },
    {
      "cell_type": "code",
      "metadata": {
        "id": "_moh9XSdRJ5X",
        "colab_type": "code",
        "colab": {
          "base_uri": "https://localhost:8080/",
          "height": 35
        },
        "outputId": "9e0bfc6c-e6ab-439f-ceec-78667360f6e0"
      },
      "source": [
        "5*4"
      ],
      "execution_count": null,
      "outputs": [
        {
          "output_type": "execute_result",
          "data": {
            "text/plain": [
              "20"
            ]
          },
          "metadata": {
            "tags": []
          },
          "execution_count": 41
        }
      ]
    },
    {
      "cell_type": "code",
      "metadata": {
        "id": "Gjun4UVlRLgp",
        "colab_type": "code",
        "colab": {
          "base_uri": "https://localhost:8080/",
          "height": 35
        },
        "outputId": "9b23cffc-c096-4d74-ea74-a2e201954cb7"
      },
      "source": [
        "5%2"
      ],
      "execution_count": null,
      "outputs": [
        {
          "output_type": "execute_result",
          "data": {
            "text/plain": [
              "1"
            ]
          },
          "metadata": {
            "tags": []
          },
          "execution_count": 42
        }
      ]
    },
    {
      "cell_type": "code",
      "metadata": {
        "id": "tho74spRRaA6",
        "colab_type": "code",
        "colab": {
          "base_uri": "https://localhost:8080/",
          "height": 35
        },
        "outputId": "68c61288-fce8-43fc-87e5-c9752604c1f0"
      },
      "source": [
        "5//2"
      ],
      "execution_count": null,
      "outputs": [
        {
          "output_type": "execute_result",
          "data": {
            "text/plain": [
              "2"
            ]
          },
          "metadata": {
            "tags": []
          },
          "execution_count": 43
        }
      ]
    },
    {
      "cell_type": "code",
      "metadata": {
        "id": "BG-WN1pjRjgn",
        "colab_type": "code",
        "colab": {
          "base_uri": "https://localhost:8080/",
          "height": 35
        },
        "outputId": "b7026b52-13f5-4a1c-9478-9de38a4d5f05"
      },
      "source": [
        "2>=4"
      ],
      "execution_count": null,
      "outputs": [
        {
          "output_type": "execute_result",
          "data": {
            "text/plain": [
              "False"
            ]
          },
          "metadata": {
            "tags": []
          },
          "execution_count": 44
        }
      ]
    },
    {
      "cell_type": "code",
      "metadata": {
        "id": "LnHthnkMTCSn",
        "colab_type": "code",
        "colab": {}
      },
      "source": [
        "a=2"
      ],
      "execution_count": null,
      "outputs": []
    },
    {
      "cell_type": "code",
      "metadata": {
        "id": "xjuMaI4cS-45",
        "colab_type": "code",
        "colab": {
          "base_uri": "https://localhost:8080/",
          "height": 35
        },
        "outputId": "63b9963e-63f1-4602-c426-88c699f07cbc"
      },
      "source": [
        "a= a*10\n",
        "print(a)"
      ],
      "execution_count": null,
      "outputs": [
        {
          "output_type": "stream",
          "text": [
            "20\n"
          ],
          "name": "stdout"
        }
      ]
    },
    {
      "cell_type": "code",
      "metadata": {
        "id": "a-sxjCYATlu6",
        "colab_type": "code",
        "colab": {
          "base_uri": "https://localhost:8080/",
          "height": 35
        },
        "outputId": "515759f8-0560-49bd-e1c6-efd82d0da669"
      },
      "source": [
        "a*=10 #위의 a=a*10과 같은 표현\n",
        "print(a)"
      ],
      "execution_count": null,
      "outputs": [
        {
          "output_type": "stream",
          "text": [
            "20\n"
          ],
          "name": "stdout"
        }
      ]
    },
    {
      "cell_type": "code",
      "metadata": {
        "id": "s235RkD6UJVc",
        "colab_type": "code",
        "colab": {
          "base_uri": "https://localhost:8080/",
          "height": 35
        },
        "outputId": "72f9dca9-6e21-490f-f8b2-66c166445b0b"
      },
      "source": [
        "0 or 1"
      ],
      "execution_count": null,
      "outputs": [
        {
          "output_type": "execute_result",
          "data": {
            "text/plain": [
              "1"
            ]
          },
          "metadata": {
            "tags": []
          },
          "execution_count": 60
        }
      ]
    },
    {
      "cell_type": "code",
      "metadata": {
        "id": "5IiR6F4nUfok",
        "colab_type": "code",
        "colab": {
          "base_uri": "https://localhost:8080/",
          "height": 35
        },
        "outputId": "d8fd42ce-bb95-4161-e557-714d4e25c7c0"
      },
      "source": [
        "not 1"
      ],
      "execution_count": null,
      "outputs": [
        {
          "output_type": "execute_result",
          "data": {
            "text/plain": [
              "False"
            ]
          },
          "metadata": {
            "tags": []
          },
          "execution_count": 63
        }
      ]
    },
    {
      "cell_type": "code",
      "metadata": {
        "id": "w_tcbMzBUhr7",
        "colab_type": "code",
        "colab": {
          "base_uri": "https://localhost:8080/",
          "height": 35
        },
        "outputId": "03cae439-d897-4f72-9173-d6aba3e6875f"
      },
      "source": [
        "not 0"
      ],
      "execution_count": null,
      "outputs": [
        {
          "output_type": "execute_result",
          "data": {
            "text/plain": [
              "True"
            ]
          },
          "metadata": {
            "tags": []
          },
          "execution_count": 64
        }
      ]
    },
    {
      "cell_type": "code",
      "metadata": {
        "id": "z5iAEbCXU2rC",
        "colab_type": "code",
        "colab": {}
      },
      "source": [
        "x=True\n",
        "y=False"
      ],
      "execution_count": null,
      "outputs": []
    },
    {
      "cell_type": "code",
      "metadata": {
        "id": "yE397KDBU8Yb",
        "colab_type": "code",
        "colab": {
          "base_uri": "https://localhost:8080/",
          "height": 35
        },
        "outputId": "4aa7e0c8-1fe4-43a9-931d-2143fafcfb41"
      },
      "source": [
        "if x and y:\n",
        "    print('yes')\n",
        "else:\n",
        "    print('no')\n"
      ],
      "execution_count": null,
      "outputs": [
        {
          "output_type": "stream",
          "text": [
            "no\n"
          ],
          "name": "stdout"
        }
      ]
    },
    {
      "cell_type": "code",
      "metadata": {
        "id": "OHBoW0awVMqt",
        "colab_type": "code",
        "colab": {
          "base_uri": "https://localhost:8080/",
          "height": 35
        },
        "outputId": "9d264c4d-af60-4bfb-a528-6fa685127224"
      },
      "source": [
        "a=8 \n",
        "bin(a)"
      ],
      "execution_count": null,
      "outputs": [
        {
          "output_type": "execute_result",
          "data": {
            "application/vnd.google.colaboratory.intrinsic+json": {
              "type": "string"
            },
            "text/plain": [
              "'0b1000'"
            ]
          },
          "metadata": {
            "tags": []
          },
          "execution_count": 68
        }
      ]
    },
    {
      "cell_type": "code",
      "metadata": {
        "id": "7Anq5a6kXZD4",
        "colab_type": "code",
        "colab": {
          "base_uri": "https://localhost:8080/",
          "height": 35
        },
        "outputId": "77243230-bd7c-47b1-e8c2-bd1e509c1ed4"
      },
      "source": [
        "b=11\n",
        "bin(b)"
      ],
      "execution_count": null,
      "outputs": [
        {
          "output_type": "execute_result",
          "data": {
            "application/vnd.google.colaboratory.intrinsic+json": {
              "type": "string"
            },
            "text/plain": [
              "'0b1011'"
            ]
          },
          "metadata": {
            "tags": []
          },
          "execution_count": 69
        }
      ]
    },
    {
      "cell_type": "code",
      "metadata": {
        "id": "YFjDw4fXXkmy",
        "colab_type": "code",
        "colab": {
          "base_uri": "https://localhost:8080/",
          "height": 35
        },
        "outputId": "1233553a-47c1-4108-bb3e-e4c1dd848c0c"
      },
      "source": [
        "a&b"
      ],
      "execution_count": null,
      "outputs": [
        {
          "output_type": "execute_result",
          "data": {
            "text/plain": [
              "8"
            ]
          },
          "metadata": {
            "tags": []
          },
          "execution_count": 70
        }
      ]
    },
    {
      "cell_type": "code",
      "metadata": {
        "id": "Hwk1T2ANXkfF",
        "colab_type": "code",
        "colab": {
          "base_uri": "https://localhost:8080/",
          "height": 35
        },
        "outputId": "d12a6a46-a697-4cc3-b648-7e5322db1cef"
      },
      "source": [
        "a=[1,2,3,4,5]\n",
        "print(type(a),a)"
      ],
      "execution_count": null,
      "outputs": [
        {
          "output_type": "stream",
          "text": [
            "<class 'list'> [1, 2, 3, 4, 5]\n"
          ],
          "name": "stdout"
        }
      ]
    },
    {
      "cell_type": "code",
      "metadata": {
        "id": "8AMOdfgWa1kG",
        "colab_type": "code",
        "colab": {
          "base_uri": "https://localhost:8080/",
          "height": 35
        },
        "outputId": "393506a3-291e-48cc-e208-d33955fd3b77"
      },
      "source": [
        "b=3 in a\n",
        "print(b)"
      ],
      "execution_count": null,
      "outputs": [
        {
          "output_type": "stream",
          "text": [
            "True\n"
          ],
          "name": "stdout"
        }
      ]
    },
    {
      "cell_type": "code",
      "metadata": {
        "id": "wvJEjqduZzEk",
        "colab_type": "code",
        "colab": {
          "base_uri": "https://localhost:8080/",
          "height": 35
        },
        "outputId": "1128741b-3ab5-4215-f438-9ff9357538c1"
      },
      "source": [
        "b=[[1,2,3],[4,5,6],[7,8,9]]\n",
        "print(type(b),b)"
      ],
      "execution_count": null,
      "outputs": [
        {
          "output_type": "stream",
          "text": [
            "<class 'list'> [[1, 2, 3], [4, 5, 6], [7, 8, 9]]\n"
          ],
          "name": "stdout"
        }
      ]
    },
    {
      "cell_type": "code",
      "metadata": {
        "id": "wmNJ99aEaps7",
        "colab_type": "code",
        "colab": {
          "base_uri": "https://localhost:8080/",
          "height": 172
        },
        "outputId": "dcc3470d-8cf8-429a-b8ec-f3476c876921"
      },
      "source": [
        "shape(list)"
      ],
      "execution_count": null,
      "outputs": [
        {
          "output_type": "error",
          "ename": "NameError",
          "evalue": "ignored",
          "traceback": [
            "\u001b[0;31m---------------------------------------------------------------------------\u001b[0m",
            "\u001b[0;31mNameError\u001b[0m                                 Traceback (most recent call last)",
            "\u001b[0;32m<ipython-input-76-b92c433d5a27>\u001b[0m in \u001b[0;36m<module>\u001b[0;34m()\u001b[0m\n\u001b[0;32m----> 1\u001b[0;31m \u001b[0mshape\u001b[0m\u001b[0;34m(\u001b[0m\u001b[0mlist\u001b[0m\u001b[0;34m)\u001b[0m\u001b[0;34m\u001b[0m\u001b[0;34m\u001b[0m\u001b[0m\n\u001b[0m",
            "\u001b[0;31mNameError\u001b[0m: name 'shape' is not defined"
          ]
        }
      ]
    }
  ]
}