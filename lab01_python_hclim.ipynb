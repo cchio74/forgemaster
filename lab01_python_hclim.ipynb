{
  "nbformat": 4,
  "nbformat_minor": 0,
  "metadata": {
    "colab": {
      "name": "lab01_python_hclim.ipynb",
      "provenance": [],
      "toc_visible": true,
      "authorship_tag": "ABX9TyM40lmSzTEov/shOO+z9dEx",
      "include_colab_link": true
    },
    "kernelspec": {
      "name": "python3",
      "display_name": "Python 3"
    }
  },
  "cells": [
    {
      "cell_type": "markdown",
      "metadata": {
        "id": "view-in-github",
        "colab_type": "text"
      },
      "source": [
        "<a href=\"https://colab.research.google.com/github/cchio74/forgemaster/blob/master/lab01_python_hclim.ipynb\" target=\"_parent\"><img src=\"https://colab.research.google.com/assets/colab-badge.svg\" alt=\"Open In Colab\"/></a>"
      ]
    },
    {
      "cell_type": "markdown",
      "metadata": {
        "id": "TyrCfEhUFoiQ",
        "colab_type": "text"
      },
      "source": [
        "#python 실습"
      ]
    },
    {
      "cell_type": "markdown",
      "metadata": {
        "id": "8j5US5Igcagm",
        "colab_type": "text"
      },
      "source": [
        "점프 투 파이썬 : 처음 접할때 쉽게 설명\n",
        "예제로 배우는 파이썬 프로그래밍 : 이것 저것 많음"
      ]
    },
    {
      "cell_type": "markdown",
      "metadata": {
        "id": "n5pd0GiTIWy1",
        "colab_type": "text"
      },
      "source": [
        "##들여쓰기 규칙\n"
      ]
    },
    {
      "cell_type": "code",
      "metadata": {
        "id": "gOdG84bHF-Ai",
        "colab_type": "code",
        "colab": {}
      },
      "source": [
        "x=1"
      ],
      "execution_count": null,
      "outputs": []
    },
    {
      "cell_type": "code",
      "metadata": {
        "id": "iCBbEkbAGjuq",
        "colab_type": "code",
        "colab": {
          "base_uri": "https://localhost:8080/",
          "height": 35
        },
        "outputId": "078108c9-353b-411d-e0c9-27c74e772cbd"
      },
      "source": [
        "print(type(x),x)"
      ],
      "execution_count": null,
      "outputs": [
        {
          "output_type": "stream",
          "text": [
            "<class 'int'> 1\n"
          ],
          "name": "stdout"
        }
      ]
    },
    {
      "cell_type": "code",
      "metadata": {
        "id": "ienGRPq9G0w9",
        "colab_type": "code",
        "colab": {
          "base_uri": "https://localhost:8080/",
          "height": 35
        },
        "outputId": "c5ee3584-2ad1-436a-c0a3-a43f0fef9de8"
      },
      "source": [
        "if x>0:\n",
        "    a=1\n",
        "    b=3\n",
        "    c=a+b\n",
        "else:\n",
        "    a=-1\n",
        "    b=-2\n",
        "    c=a-b\n",
        "print(c)"
      ],
      "execution_count": null,
      "outputs": [
        {
          "output_type": "stream",
          "text": [
            "4\n"
          ],
          "name": "stdout"
        }
      ]
    },
    {
      "cell_type": "markdown",
      "metadata": {
        "id": "EZ_dhTLpIuwL",
        "colab_type": "text"
      },
      "source": [
        "##표준 라이브러리"
      ]
    },
    {
      "cell_type": "markdown",
      "metadata": {
        "id": "IlVo17gaJzso",
        "colab_type": "text"
      },
      "source": [
        "python 라이브러리를 불러와서 사용하는 방법으로 import 함수를 사용한다. 예를 들어 import.math 를 쓰면 math 라이브러리를 불러서 사용하고 그 아래에 math에 등록된 여러 함수들을 사용할 수 있다.\n",
        "\n",
        "1.   항목 추가\n",
        "2.   항목 추가\n",
        "\n"
      ]
    },
    {
      "cell_type": "code",
      "metadata": {
        "id": "ddHL1FxbIppr",
        "colab_type": "code",
        "colab": {}
      },
      "source": [
        "import math"
      ],
      "execution_count": null,
      "outputs": []
    },
    {
      "cell_type": "code",
      "metadata": {
        "id": "ozKfHiGRJPOJ",
        "colab_type": "code",
        "colab": {}
      },
      "source": [
        "n=math.sqrt(9)"
      ],
      "execution_count": null,
      "outputs": []
    },
    {
      "cell_type": "code",
      "metadata": {
        "id": "pZzwJt3hJnNu",
        "colab_type": "code",
        "colab": {
          "base_uri": "https://localhost:8080/",
          "height": 35
        },
        "outputId": "e763768c-49a1-4927-929b-a9da1c2868e4"
      },
      "source": [
        "print(type(n),n)"
      ],
      "execution_count": null,
      "outputs": [
        {
          "output_type": "stream",
          "text": [
            "<class 'float'> 3.0\n"
          ],
          "name": "stdout"
        }
      ]
    },
    {
      "cell_type": "markdown",
      "metadata": {
        "id": "HtKnmMUhK3x3",
        "colab_type": "text"
      },
      "source": [
        "##주석(코멘트) 사용"
      ]
    },
    {
      "cell_type": "markdown",
      "metadata": {
        "id": "QFFrl-9WLDgn",
        "colab_type": "text"
      },
      "source": [
        "코드작성중 코드에 대한 설명을 적는 방법으로 사용함. #주석으로 하나씩 작성해도 되고, ''' 내용 ''' 으로 범위내 주석처리를 할 수도 있다."
      ]
    },
    {
      "cell_type": "code",
      "metadata": {
        "id": "on7wXkKSKOxw",
        "colab_type": "code",
        "colab": {
          "base_uri": "https://localhost:8080/",
          "height": 35
        },
        "outputId": "fdc651a5-da0d-4bbd-dd45-e3f0f105f6c2"
      },
      "source": [
        "# 코멘트\n",
        "print(n) # print"
      ],
      "execution_count": null,
      "outputs": [
        {
          "output_type": "stream",
          "text": [
            "3.0\n"
          ],
          "name": "stdout"
        }
      ]
    },
    {
      "cell_type": "code",
      "metadata": {
        "id": "d6_yHGSJKriw",
        "colab_type": "code",
        "colab": {
          "base_uri": "https://localhost:8080/",
          "height": 35
        },
        "outputId": "7f777422-3040-46e1-f241-6f79ca986b02"
      },
      "source": [
        "'''\n",
        "주석\n",
        "print(x)\n",
        "print(a)\n",
        "'''"
      ],
      "execution_count": null,
      "outputs": [
        {
          "output_type": "execute_result",
          "data": {
            "application/vnd.google.colaboratory.intrinsic+json": {
              "type": "string"
            },
            "text/plain": [
              "'\\n주석\\nprint(x)\\nprint(a)\\n'"
            ]
          },
          "metadata": {
            "tags": []
          },
          "execution_count": 15
        }
      ]
    },
    {
      "cell_type": "markdown",
      "metadata": {
        "id": "Rz3aZsLXLjok",
        "colab_type": "text"
      },
      "source": [
        "##타입"
      ]
    },
    {
      "cell_type": "markdown",
      "metadata": {
        "id": "P500S4zHMqHA",
        "colab_type": "text"
      },
      "source": [
        "int = 정수, float = 실수, inf = 무한대, bool = True 및 False 연산자임, 0은 False이고 0이 아닌 모든 것은 True이다.\n",
        "복소수는 j로 표현한다."
      ]
    },
    {
      "cell_type": "code",
      "metadata": {
        "id": "216MrNFkLTOz",
        "colab_type": "code",
        "colab": {
          "base_uri": "https://localhost:8080/",
          "height": 35
        },
        "outputId": "5d9e54f4-a7da-46bc-9531-d98d4f6885fb"
      },
      "source": [
        "x=int(3.5)\n",
        "print(type(x),x)"
      ],
      "execution_count": null,
      "outputs": [
        {
          "output_type": "stream",
          "text": [
            "<class 'int'> 3\n"
          ],
          "name": "stdout"
        }
      ]
    },
    {
      "cell_type": "code",
      "metadata": {
        "id": "bCfNh9A-Loe5",
        "colab_type": "code",
        "colab": {
          "base_uri": "https://localhost:8080/",
          "height": 35
        },
        "outputId": "98fe7ffd-bcab-43d1-fd11-4084fd6fd6a1"
      },
      "source": [
        "2e3"
      ],
      "execution_count": null,
      "outputs": [
        {
          "output_type": "execute_result",
          "data": {
            "text/plain": [
              "2000.0"
            ]
          },
          "metadata": {
            "tags": []
          },
          "execution_count": 17
        }
      ]
    },
    {
      "cell_type": "code",
      "metadata": {
        "id": "mzvYYJEuLrML",
        "colab_type": "code",
        "colab": {
          "base_uri": "https://localhost:8080/",
          "height": 35
        },
        "outputId": "b12127cb-638a-4f8e-82b3-dc200e9ed7f0"
      },
      "source": [
        "y='stress'\n",
        "type(y)\n"
      ],
      "execution_count": null,
      "outputs": [
        {
          "output_type": "execute_result",
          "data": {
            "text/plain": [
              "str"
            ]
          },
          "metadata": {
            "tags": []
          },
          "execution_count": 18
        }
      ]
    },
    {
      "cell_type": "code",
      "metadata": {
        "id": "GW3QZubSMA4e",
        "colab_type": "code",
        "colab": {
          "base_uri": "https://localhost:8080/",
          "height": 35
        },
        "outputId": "bd439e55-0779-4ac3-88c5-a19cd81676a1"
      },
      "source": [
        "x='12.3'\n",
        "print(type(x),x)"
      ],
      "execution_count": null,
      "outputs": [
        {
          "output_type": "stream",
          "text": [
            "<class 'str'> 12.3\n"
          ],
          "name": "stdout"
        }
      ]
    },
    {
      "cell_type": "code",
      "metadata": {
        "id": "SS5VGtOrMMb8",
        "colab_type": "code",
        "colab": {
          "base_uri": "https://localhost:8080/",
          "height": 35
        },
        "outputId": "f936b2d7-02a6-4531-8f89-dfb3a08dc71f"
      },
      "source": [
        "y=float(x)\n",
        "print(type(y),y)"
      ],
      "execution_count": null,
      "outputs": [
        {
          "output_type": "stream",
          "text": [
            "<class 'float'> 12.3\n"
          ],
          "name": "stdout"
        }
      ]
    },
    {
      "cell_type": "code",
      "metadata": {
        "id": "Qs8RexzDM7WW",
        "colab_type": "code",
        "colab": {
          "base_uri": "https://localhost:8080/",
          "height": 35
        },
        "outputId": "81cb8f79-80a3-460c-9178-5ec54194ff5b"
      },
      "source": [
        "y='inf'\n",
        "float(y)"
      ],
      "execution_count": null,
      "outputs": [
        {
          "output_type": "execute_result",
          "data": {
            "text/plain": [
              "inf"
            ]
          },
          "metadata": {
            "tags": []
          },
          "execution_count": 28
        }
      ]
    },
    {
      "cell_type": "code",
      "metadata": {
        "id": "axAQWTCsNMS9",
        "colab_type": "code",
        "colab": {
          "base_uri": "https://localhost:8080/",
          "height": 35
        },
        "outputId": "bc2f5049-c633-41ed-d078-a90708d8a16f"
      },
      "source": [
        "x=True\n",
        "y=False\n",
        "type(x)\n"
      ],
      "execution_count": null,
      "outputs": [
        {
          "output_type": "execute_result",
          "data": {
            "text/plain": [
              "bool"
            ]
          },
          "metadata": {
            "tags": []
          },
          "execution_count": 30
        }
      ]
    },
    {
      "cell_type": "code",
      "metadata": {
        "id": "baCMZVxWOEGV",
        "colab_type": "code",
        "colab": {
          "base_uri": "https://localhost:8080/",
          "height": 35
        },
        "outputId": "f303dd96-648d-423b-eb5c-21ce1ba1d0a1"
      },
      "source": [
        "bool(a)\n",
        "bool(0)"
      ],
      "execution_count": null,
      "outputs": [
        {
          "output_type": "execute_result",
          "data": {
            "text/plain": [
              "False"
            ]
          },
          "metadata": {
            "tags": []
          },
          "execution_count": 32
        }
      ]
    },
    {
      "cell_type": "code",
      "metadata": {
        "id": "8w8venWrPnW0",
        "colab_type": "code",
        "colab": {
          "base_uri": "https://localhost:8080/",
          "height": 35
        },
        "outputId": "fe6aa8e4-57db-4cbd-cc39-bfb69a2ce4ff"
      },
      "source": [
        "v=2+3j\n",
        "print(type(v),v)"
      ],
      "execution_count": null,
      "outputs": [
        {
          "output_type": "stream",
          "text": [
            "<class 'complex'> (2+3j)\n"
          ],
          "name": "stdout"
        }
      ]
    },
    {
      "cell_type": "code",
      "metadata": {
        "id": "Hi3v627vPttb",
        "colab_type": "code",
        "colab": {
          "base_uri": "https://localhost:8080/",
          "height": 35
        },
        "outputId": "2ba9f532-dae4-4bfd-d0a0-903234f3f1bb"
      },
      "source": [
        "v.real\n",
        "v.imag"
      ],
      "execution_count": null,
      "outputs": [
        {
          "output_type": "execute_result",
          "data": {
            "text/plain": [
              "3.0"
            ]
          },
          "metadata": {
            "tags": []
          },
          "execution_count": 36
        }
      ]
    },
    {
      "cell_type": "markdown",
      "metadata": {
        "id": "WWSw928bQrq5",
        "colab_type": "text"
      },
      "source": [
        "##연산자"
      ]
    },
    {
      "cell_type": "markdown",
      "metadata": {
        "id": "_ROjr3-IQ2hf",
        "colab_type": "text"
      },
      "source": [
        "산술연산자 : 사칙연산, %연산자는 나눗셈의 나머지, //연산자는 나눗셈의 몫을 나타낸다.     \n",
        "비교연산자 : 관계연산자라고 불림, 등호 및 부등호==, !=, <, <=, 비교연산자를 쓰면 bool연산자로 결과가 나온다.    \n",
        "할당연산자 : 변수를 지정하기 위해서 사용. x=1 과 같이 정의 .    \n",
        "논리연산자 : and or not, and는 모두 참, or은 한쪽만 참, not은 참이면 거짓으로 거짓으면 참으로 바꿈    \n",
        "bitwise 연산자 : 이진수로 바꿈 bin(a), &(and)같으면 같은거 그대로, |(or)다르것만  1으로, ^(xor)같은건 1 다르면 0, ~(complement), >> (shift 등)    \n",
        "멤버쉽연산자 : in, not in이며, 리스트 안에 포함됬는지 여부를 확인\n",
        "identity연산자 : is, is not연산자가 있다."
      ]
    },
    {
      "cell_type": "code",
      "metadata": {
        "id": "wm2WftqqRFEf",
        "colab_type": "code",
        "colab": {
          "base_uri": "https://localhost:8080/",
          "height": 35
        },
        "outputId": "1cf9cf12-68c1-4b59-83bd-fc8faaf62c02"
      },
      "source": [
        "5+2"
      ],
      "execution_count": null,
      "outputs": [
        {
          "output_type": "execute_result",
          "data": {
            "text/plain": [
              "7"
            ]
          },
          "metadata": {
            "tags": []
          },
          "execution_count": 38
        }
      ]
    },
    {
      "cell_type": "code",
      "metadata": {
        "id": "mBajvXM-RH6n",
        "colab_type": "code",
        "colab": {
          "base_uri": "https://localhost:8080/",
          "height": 35
        },
        "outputId": "c56eecab-d2a4-4ab3-b2f5-77f248c75558"
      },
      "source": [
        "5-3"
      ],
      "execution_count": null,
      "outputs": [
        {
          "output_type": "execute_result",
          "data": {
            "text/plain": [
              "2"
            ]
          },
          "metadata": {
            "tags": []
          },
          "execution_count": 39
        }
      ]
    },
    {
      "cell_type": "code",
      "metadata": {
        "id": "hiqRHLHDRIic",
        "colab_type": "code",
        "colab": {
          "base_uri": "https://localhost:8080/",
          "height": 35
        },
        "outputId": "e43cd304-9acd-4850-984c-6f269b58acec"
      },
      "source": [
        "5/3"
      ],
      "execution_count": null,
      "outputs": [
        {
          "output_type": "execute_result",
          "data": {
            "text/plain": [
              "1.6666666666666667"
            ]
          },
          "metadata": {
            "tags": []
          },
          "execution_count": 40
        }
      ]
    },
    {
      "cell_type": "code",
      "metadata": {
        "id": "_moh9XSdRJ5X",
        "colab_type": "code",
        "colab": {
          "base_uri": "https://localhost:8080/",
          "height": 35
        },
        "outputId": "9e0bfc6c-e6ab-439f-ceec-78667360f6e0"
      },
      "source": [
        "5*4"
      ],
      "execution_count": null,
      "outputs": [
        {
          "output_type": "execute_result",
          "data": {
            "text/plain": [
              "20"
            ]
          },
          "metadata": {
            "tags": []
          },
          "execution_count": 41
        }
      ]
    },
    {
      "cell_type": "code",
      "metadata": {
        "id": "Gjun4UVlRLgp",
        "colab_type": "code",
        "colab": {
          "base_uri": "https://localhost:8080/",
          "height": 35
        },
        "outputId": "9b23cffc-c096-4d74-ea74-a2e201954cb7"
      },
      "source": [
        "5%2"
      ],
      "execution_count": null,
      "outputs": [
        {
          "output_type": "execute_result",
          "data": {
            "text/plain": [
              "1"
            ]
          },
          "metadata": {
            "tags": []
          },
          "execution_count": 42
        }
      ]
    },
    {
      "cell_type": "code",
      "metadata": {
        "id": "tho74spRRaA6",
        "colab_type": "code",
        "colab": {
          "base_uri": "https://localhost:8080/",
          "height": 35
        },
        "outputId": "68c61288-fce8-43fc-87e5-c9752604c1f0"
      },
      "source": [
        "5//2"
      ],
      "execution_count": null,
      "outputs": [
        {
          "output_type": "execute_result",
          "data": {
            "text/plain": [
              "2"
            ]
          },
          "metadata": {
            "tags": []
          },
          "execution_count": 43
        }
      ]
    },
    {
      "cell_type": "code",
      "metadata": {
        "id": "BG-WN1pjRjgn",
        "colab_type": "code",
        "colab": {
          "base_uri": "https://localhost:8080/",
          "height": 35
        },
        "outputId": "b7026b52-13f5-4a1c-9478-9de38a4d5f05"
      },
      "source": [
        "2>=4"
      ],
      "execution_count": null,
      "outputs": [
        {
          "output_type": "execute_result",
          "data": {
            "text/plain": [
              "False"
            ]
          },
          "metadata": {
            "tags": []
          },
          "execution_count": 44
        }
      ]
    },
    {
      "cell_type": "code",
      "metadata": {
        "id": "LnHthnkMTCSn",
        "colab_type": "code",
        "colab": {}
      },
      "source": [
        "a=2"
      ],
      "execution_count": null,
      "outputs": []
    },
    {
      "cell_type": "code",
      "metadata": {
        "id": "xjuMaI4cS-45",
        "colab_type": "code",
        "colab": {
          "base_uri": "https://localhost:8080/",
          "height": 35
        },
        "outputId": "63b9963e-63f1-4602-c426-88c699f07cbc"
      },
      "source": [
        "a= a*10\n",
        "print(a)"
      ],
      "execution_count": null,
      "outputs": [
        {
          "output_type": "stream",
          "text": [
            "20\n"
          ],
          "name": "stdout"
        }
      ]
    },
    {
      "cell_type": "code",
      "metadata": {
        "id": "a-sxjCYATlu6",
        "colab_type": "code",
        "colab": {
          "base_uri": "https://localhost:8080/",
          "height": 35
        },
        "outputId": "515759f8-0560-49bd-e1c6-efd82d0da669"
      },
      "source": [
        "a*=10 #위의 a=a*10과 같은 표현\n",
        "print(a)"
      ],
      "execution_count": null,
      "outputs": [
        {
          "output_type": "stream",
          "text": [
            "20\n"
          ],
          "name": "stdout"
        }
      ]
    },
    {
      "cell_type": "code",
      "metadata": {
        "id": "s235RkD6UJVc",
        "colab_type": "code",
        "colab": {
          "base_uri": "https://localhost:8080/",
          "height": 35
        },
        "outputId": "72f9dca9-6e21-490f-f8b2-66c166445b0b"
      },
      "source": [
        "0 or 1"
      ],
      "execution_count": null,
      "outputs": [
        {
          "output_type": "execute_result",
          "data": {
            "text/plain": [
              "1"
            ]
          },
          "metadata": {
            "tags": []
          },
          "execution_count": 60
        }
      ]
    },
    {
      "cell_type": "code",
      "metadata": {
        "id": "5IiR6F4nUfok",
        "colab_type": "code",
        "colab": {
          "base_uri": "https://localhost:8080/",
          "height": 35
        },
        "outputId": "d8fd42ce-bb95-4161-e557-714d4e25c7c0"
      },
      "source": [
        "not 1"
      ],
      "execution_count": null,
      "outputs": [
        {
          "output_type": "execute_result",
          "data": {
            "text/plain": [
              "False"
            ]
          },
          "metadata": {
            "tags": []
          },
          "execution_count": 63
        }
      ]
    },
    {
      "cell_type": "code",
      "metadata": {
        "id": "w_tcbMzBUhr7",
        "colab_type": "code",
        "colab": {
          "base_uri": "https://localhost:8080/",
          "height": 35
        },
        "outputId": "03cae439-d897-4f72-9173-d6aba3e6875f"
      },
      "source": [
        "not 0"
      ],
      "execution_count": null,
      "outputs": [
        {
          "output_type": "execute_result",
          "data": {
            "text/plain": [
              "True"
            ]
          },
          "metadata": {
            "tags": []
          },
          "execution_count": 64
        }
      ]
    },
    {
      "cell_type": "code",
      "metadata": {
        "id": "z5iAEbCXU2rC",
        "colab_type": "code",
        "colab": {}
      },
      "source": [
        "x=True\n",
        "y=False"
      ],
      "execution_count": null,
      "outputs": []
    },
    {
      "cell_type": "code",
      "metadata": {
        "id": "yE397KDBU8Yb",
        "colab_type": "code",
        "colab": {
          "base_uri": "https://localhost:8080/",
          "height": 35
        },
        "outputId": "4aa7e0c8-1fe4-43a9-931d-2143fafcfb41"
      },
      "source": [
        "if x and y:\n",
        "    print('yes')\n",
        "else:\n",
        "    print('no')\n"
      ],
      "execution_count": null,
      "outputs": [
        {
          "output_type": "stream",
          "text": [
            "no\n"
          ],
          "name": "stdout"
        }
      ]
    },
    {
      "cell_type": "code",
      "metadata": {
        "id": "OHBoW0awVMqt",
        "colab_type": "code",
        "colab": {
          "base_uri": "https://localhost:8080/",
          "height": 35
        },
        "outputId": "9d264c4d-af60-4bfb-a528-6fa685127224"
      },
      "source": [
        "a=8 \n",
        "bin(a)"
      ],
      "execution_count": null,
      "outputs": [
        {
          "output_type": "execute_result",
          "data": {
            "application/vnd.google.colaboratory.intrinsic+json": {
              "type": "string"
            },
            "text/plain": [
              "'0b1000'"
            ]
          },
          "metadata": {
            "tags": []
          },
          "execution_count": 68
        }
      ]
    },
    {
      "cell_type": "code",
      "metadata": {
        "id": "7Anq5a6kXZD4",
        "colab_type": "code",
        "colab": {
          "base_uri": "https://localhost:8080/",
          "height": 35
        },
        "outputId": "77243230-bd7c-47b1-e8c2-bd1e509c1ed4"
      },
      "source": [
        "b=11\n",
        "bin(b)"
      ],
      "execution_count": null,
      "outputs": [
        {
          "output_type": "execute_result",
          "data": {
            "application/vnd.google.colaboratory.intrinsic+json": {
              "type": "string"
            },
            "text/plain": [
              "'0b1011'"
            ]
          },
          "metadata": {
            "tags": []
          },
          "execution_count": 69
        }
      ]
    },
    {
      "cell_type": "code",
      "metadata": {
        "id": "YFjDw4fXXkmy",
        "colab_type": "code",
        "colab": {
          "base_uri": "https://localhost:8080/",
          "height": 35
        },
        "outputId": "1233553a-47c1-4108-bb3e-e4c1dd848c0c"
      },
      "source": [
        "a&b"
      ],
      "execution_count": null,
      "outputs": [
        {
          "output_type": "execute_result",
          "data": {
            "text/plain": [
              "8"
            ]
          },
          "metadata": {
            "tags": []
          },
          "execution_count": 70
        }
      ]
    },
    {
      "cell_type": "code",
      "metadata": {
        "id": "Hwk1T2ANXkfF",
        "colab_type": "code",
        "colab": {
          "base_uri": "https://localhost:8080/",
          "height": 35
        },
        "outputId": "d12a6a46-a697-4cc3-b648-7e5322db1cef"
      },
      "source": [
        "a=[1,2,3,4,5]\n",
        "print(type(a),a)"
      ],
      "execution_count": null,
      "outputs": [
        {
          "output_type": "stream",
          "text": [
            "<class 'list'> [1, 2, 3, 4, 5]\n"
          ],
          "name": "stdout"
        }
      ]
    },
    {
      "cell_type": "code",
      "metadata": {
        "id": "8AMOdfgWa1kG",
        "colab_type": "code",
        "colab": {
          "base_uri": "https://localhost:8080/",
          "height": 35
        },
        "outputId": "393506a3-291e-48cc-e208-d33955fd3b77"
      },
      "source": [
        "b=3 in a\n",
        "print(b)"
      ],
      "execution_count": null,
      "outputs": [
        {
          "output_type": "stream",
          "text": [
            "True\n"
          ],
          "name": "stdout"
        }
      ]
    },
    {
      "cell_type": "code",
      "metadata": {
        "id": "wvJEjqduZzEk",
        "colab_type": "code",
        "colab": {
          "base_uri": "https://localhost:8080/",
          "height": 35
        },
        "outputId": "1128741b-3ab5-4215-f438-9ff9357538c1"
      },
      "source": [
        "b=[[1,2,3],[4,5,6],[7,8,9]]\n",
        "print(type(b),b)"
      ],
      "execution_count": null,
      "outputs": [
        {
          "output_type": "stream",
          "text": [
            "<class 'list'> [[1, 2, 3], [4, 5, 6], [7, 8, 9]]\n"
          ],
          "name": "stdout"
        }
      ]
    },
    {
      "cell_type": "code",
      "metadata": {
        "id": "wmNJ99aEaps7",
        "colab_type": "code",
        "colab": {
          "base_uri": "https://localhost:8080/",
          "height": 172
        },
        "outputId": "dcc3470d-8cf8-429a-b8ec-f3476c876921"
      },
      "source": [
        "shape(list)"
      ],
      "execution_count": null,
      "outputs": [
        {
          "output_type": "error",
          "ename": "NameError",
          "evalue": "ignored",
          "traceback": [
            "\u001b[0;31m---------------------------------------------------------------------------\u001b[0m",
            "\u001b[0;31mNameError\u001b[0m                                 Traceback (most recent call last)",
            "\u001b[0;32m<ipython-input-76-b92c433d5a27>\u001b[0m in \u001b[0;36m<module>\u001b[0;34m()\u001b[0m\n\u001b[0;32m----> 1\u001b[0;31m \u001b[0mshape\u001b[0m\u001b[0;34m(\u001b[0m\u001b[0mlist\u001b[0m\u001b[0;34m)\u001b[0m\u001b[0;34m\u001b[0m\u001b[0;34m\u001b[0m\u001b[0m\n\u001b[0m",
            "\u001b[0;31mNameError\u001b[0m: name 'shape' is not defined"
          ]
        }
      ]
    },
    {
      "cell_type": "markdown",
      "metadata": {
        "id": "Pkt_BOw7aaJG",
        "colab_type": "text"
      },
      "source": [
        "##클래스\n"
      ]
    },
    {
      "cell_type": "markdown",
      "metadata": {
        "id": "-HpzYiyPbX3w",
        "colab_type": "text"
      },
      "source": [
        "- 파이썬은 OOP (object oriented programming)(객체지향프로그램)을 기본적으로 지원.\n",
        "- 계산기는 결과를 메모리 어딘가에 저장을 해두고 있다.\n",
        "- class : "
      ]
    },
    {
      "cell_type": "code",
      "metadata": {
        "id": "gY93_TTWaZeH",
        "colab_type": "code",
        "colab": {}
      },
      "source": [
        "result=0\n",
        "def add(num):\n",
        "    global result #밖에 result를 안으로 끌고 들어옴\n",
        "    result+= num\n",
        "    return result\n"
      ],
      "execution_count": 5,
      "outputs": []
    },
    {
      "cell_type": "code",
      "metadata": {
        "id": "WOaoEUNreEMe",
        "colab_type": "code",
        "colab": {
          "base_uri": "https://localhost:8080/",
          "height": 34
        },
        "outputId": "1f0b24a3-fc91-4e6c-e1e8-512497c2061f"
      },
      "source": [
        "add(1) #초기0에 +1"
      ],
      "execution_count": 6,
      "outputs": [
        {
          "output_type": "execute_result",
          "data": {
            "text/plain": [
              "1"
            ]
          },
          "metadata": {
            "tags": []
          },
          "execution_count": 6
        }
      ]
    },
    {
      "cell_type": "code",
      "metadata": {
        "id": "6H5TPmZKeNiI",
        "colab_type": "code",
        "colab": {
          "base_uri": "https://localhost:8080/",
          "height": 34
        },
        "outputId": "324df2f1-29a1-4ee7-b25f-17cebd3f269d"
      },
      "source": [
        "add(5) #바로 위 1이 저장되어 있고 그 값에 +5"
      ],
      "execution_count": 7,
      "outputs": [
        {
          "output_type": "execute_result",
          "data": {
            "text/plain": [
              "6"
            ]
          },
          "metadata": {
            "tags": []
          },
          "execution_count": 7
        }
      ]
    },
    {
      "cell_type": "markdown",
      "metadata": {
        "id": "qyl98Lnxe_iO",
        "colab_type": "text"
      },
      "source": [
        "계산기를 두개를 사용하고 싶은 경우 result1, result2를 만들어서 사용할 수 있음. \n",
        "그렇지만 100개 이상.. 많은 result가 필요한 경우?\n",
        "클래스를 사용해 보자\n",
        "함수는 def로 시작\n",
        "클래스는 class로 시작\n",
        "class 이후 대문자\n",
        "self 자리에 object명이 정의된다. \n",
        "self.result=0은 object를 정의하는 순간 그 오브젝트의 초기값이 0으로 입력된다."
      ]
    },
    {
      "cell_type": "code",
      "metadata": {
        "id": "BjkKfX8xemiS",
        "colab_type": "code",
        "colab": {}
      },
      "source": [
        "class Calculator:\n",
        "    def __init__(self):\n",
        "        self.result=0\n",
        "\n",
        "    def add(self,num):\n",
        "        self.result+=num\n",
        "        return self.result    \n",
        "\n",
        "    def sub(self,num):\n",
        "        self.result-=num\n",
        "        return self.result"
      ],
      "execution_count": 18,
      "outputs": []
    },
    {
      "cell_type": "markdown",
      "metadata": {
        "id": "1w-Ucd91gPyk",
        "colab_type": "text"
      },
      "source": [
        "object는 cal1, cal2 ..."
      ]
    },
    {
      "cell_type": "code",
      "metadata": {
        "id": "4UoZ7B9kgHod",
        "colab_type": "code",
        "colab": {}
      },
      "source": [
        "cal1=Calculator() #Calculator 클래스를 참조한는 object cal을 정의해줌. 이는 앞으로 독립적인 object로 사용됨\n",
        "cal2=Calculator()"
      ],
      "execution_count": 19,
      "outputs": []
    },
    {
      "cell_type": "code",
      "metadata": {
        "id": "MwQJQVQeg4Gl",
        "colab_type": "code",
        "colab": {
          "base_uri": "https://localhost:8080/",
          "height": 34
        },
        "outputId": "8f081efd-1657-4d3b-c478-28586e0ce9ab"
      },
      "source": [
        "cal1.result"
      ],
      "execution_count": 10,
      "outputs": [
        {
          "output_type": "execute_result",
          "data": {
            "text/plain": [
              "0"
            ]
          },
          "metadata": {
            "tags": []
          },
          "execution_count": 10
        }
      ]
    },
    {
      "cell_type": "code",
      "metadata": {
        "id": "Vcpy9aaxhdpr",
        "colab_type": "code",
        "colab": {
          "base_uri": "https://localhost:8080/",
          "height": 34
        },
        "outputId": "3d44c997-92fc-498f-ce13-407856153cb3"
      },
      "source": [
        "cal1.add(10) #cal1의 초기값 0에 + 10"
      ],
      "execution_count": 11,
      "outputs": [
        {
          "output_type": "execute_result",
          "data": {
            "text/plain": [
              "10"
            ]
          },
          "metadata": {
            "tags": []
          },
          "execution_count": 11
        }
      ]
    },
    {
      "cell_type": "code",
      "metadata": {
        "id": "Gk_MK0JKhmOk",
        "colab_type": "code",
        "colab": {
          "base_uri": "https://localhost:8080/",
          "height": 34
        },
        "outputId": "1f3f8398-6538-4129-d180-8889243fbc77"
      },
      "source": [
        "cal1.add(10)"
      ],
      "execution_count": 12,
      "outputs": [
        {
          "output_type": "execute_result",
          "data": {
            "text/plain": [
              "20"
            ]
          },
          "metadata": {
            "tags": []
          },
          "execution_count": 12
        }
      ]
    },
    {
      "cell_type": "code",
      "metadata": {
        "id": "guz1d35ihrqs",
        "colab_type": "code",
        "colab": {
          "base_uri": "https://localhost:8080/",
          "height": 34
        },
        "outputId": "c31a8f5e-ef4a-4cf6-f703-db4d43618633"
      },
      "source": [
        "cal1.result #cal1=Calculator()를 정의해준 항을 다시 실행하면 초기화된다. 이는 즉 그 오브젝트 계산기에서 초기화시키는 'C'버튼을 누른것과 동일하다."
      ],
      "execution_count": 15,
      "outputs": [
        {
          "output_type": "execute_result",
          "data": {
            "text/plain": [
              "0"
            ]
          },
          "metadata": {
            "tags": []
          },
          "execution_count": 15
        }
      ]
    },
    {
      "cell_type": "markdown",
      "metadata": {
        "id": "y1vlMyEXipEV",
        "colab_type": "text"
      },
      "source": [
        "우리는 클래스를 쓰고있었다.. 알게 모르게.\n",
        "\n"
      ]
    },
    {
      "cell_type": "code",
      "metadata": {
        "id": "kV4rM7Vlh6ZR",
        "colab_type": "code",
        "colab": {}
      },
      "source": [
        "a=[1,2,3,4]"
      ],
      "execution_count": 16,
      "outputs": []
    },
    {
      "cell_type": "code",
      "metadata": {
        "id": "4i0Eh59xix9n",
        "colab_type": "code",
        "colab": {
          "base_uri": "https://localhost:8080/",
          "height": 34
        },
        "outputId": "18baf56c-c817-4785-b81b-c727df5e4866"
      },
      "source": [
        "type(a)"
      ],
      "execution_count": 17,
      "outputs": [
        {
          "output_type": "execute_result",
          "data": {
            "text/plain": [
              "list"
            ]
          },
          "metadata": {
            "tags": []
          },
          "execution_count": 17
        }
      ]
    },
    {
      "cell_type": "code",
      "metadata": {
        "id": "ZSHXaTWQi0B9",
        "colab_type": "code",
        "colab": {
          "base_uri": "https://localhost:8080/",
          "height": 34
        },
        "outputId": "5640e479-f221-4e6e-c591-16d5704ad262"
      },
      "source": [
        "cal1.sub(10)"
      ],
      "execution_count": 20,
      "outputs": [
        {
          "output_type": "execute_result",
          "data": {
            "text/plain": [
              "-10"
            ]
          },
          "metadata": {
            "tags": []
          },
          "execution_count": 20
        }
      ]
    },
    {
      "cell_type": "code",
      "metadata": {
        "id": "HpI4MtUCjzeS",
        "colab_type": "code",
        "colab": {}
      },
      "source": [
        ""
      ],
      "execution_count": null,
      "outputs": []
    }
  ]
}