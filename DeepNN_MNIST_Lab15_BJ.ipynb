{
  "nbformat": 4,
  "nbformat_minor": 0,
  "metadata": {
    "colab": {
      "name": "DeepNN_MNIST_Lab15_BJ.ipynb",
      "provenance": [],
      "authorship_tag": "ABX9TyMmVtXo4v7AwZ8soXk831UC",
      "include_colab_link": true
    },
    "kernelspec": {
      "name": "python3",
      "display_name": "Python 3"
    }
  },
  "cells": [
    {
      "cell_type": "markdown",
      "metadata": {
        "id": "view-in-github",
        "colab_type": "text"
      },
      "source": [
        "<a href=\"https://colab.research.google.com/github/cchio74/forgemaster/blob/master/DeepNN_MNIST_Lab15_BJ.ipynb\" target=\"_parent\"><img src=\"https://colab.research.google.com/assets/colab-badge.svg\" alt=\"Open In Colab\"/></a>"
      ]
    },
    {
      "cell_type": "code",
      "metadata": {
        "id": "nlD3Nc31uwB-"
      },
      "source": [
        "import tensorflow as tf\r\n",
        "import matplotlib.pyplot as plt"
      ],
      "execution_count": 17,
      "outputs": []
    },
    {
      "cell_type": "markdown",
      "metadata": {
        "id": "4kzkP02CvBlC"
      },
      "source": [
        "@ dataset"
      ]
    },
    {
      "cell_type": "code",
      "metadata": {
        "id": "97Q1u0gxu9Vx"
      },
      "source": [
        "mnist=tf.keras.datasets.mnist"
      ],
      "execution_count": 18,
      "outputs": []
    },
    {
      "cell_type": "code",
      "metadata": {
        "id": "zVHhsQm8vF_R"
      },
      "source": [
        "(x_train,y_train),(x_test,y_test)=mnist.load_data()"
      ],
      "execution_count": 19,
      "outputs": []
    },
    {
      "cell_type": "code",
      "metadata": {
        "colab": {
          "base_uri": "https://localhost:8080/"
        },
        "id": "68TRuC6RvK1X",
        "outputId": "baf88d6c-85fe-449d-842a-4e5e883310ec"
      },
      "source": [
        "x_train.shape"
      ],
      "execution_count": 20,
      "outputs": [
        {
          "output_type": "execute_result",
          "data": {
            "text/plain": [
              "(60000, 28, 28)"
            ]
          },
          "metadata": {
            "tags": []
          },
          "execution_count": 20
        }
      ]
    },
    {
      "cell_type": "code",
      "metadata": {
        "colab": {
          "base_uri": "https://localhost:8080/"
        },
        "id": "u9fw1Cp1vqrx",
        "outputId": "4212bf6b-9d08-4c12-d2c5-80c2a48d3873"
      },
      "source": [
        "x_test.shape"
      ],
      "execution_count": 21,
      "outputs": [
        {
          "output_type": "execute_result",
          "data": {
            "text/plain": [
              "(10000, 28, 28)"
            ]
          },
          "metadata": {
            "tags": []
          },
          "execution_count": 21
        }
      ]
    },
    {
      "cell_type": "code",
      "metadata": {
        "colab": {
          "base_uri": "https://localhost:8080/"
        },
        "id": "Y411OxadvtSx",
        "outputId": "917e7281-7293-407d-e388-598c6b22a2eb"
      },
      "source": [
        "y_train.shape"
      ],
      "execution_count": 22,
      "outputs": [
        {
          "output_type": "execute_result",
          "data": {
            "text/plain": [
              "(60000,)"
            ]
          },
          "metadata": {
            "tags": []
          },
          "execution_count": 22
        }
      ]
    },
    {
      "cell_type": "code",
      "metadata": {
        "colab": {
          "base_uri": "https://localhost:8080/"
        },
        "id": "SRCZkjM6vvQZ",
        "outputId": "a3b7af38-b5e1-44f1-c8e6-89d1a6314818"
      },
      "source": [
        "y_test.shape"
      ],
      "execution_count": 23,
      "outputs": [
        {
          "output_type": "execute_result",
          "data": {
            "text/plain": [
              "(10000,)"
            ]
          },
          "metadata": {
            "tags": []
          },
          "execution_count": 23
        }
      ]
    },
    {
      "cell_type": "code",
      "metadata": {
        "id": "bilzBmrdxBRY"
      },
      "source": [
        "x_train=x_train/255.0\r\n",
        "x_test=x_test/255.0"
      ],
      "execution_count": 24,
      "outputs": []
    },
    {
      "cell_type": "code",
      "metadata": {
        "colab": {
          "base_uri": "https://localhost:8080/"
        },
        "id": "do2FU7_lxRcv",
        "outputId": "4593b0bb-1108-4f8f-c053-85c306e6c9b9"
      },
      "source": [
        "x_train[0]"
      ],
      "execution_count": 25,
      "outputs": [
        {
          "output_type": "execute_result",
          "data": {
            "text/plain": [
              "array([[0.        , 0.        , 0.        , 0.        , 0.        ,\n",
              "        0.        , 0.        , 0.        , 0.        , 0.        ,\n",
              "        0.        , 0.        , 0.        , 0.        , 0.        ,\n",
              "        0.        , 0.        , 0.        , 0.        , 0.        ,\n",
              "        0.        , 0.        , 0.        , 0.        , 0.        ,\n",
              "        0.        , 0.        , 0.        ],\n",
              "       [0.        , 0.        , 0.        , 0.        , 0.        ,\n",
              "        0.        , 0.        , 0.        , 0.        , 0.        ,\n",
              "        0.        , 0.        , 0.        , 0.        , 0.        ,\n",
              "        0.        , 0.        , 0.        , 0.        , 0.        ,\n",
              "        0.        , 0.        , 0.        , 0.        , 0.        ,\n",
              "        0.        , 0.        , 0.        ],\n",
              "       [0.        , 0.        , 0.        , 0.        , 0.        ,\n",
              "        0.        , 0.        , 0.        , 0.        , 0.        ,\n",
              "        0.        , 0.        , 0.        , 0.        , 0.        ,\n",
              "        0.        , 0.        , 0.        , 0.        , 0.        ,\n",
              "        0.        , 0.        , 0.        , 0.        , 0.        ,\n",
              "        0.        , 0.        , 0.        ],\n",
              "       [0.        , 0.        , 0.        , 0.        , 0.        ,\n",
              "        0.        , 0.        , 0.        , 0.        , 0.        ,\n",
              "        0.        , 0.        , 0.        , 0.        , 0.        ,\n",
              "        0.        , 0.        , 0.        , 0.        , 0.        ,\n",
              "        0.        , 0.        , 0.        , 0.        , 0.        ,\n",
              "        0.        , 0.        , 0.        ],\n",
              "       [0.        , 0.        , 0.        , 0.        , 0.        ,\n",
              "        0.        , 0.        , 0.        , 0.        , 0.        ,\n",
              "        0.        , 0.        , 0.        , 0.        , 0.        ,\n",
              "        0.        , 0.        , 0.        , 0.        , 0.        ,\n",
              "        0.        , 0.        , 0.        , 0.        , 0.        ,\n",
              "        0.        , 0.        , 0.        ],\n",
              "       [0.        , 0.        , 0.        , 0.        , 0.        ,\n",
              "        0.        , 0.        , 0.        , 0.        , 0.        ,\n",
              "        0.        , 0.        , 0.01176471, 0.07058824, 0.07058824,\n",
              "        0.07058824, 0.49411765, 0.53333333, 0.68627451, 0.10196078,\n",
              "        0.65098039, 1.        , 0.96862745, 0.49803922, 0.        ,\n",
              "        0.        , 0.        , 0.        ],\n",
              "       [0.        , 0.        , 0.        , 0.        , 0.        ,\n",
              "        0.        , 0.        , 0.        , 0.11764706, 0.14117647,\n",
              "        0.36862745, 0.60392157, 0.66666667, 0.99215686, 0.99215686,\n",
              "        0.99215686, 0.99215686, 0.99215686, 0.88235294, 0.6745098 ,\n",
              "        0.99215686, 0.94901961, 0.76470588, 0.25098039, 0.        ,\n",
              "        0.        , 0.        , 0.        ],\n",
              "       [0.        , 0.        , 0.        , 0.        , 0.        ,\n",
              "        0.        , 0.        , 0.19215686, 0.93333333, 0.99215686,\n",
              "        0.99215686, 0.99215686, 0.99215686, 0.99215686, 0.99215686,\n",
              "        0.99215686, 0.99215686, 0.98431373, 0.36470588, 0.32156863,\n",
              "        0.32156863, 0.21960784, 0.15294118, 0.        , 0.        ,\n",
              "        0.        , 0.        , 0.        ],\n",
              "       [0.        , 0.        , 0.        , 0.        , 0.        ,\n",
              "        0.        , 0.        , 0.07058824, 0.85882353, 0.99215686,\n",
              "        0.99215686, 0.99215686, 0.99215686, 0.99215686, 0.77647059,\n",
              "        0.71372549, 0.96862745, 0.94509804, 0.        , 0.        ,\n",
              "        0.        , 0.        , 0.        , 0.        , 0.        ,\n",
              "        0.        , 0.        , 0.        ],\n",
              "       [0.        , 0.        , 0.        , 0.        , 0.        ,\n",
              "        0.        , 0.        , 0.        , 0.31372549, 0.61176471,\n",
              "        0.41960784, 0.99215686, 0.99215686, 0.80392157, 0.04313725,\n",
              "        0.        , 0.16862745, 0.60392157, 0.        , 0.        ,\n",
              "        0.        , 0.        , 0.        , 0.        , 0.        ,\n",
              "        0.        , 0.        , 0.        ],\n",
              "       [0.        , 0.        , 0.        , 0.        , 0.        ,\n",
              "        0.        , 0.        , 0.        , 0.        , 0.05490196,\n",
              "        0.00392157, 0.60392157, 0.99215686, 0.35294118, 0.        ,\n",
              "        0.        , 0.        , 0.        , 0.        , 0.        ,\n",
              "        0.        , 0.        , 0.        , 0.        , 0.        ,\n",
              "        0.        , 0.        , 0.        ],\n",
              "       [0.        , 0.        , 0.        , 0.        , 0.        ,\n",
              "        0.        , 0.        , 0.        , 0.        , 0.        ,\n",
              "        0.        , 0.54509804, 0.99215686, 0.74509804, 0.00784314,\n",
              "        0.        , 0.        , 0.        , 0.        , 0.        ,\n",
              "        0.        , 0.        , 0.        , 0.        , 0.        ,\n",
              "        0.        , 0.        , 0.        ],\n",
              "       [0.        , 0.        , 0.        , 0.        , 0.        ,\n",
              "        0.        , 0.        , 0.        , 0.        , 0.        ,\n",
              "        0.        , 0.04313725, 0.74509804, 0.99215686, 0.2745098 ,\n",
              "        0.        , 0.        , 0.        , 0.        , 0.        ,\n",
              "        0.        , 0.        , 0.        , 0.        , 0.        ,\n",
              "        0.        , 0.        , 0.        ],\n",
              "       [0.        , 0.        , 0.        , 0.        , 0.        ,\n",
              "        0.        , 0.        , 0.        , 0.        , 0.        ,\n",
              "        0.        , 0.        , 0.1372549 , 0.94509804, 0.88235294,\n",
              "        0.62745098, 0.42352941, 0.00392157, 0.        , 0.        ,\n",
              "        0.        , 0.        , 0.        , 0.        , 0.        ,\n",
              "        0.        , 0.        , 0.        ],\n",
              "       [0.        , 0.        , 0.        , 0.        , 0.        ,\n",
              "        0.        , 0.        , 0.        , 0.        , 0.        ,\n",
              "        0.        , 0.        , 0.        , 0.31764706, 0.94117647,\n",
              "        0.99215686, 0.99215686, 0.46666667, 0.09803922, 0.        ,\n",
              "        0.        , 0.        , 0.        , 0.        , 0.        ,\n",
              "        0.        , 0.        , 0.        ],\n",
              "       [0.        , 0.        , 0.        , 0.        , 0.        ,\n",
              "        0.        , 0.        , 0.        , 0.        , 0.        ,\n",
              "        0.        , 0.        , 0.        , 0.        , 0.17647059,\n",
              "        0.72941176, 0.99215686, 0.99215686, 0.58823529, 0.10588235,\n",
              "        0.        , 0.        , 0.        , 0.        , 0.        ,\n",
              "        0.        , 0.        , 0.        ],\n",
              "       [0.        , 0.        , 0.        , 0.        , 0.        ,\n",
              "        0.        , 0.        , 0.        , 0.        , 0.        ,\n",
              "        0.        , 0.        , 0.        , 0.        , 0.        ,\n",
              "        0.0627451 , 0.36470588, 0.98823529, 0.99215686, 0.73333333,\n",
              "        0.        , 0.        , 0.        , 0.        , 0.        ,\n",
              "        0.        , 0.        , 0.        ],\n",
              "       [0.        , 0.        , 0.        , 0.        , 0.        ,\n",
              "        0.        , 0.        , 0.        , 0.        , 0.        ,\n",
              "        0.        , 0.        , 0.        , 0.        , 0.        ,\n",
              "        0.        , 0.        , 0.97647059, 0.99215686, 0.97647059,\n",
              "        0.25098039, 0.        , 0.        , 0.        , 0.        ,\n",
              "        0.        , 0.        , 0.        ],\n",
              "       [0.        , 0.        , 0.        , 0.        , 0.        ,\n",
              "        0.        , 0.        , 0.        , 0.        , 0.        ,\n",
              "        0.        , 0.        , 0.        , 0.        , 0.18039216,\n",
              "        0.50980392, 0.71764706, 0.99215686, 0.99215686, 0.81176471,\n",
              "        0.00784314, 0.        , 0.        , 0.        , 0.        ,\n",
              "        0.        , 0.        , 0.        ],\n",
              "       [0.        , 0.        , 0.        , 0.        , 0.        ,\n",
              "        0.        , 0.        , 0.        , 0.        , 0.        ,\n",
              "        0.        , 0.        , 0.15294118, 0.58039216, 0.89803922,\n",
              "        0.99215686, 0.99215686, 0.99215686, 0.98039216, 0.71372549,\n",
              "        0.        , 0.        , 0.        , 0.        , 0.        ,\n",
              "        0.        , 0.        , 0.        ],\n",
              "       [0.        , 0.        , 0.        , 0.        , 0.        ,\n",
              "        0.        , 0.        , 0.        , 0.        , 0.        ,\n",
              "        0.09411765, 0.44705882, 0.86666667, 0.99215686, 0.99215686,\n",
              "        0.99215686, 0.99215686, 0.78823529, 0.30588235, 0.        ,\n",
              "        0.        , 0.        , 0.        , 0.        , 0.        ,\n",
              "        0.        , 0.        , 0.        ],\n",
              "       [0.        , 0.        , 0.        , 0.        , 0.        ,\n",
              "        0.        , 0.        , 0.        , 0.09019608, 0.25882353,\n",
              "        0.83529412, 0.99215686, 0.99215686, 0.99215686, 0.99215686,\n",
              "        0.77647059, 0.31764706, 0.00784314, 0.        , 0.        ,\n",
              "        0.        , 0.        , 0.        , 0.        , 0.        ,\n",
              "        0.        , 0.        , 0.        ],\n",
              "       [0.        , 0.        , 0.        , 0.        , 0.        ,\n",
              "        0.        , 0.07058824, 0.67058824, 0.85882353, 0.99215686,\n",
              "        0.99215686, 0.99215686, 0.99215686, 0.76470588, 0.31372549,\n",
              "        0.03529412, 0.        , 0.        , 0.        , 0.        ,\n",
              "        0.        , 0.        , 0.        , 0.        , 0.        ,\n",
              "        0.        , 0.        , 0.        ],\n",
              "       [0.        , 0.        , 0.        , 0.        , 0.21568627,\n",
              "        0.6745098 , 0.88627451, 0.99215686, 0.99215686, 0.99215686,\n",
              "        0.99215686, 0.95686275, 0.52156863, 0.04313725, 0.        ,\n",
              "        0.        , 0.        , 0.        , 0.        , 0.        ,\n",
              "        0.        , 0.        , 0.        , 0.        , 0.        ,\n",
              "        0.        , 0.        , 0.        ],\n",
              "       [0.        , 0.        , 0.        , 0.        , 0.53333333,\n",
              "        0.99215686, 0.99215686, 0.99215686, 0.83137255, 0.52941176,\n",
              "        0.51764706, 0.0627451 , 0.        , 0.        , 0.        ,\n",
              "        0.        , 0.        , 0.        , 0.        , 0.        ,\n",
              "        0.        , 0.        , 0.        , 0.        , 0.        ,\n",
              "        0.        , 0.        , 0.        ],\n",
              "       [0.        , 0.        , 0.        , 0.        , 0.        ,\n",
              "        0.        , 0.        , 0.        , 0.        , 0.        ,\n",
              "        0.        , 0.        , 0.        , 0.        , 0.        ,\n",
              "        0.        , 0.        , 0.        , 0.        , 0.        ,\n",
              "        0.        , 0.        , 0.        , 0.        , 0.        ,\n",
              "        0.        , 0.        , 0.        ],\n",
              "       [0.        , 0.        , 0.        , 0.        , 0.        ,\n",
              "        0.        , 0.        , 0.        , 0.        , 0.        ,\n",
              "        0.        , 0.        , 0.        , 0.        , 0.        ,\n",
              "        0.        , 0.        , 0.        , 0.        , 0.        ,\n",
              "        0.        , 0.        , 0.        , 0.        , 0.        ,\n",
              "        0.        , 0.        , 0.        ],\n",
              "       [0.        , 0.        , 0.        , 0.        , 0.        ,\n",
              "        0.        , 0.        , 0.        , 0.        , 0.        ,\n",
              "        0.        , 0.        , 0.        , 0.        , 0.        ,\n",
              "        0.        , 0.        , 0.        , 0.        , 0.        ,\n",
              "        0.        , 0.        , 0.        , 0.        , 0.        ,\n",
              "        0.        , 0.        , 0.        ]])"
            ]
          },
          "metadata": {
            "tags": []
          },
          "execution_count": 25
        }
      ]
    },
    {
      "cell_type": "code",
      "metadata": {
        "colab": {
          "base_uri": "https://localhost:8080/",
          "height": 297
        },
        "id": "gUV1akOgvxUt",
        "outputId": "9aba9c25-8e66-476d-e839-4dc5e8ae601b"
      },
      "source": [
        "i=59993\r\n",
        "plt.imshow(x_train[i],cmap=plt.cm.binary)\r\n",
        "plt.xlabel(y_train[i])\r\n",
        "plt.show"
      ],
      "execution_count": 26,
      "outputs": [
        {
          "output_type": "execute_result",
          "data": {
            "text/plain": [
              "<function matplotlib.pyplot.show>"
            ]
          },
          "metadata": {
            "tags": []
          },
          "execution_count": 26
        },
        {
          "output_type": "display_data",
          "data": {
            "image/png": "[encoded data removed]",
            "text/plain": [
              "<Figure size 432x288 with 1 Axes>"
            ]
          },
          "metadata": {
            "tags": [],
            "needs_background": "light"
          }
        }
      ]
    },
    {
      "cell_type": "code",
      "metadata": {
        "colab": {
          "base_uri": "https://localhost:8080/"
        },
        "id": "-PCkGpgUwwg7",
        "outputId": "5229c16a-0d36-47be-989b-fbe2fe988e04"
      },
      "source": [
        "y_train[0]"
      ],
      "execution_count": 27,
      "outputs": [
        {
          "output_type": "execute_result",
          "data": {
            "text/plain": [
              "5"
            ]
          },
          "metadata": {
            "tags": []
          },
          "execution_count": 27
        }
      ]
    },
    {
      "cell_type": "markdown",
      "metadata": {
        "id": "7w83xUMQyk9x"
      },
      "source": [
        "#Sequential"
      ]
    },
    {
      "cell_type": "code",
      "metadata": {
        "id": "Bnunv7Xg0GSb"
      },
      "source": [
        "initializer=tf.keras.initializers.HeNormal()"
      ],
      "execution_count": 309,
      "outputs": []
    },
    {
      "cell_type": "code",
      "metadata": {
        "id": "ADVfmbbk4bW8"
      },
      "source": [
        "activation=tf.keras.activations.relu"
      ],
      "execution_count": 310,
      "outputs": []
    },
    {
      "cell_type": "code",
      "metadata": {
        "id": "W9ycUG6Y-j2j"
      },
      "source": [
        "learning_rate=1e-2"
      ],
      "execution_count": 311,
      "outputs": []
    },
    {
      "cell_type": "code",
      "metadata": {
        "id": "5f_YPhgyxgJE"
      },
      "source": [
        "model=tf.keras.models.Sequential()\r\n",
        "\r\n",
        "model.add(tf.keras.layers.Flatten(input_shape=(28,28))) # Flatten 한줄로 줄세우기\r\n",
        "\r\n",
        "model.add(tf.keras.layers.Dense(128,activation=activation,kernel_initializer=initializer)) # Hidden layer\r\n",
        "model.add(tf.keras.layers.Dense(128,activation=activation,kernel_initializer=initializer)) # Hidden layer\r\n",
        "model.add(tf.keras.layers.Dense(128,activation=activation,kernel_initializer=initializer)) # Hidden layer\r\n",
        "model.add(tf.keras.layers.Dense(128,activation=activation,kernel_initializer=initializer)) # Hidden layer\r\n",
        "\r\n",
        "model.add(tf.keras.layers.Dropout(0.5))\r\n",
        "\r\n",
        "model.add(tf.keras.layers.Dense(10,activation='softmax',kernel_initializer=initializer)) # Output(숫자 10개)"
      ],
      "execution_count": 312,
      "outputs": []
    },
    {
      "cell_type": "code",
      "metadata": {
        "colab": {
          "base_uri": "https://localhost:8080/",
          "height": 1000
        },
        "id": "0UA_QaDMy3Bz",
        "outputId": "f9d95ae5-2fa8-4eac-acc5-13370945b921"
      },
      "source": [
        "model.summary()\r\n",
        "tf.keras.utils.plot_model(model,show_shapes='true')"
      ],
      "execution_count": 313,
      "outputs": [
        {
          "output_type": "stream",
          "text": [
            "Model: \"sequential_33\"\n",
            "_________________________________________________________________\n",
            "Layer (type)                 Output Shape              Param #   \n",
            "=================================================================\n",
            "flatten_33 (Flatten)         (None, 784)               0         \n",
            "_________________________________________________________________\n",
            "dense_147 (Dense)            (None, 128)               100480    \n",
            "_________________________________________________________________\n",
            "dense_148 (Dense)            (None, 128)               16512     \n",
            "_________________________________________________________________\n",
            "dense_149 (Dense)            (None, 128)               16512     \n",
            "_________________________________________________________________\n",
            "dense_150 (Dense)            (None, 128)               16512     \n",
            "_________________________________________________________________\n",
            "dropout_5 (Dropout)          (None, 128)               0         \n",
            "_________________________________________________________________\n",
            "dense_151 (Dense)            (None, 10)                1290      \n",
            "=================================================================\n",
            "Total params: 151,306\n",
            "Trainable params: 151,306\n",
            "Non-trainable params: 0\n",
            "_________________________________________________________________\n"
          ],
          "name": "stdout"
        },
        {
          "output_type": "execute_result",
          "data": {
            "image/png": "[encoded data removed]",
            "text/plain": [
              "<IPython.core.display.Image object>"
            ]
          },
          "metadata": {
            "tags": []
          },
          "execution_count": 313
        }
      ]
    },
    {
      "cell_type": "code",
      "metadata": {
        "id": "wbw12nXZ07hr"
      },
      "source": [
        "model.compile(optimizer=tf.keras.optimizers.Adam(learning_rate=learning_rate),\r\n",
        "              loss=tf.keras.losses.SparseCategoricalCrossentropy(), # Onehot 인코딩을 안했으면 Sparse를 써야함\r\n",
        "              metrics=tf.keras.metrics.SparseCategoricalAccuracy())"
      ],
      "execution_count": 314,
      "outputs": []
    },
    {
      "cell_type": "code",
      "metadata": {
        "colab": {
          "base_uri": "https://localhost:8080/"
        },
        "id": "2Ak8_mTE4p7e",
        "outputId": "439c859a-30f3-4104-c918-2a075d7d080b"
      },
      "source": [
        "model.fit(x_train,y_train,batch_size=128,epochs=1) # 32개로 나누어서 60000개 계산"
      ],
      "execution_count": 315,
      "outputs": [
        {
          "output_type": "stream",
          "text": [
            "469/469 [==============================] - 3s 5ms/step - loss: 0.5752 - sparse_categorical_accuracy: 0.8242\n"
          ],
          "name": "stdout"
        },
        {
          "output_type": "execute_result",
          "data": {
            "text/plain": [
              "<tensorflow.python.keras.callbacks.History at 0x7f3e7ddb4208>"
            ]
          },
          "metadata": {
            "tags": []
          },
          "execution_count": 315
        }
      ]
    },
    {
      "cell_type": "code",
      "metadata": {
        "colab": {
          "base_uri": "https://localhost:8080/"
        },
        "id": "96gQtTRc40T2",
        "outputId": "fabeefae-b1c0-46cd-9366-866d0f946462"
      },
      "source": [
        "model.evaluate(x_test,y_test)"
      ],
      "execution_count": 316,
      "outputs": [
        {
          "output_type": "stream",
          "text": [
            "313/313 [==============================] - 1s 1ms/step - loss: 0.2307 - sparse_categorical_accuracy: 0.9366\n"
          ],
          "name": "stdout"
        },
        {
          "output_type": "execute_result",
          "data": {
            "text/plain": [
              "[0.23065771162509918, 0.9366000294685364]"
            ]
          },
          "metadata": {
            "tags": []
          },
          "execution_count": 316
        }
      ]
    },
    {
      "cell_type": "code",
      "metadata": {
        "id": "yYSsBG4U6lgq",
        "colab": {
          "base_uri": "https://localhost:8080/"
        },
        "outputId": "39f27ef8-e56f-4c0a-ff34-cd0790a24d17"
      },
      "source": [
        "model.weights"
      ],
      "execution_count": 317,
      "outputs": [
        {
          "output_type": "execute_result",
          "data": {
            "text/plain": [
              "[<tf.Variable 'dense_147/kernel:0' shape=(784, 128) dtype=float32, numpy=\n",
              " array([[-0.00113106, -0.02156122, -0.06176845, ..., -0.02080256,\n",
              "          0.02051338, -0.00402093],\n",
              "        [-0.01107919, -0.04934683,  0.05614335, ..., -0.00329218,\n",
              "         -0.02543413,  0.05276842],\n",
              "        [ 0.06627907,  0.02004673, -0.01246781, ...,  0.02095988,\n",
              "         -0.09180363,  0.06669045],\n",
              "        ...,\n",
              "        [ 0.01212486, -0.00403336, -0.09501507, ..., -0.00694229,\n",
              "          0.05478442,  0.00280118],\n",
              "        [-0.06568037, -0.03541027, -0.03312237, ...,  0.01176407,\n",
              "         -0.03696239, -0.01256982],\n",
              "        [-0.02195129, -0.06799512, -0.02214748, ...,  0.08205827,\n",
              "         -0.0891958 , -0.04376459]], dtype=float32)>,\n",
              " <tf.Variable 'dense_147/bias:0' shape=(128,) dtype=float32, numpy=\n",
              " array([-0.06194992, -0.09311885, -0.05823114, -0.08440255,  0.02760914,\n",
              "         0.05485378,  0.00058393, -0.03598888, -0.00136328, -0.05357247,\n",
              "        -0.05812164,  0.0790607 , -0.0271023 , -0.04445149, -0.07572924,\n",
              "        -0.0859948 , -0.05906715,  0.02651649, -0.05646501, -0.06953824,\n",
              "        -0.1208097 , -0.04677987, -0.06351966, -0.06575651, -0.0013684 ,\n",
              "        -0.01562689,  0.11865501,  0.03760321,  0.04971872,  0.0157417 ,\n",
              "        -0.06822708, -0.11664598, -0.06114322, -0.07359813, -0.09959681,\n",
              "        -0.11350812, -0.12314682, -0.03356431,  0.12143926, -0.00987231,\n",
              "         0.08219526, -0.09322844, -0.15350586, -0.06003666, -0.06024177,\n",
              "         0.08376674, -0.09365372, -0.17812978, -0.04634465, -0.04324161,\n",
              "        -0.09908766, -0.06467167,  0.00078446, -0.06010324, -0.03254493,\n",
              "        -0.06183653, -0.05747483, -0.05955563,  0.06440395, -0.06215724,\n",
              "        -0.07972635, -0.01641167, -0.14867099, -0.0645083 ,  0.02651193,\n",
              "        -0.06317893, -0.03596562, -0.00762966, -0.06161584,  0.01775536,\n",
              "        -0.02150589, -0.00980819, -0.07758235,  0.11121144, -0.11070728,\n",
              "        -0.0651653 , -0.1035654 , -0.06003996, -0.09196319, -0.06081793,\n",
              "        -0.06003336, -0.05993157, -0.05385403, -0.14938301,  0.08250542,\n",
              "        -0.13049895,  0.08336479, -0.07779033, -0.0435583 , -0.02862849,\n",
              "        -0.06111551,  0.00749986, -0.0350583 , -0.04380063, -0.07946658,\n",
              "        -0.00712965,  0.05197295, -0.06823024,  0.01259893, -0.15496175,\n",
              "         0.11663538, -0.05248008,  0.05186043, -0.06002748,  0.08907941,\n",
              "        -0.05710321, -0.107963  , -0.02595996,  0.05821719, -0.04549527,\n",
              "        -0.05498961, -0.05472542, -0.06534699, -0.0439209 ,  0.04007622,\n",
              "        -0.18292622, -0.07190439, -0.10285231,  0.00071822,  0.10912564,\n",
              "        -0.06342217,  0.01279812,  0.08430158,  0.18619047,  0.0252163 ,\n",
              "         0.13166527, -0.10494559, -0.0099553 ], dtype=float32)>,\n",
              " <tf.Variable 'dense_148/kernel:0' shape=(128, 128) dtype=float32, numpy=\n",
              " array([[-0.1492692 ,  0.1157565 , -0.09999783, ..., -0.08425872,\n",
              "          0.21562934, -0.04272452],\n",
              "        [-0.4006269 , -0.15291293, -0.21023403, ..., -0.08183574,\n",
              "         -0.00233456, -0.17184594],\n",
              "        [-0.23100543,  0.09351403,  0.0010247 , ..., -0.16371655,\n",
              "          0.00968972, -0.13469769],\n",
              "        ...,\n",
              "        [-0.04406743,  0.24684158, -0.4076511 , ..., -0.29722396,\n",
              "         -0.35111254, -0.11119505],\n",
              "        [-0.71590203, -0.43983713,  0.05124902, ...,  0.18209335,\n",
              "          0.06520156, -0.01513071],\n",
              "        [-0.5444759 ,  0.00481   ,  0.07461404, ...,  0.4629209 ,\n",
              "         -0.388377  , -0.08387057]], dtype=float32)>,\n",
              " <tf.Variable 'dense_148/bias:0' shape=(128,) dtype=float32, numpy=\n",
              " array([-0.08512416,  0.00574591, -0.15845093, -0.04238408, -0.12775092,\n",
              "        -0.10317202, -0.13084331, -0.1760014 , -0.19435373, -0.25229722,\n",
              "         0.0615141 , -0.12897679, -0.07339642, -0.04513142, -0.04526132,\n",
              "        -0.15771446, -0.07514797, -0.07009406,  0.00955438, -0.02434548,\n",
              "        -0.10378061, -0.20689884, -0.05763966, -0.09234361, -0.09381787,\n",
              "        -0.01219883, -0.11050929,  0.06587641, -0.10072835,  0.05179835,\n",
              "        -0.09240606, -0.03081496, -0.06645712, -0.08608761,  0.1001688 ,\n",
              "        -0.00508493, -0.14081265, -0.14734083, -0.05840539, -0.25897965,\n",
              "        -0.08424643, -0.01035598, -0.06856681, -0.0277957 , -0.06341085,\n",
              "        -0.13271204, -0.11096979,  0.04668205, -0.05376439,  0.00102622,\n",
              "        -0.10864142, -0.11992234, -0.04786089, -0.1360569 , -0.14964984,\n",
              "        -0.10113636, -0.14464171, -0.19990379, -0.00777538, -0.0735891 ,\n",
              "        -0.07170978, -0.08247793, -0.08707698, -0.19721486, -0.19119242,\n",
              "        -0.06847336, -0.24804617, -0.13244246, -0.13595466, -0.09279031,\n",
              "        -0.04655224,  0.13654968, -0.15030529, -0.09791664, -0.04657563,\n",
              "        -0.05121138, -0.1578902 , -0.14885084,  0.08283419, -0.12015974,\n",
              "        -0.04055639, -0.01928599, -0.10723628, -0.06737659, -0.22340533,\n",
              "        -0.06557324, -0.08966239,  0.02672199, -0.09269162,  0.04149982,\n",
              "        -0.23350035, -0.11435691, -0.16597384, -0.16332005,  0.0060188 ,\n",
              "        -0.07250223, -0.24695715, -0.06449741, -0.13593735, -0.27901438,\n",
              "        -0.32971254, -0.08829755, -0.06976128, -0.06333537,  0.11447293,\n",
              "        -0.1334763 , -0.171139  , -0.00884127, -0.11322279, -0.07923221,\n",
              "        -0.03510183, -0.07076523, -0.11193068,  0.01414853,  0.0518437 ,\n",
              "        -0.24216034, -0.06091686, -0.09400701, -0.11028361, -0.08359555,\n",
              "        -0.1036188 , -0.02543081,  0.01360187, -0.11879318,  0.00106908,\n",
              "        -0.10313883, -0.21268542, -0.06150174], dtype=float32)>,\n",
              " <tf.Variable 'dense_149/kernel:0' shape=(128, 128) dtype=float32, numpy=\n",
              " array([[ 0.04930001,  0.23813981,  0.01913031, ..., -0.16018479,\n",
              "         -0.50365776, -0.20141089],\n",
              "        [-0.06700907, -0.04483008, -0.36466655, ..., -0.24742188,\n",
              "         -0.28501597, -0.24700642],\n",
              "        [-0.29443368,  0.01399537, -0.20538044, ..., -0.1354259 ,\n",
              "         -0.08389013,  0.03789919],\n",
              "        ...,\n",
              "        [-0.18086672,  0.04137544,  0.19008224, ..., -0.15738994,\n",
              "          0.05622689,  0.25130102],\n",
              "        [ 0.11652013, -0.14418295, -0.17664556, ...,  0.38256514,\n",
              "          0.02301547, -0.05078902],\n",
              "        [ 0.00733496, -0.15052702, -0.20847534, ..., -0.12015376,\n",
              "         -0.05963876, -0.06427573]], dtype=float32)>,\n",
              " <tf.Variable 'dense_149/bias:0' shape=(128,) dtype=float32, numpy=\n",
              " array([ 0.00427666, -0.11635825,  0.10094936,  0.03433553,  0.16252354,\n",
              "        -0.07443605, -0.19605564, -0.04070296, -0.11509105, -0.00664657,\n",
              "        -0.09066793, -0.12449061, -0.1417731 , -0.00979579, -0.14047803,\n",
              "        -0.08873028, -0.14990062,  0.09023938, -0.16698524, -0.09516412,\n",
              "        -0.14239565, -0.12092795, -0.02050444, -0.10333068, -0.19343248,\n",
              "        -0.1757197 , -0.09718366,  0.04635267,  0.07774433, -0.07235957,\n",
              "        -0.08920292, -0.17054392, -0.05228867, -0.0323563 , -0.06044887,\n",
              "        -0.05630087, -0.16513532, -0.10772333, -0.09637761, -0.13045503,\n",
              "        -0.16214247, -0.08990383, -0.25948477, -0.13215864, -0.06418763,\n",
              "        -0.08579734, -0.05476708, -0.03853792, -0.08855532,  0.15441906,\n",
              "         0.05605528, -0.16777025, -0.274344  , -0.08431154, -0.21543126,\n",
              "        -0.04066587, -0.15548156, -0.25433886, -0.04662313, -0.07715592,\n",
              "        -0.09208059, -0.18240544, -0.1295932 , -0.14713576, -0.10809087,\n",
              "        -0.16591692, -0.06537551, -0.21594517, -0.11436018, -0.11061683,\n",
              "         0.25552744, -0.14624222, -0.10823247, -0.09363998, -0.02160736,\n",
              "         0.07456807, -0.17049848, -0.09703457, -0.08021623, -0.10072772,\n",
              "        -0.23961797, -0.06013238, -0.10755947,  0.02643986, -0.12141559,\n",
              "        -0.06995153, -0.01758041, -0.0959225 , -0.11884382, -0.06188088,\n",
              "        -0.03829566, -0.01202825, -0.13625404, -0.24003573,  0.07775519,\n",
              "        -0.26268744, -0.07293702, -0.10831126,  0.10778888, -0.07933038,\n",
              "        -0.05902901, -0.12473181, -0.07001472, -0.00124024, -0.02973422,\n",
              "        -0.1608181 , -0.08406563, -0.11592328, -0.14327486, -0.07024586,\n",
              "        -0.14148906, -0.04440247, -0.15127726, -0.2569018 , -0.08270288,\n",
              "        -0.18777402, -0.36913425,  0.15725607, -0.01813044, -0.05500327,\n",
              "        -0.12522432, -0.18282717, -0.0901702 , -0.00233922, -0.14671116,\n",
              "        -0.13745403, -0.00646289, -0.27009392], dtype=float32)>,\n",
              " <tf.Variable 'dense_150/kernel:0' shape=(128, 128) dtype=float32, numpy=\n",
              " array([[-0.14146614, -0.2646086 ,  0.30177626, ..., -0.17085566,\n",
              "         -0.07697064,  0.21815237],\n",
              "        [ 0.24440143,  0.26186395,  0.10448563, ..., -0.13313404,\n",
              "         -0.3703899 , -0.0682097 ],\n",
              "        [-0.07639438, -0.05590094, -0.21799824, ..., -0.22872259,\n",
              "         -0.09537052,  0.09632537],\n",
              "        ...,\n",
              "        [-0.05500245, -0.12814635,  0.09856724, ..., -0.03096937,\n",
              "         -0.03541673, -0.14640032],\n",
              "        [ 0.18543197, -0.04565877, -0.11548309, ...,  0.16428417,\n",
              "          0.1789391 ,  0.10202564],\n",
              "        [-0.1481095 ,  0.43191403, -0.03228269, ...,  0.14446315,\n",
              "          0.38688144,  0.1172181 ]], dtype=float32)>,\n",
              " <tf.Variable 'dense_150/bias:0' shape=(128,) dtype=float32, numpy=\n",
              " array([-0.05112804,  0.07533725,  0.07026794, -0.13601288, -0.2573361 ,\n",
              "         0.04038008, -0.07598554,  0.055499  ,  0.00915781, -0.04026199,\n",
              "         0.04321548,  0.01417502, -0.08488457, -0.09039892, -0.07061263,\n",
              "        -0.11829438, -0.06068169, -0.01848725,  0.06846278,  0.03155052,\n",
              "        -0.10854209, -0.02737169, -0.41475964,  0.0860735 , -0.12502462,\n",
              "         0.11899447,  0.11375663, -0.01491884, -0.08030103, -0.1723363 ,\n",
              "        -0.14708477, -0.19865125, -0.01902911, -0.00072643, -0.18001048,\n",
              "        -0.07678959,  0.09728359,  0.00868461,  0.06831615, -0.35488492,\n",
              "         0.0168677 , -0.04940753, -0.11825039, -0.08913904, -0.4657576 ,\n",
              "        -0.09931033,  0.10573213,  0.04159919,  0.07973293,  0.0177584 ,\n",
              "         0.1392651 , -0.20925304, -0.00807648,  0.03268105, -0.20172848,\n",
              "        -0.06618752, -0.05082881, -0.28746358,  0.05224943, -0.3519508 ,\n",
              "         0.04658489, -0.16423213, -0.1289484 ,  0.03439572, -0.12395399,\n",
              "        -0.12910402, -0.28527874, -0.10965782,  0.08374199, -0.1051517 ,\n",
              "        -0.09396467,  0.0433404 ,  0.05133371, -0.21561138, -0.10815395,\n",
              "         0.05856735,  0.01683062, -0.2500104 ,  0.09314962,  0.08343466,\n",
              "         0.12244245, -0.19702974, -0.07238209, -0.00432185, -0.25322494,\n",
              "        -0.17380364, -0.18018764, -0.15183431,  0.04139007, -0.01461795,\n",
              "        -0.20180427, -0.01901257, -0.07408296, -0.08003335, -0.15801664,\n",
              "         0.03704565,  0.117686  ,  0.0072353 ,  0.02615784,  0.11443438,\n",
              "         0.05287955,  0.02724666, -0.01693773, -0.05965421, -0.14818995,\n",
              "        -0.29421496,  0.02288647, -0.13379452,  0.02146426, -0.01575658,\n",
              "         0.03672317, -0.11128902, -0.01304476,  0.23184186, -0.08739926,\n",
              "        -0.08587565, -0.06799322, -0.03967407, -0.04917961, -0.11701632,\n",
              "         0.03731668, -0.30124718, -0.10747381, -0.03058504, -0.1539661 ,\n",
              "        -0.23299348,  0.05517836, -0.00054353], dtype=float32)>,\n",
              " <tf.Variable 'dense_151/kernel:0' shape=(128, 10) dtype=float32, numpy=\n",
              " array([[-0.5194506 ,  0.05240624,  0.12144764, ..., -0.28928277,\n",
              "         -0.19989365, -0.11488681],\n",
              "        [-0.05552049,  0.12872516, -0.29452932, ..., -0.20382032,\n",
              "          0.17140536,  0.1709468 ],\n",
              "        [-0.01474033, -0.09052032,  0.06517082, ...,  0.1090563 ,\n",
              "         -0.21848784, -0.08214125],\n",
              "        ...,\n",
              "        [ 0.11498595, -0.08699736,  0.05524921, ..., -0.3529058 ,\n",
              "          0.10587104, -0.3853655 ],\n",
              "        [ 0.1588243 , -0.2273075 , -0.02986129, ..., -0.01324946,\n",
              "         -0.03742827, -0.06161899],\n",
              "        [-0.2022478 ,  0.04613115, -0.1219817 , ..., -0.04190292,\n",
              "         -0.13225344, -0.11835599]], dtype=float32)>,\n",
              " <tf.Variable 'dense_151/bias:0' shape=(10,) dtype=float32, numpy=\n",
              " array([-0.09610632, -0.04854708,  0.02627384, -0.1560851 ,  0.0084611 ,\n",
              "        -0.01147167, -0.05280022, -0.03924844,  0.18917152,  0.09587806],\n",
              "       dtype=float32)>]"
            ]
          },
          "metadata": {
            "tags": []
          },
          "execution_count": 317
        }
      ]
    },
    {
      "cell_type": "code",
      "metadata": {
        "id": "4nQfA_yb07Ys"
      },
      "source": [
        ""
      ],
      "execution_count": 317,
      "outputs": []
    }
  ]
}