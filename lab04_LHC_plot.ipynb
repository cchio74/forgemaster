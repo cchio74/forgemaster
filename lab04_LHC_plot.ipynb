{
  "nbformat": 4,
  "nbformat_minor": 0,
  "metadata": {
    "colab": {
      "name": "lab04_LHC_plot.ipynb",
      "provenance": [],
      "authorship_tag": "ABX9TyPPXIMKqYFAC26vydSclKR7",
      "include_colab_link": true
    },
    "kernelspec": {
      "name": "python3",
      "display_name": "Python 3"
    }
  },
  "cells": [
    {
      "cell_type": "markdown",
      "metadata": {
        "id": "view-in-github",
        "colab_type": "text"
      },
      "source": [
        "<a href=\"https://colab.research.google.com/github/cchio74/forgemaster/blob/master/lab04_LHC_plot.ipynb\" target=\"_parent\"><img src=\"https://colab.research.google.com/assets/colab-badge.svg\" alt=\"Open In Colab\"/></a>"
      ]
    },
    {
      "cell_type": "markdown",
      "metadata": {
        "id": "1iig2Mau2CCA"
      },
      "source": [
        "#Pandas와 Matplotilb를 이용하여 그래프 그리기"
      ]
    },
    {
      "cell_type": "code",
      "metadata": {
        "id": "zfP_01jq12FM"
      },
      "source": [
        "import numpy as np\n",
        "import pandas as pd\n",
        "import matplotlib.pyplot as plt"
      ],
      "execution_count": 1,
      "outputs": []
    },
    {
      "cell_type": "code",
      "metadata": {
        "id": "qzLWHlcU2bJX"
      },
      "source": [
        " %matplotlib inline #%는 매직 function, inline은 그래프를 바로 보여주는 방식"
      ],
      "execution_count": 3,
      "outputs": []
    },
    {
      "cell_type": "code",
      "metadata": {
        "id": "kBdb6diO23vP",
        "outputId": "4f212bc3-f920-4c2e-db66-76f490cb83bf",
        "colab": {
          "base_uri": "https://localhost:8080/",
          "height": 210
        }
      },
      "source": [
        "s=pd.Series(np.random.randn(10),index=np.arange(0,100,10)) #Series 만들기\n",
        "s"
      ],
      "execution_count": 6,
      "outputs": [
        {
          "output_type": "execute_result",
          "data": {
            "text/plain": [
              "0     1.391095\n",
              "10    2.460141\n",
              "20    1.425937\n",
              "30    0.642440\n",
              "40    0.023764\n",
              "50   -0.042465\n",
              "60   -0.701564\n",
              "70   -0.415670\n",
              "80   -0.429355\n",
              "90   -0.472376\n",
              "dtype: float64"
            ]
          },
          "metadata": {
            "tags": []
          },
          "execution_count": 6
        }
      ]
    },
    {
      "cell_type": "markdown",
      "metadata": {
        "id": "NqHDd-i6EIcj"
      },
      "source": [
        "## pandas와 matplotlib로 그래프 그리기\n"
      ]
    },
    {
      "cell_type": "code",
      "metadata": {
        "id": "gnGH6zax3O5y",
        "outputId": "55085eff-3ea1-4209-94e4-cf1d8ecda50a",
        "colab": {
          "base_uri": "https://localhost:8080/",
          "height": 282
        }
      },
      "source": [
        "s.plot() #pandas로 그래프 그리기"
      ],
      "execution_count": 7,
      "outputs": [
        {
          "output_type": "execute_result",
          "data": {
            "text/plain": [
              "<matplotlib.axes._subplots.AxesSubplot at 0x7f78d54354a8>"
            ]
          },
          "metadata": {
            "tags": []
          },
          "execution_count": 7
        },
        {
          "output_type": "display_data",
          "data": {
            "image/png": "[encoded data removed]",
            "text/plain": [
              "<Figure size 432x288 with 1 Axes>"
            ]
          },
          "metadata": {
            "tags": [],
            "needs_background": "light"
          }
        }
      ]
    },
    {
      "cell_type": "code",
      "metadata": {
        "id": "qS9UcbPP3yTN",
        "outputId": "99ef2c76-b9ba-4b2e-f1e7-8c6154c5be51",
        "colab": {
          "base_uri": "https://localhost:8080/",
          "height": 282
        }
      },
      "source": [
        "plt.plot(s.values) #matplotlib를 이용하여 Y값으로만 그래프를 그림"
      ],
      "execution_count": 8,
      "outputs": [
        {
          "output_type": "execute_result",
          "data": {
            "text/plain": [
              "[<matplotlib.lines.Line2D at 0x7f78d4b4bc88>]"
            ]
          },
          "metadata": {
            "tags": []
          },
          "execution_count": 8
        },
        {
          "output_type": "display_data",
          "data": {
            "image/png": "[encoded data removed]",
            "text/plain": [
              "<Figure size 432x288 with 1 Axes>"
            ]
          },
          "metadata": {
            "tags": [],
            "needs_background": "light"
          }
        }
      ]
    },
    {
      "cell_type": "code",
      "metadata": {
        "id": "06aO38Jj4K74",
        "outputId": "3ff468fa-7b86-4276-f961-8c182174e577",
        "colab": {
          "base_uri": "https://localhost:8080/",
          "height": 282
        }
      },
      "source": [
        "plt.plot(s.index,s.values) #matplotlib를 이용하여 X, Y값을 그래프를 그림"
      ],
      "execution_count": 10,
      "outputs": [
        {
          "output_type": "execute_result",
          "data": {
            "text/plain": [
              "[<matplotlib.lines.Line2D at 0x7f78d4aa7358>]"
            ]
          },
          "metadata": {
            "tags": []
          },
          "execution_count": 10
        },
        {
          "output_type": "display_data",
          "data": {
            "image/png": "[encoded data removed]",
            "text/plain": [
              "<Figure size 432x288 with 1 Axes>"
            ]
          },
          "metadata": {
            "tags": [],
            "needs_background": "light"
          }
        }
      ]
    },
    {
      "cell_type": "code",
      "metadata": {
        "id": "WYpzX5-B4aCS",
        "outputId": "c9cfc205-8938-4d8d-dd0e-fa9e17c204ed",
        "colab": {
          "base_uri": "https://localhost:8080/",
          "height": 282
        }
      },
      "source": [
        "plt.plot(s) #x, y를 정의하지않아도, series로 정의된경우 간단히 작성할 수 있음"
      ],
      "execution_count": 11,
      "outputs": [
        {
          "output_type": "execute_result",
          "data": {
            "text/plain": [
              "[<matplotlib.lines.Line2D at 0x7f78d4b01cf8>]"
            ]
          },
          "metadata": {
            "tags": []
          },
          "execution_count": 11
        },
        {
          "output_type": "display_data",
          "data": {
            "image/png": "[encoded data removed]",
            "text/plain": [
              "<Figure size 432x288 with 1 Axes>"
            ]
          },
          "metadata": {
            "tags": [],
            "needs_background": "light"
          }
        }
      ]
    },
    {
      "cell_type": "code",
      "metadata": {
        "id": "1bCcBcFR4oax",
        "outputId": "be0b8f36-2d4b-4841-da27-9ce892659310",
        "colab": {
          "base_uri": "https://localhost:8080/",
          "height": 343
        }
      },
      "source": [
        "df=pd.DataFrame(np.random.randn(10,4))\n",
        "df"
      ],
      "execution_count": 16,
      "outputs": [
        {
          "output_type": "execute_result",
          "data": {
            "text/html": [
              "<div>\n",
              "<style scoped>\n",
              "    .dataframe tbody tr th:only-of-type {\n",
              "        vertical-align: middle;\n",
              "    }\n",
              "\n",
              "    .dataframe tbody tr th {\n",
              "        vertical-align: top;\n",
              "    }\n",
              "\n",
              "    .dataframe thead th {\n",
              "        text-align: right;\n",
              "    }\n",
              "</style>\n",
              "<table border=\"1\" class=\"dataframe\">\n",
              "  <thead>\n",
              "    <tr style=\"text-align: right;\">\n",
              "      <th></th>\n",
              "      <th>0</th>\n",
              "      <th>1</th>\n",
              "      <th>2</th>\n",
              "      <th>3</th>\n",
              "    </tr>\n",
              "  </thead>\n",
              "  <tbody>\n",
              "    <tr>\n",
              "      <th>0</th>\n",
              "      <td>-1.200092</td>\n",
              "      <td>-0.138949</td>\n",
              "      <td>0.302133</td>\n",
              "      <td>-0.423661</td>\n",
              "    </tr>\n",
              "    <tr>\n",
              "      <th>1</th>\n",
              "      <td>1.038854</td>\n",
              "      <td>1.656125</td>\n",
              "      <td>-0.775323</td>\n",
              "      <td>0.083550</td>\n",
              "    </tr>\n",
              "    <tr>\n",
              "      <th>2</th>\n",
              "      <td>-1.524066</td>\n",
              "      <td>-0.421627</td>\n",
              "      <td>-1.670472</td>\n",
              "      <td>1.061637</td>\n",
              "    </tr>\n",
              "    <tr>\n",
              "      <th>3</th>\n",
              "      <td>0.480291</td>\n",
              "      <td>-0.796970</td>\n",
              "      <td>1.446210</td>\n",
              "      <td>-0.311110</td>\n",
              "    </tr>\n",
              "    <tr>\n",
              "      <th>4</th>\n",
              "      <td>-0.585843</td>\n",
              "      <td>-0.134143</td>\n",
              "      <td>-0.309285</td>\n",
              "      <td>-0.113822</td>\n",
              "    </tr>\n",
              "    <tr>\n",
              "      <th>5</th>\n",
              "      <td>-0.327565</td>\n",
              "      <td>0.293451</td>\n",
              "      <td>-0.174555</td>\n",
              "      <td>0.700573</td>\n",
              "    </tr>\n",
              "    <tr>\n",
              "      <th>6</th>\n",
              "      <td>-0.841677</td>\n",
              "      <td>0.022741</td>\n",
              "      <td>0.776435</td>\n",
              "      <td>0.098275</td>\n",
              "    </tr>\n",
              "    <tr>\n",
              "      <th>7</th>\n",
              "      <td>0.271082</td>\n",
              "      <td>-1.162490</td>\n",
              "      <td>2.154499</td>\n",
              "      <td>1.429850</td>\n",
              "    </tr>\n",
              "    <tr>\n",
              "      <th>8</th>\n",
              "      <td>0.842023</td>\n",
              "      <td>0.474031</td>\n",
              "      <td>1.309193</td>\n",
              "      <td>-0.198818</td>\n",
              "    </tr>\n",
              "    <tr>\n",
              "      <th>9</th>\n",
              "      <td>-1.269128</td>\n",
              "      <td>-0.468203</td>\n",
              "      <td>0.767365</td>\n",
              "      <td>2.666896</td>\n",
              "    </tr>\n",
              "  </tbody>\n",
              "</table>\n",
              "</div>"
            ],
            "text/plain": [
              "          0         1         2         3\n",
              "0 -1.200092 -0.138949  0.302133 -0.423661\n",
              "1  1.038854  1.656125 -0.775323  0.083550\n",
              "2 -1.524066 -0.421627 -1.670472  1.061637\n",
              "3  0.480291 -0.796970  1.446210 -0.311110\n",
              "4 -0.585843 -0.134143 -0.309285 -0.113822\n",
              "5 -0.327565  0.293451 -0.174555  0.700573\n",
              "6 -0.841677  0.022741  0.776435  0.098275\n",
              "7  0.271082 -1.162490  2.154499  1.429850\n",
              "8  0.842023  0.474031  1.309193 -0.198818\n",
              "9 -1.269128 -0.468203  0.767365  2.666896"
            ]
          },
          "metadata": {
            "tags": []
          },
          "execution_count": 16
        }
      ]
    },
    {
      "cell_type": "code",
      "metadata": {
        "id": "CS6XWetl5K2A",
        "outputId": "1c2bb89b-e5a6-4ec1-b999-726bb00958c0",
        "colab": {
          "base_uri": "https://localhost:8080/",
          "height": 343
        }
      },
      "source": [
        "df=pd.DataFrame(np.random.randn(10,4).cumsum(axis=0))\n",
        "df"
      ],
      "execution_count": 17,
      "outputs": [
        {
          "output_type": "execute_result",
          "data": {
            "text/html": [
              "<div>\n",
              "<style scoped>\n",
              "    .dataframe tbody tr th:only-of-type {\n",
              "        vertical-align: middle;\n",
              "    }\n",
              "\n",
              "    .dataframe tbody tr th {\n",
              "        vertical-align: top;\n",
              "    }\n",
              "\n",
              "    .dataframe thead th {\n",
              "        text-align: right;\n",
              "    }\n",
              "</style>\n",
              "<table border=\"1\" class=\"dataframe\">\n",
              "  <thead>\n",
              "    <tr style=\"text-align: right;\">\n",
              "      <th></th>\n",
              "      <th>0</th>\n",
              "      <th>1</th>\n",
              "      <th>2</th>\n",
              "      <th>3</th>\n",
              "    </tr>\n",
              "  </thead>\n",
              "  <tbody>\n",
              "    <tr>\n",
              "      <th>0</th>\n",
              "      <td>0.407022</td>\n",
              "      <td>0.799069</td>\n",
              "      <td>-1.209695</td>\n",
              "      <td>-0.563979</td>\n",
              "    </tr>\n",
              "    <tr>\n",
              "      <th>1</th>\n",
              "      <td>0.849854</td>\n",
              "      <td>0.349645</td>\n",
              "      <td>-1.197070</td>\n",
              "      <td>1.070744</td>\n",
              "    </tr>\n",
              "    <tr>\n",
              "      <th>2</th>\n",
              "      <td>1.513001</td>\n",
              "      <td>0.270783</td>\n",
              "      <td>-0.910374</td>\n",
              "      <td>1.564107</td>\n",
              "    </tr>\n",
              "    <tr>\n",
              "      <th>3</th>\n",
              "      <td>-0.661377</td>\n",
              "      <td>1.312469</td>\n",
              "      <td>-0.807044</td>\n",
              "      <td>3.585063</td>\n",
              "    </tr>\n",
              "    <tr>\n",
              "      <th>4</th>\n",
              "      <td>-2.657395</td>\n",
              "      <td>3.032526</td>\n",
              "      <td>-0.486188</td>\n",
              "      <td>5.465116</td>\n",
              "    </tr>\n",
              "    <tr>\n",
              "      <th>5</th>\n",
              "      <td>-3.277541</td>\n",
              "      <td>2.700701</td>\n",
              "      <td>-0.446697</td>\n",
              "      <td>5.482758</td>\n",
              "    </tr>\n",
              "    <tr>\n",
              "      <th>6</th>\n",
              "      <td>-1.972720</td>\n",
              "      <td>2.607279</td>\n",
              "      <td>-0.304643</td>\n",
              "      <td>5.463637</td>\n",
              "    </tr>\n",
              "    <tr>\n",
              "      <th>7</th>\n",
              "      <td>-2.424970</td>\n",
              "      <td>2.086119</td>\n",
              "      <td>0.732840</td>\n",
              "      <td>5.233421</td>\n",
              "    </tr>\n",
              "    <tr>\n",
              "      <th>8</th>\n",
              "      <td>-0.690488</td>\n",
              "      <td>3.039734</td>\n",
              "      <td>1.439930</td>\n",
              "      <td>5.047606</td>\n",
              "    </tr>\n",
              "    <tr>\n",
              "      <th>9</th>\n",
              "      <td>-1.878156</td>\n",
              "      <td>2.267928</td>\n",
              "      <td>2.223145</td>\n",
              "      <td>3.305905</td>\n",
              "    </tr>\n",
              "  </tbody>\n",
              "</table>\n",
              "</div>"
            ],
            "text/plain": [
              "          0         1         2         3\n",
              "0  0.407022  0.799069 -1.209695 -0.563979\n",
              "1  0.849854  0.349645 -1.197070  1.070744\n",
              "2  1.513001  0.270783 -0.910374  1.564107\n",
              "3 -0.661377  1.312469 -0.807044  3.585063\n",
              "4 -2.657395  3.032526 -0.486188  5.465116\n",
              "5 -3.277541  2.700701 -0.446697  5.482758\n",
              "6 -1.972720  2.607279 -0.304643  5.463637\n",
              "7 -2.424970  2.086119  0.732840  5.233421\n",
              "8 -0.690488  3.039734  1.439930  5.047606\n",
              "9 -1.878156  2.267928  2.223145  3.305905"
            ]
          },
          "metadata": {
            "tags": []
          },
          "execution_count": 17
        }
      ]
    },
    {
      "cell_type": "code",
      "metadata": {
        "id": "a5YpwMRO5jiE",
        "outputId": "9a0c8989-c297-4cda-c954-af7d42c3feb2",
        "colab": {
          "base_uri": "https://localhost:8080/",
          "height": 343
        }
      },
      "source": [
        "df=pd.DataFrame(np.random.randn(10,4).cumsum(axis=0),columns=list('ABCD'),index=np.arange(0,100,10))\n",
        "df"
      ],
      "execution_count": 20,
      "outputs": [
        {
          "output_type": "execute_result",
          "data": {
            "text/html": [
              "<div>\n",
              "<style scoped>\n",
              "    .dataframe tbody tr th:only-of-type {\n",
              "        vertical-align: middle;\n",
              "    }\n",
              "\n",
              "    .dataframe tbody tr th {\n",
              "        vertical-align: top;\n",
              "    }\n",
              "\n",
              "    .dataframe thead th {\n",
              "        text-align: right;\n",
              "    }\n",
              "</style>\n",
              "<table border=\"1\" class=\"dataframe\">\n",
              "  <thead>\n",
              "    <tr style=\"text-align: right;\">\n",
              "      <th></th>\n",
              "      <th>A</th>\n",
              "      <th>B</th>\n",
              "      <th>C</th>\n",
              "      <th>D</th>\n",
              "    </tr>\n",
              "  </thead>\n",
              "  <tbody>\n",
              "    <tr>\n",
              "      <th>0</th>\n",
              "      <td>-0.481295</td>\n",
              "      <td>-0.549379</td>\n",
              "      <td>0.048997</td>\n",
              "      <td>-0.463129</td>\n",
              "    </tr>\n",
              "    <tr>\n",
              "      <th>10</th>\n",
              "      <td>-0.275447</td>\n",
              "      <td>0.852906</td>\n",
              "      <td>-0.152365</td>\n",
              "      <td>-3.179873</td>\n",
              "    </tr>\n",
              "    <tr>\n",
              "      <th>20</th>\n",
              "      <td>-2.925671</td>\n",
              "      <td>1.419847</td>\n",
              "      <td>-1.950531</td>\n",
              "      <td>-3.558271</td>\n",
              "    </tr>\n",
              "    <tr>\n",
              "      <th>30</th>\n",
              "      <td>-2.804653</td>\n",
              "      <td>0.298271</td>\n",
              "      <td>-2.205979</td>\n",
              "      <td>-3.668869</td>\n",
              "    </tr>\n",
              "    <tr>\n",
              "      <th>40</th>\n",
              "      <td>-2.096139</td>\n",
              "      <td>0.690189</td>\n",
              "      <td>-2.345510</td>\n",
              "      <td>-3.426398</td>\n",
              "    </tr>\n",
              "    <tr>\n",
              "      <th>50</th>\n",
              "      <td>-1.312761</td>\n",
              "      <td>0.926874</td>\n",
              "      <td>-2.064767</td>\n",
              "      <td>-2.049268</td>\n",
              "    </tr>\n",
              "    <tr>\n",
              "      <th>60</th>\n",
              "      <td>-0.450930</td>\n",
              "      <td>0.161152</td>\n",
              "      <td>-0.561131</td>\n",
              "      <td>-3.063286</td>\n",
              "    </tr>\n",
              "    <tr>\n",
              "      <th>70</th>\n",
              "      <td>-1.368612</td>\n",
              "      <td>-1.264335</td>\n",
              "      <td>-2.096200</td>\n",
              "      <td>-3.178361</td>\n",
              "    </tr>\n",
              "    <tr>\n",
              "      <th>80</th>\n",
              "      <td>-1.698293</td>\n",
              "      <td>-2.559942</td>\n",
              "      <td>-2.686391</td>\n",
              "      <td>-3.179932</td>\n",
              "    </tr>\n",
              "    <tr>\n",
              "      <th>90</th>\n",
              "      <td>-1.081592</td>\n",
              "      <td>-2.131619</td>\n",
              "      <td>-1.863548</td>\n",
              "      <td>-2.906829</td>\n",
              "    </tr>\n",
              "  </tbody>\n",
              "</table>\n",
              "</div>"
            ],
            "text/plain": [
              "           A         B         C         D\n",
              "0  -0.481295 -0.549379  0.048997 -0.463129\n",
              "10 -0.275447  0.852906 -0.152365 -3.179873\n",
              "20 -2.925671  1.419847 -1.950531 -3.558271\n",
              "30 -2.804653  0.298271 -2.205979 -3.668869\n",
              "40 -2.096139  0.690189 -2.345510 -3.426398\n",
              "50 -1.312761  0.926874 -2.064767 -2.049268\n",
              "60 -0.450930  0.161152 -0.561131 -3.063286\n",
              "70 -1.368612 -1.264335 -2.096200 -3.178361\n",
              "80 -1.698293 -2.559942 -2.686391 -3.179932\n",
              "90 -1.081592 -2.131619 -1.863548 -2.906829"
            ]
          },
          "metadata": {
            "tags": []
          },
          "execution_count": 20
        }
      ]
    },
    {
      "cell_type": "code",
      "metadata": {
        "id": "xKgxEevT6H4k",
        "outputId": "235f1234-0cda-436a-eee0-ec8822db6b02",
        "colab": {
          "base_uri": "https://localhost:8080/",
          "height": 282
        }
      },
      "source": [
        "df.plot()"
      ],
      "execution_count": 21,
      "outputs": [
        {
          "output_type": "execute_result",
          "data": {
            "text/plain": [
              "<matplotlib.axes._subplots.AxesSubplot at 0x7f78d4961048>"
            ]
          },
          "metadata": {
            "tags": []
          },
          "execution_count": 21
        },
        {
          "output_type": "display_data",
          "data": {
            "image/png": "[encoded data removed]",
            "text/plain": [
              "<Figure size 432x288 with 1 Axes>"
            ]
          },
          "metadata": {
            "tags": [],
            "needs_background": "light"
          }
        }
      ]
    },
    {
      "cell_type": "code",
      "metadata": {
        "id": "LimD2nwR6tJR",
        "outputId": "8a9f7890-45f1-409c-a99d-422d5dd86448",
        "colab": {
          "base_uri": "https://localhost:8080/",
          "height": 373
        }
      },
      "source": [
        "df.index.name='Time(sec)' #x축 제목\n",
        "df.columns.name='Random data' #columns 이름\n",
        "df"
      ],
      "execution_count": 32,
      "outputs": [
        {
          "output_type": "execute_result",
          "data": {
            "text/html": [
              "<div>\n",
              "<style scoped>\n",
              "    .dataframe tbody tr th:only-of-type {\n",
              "        vertical-align: middle;\n",
              "    }\n",
              "\n",
              "    .dataframe tbody tr th {\n",
              "        vertical-align: top;\n",
              "    }\n",
              "\n",
              "    .dataframe thead th {\n",
              "        text-align: right;\n",
              "    }\n",
              "</style>\n",
              "<table border=\"1\" class=\"dataframe\">\n",
              "  <thead>\n",
              "    <tr style=\"text-align: right;\">\n",
              "      <th>Random data</th>\n",
              "      <th>A</th>\n",
              "      <th>B</th>\n",
              "      <th>C</th>\n",
              "      <th>D</th>\n",
              "    </tr>\n",
              "    <tr>\n",
              "      <th>Time(sec)</th>\n",
              "      <th></th>\n",
              "      <th></th>\n",
              "      <th></th>\n",
              "      <th></th>\n",
              "    </tr>\n",
              "  </thead>\n",
              "  <tbody>\n",
              "    <tr>\n",
              "      <th>0</th>\n",
              "      <td>-0.481295</td>\n",
              "      <td>-0.549379</td>\n",
              "      <td>0.048997</td>\n",
              "      <td>-0.463129</td>\n",
              "    </tr>\n",
              "    <tr>\n",
              "      <th>10</th>\n",
              "      <td>-0.275447</td>\n",
              "      <td>0.852906</td>\n",
              "      <td>-0.152365</td>\n",
              "      <td>-3.179873</td>\n",
              "    </tr>\n",
              "    <tr>\n",
              "      <th>20</th>\n",
              "      <td>-2.925671</td>\n",
              "      <td>1.419847</td>\n",
              "      <td>-1.950531</td>\n",
              "      <td>-3.558271</td>\n",
              "    </tr>\n",
              "    <tr>\n",
              "      <th>30</th>\n",
              "      <td>-2.804653</td>\n",
              "      <td>0.298271</td>\n",
              "      <td>-2.205979</td>\n",
              "      <td>-3.668869</td>\n",
              "    </tr>\n",
              "    <tr>\n",
              "      <th>40</th>\n",
              "      <td>-2.096139</td>\n",
              "      <td>0.690189</td>\n",
              "      <td>-2.345510</td>\n",
              "      <td>-3.426398</td>\n",
              "    </tr>\n",
              "    <tr>\n",
              "      <th>50</th>\n",
              "      <td>-1.312761</td>\n",
              "      <td>0.926874</td>\n",
              "      <td>-2.064767</td>\n",
              "      <td>-2.049268</td>\n",
              "    </tr>\n",
              "    <tr>\n",
              "      <th>60</th>\n",
              "      <td>-0.450930</td>\n",
              "      <td>0.161152</td>\n",
              "      <td>-0.561131</td>\n",
              "      <td>-3.063286</td>\n",
              "    </tr>\n",
              "    <tr>\n",
              "      <th>70</th>\n",
              "      <td>-1.368612</td>\n",
              "      <td>-1.264335</td>\n",
              "      <td>-2.096200</td>\n",
              "      <td>-3.178361</td>\n",
              "    </tr>\n",
              "    <tr>\n",
              "      <th>80</th>\n",
              "      <td>-1.698293</td>\n",
              "      <td>-2.559942</td>\n",
              "      <td>-2.686391</td>\n",
              "      <td>-3.179932</td>\n",
              "    </tr>\n",
              "    <tr>\n",
              "      <th>90</th>\n",
              "      <td>-1.081592</td>\n",
              "      <td>-2.131619</td>\n",
              "      <td>-1.863548</td>\n",
              "      <td>-2.906829</td>\n",
              "    </tr>\n",
              "  </tbody>\n",
              "</table>\n",
              "</div>"
            ],
            "text/plain": [
              "Random data         A         B         C         D\n",
              "Time(sec)                                          \n",
              "0           -0.481295 -0.549379  0.048997 -0.463129\n",
              "10          -0.275447  0.852906 -0.152365 -3.179873\n",
              "20          -2.925671  1.419847 -1.950531 -3.558271\n",
              "30          -2.804653  0.298271 -2.205979 -3.668869\n",
              "40          -2.096139  0.690189 -2.345510 -3.426398\n",
              "50          -1.312761  0.926874 -2.064767 -2.049268\n",
              "60          -0.450930  0.161152 -0.561131 -3.063286\n",
              "70          -1.368612 -1.264335 -2.096200 -3.178361\n",
              "80          -1.698293 -2.559942 -2.686391 -3.179932\n",
              "90          -1.081592 -2.131619 -1.863548 -2.906829"
            ]
          },
          "metadata": {
            "tags": []
          },
          "execution_count": 32
        }
      ]
    },
    {
      "cell_type": "code",
      "metadata": {
        "id": "YOivd8Rf6-lR",
        "outputId": "19b10579-add3-423f-de07-999f9fad2fa2",
        "colab": {
          "base_uri": "https://localhost:8080/",
          "height": 297
        }
      },
      "source": [
        "df.plot()\n",
        "plt.ylabel('Random data') #Y축 제목을 따로 입력함"
      ],
      "execution_count": 33,
      "outputs": [
        {
          "output_type": "execute_result",
          "data": {
            "text/plain": [
              "Text(0, 0.5, 'Random data')"
            ]
          },
          "metadata": {
            "tags": []
          },
          "execution_count": 33
        },
        {
          "output_type": "display_data",
          "data": {
            "image/png": "[encoded data removed]",
            "text/plain": [
              "<Figure size 432x288 with 1 Axes>"
            ]
          },
          "metadata": {
            "tags": [],
            "needs_background": "light"
          }
        }
      ]
    },
    {
      "cell_type": "code",
      "metadata": {
        "id": "UBRQDrQJ7Eo1",
        "outputId": "f5b87f08-1f1f-4ee5-e54b-39e4505352d5",
        "colab": {
          "base_uri": "https://localhost:8080/",
          "height": 297
        }
      },
      "source": [
        "plt.plot(df)              #\n",
        "plt.legend(list('ABCD'))\n",
        "plt.xlabel('Time (sec)')\n",
        "plt.ylabel('Random data')"
      ],
      "execution_count": 30,
      "outputs": [
        {
          "output_type": "execute_result",
          "data": {
            "text/plain": [
              "Text(0, 0.5, 'Random data')"
            ]
          },
          "metadata": {
            "tags": []
          },
          "execution_count": 30
        },
        {
          "output_type": "display_data",
          "data": {
            "image/png": "[encoded data removed]",
            "text/plain": [
              "<Figure size 432x288 with 1 Axes>"
            ]
          },
          "metadata": {
            "tags": [],
            "needs_background": "light"
          }
        }
      ]
    },
    {
      "cell_type": "code",
      "metadata": {
        "id": "SZOSwHys7thv",
        "outputId": "ecef51ef-bfb4-4c49-cb64-39cfa5552e5a",
        "colab": {
          "base_uri": "https://localhost:8080/",
          "height": 228
        }
      },
      "source": [
        "df['A']"
      ],
      "execution_count": 34,
      "outputs": [
        {
          "output_type": "execute_result",
          "data": {
            "text/plain": [
              "Time(sec)\n",
              "0    -0.481295\n",
              "10   -0.275447\n",
              "20   -2.925671\n",
              "30   -2.804653\n",
              "40   -2.096139\n",
              "50   -1.312761\n",
              "60   -0.450930\n",
              "70   -1.368612\n",
              "80   -1.698293\n",
              "90   -1.081592\n",
              "Name: A, dtype: float64"
            ]
          },
          "metadata": {
            "tags": []
          },
          "execution_count": 34
        }
      ]
    },
    {
      "cell_type": "code",
      "metadata": {
        "id": "Fov87_0J8oXQ",
        "outputId": "6dba913b-02c2-498d-c4a4-35353e805c50",
        "colab": {
          "base_uri": "https://localhost:8080/",
          "height": 297
        }
      },
      "source": [
        "df['A'].plot() #A 시리즈만 그래프 출력"
      ],
      "execution_count": 35,
      "outputs": [
        {
          "output_type": "execute_result",
          "data": {
            "text/plain": [
              "<matplotlib.axes._subplots.AxesSubplot at 0x7f78d45a5eb8>"
            ]
          },
          "metadata": {
            "tags": []
          },
          "execution_count": 35
        },
        {
          "output_type": "display_data",
          "data": {
            "image/png": "[encoded data removed]",
            "text/plain": [
              "<Figure size 432x288 with 1 Axes>"
            ]
          },
          "metadata": {
            "tags": [],
            "needs_background": "light"
          }
        }
      ]
    },
    {
      "cell_type": "code",
      "metadata": {
        "id": "jbSfz0Yb8rbB",
        "outputId": "c5b0152f-1346-4dbf-c373-79c68dde139b",
        "colab": {
          "base_uri": "https://localhost:8080/",
          "height": 297
        }
      },
      "source": [
        "df.loc[:,['A','C']].plot() #A, C만 그래프를 출력"
      ],
      "execution_count": 36,
      "outputs": [
        {
          "output_type": "execute_result",
          "data": {
            "text/plain": [
              "<matplotlib.axes._subplots.AxesSubplot at 0x7f78d4588208>"
            ]
          },
          "metadata": {
            "tags": []
          },
          "execution_count": 36
        },
        {
          "output_type": "display_data",
          "data": {
            "image/png": "[encoded data removed]",
            "text/plain": [
              "<Figure size 432x288 with 1 Axes>"
            ]
          },
          "metadata": {
            "tags": [],
            "needs_background": "light"
          }
        }
      ]
    },
    {
      "cell_type": "code",
      "metadata": {
        "id": "kSPtwO4J9Amv",
        "outputId": "2bb8014b-c631-4009-8309-e45814167be7",
        "colab": {
          "base_uri": "https://localhost:8080/",
          "height": 282
        }
      },
      "source": [
        "plt.plot(df['B']) #B만 그래프를 출력"
      ],
      "execution_count": 37,
      "outputs": [
        {
          "output_type": "execute_result",
          "data": {
            "text/plain": [
              "[<matplotlib.lines.Line2D at 0x7f78d44a7400>]"
            ]
          },
          "metadata": {
            "tags": []
          },
          "execution_count": 37
        },
        {
          "output_type": "display_data",
          "data": {
            "image/png": "[encoded data removed]",
            "text/plain": [
              "<Figure size 432x288 with 1 Axes>"
            ]
          },
          "metadata": {
            "tags": [],
            "needs_background": "light"
          }
        }
      ]
    },
    {
      "cell_type": "code",
      "metadata": {
        "id": "HHXnC16h9Iqc",
        "outputId": "5d88e9e7-4430-4810-bea1-4c0e256a0b21",
        "colab": {
          "base_uri": "https://localhost:8080/",
          "height": 300
        }
      },
      "source": [
        "plt.plot(df[['C','D']]) #C, D만 그래프를 출력"
      ],
      "execution_count": 39,
      "outputs": [
        {
          "output_type": "execute_result",
          "data": {
            "text/plain": [
              "[<matplotlib.lines.Line2D at 0x7f78d442aa58>,\n",
              " <matplotlib.lines.Line2D at 0x7f78d442ab70>]"
            ]
          },
          "metadata": {
            "tags": []
          },
          "execution_count": 39
        },
        {
          "output_type": "display_data",
          "data": {
            "image/png": "[encoded data removed]",
            "text/plain": [
              "<Figure size 432x288 with 1 Axes>"
            ]
          },
          "metadata": {
            "tags": [],
            "needs_background": "light"
          }
        }
      ]
    },
    {
      "cell_type": "code",
      "metadata": {
        "id": "HFqqUEKz9Xhf",
        "outputId": "329059be-3599-4080-ea73-6b1b54b49c0a",
        "colab": {
          "base_uri": "https://localhost:8080/",
          "height": 210
        }
      },
      "source": [
        "s"
      ],
      "execution_count": 40,
      "outputs": [
        {
          "output_type": "execute_result",
          "data": {
            "text/plain": [
              "0     1.391095\n",
              "10    2.460141\n",
              "20    1.425937\n",
              "30    0.642440\n",
              "40    0.023764\n",
              "50   -0.042465\n",
              "60   -0.701564\n",
              "70   -0.415670\n",
              "80   -0.429355\n",
              "90   -0.472376\n",
              "dtype: float64"
            ]
          },
          "metadata": {
            "tags": []
          },
          "execution_count": 40
        }
      ]
    },
    {
      "cell_type": "code",
      "metadata": {
        "id": "OusC3FtL9d9d",
        "outputId": "86a8461b-436f-41b2-f991-d3fd9f59a8e7",
        "colab": {
          "base_uri": "https://localhost:8080/",
          "height": 282
        }
      },
      "source": [
        "s.plot()"
      ],
      "execution_count": 41,
      "outputs": [
        {
          "output_type": "execute_result",
          "data": {
            "text/plain": [
              "<matplotlib.axes._subplots.AxesSubplot at 0x7f78d446c390>"
            ]
          },
          "metadata": {
            "tags": []
          },
          "execution_count": 41
        },
        {
          "output_type": "display_data",
          "data": {
            "image/png": "[encoded data removed]",
            "text/plain": [
              "<Figure size 432x288 with 1 Axes>"
            ]
          },
          "metadata": {
            "tags": [],
            "needs_background": "light"
          }
        }
      ]
    },
    {
      "cell_type": "markdown",
      "metadata": {
        "id": "XquRpZJ1EScF"
      },
      "source": [
        "##bar plot"
      ]
    },
    {
      "cell_type": "code",
      "metadata": {
        "id": "dm9fZQpq9gHc",
        "outputId": "cb220389-54a0-42cf-b9c5-afd333562b37",
        "colab": {
          "base_uri": "https://localhost:8080/",
          "height": 286
        }
      },
      "source": [
        "s.plot.bar() #bar plot를 쓰는 방법 1"
      ],
      "execution_count": 42,
      "outputs": [
        {
          "output_type": "execute_result",
          "data": {
            "text/plain": [
              "<matplotlib.axes._subplots.AxesSubplot at 0x7f78d460eb00>"
            ]
          },
          "metadata": {
            "tags": []
          },
          "execution_count": 42
        },
        {
          "output_type": "display_data",
          "data": {
            "image/png": "[encoded data removed]",
            "text/plain": [
              "<Figure size 432x288 with 1 Axes>"
            ]
          },
          "metadata": {
            "tags": [],
            "needs_background": "light"
          }
        }
      ]
    },
    {
      "cell_type": "code",
      "metadata": {
        "id": "xPlxch5x9isx",
        "outputId": "fdd938ef-7ba8-4cf8-abd7-41d78f74d585",
        "colab": {
          "base_uri": "https://localhost:8080/",
          "height": 286
        }
      },
      "source": [
        "s.plot(kind='bar') #bar plot를 쓰는 방법 2"
      ],
      "execution_count": 44,
      "outputs": [
        {
          "output_type": "execute_result",
          "data": {
            "text/plain": [
              "<matplotlib.axes._subplots.AxesSubplot at 0x7f78d4625080>"
            ]
          },
          "metadata": {
            "tags": []
          },
          "execution_count": 44
        },
        {
          "output_type": "display_data",
          "data": {
            "image/png": "[encoded data removed]",
            "text/plain": [
              "<Figure size 432x288 with 1 Axes>"
            ]
          },
          "metadata": {
            "tags": [],
            "needs_background": "light"
          }
        }
      ]
    },
    {
      "cell_type": "code",
      "metadata": {
        "id": "i6wkL5IT9uW6",
        "outputId": "9473b60e-7686-4884-bda0-7aaaa9a78669",
        "colab": {
          "base_uri": "https://localhost:8080/",
          "height": 282
        }
      },
      "source": [
        "plt.bar(s.index,s.values,width=5)"
      ],
      "execution_count": 48,
      "outputs": [
        {
          "output_type": "execute_result",
          "data": {
            "text/plain": [
              "<BarContainer object of 10 artists>"
            ]
          },
          "metadata": {
            "tags": []
          },
          "execution_count": 48
        },
        {
          "output_type": "display_data",
          "data": {
            "image/png": "[encoded data removed]",
            "text/plain": [
              "<Figure size 432x288 with 1 Axes>"
            ]
          },
          "metadata": {
            "tags": [],
            "needs_background": "light"
          }
        }
      ]
    },
    {
      "cell_type": "code",
      "metadata": {
        "id": "oePPiGUk999C",
        "outputId": "5d69ea23-cd49-4980-e8a1-748b834d37fe",
        "colab": {
          "base_uri": "https://localhost:8080/",
          "height": 282
        }
      },
      "source": [
        "plt.bar(s.index,s.values)"
      ],
      "execution_count": 49,
      "outputs": [
        {
          "output_type": "execute_result",
          "data": {
            "text/plain": [
              "<BarContainer object of 10 artists>"
            ]
          },
          "metadata": {
            "tags": []
          },
          "execution_count": 49
        },
        {
          "output_type": "display_data",
          "data": {
            "image/png": "[encoded data removed]",
            "text/plain": [
              "<Figure size 432x288 with 1 Axes>"
            ]
          },
          "metadata": {
            "tags": [],
            "needs_background": "light"
          }
        }
      ]
    },
    {
      "cell_type": "code",
      "metadata": {
        "id": "N5uT9keb-VR8",
        "outputId": "c96d6fca-8a2d-472d-b4d6-7e0691430d45",
        "colab": {
          "base_uri": "https://localhost:8080/",
          "height": 282
        }
      },
      "source": [
        "s.plot.barh() #수평방향 bar plot"
      ],
      "execution_count": 50,
      "outputs": [
        {
          "output_type": "execute_result",
          "data": {
            "text/plain": [
              "<matplotlib.axes._subplots.AxesSubplot at 0x7f78d43806a0>"
            ]
          },
          "metadata": {
            "tags": []
          },
          "execution_count": 50
        },
        {
          "output_type": "display_data",
          "data": {
            "image/png": "[encoded data removed]",
            "text/plain": [
              "<Figure size 432x288 with 1 Axes>"
            ]
          },
          "metadata": {
            "tags": [],
            "needs_background": "light"
          }
        }
      ]
    },
    {
      "cell_type": "code",
      "metadata": {
        "id": "lEdVUIYl-c9H",
        "outputId": "9ffd27bc-623c-421d-ebf1-35ee649f0a3a",
        "colab": {
          "base_uri": "https://localhost:8080/",
          "height": 300
        }
      },
      "source": [
        "df.plot.bar()             #pandas로 dataframe의 bar plot은 간단히 작성으로 가능함, 단 matplotlib는 각각의 데이터를 다 입력해야함.\n",
        "plt.ylabel('Random data')"
      ],
      "execution_count": 52,
      "outputs": [
        {
          "output_type": "execute_result",
          "data": {
            "text/plain": [
              "Text(0, 0.5, 'Random data')"
            ]
          },
          "metadata": {
            "tags": []
          },
          "execution_count": 52
        },
        {
          "output_type": "display_data",
          "data": {
            "image/png": "[encoded data removed]",
            "text/plain": [
              "<Figure size 432x288 with 1 Axes>"
            ]
          },
          "metadata": {
            "tags": [],
            "needs_background": "light"
          }
        }
      ]
    },
    {
      "cell_type": "code",
      "metadata": {
        "id": "vluJSoXj-qur",
        "outputId": "e7e9f797-86c5-443e-dfc3-1aa24a168fb3",
        "colab": {
          "base_uri": "https://localhost:8080/",
          "height": 282
        }
      },
      "source": [
        "plt.bar(df.index,df['A'],label='A')\n",
        "plt.bar(df.index+2,df['B'],label='B')\n",
        "plt.legend()"
      ],
      "execution_count": 64,
      "outputs": [
        {
          "output_type": "execute_result",
          "data": {
            "text/plain": [
              "<matplotlib.legend.Legend at 0x7f78d2929400>"
            ]
          },
          "metadata": {
            "tags": []
          },
          "execution_count": 64
        },
        {
          "output_type": "display_data",
          "data": {
            "image/png": "[encoded data removed]",
            "text/plain": [
              "<Figure size 432x288 with 1 Axes>"
            ]
          },
          "metadata": {
            "tags": [],
            "needs_background": "light"
          }
        }
      ]
    },
    {
      "cell_type": "markdown",
      "metadata": {
        "id": "pg6QSNzcEath"
      },
      "source": [
        "##histogram"
      ]
    },
    {
      "cell_type": "code",
      "metadata": {
        "id": "uYiyT9q-_U9x",
        "outputId": "d6bad506-f114-436f-e86c-fa024600d38a",
        "colab": {
          "base_uri": "https://localhost:8080/",
          "height": 228
        }
      },
      "source": [
        "s=pd.Series(np.random.randn(100)) #histogram\n",
        "s"
      ],
      "execution_count": 66,
      "outputs": [
        {
          "output_type": "execute_result",
          "data": {
            "text/plain": [
              "0     0.375092\n",
              "1     0.951739\n",
              "2    -0.235693\n",
              "3    -0.460931\n",
              "4    -0.659920\n",
              "        ...   \n",
              "95    0.166787\n",
              "96   -1.077887\n",
              "97   -0.246326\n",
              "98    1.440362\n",
              "99    1.148447\n",
              "Length: 100, dtype: float64"
            ]
          },
          "metadata": {
            "tags": []
          },
          "execution_count": 66
        }
      ]
    },
    {
      "cell_type": "code",
      "metadata": {
        "id": "MvjKsCvvAUDH",
        "outputId": "a68de533-b724-4698-f931-728993ad840c",
        "colab": {
          "base_uri": "https://localhost:8080/",
          "height": 282
        }
      },
      "source": [
        "s.plot.hist()"
      ],
      "execution_count": 67,
      "outputs": [
        {
          "output_type": "execute_result",
          "data": {
            "text/plain": [
              "<matplotlib.axes._subplots.AxesSubplot at 0x7f78d2aac240>"
            ]
          },
          "metadata": {
            "tags": []
          },
          "execution_count": 67
        },
        {
          "output_type": "display_data",
          "data": {
            "image/png": "[encoded data removed]",
            "text/plain": [
              "<Figure size 432x288 with 1 Axes>"
            ]
          },
          "metadata": {
            "tags": [],
            "needs_background": "light"
          }
        }
      ]
    },
    {
      "cell_type": "code",
      "metadata": {
        "id": "lcQMtRt_AjZN",
        "outputId": "00fbee18-001f-404e-c32c-26561ec68a74",
        "colab": {
          "base_uri": "https://localhost:8080/",
          "height": 34
        }
      },
      "source": [
        "s.std() #표준편차"
      ],
      "execution_count": 69,
      "outputs": [
        {
          "output_type": "execute_result",
          "data": {
            "text/plain": [
              "1.0097128249696494"
            ]
          },
          "metadata": {
            "tags": []
          },
          "execution_count": 69
        }
      ]
    },
    {
      "cell_type": "code",
      "metadata": {
        "id": "PmGdl-KbAlGG",
        "outputId": "f89867fe-5361-4af9-e22a-39d8d8566310",
        "colab": {
          "base_uri": "https://localhost:8080/",
          "height": 282
        }
      },
      "source": [
        "s.plot.hist(bins=20) #x축 간격"
      ],
      "execution_count": 70,
      "outputs": [
        {
          "output_type": "execute_result",
          "data": {
            "text/plain": [
              "<matplotlib.axes._subplots.AxesSubplot at 0x7f78d2808c18>"
            ]
          },
          "metadata": {
            "tags": []
          },
          "execution_count": 70
        },
        {
          "output_type": "display_data",
          "data": {
            "image/png": "[encoded data removed]",
            "text/plain": [
              "<Figure size 432x288 with 1 Axes>"
            ]
          },
          "metadata": {
            "tags": [],
            "needs_background": "light"
          }
        }
      ]
    },
    {
      "cell_type": "code",
      "metadata": {
        "id": "-HwEwX_nAzCm",
        "outputId": "72d25f67-5b63-4366-a1f5-0653d8bb347e",
        "colab": {
          "base_uri": "https://localhost:8080/",
          "height": 282
        }
      },
      "source": [
        "s.plot.hist(bins=30) #x축 간격"
      ],
      "execution_count": 71,
      "outputs": [
        {
          "output_type": "execute_result",
          "data": {
            "text/plain": [
              "<matplotlib.axes._subplots.AxesSubplot at 0x7f78d27c0e10>"
            ]
          },
          "metadata": {
            "tags": []
          },
          "execution_count": 71
        },
        {
          "output_type": "display_data",
          "data": {
            "image/png": "[encoded data removed]",
            "text/plain": [
              "<Figure size 432x288 with 1 Axes>"
            ]
          },
          "metadata": {
            "tags": [],
            "needs_background": "light"
          }
        }
      ]
    },
    {
      "cell_type": "code",
      "metadata": {
        "id": "wguqJ7NBA18D",
        "outputId": "b268b807-3408-466a-c41e-7f5586ccf778",
        "colab": {
          "base_uri": "https://localhost:8080/",
          "height": 282
        }
      },
      "source": [
        "s.plot.hist(bins=20,density=True) #총 합은 1"
      ],
      "execution_count": 73,
      "outputs": [
        {
          "output_type": "execute_result",
          "data": {
            "text/plain": [
              "<matplotlib.axes._subplots.AxesSubplot at 0x7f78d26e8668>"
            ]
          },
          "metadata": {
            "tags": []
          },
          "execution_count": 73
        },
        {
          "output_type": "display_data",
          "data": {
            "image/png": "[encoded data removed]",
            "text/plain": [
              "<Figure size 432x288 with 1 Axes>"
            ]
          },
          "metadata": {
            "tags": [],
            "needs_background": "light"
          }
        }
      ]
    },
    {
      "cell_type": "code",
      "metadata": {
        "id": "Fc4jEjzgBAWi",
        "outputId": "8dfd3b2f-bce6-4913-c699-318b197e381f",
        "colab": {
          "base_uri": "https://localhost:8080/",
          "height": 353
        }
      },
      "source": [
        "plt.hist(s)"
      ],
      "execution_count": 74,
      "outputs": [
        {
          "output_type": "execute_result",
          "data": {
            "text/plain": [
              "(array([ 2.,  3.,  7.,  6., 18., 23., 15., 22.,  3.,  1.]),\n",
              " array([-2.77562487, -2.23715054, -1.69867621, -1.16020187, -0.62172754,\n",
              "        -0.0832532 ,  0.45522113,  0.99369546,  1.5321698 ,  2.07064413,\n",
              "         2.60911847]),\n",
              " <a list of 10 Patch objects>)"
            ]
          },
          "metadata": {
            "tags": []
          },
          "execution_count": 74
        },
        {
          "output_type": "display_data",
          "data": {
            "image/png": "[encoded data removed]",
            "text/plain": [
              "<Figure size 432x288 with 1 Axes>"
            ]
          },
          "metadata": {
            "tags": [],
            "needs_background": "light"
          }
        }
      ]
    },
    {
      "cell_type": "code",
      "metadata": {
        "id": "GHp_Qg6DBKs-",
        "outputId": "14a429fe-156b-4320-9f44-6734543e4411",
        "colab": {
          "base_uri": "https://localhost:8080/",
          "height": 406
        }
      },
      "source": [
        "plt.hist(s,bins=20)"
      ],
      "execution_count": 75,
      "outputs": [
        {
          "output_type": "execute_result",
          "data": {
            "text/plain": [
              "(array([ 1.,  1.,  1.,  2.,  2.,  5.,  3.,  3.,  7., 11., 14.,  9.,  8.,\n",
              "         7., 15.,  7.,  0.,  3.,  0.,  1.]),\n",
              " array([-2.77562487, -2.50638771, -2.23715054, -1.96791337, -1.69867621,\n",
              "        -1.42943904, -1.16020187, -0.8909647 , -0.62172754, -0.35249037,\n",
              "        -0.0832532 ,  0.18598396,  0.45522113,  0.7244583 ,  0.99369546,\n",
              "         1.26293263,  1.5321698 ,  1.80140697,  2.07064413,  2.3398813 ,\n",
              "         2.60911847]),\n",
              " <a list of 20 Patch objects>)"
            ]
          },
          "metadata": {
            "tags": []
          },
          "execution_count": 75
        },
        {
          "output_type": "display_data",
          "data": {
            "image/png": "[encoded data removed]",
            "text/plain": [
              "<Figure size 432x288 with 1 Axes>"
            ]
          },
          "metadata": {
            "tags": [],
            "needs_background": "light"
          }
        }
      ]
    },
    {
      "cell_type": "markdown",
      "metadata": {
        "id": "MkCGoQJoBWTl"
      },
      "source": [
        "##Scatter plot"
      ]
    },
    {
      "cell_type": "code",
      "metadata": {
        "id": "9L5ZzJwmBsdG",
        "outputId": "8dc554a0-3b52-41d9-d755-6879dbed051f",
        "colab": {
          "base_uri": "https://localhost:8080/",
          "height": 373
        }
      },
      "source": [
        "df"
      ],
      "execution_count": 79,
      "outputs": [
        {
          "output_type": "execute_result",
          "data": {
            "text/html": [
              "<div>\n",
              "<style scoped>\n",
              "    .dataframe tbody tr th:only-of-type {\n",
              "        vertical-align: middle;\n",
              "    }\n",
              "\n",
              "    .dataframe tbody tr th {\n",
              "        vertical-align: top;\n",
              "    }\n",
              "\n",
              "    .dataframe thead th {\n",
              "        text-align: right;\n",
              "    }\n",
              "</style>\n",
              "<table border=\"1\" class=\"dataframe\">\n",
              "  <thead>\n",
              "    <tr style=\"text-align: right;\">\n",
              "      <th>Random data</th>\n",
              "      <th>A</th>\n",
              "      <th>B</th>\n",
              "      <th>C</th>\n",
              "      <th>D</th>\n",
              "    </tr>\n",
              "    <tr>\n",
              "      <th>Time(sec)</th>\n",
              "      <th></th>\n",
              "      <th></th>\n",
              "      <th></th>\n",
              "      <th></th>\n",
              "    </tr>\n",
              "  </thead>\n",
              "  <tbody>\n",
              "    <tr>\n",
              "      <th>0</th>\n",
              "      <td>-0.481295</td>\n",
              "      <td>-0.549379</td>\n",
              "      <td>0.048997</td>\n",
              "      <td>-0.463129</td>\n",
              "    </tr>\n",
              "    <tr>\n",
              "      <th>10</th>\n",
              "      <td>-0.275447</td>\n",
              "      <td>0.852906</td>\n",
              "      <td>-0.152365</td>\n",
              "      <td>-3.179873</td>\n",
              "    </tr>\n",
              "    <tr>\n",
              "      <th>20</th>\n",
              "      <td>-2.925671</td>\n",
              "      <td>1.419847</td>\n",
              "      <td>-1.950531</td>\n",
              "      <td>-3.558271</td>\n",
              "    </tr>\n",
              "    <tr>\n",
              "      <th>30</th>\n",
              "      <td>-2.804653</td>\n",
              "      <td>0.298271</td>\n",
              "      <td>-2.205979</td>\n",
              "      <td>-3.668869</td>\n",
              "    </tr>\n",
              "    <tr>\n",
              "      <th>40</th>\n",
              "      <td>-2.096139</td>\n",
              "      <td>0.690189</td>\n",
              "      <td>-2.345510</td>\n",
              "      <td>-3.426398</td>\n",
              "    </tr>\n",
              "    <tr>\n",
              "      <th>50</th>\n",
              "      <td>-1.312761</td>\n",
              "      <td>0.926874</td>\n",
              "      <td>-2.064767</td>\n",
              "      <td>-2.049268</td>\n",
              "    </tr>\n",
              "    <tr>\n",
              "      <th>60</th>\n",
              "      <td>-0.450930</td>\n",
              "      <td>0.161152</td>\n",
              "      <td>-0.561131</td>\n",
              "      <td>-3.063286</td>\n",
              "    </tr>\n",
              "    <tr>\n",
              "      <th>70</th>\n",
              "      <td>-1.368612</td>\n",
              "      <td>-1.264335</td>\n",
              "      <td>-2.096200</td>\n",
              "      <td>-3.178361</td>\n",
              "    </tr>\n",
              "    <tr>\n",
              "      <th>80</th>\n",
              "      <td>-1.698293</td>\n",
              "      <td>-2.559942</td>\n",
              "      <td>-2.686391</td>\n",
              "      <td>-3.179932</td>\n",
              "    </tr>\n",
              "    <tr>\n",
              "      <th>90</th>\n",
              "      <td>-1.081592</td>\n",
              "      <td>-2.131619</td>\n",
              "      <td>-1.863548</td>\n",
              "      <td>-2.906829</td>\n",
              "    </tr>\n",
              "  </tbody>\n",
              "</table>\n",
              "</div>"
            ],
            "text/plain": [
              "Random data         A         B         C         D\n",
              "Time(sec)                                          \n",
              "0           -0.481295 -0.549379  0.048997 -0.463129\n",
              "10          -0.275447  0.852906 -0.152365 -3.179873\n",
              "20          -2.925671  1.419847 -1.950531 -3.558271\n",
              "30          -2.804653  0.298271 -2.205979 -3.668869\n",
              "40          -2.096139  0.690189 -2.345510 -3.426398\n",
              "50          -1.312761  0.926874 -2.064767 -2.049268\n",
              "60          -0.450930  0.161152 -0.561131 -3.063286\n",
              "70          -1.368612 -1.264335 -2.096200 -3.178361\n",
              "80          -1.698293 -2.559942 -2.686391 -3.179932\n",
              "90          -1.081592 -2.131619 -1.863548 -2.906829"
            ]
          },
          "metadata": {
            "tags": []
          },
          "execution_count": 79
        }
      ]
    },
    {
      "cell_type": "code",
      "metadata": {
        "id": "KcKTU6eTBSNz",
        "outputId": "3dec2eed-2fac-4942-b84e-e3dfde47ad78",
        "colab": {
          "base_uri": "https://localhost:8080/",
          "height": 306
        }
      },
      "source": [
        "df.plot.scatter(x='A',y='B',s=df['C']*-100,c='D',cmap='coolwarm') \n",
        "#x, y는 dataframe에서 데이터를 가지고 옴. \n",
        "#s는 원의 크기를 dataframe에서 가지고 옴, \n",
        "#c는 컬러로 dataframe에서 데이터를 가지고옴. 그 뒤는 색상의 종류"
      ],
      "execution_count": 91,
      "outputs": [
        {
          "output_type": "stream",
          "text": [
            "/usr/local/lib/python3.6/dist-packages/matplotlib/collections.py:885: RuntimeWarning: invalid value encountered in sqrt\n",
            "  scale = np.sqrt(self._sizes) * dpi / 72.0 * self._factor\n"
          ],
          "name": "stderr"
        },
        {
          "output_type": "execute_result",
          "data": {
            "text/plain": [
              "<matplotlib.axes._subplots.AxesSubplot at 0x7f78d1fb0940>"
            ]
          },
          "metadata": {
            "tags": []
          },
          "execution_count": 91
        },
        {
          "output_type": "display_data",
          "data": {
            "image/png": "[encoded data removed]",
            "text/plain": [
              "<Figure size 432x288 with 2 Axes>"
            ]
          },
          "metadata": {
            "tags": [],
            "needs_background": "light"
          }
        }
      ]
    },
    {
      "cell_type": "code",
      "metadata": {
        "id": "m75hh_wYBhx7",
        "outputId": "42a849ab-c2fa-421f-a2e5-631871ee4a87",
        "colab": {
          "base_uri": "https://localhost:8080/",
          "height": 282
        }
      },
      "source": [
        "plt.scatter(x=df['A'],y=df['B'])"
      ],
      "execution_count": 92,
      "outputs": [
        {
          "output_type": "execute_result",
          "data": {
            "text/plain": [
              "<matplotlib.collections.PathCollection at 0x7f78d1e87630>"
            ]
          },
          "metadata": {
            "tags": []
          },
          "execution_count": 92
        },
        {
          "output_type": "display_data",
          "data": {
            "image/png": "[encoded data removed]",
            "text/plain": [
              "<Figure size 432x288 with 1 Axes>"
            ]
          },
          "metadata": {
            "tags": [],
            "needs_background": "light"
          }
        }
      ]
    },
    {
      "cell_type": "code",
      "metadata": {
        "id": "gFCW-9eEDUns",
        "outputId": "cbfa2a3d-f387-4d35-87ed-676a502fd6f2",
        "colab": {
          "base_uri": "https://localhost:8080/",
          "height": 318
        }
      },
      "source": [
        "plt.scatter(x=df['A'],y=df['B'],s=df['C']*-100,c=df['D'],cmap='coolwarm')"
      ],
      "execution_count": 95,
      "outputs": [
        {
          "output_type": "stream",
          "text": [
            "/usr/local/lib/python3.6/dist-packages/matplotlib/collections.py:885: RuntimeWarning: invalid value encountered in sqrt\n",
            "  scale = np.sqrt(self._sizes) * dpi / 72.0 * self._factor\n"
          ],
          "name": "stderr"
        },
        {
          "output_type": "execute_result",
          "data": {
            "text/plain": [
              "<matplotlib.collections.PathCollection at 0x7f78d1db8828>"
            ]
          },
          "metadata": {
            "tags": []
          },
          "execution_count": 95
        },
        {
          "output_type": "display_data",
          "data": {
            "image/png": "[encoded data removed]",
            "text/plain": [
              "<Figure size 432x288 with 1 Axes>"
            ]
          },
          "metadata": {
            "tags": [],
            "needs_background": "light"
          }
        }
      ]
    },
    {
      "cell_type": "code",
      "metadata": {
        "id": "3DNl20rkDhDQ",
        "outputId": "418e699a-40a2-494a-c2d8-8f5daeab4ea6",
        "colab": {
          "base_uri": "https://localhost:8080/",
          "height": 318
        }
      },
      "source": [
        "plt.scatter(x=df['A'],y=df['B'],s=df['C']*-100,c=df['D'])"
      ],
      "execution_count": 97,
      "outputs": [
        {
          "output_type": "stream",
          "text": [
            "/usr/local/lib/python3.6/dist-packages/matplotlib/collections.py:885: RuntimeWarning: invalid value encountered in sqrt\n",
            "  scale = np.sqrt(self._sizes) * dpi / 72.0 * self._factor\n"
          ],
          "name": "stderr"
        },
        {
          "output_type": "execute_result",
          "data": {
            "text/plain": [
              "<matplotlib.collections.PathCollection at 0x7f78d1cc3128>"
            ]
          },
          "metadata": {
            "tags": []
          },
          "execution_count": 97
        },
        {
          "output_type": "display_data",
          "data": {
            "image/png": "[encoded data removed]",
            "text/plain": [
              "<Figure size 432x288 with 1 Axes>"
            ]
          },
          "metadata": {
            "tags": [],
            "needs_background": "light"
          }
        }
      ]
    },
    {
      "cell_type": "code",
      "metadata": {
        "id": "_kipOjDUDzn2"
      },
      "source": [
        ""
      ],
      "execution_count": null,
      "outputs": []
    }
  ]
}