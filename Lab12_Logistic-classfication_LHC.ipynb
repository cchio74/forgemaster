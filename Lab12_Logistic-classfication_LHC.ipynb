{
  "nbformat": 4,
  "nbformat_minor": 0,
  "metadata": {
    "colab": {
      "name": "Lab11_BJ.ipynb",
      "provenance": [],
      "toc_visible": true,
      "include_colab_link": true
    },
    "kernelspec": {
      "name": "python3",
      "display_name": "Python 3"
    }
  },
  "cells": [
    {
      "cell_type": "markdown",
      "metadata": {
        "id": "view-in-github",
        "colab_type": "text"
      },
      "source": [
        "<a href=\"https://colab.research.google.com/github/cchio74/forgemaster/blob/master/Lab12_Logistic-classfication_LHC.ipynb\" target=\"_parent\"><img src=\"https://colab.research.google.com/assets/colab-badge.svg\" alt=\"Open In Colab\"/></a>"
      ]
    },
    {
      "cell_type": "code",
      "metadata": {
        "id": "ox-mCEuojVI5"
      },
      "source": [
        "import tensorflow as tf\r\n",
        "import numpy as np"
      ],
      "execution_count": 1,
      "outputs": []
    },
    {
      "cell_type": "code",
      "metadata": {
        "id": "Ny4ll6T8jewB"
      },
      "source": [
        "x_data=np.array([1,2,3,4,5,6,7,8,9,10],np.float32).reshape(5,2)\r\n",
        "y_data=np.array([1,2,3,4,5,6,7,8,9,10,11,12,13,14,15],np.float32).reshape(5,3)"
      ],
      "execution_count": 2,
      "outputs": []
    },
    {
      "cell_type": "code",
      "metadata": {
        "id": "RRsXLmGNimub",
        "colab": {
          "base_uri": "https://localhost:8080/"
        },
        "outputId": "44dbb187-5104-4b5a-accf-42ba43f6214e"
      },
      "source": [
        "x_data.shape"
      ],
      "execution_count": 3,
      "outputs": [
        {
          "output_type": "execute_result",
          "data": {
            "text/plain": [
              "(5, 2)"
            ]
          },
          "metadata": {
            "tags": []
          },
          "execution_count": 3
        }
      ]
    },
    {
      "cell_type": "code",
      "metadata": {
        "id": "T2OO8jiamZhu",
        "colab": {
          "base_uri": "https://localhost:8080/"
        },
        "outputId": "c6ade6e2-8d9e-4a70-df60-6efd628e26c1"
      },
      "source": [
        "x_data.shape[1]"
      ],
      "execution_count": 4,
      "outputs": [
        {
          "output_type": "execute_result",
          "data": {
            "text/plain": [
              "2"
            ]
          },
          "metadata": {
            "tags": []
          },
          "execution_count": 4
        }
      ]
    },
    {
      "cell_type": "code",
      "metadata": {
        "id": "OLFSXLaEmdFQ",
        "colab": {
          "base_uri": "https://localhost:8080/"
        },
        "outputId": "9dee68ed-b27a-43d3-b486-ff2749290643"
      },
      "source": [
        "y_data.shape[1]"
      ],
      "execution_count": 5,
      "outputs": [
        {
          "output_type": "execute_result",
          "data": {
            "text/plain": [
              "3"
            ]
          },
          "metadata": {
            "tags": []
          },
          "execution_count": 5
        }
      ]
    },
    {
      "cell_type": "code",
      "metadata": {
        "id": "7v_Sz6ycm0qn"
      },
      "source": [
        "input_dim=x_data.shape[1]\r\n",
        "units=y_data.shape[1]"
      ],
      "execution_count": 6,
      "outputs": []
    },
    {
      "cell_type": "markdown",
      "metadata": {
        "id": "pGvOi2tnj5eP"
      },
      "source": [
        "input(nxi), output(nxj) i는 인풋 갯수 j는 아웃풋 갯수, n데이터 갯수\r\n",
        "W와 b의 갯수는? W는 ixj개, [i,j] b는 j개 [1,j]"
      ]
    },
    {
      "cell_type": "markdown",
      "metadata": {
        "id": "vV-Wb3oClOg7"
      },
      "source": [
        "# Linear regression"
      ]
    },
    {
      "cell_type": "code",
      "metadata": {
        "id": "HpTfLDLdk9-1"
      },
      "source": [
        "learning_rate=1e-2"
      ],
      "execution_count": 23,
      "outputs": []
    },
    {
      "cell_type": "markdown",
      "metadata": {
        "id": "LItE--8wlvaN"
      },
      "source": [
        "그렇다면 w와 b의 사이즈를 어떻게 정하는가? 일일이 i와 j의 크기를 넣어줘야 하나? 아니면 자동으로 정할 수 있는가?\r\n",
        "x_data와 y_data의 dimension을 뽑을수 있으면 가능함.\r\n",
        "- x_data.shape[숫자] : 해당숫자-1에 해당하는 dimension을 뽑음."
      ]
    },
    {
      "cell_type": "code",
      "metadata": {
        "id": "pZ6ePKXCnVO5"
      },
      "source": [
        "w_init=tf.random_normal_initializer()\r\n",
        "b_init=tf.zeros_initializer()"
      ],
      "execution_count": 24,
      "outputs": []
    },
    {
      "cell_type": "code",
      "metadata": {
        "id": "Xhx7j69TlUD4"
      },
      "source": [
        "w=tf.Variable(w_init(shape=(input_dim,units)),dtype='float32')"
      ],
      "execution_count": 25,
      "outputs": []
    },
    {
      "cell_type": "code",
      "metadata": {
        "id": "IL8Mdh0Kl7JY"
      },
      "source": [
        "b=tf.Variable(b_init(shape=(units,)),dtype='float32')"
      ],
      "execution_count": 28,
      "outputs": []
    },
    {
      "cell_type": "code",
      "metadata": {
        "colab": {
          "base_uri": "https://localhost:8080/"
        },
        "id": "kiimyQf2mA4I",
        "outputId": "a107ce73-b7d9-458c-d5d3-86ed154d8625"
      },
      "source": [
        "for i in range(100):\r\n",
        "  # loss\r\n",
        "  with tf.GradientTape() as tape:\r\n",
        "    hypothesis=tf.matmul(x_data,w)+b   #매트릭스 곱하기 : np.matmul()\r\n",
        "    loss=tf.reduce_mean(tf.square(hypothesis-y_data))\r\n",
        "\r\n",
        "  # gradient\r\n",
        "  w_grad,b_grad=tape.gradient(loss,[w,b])\r\n",
        "\r\n",
        "  # updata\r\n",
        "  w.assign_sub(learning_rate*w_grad)\r\n",
        "  b.assign_sub(learning_rate*b_grad)\r\n",
        "\r\n",
        "  # display\r\n",
        "  if i % 10==0:\r\n",
        "    print('iteration {} loss {}'.format(i,loss))"
      ],
      "execution_count": 29,
      "outputs": [
        {
          "output_type": "stream",
          "text": [
            "iteration 0 loss 86.047607421875\n",
            "iteration 10 loss 0.16122177243232727\n",
            "iteration 20 loss 0.15467175841331482\n",
            "iteration 30 loss 0.1484241634607315\n",
            "iteration 40 loss 0.14242886006832123\n",
            "iteration 50 loss 0.13667577505111694\n",
            "iteration 60 loss 0.13115505874156952\n",
            "iteration 70 loss 0.12585732340812683\n",
            "iteration 80 loss 0.1207735538482666\n",
            "iteration 90 loss 0.11589513719081879\n"
          ],
          "name": "stdout"
        }
      ]
    },
    {
      "cell_type": "code",
      "metadata": {
        "colab": {
          "base_uri": "https://localhost:8080/"
        },
        "id": "nl1VxnVlmCzl",
        "outputId": "0336e407-ea7d-4493-9b40-bf9398563170"
      },
      "source": [
        "w.numpy()"
      ],
      "execution_count": 31,
      "outputs": [
        {
          "output_type": "execute_result",
          "data": {
            "text/plain": [
              "array([[0.73302114, 0.69894856, 0.72496474],\n",
              "       [0.605936  , 0.75387985, 0.84636915]], dtype=float32)"
            ]
          },
          "metadata": {
            "tags": []
          },
          "execution_count": 31
        }
      ]
    },
    {
      "cell_type": "code",
      "metadata": {
        "colab": {
          "base_uri": "https://localhost:8080/"
        },
        "id": "0OBrD6sypsO_",
        "outputId": "b04bdca3-72bb-4281-dd7e-8b500baf63b6"
      },
      "source": [
        "b.numpy()"
      ],
      "execution_count": 32,
      "outputs": [
        {
          "output_type": "execute_result",
          "data": {
            "text/plain": [
              "array([-0.07100045,  0.0492666 ,  0.19520605], dtype=float32)"
            ]
          },
          "metadata": {
            "tags": []
          },
          "execution_count": 32
        }
      ]
    },
    {
      "cell_type": "code",
      "metadata": {
        "colab": {
          "base_uri": "https://localhost:8080/"
        },
        "id": "5I5lX73Hpt7v",
        "outputId": "544e7ded-9d21-4abc-a6a8-990746040a99"
      },
      "source": [
        "w"
      ],
      "execution_count": 33,
      "outputs": [
        {
          "output_type": "execute_result",
          "data": {
            "text/plain": [
              "<tf.Variable 'Variable:0' shape=(2, 3) dtype=float32, numpy=\n",
              "array([[0.73302114, 0.69894856, 0.72496474],\n",
              "       [0.605936  , 0.75387985, 0.84636915]], dtype=float32)>"
            ]
          },
          "metadata": {
            "tags": []
          },
          "execution_count": 33
        }
      ]
    },
    {
      "cell_type": "code",
      "metadata": {
        "colab": {
          "base_uri": "https://localhost:8080/"
        },
        "id": "nPXE3MBApvLT",
        "outputId": "51965370-cff4-4497-e8da-72be698eb344"
      },
      "source": [
        "tf.matmul(x_data,w)+b"
      ],
      "execution_count": 34,
      "outputs": [
        {
          "output_type": "execute_result",
          "data": {
            "text/plain": [
              "<tf.Tensor: shape=(5, 3), dtype=float32, numpy=\n",
              "array([[ 1.8738927,  2.2559748,  2.6129093],\n",
              "       [ 4.551807 ,  5.1616316,  5.755577 ],\n",
              "       [ 7.229721 ,  8.067289 ,  8.898244 ],\n",
              "       [ 9.907636 , 10.972946 , 12.040913 ],\n",
              "       [12.58555  , 13.878602 , 15.18358  ]], dtype=float32)>"
            ]
          },
          "metadata": {
            "tags": []
          },
          "execution_count": 34
        }
      ]
    },
    {
      "cell_type": "code",
      "metadata": {
        "colab": {
          "base_uri": "https://localhost:8080/"
        },
        "id": "f_7Es6C4qAR2",
        "outputId": "bca3a868-e3e9-4603-ce42-5b2b8d45e69f"
      },
      "source": [
        "y_data"
      ],
      "execution_count": 35,
      "outputs": [
        {
          "output_type": "execute_result",
          "data": {
            "text/plain": [
              "array([[ 1.,  2.,  3.],\n",
              "       [ 4.,  5.,  6.],\n",
              "       [ 7.,  8.,  9.],\n",
              "       [10., 11., 12.],\n",
              "       [13., 14., 15.]], dtype=float32)"
            ]
          },
          "metadata": {
            "tags": []
          },
          "execution_count": 35
        }
      ]
    },
    {
      "cell_type": "markdown",
      "metadata": {
        "id": "FSGzCGXBqeJ8"
      },
      "source": [
        "# subclassing"
      ]
    },
    {
      "cell_type": "code",
      "metadata": {
        "id": "yGvk3Kj5qGR_"
      },
      "source": [
        "# model\r\n",
        "class Model(tf.keras.layers.Layer):\r\n",
        "  def __init__(self,input_dim,units):\r\n",
        "    super(Model,self).__init__()\r\n",
        "\r\n",
        "    self.w=self.add_weight(shape=(input_dim,units),initializer='random_normal')\r\n",
        "    self.b=self.add_weight(shape=(units,),initializer='zeros')\r\n",
        "\r\n",
        "  def call(self,inputs):\r\n",
        "    return tf.matmul(inputs,self.w)+self.b"
      ],
      "execution_count": 36,
      "outputs": []
    },
    {
      "cell_type": "code",
      "metadata": {
        "id": "fwTdrEQCucqX"
      },
      "source": [
        "# loss\r\n",
        "loss=tf.keras.losses.MeanSquaredError()"
      ],
      "execution_count": 37,
      "outputs": []
    },
    {
      "cell_type": "code",
      "metadata": {
        "id": "__2iQ6s7vOtU"
      },
      "source": [
        "# gradient\r\n",
        "def grad(model,inputs,targets):\r\n",
        "  with tf.GradientTape() as tape:\r\n",
        "    loss_value=loss(targets,model(inputs))\r\n",
        "  return tape.gradient(loss_value,[model.w, model.b])"
      ],
      "execution_count": 38,
      "outputs": []
    },
    {
      "cell_type": "code",
      "metadata": {
        "id": "GedQzkdNwCdw"
      },
      "source": [
        "# define\r\n",
        "model=Model(input_dim,units)\r\n",
        "optimizer=tf.keras.optimizers.SGD(learning_rate)"
      ],
      "execution_count": 39,
      "outputs": []
    },
    {
      "cell_type": "code",
      "metadata": {
        "id": "J6UTUsyEwJ6i"
      },
      "source": [
        "# learning\r\n",
        "for i in range(100):\r\n",
        "  # gradient\r\n",
        "  grads=grad(model,x_data,y_data)\r\n",
        "\r\n",
        "  # updata\r\n",
        "  optimizer.apply_gradients(zip(grads,[model.w,model.b]))\r\n",
        "\r\n",
        "  # display\r\n",
        "\r\n",
        "if 1%10==0:\r\n",
        "  print('{}{}'.format(i.loss(y_data,model(x_data))))"
      ],
      "execution_count": 41,
      "outputs": []
    },
    {
      "cell_type": "code",
      "metadata": {
        "colab": {
          "base_uri": "https://localhost:8080/"
        },
        "id": "1DbEbcaSyNQZ",
        "outputId": "468c5f46-68bd-4e09-f13f-12cbe921ff52"
      },
      "source": [
        "model.w.numpy()"
      ],
      "execution_count": 42,
      "outputs": [
        {
          "output_type": "execute_result",
          "data": {
            "text/plain": [
              "array([[0.79120815, 0.7586329 , 0.6824362 ],\n",
              "       [0.57564306, 0.7054894 , 0.87520576]], dtype=float32)"
            ]
          },
          "metadata": {
            "tags": []
          },
          "execution_count": 42
        }
      ]
    },
    {
      "cell_type": "code",
      "metadata": {
        "colab": {
          "base_uri": "https://localhost:8080/"
        },
        "id": "ay16ZYyiyUGq",
        "outputId": "38137985-45a1-452e-ae2d-9df1b2360eae"
      },
      "source": [
        "model.b.numpy()"
      ],
      "execution_count": 43,
      "outputs": [
        {
          "output_type": "execute_result",
          "data": {
            "text/plain": [
              "array([-0.21996708,  0.02507716,  0.25436047], dtype=float32)"
            ]
          },
          "metadata": {
            "tags": []
          },
          "execution_count": 43
        }
      ]
    },
    {
      "cell_type": "code",
      "metadata": {
        "colab": {
          "base_uri": "https://localhost:8080/"
        },
        "id": "shW6cnCDyVyY",
        "outputId": "170bea0a-e341-40bf-a56e-a73d0cc3a1a0"
      },
      "source": [
        "model(x_data)"
      ],
      "execution_count": 44,
      "outputs": [
        {
          "output_type": "execute_result",
          "data": {
            "text/plain": [
              "<tf.Tensor: shape=(5, 3), dtype=float32, numpy=\n",
              "array([[ 1.7225271,  2.1946888,  2.6872082],\n",
              "       [ 4.4562297,  5.122934 ,  5.8024926],\n",
              "       [ 7.1899323,  8.051178 ,  8.917776 ],\n",
              "       [ 9.923635 , 10.979423 , 12.03306  ],\n",
              "       [12.657337 , 13.907666 , 15.148344 ]], dtype=float32)>"
            ]
          },
          "metadata": {
            "tags": []
          },
          "execution_count": 44
        }
      ]
    },
    {
      "cell_type": "code",
      "metadata": {
        "colab": {
          "base_uri": "https://localhost:8080/"
        },
        "id": "71f5O8IzyYOU",
        "outputId": "1e1071d9-8e17-487a-9226-ba5d4e370ca8"
      },
      "source": [
        "y_data"
      ],
      "execution_count": 45,
      "outputs": [
        {
          "output_type": "execute_result",
          "data": {
            "text/plain": [
              "array([[ 1.,  2.,  3.],\n",
              "       [ 4.,  5.,  6.],\n",
              "       [ 7.,  8.,  9.],\n",
              "       [10., 11., 12.],\n",
              "       [13., 14., 15.]], dtype=float32)"
            ]
          },
          "metadata": {
            "tags": []
          },
          "execution_count": 45
        }
      ]
    },
    {
      "cell_type": "markdown",
      "metadata": {
        "id": "vqEi8Ot_yjKa"
      },
      "source": [
        "# Sequential model"
      ]
    },
    {
      "cell_type": "code",
      "metadata": {
        "id": "58ld0M9NyZbg"
      },
      "source": [
        "# model\r\n",
        "model=tf.keras.Sequential()\r\n",
        "model.add(tf.keras.Input(shape=(input_dim,)))\r\n",
        "model.add(tf.keras.layers.Dense(units,kernel_initializer='random_normal'))"
      ],
      "execution_count": 46,
      "outputs": []
    },
    {
      "cell_type": "code",
      "metadata": {
        "colab": {
          "base_uri": "https://localhost:8080/"
        },
        "id": "6v6mDlfdzd89",
        "outputId": "2b1cdac5-33ab-4789-95ba-af77797453ea"
      },
      "source": [
        "model.summary()"
      ],
      "execution_count": 47,
      "outputs": [
        {
          "output_type": "stream",
          "text": [
            "Model: \"sequential\"\n",
            "_________________________________________________________________\n",
            "Layer (type)                 Output Shape              Param #   \n",
            "=================================================================\n",
            "dense (Dense)                (None, 3)                 9         \n",
            "=================================================================\n",
            "Total params: 9\n",
            "Trainable params: 9\n",
            "Non-trainable params: 0\n",
            "_________________________________________________________________\n"
          ],
          "name": "stdout"
        }
      ]
    },
    {
      "cell_type": "code",
      "metadata": {
        "colab": {
          "base_uri": "https://localhost:8080/",
          "height": 201
        },
        "id": "BD8HuQjHz1M4",
        "outputId": "0120a695-2d83-4cab-b8d4-8cf279d4c668"
      },
      "source": [
        "tf.keras.utils.plot_model(model,show_shapes=True)"
      ],
      "execution_count": 48,
      "outputs": [
        {
          "output_type": "execute_result",
          "data": {
            "image/png": "[encoded data removed]",
            "text/plain": [
              "<IPython.core.display.Image object>"
            ]
          },
          "metadata": {
            "tags": []
          },
          "execution_count": 48
        }
      ]
    },
    {
      "cell_type": "code",
      "metadata": {
        "id": "yCgHfLwbz-rf"
      },
      "source": [
        "model.compile(optimizer=tf.keras.optimizers.SGD(learning_rate),loss=tf.keras.losses.MeanSquaredError())"
      ],
      "execution_count": 50,
      "outputs": []
    },
    {
      "cell_type": "code",
      "metadata": {
        "colab": {
          "base_uri": "https://localhost:8080/"
        },
        "id": "YyN_nq9B0jVs",
        "outputId": "6687f8e8-0c07-4b99-c57c-c32d61345f6f"
      },
      "source": [
        "# learning\r\n",
        "model.fit(x_data,y_data,epochs=100,verbose=0)"
      ],
      "execution_count": 51,
      "outputs": [
        {
          "output_type": "execute_result",
          "data": {
            "text/plain": [
              "<tensorflow.python.keras.callbacks.History at 0x7fda967ae6d8>"
            ]
          },
          "metadata": {
            "tags": []
          },
          "execution_count": 51
        }
      ]
    },
    {
      "cell_type": "code",
      "metadata": {
        "colab": {
          "base_uri": "https://localhost:8080/"
        },
        "id": "tdIcGQTp0zJ3",
        "outputId": "6e08f984-c8fa-44d6-b1af-55bbcfc8fa89"
      },
      "source": [
        "model.evaluate(x_data,y_data,verbose=1)"
      ],
      "execution_count": 52,
      "outputs": [
        {
          "output_type": "stream",
          "text": [
            "1/1 [==============================] - 0s 94ms/step - loss: 0.0991\n"
          ],
          "name": "stdout"
        },
        {
          "output_type": "execute_result",
          "data": {
            "text/plain": [
              "0.09908522665500641"
            ]
          },
          "metadata": {
            "tags": []
          },
          "execution_count": 52
        }
      ]
    },
    {
      "cell_type": "code",
      "metadata": {
        "colab": {
          "base_uri": "https://localhost:8080/"
        },
        "id": "ZueXaqec039g",
        "outputId": "d445f5c4-86bd-47d8-dbc9-be1d4e761d1c"
      },
      "source": [
        "model.get_weights()"
      ],
      "execution_count": 53,
      "outputs": [
        {
          "output_type": "execute_result",
          "data": {
            "text/plain": [
              "[array([[0.78028184, 0.74294394, 0.6775632 ],\n",
              "        [0.5661261 , 0.7155979 , 0.88811177]], dtype=float32),\n",
              " array([-0.07907236,  0.05083106,  0.18983056], dtype=float32)]"
            ]
          },
          "metadata": {
            "tags": []
          },
          "execution_count": 53
        }
      ]
    },
    {
      "cell_type": "code",
      "metadata": {
        "colab": {
          "base_uri": "https://localhost:8080/"
        },
        "id": "43ecYWpC1ZpD",
        "outputId": "95d6cfee-270c-4215-d8a3-aacdec1bb52d"
      },
      "source": [
        "y_data"
      ],
      "execution_count": null,
      "outputs": [
        {
          "output_type": "execute_result",
          "data": {
            "text/plain": [
              "array([[ 1.,  2.,  3.],\n",
              "       [ 4.,  5.,  6.],\n",
              "       [ 7.,  8.,  9.],\n",
              "       [10., 11., 12.],\n",
              "       [13., 14., 15.]], dtype=float32)"
            ]
          },
          "metadata": {
            "tags": []
          },
          "execution_count": 72
        }
      ]
    },
    {
      "cell_type": "code",
      "metadata": {
        "colab": {
          "base_uri": "https://localhost:8080/"
        },
        "id": "7v9DrqX01cy8",
        "outputId": "c2c11b79-6655-497d-a669-77f1aabb938f"
      },
      "source": [
        "model.predict(x_data)"
      ],
      "execution_count": null,
      "outputs": [
        {
          "output_type": "execute_result",
          "data": {
            "text/plain": [
              "array([[ 1.901368 ,  2.251976 ,  2.5816357],\n",
              "       [ 4.5691557,  5.1591067,  5.7358303],\n",
              "       [ 7.236944 ,  8.066237 ,  8.890023 ],\n",
              "       [ 9.904732 , 10.973368 , 12.044218 ],\n",
              "       [12.57252  , 13.880499 , 15.198413 ]], dtype=float32)"
            ]
          },
          "metadata": {
            "tags": []
          },
          "execution_count": 73
        }
      ]
    },
    {
      "cell_type": "code",
      "metadata": {
        "id": "DyiTeFjn1y4S"
      },
      "source": [
        ""
      ],
      "execution_count": null,
      "outputs": []
    }
  ]
}