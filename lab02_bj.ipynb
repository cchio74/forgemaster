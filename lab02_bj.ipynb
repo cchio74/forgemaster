{
  "nbformat": 4,
  "nbformat_minor": 0,
  "metadata": {
    "colab": {
      "name": "lab02_bj.ipynb",
      "provenance": [],
      "toc_visible": true,
      "authorship_tag": "ABX9TyMD9zn3vRPPpNNx+8ZxLYys",
      "include_colab_link": true
    },
    "kernelspec": {
      "name": "python3",
      "display_name": "Python 3"
    }
  },
  "cells": [
    {
      "cell_type": "markdown",
      "metadata": {
        "id": "view-in-github",
        "colab_type": "text"
      },
      "source": [
        "<a href=\"https://colab.research.google.com/github/cchio74/forgemaster/blob/master/lab02_bj.ipynb\" target=\"_parent\"><img src=\"https://colab.research.google.com/assets/colab-badge.svg\" alt=\"Open In Colab\"/></a>"
      ]
    },
    {
      "cell_type": "markdown",
      "metadata": {
        "id": "uAvF3IrUI1mi",
        "colab_type": "text"
      },
      "source": [
        "# 교육전 연습"
      ]
    },
    {
      "cell_type": "markdown",
      "metadata": {
        "id": "MdEDKCIhJEpD",
        "colab_type": "text"
      },
      "source": [
        "## 파이썬 기초2"
      ]
    },
    {
      "cell_type": "code",
      "metadata": {
        "id": "RuaNElMTJAtr",
        "colab_type": "code",
        "colab": {
          "base_uri": "https://localhost:8080/",
          "height": 35
        },
        "outputId": "28099de1-f1e3-4c23-b0d4-cc79b3b55efe"
      },
      "source": [
        "x=-1\n",
        "if x>0:\n",
        "  a=1\n",
        "  b=2\n",
        "  c=3\n",
        "else:\n",
        "  a=4\n",
        "  b=5\n",
        "  c=6\n",
        "print(c)"
      ],
      "execution_count": 5,
      "outputs": [
        {
          "output_type": "stream",
          "text": [
            "6\n"
          ],
          "name": "stdout"
        }
      ]
    },
    {
      "cell_type": "code",
      "metadata": {
        "id": "uG2hQh_IKHfL",
        "colab_type": "code",
        "colab": {
          "base_uri": "https://localhost:8080/",
          "height": 89
        },
        "outputId": "4840cf87-5cd1-46e3-aecc-c2a314aa4047"
      },
      "source": [
        "s = '''아리랑\n",
        "아리랑\n",
        "아라리요\n",
        "'''\n",
        "print(s)"
      ],
      "execution_count": 6,
      "outputs": [
        {
          "output_type": "stream",
          "text": [
            "아리랑\n",
            "아리랑\n",
            "아라리요\n",
            "\n"
          ],
          "name": "stdout"
        }
      ]
    },
    {
      "cell_type": "code",
      "metadata": {
        "id": "zFg2q4nOKOPE",
        "colab_type": "code",
        "colab": {
          "base_uri": "https://localhost:8080/",
          "height": 71
        },
        "outputId": "fdd76dca-f2b2-43c5-fe29-a4e8207174d6"
      },
      "source": [
        "s = '아리랑\\n아리랑\\n아라리요'\n",
        "print(s)"
      ],
      "execution_count": 7,
      "outputs": [
        {
          "output_type": "stream",
          "text": [
            "아리랑\n",
            "아리랑\n",
            "아라리요\n"
          ],
          "name": "stdout"
        }
      ]
    },
    {
      "cell_type": "code",
      "metadata": {
        "id": "gOV0TDMlLHXR",
        "colab_type": "code",
        "colab": {
          "base_uri": "https://localhost:8080/",
          "height": 35
        },
        "outputId": "bdf19e1f-484f-4c09-9e5e-e592d12f9b50"
      },
      "source": [
        "p = \"이름: %s 나이: %d\" % (\"김유신\", 65)\n",
        "print(p)"
      ],
      "execution_count": 8,
      "outputs": [
        {
          "output_type": "stream",
          "text": [
            "이름: 김유신 나이: 65\n"
          ],
          "name": "stdout"
        }
      ]
    },
    {
      "cell_type": "code",
      "metadata": {
        "id": "mMcE-iDBLXGc",
        "colab_type": "code",
        "colab": {
          "base_uri": "https://localhost:8080/",
          "height": 35
        },
        "outputId": "b873d9a2-5ca0-44a5-8fb0-0ea6d47e09bc"
      },
      "source": [
        "p = \"X = %0.3f, Y = %10.2f\" % (3.141592, 3.141592)\n",
        "print(p)"
      ],
      "execution_count": 9,
      "outputs": [
        {
          "output_type": "stream",
          "text": [
            "X = 3.142, Y =       3.14\n"
          ],
          "name": "stdout"
        }
      ]
    },
    {
      "cell_type": "code",
      "metadata": {
        "id": "Dpc2BjVaMDKp",
        "colab_type": "code",
        "colab": {
          "base_uri": "https://localhost:8080/",
          "height": 35
        },
        "outputId": "c6696971-168c-4256-c045-65c87d2d7cb3"
      },
      "source": [
        "items = '가나,다라,마바'.split(',')\n",
        "print(items)"
      ],
      "execution_count": 10,
      "outputs": [
        {
          "output_type": "stream",
          "text": [
            "['가나', '다라', '마바']\n"
          ],
          "name": "stdout"
        }
      ]
    },
    {
      "cell_type": "code",
      "metadata": {
        "id": "Ba6IGg_7MrdX",
        "colab_type": "code",
        "colab": {
          "base_uri": "https://localhost:8080/",
          "height": 35
        },
        "outputId": "3bb0beb5-63f9-4564-ba78-47883eed1aa7"
      },
      "source": [
        "s = \"Name: {name}, Age: {age}\".format(name=\"강정수\", age=30)\n",
        "print(s)"
      ],
      "execution_count": 11,
      "outputs": [
        {
          "output_type": "stream",
          "text": [
            "Name: 강정수, Age: 30\n"
          ],
          "name": "stdout"
        }
      ]
    }
  ]
}