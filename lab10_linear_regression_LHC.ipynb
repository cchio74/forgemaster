{
  "nbformat": 4,
  "nbformat_minor": 0,
  "metadata": {
    "colab": {
      "name": "lab10-linear_regression-LHC.ipynb",
      "provenance": [],
      "authorship_tag": "ABX9TyO0Rf8besVBm1q01JwVPWKq",
      "include_colab_link": true
    },
    "kernelspec": {
      "name": "python3",
      "display_name": "Python 3"
    }
  },
  "cells": [
    {
      "cell_type": "markdown",
      "metadata": {
        "id": "view-in-github",
        "colab_type": "text"
      },
      "source": [
        "<a href=\"https://colab.research.google.com/github/cchio74/forgemaster/blob/master/lab10_linear_regression_LHC.ipynb\" target=\"_parent\"><img src=\"https://colab.research.google.com/assets/colab-badge.svg\" alt=\"Open In Colab\"/></a>"
      ]
    },
    {
      "cell_type": "code",
      "metadata": {
        "id": "sBfTVkeCaZVL"
      },
      "source": [
        "import tensorflow as tf\r\n",
        "import numpy as np\r\n"
      ],
      "execution_count": 1,
      "outputs": []
    },
    {
      "cell_type": "code",
      "metadata": {
        "colab": {
          "base_uri": "https://localhost:8080/",
          "height": 35
        },
        "id": "XNQNqANHanVG",
        "outputId": "f4e19212-0176-487d-bcfb-4bd5e812822f"
      },
      "source": [
        "tf.__version__"
      ],
      "execution_count": 2,
      "outputs": [
        {
          "output_type": "execute_result",
          "data": {
            "application/vnd.google.colaboratory.intrinsic+json": {
              "type": "string"
            },
            "text/plain": [
              "'2.3.0'"
            ]
          },
          "metadata": {
            "tags": []
          },
          "execution_count": 2
        }
      ]
    },
    {
      "cell_type": "markdown",
      "metadata": {
        "id": "oPcNB-Gga_1z"
      },
      "source": [
        "##data"
      ]
    },
    {
      "cell_type": "code",
      "metadata": {
        "colab": {
          "base_uri": "https://localhost:8080/"
        },
        "id": "No5n5H4XasqI",
        "outputId": "1edeecaa-2b3c-42f2-f3f3-58c5f2619302"
      },
      "source": [
        "x_data=np.array([1,2,3,4,5],np.float32)\r\n",
        "x_data.dtype"
      ],
      "execution_count": 5,
      "outputs": [
        {
          "output_type": "execute_result",
          "data": {
            "text/plain": [
              "dtype('float32')"
            ]
          },
          "metadata": {
            "tags": []
          },
          "execution_count": 5
        }
      ]
    },
    {
      "cell_type": "code",
      "metadata": {
        "colab": {
          "base_uri": "https://localhost:8080/"
        },
        "id": "5xQebwGtbJvT",
        "outputId": "4777d8d8-4d64-49af-d52b-6860ba7cdbdd"
      },
      "source": [
        "x_data"
      ],
      "execution_count": 7,
      "outputs": [
        {
          "output_type": "execute_result",
          "data": {
            "text/plain": [
              "array([1., 2., 3., 4., 5.], dtype=float32)"
            ]
          },
          "metadata": {
            "tags": []
          },
          "execution_count": 7
        }
      ]
    },
    {
      "cell_type": "code",
      "metadata": {
        "colab": {
          "base_uri": "https://localhost:8080/"
        },
        "id": "zfnFLJdybRlv",
        "outputId": "7dee44ae-bdfc-44cd-fd39-fe7197c85725"
      },
      "source": [
        "y_data=np.array([1,2,3,4,5],np.float32)\r\n",
        "y_data"
      ],
      "execution_count": 8,
      "outputs": [
        {
          "output_type": "execute_result",
          "data": {
            "text/plain": [
              "array([1., 2., 3., 4., 5.], dtype=float32)"
            ]
          },
          "metadata": {
            "tags": []
          },
          "execution_count": 8
        }
      ]
    },
    {
      "cell_type": "code",
      "metadata": {
        "colab": {
          "base_uri": "https://localhost:8080/"
        },
        "id": "MufZzClXbaSm",
        "outputId": "fa0a95fb-1dce-4f92-bf4f-e39b31e912cf"
      },
      "source": [
        "x_data.shape"
      ],
      "execution_count": 9,
      "outputs": [
        {
          "output_type": "execute_result",
          "data": {
            "text/plain": [
              "(5,)"
            ]
          },
          "metadata": {
            "tags": []
          },
          "execution_count": 9
        }
      ]
    },
    {
      "cell_type": "markdown",
      "metadata": {
        "id": "lnSZL41WcPSj"
      },
      "source": [
        "##Linear regression"
      ]
    },
    {
      "cell_type": "code",
      "metadata": {
        "id": "WvUTsVdSbe_7"
      },
      "source": [
        "learning_rate=1e-2"
      ],
      "execution_count": 10,
      "outputs": []
    },
    {
      "cell_type": "code",
      "metadata": {
        "colab": {
          "base_uri": "https://localhost:8080/"
        },
        "id": "hKCBL5UNcXQq",
        "outputId": "89be714a-e7ff-452d-8630-e006b209fc71"
      },
      "source": [
        "# w, b를 정하면 됨. tensor flow의 variable 함수를 사용하면 됨.\r\n",
        "w=tf.Variable([0],dtype='float32',name='weight')\r\n",
        "b=tf.Variable([0],dtype='float32',name='bias')\r\n",
        "w"
      ],
      "execution_count": 47,
      "outputs": [
        {
          "output_type": "execute_result",
          "data": {
            "text/plain": [
              "<tf.Variable 'weight:0' shape=(1,) dtype=float32, numpy=array([0.], dtype=float32)>"
            ]
          },
          "metadata": {
            "tags": []
          },
          "execution_count": 47
        }
      ]
    },
    {
      "cell_type": "code",
      "metadata": {
        "colab": {
          "base_uri": "https://localhost:8080/"
        },
        "id": "5beeDtyYfNNE",
        "outputId": "75aa2872-0325-4a64-ad0e-a6455b423a8a"
      },
      "source": [
        "b"
      ],
      "execution_count": 16,
      "outputs": [
        {
          "output_type": "execute_result",
          "data": {
            "text/plain": [
              "<tf.Variable 'bias:0' shape=(1,) dtype=float32, numpy=array([0.], dtype=float32)>"
            ]
          },
          "metadata": {
            "tags": []
          },
          "execution_count": 16
        }
      ]
    },
    {
      "cell_type": "code",
      "metadata": {
        "colab": {
          "base_uri": "https://localhost:8080/"
        },
        "id": "rhsJS5gyfvfr",
        "outputId": "e11aa91f-6b40-4da6-a91d-ac1d1b7bdbc2"
      },
      "source": [
        "hypothesis=x_data*w+b\r\n",
        "hypothesis"
      ],
      "execution_count": 18,
      "outputs": [
        {
          "output_type": "execute_result",
          "data": {
            "text/plain": [
              "<tf.Tensor: shape=(5,), dtype=float32, numpy=array([0., 0., 0., 0., 0.], dtype=float32)>"
            ]
          },
          "metadata": {
            "tags": []
          },
          "execution_count": 18
        }
      ]
    },
    {
      "cell_type": "code",
      "metadata": {
        "colab": {
          "base_uri": "https://localhost:8080/"
        },
        "id": "63t9m4FygM5p",
        "outputId": "77312cb8-5422-467f-8de5-48c8a324cfc9"
      },
      "source": [
        "loss=tf.math.square(hypothesis-y_data) #np로 제곱하면 형변환됨. \r\n",
        "loss"
      ],
      "execution_count": 23,
      "outputs": [
        {
          "output_type": "execute_result",
          "data": {
            "text/plain": [
              "<tf.Tensor: shape=(5,), dtype=float32, numpy=array([ 1.,  4.,  9., 16., 25.], dtype=float32)>"
            ]
          },
          "metadata": {
            "tags": []
          },
          "execution_count": 23
        }
      ]
    },
    {
      "cell_type": "code",
      "metadata": {
        "colab": {
          "base_uri": "https://localhost:8080/"
        },
        "id": "PW0LANF0hifU",
        "outputId": "a0ce578d-4737-4e08-db90-f68b0320734b"
      },
      "source": [
        "loss=tf.reduce_mean(tf.math.square(hypothesis-y_data)) #np로 쓰면 형변환됨\r\n",
        "loss"
      ],
      "execution_count": 26,
      "outputs": [
        {
          "output_type": "execute_result",
          "data": {
            "text/plain": [
              "<tf.Tensor: shape=(), dtype=float32, numpy=11.0>"
            ]
          },
          "metadata": {
            "tags": []
          },
          "execution_count": 26
        }
      ]
    },
    {
      "cell_type": "code",
      "metadata": {
        "id": "rUC4sMJIiMBv"
      },
      "source": [
        "with tf.GradientTape() as tape:   #편미분을 구하기 위해서\r\n",
        "    hypothesis=x_data*w+b\r\n",
        "    loss=tf.reduce_mean(tf.math.square(hypothesis-y_data))"
      ],
      "execution_count": 35,
      "outputs": []
    },
    {
      "cell_type": "code",
      "metadata": {
        "id": "bDN7IM0Fks5h"
      },
      "source": [
        "w_grad,b_grad=tape.gradient(loss,[w,b]) #타겟은 loss, 소스는 w,b"
      ],
      "execution_count": 36,
      "outputs": []
    },
    {
      "cell_type": "code",
      "metadata": {
        "colab": {
          "base_uri": "https://localhost:8080/"
        },
        "id": "qy7OL65SlZw7",
        "outputId": "5e1d673a-12a5-4de6-cfc0-4bb32b91aac3"
      },
      "source": [
        "w_grad"
      ],
      "execution_count": 37,
      "outputs": [
        {
          "output_type": "execute_result",
          "data": {
            "text/plain": [
              "<tf.Tensor: shape=(1,), dtype=float32, numpy=array([-22.], dtype=float32)>"
            ]
          },
          "metadata": {
            "tags": []
          },
          "execution_count": 37
        }
      ]
    },
    {
      "cell_type": "code",
      "metadata": {
        "colab": {
          "base_uri": "https://localhost:8080/"
        },
        "id": "ABJRTUkdmF78",
        "outputId": "464430a6-ef95-4ab7-b4d5-dfff09eaaffb"
      },
      "source": [
        "b_grad"
      ],
      "execution_count": 38,
      "outputs": [
        {
          "output_type": "execute_result",
          "data": {
            "text/plain": [
              "<tf.Tensor: shape=(1,), dtype=float32, numpy=array([-6.], dtype=float32)>"
            ]
          },
          "metadata": {
            "tags": []
          },
          "execution_count": 38
        }
      ]
    },
    {
      "cell_type": "code",
      "metadata": {
        "colab": {
          "base_uri": "https://localhost:8080/"
        },
        "id": "JpSidlKSmG6U",
        "outputId": "5fe8bb59-c829-498c-a8d5-91de42faebde"
      },
      "source": [
        "w"
      ],
      "execution_count": 39,
      "outputs": [
        {
          "output_type": "execute_result",
          "data": {
            "text/plain": [
              "<tf.Variable 'weight:0' shape=(1,) dtype=float32, numpy=array([0.], dtype=float32)>"
            ]
          },
          "metadata": {
            "tags": []
          },
          "execution_count": 39
        }
      ]
    },
    {
      "cell_type": "code",
      "metadata": {
        "colab": {
          "base_uri": "https://localhost:8080/"
        },
        "id": "5_aQ1vK7mIp_",
        "outputId": "b464b9e6-55cb-42e8-ed5b-6b11a53208ba"
      },
      "source": [
        "w-learning_rate*w_grad"
      ],
      "execution_count": 43,
      "outputs": [
        {
          "output_type": "execute_result",
          "data": {
            "text/plain": [
              "<tf.Tensor: shape=(1,), dtype=float32, numpy=array([0.22], dtype=float32)>"
            ]
          },
          "metadata": {
            "tags": []
          },
          "execution_count": 43
        }
      ]
    },
    {
      "cell_type": "code",
      "metadata": {
        "colab": {
          "base_uri": "https://localhost:8080/"
        },
        "id": "R2FG1zl2mN8T",
        "outputId": "7f8b73f5-abff-4909-811e-6b7eaa6705ab"
      },
      "source": [
        "b-learning_rate*b_grad"
      ],
      "execution_count": 44,
      "outputs": [
        {
          "output_type": "execute_result",
          "data": {
            "text/plain": [
              "<tf.Tensor: shape=(1,), dtype=float32, numpy=array([0.06], dtype=float32)>"
            ]
          },
          "metadata": {
            "tags": []
          },
          "execution_count": 44
        }
      ]
    },
    {
      "cell_type": "code",
      "metadata": {
        "colab": {
          "base_uri": "https://localhost:8080/"
        },
        "id": "flY4Y9JHmTP0",
        "outputId": "56bbae45-0aa7-4582-ec96-a05e51fded80"
      },
      "source": [
        "for i in range(10):\r\n",
        "    with tf.GradientTape() as tape:\r\n",
        "        hypothesis=x_data*w+b\r\n",
        "        loss=tf.reduce_mean(tf.math.square(hypothesis-y_data))\r\n",
        "    \r\n",
        "    w_grad,b_grad=tape.gradient(loss,[w,b])\r\n",
        "\r\n",
        "    w.assign_sub(learning_rate*w_grad)\r\n",
        "    b.assign_sub(learning_rate*b_grad)\r\n",
        "\r\n",
        "    print('{} {}'.format(i,loss))"
      ],
      "execution_count": 48,
      "outputs": [
        {
          "output_type": "stream",
          "text": [
            "0 11.0\n",
            "1 6.415200233459473\n",
            "2 3.7433724403381348\n",
            "3 2.1863298416137695\n",
            "4 1.2789298295974731\n",
            "5 0.7501095533370972\n",
            "6 0.4419064521789551\n",
            "7 0.2622687816619873\n",
            "8 0.15755288302898407\n",
            "9 0.09649773687124252\n"
          ],
          "name": "stdout"
        }
      ]
    },
    {
      "cell_type": "code",
      "metadata": {
        "colab": {
          "base_uri": "https://localhost:8080/"
        },
        "id": "UfoMD5KzpqDP",
        "outputId": "402ad365-1518-457e-ab79-5feed5010bb6"
      },
      "source": [
        "w"
      ],
      "execution_count": 49,
      "outputs": [
        {
          "output_type": "execute_result",
          "data": {
            "text/plain": [
              "<tf.Variable 'weight:0' shape=(1,) dtype=float32, numpy=array([0.86870116], dtype=float32)>"
            ]
          },
          "metadata": {
            "tags": []
          },
          "execution_count": 49
        }
      ]
    },
    {
      "cell_type": "code",
      "metadata": {
        "colab": {
          "base_uri": "https://localhost:8080/"
        },
        "id": "GfHp9a_0qlZn",
        "outputId": "10686a4f-cbac-49f9-d8ae-2f653fd4c1bd"
      },
      "source": [
        "b"
      ],
      "execution_count": 50,
      "outputs": [
        {
          "output_type": "execute_result",
          "data": {
            "text/plain": [
              "<tf.Variable 'bias:0' shape=(1,) dtype=float32, numpy=array([0.23139274], dtype=float32)>"
            ]
          },
          "metadata": {
            "tags": []
          },
          "execution_count": 50
        }
      ]
    },
    {
      "cell_type": "code",
      "metadata": {
        "colab": {
          "base_uri": "https://localhost:8080/"
        },
        "id": "TQW6HyXhql18",
        "outputId": "742074ab-115c-47db-f8ee-2c24c5101182"
      },
      "source": [
        "y_data"
      ],
      "execution_count": 51,
      "outputs": [
        {
          "output_type": "execute_result",
          "data": {
            "text/plain": [
              "array([1., 2., 3., 4., 5.], dtype=float32)"
            ]
          },
          "metadata": {
            "tags": []
          },
          "execution_count": 51
        }
      ]
    },
    {
      "cell_type": "code",
      "metadata": {
        "colab": {
          "base_uri": "https://localhost:8080/"
        },
        "id": "o6jcGDlHqp1h",
        "outputId": "4b3565fd-6325-437b-efa5-5f5112b01231"
      },
      "source": [
        "x_data*w+b"
      ],
      "execution_count": 52,
      "outputs": [
        {
          "output_type": "execute_result",
          "data": {
            "text/plain": [
              "<tf.Tensor: shape=(5,), dtype=float32, numpy=\n",
              "array([1.1000938, 1.9687951, 2.8374963, 3.7061973, 4.5748987],\n",
              "      dtype=float32)>"
            ]
          },
          "metadata": {
            "tags": []
          },
          "execution_count": 52
        }
      ]
    },
    {
      "cell_type": "code",
      "metadata": {
        "id": "sYMURYtGqsyU"
      },
      "source": [
        "model=tf.keras.Sequential()\r\n",
        "model.add(tf.keras.layers.Dense(1)) #초기값이랑 learn rate가 디폴트로 다른게 들어있어서 우리가 했던거랑 차이가 있음. 그럼 hypothesis는???도 똑같은가?"
      ],
      "execution_count": 53,
      "outputs": []
    },
    {
      "cell_type": "code",
      "metadata": {
        "id": "kC45iR9Ks8CT"
      },
      "source": [
        "model.compile(optimizer='SGD',loss='mse')"
      ],
      "execution_count": 54,
      "outputs": []
    },
    {
      "cell_type": "code",
      "metadata": {
        "colab": {
          "base_uri": "https://localhost:8080/"
        },
        "id": "eibrDfjBtFLM",
        "outputId": "2bfc5884-4ac7-4277-d52d-54a0ba57ad66"
      },
      "source": [
        "model.fit(x_data,y_data,epochs=10)"
      ],
      "execution_count": 56,
      "outputs": [
        {
          "output_type": "stream",
          "text": [
            "Epoch 1/10\n",
            "1/1 [==============================] - 0s 1ms/step - loss: 28.2988\n",
            "Epoch 2/10\n",
            "1/1 [==============================] - 0s 1ms/step - loss: 16.5038\n",
            "Epoch 3/10\n",
            "1/1 [==============================] - 0s 2ms/step - loss: 9.6303\n",
            "Epoch 4/10\n",
            "1/1 [==============================] - 0s 1ms/step - loss: 5.6246\n",
            "Epoch 5/10\n",
            "1/1 [==============================] - 0s 2ms/step - loss: 3.2902\n",
            "Epoch 6/10\n",
            "1/1 [==============================] - 0s 1ms/step - loss: 1.9297\n",
            "Epoch 7/10\n",
            "1/1 [==============================] - 0s 992us/step - loss: 1.1369\n",
            "Epoch 8/10\n",
            "1/1 [==============================] - 0s 2ms/step - loss: 0.6747\n",
            "Epoch 9/10\n",
            "1/1 [==============================] - 0s 2ms/step - loss: 0.4053\n",
            "Epoch 10/10\n",
            "1/1 [==============================] - 0s 1ms/step - loss: 0.2483\n"
          ],
          "name": "stdout"
        },
        {
          "output_type": "execute_result",
          "data": {
            "text/plain": [
              "<tensorflow.python.keras.callbacks.History at 0x7fdf4283bef0>"
            ]
          },
          "metadata": {
            "tags": []
          },
          "execution_count": 56
        }
      ]
    },
    {
      "cell_type": "code",
      "metadata": {
        "colab": {
          "base_uri": "https://localhost:8080/"
        },
        "id": "CYp-N5O7tN0v",
        "outputId": "b8178983-cde6-4fc6-e4d9-fd7d57833daf"
      },
      "source": [
        "model.get_weights()"
      ],
      "execution_count": 58,
      "outputs": [
        {
          "output_type": "execute_result",
          "data": {
            "text/plain": [
              "[array([[0.7894048]], dtype=float32), array([0.37113947], dtype=float32)]"
            ]
          },
          "metadata": {
            "tags": []
          },
          "execution_count": 58
        }
      ]
    },
    {
      "cell_type": "code",
      "metadata": {
        "colab": {
          "base_uri": "https://localhost:8080/"
        },
        "id": "IsnQBD2ztccp",
        "outputId": "12ea5e74-fe80-4ff7-92ad-8b2bdd5defe2"
      },
      "source": [
        "model.predict(x_data)"
      ],
      "execution_count": 59,
      "outputs": [
        {
          "output_type": "execute_result",
          "data": {
            "text/plain": [
              "array([[1.1605443],\n",
              "       [1.949949 ],\n",
              "       [2.739354 ],\n",
              "       [3.5287588],\n",
              "       [4.3181634]], dtype=float32)"
            ]
          },
          "metadata": {
            "tags": []
          },
          "execution_count": 59
        }
      ]
    },
    {
      "cell_type": "code",
      "metadata": {
        "id": "YLPldgsNts0Q"
      },
      "source": [
        ""
      ],
      "execution_count": null,
      "outputs": []
    }
  ]
}