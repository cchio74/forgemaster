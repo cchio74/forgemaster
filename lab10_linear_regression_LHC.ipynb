{
  "nbformat": 4,
  "nbformat_minor": 0,
  "metadata": {
    "colab": {
      "name": "lab10-linear_regression-LHC.ipynb",
      "provenance": [],
      "toc_visible": true,
      "authorship_tag": "ABX9TyODGZVHqvG4qCX5gq9i+lqG",
      "include_colab_link": true
    },
    "kernelspec": {
      "name": "python3",
      "display_name": "Python 3"
    }
  },
  "cells": [
    {
      "cell_type": "markdown",
      "metadata": {
        "id": "view-in-github",
        "colab_type": "text"
      },
      "source": [
        "<a href=\"https://colab.research.google.com/github/cchio74/forgemaster/blob/master/lab10_linear_regression_LHC.ipynb\" target=\"_parent\"><img src=\"https://colab.research.google.com/assets/colab-badge.svg\" alt=\"Open In Colab\"/></a>"
      ]
    },
    {
      "cell_type": "code",
      "metadata": {
        "id": "sBfTVkeCaZVL"
      },
      "source": [
        "import tensorflow as tf\r\n",
        "import numpy as np\r\n"
      ],
      "execution_count": 2,
      "outputs": []
    },
    {
      "cell_type": "code",
      "metadata": {
        "colab": {
          "base_uri": "https://localhost:8080/",
          "height": 35
        },
        "id": "XNQNqANHanVG",
        "outputId": "1fb47f8a-aeb8-44e2-a342-0afa767986f8"
      },
      "source": [
        "tf.__version__"
      ],
      "execution_count": 3,
      "outputs": [
        {
          "output_type": "execute_result",
          "data": {
            "application/vnd.google.colaboratory.intrinsic+json": {
              "type": "string"
            },
            "text/plain": [
              "'2.4.0'"
            ]
          },
          "metadata": {
            "tags": []
          },
          "execution_count": 3
        }
      ]
    },
    {
      "cell_type": "markdown",
      "metadata": {
        "id": "oPcNB-Gga_1z"
      },
      "source": [
        "##data"
      ]
    },
    {
      "cell_type": "code",
      "metadata": {
        "colab": {
          "base_uri": "https://localhost:8080/"
        },
        "id": "No5n5H4XasqI",
        "outputId": "622cccf9-f22a-4531-9886-b28ce33c657b"
      },
      "source": [
        "x_data=np.array([1,2,3,4,5],np.float32)\r\n",
        "x_data.dtype"
      ],
      "execution_count": 45,
      "outputs": [
        {
          "output_type": "execute_result",
          "data": {
            "text/plain": [
              "dtype('float32')"
            ]
          },
          "metadata": {
            "tags": []
          },
          "execution_count": 45
        }
      ]
    },
    {
      "cell_type": "code",
      "metadata": {
        "colab": {
          "base_uri": "https://localhost:8080/"
        },
        "id": "5xQebwGtbJvT",
        "outputId": "20aeebc2-16e2-4626-a8b2-4d2448a02bf1"
      },
      "source": [
        "x_data"
      ],
      "execution_count": 46,
      "outputs": [
        {
          "output_type": "execute_result",
          "data": {
            "text/plain": [
              "array([1., 2., 3., 4., 5.], dtype=float32)"
            ]
          },
          "metadata": {
            "tags": []
          },
          "execution_count": 46
        }
      ]
    },
    {
      "cell_type": "code",
      "metadata": {
        "colab": {
          "base_uri": "https://localhost:8080/"
        },
        "id": "zfnFLJdybRlv",
        "outputId": "ebfa8d7c-53f6-45f4-8670-d776c884f98b"
      },
      "source": [
        "y_data=np.array([1,2,3,4,5],np.float32)\r\n",
        "y_data"
      ],
      "execution_count": 47,
      "outputs": [
        {
          "output_type": "execute_result",
          "data": {
            "text/plain": [
              "array([1., 2., 3., 4., 5.], dtype=float32)"
            ]
          },
          "metadata": {
            "tags": []
          },
          "execution_count": 47
        }
      ]
    },
    {
      "cell_type": "code",
      "metadata": {
        "colab": {
          "base_uri": "https://localhost:8080/"
        },
        "id": "MufZzClXbaSm",
        "outputId": "047dfd93-2371-4b27-8e0e-4813c4d260a6"
      },
      "source": [
        "x_data.shape"
      ],
      "execution_count": 7,
      "outputs": [
        {
          "output_type": "execute_result",
          "data": {
            "text/plain": [
              "(5,)"
            ]
          },
          "metadata": {
            "tags": []
          },
          "execution_count": 7
        }
      ]
    },
    {
      "cell_type": "markdown",
      "metadata": {
        "id": "lnSZL41WcPSj"
      },
      "source": [
        "##Linear regression"
      ]
    },
    {
      "cell_type": "code",
      "metadata": {
        "id": "WvUTsVdSbe_7"
      },
      "source": [
        "learning_rate=1e-2"
      ],
      "execution_count": 8,
      "outputs": []
    },
    {
      "cell_type": "code",
      "metadata": {
        "colab": {
          "base_uri": "https://localhost:8080/"
        },
        "id": "hKCBL5UNcXQq",
        "outputId": "12974d64-0c03-43ac-fac6-00aef0fdf8c5"
      },
      "source": [
        "# w, b를 정하면 됨. tensor flow의 variable 함수를 사용하면 됨.\r\n",
        "w=tf.Variable([0],dtype='float32',name='weight')\r\n",
        "b=tf.Variable([0],dtype='float32',name='bias')\r\n",
        "w"
      ],
      "execution_count": 9,
      "outputs": [
        {
          "output_type": "execute_result",
          "data": {
            "text/plain": [
              "<tf.Variable 'weight:0' shape=(1,) dtype=float32, numpy=array([0.], dtype=float32)>"
            ]
          },
          "metadata": {
            "tags": []
          },
          "execution_count": 9
        }
      ]
    },
    {
      "cell_type": "code",
      "metadata": {
        "colab": {
          "base_uri": "https://localhost:8080/"
        },
        "id": "5beeDtyYfNNE",
        "outputId": "48cbe494-a6b0-4d7e-d92e-474771c93239"
      },
      "source": [
        "b"
      ],
      "execution_count": 10,
      "outputs": [
        {
          "output_type": "execute_result",
          "data": {
            "text/plain": [
              "<tf.Variable 'bias:0' shape=(1,) dtype=float32, numpy=array([0.], dtype=float32)>"
            ]
          },
          "metadata": {
            "tags": []
          },
          "execution_count": 10
        }
      ]
    },
    {
      "cell_type": "code",
      "metadata": {
        "colab": {
          "base_uri": "https://localhost:8080/"
        },
        "id": "rhsJS5gyfvfr",
        "outputId": "3645f249-eab7-4d14-a4a2-a3617504cf4e"
      },
      "source": [
        "hypothesis=x_data*w+b\r\n",
        "hypothesis"
      ],
      "execution_count": 11,
      "outputs": [
        {
          "output_type": "execute_result",
          "data": {
            "text/plain": [
              "<tf.Tensor: shape=(5,), dtype=float32, numpy=array([0., 0., 0., 0., 0.], dtype=float32)>"
            ]
          },
          "metadata": {
            "tags": []
          },
          "execution_count": 11
        }
      ]
    },
    {
      "cell_type": "code",
      "metadata": {
        "colab": {
          "base_uri": "https://localhost:8080/"
        },
        "id": "63t9m4FygM5p",
        "outputId": "c3b08093-2c5d-4ab6-b677-0ef72a9d9508"
      },
      "source": [
        "loss=tf.math.square(hypothesis-y_data) #np로 제곱하면 형변환됨. \r\n",
        "loss"
      ],
      "execution_count": 12,
      "outputs": [
        {
          "output_type": "execute_result",
          "data": {
            "text/plain": [
              "<tf.Tensor: shape=(5,), dtype=float32, numpy=array([ 1.,  4.,  9., 16., 25.], dtype=float32)>"
            ]
          },
          "metadata": {
            "tags": []
          },
          "execution_count": 12
        }
      ]
    },
    {
      "cell_type": "code",
      "metadata": {
        "colab": {
          "base_uri": "https://localhost:8080/"
        },
        "id": "PW0LANF0hifU",
        "outputId": "94842315-3419-430f-f06b-f292a8b01a6b"
      },
      "source": [
        "loss=tf.reduce_mean(tf.math.square(hypothesis-y_data)) #np로 쓰면 형변환됨\r\n",
        "loss"
      ],
      "execution_count": 13,
      "outputs": [
        {
          "output_type": "execute_result",
          "data": {
            "text/plain": [
              "<tf.Tensor: shape=(), dtype=float32, numpy=11.0>"
            ]
          },
          "metadata": {
            "tags": []
          },
          "execution_count": 13
        }
      ]
    },
    {
      "cell_type": "code",
      "metadata": {
        "id": "rUC4sMJIiMBv"
      },
      "source": [
        "with tf.GradientTape() as tape:   #편미분을 구하기 위해서\r\n",
        "    hypothesis=x_data*w+b\r\n",
        "    loss=tf.reduce_mean(tf.math.square(hypothesis-y_data))"
      ],
      "execution_count": 14,
      "outputs": []
    },
    {
      "cell_type": "code",
      "metadata": {
        "id": "bDN7IM0Fks5h"
      },
      "source": [
        "w_grad,b_grad=tape.gradient(loss,[w,b]) #타겟은 loss, 소스는 w,b"
      ],
      "execution_count": 15,
      "outputs": []
    },
    {
      "cell_type": "code",
      "metadata": {
        "colab": {
          "base_uri": "https://localhost:8080/"
        },
        "id": "qy7OL65SlZw7",
        "outputId": "e954afc6-053e-419d-e052-7fcfe9345142"
      },
      "source": [
        "w_grad"
      ],
      "execution_count": 16,
      "outputs": [
        {
          "output_type": "execute_result",
          "data": {
            "text/plain": [
              "<tf.Tensor: shape=(1,), dtype=float32, numpy=array([-22.], dtype=float32)>"
            ]
          },
          "metadata": {
            "tags": []
          },
          "execution_count": 16
        }
      ]
    },
    {
      "cell_type": "code",
      "metadata": {
        "colab": {
          "base_uri": "https://localhost:8080/"
        },
        "id": "ABJRTUkdmF78",
        "outputId": "655f818a-6e11-475c-e867-10780ccf1da9"
      },
      "source": [
        "b_grad"
      ],
      "execution_count": 17,
      "outputs": [
        {
          "output_type": "execute_result",
          "data": {
            "text/plain": [
              "<tf.Tensor: shape=(1,), dtype=float32, numpy=array([-6.], dtype=float32)>"
            ]
          },
          "metadata": {
            "tags": []
          },
          "execution_count": 17
        }
      ]
    },
    {
      "cell_type": "code",
      "metadata": {
        "colab": {
          "base_uri": "https://localhost:8080/"
        },
        "id": "JpSidlKSmG6U",
        "outputId": "2c52e662-8849-4423-f37d-addd57c48d57"
      },
      "source": [
        "w"
      ],
      "execution_count": 18,
      "outputs": [
        {
          "output_type": "execute_result",
          "data": {
            "text/plain": [
              "<tf.Variable 'weight:0' shape=(1,) dtype=float32, numpy=array([0.], dtype=float32)>"
            ]
          },
          "metadata": {
            "tags": []
          },
          "execution_count": 18
        }
      ]
    },
    {
      "cell_type": "code",
      "metadata": {
        "colab": {
          "base_uri": "https://localhost:8080/"
        },
        "id": "5_aQ1vK7mIp_",
        "outputId": "b860d7b2-f8f8-4340-947a-eed11e7490eb"
      },
      "source": [
        "w-learning_rate*w_grad"
      ],
      "execution_count": 19,
      "outputs": [
        {
          "output_type": "execute_result",
          "data": {
            "text/plain": [
              "<tf.Tensor: shape=(1,), dtype=float32, numpy=array([0.22], dtype=float32)>"
            ]
          },
          "metadata": {
            "tags": []
          },
          "execution_count": 19
        }
      ]
    },
    {
      "cell_type": "code",
      "metadata": {
        "colab": {
          "base_uri": "https://localhost:8080/"
        },
        "id": "R2FG1zl2mN8T",
        "outputId": "cce729b3-5909-48a5-b931-7bf8cf3a8069"
      },
      "source": [
        "b-learning_rate*b_grad"
      ],
      "execution_count": 20,
      "outputs": [
        {
          "output_type": "execute_result",
          "data": {
            "text/plain": [
              "<tf.Tensor: shape=(1,), dtype=float32, numpy=array([0.06], dtype=float32)>"
            ]
          },
          "metadata": {
            "tags": []
          },
          "execution_count": 20
        }
      ]
    },
    {
      "cell_type": "code",
      "metadata": {
        "colab": {
          "base_uri": "https://localhost:8080/"
        },
        "id": "flY4Y9JHmTP0",
        "outputId": "cb0f48c9-2550-4d52-88c8-f24d4bdbd8c0"
      },
      "source": [
        "for i in range(100):\r\n",
        "    with tf.GradientTape() as tape:\r\n",
        "        hypothesis=x_data*w+b\r\n",
        "        loss=tf.reduce_mean(tf.math.square(hypothesis-y_data))\r\n",
        "    \r\n",
        "    w_grad,b_grad=tape.gradient(loss,[w,b])\r\n",
        "\r\n",
        "    w.assign_sub(learning_rate*w_grad)\r\n",
        "    b.assign_sub(learning_rate*b_grad)\r\n",
        "\r\n",
        "    print('{} {}'.format(i,loss))"
      ],
      "execution_count": 21,
      "outputs": [
        {
          "output_type": "stream",
          "text": [
            "0 11.0\n",
            "1 6.415200233459473\n",
            "2 3.7433724403381348\n",
            "3 2.1863298416137695\n",
            "4 1.2789298295974731\n",
            "5 0.7501095533370972\n",
            "6 0.4419064521789551\n",
            "7 0.2622687816619873\n",
            "8 0.15755288302898407\n",
            "9 0.09649773687124252\n",
            "10 0.06088622659444809\n",
            "11 0.04010222852230072\n",
            "12 0.02795911207795143\n",
            "13 0.02085178717970848\n",
            "14 0.01667916774749756\n",
            "15 0.014217016287147999\n",
            "16 0.012751864269375801\n",
            "17 0.011867886409163475\n",
            "18 0.01132277399301529\n",
            "19 0.010975385084748268\n",
            "20 0.01074336189776659\n",
            "21 0.010578843764960766\n",
            "22 0.01045382209122181\n",
            "23 0.010351987555623055\n",
            "24 0.010263906791806221\n",
            "25 0.010184012353420258\n",
            "26 0.0101090669631958\n",
            "27 0.010037219151854515\n",
            "28 0.00996738113462925\n",
            "29 0.009898865595459938\n",
            "30 0.009831316769123077\n",
            "31 0.009764542803168297\n",
            "32 0.009698384441435337\n",
            "33 0.009632790461182594\n",
            "34 0.00956766214221716\n",
            "35 0.00950303953140974\n",
            "36 0.009438863955438137\n",
            "37 0.00937511958181858\n",
            "38 0.009311823174357414\n",
            "39 0.009248954243957996\n",
            "40 0.009186511859297752\n",
            "41 0.009124518372118473\n",
            "42 0.009062910452485085\n",
            "43 0.009001738391816616\n",
            "44 0.00894096028059721\n",
            "45 0.008880605921149254\n",
            "46 0.008820655755698681\n",
            "47 0.008761114440858364\n",
            "48 0.00870196707546711\n",
            "49 0.008643236942589283\n",
            "50 0.008584880270063877\n",
            "51 0.008526929654181004\n",
            "52 0.008469367399811745\n",
            "53 0.00841218326240778\n",
            "54 0.00835542380809784\n",
            "55 0.00829901359975338\n",
            "56 0.008242987096309662\n",
            "57 0.008187348023056984\n",
            "58 0.008132058195769787\n",
            "59 0.008077172562479973\n",
            "60 0.008022652938961983\n",
            "61 0.007968489080667496\n",
            "62 0.007914711721241474\n",
            "63 0.007861273363232613\n",
            "64 0.007808207534253597\n",
            "65 0.007755490485578775\n",
            "66 0.007703136652708054\n",
            "67 0.007651148829609156\n",
            "68 0.007599493023008108\n",
            "69 0.007548191584646702\n",
            "70 0.007497233804315329\n",
            "71 0.00744663318619132\n",
            "72 0.007396356668323278\n",
            "73 0.0073464298620820045\n",
            "74 0.007296840660274029\n",
            "75 0.0072475941851735115\n",
            "76 0.007198662497103214\n",
            "77 0.0071500493213534355\n",
            "78 0.007101801224052906\n",
            "79 0.007053855806589127\n",
            "80 0.0070062438026070595\n",
            "81 0.006958952639251947\n",
            "82 0.0069119869731366634\n",
            "83 0.006865309085696936\n",
            "84 0.006818964146077633\n",
            "85 0.006772936787456274\n",
            "86 0.006727215833961964\n",
            "87 0.00668179988861084\n",
            "88 0.00663668941706419\n",
            "89 0.006591900251805782\n",
            "90 0.006547394208610058\n",
            "91 0.006503197364509106\n",
            "92 0.00645930552855134\n",
            "93 0.006415707524865866\n",
            "94 0.006372386123985052\n",
            "95 0.0063293674029409885\n",
            "96 0.006286648567765951\n",
            "97 0.006244209595024586\n",
            "98 0.006202056538313627\n",
            "99 0.006160191260278225\n"
          ],
          "name": "stdout"
        }
      ]
    },
    {
      "cell_type": "code",
      "metadata": {
        "colab": {
          "base_uri": "https://localhost:8080/"
        },
        "id": "UfoMD5KzpqDP",
        "outputId": "7d066239-da42-46a1-db0e-84971d851097"
      },
      "source": [
        "w"
      ],
      "execution_count": 22,
      "outputs": [
        {
          "output_type": "execute_result",
          "data": {
            "text/plain": [
              "<tf.Variable 'weight:0' shape=(1,) dtype=float32, numpy=array([0.9492163], dtype=float32)>"
            ]
          },
          "metadata": {
            "tags": []
          },
          "execution_count": 22
        }
      ]
    },
    {
      "cell_type": "code",
      "metadata": {
        "colab": {
          "base_uri": "https://localhost:8080/"
        },
        "id": "GfHp9a_0qlZn",
        "outputId": "b660e816-022e-4f5f-9fc8-c114fa9f2bf5"
      },
      "source": [
        "b"
      ],
      "execution_count": 23,
      "outputs": [
        {
          "output_type": "execute_result",
          "data": {
            "text/plain": [
              "<tf.Variable 'bias:0' shape=(1,) dtype=float32, numpy=array([0.18334521], dtype=float32)>"
            ]
          },
          "metadata": {
            "tags": []
          },
          "execution_count": 23
        }
      ]
    },
    {
      "cell_type": "code",
      "metadata": {
        "colab": {
          "base_uri": "https://localhost:8080/"
        },
        "id": "TQW6HyXhql18",
        "outputId": "e9a83acb-4f2f-4ac8-ac84-e64994591499"
      },
      "source": [
        "y_data"
      ],
      "execution_count": 24,
      "outputs": [
        {
          "output_type": "execute_result",
          "data": {
            "text/plain": [
              "array([1., 2., 3., 4., 5.], dtype=float32)"
            ]
          },
          "metadata": {
            "tags": []
          },
          "execution_count": 24
        }
      ]
    },
    {
      "cell_type": "code",
      "metadata": {
        "colab": {
          "base_uri": "https://localhost:8080/"
        },
        "id": "o6jcGDlHqp1h",
        "outputId": "e5cd7cd1-b734-47ef-c4de-fc57754cc843"
      },
      "source": [
        "x_data*w+b"
      ],
      "execution_count": 25,
      "outputs": [
        {
          "output_type": "execute_result",
          "data": {
            "text/plain": [
              "<tf.Tensor: shape=(5,), dtype=float32, numpy=\n",
              "array([1.1325616, 2.0817778, 3.0309942, 3.9802105, 4.9294267],\n",
              "      dtype=float32)>"
            ]
          },
          "metadata": {
            "tags": []
          },
          "execution_count": 25
        }
      ]
    },
    {
      "cell_type": "code",
      "metadata": {
        "id": "sYMURYtGqsyU"
      },
      "source": [
        "model=tf.keras.Sequential()\r\n",
        "model.add(tf.keras.layers.Dense(1)) #초기값이랑 learn rate가 디폴트로 다른게 들어있어서 우리가 했던거랑 차이가 있음. 그럼 hypothesis는???도 똑같은가?"
      ],
      "execution_count": 26,
      "outputs": []
    },
    {
      "cell_type": "code",
      "metadata": {
        "id": "kC45iR9Ks8CT"
      },
      "source": [
        "model.compile(optimizer='SGD',loss='mse')"
      ],
      "execution_count": 27,
      "outputs": []
    },
    {
      "cell_type": "code",
      "metadata": {
        "colab": {
          "base_uri": "https://localhost:8080/"
        },
        "id": "eibrDfjBtFLM",
        "outputId": "3aca7977-c12f-4afe-952f-069d93ede9db"
      },
      "source": [
        "model.fit(x_data,y_data,epochs=100)"
      ],
      "execution_count": 31,
      "outputs": [
        {
          "output_type": "stream",
          "text": [
            "Epoch 1/100\n",
            "1/1 [==============================] - 0s 14ms/step - loss: 0.0252\n",
            "Epoch 2/100\n",
            "1/1 [==============================] - 0s 8ms/step - loss: 0.0166\n",
            "Epoch 3/100\n",
            "1/1 [==============================] - 0s 5ms/step - loss: 0.0116\n",
            "Epoch 4/100\n",
            "1/1 [==============================] - 0s 3ms/step - loss: 0.0086\n",
            "Epoch 5/100\n",
            "1/1 [==============================] - 0s 4ms/step - loss: 0.0069\n",
            "Epoch 6/100\n",
            "1/1 [==============================] - 0s 4ms/step - loss: 0.0059\n",
            "Epoch 7/100\n",
            "1/1 [==============================] - 0s 4ms/step - loss: 0.0053\n",
            "Epoch 8/100\n",
            "1/1 [==============================] - 0s 4ms/step - loss: 0.0049\n",
            "Epoch 9/100\n",
            "1/1 [==============================] - 0s 4ms/step - loss: 0.0047\n",
            "Epoch 10/100\n",
            "1/1 [==============================] - 0s 4ms/step - loss: 0.0045\n",
            "Epoch 11/100\n",
            "1/1 [==============================] - 0s 4ms/step - loss: 0.0044\n",
            "Epoch 12/100\n",
            "1/1 [==============================] - 0s 4ms/step - loss: 0.0044\n",
            "Epoch 13/100\n",
            "1/1 [==============================] - 0s 5ms/step - loss: 0.0043\n",
            "Epoch 14/100\n",
            "1/1 [==============================] - 0s 6ms/step - loss: 0.0043\n",
            "Epoch 15/100\n",
            "1/1 [==============================] - 0s 4ms/step - loss: 0.0042\n",
            "Epoch 16/100\n",
            "1/1 [==============================] - 0s 4ms/step - loss: 0.0042\n",
            "Epoch 17/100\n",
            "1/1 [==============================] - 0s 4ms/step - loss: 0.0042\n",
            "Epoch 18/100\n",
            "1/1 [==============================] - 0s 5ms/step - loss: 0.0042\n",
            "Epoch 19/100\n",
            "1/1 [==============================] - 0s 4ms/step - loss: 0.0041\n",
            "Epoch 20/100\n",
            "1/1 [==============================] - 0s 4ms/step - loss: 0.0041\n",
            "Epoch 21/100\n",
            "1/1 [==============================] - 0s 5ms/step - loss: 0.0041\n",
            "Epoch 22/100\n",
            "1/1 [==============================] - 0s 4ms/step - loss: 0.0040\n",
            "Epoch 23/100\n",
            "1/1 [==============================] - 0s 4ms/step - loss: 0.0040\n",
            "Epoch 24/100\n",
            "1/1 [==============================] - 0s 4ms/step - loss: 0.0040\n",
            "Epoch 25/100\n",
            "1/1 [==============================] - 0s 6ms/step - loss: 0.0040\n",
            "Epoch 26/100\n",
            "1/1 [==============================] - 0s 4ms/step - loss: 0.0039\n",
            "Epoch 27/100\n",
            "1/1 [==============================] - 0s 5ms/step - loss: 0.0039\n",
            "Epoch 28/100\n",
            "1/1 [==============================] - 0s 4ms/step - loss: 0.0039\n",
            "Epoch 29/100\n",
            "1/1 [==============================] - 0s 5ms/step - loss: 0.0039\n",
            "Epoch 30/100\n",
            "1/1 [==============================] - 0s 5ms/step - loss: 0.0038\n",
            "Epoch 31/100\n",
            "1/1 [==============================] - 0s 5ms/step - loss: 0.0038\n",
            "Epoch 32/100\n",
            "1/1 [==============================] - 0s 7ms/step - loss: 0.0038\n",
            "Epoch 33/100\n",
            "1/1 [==============================] - 0s 5ms/step - loss: 0.0038\n",
            "Epoch 34/100\n",
            "1/1 [==============================] - 0s 4ms/step - loss: 0.0037\n",
            "Epoch 35/100\n",
            "1/1 [==============================] - 0s 5ms/step - loss: 0.0037\n",
            "Epoch 36/100\n",
            "1/1 [==============================] - 0s 5ms/step - loss: 0.0037\n",
            "Epoch 37/100\n",
            "1/1 [==============================] - 0s 4ms/step - loss: 0.0036\n",
            "Epoch 38/100\n",
            "1/1 [==============================] - 0s 5ms/step - loss: 0.0036\n",
            "Epoch 39/100\n",
            "1/1 [==============================] - 0s 5ms/step - loss: 0.0036\n",
            "Epoch 40/100\n",
            "1/1 [==============================] - 0s 5ms/step - loss: 0.0036\n",
            "Epoch 41/100\n",
            "1/1 [==============================] - 0s 6ms/step - loss: 0.0036\n",
            "Epoch 42/100\n",
            "1/1 [==============================] - 0s 5ms/step - loss: 0.0035\n",
            "Epoch 43/100\n",
            "1/1 [==============================] - 0s 6ms/step - loss: 0.0035\n",
            "Epoch 44/100\n",
            "1/1 [==============================] - 0s 6ms/step - loss: 0.0035\n",
            "Epoch 45/100\n",
            "1/1 [==============================] - 0s 4ms/step - loss: 0.0035\n",
            "Epoch 46/100\n",
            "1/1 [==============================] - 0s 6ms/step - loss: 0.0034\n",
            "Epoch 47/100\n",
            "1/1 [==============================] - 0s 6ms/step - loss: 0.0034\n",
            "Epoch 48/100\n",
            "1/1 [==============================] - 0s 5ms/step - loss: 0.0034\n",
            "Epoch 49/100\n",
            "1/1 [==============================] - 0s 5ms/step - loss: 0.0034\n",
            "Epoch 50/100\n",
            "1/1 [==============================] - 0s 5ms/step - loss: 0.0033\n",
            "Epoch 51/100\n",
            "1/1 [==============================] - 0s 7ms/step - loss: 0.0033\n",
            "Epoch 52/100\n",
            "1/1 [==============================] - 0s 5ms/step - loss: 0.0033\n",
            "Epoch 53/100\n",
            "1/1 [==============================] - 0s 5ms/step - loss: 0.0033\n",
            "Epoch 54/100\n",
            "1/1 [==============================] - 0s 5ms/step - loss: 0.0033\n",
            "Epoch 55/100\n",
            "1/1 [==============================] - 0s 4ms/step - loss: 0.0032\n",
            "Epoch 56/100\n",
            "1/1 [==============================] - 0s 6ms/step - loss: 0.0032\n",
            "Epoch 57/100\n",
            "1/1 [==============================] - 0s 4ms/step - loss: 0.0032\n",
            "Epoch 58/100\n",
            "1/1 [==============================] - 0s 5ms/step - loss: 0.0032\n",
            "Epoch 59/100\n",
            "1/1 [==============================] - 0s 8ms/step - loss: 0.0031\n",
            "Epoch 60/100\n",
            "1/1 [==============================] - 0s 7ms/step - loss: 0.0031\n",
            "Epoch 61/100\n",
            "1/1 [==============================] - 0s 5ms/step - loss: 0.0031\n",
            "Epoch 62/100\n",
            "1/1 [==============================] - 0s 5ms/step - loss: 0.0031\n",
            "Epoch 63/100\n",
            "1/1 [==============================] - 0s 6ms/step - loss: 0.0031\n",
            "Epoch 64/100\n",
            "1/1 [==============================] - 0s 7ms/step - loss: 0.0030\n",
            "Epoch 65/100\n",
            "1/1 [==============================] - 0s 8ms/step - loss: 0.0030\n",
            "Epoch 66/100\n",
            "1/1 [==============================] - 0s 4ms/step - loss: 0.0030\n",
            "Epoch 67/100\n",
            "1/1 [==============================] - 0s 8ms/step - loss: 0.0030\n",
            "Epoch 68/100\n",
            "1/1 [==============================] - 0s 10ms/step - loss: 0.0030\n",
            "Epoch 69/100\n",
            "1/1 [==============================] - 0s 9ms/step - loss: 0.0029\n",
            "Epoch 70/100\n",
            "1/1 [==============================] - 0s 4ms/step - loss: 0.0029\n",
            "Epoch 71/100\n",
            "1/1 [==============================] - 0s 4ms/step - loss: 0.0029\n",
            "Epoch 72/100\n",
            "1/1 [==============================] - 0s 7ms/step - loss: 0.0029\n",
            "Epoch 73/100\n",
            "1/1 [==============================] - 0s 6ms/step - loss: 0.0029\n",
            "Epoch 74/100\n",
            "1/1 [==============================] - 0s 6ms/step - loss: 0.0028\n",
            "Epoch 75/100\n",
            "1/1 [==============================] - 0s 6ms/step - loss: 0.0028\n",
            "Epoch 76/100\n",
            "1/1 [==============================] - 0s 4ms/step - loss: 0.0028\n",
            "Epoch 77/100\n",
            "1/1 [==============================] - 0s 7ms/step - loss: 0.0028\n",
            "Epoch 78/100\n",
            "1/1 [==============================] - 0s 5ms/step - loss: 0.0028\n",
            "Epoch 79/100\n",
            "1/1 [==============================] - 0s 4ms/step - loss: 0.0027\n",
            "Epoch 80/100\n",
            "1/1 [==============================] - 0s 5ms/step - loss: 0.0027\n",
            "Epoch 81/100\n",
            "1/1 [==============================] - 0s 6ms/step - loss: 0.0027\n",
            "Epoch 82/100\n",
            "1/1 [==============================] - 0s 8ms/step - loss: 0.0027\n",
            "Epoch 83/100\n",
            "1/1 [==============================] - 0s 8ms/step - loss: 0.0027\n",
            "Epoch 84/100\n",
            "1/1 [==============================] - 0s 7ms/step - loss: 0.0027\n",
            "Epoch 85/100\n",
            "1/1 [==============================] - 0s 7ms/step - loss: 0.0026\n",
            "Epoch 86/100\n",
            "1/1 [==============================] - 0s 10ms/step - loss: 0.0026\n",
            "Epoch 87/100\n",
            "1/1 [==============================] - 0s 12ms/step - loss: 0.0026\n",
            "Epoch 88/100\n",
            "1/1 [==============================] - 0s 5ms/step - loss: 0.0026\n",
            "Epoch 89/100\n",
            "1/1 [==============================] - 0s 6ms/step - loss: 0.0026\n",
            "Epoch 90/100\n",
            "1/1 [==============================] - 0s 5ms/step - loss: 0.0025\n",
            "Epoch 91/100\n",
            "1/1 [==============================] - 0s 4ms/step - loss: 0.0025\n",
            "Epoch 92/100\n",
            "1/1 [==============================] - 0s 6ms/step - loss: 0.0025\n",
            "Epoch 93/100\n",
            "1/1 [==============================] - 0s 4ms/step - loss: 0.0025\n",
            "Epoch 94/100\n",
            "1/1 [==============================] - 0s 4ms/step - loss: 0.0025\n",
            "Epoch 95/100\n",
            "1/1 [==============================] - 0s 5ms/step - loss: 0.0025\n",
            "Epoch 96/100\n",
            "1/1 [==============================] - 0s 5ms/step - loss: 0.0024\n",
            "Epoch 97/100\n",
            "1/1 [==============================] - 0s 4ms/step - loss: 0.0024\n",
            "Epoch 98/100\n",
            "1/1 [==============================] - 0s 7ms/step - loss: 0.0024\n",
            "Epoch 99/100\n",
            "1/1 [==============================] - 0s 3ms/step - loss: 0.0024\n",
            "Epoch 100/100\n",
            "1/1 [==============================] - 0s 8ms/step - loss: 0.0024\n"
          ],
          "name": "stdout"
        },
        {
          "output_type": "execute_result",
          "data": {
            "text/plain": [
              "<tensorflow.python.keras.callbacks.History at 0x7f655f195438>"
            ]
          },
          "metadata": {
            "tags": []
          },
          "execution_count": 31
        }
      ]
    },
    {
      "cell_type": "code",
      "metadata": {
        "colab": {
          "base_uri": "https://localhost:8080/"
        },
        "id": "CYp-N5O7tN0v",
        "outputId": "c0e5e509-61c2-4af3-a95c-4b75f7cf1222"
      },
      "source": [
        "model.get_weights()"
      ],
      "execution_count": 32,
      "outputs": [
        {
          "output_type": "execute_result",
          "data": {
            "text/plain": [
              "[array([[0.96842057]], dtype=float32), array([0.1140117], dtype=float32)]"
            ]
          },
          "metadata": {
            "tags": []
          },
          "execution_count": 32
        }
      ]
    },
    {
      "cell_type": "code",
      "metadata": {
        "colab": {
          "base_uri": "https://localhost:8080/"
        },
        "id": "IsnQBD2ztccp",
        "outputId": "c0de116d-ccfe-4d0c-fc65-fc914d15e68c"
      },
      "source": [
        "model.predict(x_data)"
      ],
      "execution_count": 33,
      "outputs": [
        {
          "output_type": "execute_result",
          "data": {
            "text/plain": [
              "array([[1.0824323],\n",
              "       [2.0508528],\n",
              "       [3.0192735],\n",
              "       [3.987694 ],\n",
              "       [4.956115 ]], dtype=float32)"
            ]
          },
          "metadata": {
            "tags": []
          },
          "execution_count": 33
        }
      ]
    },
    {
      "cell_type": "markdown",
      "metadata": {
        "id": "m8pLL2JZnE3R"
      },
      "source": [
        "##Subclassing"
      ]
    },
    {
      "cell_type": "code",
      "metadata": {
        "id": "YLPldgsNts0Q"
      },
      "source": [
        "class Model(tf.keras.layers.Layer):\r\n",
        "    def __init__(self):\r\n",
        "        super(Model,self).__init__()\r\n",
        "\r\n",
        "        self.w=self.add_weight(shape=(1,1),initializer='random_normal')\r\n",
        "        self.b=self.add_weight(shape=(1,),initializer='zeros')\r\n",
        "\r\n",
        "    def call(self,inputs):\r\n",
        "        return inputs*self.w+self.b\r\n"
      ],
      "execution_count": 63,
      "outputs": []
    },
    {
      "cell_type": "code",
      "metadata": {
        "id": "l39lhTZ-ofme"
      },
      "source": [
        "loss=tf.keras.losses.MeanSquaredError()"
      ],
      "execution_count": 64,
      "outputs": []
    },
    {
      "cell_type": "code",
      "metadata": {
        "id": "EgN3-wR-pHPX"
      },
      "source": [
        "def grad(model,inputs,targets):\r\n",
        "    with tf.GradientTape() as tape:\r\n",
        "        loss_value=loss(targets,model(inputs))\r\n",
        "\r\n",
        "    return tape.gradient(loss_value,[model.w,model.b])"
      ],
      "execution_count": 65,
      "outputs": []
    },
    {
      "cell_type": "code",
      "metadata": {
        "id": "7TW6tb8Nqlqw"
      },
      "source": [
        "model=Model()"
      ],
      "execution_count": 66,
      "outputs": []
    },
    {
      "cell_type": "code",
      "metadata": {
        "colab": {
          "base_uri": "https://localhost:8080/"
        },
        "id": "tam64IUdubFN",
        "outputId": "1ee4bf71-fff6-4d72-e1cb-103ee6e67edc"
      },
      "source": [
        "model.w"
      ],
      "execution_count": 67,
      "outputs": [
        {
          "output_type": "execute_result",
          "data": {
            "text/plain": [
              "<tf.Variable 'Variable:0' shape=(1, 1) dtype=float32, numpy=array([[0.06236804]], dtype=float32)>"
            ]
          },
          "metadata": {
            "tags": []
          },
          "execution_count": 67
        }
      ]
    },
    {
      "cell_type": "code",
      "metadata": {
        "colab": {
          "base_uri": "https://localhost:8080/"
        },
        "id": "0ECnb2NxqqAA",
        "outputId": "15db3112-cde2-4948-a2de-f405c7d0fff3"
      },
      "source": [
        "model.w"
      ],
      "execution_count": 68,
      "outputs": [
        {
          "output_type": "execute_result",
          "data": {
            "text/plain": [
              "<tf.Variable 'Variable:0' shape=(1, 1) dtype=float32, numpy=array([[0.06236804]], dtype=float32)>"
            ]
          },
          "metadata": {
            "tags": []
          },
          "execution_count": 68
        }
      ]
    },
    {
      "cell_type": "code",
      "metadata": {
        "colab": {
          "base_uri": "https://localhost:8080/"
        },
        "id": "lvy6MNFkqrQ-",
        "outputId": "f0c989b1-7f97-41a5-b84a-f97403190ae1"
      },
      "source": [
        "model([10,20,30])"
      ],
      "execution_count": 69,
      "outputs": [
        {
          "output_type": "execute_result",
          "data": {
            "text/plain": [
              "<tf.Tensor: shape=(1, 3), dtype=float32, numpy=array([[0.62368035, 1.2473607 , 1.871041  ]], dtype=float32)>"
            ]
          },
          "metadata": {
            "tags": []
          },
          "execution_count": 69
        }
      ]
    },
    {
      "cell_type": "code",
      "metadata": {
        "id": "L30e_0c-rA-t"
      },
      "source": [
        "optimizer=tf.keras.optimizers.SGD()"
      ],
      "execution_count": 70,
      "outputs": []
    },
    {
      "cell_type": "code",
      "metadata": {
        "colab": {
          "base_uri": "https://localhost:8080/"
        },
        "id": "KtjgkLVQsckJ",
        "outputId": "9a72c387-88a7-419d-f788-61d3e581478e"
      },
      "source": [
        "for i in range(100):\r\n",
        "    grads=grad(model,x_data,y_data)\r\n",
        "    optimizer.apply_gradients(zip(grads,[model.w,model.b]))\r\n",
        "\r\n",
        "    print('{} {}'.format(i,loss(y_data,model(x_data))))"
      ],
      "execution_count": 71,
      "outputs": [
        {
          "output_type": "stream",
          "text": [
            "0 5.639946937561035\n",
            "1 3.290999174118042\n",
            "2 1.9221198558807373\n",
            "3 1.1243759393692017\n",
            "4 0.6594613194465637\n",
            "5 0.38850367069244385\n",
            "6 0.23057448863983154\n",
            "7 0.13851308822631836\n",
            "8 0.08483636379241943\n",
            "9 0.053528375923633575\n",
            "10 0.03525608777999878\n",
            "11 0.024580415338277817\n",
            "12 0.01833195611834526\n",
            "13 0.014663586392998695\n",
            "14 0.012498953379690647\n",
            "15 0.0112108513712883\n",
            "16 0.010433698073029518\n",
            "17 0.009954474866390228\n",
            "18 0.009649045765399933\n",
            "19 0.00944509357213974\n",
            "20 0.009300431236624718\n",
            "21 0.009190494194626808\n",
            "22 0.009100988507270813\n",
            "23 0.009023543447256088\n",
            "24 0.008953297510743141\n",
            "25 0.00888743158429861\n",
            "26 0.008824263699352741\n",
            "27 0.008762857876718044\n",
            "28 0.008702616207301617\n",
            "29 0.008643257431685925\n",
            "30 0.00858452171087265\n",
            "31 0.008526371791958809\n",
            "32 0.008468687534332275\n",
            "33 0.008411438204348087\n",
            "34 0.008354619145393372\n",
            "35 0.008298223838210106\n",
            "36 0.008242161944508553\n",
            "37 0.00818652380257845\n",
            "38 0.008131250739097595\n",
            "39 0.008076363243162632\n",
            "40 0.008021846413612366\n",
            "41 0.007967685349285603\n",
            "42 0.007913900539278984\n",
            "43 0.007860476151108742\n",
            "44 0.007807422429323196\n",
            "45 0.007754712365567684\n",
            "46 0.007702359464019537\n",
            "47 0.007650376297533512\n",
            "48 0.007598730735480785\n",
            "49 0.007547427900135517\n",
            "50 0.007496477570384741\n",
            "51 0.007445889059454203\n",
            "52 0.007395612541586161\n",
            "53 0.0073456959798932076\n",
            "54 0.007296097464859486\n",
            "55 0.007246851921081543\n",
            "56 0.007197932340204716\n",
            "57 0.007149351295083761\n",
            "58 0.00710109481588006\n",
            "59 0.007053150329738855\n",
            "60 0.007005543913692236\n",
            "61 0.0069582462310791016\n",
            "62 0.006911269389092922\n",
            "63 0.006864612456411123\n",
            "64 0.006818276830017567\n",
            "65 0.0067722550593316555\n",
            "66 0.006726532243192196\n",
            "67 0.00668113399296999\n",
            "68 0.006636015139520168\n",
            "69 0.006591221783310175\n",
            "70 0.006546736694872379\n",
            "71 0.0065025342628359795\n",
            "72 0.0064586312510073185\n",
            "73 0.006415036506950855\n",
            "74 0.006371730472892523\n",
            "75 0.006328734569251537\n",
            "76 0.006286011543124914\n",
            "77 0.006243574433028698\n",
            "78 0.006201430223882198\n",
            "79 0.006159554235637188\n",
            "80 0.006117985583841801\n",
            "81 0.006076683755964041\n",
            "82 0.0060356659814715385\n",
            "83 0.0059949178248643875\n",
            "84 0.005954451393336058\n",
            "85 0.005914268549531698\n",
            "86 0.005874340888112783\n",
            "87 0.005834669806063175\n",
            "88 0.005795284640043974\n",
            "89 0.005756159778684378\n",
            "90 0.00571730500087142\n",
            "91 0.005678714253008366\n",
            "92 0.005640375427901745\n",
            "93 0.00560230016708374\n",
            "94 0.00556448707357049\n",
            "95 0.005526930093765259\n",
            "96 0.00548959756270051\n",
            "97 0.0054525649175047874\n",
            "98 0.005415751598775387\n",
            "99 0.005379192531108856\n"
          ],
          "name": "stdout"
        }
      ]
    },
    {
      "cell_type": "code",
      "metadata": {
        "id": "NJG4uLqutMGt"
      },
      "source": [
        ""
      ],
      "execution_count": null,
      "outputs": []
    }
  ]
}