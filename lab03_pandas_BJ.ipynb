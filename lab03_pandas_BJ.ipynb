{
  "nbformat": 4,
  "nbformat_minor": 0,
  "metadata": {
    "colab": {
      "name": "lab03_pandas_BJ.ipynb",
      "provenance": [],
      "authorship_tag": "ABX9TyN4qOG8tqpl3LVLxO8sZTsL",
      "include_colab_link": true
    },
    "kernelspec": {
      "name": "python3",
      "display_name": "Python 3"
    }
  },
  "cells": [
    {
      "cell_type": "markdown",
      "metadata": {
        "id": "view-in-github",
        "colab_type": "text"
      },
      "source": [
        "<a href=\"https://colab.research.google.com/github/cchio74/forgemaster/blob/master/lab03_pandas_BJ.ipynb\" target=\"_parent\"><img src=\"https://colab.research.google.com/assets/colab-badge.svg\" alt=\"Open In Colab\"/></a>"
      ]
    },
    {
      "cell_type": "code",
      "metadata": {
        "id": "GYAA3R1nwWtp"
      },
      "source": [
        "import pandas as pd\n",
        "import numpy as np\n",
        "import matplotlib.pyplot as plt"
      ],
      "execution_count": 4,
      "outputs": []
    },
    {
      "cell_type": "code",
      "metadata": {
        "id": "PPF7t7zlyWSX",
        "outputId": "4866ea8a-7987-4627-f0da-3aedb94be2c0",
        "colab": {
          "base_uri": "https://localhost:8080/",
          "height": 122
        }
      },
      "source": [
        "s=pd.Series(np.array([1,2,3,4,np.nan]))\n",
        "s"
      ],
      "execution_count": null,
      "outputs": [
        {
          "output_type": "execute_result",
          "data": {
            "text/plain": [
              "0    1.0\n",
              "1    2.0\n",
              "2    3.0\n",
              "3    4.0\n",
              "4    NaN\n",
              "dtype: float64"
            ]
          },
          "metadata": {
            "tags": []
          },
          "execution_count": 11
        }
      ]
    },
    {
      "cell_type": "code",
      "metadata": {
        "id": "TcRXKKMny7sk",
        "outputId": "9a5bc149-b3a0-42dd-fb7a-67a071a86f69",
        "colab": {
          "base_uri": "https://localhost:8080/",
          "height": 34
        }
      },
      "source": [
        "type(s)"
      ],
      "execution_count": null,
      "outputs": [
        {
          "output_type": "execute_result",
          "data": {
            "text/plain": [
              "pandas.core.series.Series"
            ]
          },
          "metadata": {
            "tags": []
          },
          "execution_count": 12
        }
      ]
    },
    {
      "cell_type": "code",
      "metadata": {
        "id": "9WPYQR50zZ4T",
        "outputId": "cee283f9-79ae-45d9-af0a-ebd0c5b96fe5",
        "colab": {
          "base_uri": "https://localhost:8080/",
          "height": 34
        }
      },
      "source": [
        "len(s)"
      ],
      "execution_count": null,
      "outputs": [
        {
          "output_type": "execute_result",
          "data": {
            "text/plain": [
              "5"
            ]
          },
          "metadata": {
            "tags": []
          },
          "execution_count": 13
        }
      ]
    },
    {
      "cell_type": "code",
      "metadata": {
        "id": "6_I_SP4UzdrS",
        "outputId": "9860c3bd-6982-4ebf-8dfe-3e42acd6b4a4",
        "colab": {
          "base_uri": "https://localhost:8080/",
          "height": 34
        }
      },
      "source": [
        "s.dtype"
      ],
      "execution_count": null,
      "outputs": [
        {
          "output_type": "execute_result",
          "data": {
            "text/plain": [
              "dtype('float64')"
            ]
          },
          "metadata": {
            "tags": []
          },
          "execution_count": 15
        }
      ]
    },
    {
      "cell_type": "code",
      "metadata": {
        "id": "VVq8VAHaziNk",
        "outputId": "a08e6d36-d31a-4dac-fb0e-d7ea3963b3f7",
        "colab": {
          "base_uri": "https://localhost:8080/",
          "height": 87
        }
      },
      "source": [
        "s=pd.Series(data=[3,4,5],index=['A','B','C'],name='first')\n",
        "s"
      ],
      "execution_count": null,
      "outputs": [
        {
          "output_type": "execute_result",
          "data": {
            "text/plain": [
              "A    3\n",
              "B    4\n",
              "C    5\n",
              "Name: first, dtype: int64"
            ]
          },
          "metadata": {
            "tags": []
          },
          "execution_count": 19
        }
      ]
    },
    {
      "cell_type": "code",
      "metadata": {
        "id": "GRD4pURR1CDj",
        "outputId": "6aab48d0-0d45-45a5-f436-5d15be5ac91a",
        "colab": {
          "base_uri": "https://localhost:8080/",
          "height": 87
        }
      },
      "source": [
        "s.index=[1,2,3]\n",
        "s"
      ],
      "execution_count": null,
      "outputs": [
        {
          "output_type": "execute_result",
          "data": {
            "text/plain": [
              "1    3\n",
              "2    4\n",
              "3    5\n",
              "Name: first, dtype: int64"
            ]
          },
          "metadata": {
            "tags": []
          },
          "execution_count": 20
        }
      ]
    },
    {
      "cell_type": "code",
      "metadata": {
        "id": "kgiobjzr1YRv",
        "outputId": "cc3dd1f6-2e40-49da-c0a0-7a69bfddcf10",
        "colab": {
          "base_uri": "https://localhost:8080/",
          "height": 87
        }
      },
      "source": [
        "s.name='A'\n",
        "s"
      ],
      "execution_count": null,
      "outputs": [
        {
          "output_type": "execute_result",
          "data": {
            "text/plain": [
              "1    3\n",
              "2    4\n",
              "3    5\n",
              "Name: A, dtype: int64"
            ]
          },
          "metadata": {
            "tags": []
          },
          "execution_count": 21
        }
      ]
    },
    {
      "cell_type": "code",
      "metadata": {
        "id": "59aCtp8d1e14",
        "outputId": "7e3b4312-1024-4bf8-dc62-12ea4569a03f",
        "colab": {
          "base_uri": "https://localhost:8080/",
          "height": 34
        }
      },
      "source": [
        "{1:100,'a':200}"
      ],
      "execution_count": null,
      "outputs": [
        {
          "output_type": "execute_result",
          "data": {
            "text/plain": [
              "{1: 100, 'a': 200}"
            ]
          },
          "metadata": {
            "tags": []
          },
          "execution_count": 22
        }
      ]
    },
    {
      "cell_type": "code",
      "metadata": {
        "id": "Exzkpdax2KwL",
        "outputId": "9791b3f8-d81a-49ec-c7b0-39e6d06c6a0c",
        "colab": {
          "base_uri": "https://localhost:8080/",
          "height": 87
        }
      },
      "source": [
        "s=pd.Series({1:100,2:300,'a':500})\n",
        "s"
      ],
      "execution_count": null,
      "outputs": [
        {
          "output_type": "execute_result",
          "data": {
            "text/plain": [
              "1    100\n",
              "2    300\n",
              "a    500\n",
              "dtype: int64"
            ]
          },
          "metadata": {
            "tags": []
          },
          "execution_count": 24
        }
      ]
    },
    {
      "cell_type": "code",
      "metadata": {
        "id": "XbbEresy2oQY"
      },
      "source": [
        "s.name='first'"
      ],
      "execution_count": null,
      "outputs": []
    },
    {
      "cell_type": "code",
      "metadata": {
        "id": "ejfI7o_W230K",
        "outputId": "fce404a0-ab3f-47a8-83d5-8303139b8b43",
        "colab": {
          "base_uri": "https://localhost:8080/",
          "height": 87
        }
      },
      "source": [
        "s"
      ],
      "execution_count": null,
      "outputs": [
        {
          "output_type": "execute_result",
          "data": {
            "text/plain": [
              "1    100\n",
              "2    300\n",
              "a    500\n",
              "Name: first, dtype: int64"
            ]
          },
          "metadata": {
            "tags": []
          },
          "execution_count": 26
        }
      ]
    },
    {
      "cell_type": "code",
      "metadata": {
        "id": "pEHy44Pp242Q"
      },
      "source": [
        "s.index.name='number'"
      ],
      "execution_count": null,
      "outputs": []
    },
    {
      "cell_type": "code",
      "metadata": {
        "id": "1-vX4kWa2-e1",
        "outputId": "cfc42bdc-b318-404f-9651-f5f205374ab2",
        "colab": {
          "base_uri": "https://localhost:8080/",
          "height": 105
        }
      },
      "source": [
        "s"
      ],
      "execution_count": null,
      "outputs": [
        {
          "output_type": "execute_result",
          "data": {
            "text/plain": [
              "number\n",
              "1    100\n",
              "2    300\n",
              "a    500\n",
              "Name: first, dtype: int64"
            ]
          },
          "metadata": {
            "tags": []
          },
          "execution_count": 28
        }
      ]
    },
    {
      "cell_type": "code",
      "metadata": {
        "id": "58wj14pS2_WG",
        "outputId": "994ba3ef-b899-46c2-e8c9-7358b95ca7dd",
        "colab": {
          "base_uri": "https://localhost:8080/",
          "height": 166
        }
      },
      "source": [
        "pd.DataFrame(s)"
      ],
      "execution_count": null,
      "outputs": [
        {
          "output_type": "execute_result",
          "data": {
            "text/html": [
              "<div>\n",
              "<style scoped>\n",
              "    .dataframe tbody tr th:only-of-type {\n",
              "        vertical-align: middle;\n",
              "    }\n",
              "\n",
              "    .dataframe tbody tr th {\n",
              "        vertical-align: top;\n",
              "    }\n",
              "\n",
              "    .dataframe thead th {\n",
              "        text-align: right;\n",
              "    }\n",
              "</style>\n",
              "<table border=\"1\" class=\"dataframe\">\n",
              "  <thead>\n",
              "    <tr style=\"text-align: right;\">\n",
              "      <th></th>\n",
              "      <th>first</th>\n",
              "    </tr>\n",
              "    <tr>\n",
              "      <th>number</th>\n",
              "      <th></th>\n",
              "    </tr>\n",
              "  </thead>\n",
              "  <tbody>\n",
              "    <tr>\n",
              "      <th>1</th>\n",
              "      <td>100</td>\n",
              "    </tr>\n",
              "    <tr>\n",
              "      <th>2</th>\n",
              "      <td>300</td>\n",
              "    </tr>\n",
              "    <tr>\n",
              "      <th>a</th>\n",
              "      <td>500</td>\n",
              "    </tr>\n",
              "  </tbody>\n",
              "</table>\n",
              "</div>"
            ],
            "text/plain": [
              "        first\n",
              "number       \n",
              "1         100\n",
              "2         300\n",
              "a         500"
            ]
          },
          "metadata": {
            "tags": []
          },
          "execution_count": 29
        }
      ]
    },
    {
      "cell_type": "code",
      "metadata": {
        "id": "OoSECZ8c3QUe"
      },
      "source": [
        "date=pd.date_range('20200924',periods=3)"
      ],
      "execution_count": null,
      "outputs": []
    },
    {
      "cell_type": "code",
      "metadata": {
        "id": "JOO1fYBI4GAS",
        "outputId": "3fc9cc8b-1825-4377-e5b9-79fab9629535",
        "colab": {
          "base_uri": "https://localhost:8080/",
          "height": 105
        }
      },
      "source": [
        "s"
      ],
      "execution_count": null,
      "outputs": [
        {
          "output_type": "execute_result",
          "data": {
            "text/plain": [
              "number\n",
              "1    100\n",
              "2    300\n",
              "a    500\n",
              "Name: first, dtype: int64"
            ]
          },
          "metadata": {
            "tags": []
          },
          "execution_count": 32
        }
      ]
    },
    {
      "cell_type": "code",
      "metadata": {
        "id": "fpchI65O4P7V"
      },
      "source": [
        "s.index=date"
      ],
      "execution_count": null,
      "outputs": []
    },
    {
      "cell_type": "code",
      "metadata": {
        "id": "NUdkH5Mz4WMQ",
        "outputId": "52e70b56-5be0-408b-9dc3-4c7eac51546e",
        "colab": {
          "base_uri": "https://localhost:8080/",
          "height": 87
        }
      },
      "source": [
        "s"
      ],
      "execution_count": null,
      "outputs": [
        {
          "output_type": "execute_result",
          "data": {
            "text/plain": [
              "2020-09-24    100\n",
              "2020-09-25    300\n",
              "2020-09-26    500\n",
              "Freq: D, Name: first, dtype: int64"
            ]
          },
          "metadata": {
            "tags": []
          },
          "execution_count": 35
        }
      ]
    },
    {
      "cell_type": "code",
      "metadata": {
        "id": "CnBO0kFC4iXl",
        "outputId": "fb8e3d3a-00da-42de-caae-497fbd17712d",
        "colab": {
          "base_uri": "https://localhost:8080/",
          "height": 34
        }
      },
      "source": [
        "s.index"
      ],
      "execution_count": null,
      "outputs": [
        {
          "output_type": "execute_result",
          "data": {
            "text/plain": [
              "DatetimeIndex(['2020-09-24', '2020-09-25', '2020-09-26'], dtype='datetime64[ns]', freq='D')"
            ]
          },
          "metadata": {
            "tags": []
          },
          "execution_count": 36
        }
      ]
    },
    {
      "cell_type": "code",
      "metadata": {
        "id": "IsNWZdWW4rop",
        "outputId": "05238d0e-c744-4bc7-a918-05357539c07d",
        "colab": {
          "base_uri": "https://localhost:8080/",
          "height": 34
        }
      },
      "source": [
        "s.values"
      ],
      "execution_count": null,
      "outputs": [
        {
          "output_type": "execute_result",
          "data": {
            "text/plain": [
              "array([100, 300, 500])"
            ]
          },
          "metadata": {
            "tags": []
          },
          "execution_count": 37
        }
      ]
    },
    {
      "cell_type": "code",
      "metadata": {
        "id": "xTtuWj-t4tNq",
        "outputId": "5a231462-c42b-4a1a-e4d0-1f1977466065",
        "colab": {
          "base_uri": "https://localhost:8080/",
          "height": 34
        }
      },
      "source": [
        "s[0]"
      ],
      "execution_count": null,
      "outputs": [
        {
          "output_type": "execute_result",
          "data": {
            "text/plain": [
              "100"
            ]
          },
          "metadata": {
            "tags": []
          },
          "execution_count": 38
        }
      ]
    },
    {
      "cell_type": "code",
      "metadata": {
        "id": "Z9pqDTTE40pF",
        "outputId": "c973544d-e65d-4d39-adfd-1bdd11539447",
        "colab": {
          "base_uri": "https://localhost:8080/",
          "height": 87
        }
      },
      "source": [
        "s[0:3]"
      ],
      "execution_count": null,
      "outputs": [
        {
          "output_type": "execute_result",
          "data": {
            "text/plain": [
              "2020-09-24    100\n",
              "2020-09-25    300\n",
              "2020-09-26    500\n",
              "Freq: D, Name: first, dtype: int64"
            ]
          },
          "metadata": {
            "tags": []
          },
          "execution_count": 39
        }
      ]
    },
    {
      "cell_type": "code",
      "metadata": {
        "id": "a1qW5Diq49ZP",
        "outputId": "1a7a34d5-9d02-445e-a46b-646eac910a58",
        "colab": {
          "base_uri": "https://localhost:8080/",
          "height": 34
        }
      },
      "source": [
        "s['20200924']"
      ],
      "execution_count": null,
      "outputs": [
        {
          "output_type": "execute_result",
          "data": {
            "text/plain": [
              "100"
            ]
          },
          "metadata": {
            "tags": []
          },
          "execution_count": 41
        }
      ]
    },
    {
      "cell_type": "code",
      "metadata": {
        "id": "u1UIglGp5Jxc",
        "outputId": "9670b79f-c7bf-4b8a-a139-fe6d707840e1",
        "colab": {
          "base_uri": "https://localhost:8080/",
          "height": 70
        }
      },
      "source": [
        "s['20200924':'20200925']"
      ],
      "execution_count": null,
      "outputs": [
        {
          "output_type": "execute_result",
          "data": {
            "text/plain": [
              "2020-09-24    100\n",
              "2020-09-25    300\n",
              "Freq: D, Name: first, dtype: int64"
            ]
          },
          "metadata": {
            "tags": []
          },
          "execution_count": 42
        }
      ]
    },
    {
      "cell_type": "code",
      "metadata": {
        "id": "_GclYsiI5PkP",
        "outputId": "0b1c0a34-9c5b-4f76-f73e-679dced97496",
        "colab": {
          "base_uri": "https://localhost:8080/",
          "height": 228
        }
      },
      "source": [
        "s=pd.Series(np.random.randint(0,10,size=100))\n",
        "s"
      ],
      "execution_count": null,
      "outputs": [
        {
          "output_type": "execute_result",
          "data": {
            "text/plain": [
              "0     8\n",
              "1     8\n",
              "2     0\n",
              "3     3\n",
              "4     4\n",
              "     ..\n",
              "95    1\n",
              "96    8\n",
              "97    5\n",
              "98    8\n",
              "99    7\n",
              "Length: 100, dtype: int64"
            ]
          },
          "metadata": {
            "tags": []
          },
          "execution_count": 46
        }
      ]
    },
    {
      "cell_type": "code",
      "metadata": {
        "id": "ClTbKgyc56qj",
        "outputId": "f028faf9-1acf-4d36-8981-5c50382f0f8a",
        "colab": {
          "base_uri": "https://localhost:8080/",
          "height": 210
        }
      },
      "source": [
        "s.value_counts()"
      ],
      "execution_count": null,
      "outputs": [
        {
          "output_type": "execute_result",
          "data": {
            "text/plain": [
              "1    19\n",
              "3    16\n",
              "8    12\n",
              "2    12\n",
              "4    10\n",
              "0     9\n",
              "6     7\n",
              "7     6\n",
              "5     6\n",
              "9     3\n",
              "dtype: int64"
            ]
          },
          "metadata": {
            "tags": []
          },
          "execution_count": 47
        }
      ]
    },
    {
      "cell_type": "code",
      "metadata": {
        "id": "3S0Ace7Q6YKH",
        "outputId": "80b9d906-bf04-4b25-97e6-45883f162541",
        "colab": {
          "base_uri": "https://localhost:8080/",
          "height": 282
        }
      },
      "source": [
        "s.value_counts().plot()"
      ],
      "execution_count": null,
      "outputs": [
        {
          "output_type": "execute_result",
          "data": {
            "text/plain": [
              "<matplotlib.axes._subplots.AxesSubplot at 0x7fe3a82b4a20>"
            ]
          },
          "metadata": {
            "tags": []
          },
          "execution_count": 49
        },
        {
          "output_type": "display_data",
          "data": {
            "image/png": "[encoded data removed]",
            "text/plain": [
              "<Figure size 432x288 with 1 Axes>"
            ]
          },
          "metadata": {
            "tags": [],
            "needs_background": "light"
          }
        }
      ]
    },
    {
      "cell_type": "code",
      "metadata": {
        "id": "kTKQ_ZRM6r0G",
        "outputId": "64451adb-32af-4e37-b1c7-8343542df72f",
        "colab": {
          "base_uri": "https://localhost:8080/",
          "height": 228
        }
      },
      "source": [
        "s"
      ],
      "execution_count": null,
      "outputs": [
        {
          "output_type": "execute_result",
          "data": {
            "text/plain": [
              "0     8\n",
              "1     8\n",
              "2     0\n",
              "3     3\n",
              "4     4\n",
              "     ..\n",
              "95    1\n",
              "96    8\n",
              "97    5\n",
              "98    8\n",
              "99    7\n",
              "Length: 100, dtype: int64"
            ]
          },
          "metadata": {
            "tags": []
          },
          "execution_count": 50
        }
      ]
    },
    {
      "cell_type": "code",
      "metadata": {
        "id": "h3aJNjHf65fI",
        "outputId": "9573ac06-91e7-4fa4-d565-e36dccce298f",
        "colab": {
          "base_uri": "https://localhost:8080/",
          "height": 228
        }
      },
      "source": [
        "s.where(s>5,'low')"
      ],
      "execution_count": null,
      "outputs": [
        {
          "output_type": "execute_result",
          "data": {
            "text/plain": [
              "0       8\n",
              "1       8\n",
              "2     low\n",
              "3     low\n",
              "4     low\n",
              "     ... \n",
              "95    low\n",
              "96      8\n",
              "97    low\n",
              "98      8\n",
              "99      7\n",
              "Length: 100, dtype: object"
            ]
          },
          "metadata": {
            "tags": []
          },
          "execution_count": 51
        }
      ]
    },
    {
      "cell_type": "code",
      "metadata": {
        "id": "WQQ1I0KD7DL8",
        "outputId": "5411d304-bd74-418c-c76b-3aca0af175f5",
        "colab": {
          "base_uri": "https://localhost:8080/"
        }
      },
      "source": [
        "s=pd.Series([1,2,3,4,5],index=list('ABCDE'),name='colume')\n",
        "s"
      ],
      "execution_count": 9,
      "outputs": [
        {
          "output_type": "execute_result",
          "data": {
            "text/plain": [
              "A    1\n",
              "B    2\n",
              "C    3\n",
              "D    4\n",
              "E    5\n",
              "Name: colume, dtype: int64"
            ]
          },
          "metadata": {
            "tags": []
          },
          "execution_count": 9
        }
      ]
    },
    {
      "cell_type": "code",
      "metadata": {
        "id": "4_BaobYo1t_Q"
      },
      "source": [
        "s.index.name='index'"
      ],
      "execution_count": 10,
      "outputs": []
    },
    {
      "cell_type": "code",
      "metadata": {
        "id": "uEgMNQyb3FpB",
        "outputId": "b043b5d7-b765-46e6-a0ba-137aaf760f84",
        "colab": {
          "base_uri": "https://localhost:8080/"
        }
      },
      "source": [
        "s"
      ],
      "execution_count": 11,
      "outputs": [
        {
          "output_type": "execute_result",
          "data": {
            "text/plain": [
              "index\n",
              "A    1\n",
              "B    2\n",
              "C    3\n",
              "D    4\n",
              "E    5\n",
              "Name: colume, dtype: int64"
            ]
          },
          "metadata": {
            "tags": []
          },
          "execution_count": 11
        }
      ]
    },
    {
      "cell_type": "code",
      "metadata": {
        "id": "4jHsSPVN3GIK",
        "outputId": "74048bcd-3e07-4269-d460-104ff4e089fc",
        "colab": {
          "base_uri": "https://localhost:8080/",
          "height": 225
        }
      },
      "source": [
        "pd.DataFrame(s)"
      ],
      "execution_count": 12,
      "outputs": [
        {
          "output_type": "execute_result",
          "data": {
            "text/html": [
              "<div>\n",
              "<style scoped>\n",
              "    .dataframe tbody tr th:only-of-type {\n",
              "        vertical-align: middle;\n",
              "    }\n",
              "\n",
              "    .dataframe tbody tr th {\n",
              "        vertical-align: top;\n",
              "    }\n",
              "\n",
              "    .dataframe thead th {\n",
              "        text-align: right;\n",
              "    }\n",
              "</style>\n",
              "<table border=\"1\" class=\"dataframe\">\n",
              "  <thead>\n",
              "    <tr style=\"text-align: right;\">\n",
              "      <th></th>\n",
              "      <th>colume</th>\n",
              "    </tr>\n",
              "    <tr>\n",
              "      <th>index</th>\n",
              "      <th></th>\n",
              "    </tr>\n",
              "  </thead>\n",
              "  <tbody>\n",
              "    <tr>\n",
              "      <th>A</th>\n",
              "      <td>1</td>\n",
              "    </tr>\n",
              "    <tr>\n",
              "      <th>B</th>\n",
              "      <td>2</td>\n",
              "    </tr>\n",
              "    <tr>\n",
              "      <th>C</th>\n",
              "      <td>3</td>\n",
              "    </tr>\n",
              "    <tr>\n",
              "      <th>D</th>\n",
              "      <td>4</td>\n",
              "    </tr>\n",
              "    <tr>\n",
              "      <th>E</th>\n",
              "      <td>5</td>\n",
              "    </tr>\n",
              "  </tbody>\n",
              "</table>\n",
              "</div>"
            ],
            "text/plain": [
              "       colume\n",
              "index        \n",
              "A           1\n",
              "B           2\n",
              "C           3\n",
              "D           4\n",
              "E           5"
            ]
          },
          "metadata": {
            "tags": []
          },
          "execution_count": 12
        }
      ]
    },
    {
      "cell_type": "code",
      "metadata": {
        "id": "5T8Ll_cs3OiM",
        "outputId": "4626b7d5-41f0-4635-a19d-b114c7971057",
        "colab": {
          "base_uri": "https://localhost:8080/",
          "height": 106
        }
      },
      "source": [
        "df=pd.DataFrame([[1,2,3],[4,5,6]],index=['A','B'],columns=['a','b','c'])\n",
        "df"
      ],
      "execution_count": 17,
      "outputs": [
        {
          "output_type": "execute_result",
          "data": {
            "text/html": [
              "<div>\n",
              "<style scoped>\n",
              "    .dataframe tbody tr th:only-of-type {\n",
              "        vertical-align: middle;\n",
              "    }\n",
              "\n",
              "    .dataframe tbody tr th {\n",
              "        vertical-align: top;\n",
              "    }\n",
              "\n",
              "    .dataframe thead th {\n",
              "        text-align: right;\n",
              "    }\n",
              "</style>\n",
              "<table border=\"1\" class=\"dataframe\">\n",
              "  <thead>\n",
              "    <tr style=\"text-align: right;\">\n",
              "      <th></th>\n",
              "      <th>a</th>\n",
              "      <th>b</th>\n",
              "      <th>c</th>\n",
              "    </tr>\n",
              "  </thead>\n",
              "  <tbody>\n",
              "    <tr>\n",
              "      <th>A</th>\n",
              "      <td>1</td>\n",
              "      <td>2</td>\n",
              "      <td>3</td>\n",
              "    </tr>\n",
              "    <tr>\n",
              "      <th>B</th>\n",
              "      <td>4</td>\n",
              "      <td>5</td>\n",
              "      <td>6</td>\n",
              "    </tr>\n",
              "  </tbody>\n",
              "</table>\n",
              "</div>"
            ],
            "text/plain": [
              "   a  b  c\n",
              "A  1  2  3\n",
              "B  4  5  6"
            ]
          },
          "metadata": {
            "tags": []
          },
          "execution_count": 17
        }
      ]
    },
    {
      "cell_type": "code",
      "metadata": {
        "id": "OrLV-nFp3-Be"
      },
      "source": [
        "df.index.name='index'"
      ],
      "execution_count": 18,
      "outputs": []
    },
    {
      "cell_type": "code",
      "metadata": {
        "id": "AgH-1xlS42Vj",
        "outputId": "bdcf1865-7a13-4b09-df64-6e647e9f8ed3",
        "colab": {
          "base_uri": "https://localhost:8080/",
          "height": 136
        }
      },
      "source": [
        "df"
      ],
      "execution_count": 19,
      "outputs": [
        {
          "output_type": "execute_result",
          "data": {
            "text/html": [
              "<div>\n",
              "<style scoped>\n",
              "    .dataframe tbody tr th:only-of-type {\n",
              "        vertical-align: middle;\n",
              "    }\n",
              "\n",
              "    .dataframe tbody tr th {\n",
              "        vertical-align: top;\n",
              "    }\n",
              "\n",
              "    .dataframe thead th {\n",
              "        text-align: right;\n",
              "    }\n",
              "</style>\n",
              "<table border=\"1\" class=\"dataframe\">\n",
              "  <thead>\n",
              "    <tr style=\"text-align: right;\">\n",
              "      <th></th>\n",
              "      <th>a</th>\n",
              "      <th>b</th>\n",
              "      <th>c</th>\n",
              "    </tr>\n",
              "    <tr>\n",
              "      <th>index</th>\n",
              "      <th></th>\n",
              "      <th></th>\n",
              "      <th></th>\n",
              "    </tr>\n",
              "  </thead>\n",
              "  <tbody>\n",
              "    <tr>\n",
              "      <th>A</th>\n",
              "      <td>1</td>\n",
              "      <td>2</td>\n",
              "      <td>3</td>\n",
              "    </tr>\n",
              "    <tr>\n",
              "      <th>B</th>\n",
              "      <td>4</td>\n",
              "      <td>5</td>\n",
              "      <td>6</td>\n",
              "    </tr>\n",
              "  </tbody>\n",
              "</table>\n",
              "</div>"
            ],
            "text/plain": [
              "       a  b  c\n",
              "index         \n",
              "A      1  2  3\n",
              "B      4  5  6"
            ]
          },
          "metadata": {
            "tags": []
          },
          "execution_count": 19
        }
      ]
    },
    {
      "cell_type": "code",
      "metadata": {
        "id": "fXwBCiiJ42wf"
      },
      "source": [
        "df.columns.name='column'"
      ],
      "execution_count": 20,
      "outputs": []
    },
    {
      "cell_type": "code",
      "metadata": {
        "id": "EZZ_MNr35D24",
        "outputId": "d1b04b12-8a43-4957-8bbe-e6f333194811",
        "colab": {
          "base_uri": "https://localhost:8080/",
          "height": 136
        }
      },
      "source": [
        "df"
      ],
      "execution_count": 21,
      "outputs": [
        {
          "output_type": "execute_result",
          "data": {
            "text/html": [
              "<div>\n",
              "<style scoped>\n",
              "    .dataframe tbody tr th:only-of-type {\n",
              "        vertical-align: middle;\n",
              "    }\n",
              "\n",
              "    .dataframe tbody tr th {\n",
              "        vertical-align: top;\n",
              "    }\n",
              "\n",
              "    .dataframe thead th {\n",
              "        text-align: right;\n",
              "    }\n",
              "</style>\n",
              "<table border=\"1\" class=\"dataframe\">\n",
              "  <thead>\n",
              "    <tr style=\"text-align: right;\">\n",
              "      <th>column</th>\n",
              "      <th>a</th>\n",
              "      <th>b</th>\n",
              "      <th>c</th>\n",
              "    </tr>\n",
              "    <tr>\n",
              "      <th>index</th>\n",
              "      <th></th>\n",
              "      <th></th>\n",
              "      <th></th>\n",
              "    </tr>\n",
              "  </thead>\n",
              "  <tbody>\n",
              "    <tr>\n",
              "      <th>A</th>\n",
              "      <td>1</td>\n",
              "      <td>2</td>\n",
              "      <td>3</td>\n",
              "    </tr>\n",
              "    <tr>\n",
              "      <th>B</th>\n",
              "      <td>4</td>\n",
              "      <td>5</td>\n",
              "      <td>6</td>\n",
              "    </tr>\n",
              "  </tbody>\n",
              "</table>\n",
              "</div>"
            ],
            "text/plain": [
              "column  a  b  c\n",
              "index          \n",
              "A       1  2  3\n",
              "B       4  5  6"
            ]
          },
          "metadata": {
            "tags": []
          },
          "execution_count": 21
        }
      ]
    },
    {
      "cell_type": "code",
      "metadata": {
        "id": "dT5xZOKc5EcY",
        "outputId": "634afdf2-971a-4b3b-aa67-e1f873a0a6c1",
        "colab": {
          "base_uri": "https://localhost:8080/",
          "height": 136
        }
      },
      "source": [
        "df"
      ],
      "execution_count": 22,
      "outputs": [
        {
          "output_type": "execute_result",
          "data": {
            "text/html": [
              "<div>\n",
              "<style scoped>\n",
              "    .dataframe tbody tr th:only-of-type {\n",
              "        vertical-align: middle;\n",
              "    }\n",
              "\n",
              "    .dataframe tbody tr th {\n",
              "        vertical-align: top;\n",
              "    }\n",
              "\n",
              "    .dataframe thead th {\n",
              "        text-align: right;\n",
              "    }\n",
              "</style>\n",
              "<table border=\"1\" class=\"dataframe\">\n",
              "  <thead>\n",
              "    <tr style=\"text-align: right;\">\n",
              "      <th>column</th>\n",
              "      <th>a</th>\n",
              "      <th>b</th>\n",
              "      <th>c</th>\n",
              "    </tr>\n",
              "    <tr>\n",
              "      <th>index</th>\n",
              "      <th></th>\n",
              "      <th></th>\n",
              "      <th></th>\n",
              "    </tr>\n",
              "  </thead>\n",
              "  <tbody>\n",
              "    <tr>\n",
              "      <th>A</th>\n",
              "      <td>1</td>\n",
              "      <td>2</td>\n",
              "      <td>3</td>\n",
              "    </tr>\n",
              "    <tr>\n",
              "      <th>B</th>\n",
              "      <td>4</td>\n",
              "      <td>5</td>\n",
              "      <td>6</td>\n",
              "    </tr>\n",
              "  </tbody>\n",
              "</table>\n",
              "</div>"
            ],
            "text/plain": [
              "column  a  b  c\n",
              "index          \n",
              "A       1  2  3\n",
              "B       4  5  6"
            ]
          },
          "metadata": {
            "tags": []
          },
          "execution_count": 22
        }
      ]
    },
    {
      "cell_type": "code",
      "metadata": {
        "id": "8URqiG8C5UqR",
        "outputId": "52e71d7a-5f5b-4a94-9f81-20bc56b6422c",
        "colab": {
          "base_uri": "https://localhost:8080/"
        }
      },
      "source": [
        "df['a']"
      ],
      "execution_count": 23,
      "outputs": [
        {
          "output_type": "execute_result",
          "data": {
            "text/plain": [
              "index\n",
              "A    1\n",
              "B    4\n",
              "Name: a, dtype: int64"
            ]
          },
          "metadata": {
            "tags": []
          },
          "execution_count": 23
        }
      ]
    },
    {
      "cell_type": "code",
      "metadata": {
        "id": "XU3PtM1O5co1",
        "outputId": "b673699d-0f18-46b4-b4a2-1bef774331a2",
        "colab": {
          "base_uri": "https://localhost:8080/",
          "height": 136
        }
      },
      "source": [
        "df[['b','a']]"
      ],
      "execution_count": 24,
      "outputs": [
        {
          "output_type": "execute_result",
          "data": {
            "text/html": [
              "<div>\n",
              "<style scoped>\n",
              "    .dataframe tbody tr th:only-of-type {\n",
              "        vertical-align: middle;\n",
              "    }\n",
              "\n",
              "    .dataframe tbody tr th {\n",
              "        vertical-align: top;\n",
              "    }\n",
              "\n",
              "    .dataframe thead th {\n",
              "        text-align: right;\n",
              "    }\n",
              "</style>\n",
              "<table border=\"1\" class=\"dataframe\">\n",
              "  <thead>\n",
              "    <tr style=\"text-align: right;\">\n",
              "      <th>column</th>\n",
              "      <th>b</th>\n",
              "      <th>a</th>\n",
              "    </tr>\n",
              "    <tr>\n",
              "      <th>index</th>\n",
              "      <th></th>\n",
              "      <th></th>\n",
              "    </tr>\n",
              "  </thead>\n",
              "  <tbody>\n",
              "    <tr>\n",
              "      <th>A</th>\n",
              "      <td>2</td>\n",
              "      <td>1</td>\n",
              "    </tr>\n",
              "    <tr>\n",
              "      <th>B</th>\n",
              "      <td>5</td>\n",
              "      <td>4</td>\n",
              "    </tr>\n",
              "  </tbody>\n",
              "</table>\n",
              "</div>"
            ],
            "text/plain": [
              "column  b  a\n",
              "index       \n",
              "A       2  1\n",
              "B       5  4"
            ]
          },
          "metadata": {
            "tags": []
          },
          "execution_count": 24
        }
      ]
    },
    {
      "cell_type": "code",
      "metadata": {
        "id": "rb9L-18V5zzG",
        "outputId": "ad7fda7a-1dc5-41ef-b203-8220e9371bac",
        "colab": {
          "base_uri": "https://localhost:8080/",
          "height": 136
        }
      },
      "source": [
        "pd.DataFrame({'A':[1,2,3],'B':'value'})"
      ],
      "execution_count": 25,
      "outputs": [
        {
          "output_type": "execute_result",
          "data": {
            "text/html": [
              "<div>\n",
              "<style scoped>\n",
              "    .dataframe tbody tr th:only-of-type {\n",
              "        vertical-align: middle;\n",
              "    }\n",
              "\n",
              "    .dataframe tbody tr th {\n",
              "        vertical-align: top;\n",
              "    }\n",
              "\n",
              "    .dataframe thead th {\n",
              "        text-align: right;\n",
              "    }\n",
              "</style>\n",
              "<table border=\"1\" class=\"dataframe\">\n",
              "  <thead>\n",
              "    <tr style=\"text-align: right;\">\n",
              "      <th></th>\n",
              "      <th>A</th>\n",
              "      <th>B</th>\n",
              "    </tr>\n",
              "  </thead>\n",
              "  <tbody>\n",
              "    <tr>\n",
              "      <th>0</th>\n",
              "      <td>1</td>\n",
              "      <td>value</td>\n",
              "    </tr>\n",
              "    <tr>\n",
              "      <th>1</th>\n",
              "      <td>2</td>\n",
              "      <td>value</td>\n",
              "    </tr>\n",
              "    <tr>\n",
              "      <th>2</th>\n",
              "      <td>3</td>\n",
              "      <td>value</td>\n",
              "    </tr>\n",
              "  </tbody>\n",
              "</table>\n",
              "</div>"
            ],
            "text/plain": [
              "   A      B\n",
              "0  1  value\n",
              "1  2  value\n",
              "2  3  value"
            ]
          },
          "metadata": {
            "tags": []
          },
          "execution_count": 25
        }
      ]
    },
    {
      "cell_type": "code",
      "metadata": {
        "id": "WurllNbk7kjN",
        "outputId": "02a9ff3d-3d10-442c-a18c-c68c8f6d42f9",
        "colab": {
          "base_uri": "https://localhost:8080/"
        }
      },
      "source": [
        "pd.Timestamp('20200901 12:20')"
      ],
      "execution_count": 27,
      "outputs": [
        {
          "output_type": "execute_result",
          "data": {
            "text/plain": [
              "Timestamp('2020-09-01 12:20:00')"
            ]
          },
          "metadata": {
            "tags": []
          },
          "execution_count": 27
        }
      ]
    },
    {
      "cell_type": "code",
      "metadata": {
        "id": "vUs2HuDS7sVu",
        "outputId": "2f09cb69-5a0d-4ad6-bf4f-fef6f3e81e73",
        "colab": {
          "base_uri": "https://localhost:8080/",
          "height": 136
        }
      },
      "source": [
        "df"
      ],
      "execution_count": 28,
      "outputs": [
        {
          "output_type": "execute_result",
          "data": {
            "text/html": [
              "<div>\n",
              "<style scoped>\n",
              "    .dataframe tbody tr th:only-of-type {\n",
              "        vertical-align: middle;\n",
              "    }\n",
              "\n",
              "    .dataframe tbody tr th {\n",
              "        vertical-align: top;\n",
              "    }\n",
              "\n",
              "    .dataframe thead th {\n",
              "        text-align: right;\n",
              "    }\n",
              "</style>\n",
              "<table border=\"1\" class=\"dataframe\">\n",
              "  <thead>\n",
              "    <tr style=\"text-align: right;\">\n",
              "      <th>column</th>\n",
              "      <th>a</th>\n",
              "      <th>b</th>\n",
              "      <th>c</th>\n",
              "    </tr>\n",
              "    <tr>\n",
              "      <th>index</th>\n",
              "      <th></th>\n",
              "      <th></th>\n",
              "      <th></th>\n",
              "    </tr>\n",
              "  </thead>\n",
              "  <tbody>\n",
              "    <tr>\n",
              "      <th>A</th>\n",
              "      <td>1</td>\n",
              "      <td>2</td>\n",
              "      <td>3</td>\n",
              "    </tr>\n",
              "    <tr>\n",
              "      <th>B</th>\n",
              "      <td>4</td>\n",
              "      <td>5</td>\n",
              "      <td>6</td>\n",
              "    </tr>\n",
              "  </tbody>\n",
              "</table>\n",
              "</div>"
            ],
            "text/plain": [
              "column  a  b  c\n",
              "index          \n",
              "A       1  2  3\n",
              "B       4  5  6"
            ]
          },
          "metadata": {
            "tags": []
          },
          "execution_count": 28
        }
      ]
    },
    {
      "cell_type": "code",
      "metadata": {
        "id": "nNH5kgp78LtU"
      },
      "source": [
        "df.set_index('b',inplace=True)"
      ],
      "execution_count": 33,
      "outputs": []
    },
    {
      "cell_type": "code",
      "metadata": {
        "id": "VHEIR4Yg8V22",
        "outputId": "e467997d-0d2a-480d-87f8-e7b4f677e754",
        "colab": {
          "base_uri": "https://localhost:8080/",
          "height": 106
        }
      },
      "source": [
        "df.reset_index()"
      ],
      "execution_count": 35,
      "outputs": [
        {
          "output_type": "execute_result",
          "data": {
            "text/html": [
              "<div>\n",
              "<style scoped>\n",
              "    .dataframe tbody tr th:only-of-type {\n",
              "        vertical-align: middle;\n",
              "    }\n",
              "\n",
              "    .dataframe tbody tr th {\n",
              "        vertical-align: top;\n",
              "    }\n",
              "\n",
              "    .dataframe thead th {\n",
              "        text-align: right;\n",
              "    }\n",
              "</style>\n",
              "<table border=\"1\" class=\"dataframe\">\n",
              "  <thead>\n",
              "    <tr style=\"text-align: right;\">\n",
              "      <th>column</th>\n",
              "      <th>b</th>\n",
              "      <th>a</th>\n",
              "      <th>c</th>\n",
              "    </tr>\n",
              "  </thead>\n",
              "  <tbody>\n",
              "    <tr>\n",
              "      <th>0</th>\n",
              "      <td>2</td>\n",
              "      <td>1</td>\n",
              "      <td>3</td>\n",
              "    </tr>\n",
              "    <tr>\n",
              "      <th>1</th>\n",
              "      <td>5</td>\n",
              "      <td>4</td>\n",
              "      <td>6</td>\n",
              "    </tr>\n",
              "  </tbody>\n",
              "</table>\n",
              "</div>"
            ],
            "text/plain": [
              "column  b  a  c\n",
              "0       2  1  3\n",
              "1       5  4  6"
            ]
          },
          "metadata": {
            "tags": []
          },
          "execution_count": 35
        }
      ]
    },
    {
      "cell_type": "code",
      "metadata": {
        "id": "km3jmZ1O9LCb"
      },
      "source": [
        "dates=pd.date_range('2020-09-01',periods=6)"
      ],
      "execution_count": 42,
      "outputs": []
    },
    {
      "cell_type": "code",
      "metadata": {
        "id": "2go-qIiw-WxR",
        "outputId": "519d98d0-85df-403d-c70d-318cab649617",
        "colab": {
          "base_uri": "https://localhost:8080/"
        }
      },
      "source": [
        "dates"
      ],
      "execution_count": 43,
      "outputs": [
        {
          "output_type": "execute_result",
          "data": {
            "text/plain": [
              "DatetimeIndex(['2020-09-01', '2020-09-02', '2020-09-03', '2020-09-04',\n",
              "               '2020-09-05', '2020-09-06'],\n",
              "              dtype='datetime64[ns]', freq='D')"
            ]
          },
          "metadata": {
            "tags": []
          },
          "execution_count": 43
        }
      ]
    },
    {
      "cell_type": "code",
      "metadata": {
        "id": "C4C0FO6B-ZPs",
        "outputId": "b10d5990-584e-48f8-b0e9-574fabe0284c",
        "colab": {
          "base_uri": "https://localhost:8080/",
          "height": 225
        }
      },
      "source": [
        "df=pd.DataFrame(np.random.rand(6,4),index=dates,columns=list('ABCD'))\n",
        "df"
      ],
      "execution_count": 49,
      "outputs": [
        {
          "output_type": "execute_result",
          "data": {
            "text/html": [
              "<div>\n",
              "<style scoped>\n",
              "    .dataframe tbody tr th:only-of-type {\n",
              "        vertical-align: middle;\n",
              "    }\n",
              "\n",
              "    .dataframe tbody tr th {\n",
              "        vertical-align: top;\n",
              "    }\n",
              "\n",
              "    .dataframe thead th {\n",
              "        text-align: right;\n",
              "    }\n",
              "</style>\n",
              "<table border=\"1\" class=\"dataframe\">\n",
              "  <thead>\n",
              "    <tr style=\"text-align: right;\">\n",
              "      <th></th>\n",
              "      <th>A</th>\n",
              "      <th>B</th>\n",
              "      <th>C</th>\n",
              "      <th>D</th>\n",
              "    </tr>\n",
              "  </thead>\n",
              "  <tbody>\n",
              "    <tr>\n",
              "      <th>2020-09-01</th>\n",
              "      <td>0.398945</td>\n",
              "      <td>0.400901</td>\n",
              "      <td>0.753129</td>\n",
              "      <td>0.008163</td>\n",
              "    </tr>\n",
              "    <tr>\n",
              "      <th>2020-09-02</th>\n",
              "      <td>0.552779</td>\n",
              "      <td>0.488939</td>\n",
              "      <td>0.279058</td>\n",
              "      <td>0.027295</td>\n",
              "    </tr>\n",
              "    <tr>\n",
              "      <th>2020-09-03</th>\n",
              "      <td>0.453230</td>\n",
              "      <td>0.491827</td>\n",
              "      <td>0.798606</td>\n",
              "      <td>0.137477</td>\n",
              "    </tr>\n",
              "    <tr>\n",
              "      <th>2020-09-04</th>\n",
              "      <td>0.155455</td>\n",
              "      <td>0.521008</td>\n",
              "      <td>0.446953</td>\n",
              "      <td>0.120957</td>\n",
              "    </tr>\n",
              "    <tr>\n",
              "      <th>2020-09-05</th>\n",
              "      <td>0.829726</td>\n",
              "      <td>0.695158</td>\n",
              "      <td>0.453790</td>\n",
              "      <td>0.774532</td>\n",
              "    </tr>\n",
              "    <tr>\n",
              "      <th>2020-09-06</th>\n",
              "      <td>0.877924</td>\n",
              "      <td>0.741413</td>\n",
              "      <td>0.597995</td>\n",
              "      <td>0.143923</td>\n",
              "    </tr>\n",
              "  </tbody>\n",
              "</table>\n",
              "</div>"
            ],
            "text/plain": [
              "                   A         B         C         D\n",
              "2020-09-01  0.398945  0.400901  0.753129  0.008163\n",
              "2020-09-02  0.552779  0.488939  0.279058  0.027295\n",
              "2020-09-03  0.453230  0.491827  0.798606  0.137477\n",
              "2020-09-04  0.155455  0.521008  0.446953  0.120957\n",
              "2020-09-05  0.829726  0.695158  0.453790  0.774532\n",
              "2020-09-06  0.877924  0.741413  0.597995  0.143923"
            ]
          },
          "metadata": {
            "tags": []
          },
          "execution_count": 49
        }
      ]
    },
    {
      "cell_type": "code",
      "metadata": {
        "id": "ulvXgyMR_Yev",
        "outputId": "25931354-fcce-40c0-c044-b6587e344e6d",
        "colab": {
          "base_uri": "https://localhost:8080/"
        }
      },
      "source": [
        "df.shape"
      ],
      "execution_count": 50,
      "outputs": [
        {
          "output_type": "execute_result",
          "data": {
            "text/plain": [
              "(6, 4)"
            ]
          },
          "metadata": {
            "tags": []
          },
          "execution_count": 50
        }
      ]
    },
    {
      "cell_type": "code",
      "metadata": {
        "id": "JCY74NlMADpd",
        "outputId": "d9a0cd99-05d3-4099-8398-95ba68c3a81f",
        "colab": {
          "base_uri": "https://localhost:8080/"
        }
      },
      "source": [
        "type(df)"
      ],
      "execution_count": 51,
      "outputs": [
        {
          "output_type": "execute_result",
          "data": {
            "text/plain": [
              "pandas.core.frame.DataFrame"
            ]
          },
          "metadata": {
            "tags": []
          },
          "execution_count": 51
        }
      ]
    },
    {
      "cell_type": "code",
      "metadata": {
        "id": "VsBFyW-DAFbM",
        "outputId": "052ea283-fa7f-4279-a093-e78c3444fa3f",
        "colab": {
          "base_uri": "https://localhost:8080/"
        }
      },
      "source": [
        "df.ndim"
      ],
      "execution_count": 52,
      "outputs": [
        {
          "output_type": "execute_result",
          "data": {
            "text/plain": [
              "2"
            ]
          },
          "metadata": {
            "tags": []
          },
          "execution_count": 52
        }
      ]
    },
    {
      "cell_type": "code",
      "metadata": {
        "id": "6iDk3BDuAHqi",
        "outputId": "c45973a0-adb8-4898-d678-f2e8346104d8",
        "colab": {
          "base_uri": "https://localhost:8080/"
        }
      },
      "source": [
        "df.size"
      ],
      "execution_count": 53,
      "outputs": [
        {
          "output_type": "execute_result",
          "data": {
            "text/plain": [
              "24"
            ]
          },
          "metadata": {
            "tags": []
          },
          "execution_count": 53
        }
      ]
    },
    {
      "cell_type": "code",
      "metadata": {
        "id": "LXSWSpcEAN-b",
        "outputId": "360f0a34-a81a-4d7d-ad64-7352521fe538",
        "colab": {
          "base_uri": "https://localhost:8080/"
        }
      },
      "source": [
        "df.dtypes"
      ],
      "execution_count": 54,
      "outputs": [
        {
          "output_type": "execute_result",
          "data": {
            "text/plain": [
              "A    float64\n",
              "B    float64\n",
              "C    float64\n",
              "D    float64\n",
              "dtype: object"
            ]
          },
          "metadata": {
            "tags": []
          },
          "execution_count": 54
        }
      ]
    },
    {
      "cell_type": "code",
      "metadata": {
        "id": "xmK6sHIKARnu",
        "outputId": "04365884-cd45-4849-f557-53bbf41196b0",
        "colab": {
          "base_uri": "https://localhost:8080/"
        }
      },
      "source": [
        "df['A']"
      ],
      "execution_count": 55,
      "outputs": [
        {
          "output_type": "execute_result",
          "data": {
            "text/plain": [
              "2020-09-01    0.398945\n",
              "2020-09-02    0.552779\n",
              "2020-09-03    0.453230\n",
              "2020-09-04    0.155455\n",
              "2020-09-05    0.829726\n",
              "2020-09-06    0.877924\n",
              "Freq: D, Name: A, dtype: float64"
            ]
          },
          "metadata": {
            "tags": []
          },
          "execution_count": 55
        }
      ]
    },
    {
      "cell_type": "code",
      "metadata": {
        "id": "zQDn1f92A2XH",
        "outputId": "52116abb-a44a-433e-c3d3-6cdd0f39f8a1",
        "colab": {
          "base_uri": "https://localhost:8080/",
          "height": 106
        }
      },
      "source": [
        "df['20200902':'20200903']"
      ],
      "execution_count": 59,
      "outputs": [
        {
          "output_type": "execute_result",
          "data": {
            "text/html": [
              "<div>\n",
              "<style scoped>\n",
              "    .dataframe tbody tr th:only-of-type {\n",
              "        vertical-align: middle;\n",
              "    }\n",
              "\n",
              "    .dataframe tbody tr th {\n",
              "        vertical-align: top;\n",
              "    }\n",
              "\n",
              "    .dataframe thead th {\n",
              "        text-align: right;\n",
              "    }\n",
              "</style>\n",
              "<table border=\"1\" class=\"dataframe\">\n",
              "  <thead>\n",
              "    <tr style=\"text-align: right;\">\n",
              "      <th></th>\n",
              "      <th>A</th>\n",
              "      <th>B</th>\n",
              "      <th>C</th>\n",
              "      <th>D</th>\n",
              "    </tr>\n",
              "  </thead>\n",
              "  <tbody>\n",
              "    <tr>\n",
              "      <th>2020-09-02</th>\n",
              "      <td>0.552779</td>\n",
              "      <td>0.488939</td>\n",
              "      <td>0.279058</td>\n",
              "      <td>0.027295</td>\n",
              "    </tr>\n",
              "    <tr>\n",
              "      <th>2020-09-03</th>\n",
              "      <td>0.453230</td>\n",
              "      <td>0.491827</td>\n",
              "      <td>0.798606</td>\n",
              "      <td>0.137477</td>\n",
              "    </tr>\n",
              "  </tbody>\n",
              "</table>\n",
              "</div>"
            ],
            "text/plain": [
              "                   A         B         C         D\n",
              "2020-09-02  0.552779  0.488939  0.279058  0.027295\n",
              "2020-09-03  0.453230  0.491827  0.798606  0.137477"
            ]
          },
          "metadata": {
            "tags": []
          },
          "execution_count": 59
        }
      ]
    },
    {
      "cell_type": "code",
      "metadata": {
        "id": "ipTcS-apBFRa",
        "outputId": "70e58fb2-a0e8-4d62-96db-8bda3dd318f2",
        "colab": {
          "base_uri": "https://localhost:8080/",
          "height": 225
        }
      },
      "source": [
        "df"
      ],
      "execution_count": 60,
      "outputs": [
        {
          "output_type": "execute_result",
          "data": {
            "text/html": [
              "<div>\n",
              "<style scoped>\n",
              "    .dataframe tbody tr th:only-of-type {\n",
              "        vertical-align: middle;\n",
              "    }\n",
              "\n",
              "    .dataframe tbody tr th {\n",
              "        vertical-align: top;\n",
              "    }\n",
              "\n",
              "    .dataframe thead th {\n",
              "        text-align: right;\n",
              "    }\n",
              "</style>\n",
              "<table border=\"1\" class=\"dataframe\">\n",
              "  <thead>\n",
              "    <tr style=\"text-align: right;\">\n",
              "      <th></th>\n",
              "      <th>A</th>\n",
              "      <th>B</th>\n",
              "      <th>C</th>\n",
              "      <th>D</th>\n",
              "    </tr>\n",
              "  </thead>\n",
              "  <tbody>\n",
              "    <tr>\n",
              "      <th>2020-09-01</th>\n",
              "      <td>0.398945</td>\n",
              "      <td>0.400901</td>\n",
              "      <td>0.753129</td>\n",
              "      <td>0.008163</td>\n",
              "    </tr>\n",
              "    <tr>\n",
              "      <th>2020-09-02</th>\n",
              "      <td>0.552779</td>\n",
              "      <td>0.488939</td>\n",
              "      <td>0.279058</td>\n",
              "      <td>0.027295</td>\n",
              "    </tr>\n",
              "    <tr>\n",
              "      <th>2020-09-03</th>\n",
              "      <td>0.453230</td>\n",
              "      <td>0.491827</td>\n",
              "      <td>0.798606</td>\n",
              "      <td>0.137477</td>\n",
              "    </tr>\n",
              "    <tr>\n",
              "      <th>2020-09-04</th>\n",
              "      <td>0.155455</td>\n",
              "      <td>0.521008</td>\n",
              "      <td>0.446953</td>\n",
              "      <td>0.120957</td>\n",
              "    </tr>\n",
              "    <tr>\n",
              "      <th>2020-09-05</th>\n",
              "      <td>0.829726</td>\n",
              "      <td>0.695158</td>\n",
              "      <td>0.453790</td>\n",
              "      <td>0.774532</td>\n",
              "    </tr>\n",
              "    <tr>\n",
              "      <th>2020-09-06</th>\n",
              "      <td>0.877924</td>\n",
              "      <td>0.741413</td>\n",
              "      <td>0.597995</td>\n",
              "      <td>0.143923</td>\n",
              "    </tr>\n",
              "  </tbody>\n",
              "</table>\n",
              "</div>"
            ],
            "text/plain": [
              "                   A         B         C         D\n",
              "2020-09-01  0.398945  0.400901  0.753129  0.008163\n",
              "2020-09-02  0.552779  0.488939  0.279058  0.027295\n",
              "2020-09-03  0.453230  0.491827  0.798606  0.137477\n",
              "2020-09-04  0.155455  0.521008  0.446953  0.120957\n",
              "2020-09-05  0.829726  0.695158  0.453790  0.774532\n",
              "2020-09-06  0.877924  0.741413  0.597995  0.143923"
            ]
          },
          "metadata": {
            "tags": []
          },
          "execution_count": 60
        }
      ]
    },
    {
      "cell_type": "code",
      "metadata": {
        "id": "uHNdwEv0CBXB",
        "outputId": "80622b76-c46c-4753-f9dd-74982cc30058",
        "colab": {
          "base_uri": "https://localhost:8080/"
        }
      },
      "source": [
        "df.loc['20200901','A']"
      ],
      "execution_count": 63,
      "outputs": [
        {
          "output_type": "execute_result",
          "data": {
            "text/plain": [
              "0.39894471017732147"
            ]
          },
          "metadata": {
            "tags": []
          },
          "execution_count": 63
        }
      ]
    },
    {
      "cell_type": "code",
      "metadata": {
        "id": "D8CNsL2ECFsq",
        "outputId": "811bfb52-4b2a-4763-ad7e-0a7902270c4c",
        "colab": {
          "base_uri": "https://localhost:8080/",
          "height": 106
        }
      },
      "source": [
        "df.loc[['20200901','20200905'],['A','C']]"
      ],
      "execution_count": 74,
      "outputs": [
        {
          "output_type": "execute_result",
          "data": {
            "text/html": [
              "<div>\n",
              "<style scoped>\n",
              "    .dataframe tbody tr th:only-of-type {\n",
              "        vertical-align: middle;\n",
              "    }\n",
              "\n",
              "    .dataframe tbody tr th {\n",
              "        vertical-align: top;\n",
              "    }\n",
              "\n",
              "    .dataframe thead th {\n",
              "        text-align: right;\n",
              "    }\n",
              "</style>\n",
              "<table border=\"1\" class=\"dataframe\">\n",
              "  <thead>\n",
              "    <tr style=\"text-align: right;\">\n",
              "      <th></th>\n",
              "      <th>A</th>\n",
              "      <th>C</th>\n",
              "    </tr>\n",
              "  </thead>\n",
              "  <tbody>\n",
              "    <tr>\n",
              "      <th>2020-09-01</th>\n",
              "      <td>0.398945</td>\n",
              "      <td>0.753129</td>\n",
              "    </tr>\n",
              "    <tr>\n",
              "      <th>2020-09-05</th>\n",
              "      <td>0.829726</td>\n",
              "      <td>0.453790</td>\n",
              "    </tr>\n",
              "  </tbody>\n",
              "</table>\n",
              "</div>"
            ],
            "text/plain": [
              "                   A         C\n",
              "2020-09-01  0.398945  0.753129\n",
              "2020-09-05  0.829726  0.453790"
            ]
          },
          "metadata": {
            "tags": []
          },
          "execution_count": 74
        }
      ]
    },
    {
      "cell_type": "code",
      "metadata": {
        "id": "GrPJL9H4CWSY",
        "outputId": "04c373b8-6e76-4a1e-adca-6fb515cf647b",
        "colab": {
          "base_uri": "https://localhost:8080/"
        }
      },
      "source": [
        "df.iloc[2,1]"
      ],
      "execution_count": 75,
      "outputs": [
        {
          "output_type": "execute_result",
          "data": {
            "text/plain": [
              "0.4918274610939143"
            ]
          },
          "metadata": {
            "tags": []
          },
          "execution_count": 75
        }
      ]
    },
    {
      "cell_type": "code",
      "metadata": {
        "id": "4Dd-txoJDvKZ",
        "outputId": "695ad23e-8ea3-47d7-f016-18205c2e4047",
        "colab": {
          "base_uri": "https://localhost:8080/",
          "height": 225
        }
      },
      "source": [
        "df"
      ],
      "execution_count": 76,
      "outputs": [
        {
          "output_type": "execute_result",
          "data": {
            "text/html": [
              "<div>\n",
              "<style scoped>\n",
              "    .dataframe tbody tr th:only-of-type {\n",
              "        vertical-align: middle;\n",
              "    }\n",
              "\n",
              "    .dataframe tbody tr th {\n",
              "        vertical-align: top;\n",
              "    }\n",
              "\n",
              "    .dataframe thead th {\n",
              "        text-align: right;\n",
              "    }\n",
              "</style>\n",
              "<table border=\"1\" class=\"dataframe\">\n",
              "  <thead>\n",
              "    <tr style=\"text-align: right;\">\n",
              "      <th></th>\n",
              "      <th>A</th>\n",
              "      <th>B</th>\n",
              "      <th>C</th>\n",
              "      <th>D</th>\n",
              "    </tr>\n",
              "  </thead>\n",
              "  <tbody>\n",
              "    <tr>\n",
              "      <th>2020-09-01</th>\n",
              "      <td>0.398945</td>\n",
              "      <td>0.400901</td>\n",
              "      <td>0.753129</td>\n",
              "      <td>0.008163</td>\n",
              "    </tr>\n",
              "    <tr>\n",
              "      <th>2020-09-02</th>\n",
              "      <td>0.552779</td>\n",
              "      <td>0.488939</td>\n",
              "      <td>0.279058</td>\n",
              "      <td>0.027295</td>\n",
              "    </tr>\n",
              "    <tr>\n",
              "      <th>2020-09-03</th>\n",
              "      <td>0.453230</td>\n",
              "      <td>0.491827</td>\n",
              "      <td>0.798606</td>\n",
              "      <td>0.137477</td>\n",
              "    </tr>\n",
              "    <tr>\n",
              "      <th>2020-09-04</th>\n",
              "      <td>0.155455</td>\n",
              "      <td>0.521008</td>\n",
              "      <td>0.446953</td>\n",
              "      <td>0.120957</td>\n",
              "    </tr>\n",
              "    <tr>\n",
              "      <th>2020-09-05</th>\n",
              "      <td>0.829726</td>\n",
              "      <td>0.695158</td>\n",
              "      <td>0.453790</td>\n",
              "      <td>0.774532</td>\n",
              "    </tr>\n",
              "    <tr>\n",
              "      <th>2020-09-06</th>\n",
              "      <td>0.877924</td>\n",
              "      <td>0.741413</td>\n",
              "      <td>0.597995</td>\n",
              "      <td>0.143923</td>\n",
              "    </tr>\n",
              "  </tbody>\n",
              "</table>\n",
              "</div>"
            ],
            "text/plain": [
              "                   A         B         C         D\n",
              "2020-09-01  0.398945  0.400901  0.753129  0.008163\n",
              "2020-09-02  0.552779  0.488939  0.279058  0.027295\n",
              "2020-09-03  0.453230  0.491827  0.798606  0.137477\n",
              "2020-09-04  0.155455  0.521008  0.446953  0.120957\n",
              "2020-09-05  0.829726  0.695158  0.453790  0.774532\n",
              "2020-09-06  0.877924  0.741413  0.597995  0.143923"
            ]
          },
          "metadata": {
            "tags": []
          },
          "execution_count": 76
        }
      ]
    },
    {
      "cell_type": "code",
      "metadata": {
        "id": "7LqFUDsoDyiT",
        "outputId": "bb47b071-648f-487a-a682-9fb4409d52ff",
        "colab": {
          "base_uri": "https://localhost:8080/",
          "height": 136
        }
      },
      "source": [
        "df.head(3)"
      ],
      "execution_count": 78,
      "outputs": [
        {
          "output_type": "execute_result",
          "data": {
            "text/html": [
              "<div>\n",
              "<style scoped>\n",
              "    .dataframe tbody tr th:only-of-type {\n",
              "        vertical-align: middle;\n",
              "    }\n",
              "\n",
              "    .dataframe tbody tr th {\n",
              "        vertical-align: top;\n",
              "    }\n",
              "\n",
              "    .dataframe thead th {\n",
              "        text-align: right;\n",
              "    }\n",
              "</style>\n",
              "<table border=\"1\" class=\"dataframe\">\n",
              "  <thead>\n",
              "    <tr style=\"text-align: right;\">\n",
              "      <th></th>\n",
              "      <th>A</th>\n",
              "      <th>B</th>\n",
              "      <th>C</th>\n",
              "      <th>D</th>\n",
              "    </tr>\n",
              "  </thead>\n",
              "  <tbody>\n",
              "    <tr>\n",
              "      <th>2020-09-01</th>\n",
              "      <td>0.398945</td>\n",
              "      <td>0.400901</td>\n",
              "      <td>0.753129</td>\n",
              "      <td>0.008163</td>\n",
              "    </tr>\n",
              "    <tr>\n",
              "      <th>2020-09-02</th>\n",
              "      <td>0.552779</td>\n",
              "      <td>0.488939</td>\n",
              "      <td>0.279058</td>\n",
              "      <td>0.027295</td>\n",
              "    </tr>\n",
              "    <tr>\n",
              "      <th>2020-09-03</th>\n",
              "      <td>0.453230</td>\n",
              "      <td>0.491827</td>\n",
              "      <td>0.798606</td>\n",
              "      <td>0.137477</td>\n",
              "    </tr>\n",
              "  </tbody>\n",
              "</table>\n",
              "</div>"
            ],
            "text/plain": [
              "                   A         B         C         D\n",
              "2020-09-01  0.398945  0.400901  0.753129  0.008163\n",
              "2020-09-02  0.552779  0.488939  0.279058  0.027295\n",
              "2020-09-03  0.453230  0.491827  0.798606  0.137477"
            ]
          },
          "metadata": {
            "tags": []
          },
          "execution_count": 78
        }
      ]
    },
    {
      "cell_type": "code",
      "metadata": {
        "id": "b2oacCa0EaaU",
        "outputId": "4a913e82-59af-400f-a0bf-8c33b5a8608d",
        "colab": {
          "base_uri": "https://localhost:8080/",
          "height": 106
        }
      },
      "source": [
        "df.tail(2)"
      ],
      "execution_count": 79,
      "outputs": [
        {
          "output_type": "execute_result",
          "data": {
            "text/html": [
              "<div>\n",
              "<style scoped>\n",
              "    .dataframe tbody tr th:only-of-type {\n",
              "        vertical-align: middle;\n",
              "    }\n",
              "\n",
              "    .dataframe tbody tr th {\n",
              "        vertical-align: top;\n",
              "    }\n",
              "\n",
              "    .dataframe thead th {\n",
              "        text-align: right;\n",
              "    }\n",
              "</style>\n",
              "<table border=\"1\" class=\"dataframe\">\n",
              "  <thead>\n",
              "    <tr style=\"text-align: right;\">\n",
              "      <th></th>\n",
              "      <th>A</th>\n",
              "      <th>B</th>\n",
              "      <th>C</th>\n",
              "      <th>D</th>\n",
              "    </tr>\n",
              "  </thead>\n",
              "  <tbody>\n",
              "    <tr>\n",
              "      <th>2020-09-05</th>\n",
              "      <td>0.829726</td>\n",
              "      <td>0.695158</td>\n",
              "      <td>0.453790</td>\n",
              "      <td>0.774532</td>\n",
              "    </tr>\n",
              "    <tr>\n",
              "      <th>2020-09-06</th>\n",
              "      <td>0.877924</td>\n",
              "      <td>0.741413</td>\n",
              "      <td>0.597995</td>\n",
              "      <td>0.143923</td>\n",
              "    </tr>\n",
              "  </tbody>\n",
              "</table>\n",
              "</div>"
            ],
            "text/plain": [
              "                   A         B         C         D\n",
              "2020-09-05  0.829726  0.695158  0.453790  0.774532\n",
              "2020-09-06  0.877924  0.741413  0.597995  0.143923"
            ]
          },
          "metadata": {
            "tags": []
          },
          "execution_count": 79
        }
      ]
    },
    {
      "cell_type": "code",
      "metadata": {
        "id": "YBWW8S5REmt4",
        "outputId": "e589fa35-fd77-45cf-ec35-256a6df2d0d3",
        "colab": {
          "base_uri": "https://localhost:8080/",
          "height": 284
        }
      },
      "source": [
        "df.describe()"
      ],
      "execution_count": 81,
      "outputs": [
        {
          "output_type": "execute_result",
          "data": {
            "text/html": [
              "<div>\n",
              "<style scoped>\n",
              "    .dataframe tbody tr th:only-of-type {\n",
              "        vertical-align: middle;\n",
              "    }\n",
              "\n",
              "    .dataframe tbody tr th {\n",
              "        vertical-align: top;\n",
              "    }\n",
              "\n",
              "    .dataframe thead th {\n",
              "        text-align: right;\n",
              "    }\n",
              "</style>\n",
              "<table border=\"1\" class=\"dataframe\">\n",
              "  <thead>\n",
              "    <tr style=\"text-align: right;\">\n",
              "      <th></th>\n",
              "      <th>A</th>\n",
              "      <th>B</th>\n",
              "      <th>C</th>\n",
              "      <th>D</th>\n",
              "    </tr>\n",
              "  </thead>\n",
              "  <tbody>\n",
              "    <tr>\n",
              "      <th>count</th>\n",
              "      <td>6.000000</td>\n",
              "      <td>6.000000</td>\n",
              "      <td>6.000000</td>\n",
              "      <td>6.000000</td>\n",
              "    </tr>\n",
              "    <tr>\n",
              "      <th>mean</th>\n",
              "      <td>0.544676</td>\n",
              "      <td>0.556541</td>\n",
              "      <td>0.554922</td>\n",
              "      <td>0.202058</td>\n",
              "    </tr>\n",
              "    <tr>\n",
              "      <th>std</th>\n",
              "      <td>0.273301</td>\n",
              "      <td>0.132391</td>\n",
              "      <td>0.199253</td>\n",
              "      <td>0.286354</td>\n",
              "    </tr>\n",
              "    <tr>\n",
              "      <th>min</th>\n",
              "      <td>0.155455</td>\n",
              "      <td>0.400901</td>\n",
              "      <td>0.279058</td>\n",
              "      <td>0.008163</td>\n",
              "    </tr>\n",
              "    <tr>\n",
              "      <th>25%</th>\n",
              "      <td>0.412516</td>\n",
              "      <td>0.489661</td>\n",
              "      <td>0.448662</td>\n",
              "      <td>0.050711</td>\n",
              "    </tr>\n",
              "    <tr>\n",
              "      <th>50%</th>\n",
              "      <td>0.503005</td>\n",
              "      <td>0.506418</td>\n",
              "      <td>0.525893</td>\n",
              "      <td>0.129217</td>\n",
              "    </tr>\n",
              "    <tr>\n",
              "      <th>75%</th>\n",
              "      <td>0.760489</td>\n",
              "      <td>0.651620</td>\n",
              "      <td>0.714346</td>\n",
              "      <td>0.142311</td>\n",
              "    </tr>\n",
              "    <tr>\n",
              "      <th>max</th>\n",
              "      <td>0.877924</td>\n",
              "      <td>0.741413</td>\n",
              "      <td>0.798606</td>\n",
              "      <td>0.774532</td>\n",
              "    </tr>\n",
              "  </tbody>\n",
              "</table>\n",
              "</div>"
            ],
            "text/plain": [
              "              A         B         C         D\n",
              "count  6.000000  6.000000  6.000000  6.000000\n",
              "mean   0.544676  0.556541  0.554922  0.202058\n",
              "std    0.273301  0.132391  0.199253  0.286354\n",
              "min    0.155455  0.400901  0.279058  0.008163\n",
              "25%    0.412516  0.489661  0.448662  0.050711\n",
              "50%    0.503005  0.506418  0.525893  0.129217\n",
              "75%    0.760489  0.651620  0.714346  0.142311\n",
              "max    0.877924  0.741413  0.798606  0.774532"
            ]
          },
          "metadata": {
            "tags": []
          },
          "execution_count": 81
        }
      ]
    },
    {
      "cell_type": "code",
      "metadata": {
        "id": "0AGxe6eSEtRf",
        "outputId": "cc95b0c6-1be6-40b8-9fe3-8bbcd2fbd2d7",
        "colab": {
          "base_uri": "https://localhost:8080/",
          "height": 225
        }
      },
      "source": [
        "df"
      ],
      "execution_count": 82,
      "outputs": [
        {
          "output_type": "execute_result",
          "data": {
            "text/html": [
              "<div>\n",
              "<style scoped>\n",
              "    .dataframe tbody tr th:only-of-type {\n",
              "        vertical-align: middle;\n",
              "    }\n",
              "\n",
              "    .dataframe tbody tr th {\n",
              "        vertical-align: top;\n",
              "    }\n",
              "\n",
              "    .dataframe thead th {\n",
              "        text-align: right;\n",
              "    }\n",
              "</style>\n",
              "<table border=\"1\" class=\"dataframe\">\n",
              "  <thead>\n",
              "    <tr style=\"text-align: right;\">\n",
              "      <th></th>\n",
              "      <th>A</th>\n",
              "      <th>B</th>\n",
              "      <th>C</th>\n",
              "      <th>D</th>\n",
              "    </tr>\n",
              "  </thead>\n",
              "  <tbody>\n",
              "    <tr>\n",
              "      <th>2020-09-01</th>\n",
              "      <td>0.398945</td>\n",
              "      <td>0.400901</td>\n",
              "      <td>0.753129</td>\n",
              "      <td>0.008163</td>\n",
              "    </tr>\n",
              "    <tr>\n",
              "      <th>2020-09-02</th>\n",
              "      <td>0.552779</td>\n",
              "      <td>0.488939</td>\n",
              "      <td>0.279058</td>\n",
              "      <td>0.027295</td>\n",
              "    </tr>\n",
              "    <tr>\n",
              "      <th>2020-09-03</th>\n",
              "      <td>0.453230</td>\n",
              "      <td>0.491827</td>\n",
              "      <td>0.798606</td>\n",
              "      <td>0.137477</td>\n",
              "    </tr>\n",
              "    <tr>\n",
              "      <th>2020-09-04</th>\n",
              "      <td>0.155455</td>\n",
              "      <td>0.521008</td>\n",
              "      <td>0.446953</td>\n",
              "      <td>0.120957</td>\n",
              "    </tr>\n",
              "    <tr>\n",
              "      <th>2020-09-05</th>\n",
              "      <td>0.829726</td>\n",
              "      <td>0.695158</td>\n",
              "      <td>0.453790</td>\n",
              "      <td>0.774532</td>\n",
              "    </tr>\n",
              "    <tr>\n",
              "      <th>2020-09-06</th>\n",
              "      <td>0.877924</td>\n",
              "      <td>0.741413</td>\n",
              "      <td>0.597995</td>\n",
              "      <td>0.143923</td>\n",
              "    </tr>\n",
              "  </tbody>\n",
              "</table>\n",
              "</div>"
            ],
            "text/plain": [
              "                   A         B         C         D\n",
              "2020-09-01  0.398945  0.400901  0.753129  0.008163\n",
              "2020-09-02  0.552779  0.488939  0.279058  0.027295\n",
              "2020-09-03  0.453230  0.491827  0.798606  0.137477\n",
              "2020-09-04  0.155455  0.521008  0.446953  0.120957\n",
              "2020-09-05  0.829726  0.695158  0.453790  0.774532\n",
              "2020-09-06  0.877924  0.741413  0.597995  0.143923"
            ]
          },
          "metadata": {
            "tags": []
          },
          "execution_count": 82
        }
      ]
    },
    {
      "cell_type": "code",
      "metadata": {
        "id": "HotlLeJXE8ED",
        "outputId": "26376802-40fd-45b7-ddd5-07bd10209e88",
        "colab": {
          "base_uri": "https://localhost:8080/",
          "height": 166
        }
      },
      "source": [
        "df.T"
      ],
      "execution_count": 83,
      "outputs": [
        {
          "output_type": "execute_result",
          "data": {
            "text/html": [
              "<div>\n",
              "<style scoped>\n",
              "    .dataframe tbody tr th:only-of-type {\n",
              "        vertical-align: middle;\n",
              "    }\n",
              "\n",
              "    .dataframe tbody tr th {\n",
              "        vertical-align: top;\n",
              "    }\n",
              "\n",
              "    .dataframe thead th {\n",
              "        text-align: right;\n",
              "    }\n",
              "</style>\n",
              "<table border=\"1\" class=\"dataframe\">\n",
              "  <thead>\n",
              "    <tr style=\"text-align: right;\">\n",
              "      <th></th>\n",
              "      <th>2020-09-01</th>\n",
              "      <th>2020-09-02</th>\n",
              "      <th>2020-09-03</th>\n",
              "      <th>2020-09-04</th>\n",
              "      <th>2020-09-05</th>\n",
              "      <th>2020-09-06</th>\n",
              "    </tr>\n",
              "  </thead>\n",
              "  <tbody>\n",
              "    <tr>\n",
              "      <th>A</th>\n",
              "      <td>0.398945</td>\n",
              "      <td>0.552779</td>\n",
              "      <td>0.453230</td>\n",
              "      <td>0.155455</td>\n",
              "      <td>0.829726</td>\n",
              "      <td>0.877924</td>\n",
              "    </tr>\n",
              "    <tr>\n",
              "      <th>B</th>\n",
              "      <td>0.400901</td>\n",
              "      <td>0.488939</td>\n",
              "      <td>0.491827</td>\n",
              "      <td>0.521008</td>\n",
              "      <td>0.695158</td>\n",
              "      <td>0.741413</td>\n",
              "    </tr>\n",
              "    <tr>\n",
              "      <th>C</th>\n",
              "      <td>0.753129</td>\n",
              "      <td>0.279058</td>\n",
              "      <td>0.798606</td>\n",
              "      <td>0.446953</td>\n",
              "      <td>0.453790</td>\n",
              "      <td>0.597995</td>\n",
              "    </tr>\n",
              "    <tr>\n",
              "      <th>D</th>\n",
              "      <td>0.008163</td>\n",
              "      <td>0.027295</td>\n",
              "      <td>0.137477</td>\n",
              "      <td>0.120957</td>\n",
              "      <td>0.774532</td>\n",
              "      <td>0.143923</td>\n",
              "    </tr>\n",
              "  </tbody>\n",
              "</table>\n",
              "</div>"
            ],
            "text/plain": [
              "   2020-09-01  2020-09-02  2020-09-03  2020-09-04  2020-09-05  2020-09-06\n",
              "A    0.398945    0.552779    0.453230    0.155455    0.829726    0.877924\n",
              "B    0.400901    0.488939    0.491827    0.521008    0.695158    0.741413\n",
              "C    0.753129    0.279058    0.798606    0.446953    0.453790    0.597995\n",
              "D    0.008163    0.027295    0.137477    0.120957    0.774532    0.143923"
            ]
          },
          "metadata": {
            "tags": []
          },
          "execution_count": 83
        }
      ]
    },
    {
      "cell_type": "code",
      "metadata": {
        "id": "_ZXfbOdlFAqQ",
        "outputId": "3426d487-61d1-48bb-d94e-5ddb1659cbe9",
        "colab": {
          "base_uri": "https://localhost:8080/",
          "height": 225
        }
      },
      "source": [
        "df.sort_index(axis=1,ascending=False)"
      ],
      "execution_count": 88,
      "outputs": [
        {
          "output_type": "execute_result",
          "data": {
            "text/html": [
              "<div>\n",
              "<style scoped>\n",
              "    .dataframe tbody tr th:only-of-type {\n",
              "        vertical-align: middle;\n",
              "    }\n",
              "\n",
              "    .dataframe tbody tr th {\n",
              "        vertical-align: top;\n",
              "    }\n",
              "\n",
              "    .dataframe thead th {\n",
              "        text-align: right;\n",
              "    }\n",
              "</style>\n",
              "<table border=\"1\" class=\"dataframe\">\n",
              "  <thead>\n",
              "    <tr style=\"text-align: right;\">\n",
              "      <th></th>\n",
              "      <th>D</th>\n",
              "      <th>C</th>\n",
              "      <th>B</th>\n",
              "      <th>A</th>\n",
              "    </tr>\n",
              "  </thead>\n",
              "  <tbody>\n",
              "    <tr>\n",
              "      <th>2020-09-01</th>\n",
              "      <td>0.008163</td>\n",
              "      <td>0.753129</td>\n",
              "      <td>0.400901</td>\n",
              "      <td>0.398945</td>\n",
              "    </tr>\n",
              "    <tr>\n",
              "      <th>2020-09-02</th>\n",
              "      <td>0.027295</td>\n",
              "      <td>0.279058</td>\n",
              "      <td>0.488939</td>\n",
              "      <td>0.552779</td>\n",
              "    </tr>\n",
              "    <tr>\n",
              "      <th>2020-09-03</th>\n",
              "      <td>0.137477</td>\n",
              "      <td>0.798606</td>\n",
              "      <td>0.491827</td>\n",
              "      <td>0.453230</td>\n",
              "    </tr>\n",
              "    <tr>\n",
              "      <th>2020-09-04</th>\n",
              "      <td>0.120957</td>\n",
              "      <td>0.446953</td>\n",
              "      <td>0.521008</td>\n",
              "      <td>0.155455</td>\n",
              "    </tr>\n",
              "    <tr>\n",
              "      <th>2020-09-05</th>\n",
              "      <td>0.774532</td>\n",
              "      <td>0.453790</td>\n",
              "      <td>0.695158</td>\n",
              "      <td>0.829726</td>\n",
              "    </tr>\n",
              "    <tr>\n",
              "      <th>2020-09-06</th>\n",
              "      <td>0.143923</td>\n",
              "      <td>0.597995</td>\n",
              "      <td>0.741413</td>\n",
              "      <td>0.877924</td>\n",
              "    </tr>\n",
              "  </tbody>\n",
              "</table>\n",
              "</div>"
            ],
            "text/plain": [
              "                   D         C         B         A\n",
              "2020-09-01  0.008163  0.753129  0.400901  0.398945\n",
              "2020-09-02  0.027295  0.279058  0.488939  0.552779\n",
              "2020-09-03  0.137477  0.798606  0.491827  0.453230\n",
              "2020-09-04  0.120957  0.446953  0.521008  0.155455\n",
              "2020-09-05  0.774532  0.453790  0.695158  0.829726\n",
              "2020-09-06  0.143923  0.597995  0.741413  0.877924"
            ]
          },
          "metadata": {
            "tags": []
          },
          "execution_count": 88
        }
      ]
    },
    {
      "cell_type": "code",
      "metadata": {
        "id": "NBQHI3Z2F38d",
        "outputId": "deeedcb8-312b-4ffb-ee1b-db74939b9c28",
        "colab": {
          "base_uri": "https://localhost:8080/",
          "height": 225
        }
      },
      "source": [
        "df"
      ],
      "execution_count": 89,
      "outputs": [
        {
          "output_type": "execute_result",
          "data": {
            "text/html": [
              "<div>\n",
              "<style scoped>\n",
              "    .dataframe tbody tr th:only-of-type {\n",
              "        vertical-align: middle;\n",
              "    }\n",
              "\n",
              "    .dataframe tbody tr th {\n",
              "        vertical-align: top;\n",
              "    }\n",
              "\n",
              "    .dataframe thead th {\n",
              "        text-align: right;\n",
              "    }\n",
              "</style>\n",
              "<table border=\"1\" class=\"dataframe\">\n",
              "  <thead>\n",
              "    <tr style=\"text-align: right;\">\n",
              "      <th></th>\n",
              "      <th>A</th>\n",
              "      <th>B</th>\n",
              "      <th>C</th>\n",
              "      <th>D</th>\n",
              "    </tr>\n",
              "  </thead>\n",
              "  <tbody>\n",
              "    <tr>\n",
              "      <th>2020-09-01</th>\n",
              "      <td>0.398945</td>\n",
              "      <td>0.400901</td>\n",
              "      <td>0.753129</td>\n",
              "      <td>0.008163</td>\n",
              "    </tr>\n",
              "    <tr>\n",
              "      <th>2020-09-02</th>\n",
              "      <td>0.552779</td>\n",
              "      <td>0.488939</td>\n",
              "      <td>0.279058</td>\n",
              "      <td>0.027295</td>\n",
              "    </tr>\n",
              "    <tr>\n",
              "      <th>2020-09-03</th>\n",
              "      <td>0.453230</td>\n",
              "      <td>0.491827</td>\n",
              "      <td>0.798606</td>\n",
              "      <td>0.137477</td>\n",
              "    </tr>\n",
              "    <tr>\n",
              "      <th>2020-09-04</th>\n",
              "      <td>0.155455</td>\n",
              "      <td>0.521008</td>\n",
              "      <td>0.446953</td>\n",
              "      <td>0.120957</td>\n",
              "    </tr>\n",
              "    <tr>\n",
              "      <th>2020-09-05</th>\n",
              "      <td>0.829726</td>\n",
              "      <td>0.695158</td>\n",
              "      <td>0.453790</td>\n",
              "      <td>0.774532</td>\n",
              "    </tr>\n",
              "    <tr>\n",
              "      <th>2020-09-06</th>\n",
              "      <td>0.877924</td>\n",
              "      <td>0.741413</td>\n",
              "      <td>0.597995</td>\n",
              "      <td>0.143923</td>\n",
              "    </tr>\n",
              "  </tbody>\n",
              "</table>\n",
              "</div>"
            ],
            "text/plain": [
              "                   A         B         C         D\n",
              "2020-09-01  0.398945  0.400901  0.753129  0.008163\n",
              "2020-09-02  0.552779  0.488939  0.279058  0.027295\n",
              "2020-09-03  0.453230  0.491827  0.798606  0.137477\n",
              "2020-09-04  0.155455  0.521008  0.446953  0.120957\n",
              "2020-09-05  0.829726  0.695158  0.453790  0.774532\n",
              "2020-09-06  0.877924  0.741413  0.597995  0.143923"
            ]
          },
          "metadata": {
            "tags": []
          },
          "execution_count": 89
        }
      ]
    },
    {
      "cell_type": "code",
      "metadata": {
        "id": "tuUhI3RdGWkW",
        "outputId": "c928675f-399a-46e5-be87-d6e0d004b8c2",
        "colab": {
          "base_uri": "https://localhost:8080/",
          "height": 225
        }
      },
      "source": [
        "df.sort_values('A',ascending=False)"
      ],
      "execution_count": 91,
      "outputs": [
        {
          "output_type": "execute_result",
          "data": {
            "text/html": [
              "<div>\n",
              "<style scoped>\n",
              "    .dataframe tbody tr th:only-of-type {\n",
              "        vertical-align: middle;\n",
              "    }\n",
              "\n",
              "    .dataframe tbody tr th {\n",
              "        vertical-align: top;\n",
              "    }\n",
              "\n",
              "    .dataframe thead th {\n",
              "        text-align: right;\n",
              "    }\n",
              "</style>\n",
              "<table border=\"1\" class=\"dataframe\">\n",
              "  <thead>\n",
              "    <tr style=\"text-align: right;\">\n",
              "      <th></th>\n",
              "      <th>A</th>\n",
              "      <th>B</th>\n",
              "      <th>C</th>\n",
              "      <th>D</th>\n",
              "    </tr>\n",
              "  </thead>\n",
              "  <tbody>\n",
              "    <tr>\n",
              "      <th>2020-09-06</th>\n",
              "      <td>0.877924</td>\n",
              "      <td>0.741413</td>\n",
              "      <td>0.597995</td>\n",
              "      <td>0.143923</td>\n",
              "    </tr>\n",
              "    <tr>\n",
              "      <th>2020-09-05</th>\n",
              "      <td>0.829726</td>\n",
              "      <td>0.695158</td>\n",
              "      <td>0.453790</td>\n",
              "      <td>0.774532</td>\n",
              "    </tr>\n",
              "    <tr>\n",
              "      <th>2020-09-02</th>\n",
              "      <td>0.552779</td>\n",
              "      <td>0.488939</td>\n",
              "      <td>0.279058</td>\n",
              "      <td>0.027295</td>\n",
              "    </tr>\n",
              "    <tr>\n",
              "      <th>2020-09-03</th>\n",
              "      <td>0.453230</td>\n",
              "      <td>0.491827</td>\n",
              "      <td>0.798606</td>\n",
              "      <td>0.137477</td>\n",
              "    </tr>\n",
              "    <tr>\n",
              "      <th>2020-09-01</th>\n",
              "      <td>0.398945</td>\n",
              "      <td>0.400901</td>\n",
              "      <td>0.753129</td>\n",
              "      <td>0.008163</td>\n",
              "    </tr>\n",
              "    <tr>\n",
              "      <th>2020-09-04</th>\n",
              "      <td>0.155455</td>\n",
              "      <td>0.521008</td>\n",
              "      <td>0.446953</td>\n",
              "      <td>0.120957</td>\n",
              "    </tr>\n",
              "  </tbody>\n",
              "</table>\n",
              "</div>"
            ],
            "text/plain": [
              "                   A         B         C         D\n",
              "2020-09-06  0.877924  0.741413  0.597995  0.143923\n",
              "2020-09-05  0.829726  0.695158  0.453790  0.774532\n",
              "2020-09-02  0.552779  0.488939  0.279058  0.027295\n",
              "2020-09-03  0.453230  0.491827  0.798606  0.137477\n",
              "2020-09-01  0.398945  0.400901  0.753129  0.008163\n",
              "2020-09-04  0.155455  0.521008  0.446953  0.120957"
            ]
          },
          "metadata": {
            "tags": []
          },
          "execution_count": 91
        }
      ]
    },
    {
      "cell_type": "code",
      "metadata": {
        "id": "uXZWAED0GicT",
        "outputId": "7a35a48f-7c17-412b-b616-69b192d877d5",
        "colab": {
          "base_uri": "https://localhost:8080/",
          "height": 225
        }
      },
      "source": [
        "df>0"
      ],
      "execution_count": 92,
      "outputs": [
        {
          "output_type": "execute_result",
          "data": {
            "text/html": [
              "<div>\n",
              "<style scoped>\n",
              "    .dataframe tbody tr th:only-of-type {\n",
              "        vertical-align: middle;\n",
              "    }\n",
              "\n",
              "    .dataframe tbody tr th {\n",
              "        vertical-align: top;\n",
              "    }\n",
              "\n",
              "    .dataframe thead th {\n",
              "        text-align: right;\n",
              "    }\n",
              "</style>\n",
              "<table border=\"1\" class=\"dataframe\">\n",
              "  <thead>\n",
              "    <tr style=\"text-align: right;\">\n",
              "      <th></th>\n",
              "      <th>A</th>\n",
              "      <th>B</th>\n",
              "      <th>C</th>\n",
              "      <th>D</th>\n",
              "    </tr>\n",
              "  </thead>\n",
              "  <tbody>\n",
              "    <tr>\n",
              "      <th>2020-09-01</th>\n",
              "      <td>True</td>\n",
              "      <td>True</td>\n",
              "      <td>True</td>\n",
              "      <td>True</td>\n",
              "    </tr>\n",
              "    <tr>\n",
              "      <th>2020-09-02</th>\n",
              "      <td>True</td>\n",
              "      <td>True</td>\n",
              "      <td>True</td>\n",
              "      <td>True</td>\n",
              "    </tr>\n",
              "    <tr>\n",
              "      <th>2020-09-03</th>\n",
              "      <td>True</td>\n",
              "      <td>True</td>\n",
              "      <td>True</td>\n",
              "      <td>True</td>\n",
              "    </tr>\n",
              "    <tr>\n",
              "      <th>2020-09-04</th>\n",
              "      <td>True</td>\n",
              "      <td>True</td>\n",
              "      <td>True</td>\n",
              "      <td>True</td>\n",
              "    </tr>\n",
              "    <tr>\n",
              "      <th>2020-09-05</th>\n",
              "      <td>True</td>\n",
              "      <td>True</td>\n",
              "      <td>True</td>\n",
              "      <td>True</td>\n",
              "    </tr>\n",
              "    <tr>\n",
              "      <th>2020-09-06</th>\n",
              "      <td>True</td>\n",
              "      <td>True</td>\n",
              "      <td>True</td>\n",
              "      <td>True</td>\n",
              "    </tr>\n",
              "  </tbody>\n",
              "</table>\n",
              "</div>"
            ],
            "text/plain": [
              "               A     B     C     D\n",
              "2020-09-01  True  True  True  True\n",
              "2020-09-02  True  True  True  True\n",
              "2020-09-03  True  True  True  True\n",
              "2020-09-04  True  True  True  True\n",
              "2020-09-05  True  True  True  True\n",
              "2020-09-06  True  True  True  True"
            ]
          },
          "metadata": {
            "tags": []
          },
          "execution_count": 92
        }
      ]
    },
    {
      "cell_type": "code",
      "metadata": {
        "id": "aGe9jfZlG0-6",
        "outputId": "31eacb8d-9a89-41f8-f1f1-e28d367e0a26",
        "colab": {
          "base_uri": "https://localhost:8080/",
          "height": 225
        }
      },
      "source": [
        "df[df['A']>0]"
      ],
      "execution_count": 93,
      "outputs": [
        {
          "output_type": "execute_result",
          "data": {
            "text/html": [
              "<div>\n",
              "<style scoped>\n",
              "    .dataframe tbody tr th:only-of-type {\n",
              "        vertical-align: middle;\n",
              "    }\n",
              "\n",
              "    .dataframe tbody tr th {\n",
              "        vertical-align: top;\n",
              "    }\n",
              "\n",
              "    .dataframe thead th {\n",
              "        text-align: right;\n",
              "    }\n",
              "</style>\n",
              "<table border=\"1\" class=\"dataframe\">\n",
              "  <thead>\n",
              "    <tr style=\"text-align: right;\">\n",
              "      <th></th>\n",
              "      <th>A</th>\n",
              "      <th>B</th>\n",
              "      <th>C</th>\n",
              "      <th>D</th>\n",
              "    </tr>\n",
              "  </thead>\n",
              "  <tbody>\n",
              "    <tr>\n",
              "      <th>2020-09-01</th>\n",
              "      <td>0.398945</td>\n",
              "      <td>0.400901</td>\n",
              "      <td>0.753129</td>\n",
              "      <td>0.008163</td>\n",
              "    </tr>\n",
              "    <tr>\n",
              "      <th>2020-09-02</th>\n",
              "      <td>0.552779</td>\n",
              "      <td>0.488939</td>\n",
              "      <td>0.279058</td>\n",
              "      <td>0.027295</td>\n",
              "    </tr>\n",
              "    <tr>\n",
              "      <th>2020-09-03</th>\n",
              "      <td>0.453230</td>\n",
              "      <td>0.491827</td>\n",
              "      <td>0.798606</td>\n",
              "      <td>0.137477</td>\n",
              "    </tr>\n",
              "    <tr>\n",
              "      <th>2020-09-04</th>\n",
              "      <td>0.155455</td>\n",
              "      <td>0.521008</td>\n",
              "      <td>0.446953</td>\n",
              "      <td>0.120957</td>\n",
              "    </tr>\n",
              "    <tr>\n",
              "      <th>2020-09-05</th>\n",
              "      <td>0.829726</td>\n",
              "      <td>0.695158</td>\n",
              "      <td>0.453790</td>\n",
              "      <td>0.774532</td>\n",
              "    </tr>\n",
              "    <tr>\n",
              "      <th>2020-09-06</th>\n",
              "      <td>0.877924</td>\n",
              "      <td>0.741413</td>\n",
              "      <td>0.597995</td>\n",
              "      <td>0.143923</td>\n",
              "    </tr>\n",
              "  </tbody>\n",
              "</table>\n",
              "</div>"
            ],
            "text/plain": [
              "                   A         B         C         D\n",
              "2020-09-01  0.398945  0.400901  0.753129  0.008163\n",
              "2020-09-02  0.552779  0.488939  0.279058  0.027295\n",
              "2020-09-03  0.453230  0.491827  0.798606  0.137477\n",
              "2020-09-04  0.155455  0.521008  0.446953  0.120957\n",
              "2020-09-05  0.829726  0.695158  0.453790  0.774532\n",
              "2020-09-06  0.877924  0.741413  0.597995  0.143923"
            ]
          },
          "metadata": {
            "tags": []
          },
          "execution_count": 93
        }
      ]
    },
    {
      "cell_type": "code",
      "metadata": {
        "id": "02UDmleyHLim"
      },
      "source": [
        ""
      ],
      "execution_count": null,
      "outputs": []
    }
  ]
}