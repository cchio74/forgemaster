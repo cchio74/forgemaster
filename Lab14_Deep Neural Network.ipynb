{
  "nbformat": 4,
  "nbformat_minor": 0,
  "metadata": {
    "colab": {
      "name": "Lab12_Logistic-classfication_LHC.ipynb",
      "provenance": [],
      "collapsed_sections": [
        "FSGzCGXBqeJ8",
        "vqEi8Ot_yjKa"
      ],
      "toc_visible": true,
      "include_colab_link": true
    },
    "kernelspec": {
      "name": "python3",
      "display_name": "Python 3"
    }
  },
  "cells": [
    {
      "cell_type": "markdown",
      "metadata": {
        "id": "view-in-github",
        "colab_type": "text"
      },
      "source": [
        "<a href=\"https://colab.research.google.com/github/cchio74/forgemaster/blob/master/Lab14_Deep%20Neural%20Network.ipynb\" target=\"_parent\"><img src=\"https://colab.research.google.com/assets/colab-badge.svg\" alt=\"Open In Colab\"/></a>"
      ]
    },
    {
      "cell_type": "code",
      "metadata": {
        "id": "ox-mCEuojVI5"
      },
      "source": [
        "import tensorflow as tf\r\n",
        "import numpy as np"
      ],
      "execution_count": 1,
      "outputs": []
    },
    {
      "cell_type": "code",
      "metadata": {
        "id": "Ny4ll6T8jewB",
        "colab": {
          "base_uri": "https://localhost:8080/"
        },
        "outputId": "4295cc80-4076-42c7-ff63-855106814aa9"
      },
      "source": [
        "x_data=np.array([0,0,0,1,1,0,1,1],np.float32).reshape(4,2)\r\n",
        "x_data"
      ],
      "execution_count": 2,
      "outputs": [
        {
          "output_type": "execute_result",
          "data": {
            "text/plain": [
              "array([[0., 0.],\n",
              "       [0., 1.],\n",
              "       [1., 0.],\n",
              "       [1., 1.]], dtype=float32)"
            ]
          },
          "metadata": {
            "tags": []
          },
          "execution_count": 2
        }
      ]
    },
    {
      "cell_type": "code",
      "metadata": {
        "id": "Q7NdPmDu2XVK",
        "colab": {
          "base_uri": "https://localhost:8080/"
        },
        "outputId": "ab3b8636-24d2-4a62-f7be-42179109f110"
      },
      "source": [
        "y_data=np.array([0,1,1,0],np.float32).reshape(4,1)\r\n",
        "y_data"
      ],
      "execution_count": 3,
      "outputs": [
        {
          "output_type": "execute_result",
          "data": {
            "text/plain": [
              "array([[0.],\n",
              "       [1.],\n",
              "       [1.],\n",
              "       [0.]], dtype=float32)"
            ]
          },
          "metadata": {
            "tags": []
          },
          "execution_count": 3
        }
      ]
    },
    {
      "cell_type": "code",
      "metadata": {
        "id": "RRsXLmGNimub",
        "colab": {
          "base_uri": "https://localhost:8080/"
        },
        "outputId": "442f1046-3857-4c83-972b-b4ff3f6acef2"
      },
      "source": [
        "x_data.shape"
      ],
      "execution_count": 4,
      "outputs": [
        {
          "output_type": "execute_result",
          "data": {
            "text/plain": [
              "(4, 2)"
            ]
          },
          "metadata": {
            "tags": []
          },
          "execution_count": 4
        }
      ]
    },
    {
      "cell_type": "code",
      "metadata": {
        "id": "T2OO8jiamZhu",
        "colab": {
          "base_uri": "https://localhost:8080/"
        },
        "outputId": "c48e9a64-8a9e-408d-a615-5c946d7b1ea8"
      },
      "source": [
        "x_data.shape[1]"
      ],
      "execution_count": 5,
      "outputs": [
        {
          "output_type": "execute_result",
          "data": {
            "text/plain": [
              "2"
            ]
          },
          "metadata": {
            "tags": []
          },
          "execution_count": 5
        }
      ]
    },
    {
      "cell_type": "code",
      "metadata": {
        "id": "OLFSXLaEmdFQ",
        "colab": {
          "base_uri": "https://localhost:8080/"
        },
        "outputId": "90f8ee82-ac97-4dcc-8459-40ca5c1d3c6d"
      },
      "source": [
        "y_data.shape[1]"
      ],
      "execution_count": 6,
      "outputs": [
        {
          "output_type": "execute_result",
          "data": {
            "text/plain": [
              "1"
            ]
          },
          "metadata": {
            "tags": []
          },
          "execution_count": 6
        }
      ]
    },
    {
      "cell_type": "code",
      "metadata": {
        "id": "7v_Sz6ycm0qn"
      },
      "source": [
        "input_dim=x_data.shape[1]\r\n",
        "units=y_data.shape[1]"
      ],
      "execution_count": 7,
      "outputs": []
    },
    {
      "cell_type": "markdown",
      "metadata": {
        "id": "pGvOi2tnj5eP"
      },
      "source": [
        "input(nxi), output(nxj) i는 인풋 갯수 j는 아웃풋 갯수, n데이터 갯수\r\n",
        "W와 b의 갯수는? W는 ixj개, [i,j] b는 j개 [1,j]"
      ]
    },
    {
      "cell_type": "markdown",
      "metadata": {
        "id": "vV-Wb3oClOg7"
      },
      "source": [
        "# Logistic regression"
      ]
    },
    {
      "cell_type": "code",
      "metadata": {
        "id": "HpTfLDLdk9-1"
      },
      "source": [
        "learning_rate=1e-2"
      ],
      "execution_count": 8,
      "outputs": []
    },
    {
      "cell_type": "markdown",
      "metadata": {
        "id": "LItE--8wlvaN"
      },
      "source": [
        "그렇다면 w와 b의 사이즈를 어떻게 정하는가? 일일이 i와 j의 크기를 넣어줘야 하나? 아니면 자동으로 정할 수 있는가?\r\n",
        "x_data와 y_data의 dimension을 뽑을수 있으면 가능함.\r\n",
        "- x_data.shape[숫자] : 해당숫자-1에 해당하는 dimension을 뽑음."
      ]
    },
    {
      "cell_type": "code",
      "metadata": {
        "id": "pZ6ePKXCnVO5"
      },
      "source": [
        "w_init=tf.random_normal_initializer()\r\n",
        "b_init=tf.zeros_initializer()"
      ],
      "execution_count": 9,
      "outputs": []
    },
    {
      "cell_type": "code",
      "metadata": {
        "id": "Xhx7j69TlUD4"
      },
      "source": [
        "w1=tf.Variable(initial_value=[[5,-7],[5,-7]],dtype='float32')\r\n",
        "b1=tf.Variable(initial_value=[[-8,3]],dtype='float32')\r\n",
        "w2=tf.Variable(initial_value=[[-11],[-11]],dtype='float32')\r\n",
        "b2=tf.Variable(initial_value=[[6]],dtype='float32')"
      ],
      "execution_count": 10,
      "outputs": []
    },
    {
      "cell_type": "code",
      "metadata": {
        "id": "IL8Mdh0Kl7JY"
      },
      "source": [
        ""
      ],
      "execution_count": 10,
      "outputs": []
    },
    {
      "cell_type": "code",
      "metadata": {
        "colab": {
          "base_uri": "https://localhost:8080/"
        },
        "id": "kiimyQf2mA4I",
        "outputId": "220b30a5-56d2-4400-f83c-5af18510eb41"
      },
      "source": [
        "for i in range(10000):\r\n",
        "  # loss\r\n",
        "  with tf.GradientTape() as tape:\r\n",
        "    z1=tf.matmul(x_data,w1)+b1   #매트릭스 곱하기 : np.matmul()\r\n",
        "    k1=tf.divide(1,1+tf.math.exp(-z1)) #sigmoid\r\n",
        "    z2=tf.matmul(k1,w2)+b2\r\n",
        "    hypothesis=tf.divide(1,1+tf.math.exp(-z2))\r\n",
        "    \r\n",
        "    loss=-tf.reduce_mean(y_data*tf.math.log(hypothesis)+(1-y_data)*tf.math.log(1-hypothesis)) #cross entropy\r\n",
        "\r\n",
        "  # gradient\r\n",
        "  w1_grad,b1_grad,w2_grad,b2_grad=tape.gradient(loss,[w1,b1,w2,b2])\r\n",
        "  \r\n",
        "\r\n",
        "  # updata\r\n",
        "  w1.assign_sub(learning_rate*w1_grad)\r\n",
        "  b1.assign_sub(learning_rate*b1_grad)\r\n",
        "  w2.assign_sub(learning_rate*w2_grad)\r\n",
        "  b2.assign_sub(learning_rate*b2_grad)\r\n",
        "  \r\n",
        "\r\n",
        "  # display\r\n",
        "  if i % 1000==0:\r\n",
        "    print('iteration {} loss {}'.format(i,loss))"
      ],
      "execution_count": 11,
      "outputs": [
        {
          "output_type": "stream",
          "text": [
            "iteration 0 loss 0.011523084715008736\n",
            "iteration 1000 loss 0.010212266817688942\n",
            "iteration 2000 loss 0.009532989002764225\n",
            "iteration 3000 loss 0.009119556285440922\n",
            "iteration 4000 loss 0.008840661495923996\n",
            "iteration 5000 loss 0.008637221530079842\n",
            "iteration 6000 loss 0.008479657582938671\n",
            "iteration 7000 loss 0.008350270800292492\n",
            "iteration 8000 loss 0.008239127695560455\n",
            "iteration 9000 loss 0.008141405880451202\n"
          ],
          "name": "stdout"
        }
      ]
    },
    {
      "cell_type": "code",
      "metadata": {
        "id": "bCdSzRz16Qfe",
        "colab": {
          "base_uri": "https://localhost:8080/"
        },
        "outputId": "23b2a3f3-a102-4076-c860-33333e0aaec2"
      },
      "source": [
        "    z1=tf.matmul(x_data,w1)+b1   #매트릭스 곱하기 : np.matmul()\r\n",
        "    k1=tf.divide(1,1+tf.math.exp(-z1)) #sigmoid\r\n",
        "    z2=tf.matmul(k1,w2)+b2\r\n",
        "    hypothesis=tf.divide(1,1+tf.math.exp(-z2))\r\n",
        "\r\n",
        "    hypothesis.numpy()"
      ],
      "execution_count": 12,
      "outputs": [
        {
          "output_type": "execute_result",
          "data": {
            "text/plain": [
              "array([[0.00734875],\n",
              "       [0.99245924],\n",
              "       [0.99245924],\n",
              "       [0.00964699]], dtype=float32)"
            ]
          },
          "metadata": {
            "tags": []
          },
          "execution_count": 12
        }
      ]
    },
    {
      "cell_type": "code",
      "metadata": {
        "colab": {
          "base_uri": "https://localhost:8080/",
          "height": 170
        },
        "id": "nl1VxnVlmCzl",
        "outputId": "214a42e0-3e2e-4ed0-c7d2-b5054d94b2ee"
      },
      "source": [
        "w.numpy()"
      ],
      "execution_count": 13,
      "outputs": [
        {
          "output_type": "error",
          "ename": "NameError",
          "evalue": "ignored",
          "traceback": [
            "\u001b[0;31m---------------------------------------------------------------------------\u001b[0m",
            "\u001b[0;31mNameError\u001b[0m                                 Traceback (most recent call last)",
            "\u001b[0;32m<ipython-input-13-f1b5e00aedc5>\u001b[0m in \u001b[0;36m<module>\u001b[0;34m()\u001b[0m\n\u001b[0;32m----> 1\u001b[0;31m \u001b[0mw\u001b[0m\u001b[0;34m.\u001b[0m\u001b[0mnumpy\u001b[0m\u001b[0;34m(\u001b[0m\u001b[0;34m)\u001b[0m\u001b[0;34m\u001b[0m\u001b[0;34m\u001b[0m\u001b[0m\n\u001b[0m",
            "\u001b[0;31mNameError\u001b[0m: name 'w' is not defined"
          ]
        }
      ]
    },
    {
      "cell_type": "code",
      "metadata": {
        "id": "0OBrD6sypsO_"
      },
      "source": [
        "b.numpy()"
      ],
      "execution_count": null,
      "outputs": []
    },
    {
      "cell_type": "code",
      "metadata": {
        "id": "5I5lX73Hpt7v"
      },
      "source": [
        "w"
      ],
      "execution_count": null,
      "outputs": []
    },
    {
      "cell_type": "code",
      "metadata": {
        "id": "nPXE3MBApvLT"
      },
      "source": [
        "tf.divide(1,1+tf.math.exp(-z))"
      ],
      "execution_count": null,
      "outputs": []
    },
    {
      "cell_type": "code",
      "metadata": {
        "id": "f_7Es6C4qAR2"
      },
      "source": [
        "y_data"
      ],
      "execution_count": null,
      "outputs": []
    },
    {
      "cell_type": "markdown",
      "metadata": {
        "id": "FSGzCGXBqeJ8"
      },
      "source": [
        "# subclassing"
      ]
    },
    {
      "cell_type": "code",
      "metadata": {
        "id": "yGvk3Kj5qGR_"
      },
      "source": [
        "# model\r\n",
        "class Model(tf.keras.layers.Layer):\r\n",
        "  def __init__(self,input_dim,units):\r\n",
        "    super(Model,self).__init__()\r\n",
        "\r\n",
        "    self.w1=self.add_weight(shape=(input_dim,2),initializer='random_normal')\r\n",
        "    self.b1=self.add_weight(shape=(2,),initializer='zeros')\r\n",
        "\r\n",
        "    self.w2=self.add_weight(shape=(2,units),initializer='random_normal')\r\n",
        "    self.b2=self.add_weight(shape=(units,),initializer='zeros')\r\n",
        "\r\n",
        "    self.w1=tf.Variable(initial_value=[[5,-7],[5,-7]],dtype='float32')\r\n",
        "    self.b1=tf.Variable(initial_value=[[-8,3]],dtype='float32')\r\n",
        "    self.w2=tf.Variable(initial_value=[[-11],[-11]],dtype='float32')\r\n",
        "    self.b2=tf.Variable(initial_value=[[6]],dtype='float32')\r\n",
        "\r\n",
        "  def call(self,inputs):\r\n",
        "    z1=tf.matmul(inputs,self.w1)+self.b1\r\n",
        "    k1=tf.math.sigmoid(z1)\r\n",
        "    z2=tf.matmul(k1,self.w2)+self.b2\r\n",
        "\r\n",
        "    return tf.math.sigmoid(z2)"
      ],
      "execution_count": 31,
      "outputs": []
    },
    {
      "cell_type": "code",
      "metadata": {
        "id": "fwTdrEQCucqX"
      },
      "source": [
        "# loss\r\n",
        "loss=tf.keras.losses.BinaryCrossentropy()   #yes no만 있는 crossentropy"
      ],
      "execution_count": 32,
      "outputs": []
    },
    {
      "cell_type": "code",
      "metadata": {
        "id": "__2iQ6s7vOtU"
      },
      "source": [
        "# gradient\r\n",
        "def grad(model,inputs,targets):\r\n",
        "  with tf.GradientTape() as tape:\r\n",
        "    loss_value=loss(targets,model(inputs))\r\n",
        "  return tape.gradient(loss_value,[model.w1, model.b1,model.w2, model.b2])"
      ],
      "execution_count": 33,
      "outputs": []
    },
    {
      "cell_type": "code",
      "metadata": {
        "id": "GedQzkdNwCdw"
      },
      "source": [
        "# define\r\n",
        "model=Model(input_dim,units)\r\n",
        "optimizer=tf.keras.optimizers.SGD(learning_rate)"
      ],
      "execution_count": 34,
      "outputs": []
    },
    {
      "cell_type": "code",
      "metadata": {
        "id": "J6UTUsyEwJ6i",
        "colab": {
          "base_uri": "https://localhost:8080/"
        },
        "outputId": "58c69bf0-6e2f-484c-895c-51bb32fd78d0"
      },
      "source": [
        "# learning\r\n",
        "for i in range(10000):\r\n",
        "  # gradient\r\n",
        "  grads=grad(model,x_data,y_data)\r\n",
        "\r\n",
        "  # updata\r\n",
        "  optimizer.apply_gradients(zip(grads,[model.w1,model.b1,model.w2, model.b2]))\r\n",
        "\r\n",
        "  # display\r\n",
        "\r\n",
        "  if i % 2000==0:\r\n",
        "    print('{} {}'.format(i,loss(y_data,model(x_data))))\r\n"
      ],
      "execution_count": 35,
      "outputs": [
        {
          "output_type": "stream",
          "text": [
            "0 0.011521052569150925\n",
            "2000 0.0095323221758008\n",
            "4000 0.008840239606797695\n",
            "6000 0.008479312062263489\n",
            "8000 0.00823887251317501\n"
          ],
          "name": "stdout"
        }
      ]
    },
    {
      "cell_type": "code",
      "metadata": {
        "id": "GV6UDe6HmreP",
        "outputId": "cded8124-3ca1-4f2d-9fbc-2ec8398a2cd7",
        "colab": {
          "base_uri": "https://localhost:8080/"
        }
      },
      "source": [
        "print(model.w1.numpy(),model.b1.numpy())"
      ],
      "execution_count": 37,
      "outputs": [
        {
          "output_type": "stream",
          "text": [
            "[[ 5.1980047 -7.0336523]\n",
            " [ 5.1980047 -7.0336523]] [[-7.90591    3.0396836]]\n"
          ],
          "name": "stdout"
        }
      ]
    },
    {
      "cell_type": "code",
      "metadata": {
        "id": "to67Rg4Im0mD",
        "outputId": "d66edcd6-2a46-47b4-93bd-115a6cdbcd61",
        "colab": {
          "base_uri": "https://localhost:8080/"
        }
      },
      "source": [
        "print(model.w2.numpy(),model.b2.numpy())"
      ],
      "execution_count": 38,
      "outputs": [
        {
          "output_type": "stream",
          "text": [
            "[[-11.282783]\n",
            " [-11.200979]] [[5.787794]]\n"
          ],
          "name": "stdout"
        }
      ]
    },
    {
      "cell_type": "code",
      "metadata": {
        "id": "1DbEbcaSyNQZ"
      },
      "source": [
        "model.w.numpy()"
      ],
      "execution_count": null,
      "outputs": []
    },
    {
      "cell_type": "code",
      "metadata": {
        "id": "ay16ZYyiyUGq"
      },
      "source": [
        "model.b.numpy()"
      ],
      "execution_count": null,
      "outputs": []
    },
    {
      "cell_type": "code",
      "metadata": {
        "id": "shW6cnCDyVyY"
      },
      "source": [
        "model(x_data)"
      ],
      "execution_count": null,
      "outputs": []
    },
    {
      "cell_type": "code",
      "metadata": {
        "id": "71f5O8IzyYOU"
      },
      "source": [
        "y_data"
      ],
      "execution_count": null,
      "outputs": []
    },
    {
      "cell_type": "markdown",
      "metadata": {
        "id": "vqEi8Ot_yjKa"
      },
      "source": [
        "# Sequential model"
      ]
    },
    {
      "cell_type": "code",
      "metadata": {
        "id": "58ld0M9NyZbg"
      },
      "source": [
        "# model\r\n",
        "model=tf.keras.Sequential()\r\n",
        "\r\n",
        "model.add(tf.keras.Input(shape=(input_dim,)))\r\n",
        "\r\n",
        "model.add(tf.keras.layers.Dense(2,activation='sigmoid',kernel_initializer='random_normal'))\r\n",
        "model.add(tf.keras.layers.Dense(units,activation='sigmoid',kernel_initializer='random_normal'))"
      ],
      "execution_count": null,
      "outputs": []
    },
    {
      "cell_type": "code",
      "metadata": {
        "id": "6v6mDlfdzd89"
      },
      "source": [
        "model.summary()"
      ],
      "execution_count": null,
      "outputs": []
    },
    {
      "cell_type": "code",
      "metadata": {
        "id": "BD8HuQjHz1M4"
      },
      "source": [
        "tf.keras.utils.plot_model(model,show_shapes=True)"
      ],
      "execution_count": null,
      "outputs": []
    },
    {
      "cell_type": "code",
      "metadata": {
        "id": "yCgHfLwbz-rf"
      },
      "source": [
        "model.compile(optimizer=tf.keras.optimizers.SGD(learning_rate),loss=tf.keras.losses.BinaryCrossentropy())"
      ],
      "execution_count": null,
      "outputs": []
    },
    {
      "cell_type": "code",
      "metadata": {
        "id": "yZkWAUTP98El"
      },
      "source": [
        "model.set_weights([np.array([[5,-7],[5,-7]],np.float32),\r\n",
        "                   np.array([-8,3],np.float32),\r\n",
        "                   np.array([[-11],[-11]],np.float32),\r\n",
        "                   np.array([6],np.float32)])"
      ],
      "execution_count": null,
      "outputs": []
    },
    {
      "cell_type": "code",
      "metadata": {
        "id": "YyN_nq9B0jVs"
      },
      "source": [
        "# learning\r\n",
        "model.fit(x_data,y_data,epochs=10000,verbose=0)"
      ],
      "execution_count": null,
      "outputs": []
    },
    {
      "cell_type": "code",
      "metadata": {
        "id": "tdIcGQTp0zJ3"
      },
      "source": [
        "model.evaluate(x_data,y_data,verbose=1)"
      ],
      "execution_count": null,
      "outputs": []
    },
    {
      "cell_type": "code",
      "metadata": {
        "id": "ZueXaqec039g"
      },
      "source": [
        "model.get_weights()"
      ],
      "execution_count": null,
      "outputs": []
    },
    {
      "cell_type": "code",
      "metadata": {
        "id": "43ecYWpC1ZpD"
      },
      "source": [
        "y_data"
      ],
      "execution_count": null,
      "outputs": []
    },
    {
      "cell_type": "code",
      "metadata": {
        "id": "7v9DrqX01cy8"
      },
      "source": [
        "model.predict(x_data)"
      ],
      "execution_count": null,
      "outputs": []
    },
    {
      "cell_type": "code",
      "metadata": {
        "id": "DyiTeFjn1y4S"
      },
      "source": [
        ""
      ],
      "execution_count": null,
      "outputs": []
    }
  ]
}