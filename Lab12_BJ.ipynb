{
  "nbformat": 4,
  "nbformat_minor": 0,
  "metadata": {
    "colab": {
      "name": "Lab11_BJ.ipynb",
      "provenance": [],
      "toc_visible": true,
      "authorship_tag": "ABX9TyM6XJsU4flYPd1oRq2lh/nD",
      "include_colab_link": true
    },
    "kernelspec": {
      "name": "python3",
      "display_name": "Python 3"
    }
  },
  "cells": [
    {
      "cell_type": "markdown",
      "metadata": {
        "id": "view-in-github",
        "colab_type": "text"
      },
      "source": [
        "<a href=\"https://colab.research.google.com/github/cchio74/forgemaster/blob/master/Lab12_BJ.ipynb\" target=\"_parent\"><img src=\"https://colab.research.google.com/assets/colab-badge.svg\" alt=\"Open In Colab\"/></a>"
      ]
    },
    {
      "cell_type": "code",
      "metadata": {
        "id": "ox-mCEuojVI5"
      },
      "source": [
        "import tensorflow as tf\r\n",
        "import numpy as np"
      ],
      "execution_count": 35,
      "outputs": []
    },
    {
      "cell_type": "code",
      "metadata": {
        "id": "Ny4ll6T8jewB"
      },
      "source": [
        "x_data=np.array([1,2,3,4,5,6,7,8,9,10],np.float32).reshape(5,2)\r\n",
        "y_data=np.array([1,2,3,4,5,6,7,8,9,10,11,12,13,14,15],np.float32).reshape(5,3)"
      ],
      "execution_count": 36,
      "outputs": []
    },
    {
      "cell_type": "code",
      "metadata": {
        "id": "tP17GD3GmBCj"
      },
      "source": [
        "input_dim=x_data.shape[1]\r\n",
        "units=y_data.shape[1]"
      ],
      "execution_count": 37,
      "outputs": []
    },
    {
      "cell_type": "code",
      "metadata": {
        "id": "Nu_VUS0dij6F",
        "colab": {
          "base_uri": "https://localhost:8080/"
        },
        "outputId": "bfb2e89e-6110-42fa-8f94-0778df429301"
      },
      "source": [
        "x_data"
      ],
      "execution_count": 38,
      "outputs": [
        {
          "output_type": "execute_result",
          "data": {
            "text/plain": [
              "array([[ 1.,  2.],\n",
              "       [ 3.,  4.],\n",
              "       [ 5.,  6.],\n",
              "       [ 7.,  8.],\n",
              "       [ 9., 10.]], dtype=float32)"
            ]
          },
          "metadata": {
            "tags": []
          },
          "execution_count": 38
        }
      ]
    },
    {
      "cell_type": "markdown",
      "metadata": {
        "id": "vV-Wb3oClOg7"
      },
      "source": [
        "# Linear regression"
      ]
    },
    {
      "cell_type": "code",
      "metadata": {
        "id": "HpTfLDLdk9-1"
      },
      "source": [
        "learning_rate=1e-2"
      ],
      "execution_count": 39,
      "outputs": []
    },
    {
      "cell_type": "code",
      "metadata": {
        "id": "uQCTA60Sm2o4"
      },
      "source": [
        "w_init=tf.random_normal_initializer()\r\n",
        "b_init=tf.zeros_initializer()"
      ],
      "execution_count": 40,
      "outputs": []
    },
    {
      "cell_type": "code",
      "metadata": {
        "id": "O-DlFdD6nek5",
        "colab": {
          "base_uri": "https://localhost:8080/"
        },
        "outputId": "0de11a36-dec5-4618-9c21-13aae397f58d"
      },
      "source": [
        "b_init((2,1))"
      ],
      "execution_count": 41,
      "outputs": [
        {
          "output_type": "execute_result",
          "data": {
            "text/plain": [
              "<tf.Tensor: shape=(2, 1), dtype=float32, numpy=\n",
              "array([[0.],\n",
              "       [0.]], dtype=float32)>"
            ]
          },
          "metadata": {
            "tags": []
          },
          "execution_count": 41
        }
      ]
    },
    {
      "cell_type": "code",
      "metadata": {
        "id": "Xhx7j69TlUD4"
      },
      "source": [
        "w=tf.Variable(w_init(shape=(input_dim,units)),dtype='float32')"
      ],
      "execution_count": 42,
      "outputs": []
    },
    {
      "cell_type": "code",
      "metadata": {
        "id": "IL8Mdh0Kl7JY"
      },
      "source": [
        "b=tf.Variable(b_init(shape=(1,units)),dtype='float32')"
      ],
      "execution_count": 43,
      "outputs": []
    },
    {
      "cell_type": "code",
      "metadata": {
        "colab": {
          "base_uri": "https://localhost:8080/"
        },
        "id": "kiimyQf2mA4I",
        "outputId": "33cc050d-088e-4050-d56f-0e0c45576019"
      },
      "source": [
        "for i in range(100):\r\n",
        "  # loss\r\n",
        "  with tf.GradientTape() as tape:\r\n",
        "    hypothesis=tf.matmul(x_data,w)+b\r\n",
        "    loss=tf.reduce_mean(tf.square(hypothesis-y_data))\r\n",
        "\r\n",
        "  # gradient\r\n",
        "  w_grad,b_grad=tape.gradient(loss,[w,b])\r\n",
        "\r\n",
        "  # updata\r\n",
        "  w.assign_sub(learning_rate*w_grad)\r\n",
        "  b.assign_sub(learning_rate*b_grad)\r\n",
        "\r\n",
        "  # display\r\n",
        "  if i % 10==0:\r\n",
        "    print('iteration {} loss {}'.format(i,loss))"
      ],
      "execution_count": 44,
      "outputs": [
        {
          "output_type": "stream",
          "text": [
            "iteration 0 loss 89.41810607910156\n",
            "iteration 10 loss 0.16551537811756134\n",
            "iteration 20 loss 0.1587904393672943\n",
            "iteration 30 loss 0.1523764282464981\n",
            "iteration 40 loss 0.1462215781211853\n",
            "iteration 50 loss 0.14031526446342468\n",
            "iteration 60 loss 0.1346474587917328\n",
            "iteration 70 loss 0.1292087286710739\n",
            "iteration 80 loss 0.12398961931467056\n",
            "iteration 90 loss 0.1189812570810318\n"
          ],
          "name": "stdout"
        }
      ]
    },
    {
      "cell_type": "code",
      "metadata": {
        "colab": {
          "base_uri": "https://localhost:8080/"
        },
        "id": "nl1VxnVlmCzl",
        "outputId": "ed672953-85eb-4b4c-9387-555e66efc608"
      },
      "source": [
        "w.numpy()"
      ],
      "execution_count": 45,
      "outputs": [
        {
          "output_type": "execute_result",
          "data": {
            "text/plain": [
              "array([[0.7105545 , 0.6690059 , 0.717709  ],\n",
              "       [0.62667793, 0.7789722 , 0.85253537]], dtype=float32)"
            ]
          },
          "metadata": {
            "tags": []
          },
          "execution_count": 45
        }
      ]
    },
    {
      "cell_type": "code",
      "metadata": {
        "colab": {
          "base_uri": "https://localhost:8080/"
        },
        "id": "0OBrD6sypsO_",
        "outputId": "ff71adbb-c5c5-499f-d4c0-0059e48def3a"
      },
      "source": [
        "b.numpy()"
      ],
      "execution_count": 46,
      "outputs": [
        {
          "output_type": "execute_result",
          "data": {
            "text/plain": [
              "array([[-0.08065856,  0.05534504,  0.1960417 ]], dtype=float32)"
            ]
          },
          "metadata": {
            "tags": []
          },
          "execution_count": 46
        }
      ]
    },
    {
      "cell_type": "code",
      "metadata": {
        "colab": {
          "base_uri": "https://localhost:8080/"
        },
        "id": "5I5lX73Hpt7v",
        "outputId": "23248ae7-c99f-48d6-85d4-77f48cdfebbe"
      },
      "source": [
        "w"
      ],
      "execution_count": 47,
      "outputs": [
        {
          "output_type": "execute_result",
          "data": {
            "text/plain": [
              "<tf.Variable 'Variable:0' shape=(2, 3) dtype=float32, numpy=\n",
              "array([[0.7105545 , 0.6690059 , 0.717709  ],\n",
              "       [0.62667793, 0.7789722 , 0.85253537]], dtype=float32)>"
            ]
          },
          "metadata": {
            "tags": []
          },
          "execution_count": 47
        }
      ]
    },
    {
      "cell_type": "code",
      "metadata": {
        "colab": {
          "base_uri": "https://localhost:8080/"
        },
        "id": "nPXE3MBApvLT",
        "outputId": "493fe27a-1292-4ed5-cece-a06878181598"
      },
      "source": [
        "tf.matmul(x_data,w)+b"
      ],
      "execution_count": 48,
      "outputs": [
        {
          "output_type": "execute_result",
          "data": {
            "text/plain": [
              "<tf.Tensor: shape=(5, 3), dtype=float32, numpy=\n",
              "array([[ 1.8832518,  2.2822952,  2.6188216],\n",
              "       [ 4.557717 ,  5.1782517,  5.7593102],\n",
              "       [ 7.2321815,  8.074207 ,  8.899799 ],\n",
              "       [ 9.906646 , 10.970163 , 12.040288 ],\n",
              "       [12.581111 , 13.866119 , 15.180777 ]], dtype=float32)>"
            ]
          },
          "metadata": {
            "tags": []
          },
          "execution_count": 48
        }
      ]
    },
    {
      "cell_type": "code",
      "metadata": {
        "colab": {
          "base_uri": "https://localhost:8080/"
        },
        "id": "f_7Es6C4qAR2",
        "outputId": "410c3c5a-acc9-4ed6-930e-2a50afc7530e"
      },
      "source": [
        "y_data"
      ],
      "execution_count": 49,
      "outputs": [
        {
          "output_type": "execute_result",
          "data": {
            "text/plain": [
              "array([[ 1.,  2.,  3.],\n",
              "       [ 4.,  5.,  6.],\n",
              "       [ 7.,  8.,  9.],\n",
              "       [10., 11., 12.],\n",
              "       [13., 14., 15.]], dtype=float32)"
            ]
          },
          "metadata": {
            "tags": []
          },
          "execution_count": 49
        }
      ]
    },
    {
      "cell_type": "markdown",
      "metadata": {
        "id": "FSGzCGXBqeJ8"
      },
      "source": [
        "# subclassing"
      ]
    },
    {
      "cell_type": "code",
      "metadata": {
        "id": "vU_nT__kx09P",
        "outputId": "53808743-06e1-4054-bda9-af30401653ce",
        "colab": {
          "base_uri": "https://localhost:8080/"
        }
      },
      "source": [
        "tf.keras.layers.Layer().add_weight()"
      ],
      "execution_count": 50,
      "outputs": [
        {
          "output_type": "execute_result",
          "data": {
            "text/plain": [
              "<tf.Variable 'Variable:0' shape=() dtype=float32, numpy=0.102267385>"
            ]
          },
          "metadata": {
            "tags": []
          },
          "execution_count": 50
        }
      ]
    },
    {
      "cell_type": "code",
      "metadata": {
        "id": "yGvk3Kj5qGR_"
      },
      "source": [
        "# model\r\n",
        "class Model(tf.keras.layers.Layer):\r\n",
        "  def __init__(self,input_dim,units):\r\n",
        "    super(Model,self).__init__()\r\n",
        "\r\n",
        "    self.w=self.add_weight(shape=(input_dim,units),initializer='random_normal')\r\n",
        "    self.b=self.add_weight(shape=(units,),initializer='zeros')\r\n",
        "\r\n",
        "  def call(self,inputs):\r\n",
        "    return tf.matmul(inputs,self.w)+self.b"
      ],
      "execution_count": 51,
      "outputs": []
    },
    {
      "cell_type": "code",
      "metadata": {
        "id": "fwTdrEQCucqX"
      },
      "source": [
        "# loss\r\n",
        "loss=tf.keras.losses.MeanSquaredError()"
      ],
      "execution_count": 52,
      "outputs": []
    },
    {
      "cell_type": "code",
      "metadata": {
        "id": "__2iQ6s7vOtU"
      },
      "source": [
        "# gradient\r\n",
        "def grad(model,inputs,targets):\r\n",
        "  with tf.GradientTape() as tape:\r\n",
        "    loss_value=loss(targets,model(inputs))\r\n",
        "  return tape.gradient(loss_value,[model.w, model.b])"
      ],
      "execution_count": 53,
      "outputs": []
    },
    {
      "cell_type": "code",
      "metadata": {
        "id": "GedQzkdNwCdw"
      },
      "source": [
        "# define\r\n",
        "model=Model(input_dim,units)\r\n",
        "optimizer=tf.keras.optimizers.SGD(learning_rate)"
      ],
      "execution_count": 54,
      "outputs": []
    },
    {
      "cell_type": "code",
      "metadata": {
        "id": "J6UTUsyEwJ6i"
      },
      "source": [
        "# learning\r\n",
        "for i in range(100):\r\n",
        "  # gradient\r\n",
        "  grads=grad(model,x_data,y_data)\r\n",
        "\r\n",
        "  # updata\r\n",
        "  optimizer.apply_gradients(zip(grads,[model.w,model.b]))\r\n",
        "\r\n",
        "  # display\r\n",
        "\r\n",
        "if 1%10==0:\r\n",
        "  print('{}{}'.format(i.loss(y_data,model(x_data))))"
      ],
      "execution_count": 55,
      "outputs": []
    },
    {
      "cell_type": "code",
      "metadata": {
        "colab": {
          "base_uri": "https://localhost:8080/"
        },
        "id": "1DbEbcaSyNQZ",
        "outputId": "97967feb-1bc1-4e8b-a00c-195d0cd9f11e"
      },
      "source": [
        "model.w.numpy()"
      ],
      "execution_count": 56,
      "outputs": [
        {
          "output_type": "execute_result",
          "data": {
            "text/plain": [
              "array([[0.7319744 , 0.6268404 , 0.67540216],\n",
              "       [0.60816234, 0.8163124 , 0.8915536 ]], dtype=float32)"
            ]
          },
          "metadata": {
            "tags": []
          },
          "execution_count": 56
        }
      ]
    },
    {
      "cell_type": "code",
      "metadata": {
        "colab": {
          "base_uri": "https://localhost:8080/"
        },
        "id": "ay16ZYyiyUGq",
        "outputId": "8fdb9bb0-7399-49a4-c368-70a9e70ae665"
      },
      "source": [
        "model.b.numpy()"
      ],
      "execution_count": 57,
      "outputs": [
        {
          "output_type": "execute_result",
          "data": {
            "text/plain": [
              "array([-0.08080701,  0.04901396,  0.17815758], dtype=float32)"
            ]
          },
          "metadata": {
            "tags": []
          },
          "execution_count": 57
        }
      ]
    },
    {
      "cell_type": "code",
      "metadata": {
        "colab": {
          "base_uri": "https://localhost:8080/"
        },
        "id": "shW6cnCDyVyY",
        "outputId": "a025939d-85d3-4b79-a438-4c88693500d4"
      },
      "source": [
        "model(x_data)"
      ],
      "execution_count": 58,
      "outputs": [
        {
          "output_type": "execute_result",
          "data": {
            "text/plain": [
              "<tf.Tensor: shape=(5, 3), dtype=float32, numpy=\n",
              "array([[ 1.8674922,  2.308479 ,  2.636667 ],\n",
              "       [ 4.5477653,  5.194785 ,  5.7705784],\n",
              "       [ 7.228039 ,  8.08109  ,  8.9044895],\n",
              "       [ 9.908313 , 10.967396 , 12.038402 ],\n",
              "       [12.588587 , 13.853702 , 15.172314 ]], dtype=float32)>"
            ]
          },
          "metadata": {
            "tags": []
          },
          "execution_count": 58
        }
      ]
    },
    {
      "cell_type": "code",
      "metadata": {
        "colab": {
          "base_uri": "https://localhost:8080/"
        },
        "id": "71f5O8IzyYOU",
        "outputId": "e7f25662-ee89-40b6-cd5a-41c6689632ed"
      },
      "source": [
        "y_data"
      ],
      "execution_count": 59,
      "outputs": [
        {
          "output_type": "execute_result",
          "data": {
            "text/plain": [
              "array([[ 1.,  2.,  3.],\n",
              "       [ 4.,  5.,  6.],\n",
              "       [ 7.,  8.,  9.],\n",
              "       [10., 11., 12.],\n",
              "       [13., 14., 15.]], dtype=float32)"
            ]
          },
          "metadata": {
            "tags": []
          },
          "execution_count": 59
        }
      ]
    },
    {
      "cell_type": "markdown",
      "metadata": {
        "id": "vqEi8Ot_yjKa"
      },
      "source": [
        "# Sequential model"
      ]
    },
    {
      "cell_type": "code",
      "metadata": {
        "id": "58ld0M9NyZbg"
      },
      "source": [
        "# model\r\n",
        "model=tf.keras.Sequential()\r\n",
        "model.add(tf.keras.Input(shape=(input_dim,)))\r\n",
        "model.add(tf.keras.layers.Dense(units,kernel_initializer='random_normal'))"
      ],
      "execution_count": 60,
      "outputs": []
    },
    {
      "cell_type": "code",
      "metadata": {
        "colab": {
          "base_uri": "https://localhost:8080/"
        },
        "id": "6v6mDlfdzd89",
        "outputId": "fc778b99-c0e0-4043-8ff0-b6eda1586f41"
      },
      "source": [
        "model.summary()"
      ],
      "execution_count": 61,
      "outputs": [
        {
          "output_type": "stream",
          "text": [
            "Model: \"sequential_1\"\n",
            "_________________________________________________________________\n",
            "Layer (type)                 Output Shape              Param #   \n",
            "=================================================================\n",
            "dense_1 (Dense)              (None, 3)                 9         \n",
            "=================================================================\n",
            "Total params: 9\n",
            "Trainable params: 9\n",
            "Non-trainable params: 0\n",
            "_________________________________________________________________\n"
          ],
          "name": "stdout"
        }
      ]
    },
    {
      "cell_type": "code",
      "metadata": {
        "colab": {
          "base_uri": "https://localhost:8080/",
          "height": 201
        },
        "id": "BD8HuQjHz1M4",
        "outputId": "85d3cb19-ae58-4f4e-ebcd-dee0dcea87af"
      },
      "source": [
        "tf.keras.utils.plot_model(model,show_shapes=True)"
      ],
      "execution_count": 62,
      "outputs": [
        {
          "output_type": "execute_result",
          "data": {
            "image/png": "[encoded data removed]",
            "text/plain": [
              "<IPython.core.display.Image object>"
            ]
          },
          "metadata": {
            "tags": []
          },
          "execution_count": 62
        }
      ]
    },
    {
      "cell_type": "code",
      "metadata": {
        "id": "yCgHfLwbz-rf"
      },
      "source": [
        "model.compile(optimizer=tf.keras.optimizers.SGD(learning_rate),loss=tf.keras.losses.MeanSquaredError())"
      ],
      "execution_count": 63,
      "outputs": []
    },
    {
      "cell_type": "code",
      "metadata": {
        "colab": {
          "base_uri": "https://localhost:8080/"
        },
        "id": "YyN_nq9B0jVs",
        "outputId": "4d261022-5c95-45be-869d-c61f60aa9040"
      },
      "source": [
        "# learning\r\n",
        "model.fit(x_data,y_data,epochs=100,verbose=0)"
      ],
      "execution_count": 64,
      "outputs": [
        {
          "output_type": "execute_result",
          "data": {
            "text/plain": [
              "<tensorflow.python.keras.callbacks.History at 0x7f01e2ce7fd0>"
            ]
          },
          "metadata": {
            "tags": []
          },
          "execution_count": 64
        }
      ]
    },
    {
      "cell_type": "code",
      "metadata": {
        "colab": {
          "base_uri": "https://localhost:8080/"
        },
        "id": "tdIcGQTp0zJ3",
        "outputId": "51cd384e-bac0-49c6-eacd-8aca93fe7a7d"
      },
      "source": [
        "model.evaluate(x_data,y_data,verbose=1)"
      ],
      "execution_count": 65,
      "outputs": [
        {
          "output_type": "stream",
          "text": [
            "1/1 [==============================] - 0s 63ms/step - loss: 0.1238\n"
          ],
          "name": "stdout"
        },
        {
          "output_type": "execute_result",
          "data": {
            "text/plain": [
              "0.12379646301269531"
            ]
          },
          "metadata": {
            "tags": []
          },
          "execution_count": 65
        }
      ]
    },
    {
      "cell_type": "code",
      "metadata": {
        "colab": {
          "base_uri": "https://localhost:8080/"
        },
        "id": "ZueXaqec039g",
        "outputId": "b57cf435-6423-4599-8090-904aefa5f8f1"
      },
      "source": [
        "model.get_weights()"
      ],
      "execution_count": 66,
      "outputs": [
        {
          "output_type": "execute_result",
          "data": {
            "text/plain": [
              "[array([[0.6502487 , 0.67252094, 0.717426  ],\n",
              "        [0.6786314 , 0.7772134 , 0.8546956 ]], dtype=float32),\n",
              " array([-0.07893634,  0.04581692,  0.18181795], dtype=float32)]"
            ]
          },
          "metadata": {
            "tags": []
          },
          "execution_count": 66
        }
      ]
    },
    {
      "cell_type": "code",
      "metadata": {
        "id": "CFS1l-1A1ft2"
      },
      "source": [
        ""
      ],
      "execution_count": 66,
      "outputs": []
    },
    {
      "cell_type": "code",
      "metadata": {
        "colab": {
          "base_uri": "https://localhost:8080/"
        },
        "id": "43ecYWpC1ZpD",
        "outputId": "0a269bfd-05d0-46ff-8a16-ad5e2f4df856"
      },
      "source": [
        "y_data"
      ],
      "execution_count": 67,
      "outputs": [
        {
          "output_type": "execute_result",
          "data": {
            "text/plain": [
              "array([[ 1.,  2.,  3.],\n",
              "       [ 4.,  5.,  6.],\n",
              "       [ 7.,  8.,  9.],\n",
              "       [10., 11., 12.],\n",
              "       [13., 14., 15.]], dtype=float32)"
            ]
          },
          "metadata": {
            "tags": []
          },
          "execution_count": 67
        }
      ]
    },
    {
      "cell_type": "code",
      "metadata": {
        "colab": {
          "base_uri": "https://localhost:8080/"
        },
        "id": "7v9DrqX01cy8",
        "outputId": "040bb785-b6a0-473c-90a3-da6cc6da59be"
      },
      "source": [
        "model.predict(x_data)"
      ],
      "execution_count": 68,
      "outputs": [
        {
          "output_type": "execute_result",
          "data": {
            "text/plain": [
              "array([[ 1.9285753,  2.2727647,  2.6086352],\n",
              "       [ 4.586335 ,  5.172233 ,  5.752878 ],\n",
              "       [ 7.244096 ,  8.071702 ,  8.897121 ],\n",
              "       [ 9.901856 , 10.971171 , 12.041365 ],\n",
              "       [12.559615 , 13.87064  , 15.185608 ]], dtype=float32)"
            ]
          },
          "metadata": {
            "tags": []
          },
          "execution_count": 68
        }
      ]
    },
    {
      "cell_type": "code",
      "metadata": {
        "id": "DyiTeFjn1y4S"
      },
      "source": [
        ""
      ],
      "execution_count": 68,
      "outputs": []
    }
  ]
}