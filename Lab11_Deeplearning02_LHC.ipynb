{
  "nbformat": 4,
  "nbformat_minor": 0,
  "metadata": {
    "colab": {
      "name": "Lab11_BJ.ipynb",
      "provenance": [],
      "toc_visible": true,
      "include_colab_link": true
    },
    "kernelspec": {
      "name": "python3",
      "display_name": "Python 3"
    }
  },
  "cells": [
    {
      "cell_type": "markdown",
      "metadata": {
        "id": "view-in-github",
        "colab_type": "text"
      },
      "source": [
        "<a href=\"https://colab.research.google.com/github/cchio74/forgemaster/blob/master/Lab11_Deeplearning02_LHC.ipynb\" target=\"_parent\"><img src=\"https://colab.research.google.com/assets/colab-badge.svg\" alt=\"Open In Colab\"/></a>"
      ]
    },
    {
      "cell_type": "code",
      "metadata": {
        "id": "ox-mCEuojVI5"
      },
      "source": [
        "import tensorflow as tf\r\n",
        "import numpy as np"
      ],
      "execution_count": 2,
      "outputs": []
    },
    {
      "cell_type": "code",
      "metadata": {
        "id": "Ny4ll6T8jewB"
      },
      "source": [
        "x_data=np.array([1,2,3,4,5,6,7,8,9,10],np.float32).reshape(5,2)\r\n",
        "y_data=np.array([1,2,3,4,5,6,7,8,9,10,11,12,13,14,15],np.float32).reshape(5,3)"
      ],
      "execution_count": 31,
      "outputs": []
    },
    {
      "cell_type": "code",
      "metadata": {
        "id": "RRsXLmGNimub",
        "outputId": "4e938c5d-1029-4db4-979b-25dd2cc77b7e",
        "colab": {
          "base_uri": "https://localhost:8080/"
        }
      },
      "source": [
        "x_data.shape"
      ],
      "execution_count": 32,
      "outputs": [
        {
          "output_type": "execute_result",
          "data": {
            "text/plain": [
              "(5, 2)"
            ]
          },
          "metadata": {
            "tags": []
          },
          "execution_count": 32
        }
      ]
    },
    {
      "cell_type": "code",
      "metadata": {
        "id": "T2OO8jiamZhu",
        "outputId": "967d0660-f5ec-4375-b59b-107db7464833",
        "colab": {
          "base_uri": "https://localhost:8080/"
        }
      },
      "source": [
        "x_data.shape[1]"
      ],
      "execution_count": 33,
      "outputs": [
        {
          "output_type": "execute_result",
          "data": {
            "text/plain": [
              "2"
            ]
          },
          "metadata": {
            "tags": []
          },
          "execution_count": 33
        }
      ]
    },
    {
      "cell_type": "code",
      "metadata": {
        "id": "OLFSXLaEmdFQ",
        "outputId": "af4aed78-2d60-40ac-e473-d01481f27a9e",
        "colab": {
          "base_uri": "https://localhost:8080/"
        }
      },
      "source": [
        "y_data.shape[1]"
      ],
      "execution_count": 34,
      "outputs": [
        {
          "output_type": "execute_result",
          "data": {
            "text/plain": [
              "3"
            ]
          },
          "metadata": {
            "tags": []
          },
          "execution_count": 34
        }
      ]
    },
    {
      "cell_type": "code",
      "metadata": {
        "id": "7v_Sz6ycm0qn"
      },
      "source": [
        "input_dim=x_data.shape[1]\r\n",
        "units=y_data.shape[1]"
      ],
      "execution_count": 35,
      "outputs": []
    },
    {
      "cell_type": "markdown",
      "metadata": {
        "id": "pGvOi2tnj5eP"
      },
      "source": [
        "input(nxi), output(nxj) i는 인풋 갯수 j는 아웃풋 갯수, n데이터 갯수\r\n",
        "W와 b의 갯수는? W는 ixj개, [i,j] b는 j개 [1,j]"
      ]
    },
    {
      "cell_type": "markdown",
      "metadata": {
        "id": "vV-Wb3oClOg7"
      },
      "source": [
        "# Linear regression"
      ]
    },
    {
      "cell_type": "code",
      "metadata": {
        "id": "HpTfLDLdk9-1"
      },
      "source": [
        "learning_rate=1e-2"
      ],
      "execution_count": 36,
      "outputs": []
    },
    {
      "cell_type": "markdown",
      "metadata": {
        "id": "LItE--8wlvaN"
      },
      "source": [
        "그렇다면 w와 b의 사이즈를 어떻게 정하는가? 일일이 i와 j의 크기를 넣어줘야 하나? 아니면 자동으로 정할 수 있는가?\r\n",
        "x_data와 y_data의 dimension을 뽑을수 있으면 가능함.\r\n",
        "- x_data.shape[숫자] : 해당숫자-1에 해당하는 dimension을 뽑음."
      ]
    },
    {
      "cell_type": "code",
      "metadata": {
        "id": "pZ6ePKXCnVO5"
      },
      "source": [
        "w_init=tf.random_normal_initializer()\r\n",
        "b_init=tf.zeros_initializer()"
      ],
      "execution_count": 37,
      "outputs": []
    },
    {
      "cell_type": "code",
      "metadata": {
        "id": "Xhx7j69TlUD4"
      },
      "source": [
        "w=tf.Variable(w_init(shape=(input_dim,units)),dtype='float32')"
      ],
      "execution_count": 38,
      "outputs": []
    },
    {
      "cell_type": "code",
      "metadata": {
        "id": "IL8Mdh0Kl7JY"
      },
      "source": [
        "b=tf.Variable(b_init(shape=(units,)),dtype='float32')"
      ],
      "execution_count": 39,
      "outputs": []
    },
    {
      "cell_type": "code",
      "metadata": {
        "colab": {
          "base_uri": "https://localhost:8080/"
        },
        "id": "kiimyQf2mA4I",
        "outputId": "4d1185fd-d0e5-4a83-d962-a44b777c6c03"
      },
      "source": [
        "for i in range(100):\r\n",
        "  # loss\r\n",
        "  with tf.GradientTape() as tape:\r\n",
        "    hypothesis=tf.matmul(x_data,w)+b   #매트릭스 곱하기 : np.matmul()\r\n",
        "    loss=tf.reduce_mean(tf.square(hypothesis-y_data))\r\n",
        "\r\n",
        "  # gradient\r\n",
        "  w_grad,b_grad=tape.gradient(loss,[w,b])\r\n",
        "\r\n",
        "  # updata\r\n",
        "  w.assign_sub(learning_rate*w_grad)\r\n",
        "  b.assign_sub(learning_rate*b_grad)\r\n",
        "\r\n",
        "  # display\r\n",
        "  if i % 10==0:\r\n",
        "    print('iteration {} loss {}'.format(i,loss))"
      ],
      "execution_count": 40,
      "outputs": [
        {
          "output_type": "stream",
          "text": [
            "iteration 0 loss 83.72911071777344\n",
            "iteration 10 loss 0.16188274323940277\n",
            "iteration 20 loss 0.15530696511268616\n",
            "iteration 30 loss 0.14903376996517181\n",
            "iteration 40 loss 0.1430138647556305\n",
            "iteration 50 loss 0.137237086892128\n",
            "iteration 60 loss 0.13169366121292114\n",
            "iteration 70 loss 0.1263742297887802\n",
            "iteration 80 loss 0.12126962095499039\n",
            "iteration 90 loss 0.11637113988399506\n"
          ],
          "name": "stdout"
        }
      ]
    },
    {
      "cell_type": "code",
      "metadata": {
        "colab": {
          "base_uri": "https://localhost:8080/"
        },
        "id": "nl1VxnVlmCzl",
        "outputId": "32d0c03a-4244-46e5-b3e4-f42657694351"
      },
      "source": [
        "w.numpy()"
      ],
      "execution_count": 41,
      "outputs": [
        {
          "output_type": "execute_result",
          "data": {
            "text/plain": [
              "array([[0.7147543 , 0.69998133, 0.66637236],\n",
              "       [0.621601  , 0.7523676 , 0.89946705]], dtype=float32)"
            ]
          },
          "metadata": {
            "tags": []
          },
          "execution_count": 41
        }
      ]
    },
    {
      "cell_type": "code",
      "metadata": {
        "colab": {
          "base_uri": "https://localhost:8080/"
        },
        "id": "0OBrD6sypsO_",
        "outputId": "0a94d16f-71e0-4ded-a306-ec8892a8c157"
      },
      "source": [
        "b.numpy()"
      ],
      "execution_count": 42,
      "outputs": [
        {
          "output_type": "execute_result",
          "data": {
            "text/plain": [
              "array([-0.06994438,  0.05385998,  0.17741883], dtype=float32)"
            ]
          },
          "metadata": {
            "tags": []
          },
          "execution_count": 42
        }
      ]
    },
    {
      "cell_type": "code",
      "metadata": {
        "colab": {
          "base_uri": "https://localhost:8080/"
        },
        "id": "5I5lX73Hpt7v",
        "outputId": "7a66687b-8b4f-4018-a757-3c927e1a90b8"
      },
      "source": [
        "w"
      ],
      "execution_count": 43,
      "outputs": [
        {
          "output_type": "execute_result",
          "data": {
            "text/plain": [
              "<tf.Variable 'Variable:0' shape=(2, 3) dtype=float32, numpy=\n",
              "array([[0.7147543 , 0.69998133, 0.66637236],\n",
              "       [0.621601  , 0.7523676 , 0.89946705]], dtype=float32)>"
            ]
          },
          "metadata": {
            "tags": []
          },
          "execution_count": 43
        }
      ]
    },
    {
      "cell_type": "code",
      "metadata": {
        "colab": {
          "base_uri": "https://localhost:8080/"
        },
        "id": "nPXE3MBApvLT",
        "outputId": "aab1fa78-8ae3-4ea8-84f3-28691e89c2b0"
      },
      "source": [
        "tf.matmul(x_data,w)+b"
      ],
      "execution_count": 44,
      "outputs": [
        {
          "output_type": "execute_result",
          "data": {
            "text/plain": [
              "<tf.Tensor: shape=(5, 3), dtype=float32, numpy=\n",
              "array([[ 1.8880119,  2.2585766,  2.6427255],\n",
              "       [ 4.5607224,  5.163275 ,  5.774404 ],\n",
              "       [ 7.233433 ,  8.067972 ,  8.906083 ],\n",
              "       [ 9.906143 , 10.97267  , 12.037762 ],\n",
              "       [12.578854 , 13.877367 , 15.16944  ]], dtype=float32)>"
            ]
          },
          "metadata": {
            "tags": []
          },
          "execution_count": 44
        }
      ]
    },
    {
      "cell_type": "code",
      "metadata": {
        "colab": {
          "base_uri": "https://localhost:8080/"
        },
        "id": "f_7Es6C4qAR2",
        "outputId": "eb1acc55-5b34-4613-da12-6f24f859962b"
      },
      "source": [
        "y_data"
      ],
      "execution_count": null,
      "outputs": [
        {
          "output_type": "execute_result",
          "data": {
            "text/plain": [
              "array([1., 2., 3., 4., 5.], dtype=float32)"
            ]
          },
          "metadata": {
            "tags": []
          },
          "execution_count": 23
        }
      ]
    },
    {
      "cell_type": "markdown",
      "metadata": {
        "id": "FSGzCGXBqeJ8"
      },
      "source": [
        "# subclassing"
      ]
    },
    {
      "cell_type": "code",
      "metadata": {
        "id": "yGvk3Kj5qGR_"
      },
      "source": [
        "# model\r\n",
        "class Model(tf.keras.layers.Layer):\r\n",
        "  def __init__(self,input_dim,units):\r\n",
        "    super(Model,self).__init__()\r\n",
        "\r\n",
        "    self.w=self.add_weight(shape=(input_dim,units),initializer='random_normal')\r\n",
        "    self.b=self.add_weight(shape=(units,),initializer='zeros')\r\n",
        "\r\n",
        "  def call(self,inputs):\r\n",
        "    return tf.matmul(inputs,self.w)+self.b"
      ],
      "execution_count": 53,
      "outputs": []
    },
    {
      "cell_type": "code",
      "metadata": {
        "id": "fwTdrEQCucqX"
      },
      "source": [
        "# loss\r\n",
        "loss=tf.keras.losses.MeanSquaredError()"
      ],
      "execution_count": 46,
      "outputs": []
    },
    {
      "cell_type": "code",
      "metadata": {
        "id": "__2iQ6s7vOtU"
      },
      "source": [
        "# gradient\r\n",
        "def grad(model,inputs,targets):\r\n",
        "  with tf.GradientTape() as tape:\r\n",
        "    loss_value=loss(targets,model(inputs))\r\n",
        "  return tape.gradient(loss_value,[model.w, model.b])"
      ],
      "execution_count": 54,
      "outputs": []
    },
    {
      "cell_type": "code",
      "metadata": {
        "id": "GedQzkdNwCdw"
      },
      "source": [
        "# define\r\n",
        "model=Model(input_dim,units)\r\n",
        "optimizer=tf.keras.optimizers.SGD(learning_rate)"
      ],
      "execution_count": 55,
      "outputs": []
    },
    {
      "cell_type": "code",
      "metadata": {
        "id": "J6UTUsyEwJ6i"
      },
      "source": [
        "# learning\r\n",
        "for i in range(100):\r\n",
        "  # gradient\r\n",
        "  grads=grad(model,x_data,y_data)\r\n",
        "\r\n",
        "  # updata\r\n",
        "  optimizer.apply_gradients(zip(grads,[model.w,model.b]))\r\n",
        "\r\n",
        "  # display\r\n",
        "\r\n",
        "if 1%10==0:\r\n",
        "  print('{}{}'.format(i.loss(y_data,model(x_data))))"
      ],
      "execution_count": 56,
      "outputs": []
    },
    {
      "cell_type": "code",
      "metadata": {
        "colab": {
          "base_uri": "https://localhost:8080/"
        },
        "id": "1DbEbcaSyNQZ",
        "outputId": "07b64e68-e554-4106-cae8-f6758ee1ce86"
      },
      "source": [
        "model.w.numpy()"
      ],
      "execution_count": 57,
      "outputs": [
        {
          "output_type": "execute_result",
          "data": {
            "text/plain": [
              "array([[0.7075614 , 0.65211004, 0.68265474],\n",
              "       [0.630545  , 0.7959768 , 0.88459826]], dtype=float32)"
            ]
          },
          "metadata": {
            "tags": []
          },
          "execution_count": 57
        }
      ]
    },
    {
      "cell_type": "code",
      "metadata": {
        "colab": {
          "base_uri": "https://localhost:8080/"
        },
        "id": "ay16ZYyiyUGq",
        "outputId": "020cc0d3-2f46-4a20-87fd-229f3d78b550"
      },
      "source": [
        "model.b.numpy()"
      ],
      "execution_count": 58,
      "outputs": [
        {
          "output_type": "execute_result",
          "data": {
            "text/plain": [
              "array([-0.09014215,  0.03764081,  0.18320295], dtype=float32)"
            ]
          },
          "metadata": {
            "tags": []
          },
          "execution_count": 58
        }
      ]
    },
    {
      "cell_type": "code",
      "metadata": {
        "colab": {
          "base_uri": "https://localhost:8080/"
        },
        "id": "shW6cnCDyVyY",
        "outputId": "5124ace8-8606-42e5-9d30-321e83f739d3"
      },
      "source": [
        "model(x_data)"
      ],
      "execution_count": 59,
      "outputs": [
        {
          "output_type": "execute_result",
          "data": {
            "text/plain": [
              "<tf.Tensor: shape=(5, 3), dtype=float32, numpy=\n",
              "array([[ 1.8785093,  2.2817044,  2.6350543],\n",
              "       [ 4.554722 ,  5.1778784,  5.76956  ],\n",
              "       [ 7.230935 ,  8.074052 ,  8.904066 ],\n",
              "       [ 9.907147 , 10.970225 , 12.038572 ],\n",
              "       [12.583361 , 13.866399 , 15.173079 ]], dtype=float32)>"
            ]
          },
          "metadata": {
            "tags": []
          },
          "execution_count": 59
        }
      ]
    },
    {
      "cell_type": "code",
      "metadata": {
        "colab": {
          "base_uri": "https://localhost:8080/"
        },
        "id": "71f5O8IzyYOU",
        "outputId": "a9c6e21d-6950-48a1-aa11-c65572afd484"
      },
      "source": [
        "y_data"
      ],
      "execution_count": 60,
      "outputs": [
        {
          "output_type": "execute_result",
          "data": {
            "text/plain": [
              "array([[ 1.,  2.,  3.],\n",
              "       [ 4.,  5.,  6.],\n",
              "       [ 7.,  8.,  9.],\n",
              "       [10., 11., 12.],\n",
              "       [13., 14., 15.]], dtype=float32)"
            ]
          },
          "metadata": {
            "tags": []
          },
          "execution_count": 60
        }
      ]
    },
    {
      "cell_type": "markdown",
      "metadata": {
        "id": "vqEi8Ot_yjKa"
      },
      "source": [
        "# Sequential model"
      ]
    },
    {
      "cell_type": "code",
      "metadata": {
        "id": "58ld0M9NyZbg"
      },
      "source": [
        "# model\r\n",
        "model=tf.keras.Sequential()\r\n",
        "model.add(tf.keras.Input(shape=(input_dim,)))\r\n",
        "model.add(tf.keras.layers.Dense(units,kernel_initializer='random_normal'))"
      ],
      "execution_count": 65,
      "outputs": []
    },
    {
      "cell_type": "code",
      "metadata": {
        "colab": {
          "base_uri": "https://localhost:8080/"
        },
        "id": "6v6mDlfdzd89",
        "outputId": "8e62ca6a-c674-4228-dac0-60d92dd427d3"
      },
      "source": [
        "model.summary()"
      ],
      "execution_count": 66,
      "outputs": [
        {
          "output_type": "stream",
          "text": [
            "Model: \"sequential_2\"\n",
            "_________________________________________________________________\n",
            "Layer (type)                 Output Shape              Param #   \n",
            "=================================================================\n",
            "dense_1 (Dense)              (None, 3)                 9         \n",
            "=================================================================\n",
            "Total params: 9\n",
            "Trainable params: 9\n",
            "Non-trainable params: 0\n",
            "_________________________________________________________________\n"
          ],
          "name": "stdout"
        }
      ]
    },
    {
      "cell_type": "code",
      "metadata": {
        "colab": {
          "base_uri": "https://localhost:8080/",
          "height": 201
        },
        "id": "BD8HuQjHz1M4",
        "outputId": "43287974-03d7-47c2-976c-862afdcc6648"
      },
      "source": [
        "tf.keras.utils.plot_model(model,show_shapes=True)"
      ],
      "execution_count": 67,
      "outputs": [
        {
          "output_type": "execute_result",
          "data": {
            "image/png": "[encoded data removed]",
            "text/plain": [
              "<IPython.core.display.Image object>"
            ]
          },
          "metadata": {
            "tags": []
          },
          "execution_count": 67
        }
      ]
    },
    {
      "cell_type": "code",
      "metadata": {
        "id": "yCgHfLwbz-rf"
      },
      "source": [
        "model.compile(optimizer=tf.keras.optimizers.SGD(learning_rate),loss=tf.keras.losses.MeanSquaredError())"
      ],
      "execution_count": 68,
      "outputs": []
    },
    {
      "cell_type": "code",
      "metadata": {
        "colab": {
          "base_uri": "https://localhost:8080/"
        },
        "id": "YyN_nq9B0jVs",
        "outputId": "d992c873-0521-4816-da0c-dfe803fa627d"
      },
      "source": [
        "# learning\r\n",
        "model.fit(x_data,y_data,epochs=100,verbose=0)"
      ],
      "execution_count": 69,
      "outputs": [
        {
          "output_type": "execute_result",
          "data": {
            "text/plain": [
              "<tensorflow.python.keras.callbacks.History at 0x7f0386596ac8>"
            ]
          },
          "metadata": {
            "tags": []
          },
          "execution_count": 69
        }
      ]
    },
    {
      "cell_type": "code",
      "metadata": {
        "colab": {
          "base_uri": "https://localhost:8080/"
        },
        "id": "tdIcGQTp0zJ3",
        "outputId": "4cb08759-ec3d-41d1-b6ec-039d4fe2688b"
      },
      "source": [
        "model.evaluate(x_data,y_data,verbose=1)"
      ],
      "execution_count": 70,
      "outputs": [
        {
          "output_type": "stream",
          "text": [
            "1/1 [==============================] - 0s 92ms/step - loss: 0.1194\n"
          ],
          "name": "stdout"
        },
        {
          "output_type": "execute_result",
          "data": {
            "text/plain": [
              "0.11938508599996567"
            ]
          },
          "metadata": {
            "tags": []
          },
          "execution_count": 70
        }
      ]
    },
    {
      "cell_type": "code",
      "metadata": {
        "colab": {
          "base_uri": "https://localhost:8080/"
        },
        "id": "ZueXaqec039g",
        "outputId": "c583ed92-e5f3-4bbe-eee0-d5d74bbdf43e"
      },
      "source": [
        "model.get_weights()"
      ],
      "execution_count": 71,
      "outputs": [
        {
          "output_type": "execute_result",
          "data": {
            "text/plain": [
              "[array([[0.69085956, 0.71364295, 0.77970344],\n",
              "        [0.64303446, 0.7399224 , 0.7973937 ]], dtype=float32),\n",
              " array([-0.07556048,  0.05848826,  0.207145  ], dtype=float32)]"
            ]
          },
          "metadata": {
            "tags": []
          },
          "execution_count": 71
        }
      ]
    },
    {
      "cell_type": "code",
      "metadata": {
        "colab": {
          "base_uri": "https://localhost:8080/"
        },
        "id": "43ecYWpC1ZpD",
        "outputId": "95d6cfee-270c-4215-d8a3-aacdec1bb52d"
      },
      "source": [
        "y_data"
      ],
      "execution_count": 72,
      "outputs": [
        {
          "output_type": "execute_result",
          "data": {
            "text/plain": [
              "array([[ 1.,  2.,  3.],\n",
              "       [ 4.,  5.,  6.],\n",
              "       [ 7.,  8.,  9.],\n",
              "       [10., 11., 12.],\n",
              "       [13., 14., 15.]], dtype=float32)"
            ]
          },
          "metadata": {
            "tags": []
          },
          "execution_count": 72
        }
      ]
    },
    {
      "cell_type": "code",
      "metadata": {
        "colab": {
          "base_uri": "https://localhost:8080/"
        },
        "id": "7v9DrqX01cy8",
        "outputId": "c2c11b79-6655-497d-a669-77f1aabb938f"
      },
      "source": [
        "model.predict(x_data)"
      ],
      "execution_count": 73,
      "outputs": [
        {
          "output_type": "execute_result",
          "data": {
            "text/plain": [
              "array([[ 1.901368 ,  2.251976 ,  2.5816357],\n",
              "       [ 4.5691557,  5.1591067,  5.7358303],\n",
              "       [ 7.236944 ,  8.066237 ,  8.890023 ],\n",
              "       [ 9.904732 , 10.973368 , 12.044218 ],\n",
              "       [12.57252  , 13.880499 , 15.198413 ]], dtype=float32)"
            ]
          },
          "metadata": {
            "tags": []
          },
          "execution_count": 73
        }
      ]
    },
    {
      "cell_type": "code",
      "metadata": {
        "id": "DyiTeFjn1y4S"
      },
      "source": [
        ""
      ],
      "execution_count": null,
      "outputs": []
    }
  ]
}