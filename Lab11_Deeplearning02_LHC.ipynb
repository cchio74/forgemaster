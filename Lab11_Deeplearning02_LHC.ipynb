{
  "nbformat": 4,
  "nbformat_minor": 0,
  "metadata": {
    "colab": {
      "name": "Lab11_BJ.ipynb",
      "provenance": [],
      "toc_visible": true,
      "include_colab_link": true
    },
    "kernelspec": {
      "name": "python3",
      "display_name": "Python 3"
    }
  },
  "cells": [
    {
      "cell_type": "markdown",
      "metadata": {
        "id": "view-in-github",
        "colab_type": "text"
      },
      "source": [
        "<a href=\"https://colab.research.google.com/github/cchio74/forgemaster/blob/master/Lab11_Deeplearning02_LHC.ipynb\" target=\"_parent\"><img src=\"https://colab.research.google.com/assets/colab-badge.svg\" alt=\"Open In Colab\"/></a>"
      ]
    },
    {
      "cell_type": "code",
      "metadata": {
        "id": "ox-mCEuojVI5"
      },
      "source": [
        "import tensorflow as tf\r\n",
        "import numpy as np"
      ],
      "execution_count": null,
      "outputs": []
    },
    {
      "cell_type": "code",
      "metadata": {
        "id": "Ny4ll6T8jewB"
      },
      "source": [
        "x_data=np.array([1,2,3,4,5],np.float32)\r\n",
        "y_data=np.array([1,2,3,4,5],np.float32)"
      ],
      "execution_count": null,
      "outputs": []
    },
    {
      "cell_type": "markdown",
      "metadata": {
        "id": "vV-Wb3oClOg7"
      },
      "source": [
        "# Linear regression"
      ]
    },
    {
      "cell_type": "code",
      "metadata": {
        "id": "HpTfLDLdk9-1"
      },
      "source": [
        "learning_rate=1e-2"
      ],
      "execution_count": null,
      "outputs": []
    },
    {
      "cell_type": "code",
      "metadata": {
        "id": "Xhx7j69TlUD4"
      },
      "source": [
        "w=tf.Variable([0],dtype='float32')"
      ],
      "execution_count": null,
      "outputs": []
    },
    {
      "cell_type": "code",
      "metadata": {
        "id": "IL8Mdh0Kl7JY"
      },
      "source": [
        "b=tf.Variable([0],dtype='float32')"
      ],
      "execution_count": null,
      "outputs": []
    },
    {
      "cell_type": "code",
      "metadata": {
        "colab": {
          "base_uri": "https://localhost:8080/"
        },
        "id": "kiimyQf2mA4I",
        "outputId": "4951e7c1-015a-4e48-c74f-b45a08bc2713"
      },
      "source": [
        "for i in range(100):\r\n",
        "  # loss\r\n",
        "  with tf.GradientTape() as tape:\r\n",
        "    hypothesis=x_data*w+b\r\n",
        "    loss=tf.reduce_mean(tf.square(hypothesis-y_data))\r\n",
        "\r\n",
        "  # gradient\r\n",
        "  w_grad,b_grad=tape.gradient(loss,[w,b])\r\n",
        "\r\n",
        "  # updata\r\n",
        "  w.assign_sub(learning_rate*w_grad)\r\n",
        "  b.assign_sub(learning_rate*b_grad)\r\n",
        "\r\n",
        "  # display\r\n",
        "  if i % 10==0:\r\n",
        "    print('iteration {} loss {}'.format(i,loss))"
      ],
      "execution_count": null,
      "outputs": [
        {
          "output_type": "stream",
          "text": [
            "iteration 0 loss 2.1863298416137695\n",
            "iteration 10 loss 0.02085178717970848\n",
            "iteration 20 loss 0.010351987555623055\n",
            "iteration 30 loss 0.009632790461182594\n",
            "iteration 40 loss 0.009001738391816616\n",
            "iteration 50 loss 0.00841218326240778\n",
            "iteration 60 loss 0.007861273363232613\n",
            "iteration 70 loss 0.0073464298620820045\n",
            "iteration 80 loss 0.006865309085696936\n",
            "iteration 90 loss 0.006415707524865866\n"
          ],
          "name": "stdout"
        }
      ]
    },
    {
      "cell_type": "code",
      "metadata": {
        "colab": {
          "base_uri": "https://localhost:8080/"
        },
        "id": "nl1VxnVlmCzl",
        "outputId": "e77fe932-f9d2-4cf4-f491-e835ebf276d5"
      },
      "source": [
        "w.numpy()"
      ],
      "execution_count": null,
      "outputs": [
        {
          "output_type": "execute_result",
          "data": {
            "text/plain": [
              "array([0.9497297], dtype=float32)"
            ]
          },
          "metadata": {
            "tags": []
          },
          "execution_count": 16
        }
      ]
    },
    {
      "cell_type": "code",
      "metadata": {
        "colab": {
          "base_uri": "https://localhost:8080/"
        },
        "id": "0OBrD6sypsO_",
        "outputId": "d2a5bd07-58a4-4e24-fd0d-11f34fadd945"
      },
      "source": [
        "b.numpy()"
      ],
      "execution_count": null,
      "outputs": [
        {
          "output_type": "execute_result",
          "data": {
            "text/plain": [
              "array([0.18149184], dtype=float32)"
            ]
          },
          "metadata": {
            "tags": []
          },
          "execution_count": 17
        }
      ]
    },
    {
      "cell_type": "code",
      "metadata": {
        "colab": {
          "base_uri": "https://localhost:8080/"
        },
        "id": "5I5lX73Hpt7v",
        "outputId": "c4bb78d0-36d8-4b77-c7d6-3d8ea07760a3"
      },
      "source": [
        "w"
      ],
      "execution_count": null,
      "outputs": [
        {
          "output_type": "execute_result",
          "data": {
            "text/plain": [
              "<tf.Variable 'Variable:0' shape=(1,) dtype=float32, numpy=array([0.9497297], dtype=float32)>"
            ]
          },
          "metadata": {
            "tags": []
          },
          "execution_count": 21
        }
      ]
    },
    {
      "cell_type": "code",
      "metadata": {
        "colab": {
          "base_uri": "https://localhost:8080/"
        },
        "id": "nPXE3MBApvLT",
        "outputId": "e1864992-f010-449f-bc49-35a98932f4b6"
      },
      "source": [
        "x_data*w+b"
      ],
      "execution_count": null,
      "outputs": [
        {
          "output_type": "execute_result",
          "data": {
            "text/plain": [
              "<tf.Tensor: shape=(5,), dtype=float32, numpy=\n",
              "array([1.1312215, 2.0809512, 3.030681 , 3.9804106, 4.9301405],\n",
              "      dtype=float32)>"
            ]
          },
          "metadata": {
            "tags": []
          },
          "execution_count": 22
        }
      ]
    },
    {
      "cell_type": "code",
      "metadata": {
        "colab": {
          "base_uri": "https://localhost:8080/"
        },
        "id": "f_7Es6C4qAR2",
        "outputId": "eb1acc55-5b34-4613-da12-6f24f859962b"
      },
      "source": [
        "y_data"
      ],
      "execution_count": null,
      "outputs": [
        {
          "output_type": "execute_result",
          "data": {
            "text/plain": [
              "array([1., 2., 3., 4., 5.], dtype=float32)"
            ]
          },
          "metadata": {
            "tags": []
          },
          "execution_count": 23
        }
      ]
    },
    {
      "cell_type": "markdown",
      "metadata": {
        "id": "FSGzCGXBqeJ8"
      },
      "source": [
        "# subclassing"
      ]
    },
    {
      "cell_type": "code",
      "metadata": {
        "id": "yGvk3Kj5qGR_"
      },
      "source": [
        "# model\r\n",
        "class Model(tf.keras.layers.Layer):\r\n",
        "  def __init__(self):\r\n",
        "    super(Model,self).__init__()\r\n",
        "\r\n",
        "    self.w=self.add_weight(shape=(1,1))\r\n",
        "    self.b=self.add_weight(shape=(1,))\r\n",
        "\r\n",
        "  def call(self,inputs):\r\n",
        "    return inputs*self.w+self.b"
      ],
      "execution_count": null,
      "outputs": []
    },
    {
      "cell_type": "code",
      "metadata": {
        "id": "fwTdrEQCucqX"
      },
      "source": [
        "# loss\r\n",
        "loss=tf.keras.losses.MeanSquaredError()"
      ],
      "execution_count": null,
      "outputs": []
    },
    {
      "cell_type": "code",
      "metadata": {
        "id": "__2iQ6s7vOtU"
      },
      "source": [
        "# gradient\r\n",
        "def grad(model,inputs,targets):\r\n",
        "  with tf.GradientTape() as tape:\r\n",
        "    loss_value=loss(targets,model(inputs))\r\n",
        "  return tape.gradient(loss_value,[model.w, model.b])"
      ],
      "execution_count": null,
      "outputs": []
    },
    {
      "cell_type": "code",
      "metadata": {
        "id": "GedQzkdNwCdw"
      },
      "source": [
        "# define\r\n",
        "model=Model()\r\n",
        "optimizer=tf.keras.optimizers.SGD(learning_rate)"
      ],
      "execution_count": null,
      "outputs": []
    },
    {
      "cell_type": "code",
      "metadata": {
        "id": "J6UTUsyEwJ6i"
      },
      "source": [
        "# learning\r\n",
        "for i in range(100):\r\n",
        "  # gradient\r\n",
        "  grads=grad(model,x_data,y_data)\r\n",
        "\r\n",
        "  # updata\r\n",
        "  optimizer.apply_gradients(zip(grads,[model.w,model.b]))\r\n",
        "\r\n",
        "  # display\r\n",
        "\r\n",
        "if 1%10==0:\r\n",
        "  print('{}{}'.format(i.loss(y_data,model(x_data))))"
      ],
      "execution_count": null,
      "outputs": []
    },
    {
      "cell_type": "code",
      "metadata": {
        "colab": {
          "base_uri": "https://localhost:8080/"
        },
        "id": "1DbEbcaSyNQZ",
        "outputId": "6550064b-bbb5-40bb-f614-dbaf901889b0"
      },
      "source": [
        "model.w.numpy()"
      ],
      "execution_count": null,
      "outputs": [
        {
          "output_type": "execute_result",
          "data": {
            "text/plain": [
              "array([[0.8966675]], dtype=float32)"
            ]
          },
          "metadata": {
            "tags": []
          },
          "execution_count": 47
        }
      ]
    },
    {
      "cell_type": "code",
      "metadata": {
        "colab": {
          "base_uri": "https://localhost:8080/"
        },
        "id": "ay16ZYyiyUGq",
        "outputId": "03470578-f5e1-4ada-8e0c-13a574047c9c"
      },
      "source": [
        "model.b.numpy()"
      ],
      "execution_count": null,
      "outputs": [
        {
          "output_type": "execute_result",
          "data": {
            "text/plain": [
              "array([0.37306312], dtype=float32)"
            ]
          },
          "metadata": {
            "tags": []
          },
          "execution_count": 48
        }
      ]
    },
    {
      "cell_type": "code",
      "metadata": {
        "colab": {
          "base_uri": "https://localhost:8080/"
        },
        "id": "shW6cnCDyVyY",
        "outputId": "68adb51f-e3ed-4145-e813-2288449fd03b"
      },
      "source": [
        "model(x_data)"
      ],
      "execution_count": null,
      "outputs": [
        {
          "output_type": "execute_result",
          "data": {
            "text/plain": [
              "<tf.Tensor: shape=(1, 5), dtype=float32, numpy=\n",
              "array([[1.2697306, 2.166398 , 3.0630655, 3.959733 , 4.8564005]],\n",
              "      dtype=float32)>"
            ]
          },
          "metadata": {
            "tags": []
          },
          "execution_count": 49
        }
      ]
    },
    {
      "cell_type": "code",
      "metadata": {
        "colab": {
          "base_uri": "https://localhost:8080/"
        },
        "id": "71f5O8IzyYOU",
        "outputId": "d7e02f42-2e2f-46d0-ccab-8bbbffeca1cf"
      },
      "source": [
        "y_data"
      ],
      "execution_count": null,
      "outputs": [
        {
          "output_type": "execute_result",
          "data": {
            "text/plain": [
              "array([1., 2., 3., 4., 5.], dtype=float32)"
            ]
          },
          "metadata": {
            "tags": []
          },
          "execution_count": 50
        }
      ]
    },
    {
      "cell_type": "markdown",
      "metadata": {
        "id": "vqEi8Ot_yjKa"
      },
      "source": [
        "# Sequential model"
      ]
    },
    {
      "cell_type": "code",
      "metadata": {
        "id": "58ld0M9NyZbg"
      },
      "source": [
        "# model\r\n",
        "model=tf.keras.Sequential()\r\n",
        "model.add(tf.keras.Input(shape=(1,)))\r\n",
        "model.add(tf.keras.layers.Dense(1))"
      ],
      "execution_count": null,
      "outputs": []
    },
    {
      "cell_type": "code",
      "metadata": {
        "colab": {
          "base_uri": "https://localhost:8080/"
        },
        "id": "6v6mDlfdzd89",
        "outputId": "026fce91-0ed8-4ce6-d498-90fddb21cbd6"
      },
      "source": [
        "model.summary()"
      ],
      "execution_count": null,
      "outputs": [
        {
          "output_type": "stream",
          "text": [
            "Model: \"sequential_1\"\n",
            "_________________________________________________________________\n",
            "Layer (type)                 Output Shape              Param #   \n",
            "=================================================================\n",
            "dense (Dense)                (None, 1)                 2         \n",
            "=================================================================\n",
            "Total params: 2\n",
            "Trainable params: 2\n",
            "Non-trainable params: 0\n",
            "_________________________________________________________________\n"
          ],
          "name": "stdout"
        }
      ]
    },
    {
      "cell_type": "code",
      "metadata": {
        "colab": {
          "base_uri": "https://localhost:8080/",
          "height": 201
        },
        "id": "BD8HuQjHz1M4",
        "outputId": "bf1c9c5a-6b03-42b7-b0e6-b7ad38cd46d4"
      },
      "source": [
        "tf.keras.utils.plot_model(model,show_shapes=True)"
      ],
      "execution_count": null,
      "outputs": [
        {
          "output_type": "execute_result",
          "data": {
            "image/png": "[encoded data removed]",
            "text/plain": [
              "<IPython.core.display.Image object>"
            ]
          },
          "metadata": {
            "tags": []
          },
          "execution_count": 55
        }
      ]
    },
    {
      "cell_type": "code",
      "metadata": {
        "id": "yCgHfLwbz-rf"
      },
      "source": [
        "model.compile(optimizer=tf.keras.optimizers.SGD(learning_rate),loss=tf.keras.losses.MeanSquaredError())"
      ],
      "execution_count": null,
      "outputs": []
    },
    {
      "cell_type": "code",
      "metadata": {
        "colab": {
          "base_uri": "https://localhost:8080/"
        },
        "id": "YyN_nq9B0jVs",
        "outputId": "66d31cfb-69d7-47a8-e551-2a902432004d"
      },
      "source": [
        "# learning\r\n",
        "model.fit(x_data,y_data,epochs=100,verbose=0)"
      ],
      "execution_count": null,
      "outputs": [
        {
          "output_type": "execute_result",
          "data": {
            "text/plain": [
              "<tensorflow.python.keras.callbacks.History at 0x7faf25bc87b8>"
            ]
          },
          "metadata": {
            "tags": []
          },
          "execution_count": 65
        }
      ]
    },
    {
      "cell_type": "code",
      "metadata": {
        "colab": {
          "base_uri": "https://localhost:8080/"
        },
        "id": "tdIcGQTp0zJ3",
        "outputId": "492657e9-f365-4ed2-e880-62ff83637b78"
      },
      "source": [
        "model.evaluate(x_data,y_data,verbose=1)"
      ],
      "execution_count": null,
      "outputs": [
        {
          "output_type": "stream",
          "text": [
            "1/1 [==============================] - 0s 18ms/step - loss: 2.5795e-06\n"
          ],
          "name": "stdout"
        },
        {
          "output_type": "execute_result",
          "data": {
            "text/plain": [
              "2.579513875389239e-06"
            ]
          },
          "metadata": {
            "tags": []
          },
          "execution_count": 66
        }
      ]
    },
    {
      "cell_type": "code",
      "metadata": {
        "colab": {
          "base_uri": "https://localhost:8080/"
        },
        "id": "ZueXaqec039g",
        "outputId": "101315fa-469c-47f8-dd9d-f999cc5e7b48"
      },
      "source": [
        "model.get_weights()"
      ],
      "execution_count": null,
      "outputs": [
        {
          "output_type": "execute_result",
          "data": {
            "text/plain": [
              "[array([[1.0010427]], dtype=float32), array([-0.00376452], dtype=float32)]"
            ]
          },
          "metadata": {
            "tags": []
          },
          "execution_count": 67
        }
      ]
    },
    {
      "cell_type": "code",
      "metadata": {
        "id": "CFS1l-1A1ft2"
      },
      "source": [
        ""
      ],
      "execution_count": null,
      "outputs": []
    },
    {
      "cell_type": "code",
      "metadata": {
        "colab": {
          "base_uri": "https://localhost:8080/"
        },
        "id": "43ecYWpC1ZpD",
        "outputId": "77c028b2-9380-45cd-d6e4-6e8fa4dc2878"
      },
      "source": [
        "y_data"
      ],
      "execution_count": null,
      "outputs": [
        {
          "output_type": "execute_result",
          "data": {
            "text/plain": [
              "array([1., 2., 3., 4., 5.], dtype=float32)"
            ]
          },
          "metadata": {
            "tags": []
          },
          "execution_count": 68
        }
      ]
    },
    {
      "cell_type": "code",
      "metadata": {
        "colab": {
          "base_uri": "https://localhost:8080/"
        },
        "id": "7v9DrqX01cy8",
        "outputId": "5914a001-84a9-4093-d916-190e909ceb7b"
      },
      "source": [
        "model.predict(x_data)"
      ],
      "execution_count": null,
      "outputs": [
        {
          "output_type": "execute_result",
          "data": {
            "text/plain": [
              "array([[0.9972782],\n",
              "       [1.9983209],\n",
              "       [2.9993634],\n",
              "       [4.0004063],\n",
              "       [5.001449 ]], dtype=float32)"
            ]
          },
          "metadata": {
            "tags": []
          },
          "execution_count": 69
        }
      ]
    },
    {
      "cell_type": "code",
      "metadata": {
        "id": "DyiTeFjn1y4S"
      },
      "source": [
        ""
      ],
      "execution_count": null,
      "outputs": []
    }
  ]
}