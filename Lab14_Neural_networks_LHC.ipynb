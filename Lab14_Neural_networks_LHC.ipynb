{
  "nbformat": 4,
  "nbformat_minor": 0,
  "metadata": {
    "colab": {
      "name": "Lab14_Neural-networks_LHC.ipynb",
      "provenance": [],
      "collapsed_sections": [
        "FSGzCGXBqeJ8"
      ],
      "toc_visible": true,
      "include_colab_link": true
    },
    "kernelspec": {
      "name": "python3",
      "display_name": "Python 3"
    }
  },
  "cells": [
    {
      "cell_type": "markdown",
      "metadata": {
        "id": "view-in-github",
        "colab_type": "text"
      },
      "source": [
        "<a href=\"https://colab.research.google.com/github/cchio74/forgemaster/blob/master/Lab14_Neural_networks_LHC.ipynb\" target=\"_parent\"><img src=\"https://colab.research.google.com/assets/colab-badge.svg\" alt=\"Open In Colab\"/></a>"
      ]
    },
    {
      "cell_type": "code",
      "metadata": {
        "id": "ox-mCEuojVI5"
      },
      "source": [
        "import tensorflow as tf\r\n",
        "import numpy as np"
      ],
      "execution_count": 20,
      "outputs": []
    },
    {
      "cell_type": "code",
      "metadata": {
        "id": "Ny4ll6T8jewB"
      },
      "source": [
        "x_data=np.array([0,0,0,1,1,0,1,1],np.float32).reshape(4,2)\r\n",
        "y_data=np.array([0,1,1,0],np.float32).reshape(4,1)"
      ],
      "execution_count": 21,
      "outputs": []
    },
    {
      "cell_type": "code",
      "metadata": {
        "id": "RRsXLmGNimub",
        "colab": {
          "base_uri": "https://localhost:8080/"
        },
        "outputId": "dca0f869-5ede-4ca9-a013-79898cc767f7"
      },
      "source": [
        "x_data"
      ],
      "execution_count": 22,
      "outputs": [
        {
          "output_type": "execute_result",
          "data": {
            "text/plain": [
              "array([[0., 0.],\n",
              "       [0., 1.],\n",
              "       [1., 0.],\n",
              "       [1., 1.]], dtype=float32)"
            ]
          },
          "metadata": {
            "tags": []
          },
          "execution_count": 22
        }
      ]
    },
    {
      "cell_type": "code",
      "metadata": {
        "id": "T2OO8jiamZhu",
        "colab": {
          "base_uri": "https://localhost:8080/"
        },
        "outputId": "b7911a97-78d9-4f1b-879b-e08ac848bff4"
      },
      "source": [
        "x_data.shape[1]"
      ],
      "execution_count": 23,
      "outputs": [
        {
          "output_type": "execute_result",
          "data": {
            "text/plain": [
              "2"
            ]
          },
          "metadata": {
            "tags": []
          },
          "execution_count": 23
        }
      ]
    },
    {
      "cell_type": "code",
      "metadata": {
        "id": "OLFSXLaEmdFQ",
        "colab": {
          "base_uri": "https://localhost:8080/"
        },
        "outputId": "95c36cb5-1fcc-4f82-811e-db415631e3dd"
      },
      "source": [
        "y_data"
      ],
      "execution_count": 24,
      "outputs": [
        {
          "output_type": "execute_result",
          "data": {
            "text/plain": [
              "array([[0.],\n",
              "       [1.],\n",
              "       [1.],\n",
              "       [0.]], dtype=float32)"
            ]
          },
          "metadata": {
            "tags": []
          },
          "execution_count": 24
        }
      ]
    },
    {
      "cell_type": "code",
      "metadata": {
        "id": "7v_Sz6ycm0qn"
      },
      "source": [
        "input_dim=x_data.shape[1]\r\n",
        "units=y_data.shape[1]"
      ],
      "execution_count": 25,
      "outputs": []
    },
    {
      "cell_type": "markdown",
      "metadata": {
        "id": "pGvOi2tnj5eP"
      },
      "source": [
        "input(nxi), output(nxj) i는 인풋 갯수 j는 아웃풋 갯수, n데이터 갯수\r\n",
        "W와 b의 갯수는? W는 ixj개, [i,j] b는 j개 [1,j]"
      ]
    },
    {
      "cell_type": "markdown",
      "metadata": {
        "id": "vV-Wb3oClOg7"
      },
      "source": [
        "# Logistic regression"
      ]
    },
    {
      "cell_type": "code",
      "metadata": {
        "id": "HpTfLDLdk9-1"
      },
      "source": [
        "learning_rate=1e-2"
      ],
      "execution_count": 26,
      "outputs": []
    },
    {
      "cell_type": "markdown",
      "metadata": {
        "id": "LItE--8wlvaN"
      },
      "source": [
        "그렇다면 w와 b의 사이즈를 어떻게 정하는가? 일일이 i와 j의 크기를 넣어줘야 하나? 아니면 자동으로 정할 수 있는가?\r\n",
        "x_data와 y_data의 dimension을 뽑을수 있으면 가능함.\r\n",
        "- x_data.shape[숫자] : 해당숫자-1에 해당하는 dimension을 뽑음."
      ]
    },
    {
      "cell_type": "code",
      "metadata": {
        "id": "pZ6ePKXCnVO5"
      },
      "source": [
        "w_init=tf.random_normal_initializer()\r\n",
        "b_init=tf.zeros_initializer()"
      ],
      "execution_count": 36,
      "outputs": []
    },
    {
      "cell_type": "code",
      "metadata": {
        "id": "Xhx7j69TlUD4"
      },
      "source": [
        "w1=tf.Variable(initial_value=[[5,-7],[5,-7]],dtype='float32')\r\n",
        "b1=tf.Variable(initial_value=[-8,3],dtype='float32')"
      ],
      "execution_count": 38,
      "outputs": []
    },
    {
      "cell_type": "code",
      "metadata": {
        "id": "IL8Mdh0Kl7JY"
      },
      "source": [
        "w2=tf.Variable(initial_value=[[-11],[-11]],dtype='float32')\r\n",
        "b2=tf.Variable(initial_value=[6],dtype='float32')"
      ],
      "execution_count": 39,
      "outputs": []
    },
    {
      "cell_type": "code",
      "metadata": {
        "colab": {
          "base_uri": "https://localhost:8080/"
        },
        "id": "kiimyQf2mA4I",
        "outputId": "682acd7c-3474-443b-92f0-716c91e4e2c6"
      },
      "source": [
        "for i in range(10000):\r\n",
        "  # loss\r\n",
        "  with tf.GradientTape() as tape:\r\n",
        "    z1=tf.matmul(x_data,w1)+b1   #매트릭스 곱하기 : np.matmul()\r\n",
        "    k1=tf.divide(1,1+tf.math.exp(-z1)) #sigmoid\r\n",
        "\r\n",
        "    z2=tf.matmul(k1,w2)+b2   #매트릭스 곱하기 : np.matmul()\r\n",
        "    hypothesis=tf.divide(1,1+tf.math.exp(-z2)) #sigmoid\r\n",
        "\r\n",
        "    loss=-tf.reduce_mean(y_data*tf.math.log(hypothesis)+(1-y_data)*tf.math.log(1-hypothesis)) #cross entropy\r\n",
        "\r\n",
        "  # gradient\r\n",
        "  w1_grad,b1_grad,w2_grad,b2_grad=tape.gradient(loss,[w1,b1,w2,b2])\r\n",
        "\r\n",
        "  # updata\r\n",
        "  w1.assign_sub(learning_rate*w1_grad)\r\n",
        "  b1.assign_sub(learning_rate*b1_grad)\r\n",
        "  w2.assign_sub(learning_rate*w2_grad)\r\n",
        "  b2.assign_sub(learning_rate*b2_grad)\r\n",
        "\r\n",
        "  # display\r\n",
        "  if i % 1000==0:\r\n",
        "    print('iteration {} loss {}'.format(i,loss))"
      ],
      "execution_count": 40,
      "outputs": [
        {
          "output_type": "stream",
          "text": [
            "iteration 0 loss 0.011523084715008736\n",
            "iteration 1000 loss 0.010212266817688942\n",
            "iteration 2000 loss 0.009532989002764225\n",
            "iteration 3000 loss 0.009119556285440922\n",
            "iteration 4000 loss 0.008840661495923996\n",
            "iteration 5000 loss 0.008637221530079842\n",
            "iteration 6000 loss 0.008479657582938671\n",
            "iteration 7000 loss 0.008350270800292492\n",
            "iteration 8000 loss 0.008239127695560455\n",
            "iteration 9000 loss 0.008141405880451202\n"
          ],
          "name": "stdout"
        }
      ]
    },
    {
      "cell_type": "code",
      "metadata": {
        "colab": {
          "base_uri": "https://localhost:8080/"
        },
        "id": "nl1VxnVlmCzl",
        "outputId": "b0f92c71-9181-4662-a489-4ab01f5ab1a3"
      },
      "source": [
        "print(w1.numpy(),b1.numpy())"
      ],
      "execution_count": 41,
      "outputs": [
        {
          "output_type": "stream",
          "text": [
            "[[ 5.1980047 -7.0336523]\n",
            " [ 5.1980047 -7.0336523]] [-7.9059095  3.0396833]\n"
          ],
          "name": "stdout"
        }
      ]
    },
    {
      "cell_type": "code",
      "metadata": {
        "colab": {
          "base_uri": "https://localhost:8080/"
        },
        "id": "0OBrD6sypsO_",
        "outputId": "191c0d23-3176-4a43-ea9e-60b78c7c6319"
      },
      "source": [
        "print(w2.numpy(),b2.numpy())"
      ],
      "execution_count": 42,
      "outputs": [
        {
          "output_type": "stream",
          "text": [
            "[[-11.2827835]\n",
            " [-11.200979 ]] [5.7877946]\n"
          ],
          "name": "stdout"
        }
      ]
    },
    {
      "cell_type": "code",
      "metadata": {
        "colab": {
          "base_uri": "https://localhost:8080/"
        },
        "id": "5I5lX73Hpt7v",
        "outputId": "124495e7-dcec-4808-e2db-b1ad98d56eeb"
      },
      "source": [
        "z1=tf.matmul(x_data,w1)+b1\r\n",
        "k1=tf.divide(1,1+tf.math.exp(-z1))\r\n",
        "z2=tf.matmul(k1,w2)+b2\r\n",
        "hypothesis=tf.divide(1,1+tf.math.exp(-z2))\r\n",
        "\r\n",
        "hypothesis.numpy()\r\n"
      ],
      "execution_count": 44,
      "outputs": [
        {
          "output_type": "execute_result",
          "data": {
            "text/plain": [
              "array([[0.00734875],\n",
              "       [0.99245924],\n",
              "       [0.99245924],\n",
              "       [0.00964699]], dtype=float32)"
            ]
          },
          "metadata": {
            "tags": []
          },
          "execution_count": 44
        }
      ]
    },
    {
      "cell_type": "code",
      "metadata": {
        "colab": {
          "base_uri": "https://localhost:8080/"
        },
        "id": "nPXE3MBApvLT",
        "outputId": "31797246-d0a6-43cc-8dbd-521d54e47365"
      },
      "source": [
        "tf.divide(1,1+tf.math.exp(-z))"
      ],
      "execution_count": null,
      "outputs": [
        {
          "output_type": "execute_result",
          "data": {
            "text/plain": [
              "<tf.Tensor: shape=(6, 1), dtype=float32, numpy=\n",
              "array([[0.0081014 ],\n",
              "       [0.10678716],\n",
              "       [0.16386306],\n",
              "       [0.85614413],\n",
              "       [0.9767388 ],\n",
              "       [0.99304587]], dtype=float32)>"
            ]
          },
          "metadata": {
            "tags": []
          },
          "execution_count": 83
        }
      ]
    },
    {
      "cell_type": "code",
      "metadata": {
        "colab": {
          "base_uri": "https://localhost:8080/"
        },
        "id": "f_7Es6C4qAR2",
        "outputId": "068b9e36-7239-4fa6-e86e-a023853fd972"
      },
      "source": [
        "y_data"
      ],
      "execution_count": null,
      "outputs": [
        {
          "output_type": "execute_result",
          "data": {
            "text/plain": [
              "array([[0.],\n",
              "       [0.],\n",
              "       [0.],\n",
              "       [1.],\n",
              "       [1.],\n",
              "       [1.]], dtype=float32)"
            ]
          },
          "metadata": {
            "tags": []
          },
          "execution_count": 29
        }
      ]
    },
    {
      "cell_type": "markdown",
      "metadata": {
        "id": "FSGzCGXBqeJ8"
      },
      "source": [
        "# subclassing"
      ]
    },
    {
      "cell_type": "code",
      "metadata": {
        "id": "yGvk3Kj5qGR_"
      },
      "source": [
        "# model\r\n",
        "class Model(tf.keras.layers.Layer):\r\n",
        "  def __init__(self,input_dim,units):\r\n",
        "    super(Model,self).__init__()\r\n",
        "\r\n",
        "    self.w=self.add_weight(shape=(input_dim,units),initializer='random_normal')\r\n",
        "    self.b=self.add_weight(shape=(units,),initializer='zeros')\r\n",
        "\r\n",
        "  def call(self,inputs):\r\n",
        "    logits=tf.matmul(inputs,self.w)+self.b\r\n",
        "    return tf.math.sigmoid(logits)"
      ],
      "execution_count": null,
      "outputs": []
    },
    {
      "cell_type": "code",
      "metadata": {
        "id": "fwTdrEQCucqX"
      },
      "source": [
        "# loss\r\n",
        "loss=tf.keras.losses.BinaryCrossentropy()   #yes no만 있는 crossentropy"
      ],
      "execution_count": null,
      "outputs": []
    },
    {
      "cell_type": "code",
      "metadata": {
        "id": "__2iQ6s7vOtU"
      },
      "source": [
        "# gradient\r\n",
        "def grad(model,inputs,targets):\r\n",
        "  with tf.GradientTape() as tape:\r\n",
        "    loss_value=loss(targets,model(inputs))\r\n",
        "  return tape.gradient(loss_value,[model.w, model.b])"
      ],
      "execution_count": null,
      "outputs": []
    },
    {
      "cell_type": "code",
      "metadata": {
        "id": "GedQzkdNwCdw"
      },
      "source": [
        "# define\r\n",
        "model=Model(input_dim,units)\r\n",
        "optimizer=tf.keras.optimizers.SGD(learning_rate)"
      ],
      "execution_count": null,
      "outputs": []
    },
    {
      "cell_type": "code",
      "metadata": {
        "id": "J6UTUsyEwJ6i",
        "colab": {
          "base_uri": "https://localhost:8080/"
        },
        "outputId": "773b7871-2f6f-429d-83f0-dd0142ead725"
      },
      "source": [
        "# learning\r\n",
        "for i in range(10000):\r\n",
        "  # gradient\r\n",
        "  grads=grad(model,x_data,y_data)\r\n",
        "\r\n",
        "  # updata\r\n",
        "  optimizer.apply_gradients(zip(grads,[model.w,model.b]))\r\n",
        "\r\n",
        "  # display\r\n",
        "\r\n",
        "  if i % 2000==0:\r\n",
        "    print('{} {}'.format(i,loss(y_data,model(x_data))))\r\n"
      ],
      "execution_count": null,
      "outputs": [
        {
          "output_type": "stream",
          "text": [
            "0 0.15634573996067047\n",
            "2000 0.13510668277740479\n",
            "4000 0.11899277567863464\n",
            "6000 0.10636401921510696\n",
            "8000 0.09620372205972672\n"
          ],
          "name": "stdout"
        }
      ]
    },
    {
      "cell_type": "code",
      "metadata": {
        "colab": {
          "base_uri": "https://localhost:8080/"
        },
        "id": "1DbEbcaSyNQZ",
        "outputId": "93bf72b1-ae27-441b-9fa1-a639fd744f11"
      },
      "source": [
        "model.w.numpy()"
      ],
      "execution_count": null,
      "outputs": [
        {
          "output_type": "execute_result",
          "data": {
            "text/plain": [
              "array([[2.0406716],\n",
              "       [0.7923428]], dtype=float32)"
            ]
          },
          "metadata": {
            "tags": []
          },
          "execution_count": 98
        }
      ]
    },
    {
      "cell_type": "code",
      "metadata": {
        "colab": {
          "base_uri": "https://localhost:8080/"
        },
        "id": "ay16ZYyiyUGq",
        "outputId": "035d4941-6334-452b-d729-0504072bf4d1"
      },
      "source": [
        "model.b.numpy()"
      ],
      "execution_count": null,
      "outputs": [
        {
          "output_type": "execute_result",
          "data": {
            "text/plain": [
              "array([-8.667864], dtype=float32)"
            ]
          },
          "metadata": {
            "tags": []
          },
          "execution_count": 99
        }
      ]
    },
    {
      "cell_type": "code",
      "metadata": {
        "colab": {
          "base_uri": "https://localhost:8080/"
        },
        "id": "shW6cnCDyVyY",
        "outputId": "7a58fc3e-295f-499f-e0ee-b39c823cbd05"
      },
      "source": [
        "model(x_data)"
      ],
      "execution_count": null,
      "outputs": [
        {
          "output_type": "execute_result",
          "data": {
            "text/plain": [
              "<tf.Tensor: shape=(6, 1), dtype=float32, numpy=\n",
              "array([[0.00641608],\n",
              "       [0.0989013 ],\n",
              "       [0.14760554],\n",
              "       [0.8666723 ],\n",
              "       [0.98040175],\n",
              "       [0.99429595]], dtype=float32)>"
            ]
          },
          "metadata": {
            "tags": []
          },
          "execution_count": 100
        }
      ]
    },
    {
      "cell_type": "code",
      "metadata": {
        "colab": {
          "base_uri": "https://localhost:8080/"
        },
        "id": "71f5O8IzyYOU",
        "outputId": "78639ca8-c246-4c74-e193-a40de00b6ffa"
      },
      "source": [
        "y_data"
      ],
      "execution_count": null,
      "outputs": [
        {
          "output_type": "execute_result",
          "data": {
            "text/plain": [
              "array([[0.],\n",
              "       [0.],\n",
              "       [0.],\n",
              "       [1.],\n",
              "       [1.],\n",
              "       [1.]], dtype=float32)"
            ]
          },
          "metadata": {
            "tags": []
          },
          "execution_count": 101
        }
      ]
    },
    {
      "cell_type": "markdown",
      "metadata": {
        "id": "vqEi8Ot_yjKa"
      },
      "source": [
        "# Sequential model"
      ]
    },
    {
      "cell_type": "code",
      "metadata": {
        "id": "58ld0M9NyZbg"
      },
      "source": [
        "# model\r\n",
        "model=tf.keras.Sequential()\r\n",
        "\r\n",
        "model.add(tf.keras.Input(shape=(input_dim,)))\r\n",
        "\r\n",
        "model.add(tf.keras.layers.Dense(2,activation='sigmoid',kernel_initializer='random_normal'))\r\n",
        "model.add(tf.keras.layers.Dense(units,activation='sigmoid',kernel_initializer='random_normal'))"
      ],
      "execution_count": 45,
      "outputs": []
    },
    {
      "cell_type": "code",
      "metadata": {
        "colab": {
          "base_uri": "https://localhost:8080/"
        },
        "id": "6v6mDlfdzd89",
        "outputId": "581b4982-f69b-4d43-b718-387d1835c4a6"
      },
      "source": [
        "model.summary()"
      ],
      "execution_count": 46,
      "outputs": [
        {
          "output_type": "stream",
          "text": [
            "Model: \"sequential\"\n",
            "_________________________________________________________________\n",
            "Layer (type)                 Output Shape              Param #   \n",
            "=================================================================\n",
            "dense (Dense)                (None, 2)                 6         \n",
            "_________________________________________________________________\n",
            "dense_1 (Dense)              (None, 1)                 3         \n",
            "=================================================================\n",
            "Total params: 9\n",
            "Trainable params: 9\n",
            "Non-trainable params: 0\n",
            "_________________________________________________________________\n"
          ],
          "name": "stdout"
        }
      ]
    },
    {
      "cell_type": "code",
      "metadata": {
        "colab": {
          "base_uri": "https://localhost:8080/",
          "height": 312
        },
        "id": "BD8HuQjHz1M4",
        "outputId": "d7a91332-84f8-404c-db2a-95f04afcb79a"
      },
      "source": [
        "tf.keras.utils.plot_model(model,show_shapes=True)"
      ],
      "execution_count": 47,
      "outputs": [
        {
          "output_type": "execute_result",
          "data": {
            "image/png": "[encoded data removed]",
            "text/plain": [
              "<IPython.core.display.Image object>"
            ]
          },
          "metadata": {
            "tags": []
          },
          "execution_count": 47
        }
      ]
    },
    {
      "cell_type": "code",
      "metadata": {
        "id": "yCgHfLwbz-rf"
      },
      "source": [
        "model.compile(optimizer=tf.keras.optimizers.SGD(learning_rate),loss=tf.keras.losses.BinaryCrossentropy())"
      ],
      "execution_count": 49,
      "outputs": []
    },
    {
      "cell_type": "code",
      "metadata": {
        "id": "PFF96WU8-N3v"
      },
      "source": [
        "model.set_weights([np.array([[5,-7],[5,-7]],np.float32),\r\n",
        "                   np.array([-8,3],np.float32),\r\n",
        "                   np.array([[-11],[-11]],np.float32),\r\n",
        "                   np.array([6],np.float32)])"
      ],
      "execution_count": 59,
      "outputs": []
    },
    {
      "cell_type": "code",
      "metadata": {
        "colab": {
          "base_uri": "https://localhost:8080/"
        },
        "id": "YyN_nq9B0jVs",
        "outputId": "4d066ad4-96c4-4f42-dcf2-cf14164a7646"
      },
      "source": [
        "# learning\r\n",
        "model.fit(x_data,y_data,epochs=10000,verbose=0)"
      ],
      "execution_count": 60,
      "outputs": [
        {
          "output_type": "execute_result",
          "data": {
            "text/plain": [
              "<tensorflow.python.keras.callbacks.History at 0x7fda89ad3b00>"
            ]
          },
          "metadata": {
            "tags": []
          },
          "execution_count": 60
        }
      ]
    },
    {
      "cell_type": "code",
      "metadata": {
        "colab": {
          "base_uri": "https://localhost:8080/"
        },
        "id": "tdIcGQTp0zJ3",
        "outputId": "fad7d091-d98f-4dba-cb8c-bc00ea5134ea"
      },
      "source": [
        "model.evaluate(x_data,y_data,verbose=1)"
      ],
      "execution_count": 61,
      "outputs": [
        {
          "output_type": "stream",
          "text": [
            "1/1 [==============================] - 0s 17ms/step - loss: 0.0081\n"
          ],
          "name": "stdout"
        },
        {
          "output_type": "execute_result",
          "data": {
            "text/plain": [
              "0.008052087388932705"
            ]
          },
          "metadata": {
            "tags": []
          },
          "execution_count": 61
        }
      ]
    },
    {
      "cell_type": "code",
      "metadata": {
        "colab": {
          "base_uri": "https://localhost:8080/"
        },
        "id": "ZueXaqec039g",
        "outputId": "17ff718c-3b38-4ef6-dd72-7b625f49b181"
      },
      "source": [
        "model.get_weights()"
      ],
      "execution_count": 62,
      "outputs": [
        {
          "output_type": "execute_result",
          "data": {
            "text/plain": [
              "[array([[ 5.1980057, -7.033653 ],\n",
              "        [ 5.1980057, -7.033653 ]], dtype=float32),\n",
              " array([-7.905911 ,  3.0396836], dtype=float32),\n",
              " array([[-11.282783],\n",
              "        [-11.200979]], dtype=float32),\n",
              " array([5.7877946], dtype=float32)]"
            ]
          },
          "metadata": {
            "tags": []
          },
          "execution_count": 62
        }
      ]
    },
    {
      "cell_type": "code",
      "metadata": {
        "colab": {
          "base_uri": "https://localhost:8080/"
        },
        "id": "43ecYWpC1ZpD",
        "outputId": "eeefb181-6080-4e06-b557-f70d16ee6218"
      },
      "source": [
        "y_data"
      ],
      "execution_count": 63,
      "outputs": [
        {
          "output_type": "execute_result",
          "data": {
            "text/plain": [
              "array([[0.],\n",
              "       [1.],\n",
              "       [1.],\n",
              "       [0.]], dtype=float32)"
            ]
          },
          "metadata": {
            "tags": []
          },
          "execution_count": 63
        }
      ]
    },
    {
      "cell_type": "code",
      "metadata": {
        "colab": {
          "base_uri": "https://localhost:8080/"
        },
        "id": "7v9DrqX01cy8",
        "outputId": "1ab3c688-1976-4e97-b2d4-2daf7983cca6"
      },
      "source": [
        "model.predict(x_data)"
      ],
      "execution_count": 64,
      "outputs": [
        {
          "output_type": "execute_result",
          "data": {
            "text/plain": [
              "array([[0.00734875],\n",
              "       [0.99245924],\n",
              "       [0.99245924],\n",
              "       [0.00964698]], dtype=float32)"
            ]
          },
          "metadata": {
            "tags": []
          },
          "execution_count": 64
        }
      ]
    },
    {
      "cell_type": "code",
      "metadata": {
        "id": "DyiTeFjn1y4S"
      },
      "source": [
        ""
      ],
      "execution_count": null,
      "outputs": []
    }
  ]
}