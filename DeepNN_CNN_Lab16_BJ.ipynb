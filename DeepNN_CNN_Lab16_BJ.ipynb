{
  "nbformat": 4,
  "nbformat_minor": 0,
  "metadata": {
    "colab": {
      "name": "DeepNN_CNN_Lab16_BJ.ipynb",
      "provenance": [],
      "authorship_tag": "ABX9TyPk84wD2wDMhugX5+0au08a",
      "include_colab_link": true
    },
    "kernelspec": {
      "name": "python3",
      "display_name": "Python 3"
    }
  },
  "cells": [
    {
      "cell_type": "markdown",
      "metadata": {
        "id": "view-in-github",
        "colab_type": "text"
      },
      "source": [
        "<a href=\"https://colab.research.google.com/github/cchio74/forgemaster/blob/master/DeepNN_CNN_Lab16_BJ.ipynb\" target=\"_parent\"><img src=\"https://colab.research.google.com/assets/colab-badge.svg\" alt=\"Open In Colab\"/></a>"
      ]
    },
    {
      "cell_type": "code",
      "metadata": {
        "id": "nlD3Nc31uwB-"
      },
      "source": [
        "import tensorflow as tf\r\n",
        "import matplotlib.pyplot as plt"
      ],
      "execution_count": 12,
      "outputs": []
    },
    {
      "cell_type": "markdown",
      "metadata": {
        "id": "4kzkP02CvBlC"
      },
      "source": [
        "@ dataset"
      ]
    },
    {
      "cell_type": "code",
      "metadata": {
        "id": "97Q1u0gxu9Vx"
      },
      "source": [
        "mnist=tf.keras.datasets.mnist"
      ],
      "execution_count": 13,
      "outputs": []
    },
    {
      "cell_type": "code",
      "metadata": {
        "id": "zVHhsQm8vF_R"
      },
      "source": [
        "(x_train,y_train),(x_test,y_test)=mnist.load_data()"
      ],
      "execution_count": 14,
      "outputs": []
    },
    {
      "cell_type": "code",
      "metadata": {
        "colab": {
          "base_uri": "https://localhost:8080/"
        },
        "id": "68TRuC6RvK1X",
        "outputId": "a332e6ab-e70b-48b2-ae24-91ef88e4bd4d"
      },
      "source": [
        "x_train.shape"
      ],
      "execution_count": 15,
      "outputs": [
        {
          "output_type": "execute_result",
          "data": {
            "text/plain": [
              "(60000, 28, 28)"
            ]
          },
          "metadata": {
            "tags": []
          },
          "execution_count": 15
        }
      ]
    },
    {
      "cell_type": "code",
      "metadata": {
        "colab": {
          "base_uri": "https://localhost:8080/"
        },
        "id": "u9fw1Cp1vqrx",
        "outputId": "4c6d82c8-6f72-485a-8cf1-dd0810588a77"
      },
      "source": [
        "x_test.shape"
      ],
      "execution_count": 16,
      "outputs": [
        {
          "output_type": "execute_result",
          "data": {
            "text/plain": [
              "(10000, 28, 28)"
            ]
          },
          "metadata": {
            "tags": []
          },
          "execution_count": 16
        }
      ]
    },
    {
      "cell_type": "code",
      "metadata": {
        "colab": {
          "base_uri": "https://localhost:8080/"
        },
        "id": "Y411OxadvtSx",
        "outputId": "6aa17848-eb6f-44ef-ba52-89c7807ec12e"
      },
      "source": [
        "y_train.shape"
      ],
      "execution_count": 17,
      "outputs": [
        {
          "output_type": "execute_result",
          "data": {
            "text/plain": [
              "(60000,)"
            ]
          },
          "metadata": {
            "tags": []
          },
          "execution_count": 17
        }
      ]
    },
    {
      "cell_type": "code",
      "metadata": {
        "colab": {
          "base_uri": "https://localhost:8080/"
        },
        "id": "SRCZkjM6vvQZ",
        "outputId": "6dcabe85-29c8-4b32-897e-3cd6f2d3b623"
      },
      "source": [
        "y_test.shape"
      ],
      "execution_count": 18,
      "outputs": [
        {
          "output_type": "execute_result",
          "data": {
            "text/plain": [
              "(10000,)"
            ]
          },
          "metadata": {
            "tags": []
          },
          "execution_count": 18
        }
      ]
    },
    {
      "cell_type": "code",
      "metadata": {
        "id": "bilzBmrdxBRY"
      },
      "source": [
        "x_train=x_train/255.0\r\n",
        "x_test=x_test/255.0"
      ],
      "execution_count": 19,
      "outputs": []
    },
    {
      "cell_type": "code",
      "metadata": {
        "colab": {
          "base_uri": "https://localhost:8080/"
        },
        "id": "do2FU7_lxRcv",
        "outputId": "ceaf7b13-694a-4883-bc8d-8f83c110f921"
      },
      "source": [
        "x_train[0]"
      ],
      "execution_count": 20,
      "outputs": [
        {
          "output_type": "execute_result",
          "data": {
            "text/plain": [
              "array([[0.        , 0.        , 0.        , 0.        , 0.        ,\n",
              "        0.        , 0.        , 0.        , 0.        , 0.        ,\n",
              "        0.        , 0.        , 0.        , 0.        , 0.        ,\n",
              "        0.        , 0.        , 0.        , 0.        , 0.        ,\n",
              "        0.        , 0.        , 0.        , 0.        , 0.        ,\n",
              "        0.        , 0.        , 0.        ],\n",
              "       [0.        , 0.        , 0.        , 0.        , 0.        ,\n",
              "        0.        , 0.        , 0.        , 0.        , 0.        ,\n",
              "        0.        , 0.        , 0.        , 0.        , 0.        ,\n",
              "        0.        , 0.        , 0.        , 0.        , 0.        ,\n",
              "        0.        , 0.        , 0.        , 0.        , 0.        ,\n",
              "        0.        , 0.        , 0.        ],\n",
              "       [0.        , 0.        , 0.        , 0.        , 0.        ,\n",
              "        0.        , 0.        , 0.        , 0.        , 0.        ,\n",
              "        0.        , 0.        , 0.        , 0.        , 0.        ,\n",
              "        0.        , 0.        , 0.        , 0.        , 0.        ,\n",
              "        0.        , 0.        , 0.        , 0.        , 0.        ,\n",
              "        0.        , 0.        , 0.        ],\n",
              "       [0.        , 0.        , 0.        , 0.        , 0.        ,\n",
              "        0.        , 0.        , 0.        , 0.        , 0.        ,\n",
              "        0.        , 0.        , 0.        , 0.        , 0.        ,\n",
              "        0.        , 0.        , 0.        , 0.        , 0.        ,\n",
              "        0.        , 0.        , 0.        , 0.        , 0.        ,\n",
              "        0.        , 0.        , 0.        ],\n",
              "       [0.        , 0.        , 0.        , 0.        , 0.        ,\n",
              "        0.        , 0.        , 0.        , 0.        , 0.        ,\n",
              "        0.        , 0.        , 0.        , 0.        , 0.        ,\n",
              "        0.        , 0.        , 0.        , 0.        , 0.        ,\n",
              "        0.        , 0.        , 0.        , 0.        , 0.        ,\n",
              "        0.        , 0.        , 0.        ],\n",
              "       [0.        , 0.        , 0.        , 0.        , 0.        ,\n",
              "        0.        , 0.        , 0.        , 0.        , 0.        ,\n",
              "        0.        , 0.        , 0.01176471, 0.07058824, 0.07058824,\n",
              "        0.07058824, 0.49411765, 0.53333333, 0.68627451, 0.10196078,\n",
              "        0.65098039, 1.        , 0.96862745, 0.49803922, 0.        ,\n",
              "        0.        , 0.        , 0.        ],\n",
              "       [0.        , 0.        , 0.        , 0.        , 0.        ,\n",
              "        0.        , 0.        , 0.        , 0.11764706, 0.14117647,\n",
              "        0.36862745, 0.60392157, 0.66666667, 0.99215686, 0.99215686,\n",
              "        0.99215686, 0.99215686, 0.99215686, 0.88235294, 0.6745098 ,\n",
              "        0.99215686, 0.94901961, 0.76470588, 0.25098039, 0.        ,\n",
              "        0.        , 0.        , 0.        ],\n",
              "       [0.        , 0.        , 0.        , 0.        , 0.        ,\n",
              "        0.        , 0.        , 0.19215686, 0.93333333, 0.99215686,\n",
              "        0.99215686, 0.99215686, 0.99215686, 0.99215686, 0.99215686,\n",
              "        0.99215686, 0.99215686, 0.98431373, 0.36470588, 0.32156863,\n",
              "        0.32156863, 0.21960784, 0.15294118, 0.        , 0.        ,\n",
              "        0.        , 0.        , 0.        ],\n",
              "       [0.        , 0.        , 0.        , 0.        , 0.        ,\n",
              "        0.        , 0.        , 0.07058824, 0.85882353, 0.99215686,\n",
              "        0.99215686, 0.99215686, 0.99215686, 0.99215686, 0.77647059,\n",
              "        0.71372549, 0.96862745, 0.94509804, 0.        , 0.        ,\n",
              "        0.        , 0.        , 0.        , 0.        , 0.        ,\n",
              "        0.        , 0.        , 0.        ],\n",
              "       [0.        , 0.        , 0.        , 0.        , 0.        ,\n",
              "        0.        , 0.        , 0.        , 0.31372549, 0.61176471,\n",
              "        0.41960784, 0.99215686, 0.99215686, 0.80392157, 0.04313725,\n",
              "        0.        , 0.16862745, 0.60392157, 0.        , 0.        ,\n",
              "        0.        , 0.        , 0.        , 0.        , 0.        ,\n",
              "        0.        , 0.        , 0.        ],\n",
              "       [0.        , 0.        , 0.        , 0.        , 0.        ,\n",
              "        0.        , 0.        , 0.        , 0.        , 0.05490196,\n",
              "        0.00392157, 0.60392157, 0.99215686, 0.35294118, 0.        ,\n",
              "        0.        , 0.        , 0.        , 0.        , 0.        ,\n",
              "        0.        , 0.        , 0.        , 0.        , 0.        ,\n",
              "        0.        , 0.        , 0.        ],\n",
              "       [0.        , 0.        , 0.        , 0.        , 0.        ,\n",
              "        0.        , 0.        , 0.        , 0.        , 0.        ,\n",
              "        0.        , 0.54509804, 0.99215686, 0.74509804, 0.00784314,\n",
              "        0.        , 0.        , 0.        , 0.        , 0.        ,\n",
              "        0.        , 0.        , 0.        , 0.        , 0.        ,\n",
              "        0.        , 0.        , 0.        ],\n",
              "       [0.        , 0.        , 0.        , 0.        , 0.        ,\n",
              "        0.        , 0.        , 0.        , 0.        , 0.        ,\n",
              "        0.        , 0.04313725, 0.74509804, 0.99215686, 0.2745098 ,\n",
              "        0.        , 0.        , 0.        , 0.        , 0.        ,\n",
              "        0.        , 0.        , 0.        , 0.        , 0.        ,\n",
              "        0.        , 0.        , 0.        ],\n",
              "       [0.        , 0.        , 0.        , 0.        , 0.        ,\n",
              "        0.        , 0.        , 0.        , 0.        , 0.        ,\n",
              "        0.        , 0.        , 0.1372549 , 0.94509804, 0.88235294,\n",
              "        0.62745098, 0.42352941, 0.00392157, 0.        , 0.        ,\n",
              "        0.        , 0.        , 0.        , 0.        , 0.        ,\n",
              "        0.        , 0.        , 0.        ],\n",
              "       [0.        , 0.        , 0.        , 0.        , 0.        ,\n",
              "        0.        , 0.        , 0.        , 0.        , 0.        ,\n",
              "        0.        , 0.        , 0.        , 0.31764706, 0.94117647,\n",
              "        0.99215686, 0.99215686, 0.46666667, 0.09803922, 0.        ,\n",
              "        0.        , 0.        , 0.        , 0.        , 0.        ,\n",
              "        0.        , 0.        , 0.        ],\n",
              "       [0.        , 0.        , 0.        , 0.        , 0.        ,\n",
              "        0.        , 0.        , 0.        , 0.        , 0.        ,\n",
              "        0.        , 0.        , 0.        , 0.        , 0.17647059,\n",
              "        0.72941176, 0.99215686, 0.99215686, 0.58823529, 0.10588235,\n",
              "        0.        , 0.        , 0.        , 0.        , 0.        ,\n",
              "        0.        , 0.        , 0.        ],\n",
              "       [0.        , 0.        , 0.        , 0.        , 0.        ,\n",
              "        0.        , 0.        , 0.        , 0.        , 0.        ,\n",
              "        0.        , 0.        , 0.        , 0.        , 0.        ,\n",
              "        0.0627451 , 0.36470588, 0.98823529, 0.99215686, 0.73333333,\n",
              "        0.        , 0.        , 0.        , 0.        , 0.        ,\n",
              "        0.        , 0.        , 0.        ],\n",
              "       [0.        , 0.        , 0.        , 0.        , 0.        ,\n",
              "        0.        , 0.        , 0.        , 0.        , 0.        ,\n",
              "        0.        , 0.        , 0.        , 0.        , 0.        ,\n",
              "        0.        , 0.        , 0.97647059, 0.99215686, 0.97647059,\n",
              "        0.25098039, 0.        , 0.        , 0.        , 0.        ,\n",
              "        0.        , 0.        , 0.        ],\n",
              "       [0.        , 0.        , 0.        , 0.        , 0.        ,\n",
              "        0.        , 0.        , 0.        , 0.        , 0.        ,\n",
              "        0.        , 0.        , 0.        , 0.        , 0.18039216,\n",
              "        0.50980392, 0.71764706, 0.99215686, 0.99215686, 0.81176471,\n",
              "        0.00784314, 0.        , 0.        , 0.        , 0.        ,\n",
              "        0.        , 0.        , 0.        ],\n",
              "       [0.        , 0.        , 0.        , 0.        , 0.        ,\n",
              "        0.        , 0.        , 0.        , 0.        , 0.        ,\n",
              "        0.        , 0.        , 0.15294118, 0.58039216, 0.89803922,\n",
              "        0.99215686, 0.99215686, 0.99215686, 0.98039216, 0.71372549,\n",
              "        0.        , 0.        , 0.        , 0.        , 0.        ,\n",
              "        0.        , 0.        , 0.        ],\n",
              "       [0.        , 0.        , 0.        , 0.        , 0.        ,\n",
              "        0.        , 0.        , 0.        , 0.        , 0.        ,\n",
              "        0.09411765, 0.44705882, 0.86666667, 0.99215686, 0.99215686,\n",
              "        0.99215686, 0.99215686, 0.78823529, 0.30588235, 0.        ,\n",
              "        0.        , 0.        , 0.        , 0.        , 0.        ,\n",
              "        0.        , 0.        , 0.        ],\n",
              "       [0.        , 0.        , 0.        , 0.        , 0.        ,\n",
              "        0.        , 0.        , 0.        , 0.09019608, 0.25882353,\n",
              "        0.83529412, 0.99215686, 0.99215686, 0.99215686, 0.99215686,\n",
              "        0.77647059, 0.31764706, 0.00784314, 0.        , 0.        ,\n",
              "        0.        , 0.        , 0.        , 0.        , 0.        ,\n",
              "        0.        , 0.        , 0.        ],\n",
              "       [0.        , 0.        , 0.        , 0.        , 0.        ,\n",
              "        0.        , 0.07058824, 0.67058824, 0.85882353, 0.99215686,\n",
              "        0.99215686, 0.99215686, 0.99215686, 0.76470588, 0.31372549,\n",
              "        0.03529412, 0.        , 0.        , 0.        , 0.        ,\n",
              "        0.        , 0.        , 0.        , 0.        , 0.        ,\n",
              "        0.        , 0.        , 0.        ],\n",
              "       [0.        , 0.        , 0.        , 0.        , 0.21568627,\n",
              "        0.6745098 , 0.88627451, 0.99215686, 0.99215686, 0.99215686,\n",
              "        0.99215686, 0.95686275, 0.52156863, 0.04313725, 0.        ,\n",
              "        0.        , 0.        , 0.        , 0.        , 0.        ,\n",
              "        0.        , 0.        , 0.        , 0.        , 0.        ,\n",
              "        0.        , 0.        , 0.        ],\n",
              "       [0.        , 0.        , 0.        , 0.        , 0.53333333,\n",
              "        0.99215686, 0.99215686, 0.99215686, 0.83137255, 0.52941176,\n",
              "        0.51764706, 0.0627451 , 0.        , 0.        , 0.        ,\n",
              "        0.        , 0.        , 0.        , 0.        , 0.        ,\n",
              "        0.        , 0.        , 0.        , 0.        , 0.        ,\n",
              "        0.        , 0.        , 0.        ],\n",
              "       [0.        , 0.        , 0.        , 0.        , 0.        ,\n",
              "        0.        , 0.        , 0.        , 0.        , 0.        ,\n",
              "        0.        , 0.        , 0.        , 0.        , 0.        ,\n",
              "        0.        , 0.        , 0.        , 0.        , 0.        ,\n",
              "        0.        , 0.        , 0.        , 0.        , 0.        ,\n",
              "        0.        , 0.        , 0.        ],\n",
              "       [0.        , 0.        , 0.        , 0.        , 0.        ,\n",
              "        0.        , 0.        , 0.        , 0.        , 0.        ,\n",
              "        0.        , 0.        , 0.        , 0.        , 0.        ,\n",
              "        0.        , 0.        , 0.        , 0.        , 0.        ,\n",
              "        0.        , 0.        , 0.        , 0.        , 0.        ,\n",
              "        0.        , 0.        , 0.        ],\n",
              "       [0.        , 0.        , 0.        , 0.        , 0.        ,\n",
              "        0.        , 0.        , 0.        , 0.        , 0.        ,\n",
              "        0.        , 0.        , 0.        , 0.        , 0.        ,\n",
              "        0.        , 0.        , 0.        , 0.        , 0.        ,\n",
              "        0.        , 0.        , 0.        , 0.        , 0.        ,\n",
              "        0.        , 0.        , 0.        ]])"
            ]
          },
          "metadata": {
            "tags": []
          },
          "execution_count": 20
        }
      ]
    },
    {
      "cell_type": "code",
      "metadata": {
        "colab": {
          "base_uri": "https://localhost:8080/",
          "height": 297
        },
        "id": "gUV1akOgvxUt",
        "outputId": "66822993-cd0e-4fbf-fe44-55a35dcf8b6f"
      },
      "source": [
        "i=59993\r\n",
        "plt.imshow(x_train[i],cmap=plt.cm.binary)\r\n",
        "plt.xlabel(y_train[i])\r\n",
        "plt.show"
      ],
      "execution_count": 21,
      "outputs": [
        {
          "output_type": "execute_result",
          "data": {
            "text/plain": [
              "<function matplotlib.pyplot.show>"
            ]
          },
          "metadata": {
            "tags": []
          },
          "execution_count": 21
        },
        {
          "output_type": "display_data",
          "data": {
            "image/png": "[encoded data removed]",
            "text/plain": [
              "<Figure size 432x288 with 1 Axes>"
            ]
          },
          "metadata": {
            "tags": [],
            "needs_background": "light"
          }
        }
      ]
    },
    {
      "cell_type": "code",
      "metadata": {
        "colab": {
          "base_uri": "https://localhost:8080/"
        },
        "id": "-PCkGpgUwwg7",
        "outputId": "b15ac05d-73b9-4d85-af40-3d1024dcaa07"
      },
      "source": [
        "y_train[0]"
      ],
      "execution_count": 22,
      "outputs": [
        {
          "output_type": "execute_result",
          "data": {
            "text/plain": [
              "5"
            ]
          },
          "metadata": {
            "tags": []
          },
          "execution_count": 22
        }
      ]
    },
    {
      "cell_type": "markdown",
      "metadata": {
        "id": "7w83xUMQyk9x"
      },
      "source": [
        "#Sequential"
      ]
    },
    {
      "cell_type": "code",
      "metadata": {
        "colab": {
          "base_uri": "https://localhost:8080/"
        },
        "id": "etWR6k9A_CgU",
        "outputId": "7b4c0d69-b280-4567-ff62-872727b43e1f"
      },
      "source": [
        "x_train=x_train.reshape(-1,28,28,1)\r\n",
        "x_test=x_test.reshape(-1,28,28,1)\r\n",
        "print(x_train.shape,x_test.shape)"
      ],
      "execution_count": 54,
      "outputs": [
        {
          "output_type": "stream",
          "text": [
            "(60000, 28, 28, 1) (10000, 28, 28, 1)\n"
          ],
          "name": "stdout"
        }
      ]
    },
    {
      "cell_type": "code",
      "metadata": {
        "id": "Bnunv7Xg0GSb"
      },
      "source": [
        "initializer=tf.keras.initializers.HeNormal()"
      ],
      "execution_count": 55,
      "outputs": []
    },
    {
      "cell_type": "code",
      "metadata": {
        "id": "ADVfmbbk4bW8"
      },
      "source": [
        "activation=tf.keras.activations.relu"
      ],
      "execution_count": 56,
      "outputs": []
    },
    {
      "cell_type": "code",
      "metadata": {
        "id": "W9ycUG6Y-j2j"
      },
      "source": [
        "learning_rate=1e-2"
      ],
      "execution_count": 57,
      "outputs": []
    },
    {
      "cell_type": "code",
      "metadata": {
        "id": "5f_YPhgyxgJE"
      },
      "source": [
        "model=tf.keras.models.Sequential()\r\n",
        "model.add(tf.keras.layers.Conv2D(6,5,activation=activation,kernel_initializer=initializer,input_shape=(28,28,1))) #input shape 안넣어줘도 모델은 돌아간다. 하지만 summary가 안됨.\r\n",
        "model.add(tf.keras.layers.MaxPooling2D())\r\n",
        "model.add(tf.keras.layers.Conv2D(16,3,activation=activation,kernel_initializer=initializer))\r\n",
        "model.add(tf.keras.layers.MaxPooling2D())\r\n",
        "\r\n",
        "model.add(tf.keras.layers.Flatten()) # Flatten 한줄로 줄세우기\r\n",
        "\r\n",
        "model.add(tf.keras.layers.Dense(120,activation=activation,kernel_initializer=initializer)) # Hidden layer\r\n",
        "model.add(tf.keras.layers.Dense(84,activation=activation,kernel_initializer=initializer)) # Hidden layer\r\n",
        "\r\n",
        "#model.add(tf.keras.layers.Dropout(0.5))\r\n",
        "\r\n",
        "model.add(tf.keras.layers.Dense(10,activation='softmax',kernel_initializer=initializer)) # Output(숫자 10개)"
      ],
      "execution_count": 63,
      "outputs": []
    },
    {
      "cell_type": "code",
      "metadata": {
        "colab": {
          "base_uri": "https://localhost:8080/",
          "height": 1000
        },
        "id": "0UA_QaDMy3Bz",
        "outputId": "741f294e-a529-4600-fc61-6fedde72c213"
      },
      "source": [
        "model.summary()\r\n",
        "tf.keras.utils.plot_model(model,show_shapes='true')"
      ],
      "execution_count": 64,
      "outputs": [
        {
          "output_type": "stream",
          "text": [
            "Model: \"sequential_4\"\n",
            "_________________________________________________________________\n",
            "Layer (type)                 Output Shape              Param #   \n",
            "=================================================================\n",
            "conv2d_1 (Conv2D)            (None, 24, 24, 6)         156       \n",
            "_________________________________________________________________\n",
            "max_pooling2d_1 (MaxPooling2 (None, 12, 12, 6)         0         \n",
            "_________________________________________________________________\n",
            "conv2d_2 (Conv2D)            (None, 10, 10, 16)        880       \n",
            "_________________________________________________________________\n",
            "max_pooling2d_2 (MaxPooling2 (None, 5, 5, 16)          0         \n",
            "_________________________________________________________________\n",
            "flatten_4 (Flatten)          (None, 400)               0         \n",
            "_________________________________________________________________\n",
            "dense_18 (Dense)             (None, 120)               48120     \n",
            "_________________________________________________________________\n",
            "dense_19 (Dense)             (None, 84)                10164     \n",
            "_________________________________________________________________\n",
            "dense_20 (Dense)             (None, 10)                850       \n",
            "=================================================================\n",
            "Total params: 60,170\n",
            "Trainable params: 60,170\n",
            "Non-trainable params: 0\n",
            "_________________________________________________________________\n"
          ],
          "name": "stdout"
        },
        {
          "output_type": "execute_result",
          "data": {
            "image/png": "[encoded data removed]",
            "text/plain": [
              "<IPython.core.display.Image object>"
            ]
          },
          "metadata": {
            "tags": []
          },
          "execution_count": 64
        }
      ]
    },
    {
      "cell_type": "code",
      "metadata": {
        "id": "wbw12nXZ07hr"
      },
      "source": [
        "model.compile(optimizer=tf.keras.optimizers.Adam(learning_rate=learning_rate),\r\n",
        "              loss=tf.keras.losses.SparseCategoricalCrossentropy(), # Onehot 인코딩을 안했으면 Sparse를 써야함\r\n",
        "              metrics=tf.keras.metrics.SparseCategoricalAccuracy())"
      ],
      "execution_count": 65,
      "outputs": []
    },
    {
      "cell_type": "code",
      "metadata": {
        "colab": {
          "base_uri": "https://localhost:8080/"
        },
        "id": "2Ak8_mTE4p7e",
        "outputId": "33cb6304-4c63-43fa-e526-714c8fd3ba49"
      },
      "source": [
        "for i in range(5):\r\n",
        "  print('epochs=',i)\r\n",
        "  model.fit(x_train,y_train,batch_size=128,epochs=1) # 32개로 나누어서 60000개 계산\r\n",
        "  model.evaluate(x_test,y_test)\r\n",
        " "
      ],
      "execution_count": 67,
      "outputs": [
        {
          "output_type": "stream",
          "text": [
            "epochs= 0\n",
            "469/469 [==============================] - 20s 42ms/step - loss: 0.0525 - sparse_categorical_accuracy: 0.9850\n",
            "313/313 [==============================] - 2s 7ms/step - loss: 0.0704 - sparse_categorical_accuracy: 0.9825\n",
            "epochs= 1\n",
            "469/469 [==============================] - 20s 42ms/step - loss: 0.0437 - sparse_categorical_accuracy: 0.9873\n",
            "313/313 [==============================] - 2s 7ms/step - loss: 0.0848 - sparse_categorical_accuracy: 0.9766\n",
            "epochs= 2\n",
            "469/469 [==============================] - 20s 42ms/step - loss: 0.0455 - sparse_categorical_accuracy: 0.9867\n",
            "313/313 [==============================] - 2s 7ms/step - loss: 0.0676 - sparse_categorical_accuracy: 0.9811\n",
            "epochs= 3\n",
            "469/469 [==============================] - 20s 42ms/step - loss: 0.0468 - sparse_categorical_accuracy: 0.9867\n",
            "313/313 [==============================] - 2s 7ms/step - loss: 0.0746 - sparse_categorical_accuracy: 0.9810\n",
            "epochs= 4\n",
            "469/469 [==============================] - 20s 42ms/step - loss: 0.0466 - sparse_categorical_accuracy: 0.9869\n",
            "313/313 [==============================] - 2s 7ms/step - loss: 0.0683 - sparse_categorical_accuracy: 0.9825\n"
          ],
          "name": "stdout"
        }
      ]
    },
    {
      "cell_type": "code",
      "metadata": {
        "id": "yYSsBG4U6lgq",
        "colab": {
          "base_uri": "https://localhost:8080/"
        },
        "outputId": "74879c10-c616-43cf-ae24-559515081b65"
      },
      "source": [
        "model.weights"
      ],
      "execution_count": 37,
      "outputs": [
        {
          "output_type": "execute_result",
          "data": {
            "text/plain": [
              "[<tf.Variable 'dense_5/kernel:0' shape=(784, 128) dtype=float32, numpy=\n",
              " array([[-0.01079577, -0.06482558, -0.05058624, ..., -0.03827087,\n",
              "          0.00480539, -0.06795745],\n",
              "        [ 0.00967001, -0.01139664, -0.05134663, ...,  0.02935198,\n",
              "         -0.00965731,  0.02207474],\n",
              "        [ 0.06510058,  0.0277235 , -0.10201017, ...,  0.03939245,\n",
              "          0.02264403, -0.10760543],\n",
              "        ...,\n",
              "        [-0.01181575, -0.05022551,  0.07171816, ..., -0.02518201,\n",
              "          0.00049392, -0.0796885 ],\n",
              "        [ 0.00375314,  0.04094702, -0.0092824 , ...,  0.01425047,\n",
              "         -0.08480396, -0.01925617],\n",
              "        [ 0.04364299, -0.04207112, -0.00505229, ..., -0.01509686,\n",
              "          0.10194936, -0.00855185]], dtype=float32)>,\n",
              " <tf.Variable 'dense_5/bias:0' shape=(128,) dtype=float32, numpy=\n",
              " array([ 0.02632865,  0.11689953, -0.06004053, -0.04785742, -0.08455548,\n",
              "        -0.08886626, -0.14612332, -0.06781596, -0.03434991, -0.02095468,\n",
              "        -0.096549  , -0.06621826,  0.03879501, -0.06134155, -0.088866  ,\n",
              "        -0.02931492, -0.05517889, -0.1031339 , -0.07295366, -0.08601041,\n",
              "        -0.02599303, -0.05840219, -0.06003629, -0.06003896, -0.18967175,\n",
              "        -0.18373358, -0.06004953, -0.06004886,  0.05105724, -0.03088402,\n",
              "        -0.10071917,  0.07820416, -0.05917525, -0.13120365, -0.21455055,\n",
              "        -0.09686656, -0.20342585,  0.03402872, -0.08398466, -0.06958203,\n",
              "        -0.12665866, -0.11208346, -0.06980412,  0.12247109, -0.06540328,\n",
              "        -0.07459921,  0.01070596,  0.05426738, -0.04532009, -0.06609132,\n",
              "         0.00336375, -0.07162589, -0.04515863, -0.06011895, -0.05517779,\n",
              "        -0.08401414, -0.06004799, -0.04659468, -0.1200937 , -0.01435516,\n",
              "        -0.0398293 , -0.06345996, -0.18090959,  0.05227971, -0.06071039,\n",
              "        -0.05654093, -0.01514221,  0.05993479, -0.05271204,  0.00710279,\n",
              "         0.0741849 , -0.04600953, -0.10953818, -0.05354762, -0.03905902,\n",
              "         0.02026906, -0.0865832 , -0.05939159,  0.00509343, -0.0878522 ,\n",
              "        -0.04174411, -0.0634265 ,  0.10587118, -0.07560298, -0.06015857,\n",
              "        -0.08906659, -0.14680639, -0.0610035 ,  0.00059373, -0.05774823,\n",
              "        -0.16577387, -0.08874436,  0.10529015, -0.06956282, -0.05940245,\n",
              "        -0.01693312,  0.07405322, -0.0402647 , -0.06003455, -0.03693924,\n",
              "         0.10595457, -0.07265875, -0.0611449 ,  0.05057907, -0.01764807,\n",
              "        -0.05244445, -0.17391463,  0.0961372 ,  0.00168526,  0.01220309,\n",
              "        -0.03742047, -0.06269504, -0.12099773, -0.07150318,  0.04116564,\n",
              "        -0.08630208,  0.0040985 , -0.08095888, -0.05208527, -0.09496734,\n",
              "        -0.18593496,  0.0858686 , -0.06224639, -0.06768206, -0.0684608 ,\n",
              "        -0.10136502,  0.03813395, -0.00937107], dtype=float32)>,\n",
              " <tf.Variable 'dense_6/kernel:0' shape=(128, 128) dtype=float32, numpy=\n",
              " array([[-0.11426028, -0.44086102, -0.4273668 , ..., -0.2748141 ,\n",
              "         -0.07675341, -0.22792323],\n",
              "        [-0.14598396, -0.33059645, -0.21578297, ..., -0.3790352 ,\n",
              "         -0.28045022,  0.2796181 ],\n",
              "        [-0.01201247,  0.11363472, -0.34136322, ..., -0.03045575,\n",
              "         -0.18455344,  0.13099258],\n",
              "        ...,\n",
              "        [-0.03766621, -0.10098618, -0.04266397, ...,  0.01393703,\n",
              "          0.04268251, -0.22338003],\n",
              "        [-0.03300259,  0.01944238, -0.31105235, ...,  0.00105983,\n",
              "         -0.00485882, -0.17827602],\n",
              "        [-0.38192493,  0.02990707, -0.23700866, ...,  0.07561407,\n",
              "         -0.2112147 , -0.03051419]], dtype=float32)>,\n",
              " <tf.Variable 'dense_6/bias:0' shape=(128,) dtype=float32, numpy=\n",
              " array([-0.17482424, -0.11406717, -0.17111252, -0.21495225, -0.12152077,\n",
              "         0.09765003, -0.02733153,  0.04345957, -0.1276646 , -0.1728319 ,\n",
              "        -0.04579071, -0.11536999, -0.07419623, -0.123267  , -0.18982351,\n",
              "        -0.09243357, -0.12035638,  0.10228359, -0.08754965, -0.20660345,\n",
              "        -0.15328239, -0.03279907,  0.01230183, -0.09016517, -0.17590216,\n",
              "         0.1039534 ,  0.02998033, -0.00915682, -0.13527207, -0.19482084,\n",
              "        -0.00419214,  0.02164629, -0.1073051 , -0.10074217, -0.1534409 ,\n",
              "        -0.05364054, -0.19353567, -0.07402468, -0.3193156 , -0.23188834,\n",
              "        -0.05809924, -0.14544398, -0.06236099, -0.1013313 , -0.10170266,\n",
              "        -0.04426138, -0.18169011, -0.07260105, -0.22916266, -0.21720216,\n",
              "        -0.09957809, -0.04865872, -0.03656833,  0.01156253, -0.1208993 ,\n",
              "        -0.12136806, -0.14649929, -0.08679458, -0.10976612,  0.15332542,\n",
              "        -0.10963816, -0.04061938, -0.05712396, -0.10985075, -0.11653204,\n",
              "         0.02228816, -0.12969525, -0.10727295, -0.15908042, -0.15233305,\n",
              "        -0.13930173, -0.12426084, -0.00322982, -0.13002554, -0.21002516,\n",
              "         0.09034482, -0.167541  , -0.07494942, -0.0819249 , -0.14483869,\n",
              "         0.03010299,  0.04939672, -0.16547662, -0.09987514, -0.08711385,\n",
              "         0.00521385, -0.18435787,  0.08756153, -0.05369993, -0.10211481,\n",
              "         0.01951508, -0.04946343,  0.035472  , -0.12697859, -0.20373818,\n",
              "        -0.10844558, -0.18164496,  0.06297816, -0.14319886, -0.1568042 ,\n",
              "        -0.12730145, -0.06158362, -0.0093466 , -0.07762571, -0.16688621,\n",
              "        -0.12742369, -0.17669724,  0.05341291, -0.04266841, -0.17748119,\n",
              "         0.01991624, -0.21294244, -0.13572794, -0.13823552, -0.08907912,\n",
              "        -0.10994931, -0.05263066, -0.10903122, -0.02667775, -0.1650821 ,\n",
              "        -0.07900465, -0.05006323, -0.07467106, -0.01128305, -0.17059752,\n",
              "        -0.03671123, -0.21368526, -0.10657895], dtype=float32)>,\n",
              " <tf.Variable 'dense_7/kernel:0' shape=(128, 128) dtype=float32, numpy=\n",
              " array([[-0.16250345,  0.39611423,  0.16443825, ...,  0.00418963,\n",
              "          0.2716404 ,  0.03030669],\n",
              "        [-0.01619585, -0.19202392, -0.00529189, ...,  0.23339702,\n",
              "         -0.03546312,  0.06594548],\n",
              "        [-0.06806868, -0.20160773, -0.08183198, ...,  0.06228087,\n",
              "         -0.19149563, -0.04319301],\n",
              "        ...,\n",
              "        [-0.305117  ,  0.01030302, -0.19016637, ...,  0.21188085,\n",
              "         -0.02795547, -0.00554395],\n",
              "        [-0.19100808, -0.13142689, -0.11914548, ..., -0.12003276,\n",
              "         -0.19635585,  0.20716865],\n",
              "        [ 0.09781048, -0.00232718, -0.06833827, ...,  0.05817784,\n",
              "         -0.18860392, -0.03607614]], dtype=float32)>,\n",
              " <tf.Variable 'dense_7/bias:0' shape=(128,) dtype=float32, numpy=\n",
              " array([-0.0107754 , -0.35298306, -0.06753458, -0.09940813, -0.13648324,\n",
              "         0.09404892, -0.1009146 , -0.05966331,  0.01776673, -0.0935362 ,\n",
              "        -0.14405155, -0.15618293,  0.02600647, -0.16557086, -0.04792546,\n",
              "        -0.18156956,  0.07979676, -0.06453389, -0.0528729 , -0.14117622,\n",
              "        -0.15603836, -0.20326003, -0.13305166, -0.05000449, -0.18577142,\n",
              "        -0.1753043 , -0.0464338 , -0.187978  , -0.21209417, -0.12506932,\n",
              "        -0.12977043, -0.11255637, -0.1626745 , -0.13175288, -0.16398743,\n",
              "        -0.04039624, -0.15712371, -0.13629621, -0.21477783,  0.08584001,\n",
              "        -0.00702603, -0.07434425, -0.12135559, -0.15564768,  0.00721885,\n",
              "        -0.14170848, -0.13050273, -0.0970156 , -0.02428711, -0.1249638 ,\n",
              "        -0.1201014 , -0.00867551, -0.1753846 , -0.13701925, -0.11276747,\n",
              "        -0.06597269, -0.17219736, -0.08631033, -0.09830029, -0.11297864,\n",
              "         0.21680996, -0.05340309, -0.07605299, -0.00296008, -0.04132432,\n",
              "        -0.04295374,  0.02838838,  0.01408   , -0.11532698, -0.12441833,\n",
              "        -0.1465144 , -0.1448276 , -0.0643952 , -0.10929512, -0.2609957 ,\n",
              "        -0.00363214, -0.06252073,  0.21727549,  0.00933962, -0.0909595 ,\n",
              "        -0.18038948, -0.09544868, -0.03821852, -0.30514222, -0.14481433,\n",
              "        -0.04293479, -0.17968954, -0.15084969, -0.17786233, -0.18037243,\n",
              "        -0.01277848, -0.30076835, -0.10643742,  0.02233996, -0.05931227,\n",
              "        -0.18029138, -0.10692362, -0.06614639, -0.09959977, -0.04574029,\n",
              "        -0.10771123,  0.04790504, -0.15307786, -0.06915176, -0.07711601,\n",
              "        -0.09200718, -0.12241501, -0.18650532,  0.22772005,  0.00926148,\n",
              "        -0.21991478,  0.00388777, -0.16008557, -0.18623799, -0.07670304,\n",
              "        -0.06453931, -0.07688399, -0.08767379, -0.13797456,  0.07691091,\n",
              "        -0.11433387,  0.03240404, -0.19088991, -0.06786557, -0.08639719,\n",
              "        -0.01545427, -0.2121429 , -0.0985218 ], dtype=float32)>,\n",
              " <tf.Variable 'dense_8/kernel:0' shape=(128, 128) dtype=float32, numpy=\n",
              " array([[ 0.08521029,  0.0757752 ,  0.10956619, ...,  0.20028071,\n",
              "         -0.14572336, -0.13314685],\n",
              "        [ 0.28285488, -0.01710791,  0.44999412, ..., -0.13511665,\n",
              "         -0.02436399, -0.05487097],\n",
              "        [-0.04775484,  0.07133764,  0.06968625, ..., -0.2507476 ,\n",
              "         -0.09020238, -0.02717934],\n",
              "        ...,\n",
              "        [-0.23096375, -0.02210481,  0.31260085, ..., -0.17734587,\n",
              "         -0.192201  ,  0.04062932],\n",
              "        [ 0.31273913, -0.08505017, -0.07325333, ...,  0.08663691,\n",
              "          0.31335923, -0.17271832],\n",
              "        [-0.14404117, -0.04866423,  0.07324941, ...,  0.28568158,\n",
              "         -0.26227757,  0.0296391 ]], dtype=float32)>,\n",
              " <tf.Variable 'dense_8/bias:0' shape=(128,) dtype=float32, numpy=\n",
              " array([ 4.63440232e-02,  2.21521351e-02,  1.06266113e-02,  4.26522568e-02,\n",
              "        -7.76349232e-02, -2.48190109e-02,  3.56672779e-02, -1.39270961e-01,\n",
              "        -1.55088175e-02, -5.03310896e-02, -1.60145029e-01, -2.48006970e-01,\n",
              "         1.94541752e-01,  1.00731529e-01, -2.12427184e-01,  2.42020953e-02,\n",
              "         3.08737159e-02, -1.07530341e-01,  6.16462603e-02, -4.61347401e-02,\n",
              "        -5.28208762e-02, -1.35918036e-01, -2.99326219e-02,  3.81163415e-03,\n",
              "         9.65249538e-02, -7.80519918e-02, -1.03666838e-02,  2.16040984e-01,\n",
              "        -1.73722543e-02,  1.77378766e-02, -1.60486668e-01, -1.17352024e-01,\n",
              "        -9.22463387e-02, -1.45441473e-01, -1.39221782e-04, -3.88113149e-02,\n",
              "        -5.19193076e-02, -1.19111992e-01,  1.05721802e-01,  5.49487993e-02,\n",
              "         1.89339474e-01, -1.02223016e-01, -1.79411262e-01,  7.29440451e-02,\n",
              "        -2.35363662e-01, -2.94706300e-02, -6.81717023e-02, -1.39842585e-01,\n",
              "         2.51295000e-01, -7.92207271e-02,  6.71459967e-03, -4.62561667e-01,\n",
              "        -1.65064350e-01,  1.25377288e-03,  3.83593105e-02,  4.04365808e-02,\n",
              "        -1.31706506e-01, -6.51828200e-02, -5.83710372e-02, -1.78896170e-02,\n",
              "        -5.18803410e-02, -7.06786215e-02,  1.95463583e-01, -4.45708819e-02,\n",
              "        -8.28104690e-02,  7.74479732e-02, -5.44632226e-03, -6.53885379e-02,\n",
              "        -1.59748197e-01, -1.01854272e-01, -1.35773256e-01, -1.73340552e-02,\n",
              "        -6.34654015e-02,  5.85868619e-02, -1.72479495e-01, -1.46403953e-01,\n",
              "         3.09311319e-02, -5.36475964e-02, -1.59238294e-01, -1.48441926e-01,\n",
              "         2.54162289e-02, -5.30899949e-02, -1.34571597e-01, -4.84730257e-03,\n",
              "        -1.20162696e-01, -1.41026033e-02, -1.50159895e-01, -1.35552615e-01,\n",
              "         9.76844109e-04, -1.59325913e-01, -2.02661708e-01,  9.27265733e-02,\n",
              "        -1.44106641e-01,  2.17444271e-01, -1.52551696e-01,  1.40501976e-01,\n",
              "        -1.49541348e-01,  1.27434269e-01,  1.03787161e-01, -6.24372512e-02,\n",
              "         3.16477418e-02,  2.01252267e-01,  3.18552442e-02, -7.54246414e-02,\n",
              "         3.21416259e-02,  3.64711434e-02,  3.96996289e-02, -3.03152978e-01,\n",
              "         1.00380562e-01, -2.30275951e-02, -1.15603551e-01, -2.47533787e-02,\n",
              "        -1.89046711e-01, -8.19222406e-02, -1.10816047e-01, -7.37957433e-02,\n",
              "         3.04409582e-03,  2.47030184e-01,  4.80930991e-02, -1.03801593e-01,\n",
              "         8.45763236e-02, -1.83342144e-01, -1.46504447e-01,  1.23991698e-01,\n",
              "        -7.24422783e-02, -4.42307517e-02,  1.61501355e-02, -3.05887423e-02],\n",
              "       dtype=float32)>,\n",
              " <tf.Variable 'dense_9/kernel:0' shape=(128, 10) dtype=float32, numpy=\n",
              " array([[-0.20244381, -0.2095546 , -0.2531103 , ...,  0.12799056,\n",
              "         -0.1925058 ,  0.11046049],\n",
              "        [-0.14207518,  0.0491678 ,  0.17705758, ..., -0.03658675,\n",
              "          0.12145743, -0.27536303],\n",
              "        [-0.01045115,  0.3822957 , -0.15738203, ...,  0.09864426,\n",
              "          0.1878669 , -0.17854866],\n",
              "        ...,\n",
              "        [-0.07556473, -0.16086939, -0.05768874, ...,  0.05004122,\n",
              "         -0.13146971,  0.14297281],\n",
              "        [-0.297444  , -0.21000126, -0.14301439, ..., -0.20991485,\n",
              "          0.0112459 , -0.03323545],\n",
              "        [ 0.1436744 , -0.13187695, -0.03189088, ...,  0.01469718,\n",
              "         -0.01739421,  0.12891218]], dtype=float32)>,\n",
              " <tf.Variable 'dense_9/bias:0' shape=(10,) dtype=float32, numpy=\n",
              " array([-0.0773521 , -0.1667157 ,  0.02525696, -0.05035596,  0.03811148,\n",
              "         0.02810058, -0.11170921, -0.17623326,  0.28950566,  0.06703893],\n",
              "       dtype=float32)>]"
            ]
          },
          "metadata": {
            "tags": []
          },
          "execution_count": 37
        }
      ]
    },
    {
      "cell_type": "code",
      "metadata": {
        "id": "4nQfA_yb07Ys"
      },
      "source": [
        ""
      ],
      "execution_count": 37,
      "outputs": []
    }
  ]
}