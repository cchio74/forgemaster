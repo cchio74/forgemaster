{
  "nbformat": 4,
  "nbformat_minor": 0,
  "metadata": {
    "colab": {
      "name": "lab10_linear_regression_BJ.ipynb",
      "provenance": [],
      "toc_visible": true,
      "authorship_tag": "ABX9TyP9TFn59P4vwdTmYk4Lbk1U",
      "include_colab_link": true
    },
    "kernelspec": {
      "name": "python3",
      "display_name": "Python 3"
    },
    "accelerator": "GPU"
  },
  "cells": [
    {
      "cell_type": "markdown",
      "metadata": {
        "id": "view-in-github",
        "colab_type": "text"
      },
      "source": [
        "<a href=\"https://colab.research.google.com/github/cchio74/forgemaster/blob/master/lab10_linear_regression_BJ.ipynb\" target=\"_parent\"><img src=\"https://colab.research.google.com/assets/colab-badge.svg\" alt=\"Open In Colab\"/></a>"
      ]
    },
    {
      "cell_type": "code",
      "metadata": {
        "id": "UfXE8EA2aUlb"
      },
      "source": [
        "import tensorflow as tf\r\n",
        "import numpy as np"
      ],
      "execution_count": 1,
      "outputs": []
    },
    {
      "cell_type": "code",
      "metadata": {
        "colab": {
          "base_uri": "https://localhost:8080/",
          "height": 35
        },
        "id": "XCwhDBgUaneu",
        "outputId": "f5533ff1-8185-4fc0-b432-4caf0374d757"
      },
      "source": [
        "tf.__version__"
      ],
      "execution_count": 2,
      "outputs": [
        {
          "output_type": "execute_result",
          "data": {
            "application/vnd.google.colaboratory.intrinsic+json": {
              "type": "string"
            },
            "text/plain": [
              "'2.4.0'"
            ]
          },
          "metadata": {
            "tags": []
          },
          "execution_count": 2
        }
      ]
    },
    {
      "cell_type": "markdown",
      "metadata": {
        "id": "LZYDEQy8a5XO"
      },
      "source": [
        "# DATA"
      ]
    },
    {
      "cell_type": "code",
      "metadata": {
        "colab": {
          "base_uri": "https://localhost:8080/"
        },
        "id": "bZHtBdzJaqrh",
        "outputId": "fb3492d6-c93c-4236-9d90-b3ecbd2deb94"
      },
      "source": [
        "x_data=np.array([1,2,3,4,5],np.float32)\r\n",
        "x_data.shape"
      ],
      "execution_count": 3,
      "outputs": [
        {
          "output_type": "execute_result",
          "data": {
            "text/plain": [
              "(5,)"
            ]
          },
          "metadata": {
            "tags": []
          },
          "execution_count": 3
        }
      ]
    },
    {
      "cell_type": "code",
      "metadata": {
        "colab": {
          "base_uri": "https://localhost:8080/"
        },
        "id": "O96vFbngbAuu",
        "outputId": "58403310-ab88-42dc-d726-8f192ee64feb"
      },
      "source": [
        "y_data=np.array([1,2,3,4,5],np.float32)\r\n",
        "y_data.shape"
      ],
      "execution_count": 4,
      "outputs": [
        {
          "output_type": "execute_result",
          "data": {
            "text/plain": [
              "(5,)"
            ]
          },
          "metadata": {
            "tags": []
          },
          "execution_count": 4
        }
      ]
    },
    {
      "cell_type": "markdown",
      "metadata": {
        "id": "EYkpGkp5cPZM"
      },
      "source": [
        "# Linear regression"
      ]
    },
    {
      "cell_type": "code",
      "metadata": {
        "id": "D_5td80sbZAK"
      },
      "source": [
        "learning_rate=1e-2 "
      ],
      "execution_count": 5,
      "outputs": []
    },
    {
      "cell_type": "code",
      "metadata": {
        "colab": {
          "base_uri": "https://localhost:8080/"
        },
        "id": "WG5lQU9DcZ6s",
        "outputId": "06c29dd1-30cf-4fc3-a66c-bcd533558b60"
      },
      "source": [
        "w=tf.Variable([0],dtype='float32',name='weight')\r\n",
        "b=tf.Variable([0],dtype='float32',name='bias')\r\n",
        "w"
      ],
      "execution_count": 6,
      "outputs": [
        {
          "output_type": "execute_result",
          "data": {
            "text/plain": [
              "<tf.Variable 'weight:0' shape=(1,) dtype=float32, numpy=array([0.], dtype=float32)>"
            ]
          },
          "metadata": {
            "tags": []
          },
          "execution_count": 6
        }
      ]
    },
    {
      "cell_type": "code",
      "metadata": {
        "colab": {
          "base_uri": "https://localhost:8080/"
        },
        "id": "tpduabktg2DU",
        "outputId": "b9845512-6b7f-422f-c7b5-31a3bb67a972"
      },
      "source": [
        "b"
      ],
      "execution_count": 7,
      "outputs": [
        {
          "output_type": "execute_result",
          "data": {
            "text/plain": [
              "<tf.Variable 'bias:0' shape=(1,) dtype=float32, numpy=array([0.], dtype=float32)>"
            ]
          },
          "metadata": {
            "tags": []
          },
          "execution_count": 7
        }
      ]
    },
    {
      "cell_type": "code",
      "metadata": {
        "id": "GUU_2zISg3OW"
      },
      "source": [
        "hypothesis=x_data*w+b"
      ],
      "execution_count": 8,
      "outputs": []
    },
    {
      "cell_type": "code",
      "metadata": {
        "colab": {
          "base_uri": "https://localhost:8080/"
        },
        "id": "3-i9Z6z6hBFx",
        "outputId": "2849f989-d944-4557-f268-e8e2c96596f4"
      },
      "source": [
        "hypothesis"
      ],
      "execution_count": 9,
      "outputs": [
        {
          "output_type": "execute_result",
          "data": {
            "text/plain": [
              "<tf.Tensor: shape=(5,), dtype=float32, numpy=array([0., 0., 0., 0., 0.], dtype=float32)>"
            ]
          },
          "metadata": {
            "tags": []
          },
          "execution_count": 9
        }
      ]
    },
    {
      "cell_type": "code",
      "metadata": {
        "colab": {
          "base_uri": "https://localhost:8080/"
        },
        "id": "MDAAdWPohCX_",
        "outputId": "a48ee22d-d36a-42f8-e0e2-7574afa79c43"
      },
      "source": [
        "loss=tf.reduce_mean(tf.math.square(hypothesis-y_data))\r\n",
        "loss"
      ],
      "execution_count": 10,
      "outputs": [
        {
          "output_type": "execute_result",
          "data": {
            "text/plain": [
              "<tf.Tensor: shape=(), dtype=float32, numpy=11.0>"
            ]
          },
          "metadata": {
            "tags": []
          },
          "execution_count": 10
        }
      ]
    },
    {
      "cell_type": "code",
      "metadata": {
        "id": "S5tE0XEpheBy"
      },
      "source": [
        "with tf.GradientTape() as tape:\r\n",
        "  hypothesis=x_data*w+b\r\n",
        "  loss=tf.reduce_mean(tf.math.square(hypothesis-y_data))\r\n"
      ],
      "execution_count": 11,
      "outputs": []
    },
    {
      "cell_type": "code",
      "metadata": {
        "id": "41klmYcWkHaB"
      },
      "source": [
        "w_grad,b_grad=tape.gradient(loss,[w,b])"
      ],
      "execution_count": 12,
      "outputs": []
    },
    {
      "cell_type": "code",
      "metadata": {
        "colab": {
          "base_uri": "https://localhost:8080/"
        },
        "id": "xFvgf9CjlQ84",
        "outputId": "9c0b5965-3072-41e7-800b-0444624a122e"
      },
      "source": [
        "w_grad"
      ],
      "execution_count": 13,
      "outputs": [
        {
          "output_type": "execute_result",
          "data": {
            "text/plain": [
              "<tf.Tensor: shape=(1,), dtype=float32, numpy=array([-22.], dtype=float32)>"
            ]
          },
          "metadata": {
            "tags": []
          },
          "execution_count": 13
        }
      ]
    },
    {
      "cell_type": "code",
      "metadata": {
        "colab": {
          "base_uri": "https://localhost:8080/"
        },
        "id": "olcHvuzIlr20",
        "outputId": "996cb0ed-a005-4dbd-d511-cc9e340505dd"
      },
      "source": [
        "b_grad"
      ],
      "execution_count": 14,
      "outputs": [
        {
          "output_type": "execute_result",
          "data": {
            "text/plain": [
              "<tf.Tensor: shape=(1,), dtype=float32, numpy=array([-6.], dtype=float32)>"
            ]
          },
          "metadata": {
            "tags": []
          },
          "execution_count": 14
        }
      ]
    },
    {
      "cell_type": "code",
      "metadata": {
        "id": "sYp1vRQIlszR"
      },
      "source": [
        "w=w-learning_rate*w_grad"
      ],
      "execution_count": 15,
      "outputs": []
    },
    {
      "cell_type": "code",
      "metadata": {
        "id": "mion9oZHmINh"
      },
      "source": [
        "b=b-learning_rate*b_grad"
      ],
      "execution_count": 16,
      "outputs": []
    },
    {
      "cell_type": "code",
      "metadata": {
        "colab": {
          "base_uri": "https://localhost:8080/",
          "height": 241
        },
        "id": "kMVP8Zk9mR9H",
        "outputId": "54b9ae4d-0a3e-4175-9a39-a763fdb18921"
      },
      "source": [
        "for i in range(10):\r\n",
        "  with tf.GradientTape() as tape:\r\n",
        "    hypothesis=x_data*w+b\r\n",
        "    loss=tf.reduce_mean(tf.math.square(hypothesis-y_data))\r\n",
        " \r\n",
        "  w_grad,b_grad=tape.gradient(loss,[w,b])\r\n",
        "\r\n",
        "  w.assign_sub(learning_rate*w_grad)\r\n",
        "  b.assign_sub(learning_rate*b_grad)\r\n",
        "\r\n",
        "  print('{} {}'.format(i,loss))\r\n",
        "\r\n",
        "\r\n",
        "\r\n",
        "  "
      ],
      "execution_count": 17,
      "outputs": [
        {
          "output_type": "error",
          "ename": "AttributeError",
          "evalue": "ignored",
          "traceback": [
            "\u001b[0;31m---------------------------------------------------------------------------\u001b[0m",
            "\u001b[0;31mAttributeError\u001b[0m                            Traceback (most recent call last)",
            "\u001b[0;32m<ipython-input-17-83a5d54fbf41>\u001b[0m in \u001b[0;36m<module>\u001b[0;34m()\u001b[0m\n\u001b[1;32m      6\u001b[0m   \u001b[0mw_grad\u001b[0m\u001b[0;34m,\u001b[0m\u001b[0mb_grad\u001b[0m\u001b[0;34m=\u001b[0m\u001b[0mtape\u001b[0m\u001b[0;34m.\u001b[0m\u001b[0mgradient\u001b[0m\u001b[0;34m(\u001b[0m\u001b[0mloss\u001b[0m\u001b[0;34m,\u001b[0m\u001b[0;34m[\u001b[0m\u001b[0mw\u001b[0m\u001b[0;34m,\u001b[0m\u001b[0mb\u001b[0m\u001b[0;34m]\u001b[0m\u001b[0;34m)\u001b[0m\u001b[0;34m\u001b[0m\u001b[0;34m\u001b[0m\u001b[0m\n\u001b[1;32m      7\u001b[0m \u001b[0;34m\u001b[0m\u001b[0m\n\u001b[0;32m----> 8\u001b[0;31m   \u001b[0mw\u001b[0m\u001b[0;34m.\u001b[0m\u001b[0massign_sub\u001b[0m\u001b[0;34m(\u001b[0m\u001b[0mlearning_rate\u001b[0m\u001b[0;34m*\u001b[0m\u001b[0mw_grad\u001b[0m\u001b[0;34m)\u001b[0m\u001b[0;34m\u001b[0m\u001b[0;34m\u001b[0m\u001b[0m\n\u001b[0m\u001b[1;32m      9\u001b[0m   \u001b[0mb\u001b[0m\u001b[0;34m.\u001b[0m\u001b[0massign_sub\u001b[0m\u001b[0;34m(\u001b[0m\u001b[0mlearning_rate\u001b[0m\u001b[0;34m*\u001b[0m\u001b[0mb_grad\u001b[0m\u001b[0;34m)\u001b[0m\u001b[0;34m\u001b[0m\u001b[0;34m\u001b[0m\u001b[0m\n\u001b[1;32m     10\u001b[0m \u001b[0;34m\u001b[0m\u001b[0m\n",
            "\u001b[0;31mAttributeError\u001b[0m: 'tensorflow.python.framework.ops.EagerTensor' object has no attribute 'assign_sub'"
          ]
        }
      ]
    },
    {
      "cell_type": "code",
      "metadata": {
        "id": "4q6ZZn-0oiCS"
      },
      "source": [
        "model=tf.keras.Sequential()"
      ],
      "execution_count": null,
      "outputs": []
    },
    {
      "cell_type": "code",
      "metadata": {
        "id": "_oAQG3LesUPD"
      },
      "source": [
        "model.add(tf.keras.layers.Dense(1))"
      ],
      "execution_count": null,
      "outputs": []
    },
    {
      "cell_type": "code",
      "metadata": {
        "id": "Byt3OOHvscxj"
      },
      "source": [
        "model.compile(optimizer='SGD',loss='mse')"
      ],
      "execution_count": null,
      "outputs": []
    },
    {
      "cell_type": "code",
      "metadata": {
        "id": "p1fIJWQjs8vD"
      },
      "source": [
        "model.fit(x_data,y_data,epochs=100,verbose=2)"
      ],
      "execution_count": null,
      "outputs": []
    },
    {
      "cell_type": "code",
      "metadata": {
        "id": "uksWI9_mtAQC"
      },
      "source": [
        "model.get_weights()"
      ],
      "execution_count": null,
      "outputs": []
    },
    {
      "cell_type": "code",
      "metadata": {
        "id": "q6V-NmyztdQc"
      },
      "source": [
        "model.predict(x_data)"
      ],
      "execution_count": null,
      "outputs": []
    },
    {
      "cell_type": "markdown",
      "metadata": {
        "id": "ZpKLppfNmqWd"
      },
      "source": [
        "# subclassing"
      ]
    },
    {
      "cell_type": "code",
      "metadata": {
        "id": "913jQhxDttnw"
      },
      "source": [
        "class Model(tf.keras.layers.Layer):\r\n",
        "  def __init__(self):\r\n",
        "    super(Model,self).__init__()\r\n",
        "\r\n",
        "    self.w=self.add_weight(shape=(1,1),initializer='random_normal')\r\n",
        "    self.b=self.add_weight(shape=(1,),initializer='zeros')\r\n",
        "\r\n",
        "  def call(self,inputs):\r\n",
        "    return inputs*self.w + self.b"
      ],
      "execution_count": 69,
      "outputs": []
    },
    {
      "cell_type": "code",
      "metadata": {
        "id": "ERwXCSBsoV-G"
      },
      "source": [
        "loss=tf.keras.losses.MeanSquaredError()"
      ],
      "execution_count": 70,
      "outputs": []
    },
    {
      "cell_type": "code",
      "metadata": {
        "id": "SpaWBilbpHNP"
      },
      "source": [
        "def grad(model,inputs,targets):\r\n",
        "  with tf.GradientTape() as tape:\r\n",
        "    loss_value=loss(targets,model(inputs))\r\n",
        "  \r\n",
        "  return tape.gradient(loss_value,[model.w,model.b])\r\n"
      ],
      "execution_count": 71,
      "outputs": []
    },
    {
      "cell_type": "code",
      "metadata": {
        "id": "liga1avtqZdE"
      },
      "source": [
        "model=Model()"
      ],
      "execution_count": 72,
      "outputs": []
    },
    {
      "cell_type": "code",
      "metadata": {
        "colab": {
          "base_uri": "https://localhost:8080/"
        },
        "id": "GX9pndyIqbzR",
        "outputId": "c07dd422-5ed6-44e0-95a2-cd9689533207"
      },
      "source": [
        "model.w"
      ],
      "execution_count": 56,
      "outputs": [
        {
          "output_type": "execute_result",
          "data": {
            "text/plain": [
              "<tf.Variable 'Variable:0' shape=(1, 1) dtype=float32, numpy=array([[0.9492163]], dtype=float32)>"
            ]
          },
          "metadata": {
            "tags": []
          },
          "execution_count": 56
        }
      ]
    },
    {
      "cell_type": "code",
      "metadata": {
        "id": "lZw3IbkpqsSm"
      },
      "source": [
        "optimizer=tf.keras.optimizers.SGD()"
      ],
      "execution_count": 38,
      "outputs": []
    },
    {
      "cell_type": "code",
      "metadata": {
        "colab": {
          "base_uri": "https://localhost:8080/"
        },
        "id": "ouczd2HfsY-M",
        "outputId": "2adc9f15-5cfd-4174-a377-aaf5cacb0148"
      },
      "source": [
        "for i in range(100):\r\n",
        "  grads=grad(model,x_data,y_data)\r\n",
        "\r\n",
        "  optimizer.apply_gradients(zip(grads,[model.w,model.b]))\r\n",
        "\r\n",
        "  print('{} {}'.format(i,loss(y_data,model(x_data))))\r\n"
      ],
      "execution_count": 73,
      "outputs": [
        {
          "output_type": "stream",
          "text": [
            "0 6.886382102966309\n",
            "1 4.018314838409424\n",
            "2 2.3469111919403076\n",
            "3 1.3728647232055664\n",
            "4 0.8052032589912415\n",
            "5 0.47436389327049255\n",
            "6 0.28153225779533386\n",
            "7 0.16912488639354706\n",
            "8 0.10358551889657974\n",
            "9 0.06535825878381729\n",
            "10 0.043047692626714706\n",
            "11 0.03001280501484871\n",
            "12 0.02238333784043789\n",
            "13 0.017904266715049744\n",
            "14 0.015261271968483925\n",
            "15 0.013688487000763416\n",
            "16 0.012739583849906921\n",
            "17 0.012154418043792248\n",
            "18 0.011781523935496807\n",
            "19 0.011532509699463844\n",
            "20 0.01135584432631731\n",
            "21 0.011221630498766899\n",
            "22 0.011112334206700325\n",
            "23 0.011017780750989914\n",
            "24 0.01093200035393238\n",
            "25 0.010851572267711163\n",
            "26 0.010774454101920128\n",
            "27 0.010699453763663769\n",
            "28 0.010625921189785004\n",
            "29 0.01055342610925436\n",
            "30 0.010481755249202251\n",
            "31 0.010410711169242859\n",
            "32 0.010340305976569653\n",
            "33 0.010270403698086739\n",
            "34 0.01020101923495531\n",
            "35 0.010132122784852982\n",
            "36 0.01006370596587658\n",
            "37 0.009995779022574425\n",
            "38 0.009928295388817787\n",
            "39 0.009861250407993793\n",
            "40 0.009794690646231174\n",
            "41 0.009728561155498028\n",
            "42 0.00966288149356842\n",
            "43 0.00959767121821642\n",
            "44 0.009532871656119823\n",
            "45 0.009468527510762215\n",
            "46 0.009404593147337437\n",
            "47 0.009341130964457989\n",
            "48 0.00927807204425335\n",
            "49 0.00921542476862669\n",
            "50 0.009153223596513271\n",
            "51 0.009091426618397236\n",
            "52 0.009030059911310673\n",
            "53 0.00896911509335041\n",
            "54 0.008908557705581188\n",
            "55 0.008848419412970543\n",
            "56 0.00878870952874422\n",
            "57 0.008729367516934872\n",
            "58 0.008670435287058353\n",
            "59 0.008611906319856644\n",
            "60 0.008553778752684593\n",
            "61 0.00849603395909071\n",
            "62 0.008438672870397568\n",
            "63 0.008381720632314682\n",
            "64 0.008325120434165001\n",
            "65 0.008268936537206173\n",
            "66 0.008213119581341743\n",
            "67 0.008157670497894287\n",
            "68 0.00810259860008955\n",
            "69 0.008047899231314659\n",
            "70 0.007993575185537338\n",
            "71 0.007939623668789864\n",
            "72 0.00788602139800787\n",
            "73 0.007832800038158894\n",
            "74 0.007779909763485193\n",
            "75 0.007727394811809063\n",
            "76 0.00767523143440485\n",
            "77 0.00762340659275651\n",
            "78 0.0075719403102993965\n",
            "79 0.007520853541791439\n",
            "80 0.007470081560313702\n",
            "81 0.0074196429923176765\n",
            "82 0.007369565311819315\n",
            "83 0.0073198177851736546\n",
            "84 0.007270389702171087\n",
            "85 0.007221317384392023\n",
            "86 0.007172579411417246\n",
            "87 0.007124161813408136\n",
            "88 0.007076059468090534\n",
            "89 0.007028297521173954\n",
            "90 0.006980858743190765\n",
            "91 0.006933738477528095\n",
            "92 0.00688693393021822\n",
            "93 0.006840442307293415\n",
            "94 0.006794257555156946\n",
            "95 0.006748386658728123\n",
            "96 0.006702835205942392\n",
            "97 0.0066575901582837105\n",
            "98 0.00661265105009079\n",
            "99 0.006568016018718481\n"
          ],
          "name": "stdout"
        }
      ]
    },
    {
      "cell_type": "code",
      "metadata": {
        "colab": {
          "base_uri": "https://localhost:8080/"
        },
        "id": "N7OXILDutpJF",
        "outputId": "66007a89-ecdb-4a9b-b3ad-3b1e4e164ce9"
      },
      "source": [
        "model.w"
      ],
      "execution_count": 74,
      "outputs": [
        {
          "output_type": "execute_result",
          "data": {
            "text/plain": [
              "<tf.Variable 'Variable:0' shape=(1, 1) dtype=float32, numpy=array([[0.94738436]], dtype=float32)>"
            ]
          },
          "metadata": {
            "tags": []
          },
          "execution_count": 74
        }
      ]
    },
    {
      "cell_type": "code",
      "metadata": {
        "colab": {
          "base_uri": "https://localhost:8080/"
        },
        "id": "dDtKBed7tylK",
        "outputId": "0da59e70-c385-48db-fd75-fbb784c6390d"
      },
      "source": [
        "model.b"
      ],
      "execution_count": 75,
      "outputs": [
        {
          "output_type": "execute_result",
          "data": {
            "text/plain": [
              "<tf.Variable 'Variable:0' shape=(1,) dtype=float32, numpy=array([0.18995921], dtype=float32)>"
            ]
          },
          "metadata": {
            "tags": []
          },
          "execution_count": 75
        }
      ]
    },
    {
      "cell_type": "code",
      "metadata": {
        "id": "LlF23dv1t0QB"
      },
      "source": [
        ""
      ],
      "execution_count": null,
      "outputs": []
    }
  ]
}