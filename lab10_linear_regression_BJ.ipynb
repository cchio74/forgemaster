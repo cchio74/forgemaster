{
  "nbformat": 4,
  "nbformat_minor": 0,
  "metadata": {
    "colab": {
      "name": "lab10_linear_regression_BJ.ipynb",
      "provenance": [],
      "authorship_tag": "ABX9TyM0ldkz0HH8C0BDUpg1NG7S",
      "include_colab_link": true
    },
    "kernelspec": {
      "name": "python3",
      "display_name": "Python 3"
    }
  },
  "cells": [
    {
      "cell_type": "markdown",
      "metadata": {
        "id": "view-in-github",
        "colab_type": "text"
      },
      "source": [
        "<a href=\"https://colab.research.google.com/github/cchio74/forgemaster/blob/master/lab10_linear_regression_BJ.ipynb\" target=\"_parent\"><img src=\"https://colab.research.google.com/assets/colab-badge.svg\" alt=\"Open In Colab\"/></a>"
      ]
    },
    {
      "cell_type": "code",
      "metadata": {
        "id": "UfXE8EA2aUlb"
      },
      "source": [
        "import tensorflow as tf\r\n",
        "import numpy as np"
      ],
      "execution_count": 1,
      "outputs": []
    },
    {
      "cell_type": "code",
      "metadata": {
        "colab": {
          "base_uri": "https://localhost:8080/",
          "height": 35
        },
        "id": "XCwhDBgUaneu",
        "outputId": "8eda7a77-60da-47ea-8c2d-866a50839203"
      },
      "source": [
        "tf.__version__"
      ],
      "execution_count": 2,
      "outputs": [
        {
          "output_type": "execute_result",
          "data": {
            "application/vnd.google.colaboratory.intrinsic+json": {
              "type": "string"
            },
            "text/plain": [
              "'2.3.0'"
            ]
          },
          "metadata": {
            "tags": []
          },
          "execution_count": 2
        }
      ]
    },
    {
      "cell_type": "markdown",
      "metadata": {
        "id": "LZYDEQy8a5XO"
      },
      "source": [
        "# DATA"
      ]
    },
    {
      "cell_type": "code",
      "metadata": {
        "colab": {
          "base_uri": "https://localhost:8080/"
        },
        "id": "bZHtBdzJaqrh",
        "outputId": "b16b87e1-6d22-44b6-885b-ae90309de7ae"
      },
      "source": [
        "x_data=np.array([1,2,3,4,5],np.float32)\r\n",
        "x_data.shape"
      ],
      "execution_count": 9,
      "outputs": [
        {
          "output_type": "execute_result",
          "data": {
            "text/plain": [
              "(5,)"
            ]
          },
          "metadata": {
            "tags": []
          },
          "execution_count": 9
        }
      ]
    },
    {
      "cell_type": "code",
      "metadata": {
        "colab": {
          "base_uri": "https://localhost:8080/"
        },
        "id": "O96vFbngbAuu",
        "outputId": "417c03f6-6e5c-4afc-d23d-7d1cff6d61a9"
      },
      "source": [
        "y_data=np.array([1,2,3,4,5],np.float32)\r\n",
        "y_data.shape"
      ],
      "execution_count": 10,
      "outputs": [
        {
          "output_type": "execute_result",
          "data": {
            "text/plain": [
              "(5,)"
            ]
          },
          "metadata": {
            "tags": []
          },
          "execution_count": 10
        }
      ]
    },
    {
      "cell_type": "markdown",
      "metadata": {
        "id": "EYkpGkp5cPZM"
      },
      "source": [
        "# Linear regression"
      ]
    },
    {
      "cell_type": "code",
      "metadata": {
        "id": "D_5td80sbZAK"
      },
      "source": [
        "learning_rate=1e-2 "
      ],
      "execution_count": 11,
      "outputs": []
    },
    {
      "cell_type": "code",
      "metadata": {
        "colab": {
          "base_uri": "https://localhost:8080/"
        },
        "id": "WG5lQU9DcZ6s",
        "outputId": "a3d25b0b-3d11-4224-d93c-5a44f16608e6"
      },
      "source": [
        "w=tf.Variable([0],dtype='float32',name='weight')\r\n",
        "b=tf.Variable([0],dtype='float32',name='bias')\r\n",
        "w"
      ],
      "execution_count": 73,
      "outputs": [
        {
          "output_type": "execute_result",
          "data": {
            "text/plain": [
              "<tf.Variable 'weight:0' shape=(1,) dtype=float32, numpy=array([0.], dtype=float32)>"
            ]
          },
          "metadata": {
            "tags": []
          },
          "execution_count": 73
        }
      ]
    },
    {
      "cell_type": "code",
      "metadata": {
        "colab": {
          "base_uri": "https://localhost:8080/"
        },
        "id": "tpduabktg2DU",
        "outputId": "4aaa5f4d-38c1-4a06-f8c6-aeca39bc670a"
      },
      "source": [
        "b"
      ],
      "execution_count": 13,
      "outputs": [
        {
          "output_type": "execute_result",
          "data": {
            "text/plain": [
              "<tf.Variable 'bias:0' shape=(1,) dtype=float32, numpy=array([0.], dtype=float32)>"
            ]
          },
          "metadata": {
            "tags": []
          },
          "execution_count": 13
        }
      ]
    },
    {
      "cell_type": "code",
      "metadata": {
        "id": "GUU_2zISg3OW"
      },
      "source": [
        "hypothesis=x_data*w+b"
      ],
      "execution_count": 14,
      "outputs": []
    },
    {
      "cell_type": "code",
      "metadata": {
        "colab": {
          "base_uri": "https://localhost:8080/"
        },
        "id": "3-i9Z6z6hBFx",
        "outputId": "a0380a8f-62c7-4bd0-debf-99c6d15e0cb8"
      },
      "source": [
        "hypothesis"
      ],
      "execution_count": 15,
      "outputs": [
        {
          "output_type": "execute_result",
          "data": {
            "text/plain": [
              "<tf.Tensor: shape=(5,), dtype=float32, numpy=array([0., 0., 0., 0., 0.], dtype=float32)>"
            ]
          },
          "metadata": {
            "tags": []
          },
          "execution_count": 15
        }
      ]
    },
    {
      "cell_type": "code",
      "metadata": {
        "colab": {
          "base_uri": "https://localhost:8080/"
        },
        "id": "MDAAdWPohCX_",
        "outputId": "85fa297c-92a3-44a3-98b0-a31ce809f727"
      },
      "source": [
        "loss=tf.reduce_mean(tf.math.square(hypothesis-y_data))\r\n",
        "loss"
      ],
      "execution_count": 25,
      "outputs": [
        {
          "output_type": "execute_result",
          "data": {
            "text/plain": [
              "<tf.Tensor: shape=(), dtype=float32, numpy=11.0>"
            ]
          },
          "metadata": {
            "tags": []
          },
          "execution_count": 25
        }
      ]
    },
    {
      "cell_type": "code",
      "metadata": {
        "id": "S5tE0XEpheBy"
      },
      "source": [
        "with tf.GradientTape() as tape:\r\n",
        "  hypothesis=x_data*w+b\r\n",
        "  loss=tf.reduce_mean(tf.math.square(hypothesis-y_data))\r\n"
      ],
      "execution_count": 37,
      "outputs": []
    },
    {
      "cell_type": "code",
      "metadata": {
        "id": "41klmYcWkHaB"
      },
      "source": [
        "w_grad,b_grad=tape.gradient(loss,[w,b])"
      ],
      "execution_count": 38,
      "outputs": []
    },
    {
      "cell_type": "code",
      "metadata": {
        "colab": {
          "base_uri": "https://localhost:8080/"
        },
        "id": "xFvgf9CjlQ84",
        "outputId": "af853599-0fba-49e8-ecc0-ee2c28038ce4"
      },
      "source": [
        "w_grad"
      ],
      "execution_count": 39,
      "outputs": [
        {
          "output_type": "execute_result",
          "data": {
            "text/plain": [
              "<tf.Tensor: shape=(1,), dtype=float32, numpy=array([-22.], dtype=float32)>"
            ]
          },
          "metadata": {
            "tags": []
          },
          "execution_count": 39
        }
      ]
    },
    {
      "cell_type": "code",
      "metadata": {
        "colab": {
          "base_uri": "https://localhost:8080/"
        },
        "id": "olcHvuzIlr20",
        "outputId": "725181f9-ceaf-45f2-ff92-b3a4ab9e4efb"
      },
      "source": [
        "b_grad"
      ],
      "execution_count": 40,
      "outputs": [
        {
          "output_type": "execute_result",
          "data": {
            "text/plain": [
              "<tf.Tensor: shape=(1,), dtype=float32, numpy=array([-6.], dtype=float32)>"
            ]
          },
          "metadata": {
            "tags": []
          },
          "execution_count": 40
        }
      ]
    },
    {
      "cell_type": "code",
      "metadata": {
        "id": "sYp1vRQIlszR"
      },
      "source": [
        "w=w-learning_rate*w_grad"
      ],
      "execution_count": 70,
      "outputs": []
    },
    {
      "cell_type": "code",
      "metadata": {
        "id": "mion9oZHmINh"
      },
      "source": [
        "b=b-learning_rate*b_grad"
      ],
      "execution_count": 71,
      "outputs": []
    },
    {
      "cell_type": "code",
      "metadata": {
        "colab": {
          "base_uri": "https://localhost:8080/"
        },
        "id": "kMVP8Zk9mR9H",
        "outputId": "d8964e14-5903-4063-98aa-2b0ba54143af"
      },
      "source": [
        "for i in range(10):\r\n",
        "  with tf.GradientTape() as tape:\r\n",
        "    hypothesis=x_data*w+b\r\n",
        "    loss=tf.reduce_mean(tf.math.square(hypothesis-y_data))\r\n",
        " \r\n",
        "  w_grad,b_grad=tape.gradient(loss,[w,b])\r\n",
        "\r\n",
        "  w.assign_sub(learning_rate*w_grad)\r\n",
        "  b.assign_sub(learning_rate*b_grad)\r\n",
        "\r\n",
        "  print('{} {}'.format(i,loss))\r\n",
        "\r\n",
        "\r\n",
        "\r\n",
        "  "
      ],
      "execution_count": 74,
      "outputs": [
        {
          "output_type": "stream",
          "text": [
            "0 11.0\n",
            "1 6.415200233459473\n",
            "2 3.7433724403381348\n",
            "3 2.1863298416137695\n",
            "4 1.2789298295974731\n",
            "5 0.7501095533370972\n",
            "6 0.4419064521789551\n",
            "7 0.2622687816619873\n",
            "8 0.15755288302898407\n",
            "9 0.09649773687124252\n"
          ],
          "name": "stdout"
        }
      ]
    },
    {
      "cell_type": "code",
      "metadata": {
        "id": "4q6ZZn-0oiCS"
      },
      "source": [
        "model=tf.keras.Sequential()"
      ],
      "execution_count": 93,
      "outputs": []
    },
    {
      "cell_type": "code",
      "metadata": {
        "id": "_oAQG3LesUPD"
      },
      "source": [
        "model.add(tf.keras.layers.Dense(1))"
      ],
      "execution_count": 94,
      "outputs": []
    },
    {
      "cell_type": "code",
      "metadata": {
        "id": "Byt3OOHvscxj"
      },
      "source": [
        "model.compile(optimizer='SGD',loss='mse')"
      ],
      "execution_count": 95,
      "outputs": []
    },
    {
      "cell_type": "code",
      "metadata": {
        "colab": {
          "base_uri": "https://localhost:8080/"
        },
        "id": "p1fIJWQjs8vD",
        "outputId": "6f15f506-8dad-4d12-8692-5ab01f292533"
      },
      "source": [
        "model.fit(x_data,y_data,epochs=100,verbose=2)"
      ],
      "execution_count": 105,
      "outputs": [
        {
          "output_type": "stream",
          "text": [
            "Epoch 1/100\n",
            "1/1 - 0s - loss: 1.4487e-05\n",
            "Epoch 2/100\n",
            "1/1 - 0s - loss: 1.4388e-05\n",
            "Epoch 3/100\n",
            "1/1 - 0s - loss: 1.4292e-05\n",
            "Epoch 4/100\n",
            "1/1 - 0s - loss: 1.4196e-05\n",
            "Epoch 5/100\n",
            "1/1 - 0s - loss: 1.4099e-05\n",
            "Epoch 6/100\n",
            "1/1 - 0s - loss: 1.4005e-05\n",
            "Epoch 7/100\n",
            "1/1 - 0s - loss: 1.3909e-05\n",
            "Epoch 8/100\n",
            "1/1 - 0s - loss: 1.3816e-05\n",
            "Epoch 9/100\n",
            "1/1 - 0s - loss: 1.3722e-05\n",
            "Epoch 10/100\n",
            "1/1 - 0s - loss: 1.3630e-05\n",
            "Epoch 11/100\n",
            "1/1 - 0s - loss: 1.3538e-05\n",
            "Epoch 12/100\n",
            "1/1 - 0s - loss: 1.3447e-05\n",
            "Epoch 13/100\n",
            "1/1 - 0s - loss: 1.3356e-05\n",
            "Epoch 14/100\n",
            "1/1 - 0s - loss: 1.3265e-05\n",
            "Epoch 15/100\n",
            "1/1 - 0s - loss: 1.3176e-05\n",
            "Epoch 16/100\n",
            "1/1 - 0s - loss: 1.3087e-05\n",
            "Epoch 17/100\n",
            "1/1 - 0s - loss: 1.2999e-05\n",
            "Epoch 18/100\n",
            "1/1 - 0s - loss: 1.2911e-05\n",
            "Epoch 19/100\n",
            "1/1 - 0s - loss: 1.2824e-05\n",
            "Epoch 20/100\n",
            "1/1 - 0s - loss: 1.2737e-05\n",
            "Epoch 21/100\n",
            "1/1 - 0s - loss: 1.2651e-05\n",
            "Epoch 22/100\n",
            "1/1 - 0s - loss: 1.2566e-05\n",
            "Epoch 23/100\n",
            "1/1 - 0s - loss: 1.2481e-05\n",
            "Epoch 24/100\n",
            "1/1 - 0s - loss: 1.2397e-05\n",
            "Epoch 25/100\n",
            "1/1 - 0s - loss: 1.2313e-05\n",
            "Epoch 26/100\n",
            "1/1 - 0s - loss: 1.2230e-05\n",
            "Epoch 27/100\n",
            "1/1 - 0s - loss: 1.2148e-05\n",
            "Epoch 28/100\n",
            "1/1 - 0s - loss: 1.2066e-05\n",
            "Epoch 29/100\n",
            "1/1 - 0s - loss: 1.1984e-05\n",
            "Epoch 30/100\n",
            "1/1 - 0s - loss: 1.1903e-05\n",
            "Epoch 31/100\n",
            "1/1 - 0s - loss: 1.1823e-05\n",
            "Epoch 32/100\n",
            "1/1 - 0s - loss: 1.1743e-05\n",
            "Epoch 33/100\n",
            "1/1 - 0s - loss: 1.1663e-05\n",
            "Epoch 34/100\n",
            "1/1 - 0s - loss: 1.1585e-05\n",
            "Epoch 35/100\n",
            "1/1 - 0s - loss: 1.1507e-05\n",
            "Epoch 36/100\n",
            "1/1 - 0s - loss: 1.1429e-05\n",
            "Epoch 37/100\n",
            "1/1 - 0s - loss: 1.1352e-05\n",
            "Epoch 38/100\n",
            "1/1 - 0s - loss: 1.1275e-05\n",
            "Epoch 39/100\n",
            "1/1 - 0s - loss: 1.1199e-05\n",
            "Epoch 40/100\n",
            "1/1 - 0s - loss: 1.1124e-05\n",
            "Epoch 41/100\n",
            "1/1 - 0s - loss: 1.1048e-05\n",
            "Epoch 42/100\n",
            "1/1 - 0s - loss: 1.0974e-05\n",
            "Epoch 43/100\n",
            "1/1 - 0s - loss: 1.0900e-05\n",
            "Epoch 44/100\n",
            "1/1 - 0s - loss: 1.0826e-05\n",
            "Epoch 45/100\n",
            "1/1 - 0s - loss: 1.0753e-05\n",
            "Epoch 46/100\n",
            "1/1 - 0s - loss: 1.0680e-05\n",
            "Epoch 47/100\n",
            "1/1 - 0s - loss: 1.0609e-05\n",
            "Epoch 48/100\n",
            "1/1 - 0s - loss: 1.0537e-05\n",
            "Epoch 49/100\n",
            "1/1 - 0s - loss: 1.0466e-05\n",
            "Epoch 50/100\n",
            "1/1 - 0s - loss: 1.0396e-05\n",
            "Epoch 51/100\n",
            "1/1 - 0s - loss: 1.0325e-05\n",
            "Epoch 52/100\n",
            "1/1 - 0s - loss: 1.0255e-05\n",
            "Epoch 53/100\n",
            "1/1 - 0s - loss: 1.0186e-05\n",
            "Epoch 54/100\n",
            "1/1 - 0s - loss: 1.0117e-05\n",
            "Epoch 55/100\n",
            "1/1 - 0s - loss: 1.0049e-05\n",
            "Epoch 56/100\n",
            "1/1 - 0s - loss: 9.9810e-06\n",
            "Epoch 57/100\n",
            "1/1 - 0s - loss: 9.9136e-06\n",
            "Epoch 58/100\n",
            "1/1 - 0s - loss: 9.8468e-06\n",
            "Epoch 59/100\n",
            "1/1 - 0s - loss: 9.7798e-06\n",
            "Epoch 60/100\n",
            "1/1 - 0s - loss: 9.7140e-06\n",
            "Epoch 61/100\n",
            "1/1 - 0s - loss: 9.6484e-06\n",
            "Epoch 62/100\n",
            "1/1 - 0s - loss: 9.5835e-06\n",
            "Epoch 63/100\n",
            "1/1 - 0s - loss: 9.5190e-06\n",
            "Epoch 64/100\n",
            "1/1 - 0s - loss: 9.4540e-06\n",
            "Epoch 65/100\n",
            "1/1 - 0s - loss: 9.3909e-06\n",
            "Epoch 66/100\n",
            "1/1 - 0s - loss: 9.3275e-06\n",
            "Epoch 67/100\n",
            "1/1 - 0s - loss: 9.2643e-06\n",
            "Epoch 68/100\n",
            "1/1 - 0s - loss: 9.2021e-06\n",
            "Epoch 69/100\n",
            "1/1 - 0s - loss: 9.1396e-06\n",
            "Epoch 70/100\n",
            "1/1 - 0s - loss: 9.0781e-06\n",
            "Epoch 71/100\n",
            "1/1 - 0s - loss: 9.0169e-06\n",
            "Epoch 72/100\n",
            "1/1 - 0s - loss: 8.9553e-06\n",
            "Epoch 73/100\n",
            "1/1 - 0s - loss: 8.8956e-06\n",
            "Epoch 74/100\n",
            "1/1 - 0s - loss: 8.8354e-06\n",
            "Epoch 75/100\n",
            "1/1 - 0s - loss: 8.7758e-06\n",
            "Epoch 76/100\n",
            "1/1 - 0s - loss: 8.7163e-06\n",
            "Epoch 77/100\n",
            "1/1 - 0s - loss: 8.6578e-06\n",
            "Epoch 78/100\n",
            "1/1 - 0s - loss: 8.5990e-06\n",
            "Epoch 79/100\n",
            "1/1 - 0s - loss: 8.5412e-06\n",
            "Epoch 80/100\n",
            "1/1 - 0s - loss: 8.4836e-06\n",
            "Epoch 81/100\n",
            "1/1 - 0s - loss: 8.4262e-06\n",
            "Epoch 82/100\n",
            "1/1 - 0s - loss: 8.3690e-06\n",
            "Epoch 83/100\n",
            "1/1 - 0s - loss: 8.3127e-06\n",
            "Epoch 84/100\n",
            "1/1 - 0s - loss: 8.2567e-06\n",
            "Epoch 85/100\n",
            "1/1 - 0s - loss: 8.2010e-06\n",
            "Epoch 86/100\n",
            "1/1 - 0s - loss: 8.1457e-06\n",
            "Epoch 87/100\n",
            "1/1 - 0s - loss: 8.0907e-06\n",
            "Epoch 88/100\n",
            "1/1 - 0s - loss: 8.0359e-06\n",
            "Epoch 89/100\n",
            "1/1 - 0s - loss: 7.9817e-06\n",
            "Epoch 90/100\n",
            "1/1 - 0s - loss: 7.9278e-06\n",
            "Epoch 91/100\n",
            "1/1 - 0s - loss: 7.8741e-06\n",
            "Epoch 92/100\n",
            "1/1 - 0s - loss: 7.8213e-06\n",
            "Epoch 93/100\n",
            "1/1 - 0s - loss: 7.7682e-06\n",
            "Epoch 94/100\n",
            "1/1 - 0s - loss: 7.7162e-06\n",
            "Epoch 95/100\n",
            "1/1 - 0s - loss: 7.6636e-06\n",
            "Epoch 96/100\n",
            "1/1 - 0s - loss: 7.6118e-06\n",
            "Epoch 97/100\n",
            "1/1 - 0s - loss: 7.5612e-06\n",
            "Epoch 98/100\n",
            "1/1 - 0s - loss: 7.5098e-06\n",
            "Epoch 99/100\n",
            "1/1 - 0s - loss: 7.4588e-06\n",
            "Epoch 100/100\n",
            "1/1 - 0s - loss: 7.4086e-06\n"
          ],
          "name": "stdout"
        },
        {
          "output_type": "execute_result",
          "data": {
            "text/plain": [
              "<tensorflow.python.keras.callbacks.History at 0x7f4ee8cb9f28>"
            ]
          },
          "metadata": {
            "tags": []
          },
          "execution_count": 105
        }
      ]
    },
    {
      "cell_type": "code",
      "metadata": {
        "colab": {
          "base_uri": "https://localhost:8080/"
        },
        "id": "uksWI9_mtAQC",
        "outputId": "865491fd-b4e5-41b9-9346-982f8165ae0a"
      },
      "source": [
        "model.get_weights()"
      ],
      "execution_count": 102,
      "outputs": [
        {
          "output_type": "execute_result",
          "data": {
            "text/plain": [
              "[array([[0.9965329]], dtype=float32), array([0.0125172], dtype=float32)]"
            ]
          },
          "metadata": {
            "tags": []
          },
          "execution_count": 102
        }
      ]
    },
    {
      "cell_type": "code",
      "metadata": {
        "colab": {
          "base_uri": "https://localhost:8080/"
        },
        "id": "q6V-NmyztdQc",
        "outputId": "f6fae70a-10bc-42a5-c525-a1df20512e9e"
      },
      "source": [
        "model.predict(x_data)"
      ],
      "execution_count": 103,
      "outputs": [
        {
          "output_type": "execute_result",
          "data": {
            "text/plain": [
              "array([[1.0090501],\n",
              "       [2.005583 ],\n",
              "       [3.002116 ],\n",
              "       [3.998649 ],\n",
              "       [4.9951816]], dtype=float32)"
            ]
          },
          "metadata": {
            "tags": []
          },
          "execution_count": 103
        }
      ]
    },
    {
      "cell_type": "code",
      "metadata": {
        "id": "913jQhxDttnw"
      },
      "source": [
        ""
      ],
      "execution_count": null,
      "outputs": []
    }
  ]
}