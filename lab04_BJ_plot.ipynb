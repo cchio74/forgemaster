{
  "nbformat": 4,
  "nbformat_minor": 0,
  "metadata": {
    "colab": {
      "name": "lab04_LHC_plot.ipynb",
      "provenance": [],
      "include_colab_link": true
    },
    "kernelspec": {
      "name": "python3",
      "display_name": "Python 3"
    }
  },
  "cells": [
    {
      "cell_type": "markdown",
      "metadata": {
        "id": "view-in-github",
        "colab_type": "text"
      },
      "source": [
        "<a href=\"https://colab.research.google.com/github/cchio74/forgemaster/blob/master/lab04_BJ_plot.ipynb\" target=\"_parent\"><img src=\"https://colab.research.google.com/assets/colab-badge.svg\" alt=\"Open In Colab\"/></a>"
      ]
    },
    {
      "cell_type": "markdown",
      "metadata": {
        "id": "1iig2Mau2CCA"
      },
      "source": [
        "#Pandas와 Matplotilb를 이용하여 그래프 그리기"
      ]
    },
    {
      "cell_type": "code",
      "metadata": {
        "id": "zfP_01jq12FM"
      },
      "source": [
        "import numpy as np\n",
        "import pandas as pd\n",
        "import matplotlib.pyplot as plt"
      ],
      "execution_count": 3,
      "outputs": []
    },
    {
      "cell_type": "code",
      "metadata": {
        "id": "qzLWHlcU2bJX",
        "outputId": "30ab2836-bd6d-45da-9b5f-69b99be3b710",
        "colab": {
          "base_uri": "https://localhost:8080/",
          "height": 34
        }
      },
      "source": [
        " %matplotlib inline #%는 매직 function, inline은 그래프를 바로 보여주는 방식"
      ],
      "execution_count": 4,
      "outputs": [
        {
          "output_type": "stream",
          "text": [
            "UsageError: unrecognized arguments: #%는 매직 function, inline은 그래프를 바로 보여주는 방식\n"
          ],
          "name": "stderr"
        }
      ]
    },
    {
      "cell_type": "code",
      "metadata": {
        "id": "kBdb6diO23vP"
      },
      "source": [
        "s=pd.Series(np.random.randn(10),index=np.arange(0,100,10)) #Series 만들기\n",
        "s"
      ],
      "execution_count": null,
      "outputs": []
    },
    {
      "cell_type": "markdown",
      "metadata": {
        "id": "NqHDd-i6EIcj"
      },
      "source": [
        "## pandas와 matplotlib로 그래프 그리기\n"
      ]
    },
    {
      "cell_type": "code",
      "metadata": {
        "id": "gnGH6zax3O5y"
      },
      "source": [
        "s.plot() #pandas로 그래프 그리기"
      ],
      "execution_count": null,
      "outputs": []
    },
    {
      "cell_type": "code",
      "metadata": {
        "id": "qS9UcbPP3yTN"
      },
      "source": [
        "plt.plot(s.values) #matplotlib를 이용하여 Y값으로만 그래프를 그림"
      ],
      "execution_count": null,
      "outputs": []
    },
    {
      "cell_type": "code",
      "metadata": {
        "id": "06aO38Jj4K74"
      },
      "source": [
        "plt.plot(s.index,s.values) #matplotlib를 이용하여 X, Y값을 그래프를 그림"
      ],
      "execution_count": null,
      "outputs": []
    },
    {
      "cell_type": "code",
      "metadata": {
        "id": "WYpzX5-B4aCS"
      },
      "source": [
        "plt.plot(s) #x, y를 정의하지않아도, series로 정의된경우 간단히 작성할 수 있음"
      ],
      "execution_count": null,
      "outputs": []
    },
    {
      "cell_type": "code",
      "metadata": {
        "id": "1bCcBcFR4oax"
      },
      "source": [
        "df=pd.DataFrame(np.random.randn(10,4))\n",
        "df"
      ],
      "execution_count": null,
      "outputs": []
    },
    {
      "cell_type": "code",
      "metadata": {
        "id": "CS6XWetl5K2A"
      },
      "source": [
        "df=pd.DataFrame(np.random.randn(10,4).cumsum(axis=0))\n",
        "df"
      ],
      "execution_count": null,
      "outputs": []
    },
    {
      "cell_type": "code",
      "metadata": {
        "id": "a5YpwMRO5jiE"
      },
      "source": [
        "df=pd.DataFrame(np.random.randn(10,4).cumsum(axis=0),columns=list('ABCD'),index=np.arange(0,100,10))\n",
        "df"
      ],
      "execution_count": null,
      "outputs": []
    },
    {
      "cell_type": "code",
      "metadata": {
        "id": "xKgxEevT6H4k"
      },
      "source": [
        "df.plot()"
      ],
      "execution_count": null,
      "outputs": []
    },
    {
      "cell_type": "code",
      "metadata": {
        "id": "LimD2nwR6tJR"
      },
      "source": [
        "df.index.name='Time(sec)' #x축 제목\n",
        "df.columns.name='Random data' #columns 이름\n",
        "df"
      ],
      "execution_count": null,
      "outputs": []
    },
    {
      "cell_type": "code",
      "metadata": {
        "id": "YOivd8Rf6-lR"
      },
      "source": [
        "df.plot()\n",
        "plt.ylabel('Random data') #Y축 제목을 따로 입력함"
      ],
      "execution_count": null,
      "outputs": []
    },
    {
      "cell_type": "code",
      "metadata": {
        "id": "UBRQDrQJ7Eo1"
      },
      "source": [
        "plt.plot(df)              #\n",
        "plt.legend(list('ABCD'))\n",
        "plt.xlabel('Time (sec)')\n",
        "plt.ylabel('Random data')"
      ],
      "execution_count": null,
      "outputs": []
    },
    {
      "cell_type": "code",
      "metadata": {
        "id": "SZOSwHys7thv"
      },
      "source": [
        "df['A']"
      ],
      "execution_count": null,
      "outputs": []
    },
    {
      "cell_type": "code",
      "metadata": {
        "id": "Fov87_0J8oXQ"
      },
      "source": [
        "df['A'].plot() #A 시리즈만 그래프 출력"
      ],
      "execution_count": null,
      "outputs": []
    },
    {
      "cell_type": "code",
      "metadata": {
        "id": "jbSfz0Yb8rbB"
      },
      "source": [
        "df.loc[:,['A','C']].plot() #A, C만 그래프를 출력"
      ],
      "execution_count": null,
      "outputs": []
    },
    {
      "cell_type": "code",
      "metadata": {
        "id": "kSPtwO4J9Amv"
      },
      "source": [
        "plt.plot(df['B']) #B만 그래프를 출력"
      ],
      "execution_count": null,
      "outputs": []
    },
    {
      "cell_type": "code",
      "metadata": {
        "id": "HHXnC16h9Iqc"
      },
      "source": [
        "plt.plot(df[['C','D']]) #C, D만 그래프를 출력"
      ],
      "execution_count": null,
      "outputs": []
    },
    {
      "cell_type": "code",
      "metadata": {
        "id": "HFqqUEKz9Xhf"
      },
      "source": [
        "s"
      ],
      "execution_count": null,
      "outputs": []
    },
    {
      "cell_type": "code",
      "metadata": {
        "id": "OusC3FtL9d9d"
      },
      "source": [
        "s.plot()"
      ],
      "execution_count": null,
      "outputs": []
    },
    {
      "cell_type": "markdown",
      "metadata": {
        "id": "XquRpZJ1EScF"
      },
      "source": [
        "##bar plot"
      ]
    },
    {
      "cell_type": "code",
      "metadata": {
        "id": "dm9fZQpq9gHc"
      },
      "source": [
        "s.plot.bar() #bar plot를 쓰는 방법 1"
      ],
      "execution_count": null,
      "outputs": []
    },
    {
      "cell_type": "code",
      "metadata": {
        "id": "xPlxch5x9isx"
      },
      "source": [
        "s.plot(kind='bar') #bar plot를 쓰는 방법 2"
      ],
      "execution_count": null,
      "outputs": []
    },
    {
      "cell_type": "code",
      "metadata": {
        "id": "i6wkL5IT9uW6"
      },
      "source": [
        "plt.bar(s.index,s.values,width=5)"
      ],
      "execution_count": null,
      "outputs": []
    },
    {
      "cell_type": "code",
      "metadata": {
        "id": "oePPiGUk999C"
      },
      "source": [
        "plt.bar(s.index,s.values)"
      ],
      "execution_count": null,
      "outputs": []
    },
    {
      "cell_type": "code",
      "metadata": {
        "id": "N5uT9keb-VR8"
      },
      "source": [
        "s.plot.barh() #수평방향 bar plot"
      ],
      "execution_count": null,
      "outputs": []
    },
    {
      "cell_type": "code",
      "metadata": {
        "id": "lEdVUIYl-c9H"
      },
      "source": [
        "df.plot.bar()             #pandas로 dataframe의 bar plot은 간단히 작성으로 가능함, 단 matplotlib는 각각의 데이터를 다 입력해야함.\n",
        "plt.ylabel('Random data')"
      ],
      "execution_count": null,
      "outputs": []
    },
    {
      "cell_type": "code",
      "metadata": {
        "id": "vluJSoXj-qur"
      },
      "source": [
        "plt.bar(df.index,df['A'],label='A')\n",
        "plt.bar(df.index+2,df['B'],label='B')\n",
        "plt.legend()"
      ],
      "execution_count": null,
      "outputs": []
    },
    {
      "cell_type": "markdown",
      "metadata": {
        "id": "pg6QSNzcEath"
      },
      "source": [
        "##histogram"
      ]
    },
    {
      "cell_type": "code",
      "metadata": {
        "id": "uYiyT9q-_U9x"
      },
      "source": [
        "s=pd.Series(np.random.randn(100)) #histogram\n",
        "s"
      ],
      "execution_count": null,
      "outputs": []
    },
    {
      "cell_type": "code",
      "metadata": {
        "id": "MvjKsCvvAUDH"
      },
      "source": [
        "s.plot.hist()"
      ],
      "execution_count": null,
      "outputs": []
    },
    {
      "cell_type": "code",
      "metadata": {
        "id": "lcQMtRt_AjZN"
      },
      "source": [
        "s.std() #표준편차"
      ],
      "execution_count": null,
      "outputs": []
    },
    {
      "cell_type": "code",
      "metadata": {
        "id": "PmGdl-KbAlGG"
      },
      "source": [
        "s.plot.hist(bins=20) #x축 간격"
      ],
      "execution_count": null,
      "outputs": []
    },
    {
      "cell_type": "code",
      "metadata": {
        "id": "-HwEwX_nAzCm"
      },
      "source": [
        "s.plot.hist(bins=30) #x축 간격"
      ],
      "execution_count": null,
      "outputs": []
    },
    {
      "cell_type": "code",
      "metadata": {
        "id": "wguqJ7NBA18D"
      },
      "source": [
        "s.plot.hist(bins=20,density=True) #총 합은 1"
      ],
      "execution_count": null,
      "outputs": []
    },
    {
      "cell_type": "code",
      "metadata": {
        "id": "Fc4jEjzgBAWi"
      },
      "source": [
        "plt.hist(s)"
      ],
      "execution_count": null,
      "outputs": []
    },
    {
      "cell_type": "code",
      "metadata": {
        "id": "GHp_Qg6DBKs-"
      },
      "source": [
        "plt.hist(s,bins=20)"
      ],
      "execution_count": null,
      "outputs": []
    },
    {
      "cell_type": "markdown",
      "metadata": {
        "id": "MkCGoQJoBWTl"
      },
      "source": [
        "##Scatter plot"
      ]
    },
    {
      "cell_type": "code",
      "metadata": {
        "id": "9L5ZzJwmBsdG"
      },
      "source": [
        "df"
      ],
      "execution_count": null,
      "outputs": []
    },
    {
      "cell_type": "code",
      "metadata": {
        "id": "KcKTU6eTBSNz"
      },
      "source": [
        "df.plot.scatter(x='A',y='B',s=df['C']*-100,c='D',cmap='coolwarm') \n",
        "#x, y는 dataframe에서 데이터를 가지고 옴. \n",
        "#s는 원의 크기를 dataframe에서 가지고 옴, \n",
        "#c는 컬러로 dataframe에서 데이터를 가지고옴. 그 뒤는 색상의 종류"
      ],
      "execution_count": null,
      "outputs": []
    },
    {
      "cell_type": "code",
      "metadata": {
        "id": "m75hh_wYBhx7"
      },
      "source": [
        "plt.scatter(x=df['A'],y=df['B'])"
      ],
      "execution_count": null,
      "outputs": []
    },
    {
      "cell_type": "code",
      "metadata": {
        "id": "gFCW-9eEDUns"
      },
      "source": [
        "plt.scatter(x=df['A'],y=df['B'],s=df['C']*-100,c=df['D'],cmap='coolwarm')"
      ],
      "execution_count": null,
      "outputs": []
    },
    {
      "cell_type": "code",
      "metadata": {
        "id": "3DNl20rkDhDQ"
      },
      "source": [
        "plt.scatter(x=df['A'],y=df['B'],s=df['C']*-100,c=df['D'])"
      ],
      "execution_count": null,
      "outputs": []
    },
    {
      "cell_type": "code",
      "metadata": {
        "id": "_kipOjDUDzn2"
      },
      "source": [
        ""
      ],
      "execution_count": null,
      "outputs": []
    }
  ]
}