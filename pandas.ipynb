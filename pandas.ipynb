{
  "nbformat": 4,
  "nbformat_minor": 0,
  "metadata": {
    "colab": {
      "name": "pandas.ipynb",
      "provenance": [],
      "collapsed_sections": [],
      "include_colab_link": true
    },
    "kernelspec": {
      "name": "python3",
      "display_name": "Python 3"
    }
  },
  "cells": [
    {
      "cell_type": "markdown",
      "metadata": {
        "id": "view-in-github",
        "colab_type": "text"
      },
      "source": [
        "<a href=\"https://colab.research.google.com/github/cchio74/forgemaster/blob/master/pandas.ipynb\" target=\"_parent\"><img src=\"https://colab.research.google.com/assets/colab-badge.svg\" alt=\"Open In Colab\"/></a>"
      ]
    },
    {
      "cell_type": "code",
      "metadata": {
        "id": "5KLnwTUcAPrN",
        "colab_type": "code",
        "colab": {}
      },
      "source": [
        "import pandas as pd\n",
        "import numpy as np\n",
        "import matplotlib.pyplot as plt"
      ],
      "execution_count": 1,
      "outputs": []
    },
    {
      "cell_type": "markdown",
      "metadata": {
        "id": "z5d79D0bFrYG",
        "colab_type": "text"
      },
      "source": [
        "# 시리즈\n",
        "* 하나의 column 을 가지는 형식\n",
        "* pd.Series()\n",
        "* 누락값: np.nan"
      ]
    },
    {
      "cell_type": "code",
      "metadata": {
        "id": "3ZjoZDl_iv_m",
        "colab_type": "code",
        "colab": {
          "base_uri": "https://localhost:8080/",
          "height": 122
        },
        "outputId": "287f7aec-4b49-4d3e-cd4b-79068af80f3d"
      },
      "source": [
        "# numpy array를 활용한 Series 타입 정의\n",
        "pd.Series(np.random.randn(5))"
      ],
      "execution_count": 2,
      "outputs": [
        {
          "output_type": "execute_result",
          "data": {
            "text/plain": [
              "0    0.297184\n",
              "1    0.230752\n",
              "2    2.626232\n",
              "3    0.018690\n",
              "4   -0.163846\n",
              "dtype: float64"
            ]
          },
          "metadata": {
            "tags": []
          },
          "execution_count": 2
        }
      ]
    },
    {
      "cell_type": "code",
      "metadata": {
        "id": "c9qnRO0AFWkD",
        "colab_type": "code",
        "colab": {
          "base_uri": "https://localhost:8080/",
          "height": 140
        },
        "outputId": "bee4232b-8172-4d16-cc1b-faf7822fd8b4"
      },
      "source": [
        "# 리스트로 Series type 만들기\n",
        "s=pd.Series([1,2,3,np.nan,6,8])\n",
        "s"
      ],
      "execution_count": 3,
      "outputs": [
        {
          "output_type": "execute_result",
          "data": {
            "text/plain": [
              "0    1.0\n",
              "1    2.0\n",
              "2    3.0\n",
              "3    NaN\n",
              "4    6.0\n",
              "5    8.0\n",
              "dtype: float64"
            ]
          },
          "metadata": {
            "tags": []
          },
          "execution_count": 3
        }
      ]
    },
    {
      "cell_type": "code",
      "metadata": {
        "id": "XZMEKJrSF434",
        "colab_type": "code",
        "colab": {
          "base_uri": "https://localhost:8080/",
          "height": 105
        },
        "outputId": "689e4f2f-fc0a-4910-8405-970fe69a485e"
      },
      "source": [
        "print(type(s))\n",
        "print(s.shape)\n",
        "print(s.ndim)\n",
        "print(s.size)\n",
        "print(s.dtype)"
      ],
      "execution_count": 4,
      "outputs": [
        {
          "output_type": "stream",
          "text": [
            "<class 'pandas.core.series.Series'>\n",
            "(6,)\n",
            "1\n",
            "6\n",
            "float64\n"
          ],
          "name": "stdout"
        }
      ]
    },
    {
      "cell_type": "code",
      "metadata": {
        "id": "9kddVTZBut6J",
        "colab_type": "code",
        "colab": {
          "base_uri": "https://localhost:8080/",
          "height": 105
        },
        "outputId": "151ed3fa-5778-4b22-addc-4294536aece9"
      },
      "source": [
        "# 시리즈 형식 정의에서 인덱스 입력\n",
        "s=pd.Series(data=[4,-7,-5,3],index=['a','c','b','d'])\n",
        "s"
      ],
      "execution_count": 5,
      "outputs": [
        {
          "output_type": "execute_result",
          "data": {
            "text/plain": [
              "a    4\n",
              "c   -7\n",
              "b   -5\n",
              "d    3\n",
              "dtype: int64"
            ]
          },
          "metadata": {
            "tags": []
          },
          "execution_count": 5
        }
      ]
    },
    {
      "cell_type": "code",
      "metadata": {
        "id": "u_DO1AaivvwC",
        "colab_type": "code",
        "colab": {
          "base_uri": "https://localhost:8080/",
          "height": 105
        },
        "outputId": "10ebe20c-9e52-43e2-ae3f-7af6f8b2b627"
      },
      "source": [
        "# dict로 시리즈 정의\n",
        "s=pd.Series({'a':4,'c':-7,'b':-5,'d':3})\n",
        "s"
      ],
      "execution_count": 6,
      "outputs": [
        {
          "output_type": "execute_result",
          "data": {
            "text/plain": [
              "a    4\n",
              "c   -7\n",
              "b   -5\n",
              "d    3\n",
              "dtype: int64"
            ]
          },
          "metadata": {
            "tags": []
          },
          "execution_count": 6
        }
      ]
    },
    {
      "cell_type": "code",
      "metadata": {
        "id": "12waOtVDxr3Q",
        "colab_type": "code",
        "colab": {
          "base_uri": "https://localhost:8080/",
          "height": 122
        },
        "outputId": "e94bd235-fcb3-4c9a-890d-d004399f5ff8"
      },
      "source": [
        "# column의 이름과 index의 이름 정의\n",
        "s.name='column' #column 이름\n",
        "s.index.name='index' #index 이름\n",
        "s"
      ],
      "execution_count": 7,
      "outputs": [
        {
          "output_type": "execute_result",
          "data": {
            "text/plain": [
              "index\n",
              "a    4\n",
              "c   -7\n",
              "b   -5\n",
              "d    3\n",
              "Name: column, dtype: int64"
            ]
          },
          "metadata": {
            "tags": []
          },
          "execution_count": 7
        }
      ]
    },
    {
      "cell_type": "code",
      "metadata": {
        "id": "35d63OIFy8IW",
        "colab_type": "code",
        "colab": {
          "base_uri": "https://localhost:8080/",
          "height": 122
        },
        "outputId": "0612bd2a-94e0-404f-a25b-4625e1fd720f"
      },
      "source": [
        "# index 변경\n",
        "s.index=['A','B','C','D']\n",
        "s.index.name='modified'\n",
        "s"
      ],
      "execution_count": 8,
      "outputs": [
        {
          "output_type": "execute_result",
          "data": {
            "text/plain": [
              "modified\n",
              "A    4\n",
              "B   -7\n",
              "C   -5\n",
              "D    3\n",
              "Name: column, dtype: int64"
            ]
          },
          "metadata": {
            "tags": []
          },
          "execution_count": 8
        }
      ]
    },
    {
      "cell_type": "code",
      "metadata": {
        "id": "oUbany_8yDCC",
        "colab_type": "code",
        "colab": {
          "base_uri": "https://localhost:8080/",
          "height": 195
        },
        "outputId": "61bb4953-4a63-4b49-f960-a2e0738e1e61"
      },
      "source": [
        "# 데이터프레임으로 변환\n",
        "pd.DataFrame(s)"
      ],
      "execution_count": 9,
      "outputs": [
        {
          "output_type": "execute_result",
          "data": {
            "text/html": [
              "<div>\n",
              "<style scoped>\n",
              "    .dataframe tbody tr th:only-of-type {\n",
              "        vertical-align: middle;\n",
              "    }\n",
              "\n",
              "    .dataframe tbody tr th {\n",
              "        vertical-align: top;\n",
              "    }\n",
              "\n",
              "    .dataframe thead th {\n",
              "        text-align: right;\n",
              "    }\n",
              "</style>\n",
              "<table border=\"1\" class=\"dataframe\">\n",
              "  <thead>\n",
              "    <tr style=\"text-align: right;\">\n",
              "      <th></th>\n",
              "      <th>column</th>\n",
              "    </tr>\n",
              "    <tr>\n",
              "      <th>modified</th>\n",
              "      <th></th>\n",
              "    </tr>\n",
              "  </thead>\n",
              "  <tbody>\n",
              "    <tr>\n",
              "      <th>A</th>\n",
              "      <td>4</td>\n",
              "    </tr>\n",
              "    <tr>\n",
              "      <th>B</th>\n",
              "      <td>-7</td>\n",
              "    </tr>\n",
              "    <tr>\n",
              "      <th>C</th>\n",
              "      <td>-5</td>\n",
              "    </tr>\n",
              "    <tr>\n",
              "      <th>D</th>\n",
              "      <td>3</td>\n",
              "    </tr>\n",
              "  </tbody>\n",
              "</table>\n",
              "</div>"
            ],
            "text/plain": [
              "          column\n",
              "modified        \n",
              "A              4\n",
              "B             -7\n",
              "C             -5\n",
              "D              3"
            ]
          },
          "metadata": {
            "tags": []
          },
          "execution_count": 9
        }
      ]
    },
    {
      "cell_type": "code",
      "metadata": {
        "id": "w3JnsqdfwicM",
        "colab_type": "code",
        "colab": {
          "base_uri": "https://localhost:8080/",
          "height": 140
        },
        "outputId": "594687aa-f466-4428-991f-d29a8ab61e29"
      },
      "source": [
        "# 시간 계열 인덱스를 가지는 시리즈 형식\n",
        "s=pd.Series(data=np.arange(6),index=pd.date_range('20200901',periods=6))\n",
        "s"
      ],
      "execution_count": 10,
      "outputs": [
        {
          "output_type": "execute_result",
          "data": {
            "text/plain": [
              "2020-09-01    0\n",
              "2020-09-02    1\n",
              "2020-09-03    2\n",
              "2020-09-04    3\n",
              "2020-09-05    4\n",
              "2020-09-06    5\n",
              "Freq: D, dtype: int64"
            ]
          },
          "metadata": {
            "tags": []
          },
          "execution_count": 10
        }
      ]
    },
    {
      "cell_type": "code",
      "metadata": {
        "id": "ZYub__WLwTk1",
        "colab_type": "code",
        "colab": {
          "base_uri": "https://localhost:8080/",
          "height": 70
        },
        "outputId": "7b76d4fc-77c5-4439-aa54-9e8ed9381ed0"
      },
      "source": [
        "# Series의 index\n",
        "s.index"
      ],
      "execution_count": 11,
      "outputs": [
        {
          "output_type": "execute_result",
          "data": {
            "text/plain": [
              "DatetimeIndex(['2020-09-01', '2020-09-02', '2020-09-03', '2020-09-04',\n",
              "               '2020-09-05', '2020-09-06'],\n",
              "              dtype='datetime64[ns]', freq='D')"
            ]
          },
          "metadata": {
            "tags": []
          },
          "execution_count": 11
        }
      ]
    },
    {
      "cell_type": "code",
      "metadata": {
        "id": "gIxG3bQKweK4",
        "colab_type": "code",
        "colab": {
          "base_uri": "https://localhost:8080/",
          "height": 34
        },
        "outputId": "35ed283f-fb80-44b1-bc5e-5fa0950b195d"
      },
      "source": [
        "# Series의 values\n",
        "s.values"
      ],
      "execution_count": 12,
      "outputs": [
        {
          "output_type": "execute_result",
          "data": {
            "text/plain": [
              "array([0, 1, 2, 3, 4, 5])"
            ]
          },
          "metadata": {
            "tags": []
          },
          "execution_count": 12
        }
      ]
    },
    {
      "cell_type": "markdown",
      "metadata": {
        "id": "XZ6Okn5yx-Ut",
        "colab_type": "text"
      },
      "source": [
        "\\[ \\] 을 활용한 데이터 slicing"
      ]
    },
    {
      "cell_type": "code",
      "metadata": {
        "id": "GfDlf5HKxrA6",
        "colab_type": "code",
        "colab": {
          "base_uri": "https://localhost:8080/",
          "height": 34
        },
        "outputId": "437afb4f-ea7a-4235-bde4-38e8efe274f4"
      },
      "source": [
        "# index 번호로 검색\n",
        "s[0]"
      ],
      "execution_count": 13,
      "outputs": [
        {
          "output_type": "execute_result",
          "data": {
            "text/plain": [
              "0"
            ]
          },
          "metadata": {
            "tags": []
          },
          "execution_count": 13
        }
      ]
    },
    {
      "cell_type": "code",
      "metadata": {
        "id": "W_mxqQM-yI2I",
        "colab_type": "code",
        "colab": {
          "base_uri": "https://localhost:8080/",
          "height": 87
        },
        "outputId": "a8ccdf88-da37-4c37-a848-0898ae473776"
      },
      "source": [
        "# slicing 가능\n",
        "s[1:4]"
      ],
      "execution_count": 14,
      "outputs": [
        {
          "output_type": "execute_result",
          "data": {
            "text/plain": [
              "2020-09-02    1\n",
              "2020-09-03    2\n",
              "2020-09-04    3\n",
              "Freq: D, dtype: int64"
            ]
          },
          "metadata": {
            "tags": []
          },
          "execution_count": 14
        }
      ]
    },
    {
      "cell_type": "code",
      "metadata": {
        "id": "lp-huLMoyT6X",
        "colab_type": "code",
        "colab": {
          "base_uri": "https://localhost:8080/",
          "height": 34
        },
        "outputId": "918359e4-1a80-4cb7-92cd-9d05c8e0cada"
      },
      "source": [
        "# index 이름 사용 가능\n",
        "s['20200905']"
      ],
      "execution_count": 15,
      "outputs": [
        {
          "output_type": "execute_result",
          "data": {
            "text/plain": [
              "4"
            ]
          },
          "metadata": {
            "tags": []
          },
          "execution_count": 15
        }
      ]
    },
    {
      "cell_type": "code",
      "metadata": {
        "id": "buH4WraayTsX",
        "colab_type": "code",
        "colab": {
          "base_uri": "https://localhost:8080/",
          "height": 105
        },
        "outputId": "1233b026-09c9-41eb-ecd8-a6fd3f529dfc"
      },
      "source": [
        "# index 이름 슬라이싱 가능\n",
        "s['20200902':'20200905']"
      ],
      "execution_count": 16,
      "outputs": [
        {
          "output_type": "execute_result",
          "data": {
            "text/plain": [
              "2020-09-02    1\n",
              "2020-09-03    2\n",
              "2020-09-04    3\n",
              "2020-09-05    4\n",
              "Freq: D, dtype: int64"
            ]
          },
          "metadata": {
            "tags": []
          },
          "execution_count": 16
        }
      ]
    },
    {
      "cell_type": "markdown",
      "metadata": {
        "id": "xnkPXIJYJeck",
        "colab_type": "text"
      },
      "source": [
        "Series의 함수\n",
        "* pd.Series.value_counts( )\n",
        "* pd.Series.str.lower( )\n",
        "* pd.Series.str.upper( )\n",
        "* pd.Series.where( )"
      ]
    },
    {
      "cell_type": "code",
      "metadata": {
        "id": "h_VFcdxRgXBt",
        "colab_type": "code",
        "colab": {
          "base_uri": "https://localhost:8080/",
          "height": 228
        },
        "outputId": "7d197e94-d2f3-490c-f516-8ec3347e9ef5"
      },
      "source": [
        "# Series 데이터 생성\n",
        "series=pd.Series(np.random.randint(10,size=100))\n",
        "series"
      ],
      "execution_count": 17,
      "outputs": [
        {
          "output_type": "execute_result",
          "data": {
            "text/plain": [
              "0     8\n",
              "1     5\n",
              "2     0\n",
              "3     9\n",
              "4     9\n",
              "     ..\n",
              "95    3\n",
              "96    5\n",
              "97    9\n",
              "98    6\n",
              "99    8\n",
              "Length: 100, dtype: int64"
            ]
          },
          "metadata": {
            "tags": []
          },
          "execution_count": 17
        }
      ]
    },
    {
      "cell_type": "code",
      "metadata": {
        "id": "roM9bR9lg0Dr",
        "colab_type": "code",
        "colab": {
          "base_uri": "https://localhost:8080/",
          "height": 210
        },
        "outputId": "d7f79fa3-c777-4724-93e0-da8c02b29693"
      },
      "source": [
        "# 데이터 분포도, Histogram\n",
        "series.value_counts()"
      ],
      "execution_count": 18,
      "outputs": [
        {
          "output_type": "execute_result",
          "data": {
            "text/plain": [
              "0    17\n",
              "6    13\n",
              "9    12\n",
              "8    11\n",
              "5    11\n",
              "7    10\n",
              "4     9\n",
              "2     7\n",
              "3     6\n",
              "1     4\n",
              "dtype: int64"
            ]
          },
          "metadata": {
            "tags": []
          },
          "execution_count": 18
        }
      ]
    },
    {
      "cell_type": "code",
      "metadata": {
        "id": "vaCHsKIng8uc",
        "colab_type": "code",
        "colab": {
          "base_uri": "https://localhost:8080/",
          "height": 193
        },
        "outputId": "516c8c6f-0906-4dc6-adaf-ba1798e41fb5"
      },
      "source": [
        "# 문자가 포함된 Series 정의\n",
        "series=pd.Series(['A','B','C','Aaba','Baca',np.nan,'CABA','dog','cat'])\n",
        "series"
      ],
      "execution_count": 19,
      "outputs": [
        {
          "output_type": "execute_result",
          "data": {
            "text/plain": [
              "0       A\n",
              "1       B\n",
              "2       C\n",
              "3    Aaba\n",
              "4    Baca\n",
              "5     NaN\n",
              "6    CABA\n",
              "7     dog\n",
              "8     cat\n",
              "dtype: object"
            ]
          },
          "metadata": {
            "tags": []
          },
          "execution_count": 19
        }
      ]
    },
    {
      "cell_type": "code",
      "metadata": {
        "id": "AAS6WpMdhijI",
        "colab_type": "code",
        "colab": {
          "base_uri": "https://localhost:8080/",
          "height": 193
        },
        "outputId": "a740b18d-9796-4f4d-c81b-b42125ba66d5"
      },
      "source": [
        "# 대소문자 변환\n",
        "# pd.lower()\n",
        "# pd.upper()\n",
        "series.str.lower()"
      ],
      "execution_count": 20,
      "outputs": [
        {
          "output_type": "execute_result",
          "data": {
            "text/plain": [
              "0       a\n",
              "1       b\n",
              "2       c\n",
              "3    aaba\n",
              "4    baca\n",
              "5     NaN\n",
              "6    caba\n",
              "7     dog\n",
              "8     cat\n",
              "dtype: object"
            ]
          },
          "metadata": {
            "tags": []
          },
          "execution_count": 20
        }
      ]
    },
    {
      "cell_type": "code",
      "metadata": {
        "id": "k8dz7Nu-KLdr",
        "colab_type": "code",
        "colab": {
          "base_uri": "https://localhost:8080/",
          "height": 193
        },
        "outputId": "dc1cac07-10a7-4de3-c187-074c6d20e342"
      },
      "source": [
        "series.str.upper()"
      ],
      "execution_count": 21,
      "outputs": [
        {
          "output_type": "execute_result",
          "data": {
            "text/plain": [
              "0       A\n",
              "1       B\n",
              "2       C\n",
              "3    AABA\n",
              "4    BACA\n",
              "5     NaN\n",
              "6    CABA\n",
              "7     DOG\n",
              "8     CAT\n",
              "dtype: object"
            ]
          },
          "metadata": {
            "tags": []
          },
          "execution_count": 21
        }
      ]
    },
    {
      "cell_type": "code",
      "metadata": {
        "id": "53QUd8qdjrWR",
        "colab_type": "code",
        "colab": {
          "base_uri": "https://localhost:8080/",
          "height": 140
        },
        "outputId": "f9daf327-e9a6-47e1-9bfe-4655cd4aaef4"
      },
      "source": [
        "s"
      ],
      "execution_count": 22,
      "outputs": [
        {
          "output_type": "execute_result",
          "data": {
            "text/plain": [
              "2020-09-01    0\n",
              "2020-09-02    1\n",
              "2020-09-03    2\n",
              "2020-09-04    3\n",
              "2020-09-05    4\n",
              "2020-09-06    5\n",
              "Freq: D, dtype: int64"
            ]
          },
          "metadata": {
            "tags": []
          },
          "execution_count": 22
        }
      ]
    },
    {
      "cell_type": "code",
      "metadata": {
        "id": "JeAGRdsHur69",
        "colab_type": "code",
        "colab": {
          "base_uri": "https://localhost:8080/",
          "height": 140
        },
        "outputId": "450bcda3-537d-4049-bbd7-5ef84eda84ca"
      },
      "source": [
        "s.where(s<2,'high')"
      ],
      "execution_count": 23,
      "outputs": [
        {
          "output_type": "execute_result",
          "data": {
            "text/plain": [
              "2020-09-01       0\n",
              "2020-09-02       1\n",
              "2020-09-03    high\n",
              "2020-09-04    high\n",
              "2020-09-05    high\n",
              "2020-09-06    high\n",
              "Freq: D, dtype: object"
            ]
          },
          "metadata": {
            "tags": []
          },
          "execution_count": 23
        }
      ]
    },
    {
      "cell_type": "markdown",
      "metadata": {
        "id": "9nbpJI1MJZ9X",
        "colab_type": "text"
      },
      "source": [
        "# 데이터프레임\n",
        "* 여러 column들을 가지는 형식\n",
        "* pd.DataFrame()\n",
        "* index, column, values"
      ]
    },
    {
      "cell_type": "code",
      "metadata": {
        "id": "IQVKZrXaiYyn",
        "colab_type": "code",
        "colab": {
          "base_uri": "https://localhost:8080/",
          "height": 136
        },
        "outputId": "ff0b7850-0664-4c74-e218-4b16fe517ebf"
      },
      "source": [
        "# numpy array를 이용한 DataFrame 정의\n",
        "pd.DataFrame(np.random.rand(3,4))"
      ],
      "execution_count": 24,
      "outputs": [
        {
          "output_type": "execute_result",
          "data": {
            "text/html": [
              "<div>\n",
              "<style scoped>\n",
              "    .dataframe tbody tr th:only-of-type {\n",
              "        vertical-align: middle;\n",
              "    }\n",
              "\n",
              "    .dataframe tbody tr th {\n",
              "        vertical-align: top;\n",
              "    }\n",
              "\n",
              "    .dataframe thead th {\n",
              "        text-align: right;\n",
              "    }\n",
              "</style>\n",
              "<table border=\"1\" class=\"dataframe\">\n",
              "  <thead>\n",
              "    <tr style=\"text-align: right;\">\n",
              "      <th></th>\n",
              "      <th>0</th>\n",
              "      <th>1</th>\n",
              "      <th>2</th>\n",
              "      <th>3</th>\n",
              "    </tr>\n",
              "  </thead>\n",
              "  <tbody>\n",
              "    <tr>\n",
              "      <th>0</th>\n",
              "      <td>0.946175</td>\n",
              "      <td>0.674067</td>\n",
              "      <td>0.895354</td>\n",
              "      <td>0.556449</td>\n",
              "    </tr>\n",
              "    <tr>\n",
              "      <th>1</th>\n",
              "      <td>0.423682</td>\n",
              "      <td>0.307596</td>\n",
              "      <td>0.800752</td>\n",
              "      <td>0.463654</td>\n",
              "    </tr>\n",
              "    <tr>\n",
              "      <th>2</th>\n",
              "      <td>0.841499</td>\n",
              "      <td>0.550496</td>\n",
              "      <td>0.967960</td>\n",
              "      <td>0.463076</td>\n",
              "    </tr>\n",
              "  </tbody>\n",
              "</table>\n",
              "</div>"
            ],
            "text/plain": [
              "          0         1         2         3\n",
              "0  0.946175  0.674067  0.895354  0.556449\n",
              "1  0.423682  0.307596  0.800752  0.463654\n",
              "2  0.841499  0.550496  0.967960  0.463076"
            ]
          },
          "metadata": {
            "tags": []
          },
          "execution_count": 24
        }
      ]
    },
    {
      "cell_type": "code",
      "metadata": {
        "id": "WSvNizq_3KQy",
        "colab_type": "code",
        "colab": {
          "base_uri": "https://localhost:8080/",
          "height": 106
        },
        "outputId": "74f2b665-f76f-4ff5-8c8c-bece46a755e1"
      },
      "source": [
        "# 리스트를 이용한 데이터프레임 정의\n",
        "data=[[1,'20200901','1',3,'test','foo'],[1,'20200901',3,'test','foo']]\n",
        "index=[0,1]\n",
        "columns=['A','B','C','D','E','F']\n",
        "df=pd.DataFrame(data=data,index=index,columns=columns)\n",
        "df"
      ],
      "execution_count": 25,
      "outputs": [
        {
          "output_type": "execute_result",
          "data": {
            "text/html": [
              "<div>\n",
              "<style scoped>\n",
              "    .dataframe tbody tr th:only-of-type {\n",
              "        vertical-align: middle;\n",
              "    }\n",
              "\n",
              "    .dataframe tbody tr th {\n",
              "        vertical-align: top;\n",
              "    }\n",
              "\n",
              "    .dataframe thead th {\n",
              "        text-align: right;\n",
              "    }\n",
              "</style>\n",
              "<table border=\"1\" class=\"dataframe\">\n",
              "  <thead>\n",
              "    <tr style=\"text-align: right;\">\n",
              "      <th></th>\n",
              "      <th>A</th>\n",
              "      <th>B</th>\n",
              "      <th>C</th>\n",
              "      <th>D</th>\n",
              "      <th>E</th>\n",
              "      <th>F</th>\n",
              "    </tr>\n",
              "  </thead>\n",
              "  <tbody>\n",
              "    <tr>\n",
              "      <th>0</th>\n",
              "      <td>1</td>\n",
              "      <td>20200901</td>\n",
              "      <td>1</td>\n",
              "      <td>3</td>\n",
              "      <td>test</td>\n",
              "      <td>foo</td>\n",
              "    </tr>\n",
              "    <tr>\n",
              "      <th>1</th>\n",
              "      <td>1</td>\n",
              "      <td>20200901</td>\n",
              "      <td>3</td>\n",
              "      <td>test</td>\n",
              "      <td>foo</td>\n",
              "      <td>None</td>\n",
              "    </tr>\n",
              "  </tbody>\n",
              "</table>\n",
              "</div>"
            ],
            "text/plain": [
              "   A         B  C     D     E     F\n",
              "0  1  20200901  1     3  test   foo\n",
              "1  1  20200901  3  test   foo  None"
            ]
          },
          "metadata": {
            "tags": []
          },
          "execution_count": 25
        }
      ]
    },
    {
      "cell_type": "code",
      "metadata": {
        "id": "NFc1ePDv5Xo4",
        "colab_type": "code",
        "colab": {
          "base_uri": "https://localhost:8080/",
          "height": 136
        },
        "outputId": "953b8aef-a99f-4b65-d0e2-881d5fc0ddf8"
      },
      "source": [
        "# column의 이름과 index의 이름 정의\n",
        "df.index.name='index'\n",
        "df.columns.name='columns'\n",
        "df"
      ],
      "execution_count": 26,
      "outputs": [
        {
          "output_type": "execute_result",
          "data": {
            "text/html": [
              "<div>\n",
              "<style scoped>\n",
              "    .dataframe tbody tr th:only-of-type {\n",
              "        vertical-align: middle;\n",
              "    }\n",
              "\n",
              "    .dataframe tbody tr th {\n",
              "        vertical-align: top;\n",
              "    }\n",
              "\n",
              "    .dataframe thead th {\n",
              "        text-align: right;\n",
              "    }\n",
              "</style>\n",
              "<table border=\"1\" class=\"dataframe\">\n",
              "  <thead>\n",
              "    <tr style=\"text-align: right;\">\n",
              "      <th>columns</th>\n",
              "      <th>A</th>\n",
              "      <th>B</th>\n",
              "      <th>C</th>\n",
              "      <th>D</th>\n",
              "      <th>E</th>\n",
              "      <th>F</th>\n",
              "    </tr>\n",
              "    <tr>\n",
              "      <th>index</th>\n",
              "      <th></th>\n",
              "      <th></th>\n",
              "      <th></th>\n",
              "      <th></th>\n",
              "      <th></th>\n",
              "      <th></th>\n",
              "    </tr>\n",
              "  </thead>\n",
              "  <tbody>\n",
              "    <tr>\n",
              "      <th>0</th>\n",
              "      <td>1</td>\n",
              "      <td>20200901</td>\n",
              "      <td>1</td>\n",
              "      <td>3</td>\n",
              "      <td>test</td>\n",
              "      <td>foo</td>\n",
              "    </tr>\n",
              "    <tr>\n",
              "      <th>1</th>\n",
              "      <td>1</td>\n",
              "      <td>20200901</td>\n",
              "      <td>3</td>\n",
              "      <td>test</td>\n",
              "      <td>foo</td>\n",
              "      <td>None</td>\n",
              "    </tr>\n",
              "  </tbody>\n",
              "</table>\n",
              "</div>"
            ],
            "text/plain": [
              "columns  A         B  C     D     E     F\n",
              "index                                    \n",
              "0        1  20200901  1     3  test   foo\n",
              "1        1  20200901  3  test   foo  None"
            ]
          },
          "metadata": {
            "tags": []
          },
          "execution_count": 26
        }
      ]
    },
    {
      "cell_type": "code",
      "metadata": {
        "id": "zbNc8U8K6KM3",
        "colab_type": "code",
        "colab": {
          "base_uri": "https://localhost:8080/",
          "height": 87
        },
        "outputId": "c3d84a3a-e25c-4afa-92bf-3d15f46bb817"
      },
      "source": [
        "# 데이터프레임에서 하나의 colume을 Series 타입으로 가져오기\n",
        "df['A']"
      ],
      "execution_count": 27,
      "outputs": [
        {
          "output_type": "execute_result",
          "data": {
            "text/plain": [
              "index\n",
              "0    1\n",
              "1    1\n",
              "Name: A, dtype: int64"
            ]
          },
          "metadata": {
            "tags": []
          },
          "execution_count": 27
        }
      ]
    },
    {
      "cell_type": "code",
      "metadata": {
        "id": "2Q6rYa6MKExA",
        "colab_type": "code",
        "colab": {
          "base_uri": "https://localhost:8080/",
          "height": 166
        },
        "outputId": "3563240e-85cb-4f71-c4d2-e3a389518813"
      },
      "source": [
        "# dict를 이용한 데이터프레임 정의\n",
        "df=pd.DataFrame({'A':1.,\n",
        "                 'B':pd.Timestamp('20200901'),\n",
        "                 'C':pd.Series(1,index=list(range(4)),dtype='float32'),\n",
        "                 'D':np.array([3]*4,dtype='int32'),\n",
        "                 'E':pd.Categorical(['test','train','test','train']),\n",
        "                 'F':'foo'})\n",
        "df"
      ],
      "execution_count": 28,
      "outputs": [
        {
          "output_type": "execute_result",
          "data": {
            "text/html": [
              "<div>\n",
              "<style scoped>\n",
              "    .dataframe tbody tr th:only-of-type {\n",
              "        vertical-align: middle;\n",
              "    }\n",
              "\n",
              "    .dataframe tbody tr th {\n",
              "        vertical-align: top;\n",
              "    }\n",
              "\n",
              "    .dataframe thead th {\n",
              "        text-align: right;\n",
              "    }\n",
              "</style>\n",
              "<table border=\"1\" class=\"dataframe\">\n",
              "  <thead>\n",
              "    <tr style=\"text-align: right;\">\n",
              "      <th></th>\n",
              "      <th>A</th>\n",
              "      <th>B</th>\n",
              "      <th>C</th>\n",
              "      <th>D</th>\n",
              "      <th>E</th>\n",
              "      <th>F</th>\n",
              "    </tr>\n",
              "  </thead>\n",
              "  <tbody>\n",
              "    <tr>\n",
              "      <th>0</th>\n",
              "      <td>1.0</td>\n",
              "      <td>2020-09-01</td>\n",
              "      <td>1.0</td>\n",
              "      <td>3</td>\n",
              "      <td>test</td>\n",
              "      <td>foo</td>\n",
              "    </tr>\n",
              "    <tr>\n",
              "      <th>1</th>\n",
              "      <td>1.0</td>\n",
              "      <td>2020-09-01</td>\n",
              "      <td>1.0</td>\n",
              "      <td>3</td>\n",
              "      <td>train</td>\n",
              "      <td>foo</td>\n",
              "    </tr>\n",
              "    <tr>\n",
              "      <th>2</th>\n",
              "      <td>1.0</td>\n",
              "      <td>2020-09-01</td>\n",
              "      <td>1.0</td>\n",
              "      <td>3</td>\n",
              "      <td>test</td>\n",
              "      <td>foo</td>\n",
              "    </tr>\n",
              "    <tr>\n",
              "      <th>3</th>\n",
              "      <td>1.0</td>\n",
              "      <td>2020-09-01</td>\n",
              "      <td>1.0</td>\n",
              "      <td>3</td>\n",
              "      <td>train</td>\n",
              "      <td>foo</td>\n",
              "    </tr>\n",
              "  </tbody>\n",
              "</table>\n",
              "</div>"
            ],
            "text/plain": [
              "     A          B    C  D      E    F\n",
              "0  1.0 2020-09-01  1.0  3   test  foo\n",
              "1  1.0 2020-09-01  1.0  3  train  foo\n",
              "2  1.0 2020-09-01  1.0  3   test  foo\n",
              "3  1.0 2020-09-01  1.0  3  train  foo"
            ]
          },
          "metadata": {
            "tags": []
          },
          "execution_count": 28
        }
      ]
    },
    {
      "cell_type": "code",
      "metadata": {
        "id": "1P8fjcAh9KmG",
        "colab_type": "code",
        "colab": {
          "base_uri": "https://localhost:8080/",
          "height": 195
        },
        "outputId": "f5830f0a-630e-4ce0-91b9-5ba0d872f05c"
      },
      "source": [
        "# 하나의 column을 index로 수정\n",
        "# inplace=True 일때 원래 데이터가 수정됨\n",
        "\n",
        "df.set_index('B',inplace=True)\n",
        "df"
      ],
      "execution_count": 29,
      "outputs": [
        {
          "output_type": "execute_result",
          "data": {
            "text/html": [
              "<div>\n",
              "<style scoped>\n",
              "    .dataframe tbody tr th:only-of-type {\n",
              "        vertical-align: middle;\n",
              "    }\n",
              "\n",
              "    .dataframe tbody tr th {\n",
              "        vertical-align: top;\n",
              "    }\n",
              "\n",
              "    .dataframe thead th {\n",
              "        text-align: right;\n",
              "    }\n",
              "</style>\n",
              "<table border=\"1\" class=\"dataframe\">\n",
              "  <thead>\n",
              "    <tr style=\"text-align: right;\">\n",
              "      <th></th>\n",
              "      <th>A</th>\n",
              "      <th>C</th>\n",
              "      <th>D</th>\n",
              "      <th>E</th>\n",
              "      <th>F</th>\n",
              "    </tr>\n",
              "    <tr>\n",
              "      <th>B</th>\n",
              "      <th></th>\n",
              "      <th></th>\n",
              "      <th></th>\n",
              "      <th></th>\n",
              "      <th></th>\n",
              "    </tr>\n",
              "  </thead>\n",
              "  <tbody>\n",
              "    <tr>\n",
              "      <th>2020-09-01</th>\n",
              "      <td>1.0</td>\n",
              "      <td>1.0</td>\n",
              "      <td>3</td>\n",
              "      <td>test</td>\n",
              "      <td>foo</td>\n",
              "    </tr>\n",
              "    <tr>\n",
              "      <th>2020-09-01</th>\n",
              "      <td>1.0</td>\n",
              "      <td>1.0</td>\n",
              "      <td>3</td>\n",
              "      <td>train</td>\n",
              "      <td>foo</td>\n",
              "    </tr>\n",
              "    <tr>\n",
              "      <th>2020-09-01</th>\n",
              "      <td>1.0</td>\n",
              "      <td>1.0</td>\n",
              "      <td>3</td>\n",
              "      <td>test</td>\n",
              "      <td>foo</td>\n",
              "    </tr>\n",
              "    <tr>\n",
              "      <th>2020-09-01</th>\n",
              "      <td>1.0</td>\n",
              "      <td>1.0</td>\n",
              "      <td>3</td>\n",
              "      <td>train</td>\n",
              "      <td>foo</td>\n",
              "    </tr>\n",
              "  </tbody>\n",
              "</table>\n",
              "</div>"
            ],
            "text/plain": [
              "              A    C  D      E    F\n",
              "B                                  \n",
              "2020-09-01  1.0  1.0  3   test  foo\n",
              "2020-09-01  1.0  1.0  3  train  foo\n",
              "2020-09-01  1.0  1.0  3   test  foo\n",
              "2020-09-01  1.0  1.0  3  train  foo"
            ]
          },
          "metadata": {
            "tags": []
          },
          "execution_count": 29
        }
      ]
    },
    {
      "cell_type": "code",
      "metadata": {
        "id": "mJWMjYfC9KtS",
        "colab_type": "code",
        "colab": {
          "base_uri": "https://localhost:8080/",
          "height": 166
        },
        "outputId": "308871d0-9752-4261-a9f8-6635c6a88311"
      },
      "source": [
        "# 인덱스를 삭제 또는 column으로 수정\n",
        "# drop=True 인덱스 세팅에 사용된 열을 삭제(True) 혹은 유지(False)\n",
        "df.reset_index(inplace=True)\n",
        "df"
      ],
      "execution_count": 30,
      "outputs": [
        {
          "output_type": "execute_result",
          "data": {
            "text/html": [
              "<div>\n",
              "<style scoped>\n",
              "    .dataframe tbody tr th:only-of-type {\n",
              "        vertical-align: middle;\n",
              "    }\n",
              "\n",
              "    .dataframe tbody tr th {\n",
              "        vertical-align: top;\n",
              "    }\n",
              "\n",
              "    .dataframe thead th {\n",
              "        text-align: right;\n",
              "    }\n",
              "</style>\n",
              "<table border=\"1\" class=\"dataframe\">\n",
              "  <thead>\n",
              "    <tr style=\"text-align: right;\">\n",
              "      <th></th>\n",
              "      <th>B</th>\n",
              "      <th>A</th>\n",
              "      <th>C</th>\n",
              "      <th>D</th>\n",
              "      <th>E</th>\n",
              "      <th>F</th>\n",
              "    </tr>\n",
              "  </thead>\n",
              "  <tbody>\n",
              "    <tr>\n",
              "      <th>0</th>\n",
              "      <td>2020-09-01</td>\n",
              "      <td>1.0</td>\n",
              "      <td>1.0</td>\n",
              "      <td>3</td>\n",
              "      <td>test</td>\n",
              "      <td>foo</td>\n",
              "    </tr>\n",
              "    <tr>\n",
              "      <th>1</th>\n",
              "      <td>2020-09-01</td>\n",
              "      <td>1.0</td>\n",
              "      <td>1.0</td>\n",
              "      <td>3</td>\n",
              "      <td>train</td>\n",
              "      <td>foo</td>\n",
              "    </tr>\n",
              "    <tr>\n",
              "      <th>2</th>\n",
              "      <td>2020-09-01</td>\n",
              "      <td>1.0</td>\n",
              "      <td>1.0</td>\n",
              "      <td>3</td>\n",
              "      <td>test</td>\n",
              "      <td>foo</td>\n",
              "    </tr>\n",
              "    <tr>\n",
              "      <th>3</th>\n",
              "      <td>2020-09-01</td>\n",
              "      <td>1.0</td>\n",
              "      <td>1.0</td>\n",
              "      <td>3</td>\n",
              "      <td>train</td>\n",
              "      <td>foo</td>\n",
              "    </tr>\n",
              "  </tbody>\n",
              "</table>\n",
              "</div>"
            ],
            "text/plain": [
              "           B    A    C  D      E    F\n",
              "0 2020-09-01  1.0  1.0  3   test  foo\n",
              "1 2020-09-01  1.0  1.0  3  train  foo\n",
              "2 2020-09-01  1.0  1.0  3   test  foo\n",
              "3 2020-09-01  1.0  1.0  3  train  foo"
            ]
          },
          "metadata": {
            "tags": []
          },
          "execution_count": 30
        }
      ]
    },
    {
      "cell_type": "code",
      "metadata": {
        "id": "d9sV0zyNF_xi",
        "colab_type": "code",
        "colab": {}
      },
      "source": [
        "# Datetime 형식\n",
        "dates=pd.date_range('20200901',periods=6)"
      ],
      "execution_count": 31,
      "outputs": []
    },
    {
      "cell_type": "code",
      "metadata": {
        "id": "Zw3X_xxkGMAM",
        "colab_type": "code",
        "colab": {
          "base_uri": "https://localhost:8080/",
          "height": 122
        },
        "outputId": "b8d320e2-6987-4763-ae7c-226ca5493ec2"
      },
      "source": [
        "print(type(dates))\n",
        "print(dates.shape)\n",
        "print(dates.size)\n",
        "print(dates)"
      ],
      "execution_count": 32,
      "outputs": [
        {
          "output_type": "stream",
          "text": [
            "<class 'pandas.core.indexes.datetimes.DatetimeIndex'>\n",
            "(6,)\n",
            "6\n",
            "DatetimeIndex(['2020-09-01', '2020-09-02', '2020-09-03', '2020-09-04',\n",
            "               '2020-09-05', '2020-09-06'],\n",
            "              dtype='datetime64[ns]', freq='D')\n"
          ],
          "name": "stdout"
        }
      ]
    },
    {
      "cell_type": "code",
      "metadata": {
        "id": "AAwz4_8yG7HZ",
        "colab_type": "code",
        "colab": {
          "base_uri": "https://localhost:8080/",
          "height": 225
        },
        "outputId": "e3f438db-1fa8-49a5-e907-389958d12e6d"
      },
      "source": [
        "# DataFrame 정의\n",
        "df=pd.DataFrame(np.random.randn(6,4),index=dates,columns=list('ABCD'))\n",
        "df"
      ],
      "execution_count": 33,
      "outputs": [
        {
          "output_type": "execute_result",
          "data": {
            "text/html": [
              "<div>\n",
              "<style scoped>\n",
              "    .dataframe tbody tr th:only-of-type {\n",
              "        vertical-align: middle;\n",
              "    }\n",
              "\n",
              "    .dataframe tbody tr th {\n",
              "        vertical-align: top;\n",
              "    }\n",
              "\n",
              "    .dataframe thead th {\n",
              "        text-align: right;\n",
              "    }\n",
              "</style>\n",
              "<table border=\"1\" class=\"dataframe\">\n",
              "  <thead>\n",
              "    <tr style=\"text-align: right;\">\n",
              "      <th></th>\n",
              "      <th>A</th>\n",
              "      <th>B</th>\n",
              "      <th>C</th>\n",
              "      <th>D</th>\n",
              "    </tr>\n",
              "  </thead>\n",
              "  <tbody>\n",
              "    <tr>\n",
              "      <th>2020-09-01</th>\n",
              "      <td>-0.835750</td>\n",
              "      <td>-1.378390</td>\n",
              "      <td>1.378667</td>\n",
              "      <td>-0.803807</td>\n",
              "    </tr>\n",
              "    <tr>\n",
              "      <th>2020-09-02</th>\n",
              "      <td>1.754542</td>\n",
              "      <td>-0.693767</td>\n",
              "      <td>-0.593288</td>\n",
              "      <td>-2.334079</td>\n",
              "    </tr>\n",
              "    <tr>\n",
              "      <th>2020-09-03</th>\n",
              "      <td>-0.803668</td>\n",
              "      <td>1.167804</td>\n",
              "      <td>1.944187</td>\n",
              "      <td>-0.185353</td>\n",
              "    </tr>\n",
              "    <tr>\n",
              "      <th>2020-09-04</th>\n",
              "      <td>-1.407349</td>\n",
              "      <td>0.827321</td>\n",
              "      <td>-1.130902</td>\n",
              "      <td>0.999776</td>\n",
              "    </tr>\n",
              "    <tr>\n",
              "      <th>2020-09-05</th>\n",
              "      <td>-1.549873</td>\n",
              "      <td>0.037393</td>\n",
              "      <td>-1.304389</td>\n",
              "      <td>1.198822</td>\n",
              "    </tr>\n",
              "    <tr>\n",
              "      <th>2020-09-06</th>\n",
              "      <td>0.250481</td>\n",
              "      <td>0.436266</td>\n",
              "      <td>-2.097232</td>\n",
              "      <td>-0.704253</td>\n",
              "    </tr>\n",
              "  </tbody>\n",
              "</table>\n",
              "</div>"
            ],
            "text/plain": [
              "                   A         B         C         D\n",
              "2020-09-01 -0.835750 -1.378390  1.378667 -0.803807\n",
              "2020-09-02  1.754542 -0.693767 -0.593288 -2.334079\n",
              "2020-09-03 -0.803668  1.167804  1.944187 -0.185353\n",
              "2020-09-04 -1.407349  0.827321 -1.130902  0.999776\n",
              "2020-09-05 -1.549873  0.037393 -1.304389  1.198822\n",
              "2020-09-06  0.250481  0.436266 -2.097232 -0.704253"
            ]
          },
          "metadata": {
            "tags": []
          },
          "execution_count": 33
        }
      ]
    },
    {
      "cell_type": "code",
      "metadata": {
        "id": "lsZK1ovYJ0zp",
        "colab_type": "code",
        "colab": {
          "base_uri": "https://localhost:8080/",
          "height": 175
        },
        "outputId": "dbff79a4-655b-46d2-fc6f-8d8952562695"
      },
      "source": [
        "print(type(df))\n",
        "print(df.shape)\n",
        "print(df.ndim)\n",
        "print(df.size)\n",
        "print(df.dtypes)"
      ],
      "execution_count": 34,
      "outputs": [
        {
          "output_type": "stream",
          "text": [
            "<class 'pandas.core.frame.DataFrame'>\n",
            "(6, 4)\n",
            "2\n",
            "24\n",
            "A    float64\n",
            "B    float64\n",
            "C    float64\n",
            "D    float64\n",
            "dtype: object\n"
          ],
          "name": "stdout"
        }
      ]
    },
    {
      "cell_type": "markdown",
      "metadata": {
        "id": "1op_5EZETme8",
        "colab_type": "text"
      },
      "source": [
        "# 데이터프레임 구조\n",
        "* index, column, values\n",
        "* \\[ \\] 을 활용한 데이터 slicing"
      ]
    },
    {
      "cell_type": "code",
      "metadata": {
        "id": "3UHauNV8Q9sy",
        "colab_type": "code",
        "colab": {
          "base_uri": "https://localhost:8080/",
          "height": 136
        },
        "outputId": "59798c9e-723b-4e36-8bd2-474ee78144ad"
      },
      "source": [
        "# index는 slicing 만 가능, 단독 사용 불가\n",
        "df['20200903':'20200905']"
      ],
      "execution_count": 35,
      "outputs": [
        {
          "output_type": "execute_result",
          "data": {
            "text/html": [
              "<div>\n",
              "<style scoped>\n",
              "    .dataframe tbody tr th:only-of-type {\n",
              "        vertical-align: middle;\n",
              "    }\n",
              "\n",
              "    .dataframe tbody tr th {\n",
              "        vertical-align: top;\n",
              "    }\n",
              "\n",
              "    .dataframe thead th {\n",
              "        text-align: right;\n",
              "    }\n",
              "</style>\n",
              "<table border=\"1\" class=\"dataframe\">\n",
              "  <thead>\n",
              "    <tr style=\"text-align: right;\">\n",
              "      <th></th>\n",
              "      <th>A</th>\n",
              "      <th>B</th>\n",
              "      <th>C</th>\n",
              "      <th>D</th>\n",
              "    </tr>\n",
              "  </thead>\n",
              "  <tbody>\n",
              "    <tr>\n",
              "      <th>2020-09-03</th>\n",
              "      <td>-0.803668</td>\n",
              "      <td>1.167804</td>\n",
              "      <td>1.944187</td>\n",
              "      <td>-0.185353</td>\n",
              "    </tr>\n",
              "    <tr>\n",
              "      <th>2020-09-04</th>\n",
              "      <td>-1.407349</td>\n",
              "      <td>0.827321</td>\n",
              "      <td>-1.130902</td>\n",
              "      <td>0.999776</td>\n",
              "    </tr>\n",
              "    <tr>\n",
              "      <th>2020-09-05</th>\n",
              "      <td>-1.549873</td>\n",
              "      <td>0.037393</td>\n",
              "      <td>-1.304389</td>\n",
              "      <td>1.198822</td>\n",
              "    </tr>\n",
              "  </tbody>\n",
              "</table>\n",
              "</div>"
            ],
            "text/plain": [
              "                   A         B         C         D\n",
              "2020-09-03 -0.803668  1.167804  1.944187 -0.185353\n",
              "2020-09-04 -1.407349  0.827321 -1.130902  0.999776\n",
              "2020-09-05 -1.549873  0.037393 -1.304389  1.198822"
            ]
          },
          "metadata": {
            "tags": []
          },
          "execution_count": 35
        }
      ]
    },
    {
      "cell_type": "code",
      "metadata": {
        "id": "Cd2jQkR6UCWV",
        "colab_type": "code",
        "colab": {
          "base_uri": "https://localhost:8080/",
          "height": 140
        },
        "outputId": "23378abc-5568-4965-fcaf-8815a1556160"
      },
      "source": [
        "# column도 단독 사용 가능\n",
        "# df.C 로도 동일한 결과를 나나냄\n",
        "df['C']"
      ],
      "execution_count": 36,
      "outputs": [
        {
          "output_type": "execute_result",
          "data": {
            "text/plain": [
              "2020-09-01    1.378667\n",
              "2020-09-02   -0.593288\n",
              "2020-09-03    1.944187\n",
              "2020-09-04   -1.130902\n",
              "2020-09-05   -1.304389\n",
              "2020-09-06   -2.097232\n",
              "Freq: D, Name: C, dtype: float64"
            ]
          },
          "metadata": {
            "tags": []
          },
          "execution_count": 36
        }
      ]
    },
    {
      "cell_type": "code",
      "metadata": {
        "id": "I4kgW-mZVB3y",
        "colab_type": "code",
        "colab": {
          "base_uri": "https://localhost:8080/",
          "height": 225
        },
        "outputId": "1c5c5345-4f54-4338-d720-f6017a1e291e"
      },
      "source": [
        "# column을 복수로 사용하기 위해서는 리스트로 전달\n",
        "df[['C','A']]"
      ],
      "execution_count": 37,
      "outputs": [
        {
          "output_type": "execute_result",
          "data": {
            "text/html": [
              "<div>\n",
              "<style scoped>\n",
              "    .dataframe tbody tr th:only-of-type {\n",
              "        vertical-align: middle;\n",
              "    }\n",
              "\n",
              "    .dataframe tbody tr th {\n",
              "        vertical-align: top;\n",
              "    }\n",
              "\n",
              "    .dataframe thead th {\n",
              "        text-align: right;\n",
              "    }\n",
              "</style>\n",
              "<table border=\"1\" class=\"dataframe\">\n",
              "  <thead>\n",
              "    <tr style=\"text-align: right;\">\n",
              "      <th></th>\n",
              "      <th>C</th>\n",
              "      <th>A</th>\n",
              "    </tr>\n",
              "  </thead>\n",
              "  <tbody>\n",
              "    <tr>\n",
              "      <th>2020-09-01</th>\n",
              "      <td>1.378667</td>\n",
              "      <td>-0.835750</td>\n",
              "    </tr>\n",
              "    <tr>\n",
              "      <th>2020-09-02</th>\n",
              "      <td>-0.593288</td>\n",
              "      <td>1.754542</td>\n",
              "    </tr>\n",
              "    <tr>\n",
              "      <th>2020-09-03</th>\n",
              "      <td>1.944187</td>\n",
              "      <td>-0.803668</td>\n",
              "    </tr>\n",
              "    <tr>\n",
              "      <th>2020-09-04</th>\n",
              "      <td>-1.130902</td>\n",
              "      <td>-1.407349</td>\n",
              "    </tr>\n",
              "    <tr>\n",
              "      <th>2020-09-05</th>\n",
              "      <td>-1.304389</td>\n",
              "      <td>-1.549873</td>\n",
              "    </tr>\n",
              "    <tr>\n",
              "      <th>2020-09-06</th>\n",
              "      <td>-2.097232</td>\n",
              "      <td>0.250481</td>\n",
              "    </tr>\n",
              "  </tbody>\n",
              "</table>\n",
              "</div>"
            ],
            "text/plain": [
              "                   C         A\n",
              "2020-09-01  1.378667 -0.835750\n",
              "2020-09-02 -0.593288  1.754542\n",
              "2020-09-03  1.944187 -0.803668\n",
              "2020-09-04 -1.130902 -1.407349\n",
              "2020-09-05 -1.304389 -1.549873\n",
              "2020-09-06 -2.097232  0.250481"
            ]
          },
          "metadata": {
            "tags": []
          },
          "execution_count": 37
        }
      ]
    },
    {
      "cell_type": "markdown",
      "metadata": {
        "id": "-Qn3lG-CW90R",
        "colab_type": "text"
      },
      "source": [
        "* **pd.loc[ ]** 를 활용한 데이터 slicing\n",
        "* **pd.at[ ]** 스칼라 값"
      ]
    },
    {
      "cell_type": "code",
      "metadata": {
        "id": "DVgyfVvaVez0",
        "colab_type": "code",
        "colab": {
          "base_uri": "https://localhost:8080/",
          "height": 34
        },
        "outputId": "32f7114f-aa6a-474e-b91a-1accbd4187b0"
      },
      "source": [
        "# index, column의 순서로 입력 \n",
        "# index에 하나의 값만 입력 가능\n",
        "# index는 생략할 수 없음\n",
        "df.loc['20200901','A']"
      ],
      "execution_count": 38,
      "outputs": [
        {
          "output_type": "execute_result",
          "data": {
            "text/plain": [
              "-0.8357501515805251"
            ]
          },
          "metadata": {
            "tags": []
          },
          "execution_count": 38
        }
      ]
    },
    {
      "cell_type": "code",
      "metadata": {
        "id": "zpkJYtRHYt2B",
        "colab_type": "code",
        "colab": {
          "base_uri": "https://localhost:8080/",
          "height": 105
        },
        "outputId": "88d45cc7-acbf-482e-e1a5-efa675c4ac26"
      },
      "source": [
        "# column은 생략 가능\n",
        "df.loc['20200903']"
      ],
      "execution_count": 39,
      "outputs": [
        {
          "output_type": "execute_result",
          "data": {
            "text/plain": [
              "A   -0.803668\n",
              "B    1.167804\n",
              "C    1.944187\n",
              "D   -0.185353\n",
              "Name: 2020-09-03 00:00:00, dtype: float64"
            ]
          },
          "metadata": {
            "tags": []
          },
          "execution_count": 39
        }
      ]
    },
    {
      "cell_type": "code",
      "metadata": {
        "id": "Q0xrKhiRXY-c",
        "colab_type": "code",
        "colab": {
          "base_uri": "https://localhost:8080/",
          "height": 87
        },
        "outputId": "0d6acaa5-e396-49db-d7a3-e6a3331f35aa"
      },
      "source": [
        "# index에서 슬라이싱 가능\n",
        "df.loc['20200903':'20200905','A']"
      ],
      "execution_count": 40,
      "outputs": [
        {
          "output_type": "execute_result",
          "data": {
            "text/plain": [
              "2020-09-03   -0.803668\n",
              "2020-09-04   -1.407349\n",
              "2020-09-05   -1.549873\n",
              "Freq: D, Name: A, dtype: float64"
            ]
          },
          "metadata": {
            "tags": []
          },
          "execution_count": 40
        }
      ]
    },
    {
      "cell_type": "code",
      "metadata": {
        "id": "iXWm7uLmXuWi",
        "colab_type": "code",
        "colab": {
          "base_uri": "https://localhost:8080/",
          "height": 136
        },
        "outputId": "6911a5d2-d6c7-4abb-ad3e-da7bc60428d0"
      },
      "source": [
        "# column에서 슬라이싱 가능\n",
        "df.loc['20200903':'20200905','A':'C']"
      ],
      "execution_count": 41,
      "outputs": [
        {
          "output_type": "execute_result",
          "data": {
            "text/html": [
              "<div>\n",
              "<style scoped>\n",
              "    .dataframe tbody tr th:only-of-type {\n",
              "        vertical-align: middle;\n",
              "    }\n",
              "\n",
              "    .dataframe tbody tr th {\n",
              "        vertical-align: top;\n",
              "    }\n",
              "\n",
              "    .dataframe thead th {\n",
              "        text-align: right;\n",
              "    }\n",
              "</style>\n",
              "<table border=\"1\" class=\"dataframe\">\n",
              "  <thead>\n",
              "    <tr style=\"text-align: right;\">\n",
              "      <th></th>\n",
              "      <th>A</th>\n",
              "      <th>B</th>\n",
              "      <th>C</th>\n",
              "    </tr>\n",
              "  </thead>\n",
              "  <tbody>\n",
              "    <tr>\n",
              "      <th>2020-09-03</th>\n",
              "      <td>-0.803668</td>\n",
              "      <td>1.167804</td>\n",
              "      <td>1.944187</td>\n",
              "    </tr>\n",
              "    <tr>\n",
              "      <th>2020-09-04</th>\n",
              "      <td>-1.407349</td>\n",
              "      <td>0.827321</td>\n",
              "      <td>-1.130902</td>\n",
              "    </tr>\n",
              "    <tr>\n",
              "      <th>2020-09-05</th>\n",
              "      <td>-1.549873</td>\n",
              "      <td>0.037393</td>\n",
              "      <td>-1.304389</td>\n",
              "    </tr>\n",
              "  </tbody>\n",
              "</table>\n",
              "</div>"
            ],
            "text/plain": [
              "                   A         B         C\n",
              "2020-09-03 -0.803668  1.167804  1.944187\n",
              "2020-09-04 -1.407349  0.827321 -1.130902\n",
              "2020-09-05 -1.549873  0.037393 -1.304389"
            ]
          },
          "metadata": {
            "tags": []
          },
          "execution_count": 41
        }
      ]
    },
    {
      "cell_type": "code",
      "metadata": {
        "id": "UDhYdSZ7X6af",
        "colab_type": "code",
        "colab": {
          "base_uri": "https://localhost:8080/",
          "height": 136
        },
        "outputId": "9aa914b7-31cc-4981-ed8e-daa2f457a1a3"
      },
      "source": [
        "# column은 리스트로 입력 가능\n",
        "df.loc['20200903':'20200905',['A','C','B','A']]"
      ],
      "execution_count": 42,
      "outputs": [
        {
          "output_type": "execute_result",
          "data": {
            "text/html": [
              "<div>\n",
              "<style scoped>\n",
              "    .dataframe tbody tr th:only-of-type {\n",
              "        vertical-align: middle;\n",
              "    }\n",
              "\n",
              "    .dataframe tbody tr th {\n",
              "        vertical-align: top;\n",
              "    }\n",
              "\n",
              "    .dataframe thead th {\n",
              "        text-align: right;\n",
              "    }\n",
              "</style>\n",
              "<table border=\"1\" class=\"dataframe\">\n",
              "  <thead>\n",
              "    <tr style=\"text-align: right;\">\n",
              "      <th></th>\n",
              "      <th>A</th>\n",
              "      <th>C</th>\n",
              "      <th>B</th>\n",
              "      <th>A</th>\n",
              "    </tr>\n",
              "  </thead>\n",
              "  <tbody>\n",
              "    <tr>\n",
              "      <th>2020-09-03</th>\n",
              "      <td>-0.803668</td>\n",
              "      <td>1.944187</td>\n",
              "      <td>1.167804</td>\n",
              "      <td>-0.803668</td>\n",
              "    </tr>\n",
              "    <tr>\n",
              "      <th>2020-09-04</th>\n",
              "      <td>-1.407349</td>\n",
              "      <td>-1.130902</td>\n",
              "      <td>0.827321</td>\n",
              "      <td>-1.407349</td>\n",
              "    </tr>\n",
              "    <tr>\n",
              "      <th>2020-09-05</th>\n",
              "      <td>-1.549873</td>\n",
              "      <td>-1.304389</td>\n",
              "      <td>0.037393</td>\n",
              "      <td>-1.549873</td>\n",
              "    </tr>\n",
              "  </tbody>\n",
              "</table>\n",
              "</div>"
            ],
            "text/plain": [
              "                   A         C         B         A\n",
              "2020-09-03 -0.803668  1.944187  1.167804 -0.803668\n",
              "2020-09-04 -1.407349 -1.130902  0.827321 -1.407349\n",
              "2020-09-05 -1.549873 -1.304389  0.037393 -1.549873"
            ]
          },
          "metadata": {
            "tags": []
          },
          "execution_count": 42
        }
      ]
    },
    {
      "cell_type": "code",
      "metadata": {
        "id": "mKptTCbHWvLD",
        "colab_type": "code",
        "colab": {
          "base_uri": "https://localhost:8080/",
          "height": 34
        },
        "outputId": "e84e67ee-42c2-4450-d5b5-2bd16864d682"
      },
      "source": [
        "# 하나의 값을 확인 할 경우 적용\n",
        "df.at['20200903','A']"
      ],
      "execution_count": 43,
      "outputs": [
        {
          "output_type": "execute_result",
          "data": {
            "text/plain": [
              "-0.8036677162587411"
            ]
          },
          "metadata": {
            "tags": []
          },
          "execution_count": 43
        }
      ]
    },
    {
      "cell_type": "markdown",
      "metadata": {
        "id": "DSB1XBpaZTBD",
        "colab_type": "text"
      },
      "source": [
        "* **pd.iloc[ ]** 를 활용한 데이터 slicing\n",
        "* **pd.iat[ ]** 를 하나의 스칼라 값"
      ]
    },
    {
      "cell_type": "code",
      "metadata": {
        "id": "fwQNZOMiYTwq",
        "colab_type": "code",
        "colab": {
          "base_uri": "https://localhost:8080/",
          "height": 34
        },
        "outputId": "aca15536-93e4-4b7b-b320-57831b8eaf76"
      },
      "source": [
        "# index, column 순서로 숫자로 입력가능 \n",
        "df.iloc[0,0]"
      ],
      "execution_count": 44,
      "outputs": [
        {
          "output_type": "execute_result",
          "data": {
            "text/plain": [
              "-0.8357501515805251"
            ]
          },
          "metadata": {
            "tags": []
          },
          "execution_count": 44
        }
      ]
    },
    {
      "cell_type": "code",
      "metadata": {
        "id": "2zsSDHegeg6X",
        "colab_type": "code",
        "colab": {
          "base_uri": "https://localhost:8080/",
          "height": 105
        },
        "outputId": "84d0c8c1-6da3-47d8-dda4-c91774f0ab00"
      },
      "source": [
        "# column 넘버는 생략 가능\n",
        "df.iloc[0]"
      ],
      "execution_count": 45,
      "outputs": [
        {
          "output_type": "execute_result",
          "data": {
            "text/plain": [
              "A   -0.835750\n",
              "B   -1.378390\n",
              "C    1.378667\n",
              "D   -0.803807\n",
              "Name: 2020-09-01 00:00:00, dtype: float64"
            ]
          },
          "metadata": {
            "tags": []
          },
          "execution_count": 45
        }
      ]
    },
    {
      "cell_type": "code",
      "metadata": {
        "id": "KV5aSf8mewcW",
        "colab_type": "code",
        "colab": {
          "base_uri": "https://localhost:8080/",
          "height": 106
        },
        "outputId": "c7bcdc5f-67e9-42af-8d8a-e6752fdc5d2f"
      },
      "source": [
        "# index에서 슬라이싱 가능\n",
        "df.iloc[1:3]"
      ],
      "execution_count": 46,
      "outputs": [
        {
          "output_type": "execute_result",
          "data": {
            "text/html": [
              "<div>\n",
              "<style scoped>\n",
              "    .dataframe tbody tr th:only-of-type {\n",
              "        vertical-align: middle;\n",
              "    }\n",
              "\n",
              "    .dataframe tbody tr th {\n",
              "        vertical-align: top;\n",
              "    }\n",
              "\n",
              "    .dataframe thead th {\n",
              "        text-align: right;\n",
              "    }\n",
              "</style>\n",
              "<table border=\"1\" class=\"dataframe\">\n",
              "  <thead>\n",
              "    <tr style=\"text-align: right;\">\n",
              "      <th></th>\n",
              "      <th>A</th>\n",
              "      <th>B</th>\n",
              "      <th>C</th>\n",
              "      <th>D</th>\n",
              "    </tr>\n",
              "  </thead>\n",
              "  <tbody>\n",
              "    <tr>\n",
              "      <th>2020-09-02</th>\n",
              "      <td>1.754542</td>\n",
              "      <td>-0.693767</td>\n",
              "      <td>-0.593288</td>\n",
              "      <td>-2.334079</td>\n",
              "    </tr>\n",
              "    <tr>\n",
              "      <th>2020-09-03</th>\n",
              "      <td>-0.803668</td>\n",
              "      <td>1.167804</td>\n",
              "      <td>1.944187</td>\n",
              "      <td>-0.185353</td>\n",
              "    </tr>\n",
              "  </tbody>\n",
              "</table>\n",
              "</div>"
            ],
            "text/plain": [
              "                   A         B         C         D\n",
              "2020-09-02  1.754542 -0.693767 -0.593288 -2.334079\n",
              "2020-09-03 -0.803668  1.167804  1.944187 -0.185353"
            ]
          },
          "metadata": {
            "tags": []
          },
          "execution_count": 46
        }
      ]
    },
    {
      "cell_type": "code",
      "metadata": {
        "id": "c48KzuU2fFnf",
        "colab_type": "code",
        "colab": {
          "base_uri": "https://localhost:8080/",
          "height": 106
        },
        "outputId": "c01c9e8a-1f3d-40ca-f2c9-06c545c7d0df"
      },
      "source": [
        "# column에서 슬라이싱 가능\n",
        "df.iloc[1:3,2:4]"
      ],
      "execution_count": 47,
      "outputs": [
        {
          "output_type": "execute_result",
          "data": {
            "text/html": [
              "<div>\n",
              "<style scoped>\n",
              "    .dataframe tbody tr th:only-of-type {\n",
              "        vertical-align: middle;\n",
              "    }\n",
              "\n",
              "    .dataframe tbody tr th {\n",
              "        vertical-align: top;\n",
              "    }\n",
              "\n",
              "    .dataframe thead th {\n",
              "        text-align: right;\n",
              "    }\n",
              "</style>\n",
              "<table border=\"1\" class=\"dataframe\">\n",
              "  <thead>\n",
              "    <tr style=\"text-align: right;\">\n",
              "      <th></th>\n",
              "      <th>C</th>\n",
              "      <th>D</th>\n",
              "    </tr>\n",
              "  </thead>\n",
              "  <tbody>\n",
              "    <tr>\n",
              "      <th>2020-09-02</th>\n",
              "      <td>-0.593288</td>\n",
              "      <td>-2.334079</td>\n",
              "    </tr>\n",
              "    <tr>\n",
              "      <th>2020-09-03</th>\n",
              "      <td>1.944187</td>\n",
              "      <td>-0.185353</td>\n",
              "    </tr>\n",
              "  </tbody>\n",
              "</table>\n",
              "</div>"
            ],
            "text/plain": [
              "                   C         D\n",
              "2020-09-02 -0.593288 -2.334079\n",
              "2020-09-03  1.944187 -0.185353"
            ]
          },
          "metadata": {
            "tags": []
          },
          "execution_count": 47
        }
      ]
    },
    {
      "cell_type": "code",
      "metadata": {
        "id": "A6IhlelqfPMB",
        "colab_type": "code",
        "colab": {
          "base_uri": "https://localhost:8080/",
          "height": 106
        },
        "outputId": "7aa11860-2712-4cc9-d005-fd04b1ffdc18"
      },
      "source": [
        "# column은 리스트로 입력 가능\n",
        "df.iloc[1:3,[1,3,0,1]]"
      ],
      "execution_count": 48,
      "outputs": [
        {
          "output_type": "execute_result",
          "data": {
            "text/html": [
              "<div>\n",
              "<style scoped>\n",
              "    .dataframe tbody tr th:only-of-type {\n",
              "        vertical-align: middle;\n",
              "    }\n",
              "\n",
              "    .dataframe tbody tr th {\n",
              "        vertical-align: top;\n",
              "    }\n",
              "\n",
              "    .dataframe thead th {\n",
              "        text-align: right;\n",
              "    }\n",
              "</style>\n",
              "<table border=\"1\" class=\"dataframe\">\n",
              "  <thead>\n",
              "    <tr style=\"text-align: right;\">\n",
              "      <th></th>\n",
              "      <th>B</th>\n",
              "      <th>D</th>\n",
              "      <th>A</th>\n",
              "      <th>B</th>\n",
              "    </tr>\n",
              "  </thead>\n",
              "  <tbody>\n",
              "    <tr>\n",
              "      <th>2020-09-02</th>\n",
              "      <td>-0.693767</td>\n",
              "      <td>-2.334079</td>\n",
              "      <td>1.754542</td>\n",
              "      <td>-0.693767</td>\n",
              "    </tr>\n",
              "    <tr>\n",
              "      <th>2020-09-03</th>\n",
              "      <td>1.167804</td>\n",
              "      <td>-0.185353</td>\n",
              "      <td>-0.803668</td>\n",
              "      <td>1.167804</td>\n",
              "    </tr>\n",
              "  </tbody>\n",
              "</table>\n",
              "</div>"
            ],
            "text/plain": [
              "                   B         D         A         B\n",
              "2020-09-02 -0.693767 -2.334079  1.754542 -0.693767\n",
              "2020-09-03  1.167804 -0.185353 -0.803668  1.167804"
            ]
          },
          "metadata": {
            "tags": []
          },
          "execution_count": 48
        }
      ]
    },
    {
      "cell_type": "code",
      "metadata": {
        "id": "svOaD6f_Ymex",
        "colab_type": "code",
        "colab": {
          "base_uri": "https://localhost:8080/",
          "height": 34
        },
        "outputId": "98b32408-5fe3-4a73-e904-74ef6e7e5b2f"
      },
      "source": [
        "# 하나의 값 확인\n",
        "df.iat[1,1]"
      ],
      "execution_count": 49,
      "outputs": [
        {
          "output_type": "execute_result",
          "data": {
            "text/plain": [
              "-0.693767137019937"
            ]
          },
          "metadata": {
            "tags": []
          },
          "execution_count": 49
        }
      ]
    },
    {
      "cell_type": "markdown",
      "metadata": {
        "id": "U23bOuRdSQeU",
        "colab_type": "text"
      },
      "source": [
        "# 데이터프레임 값 확인\n",
        "* pd.head( )\n",
        "* pd.tail( )\n",
        "* pd.index\n",
        "* pd.columns\n",
        "* pd.values\n",
        "* pd.describe( )"
      ]
    },
    {
      "cell_type": "code",
      "metadata": {
        "id": "Cn2T_TH-R75g",
        "colab_type": "code",
        "colab": {
          "base_uri": "https://localhost:8080/",
          "height": 136
        },
        "outputId": "0d71411a-1421-4b3e-fd73-d0af8089cded"
      },
      "source": [
        "df.head(3)"
      ],
      "execution_count": 50,
      "outputs": [
        {
          "output_type": "execute_result",
          "data": {
            "text/html": [
              "<div>\n",
              "<style scoped>\n",
              "    .dataframe tbody tr th:only-of-type {\n",
              "        vertical-align: middle;\n",
              "    }\n",
              "\n",
              "    .dataframe tbody tr th {\n",
              "        vertical-align: top;\n",
              "    }\n",
              "\n",
              "    .dataframe thead th {\n",
              "        text-align: right;\n",
              "    }\n",
              "</style>\n",
              "<table border=\"1\" class=\"dataframe\">\n",
              "  <thead>\n",
              "    <tr style=\"text-align: right;\">\n",
              "      <th></th>\n",
              "      <th>A</th>\n",
              "      <th>B</th>\n",
              "      <th>C</th>\n",
              "      <th>D</th>\n",
              "    </tr>\n",
              "  </thead>\n",
              "  <tbody>\n",
              "    <tr>\n",
              "      <th>2020-09-01</th>\n",
              "      <td>-0.835750</td>\n",
              "      <td>-1.378390</td>\n",
              "      <td>1.378667</td>\n",
              "      <td>-0.803807</td>\n",
              "    </tr>\n",
              "    <tr>\n",
              "      <th>2020-09-02</th>\n",
              "      <td>1.754542</td>\n",
              "      <td>-0.693767</td>\n",
              "      <td>-0.593288</td>\n",
              "      <td>-2.334079</td>\n",
              "    </tr>\n",
              "    <tr>\n",
              "      <th>2020-09-03</th>\n",
              "      <td>-0.803668</td>\n",
              "      <td>1.167804</td>\n",
              "      <td>1.944187</td>\n",
              "      <td>-0.185353</td>\n",
              "    </tr>\n",
              "  </tbody>\n",
              "</table>\n",
              "</div>"
            ],
            "text/plain": [
              "                   A         B         C         D\n",
              "2020-09-01 -0.835750 -1.378390  1.378667 -0.803807\n",
              "2020-09-02  1.754542 -0.693767 -0.593288 -2.334079\n",
              "2020-09-03 -0.803668  1.167804  1.944187 -0.185353"
            ]
          },
          "metadata": {
            "tags": []
          },
          "execution_count": 50
        }
      ]
    },
    {
      "cell_type": "code",
      "metadata": {
        "id": "CfnAt880SdKz",
        "colab_type": "code",
        "colab": {
          "base_uri": "https://localhost:8080/",
          "height": 136
        },
        "outputId": "6c6dadba-4f47-4973-ab1f-a76e68018aac"
      },
      "source": [
        "df.tail(3)"
      ],
      "execution_count": 51,
      "outputs": [
        {
          "output_type": "execute_result",
          "data": {
            "text/html": [
              "<div>\n",
              "<style scoped>\n",
              "    .dataframe tbody tr th:only-of-type {\n",
              "        vertical-align: middle;\n",
              "    }\n",
              "\n",
              "    .dataframe tbody tr th {\n",
              "        vertical-align: top;\n",
              "    }\n",
              "\n",
              "    .dataframe thead th {\n",
              "        text-align: right;\n",
              "    }\n",
              "</style>\n",
              "<table border=\"1\" class=\"dataframe\">\n",
              "  <thead>\n",
              "    <tr style=\"text-align: right;\">\n",
              "      <th></th>\n",
              "      <th>A</th>\n",
              "      <th>B</th>\n",
              "      <th>C</th>\n",
              "      <th>D</th>\n",
              "    </tr>\n",
              "  </thead>\n",
              "  <tbody>\n",
              "    <tr>\n",
              "      <th>2020-09-04</th>\n",
              "      <td>-1.407349</td>\n",
              "      <td>0.827321</td>\n",
              "      <td>-1.130902</td>\n",
              "      <td>0.999776</td>\n",
              "    </tr>\n",
              "    <tr>\n",
              "      <th>2020-09-05</th>\n",
              "      <td>-1.549873</td>\n",
              "      <td>0.037393</td>\n",
              "      <td>-1.304389</td>\n",
              "      <td>1.198822</td>\n",
              "    </tr>\n",
              "    <tr>\n",
              "      <th>2020-09-06</th>\n",
              "      <td>0.250481</td>\n",
              "      <td>0.436266</td>\n",
              "      <td>-2.097232</td>\n",
              "      <td>-0.704253</td>\n",
              "    </tr>\n",
              "  </tbody>\n",
              "</table>\n",
              "</div>"
            ],
            "text/plain": [
              "                   A         B         C         D\n",
              "2020-09-04 -1.407349  0.827321 -1.130902  0.999776\n",
              "2020-09-05 -1.549873  0.037393 -1.304389  1.198822\n",
              "2020-09-06  0.250481  0.436266 -2.097232 -0.704253"
            ]
          },
          "metadata": {
            "tags": []
          },
          "execution_count": 51
        }
      ]
    },
    {
      "cell_type": "code",
      "metadata": {
        "id": "Ia9I5lRVSlhF",
        "colab_type": "code",
        "colab": {
          "base_uri": "https://localhost:8080/",
          "height": 70
        },
        "outputId": "9ec3a4a0-5e5d-40f4-b5be-12d891ba2cec"
      },
      "source": [
        "df.index"
      ],
      "execution_count": 52,
      "outputs": [
        {
          "output_type": "execute_result",
          "data": {
            "text/plain": [
              "DatetimeIndex(['2020-09-01', '2020-09-02', '2020-09-03', '2020-09-04',\n",
              "               '2020-09-05', '2020-09-06'],\n",
              "              dtype='datetime64[ns]', freq='D')"
            ]
          },
          "metadata": {
            "tags": []
          },
          "execution_count": 52
        }
      ]
    },
    {
      "cell_type": "code",
      "metadata": {
        "id": "EZFqBerGStTZ",
        "colab_type": "code",
        "colab": {
          "base_uri": "https://localhost:8080/",
          "height": 34
        },
        "outputId": "89781668-b4fd-4393-d4af-7d790c5fdad2"
      },
      "source": [
        "df.columns"
      ],
      "execution_count": 53,
      "outputs": [
        {
          "output_type": "execute_result",
          "data": {
            "text/plain": [
              "Index(['A', 'B', 'C', 'D'], dtype='object')"
            ]
          },
          "metadata": {
            "tags": []
          },
          "execution_count": 53
        }
      ]
    },
    {
      "cell_type": "code",
      "metadata": {
        "id": "CJlBbc7VSvkU",
        "colab_type": "code",
        "colab": {
          "base_uri": "https://localhost:8080/",
          "height": 122
        },
        "outputId": "f34fb5ed-2810-439e-d1dc-f1c3a6f87eb6"
      },
      "source": [
        "df.values"
      ],
      "execution_count": 54,
      "outputs": [
        {
          "output_type": "execute_result",
          "data": {
            "text/plain": [
              "array([[-0.83575015, -1.37839036,  1.37866651, -0.8038072 ],\n",
              "       [ 1.75454209, -0.69376714, -0.5932876 , -2.33407893],\n",
              "       [-0.80366772,  1.16780426,  1.9441872 , -0.18535349],\n",
              "       [-1.40734898,  0.82732077, -1.13090166,  0.99977646],\n",
              "       [-1.5498725 ,  0.03739268, -1.30438875,  1.1988224 ],\n",
              "       [ 0.25048144,  0.43626599, -2.09723225, -0.70425347]])"
            ]
          },
          "metadata": {
            "tags": []
          },
          "execution_count": 54
        }
      ]
    },
    {
      "cell_type": "code",
      "metadata": {
        "id": "pCLCbUvESyme",
        "colab_type": "code",
        "colab": {
          "base_uri": "https://localhost:8080/",
          "height": 284
        },
        "outputId": "4ff50341-c2a2-40b8-b995-782f9b90ef35"
      },
      "source": [
        "df.describe()"
      ],
      "execution_count": 55,
      "outputs": [
        {
          "output_type": "execute_result",
          "data": {
            "text/html": [
              "<div>\n",
              "<style scoped>\n",
              "    .dataframe tbody tr th:only-of-type {\n",
              "        vertical-align: middle;\n",
              "    }\n",
              "\n",
              "    .dataframe tbody tr th {\n",
              "        vertical-align: top;\n",
              "    }\n",
              "\n",
              "    .dataframe thead th {\n",
              "        text-align: right;\n",
              "    }\n",
              "</style>\n",
              "<table border=\"1\" class=\"dataframe\">\n",
              "  <thead>\n",
              "    <tr style=\"text-align: right;\">\n",
              "      <th></th>\n",
              "      <th>A</th>\n",
              "      <th>B</th>\n",
              "      <th>C</th>\n",
              "      <th>D</th>\n",
              "    </tr>\n",
              "  </thead>\n",
              "  <tbody>\n",
              "    <tr>\n",
              "      <th>count</th>\n",
              "      <td>6.000000</td>\n",
              "      <td>6.000000</td>\n",
              "      <td>6.000000</td>\n",
              "      <td>6.000000</td>\n",
              "    </tr>\n",
              "    <tr>\n",
              "      <th>mean</th>\n",
              "      <td>-0.431936</td>\n",
              "      <td>0.066104</td>\n",
              "      <td>-0.300493</td>\n",
              "      <td>-0.304816</td>\n",
              "    </tr>\n",
              "    <tr>\n",
              "      <th>std</th>\n",
              "      <td>1.244897</td>\n",
              "      <td>0.958646</td>\n",
              "      <td>1.604341</td>\n",
              "      <td>1.304117</td>\n",
              "    </tr>\n",
              "    <tr>\n",
              "      <th>min</th>\n",
              "      <td>-1.549873</td>\n",
              "      <td>-1.378390</td>\n",
              "      <td>-2.097232</td>\n",
              "      <td>-2.334079</td>\n",
              "    </tr>\n",
              "    <tr>\n",
              "      <th>25%</th>\n",
              "      <td>-1.264449</td>\n",
              "      <td>-0.510977</td>\n",
              "      <td>-1.261017</td>\n",
              "      <td>-0.778919</td>\n",
              "    </tr>\n",
              "    <tr>\n",
              "      <th>50%</th>\n",
              "      <td>-0.819709</td>\n",
              "      <td>0.236829</td>\n",
              "      <td>-0.862095</td>\n",
              "      <td>-0.444803</td>\n",
              "    </tr>\n",
              "    <tr>\n",
              "      <th>75%</th>\n",
              "      <td>-0.013056</td>\n",
              "      <td>0.729557</td>\n",
              "      <td>0.885678</td>\n",
              "      <td>0.703494</td>\n",
              "    </tr>\n",
              "    <tr>\n",
              "      <th>max</th>\n",
              "      <td>1.754542</td>\n",
              "      <td>1.167804</td>\n",
              "      <td>1.944187</td>\n",
              "      <td>1.198822</td>\n",
              "    </tr>\n",
              "  </tbody>\n",
              "</table>\n",
              "</div>"
            ],
            "text/plain": [
              "              A         B         C         D\n",
              "count  6.000000  6.000000  6.000000  6.000000\n",
              "mean  -0.431936  0.066104 -0.300493 -0.304816\n",
              "std    1.244897  0.958646  1.604341  1.304117\n",
              "min   -1.549873 -1.378390 -2.097232 -2.334079\n",
              "25%   -1.264449 -0.510977 -1.261017 -0.778919\n",
              "50%   -0.819709  0.236829 -0.862095 -0.444803\n",
              "75%   -0.013056  0.729557  0.885678  0.703494\n",
              "max    1.754542  1.167804  1.944187  1.198822"
            ]
          },
          "metadata": {
            "tags": []
          },
          "execution_count": 55
        }
      ]
    },
    {
      "cell_type": "markdown",
      "metadata": {
        "id": "c3U2DKFKMRNw",
        "colab_type": "text"
      },
      "source": [
        "# 데이터프레임 순서 변환\n",
        "* pd.T\n",
        "* pd.sort_index( )\n",
        "* pd.sort_values( )"
      ]
    },
    {
      "cell_type": "code",
      "metadata": {
        "id": "RIta8twYS5qZ",
        "colab_type": "code",
        "colab": {
          "base_uri": "https://localhost:8080/",
          "height": 166
        },
        "outputId": "3981271b-549d-4f37-c128-b703e86b5602"
      },
      "source": [
        "df.T"
      ],
      "execution_count": 56,
      "outputs": [
        {
          "output_type": "execute_result",
          "data": {
            "text/html": [
              "<div>\n",
              "<style scoped>\n",
              "    .dataframe tbody tr th:only-of-type {\n",
              "        vertical-align: middle;\n",
              "    }\n",
              "\n",
              "    .dataframe tbody tr th {\n",
              "        vertical-align: top;\n",
              "    }\n",
              "\n",
              "    .dataframe thead th {\n",
              "        text-align: right;\n",
              "    }\n",
              "</style>\n",
              "<table border=\"1\" class=\"dataframe\">\n",
              "  <thead>\n",
              "    <tr style=\"text-align: right;\">\n",
              "      <th></th>\n",
              "      <th>2020-09-01</th>\n",
              "      <th>2020-09-02</th>\n",
              "      <th>2020-09-03</th>\n",
              "      <th>2020-09-04</th>\n",
              "      <th>2020-09-05</th>\n",
              "      <th>2020-09-06</th>\n",
              "    </tr>\n",
              "  </thead>\n",
              "  <tbody>\n",
              "    <tr>\n",
              "      <th>A</th>\n",
              "      <td>-0.835750</td>\n",
              "      <td>1.754542</td>\n",
              "      <td>-0.803668</td>\n",
              "      <td>-1.407349</td>\n",
              "      <td>-1.549873</td>\n",
              "      <td>0.250481</td>\n",
              "    </tr>\n",
              "    <tr>\n",
              "      <th>B</th>\n",
              "      <td>-1.378390</td>\n",
              "      <td>-0.693767</td>\n",
              "      <td>1.167804</td>\n",
              "      <td>0.827321</td>\n",
              "      <td>0.037393</td>\n",
              "      <td>0.436266</td>\n",
              "    </tr>\n",
              "    <tr>\n",
              "      <th>C</th>\n",
              "      <td>1.378667</td>\n",
              "      <td>-0.593288</td>\n",
              "      <td>1.944187</td>\n",
              "      <td>-1.130902</td>\n",
              "      <td>-1.304389</td>\n",
              "      <td>-2.097232</td>\n",
              "    </tr>\n",
              "    <tr>\n",
              "      <th>D</th>\n",
              "      <td>-0.803807</td>\n",
              "      <td>-2.334079</td>\n",
              "      <td>-0.185353</td>\n",
              "      <td>0.999776</td>\n",
              "      <td>1.198822</td>\n",
              "      <td>-0.704253</td>\n",
              "    </tr>\n",
              "  </tbody>\n",
              "</table>\n",
              "</div>"
            ],
            "text/plain": [
              "   2020-09-01  2020-09-02  2020-09-03  2020-09-04  2020-09-05  2020-09-06\n",
              "A   -0.835750    1.754542   -0.803668   -1.407349   -1.549873    0.250481\n",
              "B   -1.378390   -0.693767    1.167804    0.827321    0.037393    0.436266\n",
              "C    1.378667   -0.593288    1.944187   -1.130902   -1.304389   -2.097232\n",
              "D   -0.803807   -2.334079   -0.185353    0.999776    1.198822   -0.704253"
            ]
          },
          "metadata": {
            "tags": []
          },
          "execution_count": 56
        }
      ]
    },
    {
      "cell_type": "code",
      "metadata": {
        "id": "1b0PxERoTTbI",
        "colab_type": "code",
        "colab": {
          "base_uri": "https://localhost:8080/",
          "height": 225
        },
        "outputId": "da4c2c37-51b1-4414-ac79-68672d451419"
      },
      "source": [
        "df.sort_index(axis=0,ascending=False)"
      ],
      "execution_count": 57,
      "outputs": [
        {
          "output_type": "execute_result",
          "data": {
            "text/html": [
              "<div>\n",
              "<style scoped>\n",
              "    .dataframe tbody tr th:only-of-type {\n",
              "        vertical-align: middle;\n",
              "    }\n",
              "\n",
              "    .dataframe tbody tr th {\n",
              "        vertical-align: top;\n",
              "    }\n",
              "\n",
              "    .dataframe thead th {\n",
              "        text-align: right;\n",
              "    }\n",
              "</style>\n",
              "<table border=\"1\" class=\"dataframe\">\n",
              "  <thead>\n",
              "    <tr style=\"text-align: right;\">\n",
              "      <th></th>\n",
              "      <th>A</th>\n",
              "      <th>B</th>\n",
              "      <th>C</th>\n",
              "      <th>D</th>\n",
              "    </tr>\n",
              "  </thead>\n",
              "  <tbody>\n",
              "    <tr>\n",
              "      <th>2020-09-06</th>\n",
              "      <td>0.250481</td>\n",
              "      <td>0.436266</td>\n",
              "      <td>-2.097232</td>\n",
              "      <td>-0.704253</td>\n",
              "    </tr>\n",
              "    <tr>\n",
              "      <th>2020-09-05</th>\n",
              "      <td>-1.549873</td>\n",
              "      <td>0.037393</td>\n",
              "      <td>-1.304389</td>\n",
              "      <td>1.198822</td>\n",
              "    </tr>\n",
              "    <tr>\n",
              "      <th>2020-09-04</th>\n",
              "      <td>-1.407349</td>\n",
              "      <td>0.827321</td>\n",
              "      <td>-1.130902</td>\n",
              "      <td>0.999776</td>\n",
              "    </tr>\n",
              "    <tr>\n",
              "      <th>2020-09-03</th>\n",
              "      <td>-0.803668</td>\n",
              "      <td>1.167804</td>\n",
              "      <td>1.944187</td>\n",
              "      <td>-0.185353</td>\n",
              "    </tr>\n",
              "    <tr>\n",
              "      <th>2020-09-02</th>\n",
              "      <td>1.754542</td>\n",
              "      <td>-0.693767</td>\n",
              "      <td>-0.593288</td>\n",
              "      <td>-2.334079</td>\n",
              "    </tr>\n",
              "    <tr>\n",
              "      <th>2020-09-01</th>\n",
              "      <td>-0.835750</td>\n",
              "      <td>-1.378390</td>\n",
              "      <td>1.378667</td>\n",
              "      <td>-0.803807</td>\n",
              "    </tr>\n",
              "  </tbody>\n",
              "</table>\n",
              "</div>"
            ],
            "text/plain": [
              "                   A         B         C         D\n",
              "2020-09-06  0.250481  0.436266 -2.097232 -0.704253\n",
              "2020-09-05 -1.549873  0.037393 -1.304389  1.198822\n",
              "2020-09-04 -1.407349  0.827321 -1.130902  0.999776\n",
              "2020-09-03 -0.803668  1.167804  1.944187 -0.185353\n",
              "2020-09-02  1.754542 -0.693767 -0.593288 -2.334079\n",
              "2020-09-01 -0.835750 -1.378390  1.378667 -0.803807"
            ]
          },
          "metadata": {
            "tags": []
          },
          "execution_count": 57
        }
      ]
    },
    {
      "cell_type": "code",
      "metadata": {
        "id": "YQEN_oQuTxiw",
        "colab_type": "code",
        "colab": {
          "base_uri": "https://localhost:8080/",
          "height": 225
        },
        "outputId": "87ca73d0-5c33-46f3-f6b1-9b1860190cb0"
      },
      "source": [
        "df.sort_values(by='C',ascending=False)"
      ],
      "execution_count": 58,
      "outputs": [
        {
          "output_type": "execute_result",
          "data": {
            "text/html": [
              "<div>\n",
              "<style scoped>\n",
              "    .dataframe tbody tr th:only-of-type {\n",
              "        vertical-align: middle;\n",
              "    }\n",
              "\n",
              "    .dataframe tbody tr th {\n",
              "        vertical-align: top;\n",
              "    }\n",
              "\n",
              "    .dataframe thead th {\n",
              "        text-align: right;\n",
              "    }\n",
              "</style>\n",
              "<table border=\"1\" class=\"dataframe\">\n",
              "  <thead>\n",
              "    <tr style=\"text-align: right;\">\n",
              "      <th></th>\n",
              "      <th>A</th>\n",
              "      <th>B</th>\n",
              "      <th>C</th>\n",
              "      <th>D</th>\n",
              "    </tr>\n",
              "  </thead>\n",
              "  <tbody>\n",
              "    <tr>\n",
              "      <th>2020-09-03</th>\n",
              "      <td>-0.803668</td>\n",
              "      <td>1.167804</td>\n",
              "      <td>1.944187</td>\n",
              "      <td>-0.185353</td>\n",
              "    </tr>\n",
              "    <tr>\n",
              "      <th>2020-09-01</th>\n",
              "      <td>-0.835750</td>\n",
              "      <td>-1.378390</td>\n",
              "      <td>1.378667</td>\n",
              "      <td>-0.803807</td>\n",
              "    </tr>\n",
              "    <tr>\n",
              "      <th>2020-09-02</th>\n",
              "      <td>1.754542</td>\n",
              "      <td>-0.693767</td>\n",
              "      <td>-0.593288</td>\n",
              "      <td>-2.334079</td>\n",
              "    </tr>\n",
              "    <tr>\n",
              "      <th>2020-09-04</th>\n",
              "      <td>-1.407349</td>\n",
              "      <td>0.827321</td>\n",
              "      <td>-1.130902</td>\n",
              "      <td>0.999776</td>\n",
              "    </tr>\n",
              "    <tr>\n",
              "      <th>2020-09-05</th>\n",
              "      <td>-1.549873</td>\n",
              "      <td>0.037393</td>\n",
              "      <td>-1.304389</td>\n",
              "      <td>1.198822</td>\n",
              "    </tr>\n",
              "    <tr>\n",
              "      <th>2020-09-06</th>\n",
              "      <td>0.250481</td>\n",
              "      <td>0.436266</td>\n",
              "      <td>-2.097232</td>\n",
              "      <td>-0.704253</td>\n",
              "    </tr>\n",
              "  </tbody>\n",
              "</table>\n",
              "</div>"
            ],
            "text/plain": [
              "                   A         B         C         D\n",
              "2020-09-03 -0.803668  1.167804  1.944187 -0.185353\n",
              "2020-09-01 -0.835750 -1.378390  1.378667 -0.803807\n",
              "2020-09-02  1.754542 -0.693767 -0.593288 -2.334079\n",
              "2020-09-04 -1.407349  0.827321 -1.130902  0.999776\n",
              "2020-09-05 -1.549873  0.037393 -1.304389  1.198822\n",
              "2020-09-06  0.250481  0.436266 -2.097232 -0.704253"
            ]
          },
          "metadata": {
            "tags": []
          },
          "execution_count": 58
        }
      ]
    },
    {
      "cell_type": "markdown",
      "metadata": {
        "id": "KO9FdKAeYxNk",
        "colab_type": "text"
      },
      "source": [
        "# 불리언 인덱스"
      ]
    },
    {
      "cell_type": "code",
      "metadata": {
        "id": "h0c2W58OYo-Q",
        "colab_type": "code",
        "colab": {
          "base_uri": "https://localhost:8080/",
          "height": 140
        },
        "outputId": "df59ba99-922d-41f0-e938-e9a0c3db224b"
      },
      "source": [
        "# Boolean 연산 Series 형식 출력\n",
        "df['A']>0"
      ],
      "execution_count": 59,
      "outputs": [
        {
          "output_type": "execute_result",
          "data": {
            "text/plain": [
              "2020-09-01    False\n",
              "2020-09-02     True\n",
              "2020-09-03    False\n",
              "2020-09-04    False\n",
              "2020-09-05    False\n",
              "2020-09-06     True\n",
              "Freq: D, Name: A, dtype: bool"
            ]
          },
          "metadata": {
            "tags": []
          },
          "execution_count": 59
        }
      ]
    },
    {
      "cell_type": "code",
      "metadata": {
        "id": "Jxn0xoQDY5r5",
        "colab_type": "code",
        "colab": {
          "base_uri": "https://localhost:8080/",
          "height": 136
        },
        "outputId": "7b7ce530-01aa-4657-97ef-fd1f7a1d592b"
      },
      "source": [
        "# Boolean 으로 이루어진 리스트로 index 출력\n",
        "df[[True,False,True,True,False,False]]"
      ],
      "execution_count": 60,
      "outputs": [
        {
          "output_type": "execute_result",
          "data": {
            "text/html": [
              "<div>\n",
              "<style scoped>\n",
              "    .dataframe tbody tr th:only-of-type {\n",
              "        vertical-align: middle;\n",
              "    }\n",
              "\n",
              "    .dataframe tbody tr th {\n",
              "        vertical-align: top;\n",
              "    }\n",
              "\n",
              "    .dataframe thead th {\n",
              "        text-align: right;\n",
              "    }\n",
              "</style>\n",
              "<table border=\"1\" class=\"dataframe\">\n",
              "  <thead>\n",
              "    <tr style=\"text-align: right;\">\n",
              "      <th></th>\n",
              "      <th>A</th>\n",
              "      <th>B</th>\n",
              "      <th>C</th>\n",
              "      <th>D</th>\n",
              "    </tr>\n",
              "  </thead>\n",
              "  <tbody>\n",
              "    <tr>\n",
              "      <th>2020-09-01</th>\n",
              "      <td>-0.835750</td>\n",
              "      <td>-1.378390</td>\n",
              "      <td>1.378667</td>\n",
              "      <td>-0.803807</td>\n",
              "    </tr>\n",
              "    <tr>\n",
              "      <th>2020-09-03</th>\n",
              "      <td>-0.803668</td>\n",
              "      <td>1.167804</td>\n",
              "      <td>1.944187</td>\n",
              "      <td>-0.185353</td>\n",
              "    </tr>\n",
              "    <tr>\n",
              "      <th>2020-09-04</th>\n",
              "      <td>-1.407349</td>\n",
              "      <td>0.827321</td>\n",
              "      <td>-1.130902</td>\n",
              "      <td>0.999776</td>\n",
              "    </tr>\n",
              "  </tbody>\n",
              "</table>\n",
              "</div>"
            ],
            "text/plain": [
              "                   A         B         C         D\n",
              "2020-09-01 -0.835750 -1.378390  1.378667 -0.803807\n",
              "2020-09-03 -0.803668  1.167804  1.944187 -0.185353\n",
              "2020-09-04 -1.407349  0.827321 -1.130902  0.999776"
            ]
          },
          "metadata": {
            "tags": []
          },
          "execution_count": 60
        }
      ]
    },
    {
      "cell_type": "code",
      "metadata": {
        "id": "DltUsD3FQQ_J",
        "colab_type": "code",
        "colab": {
          "base_uri": "https://localhost:8080/",
          "height": 106
        },
        "outputId": "a3700e38-6993-4d45-e4fb-e6e37703e8de"
      },
      "source": [
        "# Series 양식의 결과로 index 출력\n",
        "df[df['A']>0]"
      ],
      "execution_count": 61,
      "outputs": [
        {
          "output_type": "execute_result",
          "data": {
            "text/html": [
              "<div>\n",
              "<style scoped>\n",
              "    .dataframe tbody tr th:only-of-type {\n",
              "        vertical-align: middle;\n",
              "    }\n",
              "\n",
              "    .dataframe tbody tr th {\n",
              "        vertical-align: top;\n",
              "    }\n",
              "\n",
              "    .dataframe thead th {\n",
              "        text-align: right;\n",
              "    }\n",
              "</style>\n",
              "<table border=\"1\" class=\"dataframe\">\n",
              "  <thead>\n",
              "    <tr style=\"text-align: right;\">\n",
              "      <th></th>\n",
              "      <th>A</th>\n",
              "      <th>B</th>\n",
              "      <th>C</th>\n",
              "      <th>D</th>\n",
              "    </tr>\n",
              "  </thead>\n",
              "  <tbody>\n",
              "    <tr>\n",
              "      <th>2020-09-02</th>\n",
              "      <td>1.754542</td>\n",
              "      <td>-0.693767</td>\n",
              "      <td>-0.593288</td>\n",
              "      <td>-2.334079</td>\n",
              "    </tr>\n",
              "    <tr>\n",
              "      <th>2020-09-06</th>\n",
              "      <td>0.250481</td>\n",
              "      <td>0.436266</td>\n",
              "      <td>-2.097232</td>\n",
              "      <td>-0.704253</td>\n",
              "    </tr>\n",
              "  </tbody>\n",
              "</table>\n",
              "</div>"
            ],
            "text/plain": [
              "                   A         B         C         D\n",
              "2020-09-02  1.754542 -0.693767 -0.593288 -2.334079\n",
              "2020-09-06  0.250481  0.436266 -2.097232 -0.704253"
            ]
          },
          "metadata": {
            "tags": []
          },
          "execution_count": 61
        }
      ]
    },
    {
      "cell_type": "markdown",
      "metadata": {
        "id": "rKh6uxv6ShEY",
        "colab_type": "text"
      },
      "source": [
        "# 열 추가, 삭제, 수정\n",
        "* df['new column'] = values\n",
        "* df.loc[:,'new column'] = values\n",
        "* pd.drop( )"
      ]
    },
    {
      "cell_type": "code",
      "metadata": {
        "id": "yMkcebU3RPyy",
        "colab_type": "code",
        "colab": {
          "base_uri": "https://localhost:8080/",
          "height": 225
        },
        "outputId": "88761ef7-17c3-4e35-e738-0f4d9c18dcd5"
      },
      "source": [
        "# column 하나의 값으로 추가\n",
        "df['E']='number'\n",
        "df"
      ],
      "execution_count": 62,
      "outputs": [
        {
          "output_type": "execute_result",
          "data": {
            "text/html": [
              "<div>\n",
              "<style scoped>\n",
              "    .dataframe tbody tr th:only-of-type {\n",
              "        vertical-align: middle;\n",
              "    }\n",
              "\n",
              "    .dataframe tbody tr th {\n",
              "        vertical-align: top;\n",
              "    }\n",
              "\n",
              "    .dataframe thead th {\n",
              "        text-align: right;\n",
              "    }\n",
              "</style>\n",
              "<table border=\"1\" class=\"dataframe\">\n",
              "  <thead>\n",
              "    <tr style=\"text-align: right;\">\n",
              "      <th></th>\n",
              "      <th>A</th>\n",
              "      <th>B</th>\n",
              "      <th>C</th>\n",
              "      <th>D</th>\n",
              "      <th>E</th>\n",
              "    </tr>\n",
              "  </thead>\n",
              "  <tbody>\n",
              "    <tr>\n",
              "      <th>2020-09-01</th>\n",
              "      <td>-0.835750</td>\n",
              "      <td>-1.378390</td>\n",
              "      <td>1.378667</td>\n",
              "      <td>-0.803807</td>\n",
              "      <td>number</td>\n",
              "    </tr>\n",
              "    <tr>\n",
              "      <th>2020-09-02</th>\n",
              "      <td>1.754542</td>\n",
              "      <td>-0.693767</td>\n",
              "      <td>-0.593288</td>\n",
              "      <td>-2.334079</td>\n",
              "      <td>number</td>\n",
              "    </tr>\n",
              "    <tr>\n",
              "      <th>2020-09-03</th>\n",
              "      <td>-0.803668</td>\n",
              "      <td>1.167804</td>\n",
              "      <td>1.944187</td>\n",
              "      <td>-0.185353</td>\n",
              "      <td>number</td>\n",
              "    </tr>\n",
              "    <tr>\n",
              "      <th>2020-09-04</th>\n",
              "      <td>-1.407349</td>\n",
              "      <td>0.827321</td>\n",
              "      <td>-1.130902</td>\n",
              "      <td>0.999776</td>\n",
              "      <td>number</td>\n",
              "    </tr>\n",
              "    <tr>\n",
              "      <th>2020-09-05</th>\n",
              "      <td>-1.549873</td>\n",
              "      <td>0.037393</td>\n",
              "      <td>-1.304389</td>\n",
              "      <td>1.198822</td>\n",
              "      <td>number</td>\n",
              "    </tr>\n",
              "    <tr>\n",
              "      <th>2020-09-06</th>\n",
              "      <td>0.250481</td>\n",
              "      <td>0.436266</td>\n",
              "      <td>-2.097232</td>\n",
              "      <td>-0.704253</td>\n",
              "      <td>number</td>\n",
              "    </tr>\n",
              "  </tbody>\n",
              "</table>\n",
              "</div>"
            ],
            "text/plain": [
              "                   A         B         C         D       E\n",
              "2020-09-01 -0.835750 -1.378390  1.378667 -0.803807  number\n",
              "2020-09-02  1.754542 -0.693767 -0.593288 -2.334079  number\n",
              "2020-09-03 -0.803668  1.167804  1.944187 -0.185353  number\n",
              "2020-09-04 -1.407349  0.827321 -1.130902  0.999776  number\n",
              "2020-09-05 -1.549873  0.037393 -1.304389  1.198822  number\n",
              "2020-09-06  0.250481  0.436266 -2.097232 -0.704253  number"
            ]
          },
          "metadata": {
            "tags": []
          },
          "execution_count": 62
        }
      ]
    },
    {
      "cell_type": "code",
      "metadata": {
        "id": "fi4ZyuEQFOM3",
        "colab_type": "code",
        "colab": {
          "base_uri": "https://localhost:8080/",
          "height": 225
        },
        "outputId": "b3f865e5-e22f-4b95-c8f5-fd772a6ad048"
      },
      "source": [
        "df.loc[:,'E']='number'\n",
        "df"
      ],
      "execution_count": 63,
      "outputs": [
        {
          "output_type": "execute_result",
          "data": {
            "text/html": [
              "<div>\n",
              "<style scoped>\n",
              "    .dataframe tbody tr th:only-of-type {\n",
              "        vertical-align: middle;\n",
              "    }\n",
              "\n",
              "    .dataframe tbody tr th {\n",
              "        vertical-align: top;\n",
              "    }\n",
              "\n",
              "    .dataframe thead th {\n",
              "        text-align: right;\n",
              "    }\n",
              "</style>\n",
              "<table border=\"1\" class=\"dataframe\">\n",
              "  <thead>\n",
              "    <tr style=\"text-align: right;\">\n",
              "      <th></th>\n",
              "      <th>A</th>\n",
              "      <th>B</th>\n",
              "      <th>C</th>\n",
              "      <th>D</th>\n",
              "      <th>E</th>\n",
              "    </tr>\n",
              "  </thead>\n",
              "  <tbody>\n",
              "    <tr>\n",
              "      <th>2020-09-01</th>\n",
              "      <td>-0.835750</td>\n",
              "      <td>-1.378390</td>\n",
              "      <td>1.378667</td>\n",
              "      <td>-0.803807</td>\n",
              "      <td>number</td>\n",
              "    </tr>\n",
              "    <tr>\n",
              "      <th>2020-09-02</th>\n",
              "      <td>1.754542</td>\n",
              "      <td>-0.693767</td>\n",
              "      <td>-0.593288</td>\n",
              "      <td>-2.334079</td>\n",
              "      <td>number</td>\n",
              "    </tr>\n",
              "    <tr>\n",
              "      <th>2020-09-03</th>\n",
              "      <td>-0.803668</td>\n",
              "      <td>1.167804</td>\n",
              "      <td>1.944187</td>\n",
              "      <td>-0.185353</td>\n",
              "      <td>number</td>\n",
              "    </tr>\n",
              "    <tr>\n",
              "      <th>2020-09-04</th>\n",
              "      <td>-1.407349</td>\n",
              "      <td>0.827321</td>\n",
              "      <td>-1.130902</td>\n",
              "      <td>0.999776</td>\n",
              "      <td>number</td>\n",
              "    </tr>\n",
              "    <tr>\n",
              "      <th>2020-09-05</th>\n",
              "      <td>-1.549873</td>\n",
              "      <td>0.037393</td>\n",
              "      <td>-1.304389</td>\n",
              "      <td>1.198822</td>\n",
              "      <td>number</td>\n",
              "    </tr>\n",
              "    <tr>\n",
              "      <th>2020-09-06</th>\n",
              "      <td>0.250481</td>\n",
              "      <td>0.436266</td>\n",
              "      <td>-2.097232</td>\n",
              "      <td>-0.704253</td>\n",
              "      <td>number</td>\n",
              "    </tr>\n",
              "  </tbody>\n",
              "</table>\n",
              "</div>"
            ],
            "text/plain": [
              "                   A         B         C         D       E\n",
              "2020-09-01 -0.835750 -1.378390  1.378667 -0.803807  number\n",
              "2020-09-02  1.754542 -0.693767 -0.593288 -2.334079  number\n",
              "2020-09-03 -0.803668  1.167804  1.944187 -0.185353  number\n",
              "2020-09-04 -1.407349  0.827321 -1.130902  0.999776  number\n",
              "2020-09-05 -1.549873  0.037393 -1.304389  1.198822  number\n",
              "2020-09-06  0.250481  0.436266 -2.097232 -0.704253  number"
            ]
          },
          "metadata": {
            "tags": []
          },
          "execution_count": 63
        }
      ]
    },
    {
      "cell_type": "code",
      "metadata": {
        "id": "RNmD8J6oZQ1i",
        "colab_type": "code",
        "colab": {
          "base_uri": "https://localhost:8080/",
          "height": 225
        },
        "outputId": "7c3c7441-3493-4603-85b1-432330ed90c7"
      },
      "source": [
        "# column 리스트로 추가\n",
        "df['E']=['one','one','two','three','four','three']\n",
        "df"
      ],
      "execution_count": 64,
      "outputs": [
        {
          "output_type": "execute_result",
          "data": {
            "text/html": [
              "<div>\n",
              "<style scoped>\n",
              "    .dataframe tbody tr th:only-of-type {\n",
              "        vertical-align: middle;\n",
              "    }\n",
              "\n",
              "    .dataframe tbody tr th {\n",
              "        vertical-align: top;\n",
              "    }\n",
              "\n",
              "    .dataframe thead th {\n",
              "        text-align: right;\n",
              "    }\n",
              "</style>\n",
              "<table border=\"1\" class=\"dataframe\">\n",
              "  <thead>\n",
              "    <tr style=\"text-align: right;\">\n",
              "      <th></th>\n",
              "      <th>A</th>\n",
              "      <th>B</th>\n",
              "      <th>C</th>\n",
              "      <th>D</th>\n",
              "      <th>E</th>\n",
              "    </tr>\n",
              "  </thead>\n",
              "  <tbody>\n",
              "    <tr>\n",
              "      <th>2020-09-01</th>\n",
              "      <td>-0.835750</td>\n",
              "      <td>-1.378390</td>\n",
              "      <td>1.378667</td>\n",
              "      <td>-0.803807</td>\n",
              "      <td>one</td>\n",
              "    </tr>\n",
              "    <tr>\n",
              "      <th>2020-09-02</th>\n",
              "      <td>1.754542</td>\n",
              "      <td>-0.693767</td>\n",
              "      <td>-0.593288</td>\n",
              "      <td>-2.334079</td>\n",
              "      <td>one</td>\n",
              "    </tr>\n",
              "    <tr>\n",
              "      <th>2020-09-03</th>\n",
              "      <td>-0.803668</td>\n",
              "      <td>1.167804</td>\n",
              "      <td>1.944187</td>\n",
              "      <td>-0.185353</td>\n",
              "      <td>two</td>\n",
              "    </tr>\n",
              "    <tr>\n",
              "      <th>2020-09-04</th>\n",
              "      <td>-1.407349</td>\n",
              "      <td>0.827321</td>\n",
              "      <td>-1.130902</td>\n",
              "      <td>0.999776</td>\n",
              "      <td>three</td>\n",
              "    </tr>\n",
              "    <tr>\n",
              "      <th>2020-09-05</th>\n",
              "      <td>-1.549873</td>\n",
              "      <td>0.037393</td>\n",
              "      <td>-1.304389</td>\n",
              "      <td>1.198822</td>\n",
              "      <td>four</td>\n",
              "    </tr>\n",
              "    <tr>\n",
              "      <th>2020-09-06</th>\n",
              "      <td>0.250481</td>\n",
              "      <td>0.436266</td>\n",
              "      <td>-2.097232</td>\n",
              "      <td>-0.704253</td>\n",
              "      <td>three</td>\n",
              "    </tr>\n",
              "  </tbody>\n",
              "</table>\n",
              "</div>"
            ],
            "text/plain": [
              "                   A         B         C         D      E\n",
              "2020-09-01 -0.835750 -1.378390  1.378667 -0.803807    one\n",
              "2020-09-02  1.754542 -0.693767 -0.593288 -2.334079    one\n",
              "2020-09-03 -0.803668  1.167804  1.944187 -0.185353    two\n",
              "2020-09-04 -1.407349  0.827321 -1.130902  0.999776  three\n",
              "2020-09-05 -1.549873  0.037393 -1.304389  1.198822   four\n",
              "2020-09-06  0.250481  0.436266 -2.097232 -0.704253  three"
            ]
          },
          "metadata": {
            "tags": []
          },
          "execution_count": 64
        }
      ]
    },
    {
      "cell_type": "code",
      "metadata": {
        "id": "Iznng6FTZhbD",
        "colab_type": "code",
        "colab": {
          "base_uri": "https://localhost:8080/",
          "height": 106
        },
        "outputId": "6f3a2299-f2a4-45b2-d2f0-942ff1865004"
      },
      "source": [
        "# column 에서 원하는 내용이 있는지 확인\n",
        "# pd.isin()\n",
        "df[df['E'].isin(['two','four'])]"
      ],
      "execution_count": 65,
      "outputs": [
        {
          "output_type": "execute_result",
          "data": {
            "text/html": [
              "<div>\n",
              "<style scoped>\n",
              "    .dataframe tbody tr th:only-of-type {\n",
              "        vertical-align: middle;\n",
              "    }\n",
              "\n",
              "    .dataframe tbody tr th {\n",
              "        vertical-align: top;\n",
              "    }\n",
              "\n",
              "    .dataframe thead th {\n",
              "        text-align: right;\n",
              "    }\n",
              "</style>\n",
              "<table border=\"1\" class=\"dataframe\">\n",
              "  <thead>\n",
              "    <tr style=\"text-align: right;\">\n",
              "      <th></th>\n",
              "      <th>A</th>\n",
              "      <th>B</th>\n",
              "      <th>C</th>\n",
              "      <th>D</th>\n",
              "      <th>E</th>\n",
              "    </tr>\n",
              "  </thead>\n",
              "  <tbody>\n",
              "    <tr>\n",
              "      <th>2020-09-03</th>\n",
              "      <td>-0.803668</td>\n",
              "      <td>1.167804</td>\n",
              "      <td>1.944187</td>\n",
              "      <td>-0.185353</td>\n",
              "      <td>two</td>\n",
              "    </tr>\n",
              "    <tr>\n",
              "      <th>2020-09-05</th>\n",
              "      <td>-1.549873</td>\n",
              "      <td>0.037393</td>\n",
              "      <td>-1.304389</td>\n",
              "      <td>1.198822</td>\n",
              "      <td>four</td>\n",
              "    </tr>\n",
              "  </tbody>\n",
              "</table>\n",
              "</div>"
            ],
            "text/plain": [
              "                   A         B         C         D     E\n",
              "2020-09-03 -0.803668  1.167804  1.944187 -0.185353   two\n",
              "2020-09-05 -1.549873  0.037393 -1.304389  1.198822  four"
            ]
          },
          "metadata": {
            "tags": []
          },
          "execution_count": 65
        }
      ]
    },
    {
      "cell_type": "code",
      "metadata": {
        "id": "99VbHz33aZFi",
        "colab_type": "code",
        "colab": {
          "base_uri": "https://localhost:8080/",
          "height": 225
        },
        "outputId": "de390be4-0ac1-47e8-c345-d78851dba56b"
      },
      "source": [
        "# Series 형식으로 colunm 추가\n",
        "# index 가 동일해야 value 추가 가능\n",
        "df['F']=s\n",
        "df"
      ],
      "execution_count": 66,
      "outputs": [
        {
          "output_type": "execute_result",
          "data": {
            "text/html": [
              "<div>\n",
              "<style scoped>\n",
              "    .dataframe tbody tr th:only-of-type {\n",
              "        vertical-align: middle;\n",
              "    }\n",
              "\n",
              "    .dataframe tbody tr th {\n",
              "        vertical-align: top;\n",
              "    }\n",
              "\n",
              "    .dataframe thead th {\n",
              "        text-align: right;\n",
              "    }\n",
              "</style>\n",
              "<table border=\"1\" class=\"dataframe\">\n",
              "  <thead>\n",
              "    <tr style=\"text-align: right;\">\n",
              "      <th></th>\n",
              "      <th>A</th>\n",
              "      <th>B</th>\n",
              "      <th>C</th>\n",
              "      <th>D</th>\n",
              "      <th>E</th>\n",
              "      <th>F</th>\n",
              "    </tr>\n",
              "  </thead>\n",
              "  <tbody>\n",
              "    <tr>\n",
              "      <th>2020-09-01</th>\n",
              "      <td>-0.835750</td>\n",
              "      <td>-1.378390</td>\n",
              "      <td>1.378667</td>\n",
              "      <td>-0.803807</td>\n",
              "      <td>one</td>\n",
              "      <td>0</td>\n",
              "    </tr>\n",
              "    <tr>\n",
              "      <th>2020-09-02</th>\n",
              "      <td>1.754542</td>\n",
              "      <td>-0.693767</td>\n",
              "      <td>-0.593288</td>\n",
              "      <td>-2.334079</td>\n",
              "      <td>one</td>\n",
              "      <td>1</td>\n",
              "    </tr>\n",
              "    <tr>\n",
              "      <th>2020-09-03</th>\n",
              "      <td>-0.803668</td>\n",
              "      <td>1.167804</td>\n",
              "      <td>1.944187</td>\n",
              "      <td>-0.185353</td>\n",
              "      <td>two</td>\n",
              "      <td>2</td>\n",
              "    </tr>\n",
              "    <tr>\n",
              "      <th>2020-09-04</th>\n",
              "      <td>-1.407349</td>\n",
              "      <td>0.827321</td>\n",
              "      <td>-1.130902</td>\n",
              "      <td>0.999776</td>\n",
              "      <td>three</td>\n",
              "      <td>3</td>\n",
              "    </tr>\n",
              "    <tr>\n",
              "      <th>2020-09-05</th>\n",
              "      <td>-1.549873</td>\n",
              "      <td>0.037393</td>\n",
              "      <td>-1.304389</td>\n",
              "      <td>1.198822</td>\n",
              "      <td>four</td>\n",
              "      <td>4</td>\n",
              "    </tr>\n",
              "    <tr>\n",
              "      <th>2020-09-06</th>\n",
              "      <td>0.250481</td>\n",
              "      <td>0.436266</td>\n",
              "      <td>-2.097232</td>\n",
              "      <td>-0.704253</td>\n",
              "      <td>three</td>\n",
              "      <td>5</td>\n",
              "    </tr>\n",
              "  </tbody>\n",
              "</table>\n",
              "</div>"
            ],
            "text/plain": [
              "                   A         B         C         D      E  F\n",
              "2020-09-01 -0.835750 -1.378390  1.378667 -0.803807    one  0\n",
              "2020-09-02  1.754542 -0.693767 -0.593288 -2.334079    one  1\n",
              "2020-09-03 -0.803668  1.167804  1.944187 -0.185353    two  2\n",
              "2020-09-04 -1.407349  0.827321 -1.130902  0.999776  three  3\n",
              "2020-09-05 -1.549873  0.037393 -1.304389  1.198822   four  4\n",
              "2020-09-06  0.250481  0.436266 -2.097232 -0.704253  three  5"
            ]
          },
          "metadata": {
            "tags": []
          },
          "execution_count": 66
        }
      ]
    },
    {
      "cell_type": "code",
      "metadata": {
        "id": "w7lWU9SNawEF",
        "colab_type": "code",
        "colab": {
          "base_uri": "https://localhost:8080/",
          "height": 225
        },
        "outputId": "68ba0383-39c0-4c82-bee0-af4e03cfadc8"
      },
      "source": [
        "# 하나의 값 수정\n",
        "# pd.at[]\n",
        "df.at['20200901','E']=0\n",
        "df"
      ],
      "execution_count": 67,
      "outputs": [
        {
          "output_type": "execute_result",
          "data": {
            "text/html": [
              "<div>\n",
              "<style scoped>\n",
              "    .dataframe tbody tr th:only-of-type {\n",
              "        vertical-align: middle;\n",
              "    }\n",
              "\n",
              "    .dataframe tbody tr th {\n",
              "        vertical-align: top;\n",
              "    }\n",
              "\n",
              "    .dataframe thead th {\n",
              "        text-align: right;\n",
              "    }\n",
              "</style>\n",
              "<table border=\"1\" class=\"dataframe\">\n",
              "  <thead>\n",
              "    <tr style=\"text-align: right;\">\n",
              "      <th></th>\n",
              "      <th>A</th>\n",
              "      <th>B</th>\n",
              "      <th>C</th>\n",
              "      <th>D</th>\n",
              "      <th>E</th>\n",
              "      <th>F</th>\n",
              "    </tr>\n",
              "  </thead>\n",
              "  <tbody>\n",
              "    <tr>\n",
              "      <th>2020-09-01</th>\n",
              "      <td>-0.835750</td>\n",
              "      <td>-1.378390</td>\n",
              "      <td>1.378667</td>\n",
              "      <td>-0.803807</td>\n",
              "      <td>0</td>\n",
              "      <td>0</td>\n",
              "    </tr>\n",
              "    <tr>\n",
              "      <th>2020-09-02</th>\n",
              "      <td>1.754542</td>\n",
              "      <td>-0.693767</td>\n",
              "      <td>-0.593288</td>\n",
              "      <td>-2.334079</td>\n",
              "      <td>one</td>\n",
              "      <td>1</td>\n",
              "    </tr>\n",
              "    <tr>\n",
              "      <th>2020-09-03</th>\n",
              "      <td>-0.803668</td>\n",
              "      <td>1.167804</td>\n",
              "      <td>1.944187</td>\n",
              "      <td>-0.185353</td>\n",
              "      <td>two</td>\n",
              "      <td>2</td>\n",
              "    </tr>\n",
              "    <tr>\n",
              "      <th>2020-09-04</th>\n",
              "      <td>-1.407349</td>\n",
              "      <td>0.827321</td>\n",
              "      <td>-1.130902</td>\n",
              "      <td>0.999776</td>\n",
              "      <td>three</td>\n",
              "      <td>3</td>\n",
              "    </tr>\n",
              "    <tr>\n",
              "      <th>2020-09-05</th>\n",
              "      <td>-1.549873</td>\n",
              "      <td>0.037393</td>\n",
              "      <td>-1.304389</td>\n",
              "      <td>1.198822</td>\n",
              "      <td>four</td>\n",
              "      <td>4</td>\n",
              "    </tr>\n",
              "    <tr>\n",
              "      <th>2020-09-06</th>\n",
              "      <td>0.250481</td>\n",
              "      <td>0.436266</td>\n",
              "      <td>-2.097232</td>\n",
              "      <td>-0.704253</td>\n",
              "      <td>three</td>\n",
              "      <td>5</td>\n",
              "    </tr>\n",
              "  </tbody>\n",
              "</table>\n",
              "</div>"
            ],
            "text/plain": [
              "                   A         B         C         D      E  F\n",
              "2020-09-01 -0.835750 -1.378390  1.378667 -0.803807      0  0\n",
              "2020-09-02  1.754542 -0.693767 -0.593288 -2.334079    one  1\n",
              "2020-09-03 -0.803668  1.167804  1.944187 -0.185353    two  2\n",
              "2020-09-04 -1.407349  0.827321 -1.130902  0.999776  three  3\n",
              "2020-09-05 -1.549873  0.037393 -1.304389  1.198822   four  4\n",
              "2020-09-06  0.250481  0.436266 -2.097232 -0.704253  three  5"
            ]
          },
          "metadata": {
            "tags": []
          },
          "execution_count": 67
        }
      ]
    },
    {
      "cell_type": "code",
      "metadata": {
        "id": "ha7AhOQTa4on",
        "colab_type": "code",
        "colab": {
          "base_uri": "https://localhost:8080/",
          "height": 225
        },
        "outputId": "82d7fd92-24a6-4917-c811-383f889e426d"
      },
      "source": [
        "# 하나의 값 수정\n",
        "# pd.iat[]\n",
        "df.iat[5,4]=0\n",
        "df"
      ],
      "execution_count": 68,
      "outputs": [
        {
          "output_type": "execute_result",
          "data": {
            "text/html": [
              "<div>\n",
              "<style scoped>\n",
              "    .dataframe tbody tr th:only-of-type {\n",
              "        vertical-align: middle;\n",
              "    }\n",
              "\n",
              "    .dataframe tbody tr th {\n",
              "        vertical-align: top;\n",
              "    }\n",
              "\n",
              "    .dataframe thead th {\n",
              "        text-align: right;\n",
              "    }\n",
              "</style>\n",
              "<table border=\"1\" class=\"dataframe\">\n",
              "  <thead>\n",
              "    <tr style=\"text-align: right;\">\n",
              "      <th></th>\n",
              "      <th>A</th>\n",
              "      <th>B</th>\n",
              "      <th>C</th>\n",
              "      <th>D</th>\n",
              "      <th>E</th>\n",
              "      <th>F</th>\n",
              "    </tr>\n",
              "  </thead>\n",
              "  <tbody>\n",
              "    <tr>\n",
              "      <th>2020-09-01</th>\n",
              "      <td>-0.835750</td>\n",
              "      <td>-1.378390</td>\n",
              "      <td>1.378667</td>\n",
              "      <td>-0.803807</td>\n",
              "      <td>0</td>\n",
              "      <td>0</td>\n",
              "    </tr>\n",
              "    <tr>\n",
              "      <th>2020-09-02</th>\n",
              "      <td>1.754542</td>\n",
              "      <td>-0.693767</td>\n",
              "      <td>-0.593288</td>\n",
              "      <td>-2.334079</td>\n",
              "      <td>one</td>\n",
              "      <td>1</td>\n",
              "    </tr>\n",
              "    <tr>\n",
              "      <th>2020-09-03</th>\n",
              "      <td>-0.803668</td>\n",
              "      <td>1.167804</td>\n",
              "      <td>1.944187</td>\n",
              "      <td>-0.185353</td>\n",
              "      <td>two</td>\n",
              "      <td>2</td>\n",
              "    </tr>\n",
              "    <tr>\n",
              "      <th>2020-09-04</th>\n",
              "      <td>-1.407349</td>\n",
              "      <td>0.827321</td>\n",
              "      <td>-1.130902</td>\n",
              "      <td>0.999776</td>\n",
              "      <td>three</td>\n",
              "      <td>3</td>\n",
              "    </tr>\n",
              "    <tr>\n",
              "      <th>2020-09-05</th>\n",
              "      <td>-1.549873</td>\n",
              "      <td>0.037393</td>\n",
              "      <td>-1.304389</td>\n",
              "      <td>1.198822</td>\n",
              "      <td>four</td>\n",
              "      <td>4</td>\n",
              "    </tr>\n",
              "    <tr>\n",
              "      <th>2020-09-06</th>\n",
              "      <td>0.250481</td>\n",
              "      <td>0.436266</td>\n",
              "      <td>-2.097232</td>\n",
              "      <td>-0.704253</td>\n",
              "      <td>0</td>\n",
              "      <td>5</td>\n",
              "    </tr>\n",
              "  </tbody>\n",
              "</table>\n",
              "</div>"
            ],
            "text/plain": [
              "                   A         B         C         D      E  F\n",
              "2020-09-01 -0.835750 -1.378390  1.378667 -0.803807      0  0\n",
              "2020-09-02  1.754542 -0.693767 -0.593288 -2.334079    one  1\n",
              "2020-09-03 -0.803668  1.167804  1.944187 -0.185353    two  2\n",
              "2020-09-04 -1.407349  0.827321 -1.130902  0.999776  three  3\n",
              "2020-09-05 -1.549873  0.037393 -1.304389  1.198822   four  4\n",
              "2020-09-06  0.250481  0.436266 -2.097232 -0.704253      0  5"
            ]
          },
          "metadata": {
            "tags": []
          },
          "execution_count": 68
        }
      ]
    },
    {
      "cell_type": "code",
      "metadata": {
        "id": "7NrND2sPbBwJ",
        "colab_type": "code",
        "colab": {
          "base_uri": "https://localhost:8080/",
          "height": 225
        },
        "outputId": "4f06cfcc-d2ab-42cd-949c-16ad4d562487"
      },
      "source": [
        "# 값을 활용한 수정\n",
        "# pd.loc[]\n",
        "df.loc['20200902':'20200905','E']=1\n",
        "df"
      ],
      "execution_count": 69,
      "outputs": [
        {
          "output_type": "execute_result",
          "data": {
            "text/html": [
              "<div>\n",
              "<style scoped>\n",
              "    .dataframe tbody tr th:only-of-type {\n",
              "        vertical-align: middle;\n",
              "    }\n",
              "\n",
              "    .dataframe tbody tr th {\n",
              "        vertical-align: top;\n",
              "    }\n",
              "\n",
              "    .dataframe thead th {\n",
              "        text-align: right;\n",
              "    }\n",
              "</style>\n",
              "<table border=\"1\" class=\"dataframe\">\n",
              "  <thead>\n",
              "    <tr style=\"text-align: right;\">\n",
              "      <th></th>\n",
              "      <th>A</th>\n",
              "      <th>B</th>\n",
              "      <th>C</th>\n",
              "      <th>D</th>\n",
              "      <th>E</th>\n",
              "      <th>F</th>\n",
              "    </tr>\n",
              "  </thead>\n",
              "  <tbody>\n",
              "    <tr>\n",
              "      <th>2020-09-01</th>\n",
              "      <td>-0.835750</td>\n",
              "      <td>-1.378390</td>\n",
              "      <td>1.378667</td>\n",
              "      <td>-0.803807</td>\n",
              "      <td>0</td>\n",
              "      <td>0</td>\n",
              "    </tr>\n",
              "    <tr>\n",
              "      <th>2020-09-02</th>\n",
              "      <td>1.754542</td>\n",
              "      <td>-0.693767</td>\n",
              "      <td>-0.593288</td>\n",
              "      <td>-2.334079</td>\n",
              "      <td>1</td>\n",
              "      <td>1</td>\n",
              "    </tr>\n",
              "    <tr>\n",
              "      <th>2020-09-03</th>\n",
              "      <td>-0.803668</td>\n",
              "      <td>1.167804</td>\n",
              "      <td>1.944187</td>\n",
              "      <td>-0.185353</td>\n",
              "      <td>1</td>\n",
              "      <td>2</td>\n",
              "    </tr>\n",
              "    <tr>\n",
              "      <th>2020-09-04</th>\n",
              "      <td>-1.407349</td>\n",
              "      <td>0.827321</td>\n",
              "      <td>-1.130902</td>\n",
              "      <td>0.999776</td>\n",
              "      <td>1</td>\n",
              "      <td>3</td>\n",
              "    </tr>\n",
              "    <tr>\n",
              "      <th>2020-09-05</th>\n",
              "      <td>-1.549873</td>\n",
              "      <td>0.037393</td>\n",
              "      <td>-1.304389</td>\n",
              "      <td>1.198822</td>\n",
              "      <td>1</td>\n",
              "      <td>4</td>\n",
              "    </tr>\n",
              "    <tr>\n",
              "      <th>2020-09-06</th>\n",
              "      <td>0.250481</td>\n",
              "      <td>0.436266</td>\n",
              "      <td>-2.097232</td>\n",
              "      <td>-0.704253</td>\n",
              "      <td>0</td>\n",
              "      <td>5</td>\n",
              "    </tr>\n",
              "  </tbody>\n",
              "</table>\n",
              "</div>"
            ],
            "text/plain": [
              "                   A         B         C         D  E  F\n",
              "2020-09-01 -0.835750 -1.378390  1.378667 -0.803807  0  0\n",
              "2020-09-02  1.754542 -0.693767 -0.593288 -2.334079  1  1\n",
              "2020-09-03 -0.803668  1.167804  1.944187 -0.185353  1  2\n",
              "2020-09-04 -1.407349  0.827321 -1.130902  0.999776  1  3\n",
              "2020-09-05 -1.549873  0.037393 -1.304389  1.198822  1  4\n",
              "2020-09-06  0.250481  0.436266 -2.097232 -0.704253  0  5"
            ]
          },
          "metadata": {
            "tags": []
          },
          "execution_count": 69
        }
      ]
    },
    {
      "cell_type": "code",
      "metadata": {
        "id": "P-PDMxUMbN8M",
        "colab_type": "code",
        "colab": {
          "base_uri": "https://localhost:8080/",
          "height": 225
        },
        "outputId": "bff7491a-71e2-4711-d472-5b7308395068"
      },
      "source": [
        "# 리스트를 활용한 수정\n",
        "# pd.iloc[]\n",
        "df.iloc[3:5,5]=[-1,-2]\n",
        "df"
      ],
      "execution_count": 70,
      "outputs": [
        {
          "output_type": "execute_result",
          "data": {
            "text/html": [
              "<div>\n",
              "<style scoped>\n",
              "    .dataframe tbody tr th:only-of-type {\n",
              "        vertical-align: middle;\n",
              "    }\n",
              "\n",
              "    .dataframe tbody tr th {\n",
              "        vertical-align: top;\n",
              "    }\n",
              "\n",
              "    .dataframe thead th {\n",
              "        text-align: right;\n",
              "    }\n",
              "</style>\n",
              "<table border=\"1\" class=\"dataframe\">\n",
              "  <thead>\n",
              "    <tr style=\"text-align: right;\">\n",
              "      <th></th>\n",
              "      <th>A</th>\n",
              "      <th>B</th>\n",
              "      <th>C</th>\n",
              "      <th>D</th>\n",
              "      <th>E</th>\n",
              "      <th>F</th>\n",
              "    </tr>\n",
              "  </thead>\n",
              "  <tbody>\n",
              "    <tr>\n",
              "      <th>2020-09-01</th>\n",
              "      <td>-0.835750</td>\n",
              "      <td>-1.378390</td>\n",
              "      <td>1.378667</td>\n",
              "      <td>-0.803807</td>\n",
              "      <td>0</td>\n",
              "      <td>0</td>\n",
              "    </tr>\n",
              "    <tr>\n",
              "      <th>2020-09-02</th>\n",
              "      <td>1.754542</td>\n",
              "      <td>-0.693767</td>\n",
              "      <td>-0.593288</td>\n",
              "      <td>-2.334079</td>\n",
              "      <td>1</td>\n",
              "      <td>1</td>\n",
              "    </tr>\n",
              "    <tr>\n",
              "      <th>2020-09-03</th>\n",
              "      <td>-0.803668</td>\n",
              "      <td>1.167804</td>\n",
              "      <td>1.944187</td>\n",
              "      <td>-0.185353</td>\n",
              "      <td>1</td>\n",
              "      <td>2</td>\n",
              "    </tr>\n",
              "    <tr>\n",
              "      <th>2020-09-04</th>\n",
              "      <td>-1.407349</td>\n",
              "      <td>0.827321</td>\n",
              "      <td>-1.130902</td>\n",
              "      <td>0.999776</td>\n",
              "      <td>1</td>\n",
              "      <td>-1</td>\n",
              "    </tr>\n",
              "    <tr>\n",
              "      <th>2020-09-05</th>\n",
              "      <td>-1.549873</td>\n",
              "      <td>0.037393</td>\n",
              "      <td>-1.304389</td>\n",
              "      <td>1.198822</td>\n",
              "      <td>1</td>\n",
              "      <td>-2</td>\n",
              "    </tr>\n",
              "    <tr>\n",
              "      <th>2020-09-06</th>\n",
              "      <td>0.250481</td>\n",
              "      <td>0.436266</td>\n",
              "      <td>-2.097232</td>\n",
              "      <td>-0.704253</td>\n",
              "      <td>0</td>\n",
              "      <td>5</td>\n",
              "    </tr>\n",
              "  </tbody>\n",
              "</table>\n",
              "</div>"
            ],
            "text/plain": [
              "                   A         B         C         D  E  F\n",
              "2020-09-01 -0.835750 -1.378390  1.378667 -0.803807  0  0\n",
              "2020-09-02  1.754542 -0.693767 -0.593288 -2.334079  1  1\n",
              "2020-09-03 -0.803668  1.167804  1.944187 -0.185353  1  2\n",
              "2020-09-04 -1.407349  0.827321 -1.130902  0.999776  1 -1\n",
              "2020-09-05 -1.549873  0.037393 -1.304389  1.198822  1 -2\n",
              "2020-09-06  0.250481  0.436266 -2.097232 -0.704253  0  5"
            ]
          },
          "metadata": {
            "tags": []
          },
          "execution_count": 70
        }
      ]
    },
    {
      "cell_type": "code",
      "metadata": {
        "id": "y-yoiVdYBnar",
        "colab_type": "code",
        "colab": {
          "base_uri": "https://localhost:8080/",
          "height": 225
        },
        "outputId": "bc9993d2-c015-4b8c-c34e-d681546df7d0"
      },
      "source": [
        "# column 삭제\n",
        "# del\n",
        "del df['E']\n",
        "df"
      ],
      "execution_count": 71,
      "outputs": [
        {
          "output_type": "execute_result",
          "data": {
            "text/html": [
              "<div>\n",
              "<style scoped>\n",
              "    .dataframe tbody tr th:only-of-type {\n",
              "        vertical-align: middle;\n",
              "    }\n",
              "\n",
              "    .dataframe tbody tr th {\n",
              "        vertical-align: top;\n",
              "    }\n",
              "\n",
              "    .dataframe thead th {\n",
              "        text-align: right;\n",
              "    }\n",
              "</style>\n",
              "<table border=\"1\" class=\"dataframe\">\n",
              "  <thead>\n",
              "    <tr style=\"text-align: right;\">\n",
              "      <th></th>\n",
              "      <th>A</th>\n",
              "      <th>B</th>\n",
              "      <th>C</th>\n",
              "      <th>D</th>\n",
              "      <th>F</th>\n",
              "    </tr>\n",
              "  </thead>\n",
              "  <tbody>\n",
              "    <tr>\n",
              "      <th>2020-09-01</th>\n",
              "      <td>-0.835750</td>\n",
              "      <td>-1.378390</td>\n",
              "      <td>1.378667</td>\n",
              "      <td>-0.803807</td>\n",
              "      <td>0</td>\n",
              "    </tr>\n",
              "    <tr>\n",
              "      <th>2020-09-02</th>\n",
              "      <td>1.754542</td>\n",
              "      <td>-0.693767</td>\n",
              "      <td>-0.593288</td>\n",
              "      <td>-2.334079</td>\n",
              "      <td>1</td>\n",
              "    </tr>\n",
              "    <tr>\n",
              "      <th>2020-09-03</th>\n",
              "      <td>-0.803668</td>\n",
              "      <td>1.167804</td>\n",
              "      <td>1.944187</td>\n",
              "      <td>-0.185353</td>\n",
              "      <td>2</td>\n",
              "    </tr>\n",
              "    <tr>\n",
              "      <th>2020-09-04</th>\n",
              "      <td>-1.407349</td>\n",
              "      <td>0.827321</td>\n",
              "      <td>-1.130902</td>\n",
              "      <td>0.999776</td>\n",
              "      <td>-1</td>\n",
              "    </tr>\n",
              "    <tr>\n",
              "      <th>2020-09-05</th>\n",
              "      <td>-1.549873</td>\n",
              "      <td>0.037393</td>\n",
              "      <td>-1.304389</td>\n",
              "      <td>1.198822</td>\n",
              "      <td>-2</td>\n",
              "    </tr>\n",
              "    <tr>\n",
              "      <th>2020-09-06</th>\n",
              "      <td>0.250481</td>\n",
              "      <td>0.436266</td>\n",
              "      <td>-2.097232</td>\n",
              "      <td>-0.704253</td>\n",
              "      <td>5</td>\n",
              "    </tr>\n",
              "  </tbody>\n",
              "</table>\n",
              "</div>"
            ],
            "text/plain": [
              "                   A         B         C         D  F\n",
              "2020-09-01 -0.835750 -1.378390  1.378667 -0.803807  0\n",
              "2020-09-02  1.754542 -0.693767 -0.593288 -2.334079  1\n",
              "2020-09-03 -0.803668  1.167804  1.944187 -0.185353  2\n",
              "2020-09-04 -1.407349  0.827321 -1.130902  0.999776 -1\n",
              "2020-09-05 -1.549873  0.037393 -1.304389  1.198822 -2\n",
              "2020-09-06  0.250481  0.436266 -2.097232 -0.704253  5"
            ]
          },
          "metadata": {
            "tags": []
          },
          "execution_count": 71
        }
      ]
    },
    {
      "cell_type": "code",
      "metadata": {
        "id": "G8QR2kRYD3jE",
        "colab_type": "code",
        "colab": {
          "base_uri": "https://localhost:8080/",
          "height": 225
        },
        "outputId": "c6df9e3f-7008-404f-de34-259854b44048"
      },
      "source": [
        "# column 삭제\n",
        "# pd.drop( )\n",
        "df.drop('F',axis=1,inplace=True)\n",
        "df"
      ],
      "execution_count": 72,
      "outputs": [
        {
          "output_type": "execute_result",
          "data": {
            "text/html": [
              "<div>\n",
              "<style scoped>\n",
              "    .dataframe tbody tr th:only-of-type {\n",
              "        vertical-align: middle;\n",
              "    }\n",
              "\n",
              "    .dataframe tbody tr th {\n",
              "        vertical-align: top;\n",
              "    }\n",
              "\n",
              "    .dataframe thead th {\n",
              "        text-align: right;\n",
              "    }\n",
              "</style>\n",
              "<table border=\"1\" class=\"dataframe\">\n",
              "  <thead>\n",
              "    <tr style=\"text-align: right;\">\n",
              "      <th></th>\n",
              "      <th>A</th>\n",
              "      <th>B</th>\n",
              "      <th>C</th>\n",
              "      <th>D</th>\n",
              "    </tr>\n",
              "  </thead>\n",
              "  <tbody>\n",
              "    <tr>\n",
              "      <th>2020-09-01</th>\n",
              "      <td>-0.835750</td>\n",
              "      <td>-1.378390</td>\n",
              "      <td>1.378667</td>\n",
              "      <td>-0.803807</td>\n",
              "    </tr>\n",
              "    <tr>\n",
              "      <th>2020-09-02</th>\n",
              "      <td>1.754542</td>\n",
              "      <td>-0.693767</td>\n",
              "      <td>-0.593288</td>\n",
              "      <td>-2.334079</td>\n",
              "    </tr>\n",
              "    <tr>\n",
              "      <th>2020-09-03</th>\n",
              "      <td>-0.803668</td>\n",
              "      <td>1.167804</td>\n",
              "      <td>1.944187</td>\n",
              "      <td>-0.185353</td>\n",
              "    </tr>\n",
              "    <tr>\n",
              "      <th>2020-09-04</th>\n",
              "      <td>-1.407349</td>\n",
              "      <td>0.827321</td>\n",
              "      <td>-1.130902</td>\n",
              "      <td>0.999776</td>\n",
              "    </tr>\n",
              "    <tr>\n",
              "      <th>2020-09-05</th>\n",
              "      <td>-1.549873</td>\n",
              "      <td>0.037393</td>\n",
              "      <td>-1.304389</td>\n",
              "      <td>1.198822</td>\n",
              "    </tr>\n",
              "    <tr>\n",
              "      <th>2020-09-06</th>\n",
              "      <td>0.250481</td>\n",
              "      <td>0.436266</td>\n",
              "      <td>-2.097232</td>\n",
              "      <td>-0.704253</td>\n",
              "    </tr>\n",
              "  </tbody>\n",
              "</table>\n",
              "</div>"
            ],
            "text/plain": [
              "                   A         B         C         D\n",
              "2020-09-01 -0.835750 -1.378390  1.378667 -0.803807\n",
              "2020-09-02  1.754542 -0.693767 -0.593288 -2.334079\n",
              "2020-09-03 -0.803668  1.167804  1.944187 -0.185353\n",
              "2020-09-04 -1.407349  0.827321 -1.130902  0.999776\n",
              "2020-09-05 -1.549873  0.037393 -1.304389  1.198822\n",
              "2020-09-06  0.250481  0.436266 -2.097232 -0.704253"
            ]
          },
          "metadata": {
            "tags": []
          },
          "execution_count": 72
        }
      ]
    },
    {
      "cell_type": "markdown",
      "metadata": {
        "id": "gWpK5UfF92sR",
        "colab_type": "text"
      },
      "source": [
        "# 행 추가, 삭제\n",
        "* df.loc['new index',:] = values\n",
        "* pd.drop( )"
      ]
    },
    {
      "cell_type": "code",
      "metadata": {
        "id": "UDy0-UVx-Knu",
        "colab_type": "code",
        "colab": {
          "base_uri": "https://localhost:8080/",
          "height": 254
        },
        "outputId": "fd5b833e-1390-4af7-a92e-a7340b9daa9b"
      },
      "source": [
        "# 새로운 행 삽입 \n",
        "df.loc[pd.to_datetime('20200907'),:]=[1,2,3,4]\n",
        "df"
      ],
      "execution_count": 73,
      "outputs": [
        {
          "output_type": "execute_result",
          "data": {
            "text/html": [
              "<div>\n",
              "<style scoped>\n",
              "    .dataframe tbody tr th:only-of-type {\n",
              "        vertical-align: middle;\n",
              "    }\n",
              "\n",
              "    .dataframe tbody tr th {\n",
              "        vertical-align: top;\n",
              "    }\n",
              "\n",
              "    .dataframe thead th {\n",
              "        text-align: right;\n",
              "    }\n",
              "</style>\n",
              "<table border=\"1\" class=\"dataframe\">\n",
              "  <thead>\n",
              "    <tr style=\"text-align: right;\">\n",
              "      <th></th>\n",
              "      <th>A</th>\n",
              "      <th>B</th>\n",
              "      <th>C</th>\n",
              "      <th>D</th>\n",
              "    </tr>\n",
              "  </thead>\n",
              "  <tbody>\n",
              "    <tr>\n",
              "      <th>2020-09-01</th>\n",
              "      <td>-0.835750</td>\n",
              "      <td>-1.378390</td>\n",
              "      <td>1.378667</td>\n",
              "      <td>-0.803807</td>\n",
              "    </tr>\n",
              "    <tr>\n",
              "      <th>2020-09-02</th>\n",
              "      <td>1.754542</td>\n",
              "      <td>-0.693767</td>\n",
              "      <td>-0.593288</td>\n",
              "      <td>-2.334079</td>\n",
              "    </tr>\n",
              "    <tr>\n",
              "      <th>2020-09-03</th>\n",
              "      <td>-0.803668</td>\n",
              "      <td>1.167804</td>\n",
              "      <td>1.944187</td>\n",
              "      <td>-0.185353</td>\n",
              "    </tr>\n",
              "    <tr>\n",
              "      <th>2020-09-04</th>\n",
              "      <td>-1.407349</td>\n",
              "      <td>0.827321</td>\n",
              "      <td>-1.130902</td>\n",
              "      <td>0.999776</td>\n",
              "    </tr>\n",
              "    <tr>\n",
              "      <th>2020-09-05</th>\n",
              "      <td>-1.549873</td>\n",
              "      <td>0.037393</td>\n",
              "      <td>-1.304389</td>\n",
              "      <td>1.198822</td>\n",
              "    </tr>\n",
              "    <tr>\n",
              "      <th>2020-09-06</th>\n",
              "      <td>0.250481</td>\n",
              "      <td>0.436266</td>\n",
              "      <td>-2.097232</td>\n",
              "      <td>-0.704253</td>\n",
              "    </tr>\n",
              "    <tr>\n",
              "      <th>2020-09-07</th>\n",
              "      <td>1.000000</td>\n",
              "      <td>2.000000</td>\n",
              "      <td>3.000000</td>\n",
              "      <td>4.000000</td>\n",
              "    </tr>\n",
              "  </tbody>\n",
              "</table>\n",
              "</div>"
            ],
            "text/plain": [
              "                   A         B         C         D\n",
              "2020-09-01 -0.835750 -1.378390  1.378667 -0.803807\n",
              "2020-09-02  1.754542 -0.693767 -0.593288 -2.334079\n",
              "2020-09-03 -0.803668  1.167804  1.944187 -0.185353\n",
              "2020-09-04 -1.407349  0.827321 -1.130902  0.999776\n",
              "2020-09-05 -1.549873  0.037393 -1.304389  1.198822\n",
              "2020-09-06  0.250481  0.436266 -2.097232 -0.704253\n",
              "2020-09-07  1.000000  2.000000  3.000000  4.000000"
            ]
          },
          "metadata": {
            "tags": []
          },
          "execution_count": 73
        }
      ]
    },
    {
      "cell_type": "code",
      "metadata": {
        "id": "d7mS9Y7pCS4n",
        "colab_type": "code",
        "colab": {
          "base_uri": "https://localhost:8080/",
          "height": 225
        },
        "outputId": "bdcbbae8-5cba-4127-fad6-c6d1c8f88910"
      },
      "source": [
        "# 행 삭제\n",
        "df.drop(pd.to_datetime('20200907'),axis=0,inplace=True)\n",
        "df"
      ],
      "execution_count": 74,
      "outputs": [
        {
          "output_type": "execute_result",
          "data": {
            "text/html": [
              "<div>\n",
              "<style scoped>\n",
              "    .dataframe tbody tr th:only-of-type {\n",
              "        vertical-align: middle;\n",
              "    }\n",
              "\n",
              "    .dataframe tbody tr th {\n",
              "        vertical-align: top;\n",
              "    }\n",
              "\n",
              "    .dataframe thead th {\n",
              "        text-align: right;\n",
              "    }\n",
              "</style>\n",
              "<table border=\"1\" class=\"dataframe\">\n",
              "  <thead>\n",
              "    <tr style=\"text-align: right;\">\n",
              "      <th></th>\n",
              "      <th>A</th>\n",
              "      <th>B</th>\n",
              "      <th>C</th>\n",
              "      <th>D</th>\n",
              "    </tr>\n",
              "  </thead>\n",
              "  <tbody>\n",
              "    <tr>\n",
              "      <th>2020-09-01</th>\n",
              "      <td>-0.835750</td>\n",
              "      <td>-1.378390</td>\n",
              "      <td>1.378667</td>\n",
              "      <td>-0.803807</td>\n",
              "    </tr>\n",
              "    <tr>\n",
              "      <th>2020-09-02</th>\n",
              "      <td>1.754542</td>\n",
              "      <td>-0.693767</td>\n",
              "      <td>-0.593288</td>\n",
              "      <td>-2.334079</td>\n",
              "    </tr>\n",
              "    <tr>\n",
              "      <th>2020-09-03</th>\n",
              "      <td>-0.803668</td>\n",
              "      <td>1.167804</td>\n",
              "      <td>1.944187</td>\n",
              "      <td>-0.185353</td>\n",
              "    </tr>\n",
              "    <tr>\n",
              "      <th>2020-09-04</th>\n",
              "      <td>-1.407349</td>\n",
              "      <td>0.827321</td>\n",
              "      <td>-1.130902</td>\n",
              "      <td>0.999776</td>\n",
              "    </tr>\n",
              "    <tr>\n",
              "      <th>2020-09-05</th>\n",
              "      <td>-1.549873</td>\n",
              "      <td>0.037393</td>\n",
              "      <td>-1.304389</td>\n",
              "      <td>1.198822</td>\n",
              "    </tr>\n",
              "    <tr>\n",
              "      <th>2020-09-06</th>\n",
              "      <td>0.250481</td>\n",
              "      <td>0.436266</td>\n",
              "      <td>-2.097232</td>\n",
              "      <td>-0.704253</td>\n",
              "    </tr>\n",
              "  </tbody>\n",
              "</table>\n",
              "</div>"
            ],
            "text/plain": [
              "                   A         B         C         D\n",
              "2020-09-01 -0.835750 -1.378390  1.378667 -0.803807\n",
              "2020-09-02  1.754542 -0.693767 -0.593288 -2.334079\n",
              "2020-09-03 -0.803668  1.167804  1.944187 -0.185353\n",
              "2020-09-04 -1.407349  0.827321 -1.130902  0.999776\n",
              "2020-09-05 -1.549873  0.037393 -1.304389  1.198822\n",
              "2020-09-06  0.250481  0.436266 -2.097232 -0.704253"
            ]
          },
          "metadata": {
            "tags": []
          },
          "execution_count": 74
        }
      ]
    },
    {
      "cell_type": "markdown",
      "metadata": {
        "id": "hjeufV81bkGz",
        "colab_type": "text"
      },
      "source": [
        "# 누락값 처리\n",
        "* np.nan\n",
        "* np.isna( )\n",
        "* np.dropna( )\n",
        "* np.fillna( )"
      ]
    },
    {
      "cell_type": "code",
      "metadata": {
        "id": "Vcn7NLDL4aoz",
        "colab_type": "code",
        "colab": {
          "base_uri": "https://localhost:8080/",
          "height": 225
        },
        "outputId": "af0a7fda-cc8b-45a4-c00d-fd29e44b474d"
      },
      "source": [
        "# 누락 데이터 만들기\n",
        "df.at['20200903','D']=np.nan\n",
        "df.at['20200905','A']=np.nan\n",
        "df"
      ],
      "execution_count": 75,
      "outputs": [
        {
          "output_type": "execute_result",
          "data": {
            "text/html": [
              "<div>\n",
              "<style scoped>\n",
              "    .dataframe tbody tr th:only-of-type {\n",
              "        vertical-align: middle;\n",
              "    }\n",
              "\n",
              "    .dataframe tbody tr th {\n",
              "        vertical-align: top;\n",
              "    }\n",
              "\n",
              "    .dataframe thead th {\n",
              "        text-align: right;\n",
              "    }\n",
              "</style>\n",
              "<table border=\"1\" class=\"dataframe\">\n",
              "  <thead>\n",
              "    <tr style=\"text-align: right;\">\n",
              "      <th></th>\n",
              "      <th>A</th>\n",
              "      <th>B</th>\n",
              "      <th>C</th>\n",
              "      <th>D</th>\n",
              "    </tr>\n",
              "  </thead>\n",
              "  <tbody>\n",
              "    <tr>\n",
              "      <th>2020-09-01</th>\n",
              "      <td>-0.835750</td>\n",
              "      <td>-1.378390</td>\n",
              "      <td>1.378667</td>\n",
              "      <td>-0.803807</td>\n",
              "    </tr>\n",
              "    <tr>\n",
              "      <th>2020-09-02</th>\n",
              "      <td>1.754542</td>\n",
              "      <td>-0.693767</td>\n",
              "      <td>-0.593288</td>\n",
              "      <td>-2.334079</td>\n",
              "    </tr>\n",
              "    <tr>\n",
              "      <th>2020-09-03</th>\n",
              "      <td>-0.803668</td>\n",
              "      <td>1.167804</td>\n",
              "      <td>1.944187</td>\n",
              "      <td>NaN</td>\n",
              "    </tr>\n",
              "    <tr>\n",
              "      <th>2020-09-04</th>\n",
              "      <td>-1.407349</td>\n",
              "      <td>0.827321</td>\n",
              "      <td>-1.130902</td>\n",
              "      <td>0.999776</td>\n",
              "    </tr>\n",
              "    <tr>\n",
              "      <th>2020-09-05</th>\n",
              "      <td>NaN</td>\n",
              "      <td>0.037393</td>\n",
              "      <td>-1.304389</td>\n",
              "      <td>1.198822</td>\n",
              "    </tr>\n",
              "    <tr>\n",
              "      <th>2020-09-06</th>\n",
              "      <td>0.250481</td>\n",
              "      <td>0.436266</td>\n",
              "      <td>-2.097232</td>\n",
              "      <td>-0.704253</td>\n",
              "    </tr>\n",
              "  </tbody>\n",
              "</table>\n",
              "</div>"
            ],
            "text/plain": [
              "                   A         B         C         D\n",
              "2020-09-01 -0.835750 -1.378390  1.378667 -0.803807\n",
              "2020-09-02  1.754542 -0.693767 -0.593288 -2.334079\n",
              "2020-09-03 -0.803668  1.167804  1.944187       NaN\n",
              "2020-09-04 -1.407349  0.827321 -1.130902  0.999776\n",
              "2020-09-05       NaN  0.037393 -1.304389  1.198822\n",
              "2020-09-06  0.250481  0.436266 -2.097232 -0.704253"
            ]
          },
          "metadata": {
            "tags": []
          },
          "execution_count": 75
        }
      ]
    },
    {
      "cell_type": "code",
      "metadata": {
        "colab_type": "code",
        "id": "RH01TigX6ZCM",
        "colab": {
          "base_uri": "https://localhost:8080/",
          "height": 225
        },
        "outputId": "11445ecf-682d-44d9-9b9d-1ff9ff796c28"
      },
      "source": [
        "# 누락값 확인\n",
        "df.isna()"
      ],
      "execution_count": 76,
      "outputs": [
        {
          "output_type": "execute_result",
          "data": {
            "text/html": [
              "<div>\n",
              "<style scoped>\n",
              "    .dataframe tbody tr th:only-of-type {\n",
              "        vertical-align: middle;\n",
              "    }\n",
              "\n",
              "    .dataframe tbody tr th {\n",
              "        vertical-align: top;\n",
              "    }\n",
              "\n",
              "    .dataframe thead th {\n",
              "        text-align: right;\n",
              "    }\n",
              "</style>\n",
              "<table border=\"1\" class=\"dataframe\">\n",
              "  <thead>\n",
              "    <tr style=\"text-align: right;\">\n",
              "      <th></th>\n",
              "      <th>A</th>\n",
              "      <th>B</th>\n",
              "      <th>C</th>\n",
              "      <th>D</th>\n",
              "    </tr>\n",
              "  </thead>\n",
              "  <tbody>\n",
              "    <tr>\n",
              "      <th>2020-09-01</th>\n",
              "      <td>False</td>\n",
              "      <td>False</td>\n",
              "      <td>False</td>\n",
              "      <td>False</td>\n",
              "    </tr>\n",
              "    <tr>\n",
              "      <th>2020-09-02</th>\n",
              "      <td>False</td>\n",
              "      <td>False</td>\n",
              "      <td>False</td>\n",
              "      <td>False</td>\n",
              "    </tr>\n",
              "    <tr>\n",
              "      <th>2020-09-03</th>\n",
              "      <td>False</td>\n",
              "      <td>False</td>\n",
              "      <td>False</td>\n",
              "      <td>True</td>\n",
              "    </tr>\n",
              "    <tr>\n",
              "      <th>2020-09-04</th>\n",
              "      <td>False</td>\n",
              "      <td>False</td>\n",
              "      <td>False</td>\n",
              "      <td>False</td>\n",
              "    </tr>\n",
              "    <tr>\n",
              "      <th>2020-09-05</th>\n",
              "      <td>True</td>\n",
              "      <td>False</td>\n",
              "      <td>False</td>\n",
              "      <td>False</td>\n",
              "    </tr>\n",
              "    <tr>\n",
              "      <th>2020-09-06</th>\n",
              "      <td>False</td>\n",
              "      <td>False</td>\n",
              "      <td>False</td>\n",
              "      <td>False</td>\n",
              "    </tr>\n",
              "  </tbody>\n",
              "</table>\n",
              "</div>"
            ],
            "text/plain": [
              "                A      B      C      D\n",
              "2020-09-01  False  False  False  False\n",
              "2020-09-02  False  False  False  False\n",
              "2020-09-03  False  False  False   True\n",
              "2020-09-04  False  False  False  False\n",
              "2020-09-05   True  False  False  False\n",
              "2020-09-06  False  False  False  False"
            ]
          },
          "metadata": {
            "tags": []
          },
          "execution_count": 76
        }
      ]
    },
    {
      "cell_type": "code",
      "metadata": {
        "id": "m9zMBJLrcvRa",
        "colab_type": "code",
        "colab": {
          "base_uri": "https://localhost:8080/",
          "height": 166
        },
        "outputId": "54b0db04-7a4b-4c76-a848-9dcd2c455736"
      },
      "source": [
        "# 누락데이터가 포함된 index 삭제\n",
        "df.dropna()"
      ],
      "execution_count": 77,
      "outputs": [
        {
          "output_type": "execute_result",
          "data": {
            "text/html": [
              "<div>\n",
              "<style scoped>\n",
              "    .dataframe tbody tr th:only-of-type {\n",
              "        vertical-align: middle;\n",
              "    }\n",
              "\n",
              "    .dataframe tbody tr th {\n",
              "        vertical-align: top;\n",
              "    }\n",
              "\n",
              "    .dataframe thead th {\n",
              "        text-align: right;\n",
              "    }\n",
              "</style>\n",
              "<table border=\"1\" class=\"dataframe\">\n",
              "  <thead>\n",
              "    <tr style=\"text-align: right;\">\n",
              "      <th></th>\n",
              "      <th>A</th>\n",
              "      <th>B</th>\n",
              "      <th>C</th>\n",
              "      <th>D</th>\n",
              "    </tr>\n",
              "  </thead>\n",
              "  <tbody>\n",
              "    <tr>\n",
              "      <th>2020-09-01</th>\n",
              "      <td>-0.835750</td>\n",
              "      <td>-1.378390</td>\n",
              "      <td>1.378667</td>\n",
              "      <td>-0.803807</td>\n",
              "    </tr>\n",
              "    <tr>\n",
              "      <th>2020-09-02</th>\n",
              "      <td>1.754542</td>\n",
              "      <td>-0.693767</td>\n",
              "      <td>-0.593288</td>\n",
              "      <td>-2.334079</td>\n",
              "    </tr>\n",
              "    <tr>\n",
              "      <th>2020-09-04</th>\n",
              "      <td>-1.407349</td>\n",
              "      <td>0.827321</td>\n",
              "      <td>-1.130902</td>\n",
              "      <td>0.999776</td>\n",
              "    </tr>\n",
              "    <tr>\n",
              "      <th>2020-09-06</th>\n",
              "      <td>0.250481</td>\n",
              "      <td>0.436266</td>\n",
              "      <td>-2.097232</td>\n",
              "      <td>-0.704253</td>\n",
              "    </tr>\n",
              "  </tbody>\n",
              "</table>\n",
              "</div>"
            ],
            "text/plain": [
              "                   A         B         C         D\n",
              "2020-09-01 -0.835750 -1.378390  1.378667 -0.803807\n",
              "2020-09-02  1.754542 -0.693767 -0.593288 -2.334079\n",
              "2020-09-04 -1.407349  0.827321 -1.130902  0.999776\n",
              "2020-09-06  0.250481  0.436266 -2.097232 -0.704253"
            ]
          },
          "metadata": {
            "tags": []
          },
          "execution_count": 77
        }
      ]
    },
    {
      "cell_type": "code",
      "metadata": {
        "id": "D7m-Sxp_c9tD",
        "colab_type": "code",
        "colab": {
          "base_uri": "https://localhost:8080/",
          "height": 225
        },
        "outputId": "9dd40a99-0bd9-4a7f-eac2-bf2bb299249e"
      },
      "source": [
        "# 누락값 체우기\n",
        "df.fillna(5,inplace=True)\n",
        "df"
      ],
      "execution_count": 78,
      "outputs": [
        {
          "output_type": "execute_result",
          "data": {
            "text/html": [
              "<div>\n",
              "<style scoped>\n",
              "    .dataframe tbody tr th:only-of-type {\n",
              "        vertical-align: middle;\n",
              "    }\n",
              "\n",
              "    .dataframe tbody tr th {\n",
              "        vertical-align: top;\n",
              "    }\n",
              "\n",
              "    .dataframe thead th {\n",
              "        text-align: right;\n",
              "    }\n",
              "</style>\n",
              "<table border=\"1\" class=\"dataframe\">\n",
              "  <thead>\n",
              "    <tr style=\"text-align: right;\">\n",
              "      <th></th>\n",
              "      <th>A</th>\n",
              "      <th>B</th>\n",
              "      <th>C</th>\n",
              "      <th>D</th>\n",
              "    </tr>\n",
              "  </thead>\n",
              "  <tbody>\n",
              "    <tr>\n",
              "      <th>2020-09-01</th>\n",
              "      <td>-0.835750</td>\n",
              "      <td>-1.378390</td>\n",
              "      <td>1.378667</td>\n",
              "      <td>-0.803807</td>\n",
              "    </tr>\n",
              "    <tr>\n",
              "      <th>2020-09-02</th>\n",
              "      <td>1.754542</td>\n",
              "      <td>-0.693767</td>\n",
              "      <td>-0.593288</td>\n",
              "      <td>-2.334079</td>\n",
              "    </tr>\n",
              "    <tr>\n",
              "      <th>2020-09-03</th>\n",
              "      <td>-0.803668</td>\n",
              "      <td>1.167804</td>\n",
              "      <td>1.944187</td>\n",
              "      <td>5.000000</td>\n",
              "    </tr>\n",
              "    <tr>\n",
              "      <th>2020-09-04</th>\n",
              "      <td>-1.407349</td>\n",
              "      <td>0.827321</td>\n",
              "      <td>-1.130902</td>\n",
              "      <td>0.999776</td>\n",
              "    </tr>\n",
              "    <tr>\n",
              "      <th>2020-09-05</th>\n",
              "      <td>5.000000</td>\n",
              "      <td>0.037393</td>\n",
              "      <td>-1.304389</td>\n",
              "      <td>1.198822</td>\n",
              "    </tr>\n",
              "    <tr>\n",
              "      <th>2020-09-06</th>\n",
              "      <td>0.250481</td>\n",
              "      <td>0.436266</td>\n",
              "      <td>-2.097232</td>\n",
              "      <td>-0.704253</td>\n",
              "    </tr>\n",
              "  </tbody>\n",
              "</table>\n",
              "</div>"
            ],
            "text/plain": [
              "                   A         B         C         D\n",
              "2020-09-01 -0.835750 -1.378390  1.378667 -0.803807\n",
              "2020-09-02  1.754542 -0.693767 -0.593288 -2.334079\n",
              "2020-09-03 -0.803668  1.167804  1.944187  5.000000\n",
              "2020-09-04 -1.407349  0.827321 -1.130902  0.999776\n",
              "2020-09-05  5.000000  0.037393 -1.304389  1.198822\n",
              "2020-09-06  0.250481  0.436266 -2.097232 -0.704253"
            ]
          },
          "metadata": {
            "tags": []
          },
          "execution_count": 78
        }
      ]
    },
    {
      "cell_type": "code",
      "metadata": {
        "id": "j1H2I-vDc-Y2",
        "colab_type": "code",
        "colab": {
          "base_uri": "https://localhost:8080/",
          "height": 225
        },
        "outputId": "7e2a3936-07c5-4ade-d424-559bcff9273b"
      },
      "source": [
        "# 누락값 확인\n",
        "df.isna()"
      ],
      "execution_count": 79,
      "outputs": [
        {
          "output_type": "execute_result",
          "data": {
            "text/html": [
              "<div>\n",
              "<style scoped>\n",
              "    .dataframe tbody tr th:only-of-type {\n",
              "        vertical-align: middle;\n",
              "    }\n",
              "\n",
              "    .dataframe tbody tr th {\n",
              "        vertical-align: top;\n",
              "    }\n",
              "\n",
              "    .dataframe thead th {\n",
              "        text-align: right;\n",
              "    }\n",
              "</style>\n",
              "<table border=\"1\" class=\"dataframe\">\n",
              "  <thead>\n",
              "    <tr style=\"text-align: right;\">\n",
              "      <th></th>\n",
              "      <th>A</th>\n",
              "      <th>B</th>\n",
              "      <th>C</th>\n",
              "      <th>D</th>\n",
              "    </tr>\n",
              "  </thead>\n",
              "  <tbody>\n",
              "    <tr>\n",
              "      <th>2020-09-01</th>\n",
              "      <td>False</td>\n",
              "      <td>False</td>\n",
              "      <td>False</td>\n",
              "      <td>False</td>\n",
              "    </tr>\n",
              "    <tr>\n",
              "      <th>2020-09-02</th>\n",
              "      <td>False</td>\n",
              "      <td>False</td>\n",
              "      <td>False</td>\n",
              "      <td>False</td>\n",
              "    </tr>\n",
              "    <tr>\n",
              "      <th>2020-09-03</th>\n",
              "      <td>False</td>\n",
              "      <td>False</td>\n",
              "      <td>False</td>\n",
              "      <td>False</td>\n",
              "    </tr>\n",
              "    <tr>\n",
              "      <th>2020-09-04</th>\n",
              "      <td>False</td>\n",
              "      <td>False</td>\n",
              "      <td>False</td>\n",
              "      <td>False</td>\n",
              "    </tr>\n",
              "    <tr>\n",
              "      <th>2020-09-05</th>\n",
              "      <td>False</td>\n",
              "      <td>False</td>\n",
              "      <td>False</td>\n",
              "      <td>False</td>\n",
              "    </tr>\n",
              "    <tr>\n",
              "      <th>2020-09-06</th>\n",
              "      <td>False</td>\n",
              "      <td>False</td>\n",
              "      <td>False</td>\n",
              "      <td>False</td>\n",
              "    </tr>\n",
              "  </tbody>\n",
              "</table>\n",
              "</div>"
            ],
            "text/plain": [
              "                A      B      C      D\n",
              "2020-09-01  False  False  False  False\n",
              "2020-09-02  False  False  False  False\n",
              "2020-09-03  False  False  False  False\n",
              "2020-09-04  False  False  False  False\n",
              "2020-09-05  False  False  False  False\n",
              "2020-09-06  False  False  False  False"
            ]
          },
          "metadata": {
            "tags": []
          },
          "execution_count": 79
        }
      ]
    },
    {
      "cell_type": "markdown",
      "metadata": {
        "id": "2-haS1uRdhOY",
        "colab_type": "text"
      },
      "source": [
        "# 데이터프레임 연산\n",
        "* pd.sum( )\n",
        "* pd.mean( )\n",
        "* pd.shift( )\n",
        "* pd.sub( )\n",
        "* pd.apply( )\n",
        "* pd.cumsum( )\n",
        "\n",
        "* count 전체 성분의 (NaN이 아닌) 값의 갯수를 계산\n",
        "\n",
        "* min, max 전체 성분의 최솟, 최댓값을 계산\n",
        "\n",
        "* argmin, argmax 전체 성분의 최솟값, 최댓값이 위치한 (정수)인덱스를 반환\n",
        "\n",
        "* idxmin, idxmax 전체 인덱스 중 최솟값, 최댓값을 반환\n",
        "\n",
        "* quantile 전체 성분의 특정 사분위수에 해당하는 값을 반환 (0~1 사이)\n",
        "\n",
        "* median 전체 성분의 중간값을 반환\n",
        "\n",
        "* mad 전체 성분의 평균값으로부터의 절대 편차(absolute deviation)의 평균을 계산\n",
        "\n",
        "* std, var 전체 성분의 표준편차, 분산을 계산\n",
        "\n",
        "* cumsum 맨 첫 번째 성분부터 각 성분까지의 누적합을 계산 (0에서부터 계속 더해짐)\n",
        "\n",
        "* cumprod 맨 첫번째 성분부터 각 성분까지의 누적곱을 계산 (1에서부터 계속 곱해짐)"
      ]
    },
    {
      "cell_type": "code",
      "metadata": {
        "id": "OGwDJ3zZJd02",
        "colab_type": "code",
        "colab": {
          "base_uri": "https://localhost:8080/",
          "height": 225
        },
        "outputId": "f7ebf776-7dbc-485c-8035-efe4410d2d28"
      },
      "source": [
        "df.loc['20200903','C']=np.nan\n",
        "df"
      ],
      "execution_count": 80,
      "outputs": [
        {
          "output_type": "execute_result",
          "data": {
            "text/html": [
              "<div>\n",
              "<style scoped>\n",
              "    .dataframe tbody tr th:only-of-type {\n",
              "        vertical-align: middle;\n",
              "    }\n",
              "\n",
              "    .dataframe tbody tr th {\n",
              "        vertical-align: top;\n",
              "    }\n",
              "\n",
              "    .dataframe thead th {\n",
              "        text-align: right;\n",
              "    }\n",
              "</style>\n",
              "<table border=\"1\" class=\"dataframe\">\n",
              "  <thead>\n",
              "    <tr style=\"text-align: right;\">\n",
              "      <th></th>\n",
              "      <th>A</th>\n",
              "      <th>B</th>\n",
              "      <th>C</th>\n",
              "      <th>D</th>\n",
              "    </tr>\n",
              "  </thead>\n",
              "  <tbody>\n",
              "    <tr>\n",
              "      <th>2020-09-01</th>\n",
              "      <td>-0.835750</td>\n",
              "      <td>-1.378390</td>\n",
              "      <td>1.378667</td>\n",
              "      <td>-0.803807</td>\n",
              "    </tr>\n",
              "    <tr>\n",
              "      <th>2020-09-02</th>\n",
              "      <td>1.754542</td>\n",
              "      <td>-0.693767</td>\n",
              "      <td>-0.593288</td>\n",
              "      <td>-2.334079</td>\n",
              "    </tr>\n",
              "    <tr>\n",
              "      <th>2020-09-03</th>\n",
              "      <td>-0.803668</td>\n",
              "      <td>1.167804</td>\n",
              "      <td>NaN</td>\n",
              "      <td>5.000000</td>\n",
              "    </tr>\n",
              "    <tr>\n",
              "      <th>2020-09-04</th>\n",
              "      <td>-1.407349</td>\n",
              "      <td>0.827321</td>\n",
              "      <td>-1.130902</td>\n",
              "      <td>0.999776</td>\n",
              "    </tr>\n",
              "    <tr>\n",
              "      <th>2020-09-05</th>\n",
              "      <td>5.000000</td>\n",
              "      <td>0.037393</td>\n",
              "      <td>-1.304389</td>\n",
              "      <td>1.198822</td>\n",
              "    </tr>\n",
              "    <tr>\n",
              "      <th>2020-09-06</th>\n",
              "      <td>0.250481</td>\n",
              "      <td>0.436266</td>\n",
              "      <td>-2.097232</td>\n",
              "      <td>-0.704253</td>\n",
              "    </tr>\n",
              "  </tbody>\n",
              "</table>\n",
              "</div>"
            ],
            "text/plain": [
              "                   A         B         C         D\n",
              "2020-09-01 -0.835750 -1.378390  1.378667 -0.803807\n",
              "2020-09-02  1.754542 -0.693767 -0.593288 -2.334079\n",
              "2020-09-03 -0.803668  1.167804       NaN  5.000000\n",
              "2020-09-04 -1.407349  0.827321 -1.130902  0.999776\n",
              "2020-09-05  5.000000  0.037393 -1.304389  1.198822\n",
              "2020-09-06  0.250481  0.436266 -2.097232 -0.704253"
            ]
          },
          "metadata": {
            "tags": []
          },
          "execution_count": 80
        }
      ]
    },
    {
      "cell_type": "code",
      "metadata": {
        "id": "en-6oARqINZE",
        "colab_type": "code",
        "colab": {
          "base_uri": "https://localhost:8080/",
          "height": 105
        },
        "outputId": "3b6a3e1b-0705-4541-9eb6-29a982243feb"
      },
      "source": [
        "# axis=0 뱡향 합\n",
        "# skipna=False NaN에 대한 연산을 하지 않음\n",
        "df.sum(skipna=False)"
      ],
      "execution_count": 81,
      "outputs": [
        {
          "output_type": "execute_result",
          "data": {
            "text/plain": [
              "A    3.958257\n",
              "B    0.396626\n",
              "C         NaN\n",
              "D    3.356459\n",
              "dtype: float64"
            ]
          },
          "metadata": {
            "tags": []
          },
          "execution_count": 81
        }
      ]
    },
    {
      "cell_type": "code",
      "metadata": {
        "id": "LmuSFVMxItLk",
        "colab_type": "code",
        "colab": {
          "base_uri": "https://localhost:8080/",
          "height": 140
        },
        "outputId": "b84fa976-fd3f-415a-bde3-30c9248e5770"
      },
      "source": [
        "# axis=1 뱡향 합\n",
        "df.sum(axis=1)"
      ],
      "execution_count": 82,
      "outputs": [
        {
          "output_type": "execute_result",
          "data": {
            "text/plain": [
              "2020-09-01   -1.639281\n",
              "2020-09-02   -1.866592\n",
              "2020-09-03    5.364137\n",
              "2020-09-04   -0.711153\n",
              "2020-09-05    4.931826\n",
              "2020-09-06   -2.114738\n",
              "Freq: D, dtype: float64"
            ]
          },
          "metadata": {
            "tags": []
          },
          "execution_count": 82
        }
      ]
    },
    {
      "cell_type": "code",
      "metadata": {
        "id": "ouJu64dydkaC",
        "colab_type": "code",
        "colab": {
          "base_uri": "https://localhost:8080/",
          "height": 105
        },
        "outputId": "ccb1fab5-61ba-4e82-f12c-a2d0da676c85"
      },
      "source": [
        "# axis=0 방향 평균\n",
        "df.mean()"
      ],
      "execution_count": 83,
      "outputs": [
        {
          "output_type": "execute_result",
          "data": {
            "text/plain": [
              "A    0.659709\n",
              "B    0.066104\n",
              "C   -0.749429\n",
              "D    0.559410\n",
              "dtype: float64"
            ]
          },
          "metadata": {
            "tags": []
          },
          "execution_count": 83
        }
      ]
    },
    {
      "cell_type": "code",
      "metadata": {
        "id": "L4DORee4dlyp",
        "colab_type": "code",
        "colab": {
          "base_uri": "https://localhost:8080/",
          "height": 140
        },
        "outputId": "a077395a-b0d5-44ee-bd9d-216357ca125f"
      },
      "source": [
        "# axis=1 방향 평균\n",
        "df.mean(axis=1)"
      ],
      "execution_count": 84,
      "outputs": [
        {
          "output_type": "execute_result",
          "data": {
            "text/plain": [
              "2020-09-01   -0.409820\n",
              "2020-09-02   -0.466648\n",
              "2020-09-03    1.788046\n",
              "2020-09-04   -0.177788\n",
              "2020-09-05    1.232957\n",
              "2020-09-06   -0.528685\n",
              "Freq: D, dtype: float64"
            ]
          },
          "metadata": {
            "tags": []
          },
          "execution_count": 84
        }
      ]
    },
    {
      "cell_type": "code",
      "metadata": {
        "id": "wzPYsir3dxge",
        "colab_type": "code",
        "colab": {
          "base_uri": "https://localhost:8080/",
          "height": 225
        },
        "outputId": "412eaf60-256f-4b51-d48a-02a082de80c0"
      },
      "source": [
        "# 데이터 이동\n",
        "df.shift(periods=1,axis=0)"
      ],
      "execution_count": 85,
      "outputs": [
        {
          "output_type": "execute_result",
          "data": {
            "text/html": [
              "<div>\n",
              "<style scoped>\n",
              "    .dataframe tbody tr th:only-of-type {\n",
              "        vertical-align: middle;\n",
              "    }\n",
              "\n",
              "    .dataframe tbody tr th {\n",
              "        vertical-align: top;\n",
              "    }\n",
              "\n",
              "    .dataframe thead th {\n",
              "        text-align: right;\n",
              "    }\n",
              "</style>\n",
              "<table border=\"1\" class=\"dataframe\">\n",
              "  <thead>\n",
              "    <tr style=\"text-align: right;\">\n",
              "      <th></th>\n",
              "      <th>A</th>\n",
              "      <th>B</th>\n",
              "      <th>C</th>\n",
              "      <th>D</th>\n",
              "    </tr>\n",
              "  </thead>\n",
              "  <tbody>\n",
              "    <tr>\n",
              "      <th>2020-09-01</th>\n",
              "      <td>NaN</td>\n",
              "      <td>NaN</td>\n",
              "      <td>NaN</td>\n",
              "      <td>NaN</td>\n",
              "    </tr>\n",
              "    <tr>\n",
              "      <th>2020-09-02</th>\n",
              "      <td>-0.835750</td>\n",
              "      <td>-1.378390</td>\n",
              "      <td>1.378667</td>\n",
              "      <td>-0.803807</td>\n",
              "    </tr>\n",
              "    <tr>\n",
              "      <th>2020-09-03</th>\n",
              "      <td>1.754542</td>\n",
              "      <td>-0.693767</td>\n",
              "      <td>-0.593288</td>\n",
              "      <td>-2.334079</td>\n",
              "    </tr>\n",
              "    <tr>\n",
              "      <th>2020-09-04</th>\n",
              "      <td>-0.803668</td>\n",
              "      <td>1.167804</td>\n",
              "      <td>NaN</td>\n",
              "      <td>5.000000</td>\n",
              "    </tr>\n",
              "    <tr>\n",
              "      <th>2020-09-05</th>\n",
              "      <td>-1.407349</td>\n",
              "      <td>0.827321</td>\n",
              "      <td>-1.130902</td>\n",
              "      <td>0.999776</td>\n",
              "    </tr>\n",
              "    <tr>\n",
              "      <th>2020-09-06</th>\n",
              "      <td>5.000000</td>\n",
              "      <td>0.037393</td>\n",
              "      <td>-1.304389</td>\n",
              "      <td>1.198822</td>\n",
              "    </tr>\n",
              "  </tbody>\n",
              "</table>\n",
              "</div>"
            ],
            "text/plain": [
              "                   A         B         C         D\n",
              "2020-09-01       NaN       NaN       NaN       NaN\n",
              "2020-09-02 -0.835750 -1.378390  1.378667 -0.803807\n",
              "2020-09-03  1.754542 -0.693767 -0.593288 -2.334079\n",
              "2020-09-04 -0.803668  1.167804       NaN  5.000000\n",
              "2020-09-05 -1.407349  0.827321 -1.130902  0.999776\n",
              "2020-09-06  5.000000  0.037393 -1.304389  1.198822"
            ]
          },
          "metadata": {
            "tags": []
          },
          "execution_count": 85
        }
      ]
    },
    {
      "cell_type": "code",
      "metadata": {
        "id": "ahRHPNXdeLZh",
        "colab_type": "code",
        "colab": {
          "base_uri": "https://localhost:8080/",
          "height": 225
        },
        "outputId": "2e12e39a-5990-40ec-fd03-ae0cda73908f"
      },
      "source": [
        "# 빼기\n",
        "df.sub(s,axis=0)"
      ],
      "execution_count": 86,
      "outputs": [
        {
          "output_type": "execute_result",
          "data": {
            "text/html": [
              "<div>\n",
              "<style scoped>\n",
              "    .dataframe tbody tr th:only-of-type {\n",
              "        vertical-align: middle;\n",
              "    }\n",
              "\n",
              "    .dataframe tbody tr th {\n",
              "        vertical-align: top;\n",
              "    }\n",
              "\n",
              "    .dataframe thead th {\n",
              "        text-align: right;\n",
              "    }\n",
              "</style>\n",
              "<table border=\"1\" class=\"dataframe\">\n",
              "  <thead>\n",
              "    <tr style=\"text-align: right;\">\n",
              "      <th></th>\n",
              "      <th>A</th>\n",
              "      <th>B</th>\n",
              "      <th>C</th>\n",
              "      <th>D</th>\n",
              "    </tr>\n",
              "  </thead>\n",
              "  <tbody>\n",
              "    <tr>\n",
              "      <th>2020-09-01</th>\n",
              "      <td>-0.835750</td>\n",
              "      <td>-1.378390</td>\n",
              "      <td>1.378667</td>\n",
              "      <td>-0.803807</td>\n",
              "    </tr>\n",
              "    <tr>\n",
              "      <th>2020-09-02</th>\n",
              "      <td>0.754542</td>\n",
              "      <td>-1.693767</td>\n",
              "      <td>-1.593288</td>\n",
              "      <td>-3.334079</td>\n",
              "    </tr>\n",
              "    <tr>\n",
              "      <th>2020-09-03</th>\n",
              "      <td>-2.803668</td>\n",
              "      <td>-0.832196</td>\n",
              "      <td>NaN</td>\n",
              "      <td>3.000000</td>\n",
              "    </tr>\n",
              "    <tr>\n",
              "      <th>2020-09-04</th>\n",
              "      <td>-4.407349</td>\n",
              "      <td>-2.172679</td>\n",
              "      <td>-4.130902</td>\n",
              "      <td>-2.000224</td>\n",
              "    </tr>\n",
              "    <tr>\n",
              "      <th>2020-09-05</th>\n",
              "      <td>1.000000</td>\n",
              "      <td>-3.962607</td>\n",
              "      <td>-5.304389</td>\n",
              "      <td>-2.801178</td>\n",
              "    </tr>\n",
              "    <tr>\n",
              "      <th>2020-09-06</th>\n",
              "      <td>-4.749519</td>\n",
              "      <td>-4.563734</td>\n",
              "      <td>-7.097232</td>\n",
              "      <td>-5.704253</td>\n",
              "    </tr>\n",
              "  </tbody>\n",
              "</table>\n",
              "</div>"
            ],
            "text/plain": [
              "                   A         B         C         D\n",
              "2020-09-01 -0.835750 -1.378390  1.378667 -0.803807\n",
              "2020-09-02  0.754542 -1.693767 -1.593288 -3.334079\n",
              "2020-09-03 -2.803668 -0.832196       NaN  3.000000\n",
              "2020-09-04 -4.407349 -2.172679 -4.130902 -2.000224\n",
              "2020-09-05  1.000000 -3.962607 -5.304389 -2.801178\n",
              "2020-09-06 -4.749519 -4.563734 -7.097232 -5.704253"
            ]
          },
          "metadata": {
            "tags": []
          },
          "execution_count": 86
        }
      ]
    },
    {
      "cell_type": "code",
      "metadata": {
        "id": "ANBUqlbWE4TW",
        "colab_type": "code",
        "colab": {
          "base_uri": "https://localhost:8080/",
          "height": 225
        },
        "outputId": "f92996c0-d087-4ff2-8c5f-22c0c888edfc"
      },
      "source": [
        "# 누적합\n",
        "df.cumsum(axis=0)"
      ],
      "execution_count": 87,
      "outputs": [
        {
          "output_type": "execute_result",
          "data": {
            "text/html": [
              "<div>\n",
              "<style scoped>\n",
              "    .dataframe tbody tr th:only-of-type {\n",
              "        vertical-align: middle;\n",
              "    }\n",
              "\n",
              "    .dataframe tbody tr th {\n",
              "        vertical-align: top;\n",
              "    }\n",
              "\n",
              "    .dataframe thead th {\n",
              "        text-align: right;\n",
              "    }\n",
              "</style>\n",
              "<table border=\"1\" class=\"dataframe\">\n",
              "  <thead>\n",
              "    <tr style=\"text-align: right;\">\n",
              "      <th></th>\n",
              "      <th>A</th>\n",
              "      <th>B</th>\n",
              "      <th>C</th>\n",
              "      <th>D</th>\n",
              "    </tr>\n",
              "  </thead>\n",
              "  <tbody>\n",
              "    <tr>\n",
              "      <th>2020-09-01</th>\n",
              "      <td>-0.835750</td>\n",
              "      <td>-1.378390</td>\n",
              "      <td>1.378667</td>\n",
              "      <td>-0.803807</td>\n",
              "    </tr>\n",
              "    <tr>\n",
              "      <th>2020-09-02</th>\n",
              "      <td>0.918792</td>\n",
              "      <td>-2.072157</td>\n",
              "      <td>0.785379</td>\n",
              "      <td>-3.137886</td>\n",
              "    </tr>\n",
              "    <tr>\n",
              "      <th>2020-09-03</th>\n",
              "      <td>0.115124</td>\n",
              "      <td>-0.904353</td>\n",
              "      <td>NaN</td>\n",
              "      <td>1.862114</td>\n",
              "    </tr>\n",
              "    <tr>\n",
              "      <th>2020-09-04</th>\n",
              "      <td>-1.292225</td>\n",
              "      <td>-0.077032</td>\n",
              "      <td>-0.345523</td>\n",
              "      <td>2.861890</td>\n",
              "    </tr>\n",
              "    <tr>\n",
              "      <th>2020-09-05</th>\n",
              "      <td>3.707775</td>\n",
              "      <td>-0.039640</td>\n",
              "      <td>-1.649911</td>\n",
              "      <td>4.060713</td>\n",
              "    </tr>\n",
              "    <tr>\n",
              "      <th>2020-09-06</th>\n",
              "      <td>3.958257</td>\n",
              "      <td>0.396626</td>\n",
              "      <td>-3.747144</td>\n",
              "      <td>3.356459</td>\n",
              "    </tr>\n",
              "  </tbody>\n",
              "</table>\n",
              "</div>"
            ],
            "text/plain": [
              "                   A         B         C         D\n",
              "2020-09-01 -0.835750 -1.378390  1.378667 -0.803807\n",
              "2020-09-02  0.918792 -2.072157  0.785379 -3.137886\n",
              "2020-09-03  0.115124 -0.904353       NaN  1.862114\n",
              "2020-09-04 -1.292225 -0.077032 -0.345523  2.861890\n",
              "2020-09-05  3.707775 -0.039640 -1.649911  4.060713\n",
              "2020-09-06  3.958257  0.396626 -3.747144  3.356459"
            ]
          },
          "metadata": {
            "tags": []
          },
          "execution_count": 87
        }
      ]
    },
    {
      "cell_type": "code",
      "metadata": {
        "id": "YZdO8NTQf7Ul",
        "colab_type": "code",
        "colab": {
          "base_uri": "https://localhost:8080/",
          "height": 225
        },
        "outputId": "e8abbead-d11e-4dfd-dde9-b46fb935a00e"
      },
      "source": [
        "# 함수명으로 적용\n",
        "df.apply(np.cumsum)"
      ],
      "execution_count": 88,
      "outputs": [
        {
          "output_type": "execute_result",
          "data": {
            "text/html": [
              "<div>\n",
              "<style scoped>\n",
              "    .dataframe tbody tr th:only-of-type {\n",
              "        vertical-align: middle;\n",
              "    }\n",
              "\n",
              "    .dataframe tbody tr th {\n",
              "        vertical-align: top;\n",
              "    }\n",
              "\n",
              "    .dataframe thead th {\n",
              "        text-align: right;\n",
              "    }\n",
              "</style>\n",
              "<table border=\"1\" class=\"dataframe\">\n",
              "  <thead>\n",
              "    <tr style=\"text-align: right;\">\n",
              "      <th></th>\n",
              "      <th>A</th>\n",
              "      <th>B</th>\n",
              "      <th>C</th>\n",
              "      <th>D</th>\n",
              "    </tr>\n",
              "  </thead>\n",
              "  <tbody>\n",
              "    <tr>\n",
              "      <th>2020-09-01</th>\n",
              "      <td>-0.835750</td>\n",
              "      <td>-1.378390</td>\n",
              "      <td>1.378667</td>\n",
              "      <td>-0.803807</td>\n",
              "    </tr>\n",
              "    <tr>\n",
              "      <th>2020-09-02</th>\n",
              "      <td>0.918792</td>\n",
              "      <td>-2.072157</td>\n",
              "      <td>0.785379</td>\n",
              "      <td>-3.137886</td>\n",
              "    </tr>\n",
              "    <tr>\n",
              "      <th>2020-09-03</th>\n",
              "      <td>0.115124</td>\n",
              "      <td>-0.904353</td>\n",
              "      <td>NaN</td>\n",
              "      <td>1.862114</td>\n",
              "    </tr>\n",
              "    <tr>\n",
              "      <th>2020-09-04</th>\n",
              "      <td>-1.292225</td>\n",
              "      <td>-0.077032</td>\n",
              "      <td>-0.345523</td>\n",
              "      <td>2.861890</td>\n",
              "    </tr>\n",
              "    <tr>\n",
              "      <th>2020-09-05</th>\n",
              "      <td>3.707775</td>\n",
              "      <td>-0.039640</td>\n",
              "      <td>-1.649911</td>\n",
              "      <td>4.060713</td>\n",
              "    </tr>\n",
              "    <tr>\n",
              "      <th>2020-09-06</th>\n",
              "      <td>3.958257</td>\n",
              "      <td>0.396626</td>\n",
              "      <td>-3.747144</td>\n",
              "      <td>3.356459</td>\n",
              "    </tr>\n",
              "  </tbody>\n",
              "</table>\n",
              "</div>"
            ],
            "text/plain": [
              "                   A         B         C         D\n",
              "2020-09-01 -0.835750 -1.378390  1.378667 -0.803807\n",
              "2020-09-02  0.918792 -2.072157  0.785379 -3.137886\n",
              "2020-09-03  0.115124 -0.904353       NaN  1.862114\n",
              "2020-09-04 -1.292225 -0.077032 -0.345523  2.861890\n",
              "2020-09-05  3.707775 -0.039640 -1.649911  4.060713\n",
              "2020-09-06  3.958257  0.396626 -3.747144  3.356459"
            ]
          },
          "metadata": {
            "tags": []
          },
          "execution_count": 88
        }
      ]
    },
    {
      "cell_type": "code",
      "metadata": {
        "id": "mUlRpfV5Fl4v",
        "colab_type": "code",
        "colab": {
          "base_uri": "https://localhost:8080/",
          "height": 105
        },
        "outputId": "f4aa3138-ffe4-4f03-9b72-8a463f22fdad"
      },
      "source": [
        "# 최대값\n",
        "df.max(axis=0)"
      ],
      "execution_count": 89,
      "outputs": [
        {
          "output_type": "execute_result",
          "data": {
            "text/plain": [
              "A    5.000000\n",
              "B    1.167804\n",
              "C    1.378667\n",
              "D    5.000000\n",
              "dtype: float64"
            ]
          },
          "metadata": {
            "tags": []
          },
          "execution_count": 89
        }
      ]
    },
    {
      "cell_type": "code",
      "metadata": {
        "id": "RqvjFHjMFxDE",
        "colab_type": "code",
        "colab": {
          "base_uri": "https://localhost:8080/",
          "height": 140
        },
        "outputId": "a93f1668-a092-4ee6-ae53-746e35ea438a"
      },
      "source": [
        "# 최소값\n",
        "df.min(axis=1)"
      ],
      "execution_count": 90,
      "outputs": [
        {
          "output_type": "execute_result",
          "data": {
            "text/plain": [
              "2020-09-01   -1.378390\n",
              "2020-09-02   -2.334079\n",
              "2020-09-03   -0.803668\n",
              "2020-09-04   -1.407349\n",
              "2020-09-05   -1.304389\n",
              "2020-09-06   -2.097232\n",
              "Freq: D, dtype: float64"
            ]
          },
          "metadata": {
            "tags": []
          },
          "execution_count": 90
        }
      ]
    },
    {
      "cell_type": "code",
      "metadata": {
        "id": "jEGsJQIygAbc",
        "colab_type": "code",
        "colab": {
          "base_uri": "https://localhost:8080/",
          "height": 105
        },
        "outputId": "c86b2911-254f-4c7e-aeb2-95d5455fab5e"
      },
      "source": [
        "func = lambda x: x.max()-x.min()\n",
        "df.apply(func)"
      ],
      "execution_count": 91,
      "outputs": [
        {
          "output_type": "execute_result",
          "data": {
            "text/plain": [
              "A    6.407349\n",
              "B    2.546195\n",
              "C    3.475899\n",
              "D    7.334079\n",
              "dtype: float64"
            ]
          },
          "metadata": {
            "tags": []
          },
          "execution_count": 91
        }
      ]
    },
    {
      "cell_type": "markdown",
      "metadata": {
        "id": "I0S4Y_SohzHa",
        "colab_type": "text"
      },
      "source": [
        "# 데이터프레임 결합\n",
        "* pd.concat( )"
      ]
    },
    {
      "cell_type": "code",
      "metadata": {
        "id": "zkR-Emllh7zj",
        "colab_type": "code",
        "colab": {
          "base_uri": "https://localhost:8080/",
          "height": 106
        },
        "outputId": "2a330e06-338f-4944-f1ef-148608b5f368"
      },
      "source": [
        "df1=pd.DataFrame(np.random.randn(2,4))\n",
        "df1"
      ],
      "execution_count": 92,
      "outputs": [
        {
          "output_type": "execute_result",
          "data": {
            "text/html": [
              "<div>\n",
              "<style scoped>\n",
              "    .dataframe tbody tr th:only-of-type {\n",
              "        vertical-align: middle;\n",
              "    }\n",
              "\n",
              "    .dataframe tbody tr th {\n",
              "        vertical-align: top;\n",
              "    }\n",
              "\n",
              "    .dataframe thead th {\n",
              "        text-align: right;\n",
              "    }\n",
              "</style>\n",
              "<table border=\"1\" class=\"dataframe\">\n",
              "  <thead>\n",
              "    <tr style=\"text-align: right;\">\n",
              "      <th></th>\n",
              "      <th>0</th>\n",
              "      <th>1</th>\n",
              "      <th>2</th>\n",
              "      <th>3</th>\n",
              "    </tr>\n",
              "  </thead>\n",
              "  <tbody>\n",
              "    <tr>\n",
              "      <th>0</th>\n",
              "      <td>-1.169331</td>\n",
              "      <td>-0.579936</td>\n",
              "      <td>0.064610</td>\n",
              "      <td>0.076851</td>\n",
              "    </tr>\n",
              "    <tr>\n",
              "      <th>1</th>\n",
              "      <td>-1.039693</td>\n",
              "      <td>0.788998</td>\n",
              "      <td>0.419366</td>\n",
              "      <td>0.286509</td>\n",
              "    </tr>\n",
              "  </tbody>\n",
              "</table>\n",
              "</div>"
            ],
            "text/plain": [
              "          0         1         2         3\n",
              "0 -1.169331 -0.579936  0.064610  0.076851\n",
              "1 -1.039693  0.788998  0.419366  0.286509"
            ]
          },
          "metadata": {
            "tags": []
          },
          "execution_count": 92
        }
      ]
    },
    {
      "cell_type": "code",
      "metadata": {
        "id": "gi8HttfmQ1OX",
        "colab_type": "code",
        "colab": {
          "base_uri": "https://localhost:8080/",
          "height": 136
        },
        "outputId": "3a7eb8bd-872f-4f94-db7f-f9021c54a07c"
      },
      "source": [
        "df2=pd.DataFrame(np.random.randn(3,4))\n",
        "df2"
      ],
      "execution_count": 93,
      "outputs": [
        {
          "output_type": "execute_result",
          "data": {
            "text/html": [
              "<div>\n",
              "<style scoped>\n",
              "    .dataframe tbody tr th:only-of-type {\n",
              "        vertical-align: middle;\n",
              "    }\n",
              "\n",
              "    .dataframe tbody tr th {\n",
              "        vertical-align: top;\n",
              "    }\n",
              "\n",
              "    .dataframe thead th {\n",
              "        text-align: right;\n",
              "    }\n",
              "</style>\n",
              "<table border=\"1\" class=\"dataframe\">\n",
              "  <thead>\n",
              "    <tr style=\"text-align: right;\">\n",
              "      <th></th>\n",
              "      <th>0</th>\n",
              "      <th>1</th>\n",
              "      <th>2</th>\n",
              "      <th>3</th>\n",
              "    </tr>\n",
              "  </thead>\n",
              "  <tbody>\n",
              "    <tr>\n",
              "      <th>0</th>\n",
              "      <td>1.405091</td>\n",
              "      <td>-0.391467</td>\n",
              "      <td>-0.031149</td>\n",
              "      <td>0.308887</td>\n",
              "    </tr>\n",
              "    <tr>\n",
              "      <th>1</th>\n",
              "      <td>-1.475705</td>\n",
              "      <td>-1.311181</td>\n",
              "      <td>-0.698689</td>\n",
              "      <td>-0.862336</td>\n",
              "    </tr>\n",
              "    <tr>\n",
              "      <th>2</th>\n",
              "      <td>1.032157</td>\n",
              "      <td>-0.386466</td>\n",
              "      <td>0.473754</td>\n",
              "      <td>1.318330</td>\n",
              "    </tr>\n",
              "  </tbody>\n",
              "</table>\n",
              "</div>"
            ],
            "text/plain": [
              "          0         1         2         3\n",
              "0  1.405091 -0.391467 -0.031149  0.308887\n",
              "1 -1.475705 -1.311181 -0.698689 -0.862336\n",
              "2  1.032157 -0.386466  0.473754  1.318330"
            ]
          },
          "metadata": {
            "tags": []
          },
          "execution_count": 93
        }
      ]
    },
    {
      "cell_type": "code",
      "metadata": {
        "id": "yzqlHq8fZyVT",
        "colab_type": "code",
        "colab": {
          "base_uri": "https://localhost:8080/",
          "height": 166
        },
        "outputId": "ee4d02d7-d060-4f69-b588-e61a3230d9cd"
      },
      "source": [
        "df3=pd.DataFrame(np.random.randn(4,4))\n",
        "df3"
      ],
      "execution_count": 94,
      "outputs": [
        {
          "output_type": "execute_result",
          "data": {
            "text/html": [
              "<div>\n",
              "<style scoped>\n",
              "    .dataframe tbody tr th:only-of-type {\n",
              "        vertical-align: middle;\n",
              "    }\n",
              "\n",
              "    .dataframe tbody tr th {\n",
              "        vertical-align: top;\n",
              "    }\n",
              "\n",
              "    .dataframe thead th {\n",
              "        text-align: right;\n",
              "    }\n",
              "</style>\n",
              "<table border=\"1\" class=\"dataframe\">\n",
              "  <thead>\n",
              "    <tr style=\"text-align: right;\">\n",
              "      <th></th>\n",
              "      <th>0</th>\n",
              "      <th>1</th>\n",
              "      <th>2</th>\n",
              "      <th>3</th>\n",
              "    </tr>\n",
              "  </thead>\n",
              "  <tbody>\n",
              "    <tr>\n",
              "      <th>0</th>\n",
              "      <td>0.096986</td>\n",
              "      <td>0.766356</td>\n",
              "      <td>0.687932</td>\n",
              "      <td>-0.204411</td>\n",
              "    </tr>\n",
              "    <tr>\n",
              "      <th>1</th>\n",
              "      <td>0.362543</td>\n",
              "      <td>-0.783585</td>\n",
              "      <td>-0.388208</td>\n",
              "      <td>-1.626038</td>\n",
              "    </tr>\n",
              "    <tr>\n",
              "      <th>2</th>\n",
              "      <td>0.375692</td>\n",
              "      <td>-0.337179</td>\n",
              "      <td>0.821208</td>\n",
              "      <td>-0.369704</td>\n",
              "    </tr>\n",
              "    <tr>\n",
              "      <th>3</th>\n",
              "      <td>1.402837</td>\n",
              "      <td>-0.203758</td>\n",
              "      <td>0.805383</td>\n",
              "      <td>0.121948</td>\n",
              "    </tr>\n",
              "  </tbody>\n",
              "</table>\n",
              "</div>"
            ],
            "text/plain": [
              "          0         1         2         3\n",
              "0  0.096986  0.766356  0.687932 -0.204411\n",
              "1  0.362543 -0.783585 -0.388208 -1.626038\n",
              "2  0.375692 -0.337179  0.821208 -0.369704\n",
              "3  1.402837 -0.203758  0.805383  0.121948"
            ]
          },
          "metadata": {
            "tags": []
          },
          "execution_count": 94
        }
      ]
    },
    {
      "cell_type": "code",
      "metadata": {
        "id": "iVxbVK_GjgaI",
        "colab_type": "code",
        "colab": {
          "base_uri": "https://localhost:8080/",
          "height": 314
        },
        "outputId": "db11b0d6-09a6-4e5c-8695-9ecd6963ac22"
      },
      "source": [
        "# index를 초기화 ignore_index=True\n",
        "pd.concat([df1,df2,df3],axis=0,ignore_index=True)"
      ],
      "execution_count": 95,
      "outputs": [
        {
          "output_type": "execute_result",
          "data": {
            "text/html": [
              "<div>\n",
              "<style scoped>\n",
              "    .dataframe tbody tr th:only-of-type {\n",
              "        vertical-align: middle;\n",
              "    }\n",
              "\n",
              "    .dataframe tbody tr th {\n",
              "        vertical-align: top;\n",
              "    }\n",
              "\n",
              "    .dataframe thead th {\n",
              "        text-align: right;\n",
              "    }\n",
              "</style>\n",
              "<table border=\"1\" class=\"dataframe\">\n",
              "  <thead>\n",
              "    <tr style=\"text-align: right;\">\n",
              "      <th></th>\n",
              "      <th>0</th>\n",
              "      <th>1</th>\n",
              "      <th>2</th>\n",
              "      <th>3</th>\n",
              "    </tr>\n",
              "  </thead>\n",
              "  <tbody>\n",
              "    <tr>\n",
              "      <th>0</th>\n",
              "      <td>-1.169331</td>\n",
              "      <td>-0.579936</td>\n",
              "      <td>0.064610</td>\n",
              "      <td>0.076851</td>\n",
              "    </tr>\n",
              "    <tr>\n",
              "      <th>1</th>\n",
              "      <td>-1.039693</td>\n",
              "      <td>0.788998</td>\n",
              "      <td>0.419366</td>\n",
              "      <td>0.286509</td>\n",
              "    </tr>\n",
              "    <tr>\n",
              "      <th>2</th>\n",
              "      <td>1.405091</td>\n",
              "      <td>-0.391467</td>\n",
              "      <td>-0.031149</td>\n",
              "      <td>0.308887</td>\n",
              "    </tr>\n",
              "    <tr>\n",
              "      <th>3</th>\n",
              "      <td>-1.475705</td>\n",
              "      <td>-1.311181</td>\n",
              "      <td>-0.698689</td>\n",
              "      <td>-0.862336</td>\n",
              "    </tr>\n",
              "    <tr>\n",
              "      <th>4</th>\n",
              "      <td>1.032157</td>\n",
              "      <td>-0.386466</td>\n",
              "      <td>0.473754</td>\n",
              "      <td>1.318330</td>\n",
              "    </tr>\n",
              "    <tr>\n",
              "      <th>5</th>\n",
              "      <td>0.096986</td>\n",
              "      <td>0.766356</td>\n",
              "      <td>0.687932</td>\n",
              "      <td>-0.204411</td>\n",
              "    </tr>\n",
              "    <tr>\n",
              "      <th>6</th>\n",
              "      <td>0.362543</td>\n",
              "      <td>-0.783585</td>\n",
              "      <td>-0.388208</td>\n",
              "      <td>-1.626038</td>\n",
              "    </tr>\n",
              "    <tr>\n",
              "      <th>7</th>\n",
              "      <td>0.375692</td>\n",
              "      <td>-0.337179</td>\n",
              "      <td>0.821208</td>\n",
              "      <td>-0.369704</td>\n",
              "    </tr>\n",
              "    <tr>\n",
              "      <th>8</th>\n",
              "      <td>1.402837</td>\n",
              "      <td>-0.203758</td>\n",
              "      <td>0.805383</td>\n",
              "      <td>0.121948</td>\n",
              "    </tr>\n",
              "  </tbody>\n",
              "</table>\n",
              "</div>"
            ],
            "text/plain": [
              "          0         1         2         3\n",
              "0 -1.169331 -0.579936  0.064610  0.076851\n",
              "1 -1.039693  0.788998  0.419366  0.286509\n",
              "2  1.405091 -0.391467 -0.031149  0.308887\n",
              "3 -1.475705 -1.311181 -0.698689 -0.862336\n",
              "4  1.032157 -0.386466  0.473754  1.318330\n",
              "5  0.096986  0.766356  0.687932 -0.204411\n",
              "6  0.362543 -0.783585 -0.388208 -1.626038\n",
              "7  0.375692 -0.337179  0.821208 -0.369704\n",
              "8  1.402837 -0.203758  0.805383  0.121948"
            ]
          },
          "metadata": {
            "tags": []
          },
          "execution_count": 95
        }
      ]
    },
    {
      "cell_type": "markdown",
      "metadata": {
        "id": "_D7Fv9qwgkYk",
        "colab_type": "text"
      },
      "source": [
        "* pd.marge( )"
      ]
    },
    {
      "cell_type": "code",
      "metadata": {
        "id": "_AUgtJ1mjjTD",
        "colab_type": "code",
        "colab": {
          "base_uri": "https://localhost:8080/",
          "height": 106
        },
        "outputId": "82547b23-e713-4ac2-c9a4-f6ecb3c9bf06"
      },
      "source": [
        "left=pd.DataFrame({'key':['foo','foo'],'lval':[1,2]})\n",
        "left"
      ],
      "execution_count": 96,
      "outputs": [
        {
          "output_type": "execute_result",
          "data": {
            "text/html": [
              "<div>\n",
              "<style scoped>\n",
              "    .dataframe tbody tr th:only-of-type {\n",
              "        vertical-align: middle;\n",
              "    }\n",
              "\n",
              "    .dataframe tbody tr th {\n",
              "        vertical-align: top;\n",
              "    }\n",
              "\n",
              "    .dataframe thead th {\n",
              "        text-align: right;\n",
              "    }\n",
              "</style>\n",
              "<table border=\"1\" class=\"dataframe\">\n",
              "  <thead>\n",
              "    <tr style=\"text-align: right;\">\n",
              "      <th></th>\n",
              "      <th>key</th>\n",
              "      <th>lval</th>\n",
              "    </tr>\n",
              "  </thead>\n",
              "  <tbody>\n",
              "    <tr>\n",
              "      <th>0</th>\n",
              "      <td>foo</td>\n",
              "      <td>1</td>\n",
              "    </tr>\n",
              "    <tr>\n",
              "      <th>1</th>\n",
              "      <td>foo</td>\n",
              "      <td>2</td>\n",
              "    </tr>\n",
              "  </tbody>\n",
              "</table>\n",
              "</div>"
            ],
            "text/plain": [
              "   key  lval\n",
              "0  foo     1\n",
              "1  foo     2"
            ]
          },
          "metadata": {
            "tags": []
          },
          "execution_count": 96
        }
      ]
    },
    {
      "cell_type": "code",
      "metadata": {
        "id": "YCCi3O_wkWyI",
        "colab_type": "code",
        "colab": {
          "base_uri": "https://localhost:8080/",
          "height": 106
        },
        "outputId": "ae1f67d7-77c4-4ba1-f966-6f273c95e5e0"
      },
      "source": [
        "right=pd.DataFrame({'key':['foo','foo'],'rval':[4,5]})\n",
        "right"
      ],
      "execution_count": 97,
      "outputs": [
        {
          "output_type": "execute_result",
          "data": {
            "text/html": [
              "<div>\n",
              "<style scoped>\n",
              "    .dataframe tbody tr th:only-of-type {\n",
              "        vertical-align: middle;\n",
              "    }\n",
              "\n",
              "    .dataframe tbody tr th {\n",
              "        vertical-align: top;\n",
              "    }\n",
              "\n",
              "    .dataframe thead th {\n",
              "        text-align: right;\n",
              "    }\n",
              "</style>\n",
              "<table border=\"1\" class=\"dataframe\">\n",
              "  <thead>\n",
              "    <tr style=\"text-align: right;\">\n",
              "      <th></th>\n",
              "      <th>key</th>\n",
              "      <th>rval</th>\n",
              "    </tr>\n",
              "  </thead>\n",
              "  <tbody>\n",
              "    <tr>\n",
              "      <th>0</th>\n",
              "      <td>foo</td>\n",
              "      <td>4</td>\n",
              "    </tr>\n",
              "    <tr>\n",
              "      <th>1</th>\n",
              "      <td>foo</td>\n",
              "      <td>5</td>\n",
              "    </tr>\n",
              "  </tbody>\n",
              "</table>\n",
              "</div>"
            ],
            "text/plain": [
              "   key  rval\n",
              "0  foo     4\n",
              "1  foo     5"
            ]
          },
          "metadata": {
            "tags": []
          },
          "execution_count": 97
        }
      ]
    },
    {
      "cell_type": "code",
      "metadata": {
        "id": "8MCTQhBWkkdD",
        "colab_type": "code",
        "colab": {
          "base_uri": "https://localhost:8080/",
          "height": 166
        },
        "outputId": "1976ac8e-1804-4b70-d06f-c082f55dd956"
      },
      "source": [
        "pd.merge(left,right,on='key')"
      ],
      "execution_count": 98,
      "outputs": [
        {
          "output_type": "execute_result",
          "data": {
            "text/html": [
              "<div>\n",
              "<style scoped>\n",
              "    .dataframe tbody tr th:only-of-type {\n",
              "        vertical-align: middle;\n",
              "    }\n",
              "\n",
              "    .dataframe tbody tr th {\n",
              "        vertical-align: top;\n",
              "    }\n",
              "\n",
              "    .dataframe thead th {\n",
              "        text-align: right;\n",
              "    }\n",
              "</style>\n",
              "<table border=\"1\" class=\"dataframe\">\n",
              "  <thead>\n",
              "    <tr style=\"text-align: right;\">\n",
              "      <th></th>\n",
              "      <th>key</th>\n",
              "      <th>lval</th>\n",
              "      <th>rval</th>\n",
              "    </tr>\n",
              "  </thead>\n",
              "  <tbody>\n",
              "    <tr>\n",
              "      <th>0</th>\n",
              "      <td>foo</td>\n",
              "      <td>1</td>\n",
              "      <td>4</td>\n",
              "    </tr>\n",
              "    <tr>\n",
              "      <th>1</th>\n",
              "      <td>foo</td>\n",
              "      <td>1</td>\n",
              "      <td>5</td>\n",
              "    </tr>\n",
              "    <tr>\n",
              "      <th>2</th>\n",
              "      <td>foo</td>\n",
              "      <td>2</td>\n",
              "      <td>4</td>\n",
              "    </tr>\n",
              "    <tr>\n",
              "      <th>3</th>\n",
              "      <td>foo</td>\n",
              "      <td>2</td>\n",
              "      <td>5</td>\n",
              "    </tr>\n",
              "  </tbody>\n",
              "</table>\n",
              "</div>"
            ],
            "text/plain": [
              "   key  lval  rval\n",
              "0  foo     1     4\n",
              "1  foo     1     5\n",
              "2  foo     2     4\n",
              "3  foo     2     5"
            ]
          },
          "metadata": {
            "tags": []
          },
          "execution_count": 98
        }
      ]
    },
    {
      "cell_type": "code",
      "metadata": {
        "id": "cxaGN6wJkyO3",
        "colab_type": "code",
        "colab": {
          "base_uri": "https://localhost:8080/",
          "height": 106
        },
        "outputId": "ade293f6-e8c8-4d6b-b2bd-6e7af55a6371"
      },
      "source": [
        "left=pd.DataFrame({'key':['foo','bar'],'lval':[1,2]})\n",
        "left"
      ],
      "execution_count": 99,
      "outputs": [
        {
          "output_type": "execute_result",
          "data": {
            "text/html": [
              "<div>\n",
              "<style scoped>\n",
              "    .dataframe tbody tr th:only-of-type {\n",
              "        vertical-align: middle;\n",
              "    }\n",
              "\n",
              "    .dataframe tbody tr th {\n",
              "        vertical-align: top;\n",
              "    }\n",
              "\n",
              "    .dataframe thead th {\n",
              "        text-align: right;\n",
              "    }\n",
              "</style>\n",
              "<table border=\"1\" class=\"dataframe\">\n",
              "  <thead>\n",
              "    <tr style=\"text-align: right;\">\n",
              "      <th></th>\n",
              "      <th>key</th>\n",
              "      <th>lval</th>\n",
              "    </tr>\n",
              "  </thead>\n",
              "  <tbody>\n",
              "    <tr>\n",
              "      <th>0</th>\n",
              "      <td>foo</td>\n",
              "      <td>1</td>\n",
              "    </tr>\n",
              "    <tr>\n",
              "      <th>1</th>\n",
              "      <td>bar</td>\n",
              "      <td>2</td>\n",
              "    </tr>\n",
              "  </tbody>\n",
              "</table>\n",
              "</div>"
            ],
            "text/plain": [
              "   key  lval\n",
              "0  foo     1\n",
              "1  bar     2"
            ]
          },
          "metadata": {
            "tags": []
          },
          "execution_count": 99
        }
      ]
    },
    {
      "cell_type": "code",
      "metadata": {
        "id": "iqYA8uIwlijU",
        "colab_type": "code",
        "colab": {
          "base_uri": "https://localhost:8080/",
          "height": 106
        },
        "outputId": "87c48de9-119b-4d27-b810-8e6a25c67f73"
      },
      "source": [
        "right=pd.DataFrame({'key':['foo','bar'],'rval':[4,5]})\n",
        "right"
      ],
      "execution_count": 100,
      "outputs": [
        {
          "output_type": "execute_result",
          "data": {
            "text/html": [
              "<div>\n",
              "<style scoped>\n",
              "    .dataframe tbody tr th:only-of-type {\n",
              "        vertical-align: middle;\n",
              "    }\n",
              "\n",
              "    .dataframe tbody tr th {\n",
              "        vertical-align: top;\n",
              "    }\n",
              "\n",
              "    .dataframe thead th {\n",
              "        text-align: right;\n",
              "    }\n",
              "</style>\n",
              "<table border=\"1\" class=\"dataframe\">\n",
              "  <thead>\n",
              "    <tr style=\"text-align: right;\">\n",
              "      <th></th>\n",
              "      <th>key</th>\n",
              "      <th>rval</th>\n",
              "    </tr>\n",
              "  </thead>\n",
              "  <tbody>\n",
              "    <tr>\n",
              "      <th>0</th>\n",
              "      <td>foo</td>\n",
              "      <td>4</td>\n",
              "    </tr>\n",
              "    <tr>\n",
              "      <th>1</th>\n",
              "      <td>bar</td>\n",
              "      <td>5</td>\n",
              "    </tr>\n",
              "  </tbody>\n",
              "</table>\n",
              "</div>"
            ],
            "text/plain": [
              "   key  rval\n",
              "0  foo     4\n",
              "1  bar     5"
            ]
          },
          "metadata": {
            "tags": []
          },
          "execution_count": 100
        }
      ]
    },
    {
      "cell_type": "code",
      "metadata": {
        "id": "u_-f996Ql4FZ",
        "colab_type": "code",
        "colab": {
          "base_uri": "https://localhost:8080/",
          "height": 106
        },
        "outputId": "5f99bba5-37a6-4149-e3da-71423e929109"
      },
      "source": [
        "pd.merge(left,right,on='key')"
      ],
      "execution_count": 101,
      "outputs": [
        {
          "output_type": "execute_result",
          "data": {
            "text/html": [
              "<div>\n",
              "<style scoped>\n",
              "    .dataframe tbody tr th:only-of-type {\n",
              "        vertical-align: middle;\n",
              "    }\n",
              "\n",
              "    .dataframe tbody tr th {\n",
              "        vertical-align: top;\n",
              "    }\n",
              "\n",
              "    .dataframe thead th {\n",
              "        text-align: right;\n",
              "    }\n",
              "</style>\n",
              "<table border=\"1\" class=\"dataframe\">\n",
              "  <thead>\n",
              "    <tr style=\"text-align: right;\">\n",
              "      <th></th>\n",
              "      <th>key</th>\n",
              "      <th>lval</th>\n",
              "      <th>rval</th>\n",
              "    </tr>\n",
              "  </thead>\n",
              "  <tbody>\n",
              "    <tr>\n",
              "      <th>0</th>\n",
              "      <td>foo</td>\n",
              "      <td>1</td>\n",
              "      <td>4</td>\n",
              "    </tr>\n",
              "    <tr>\n",
              "      <th>1</th>\n",
              "      <td>bar</td>\n",
              "      <td>2</td>\n",
              "      <td>5</td>\n",
              "    </tr>\n",
              "  </tbody>\n",
              "</table>\n",
              "</div>"
            ],
            "text/plain": [
              "   key  lval  rval\n",
              "0  foo     1     4\n",
              "1  bar     2     5"
            ]
          },
          "metadata": {
            "tags": []
          },
          "execution_count": 101
        }
      ]
    },
    {
      "cell_type": "markdown",
      "metadata": {
        "id": "wsnlWWxdmQ3a",
        "colab_type": "text"
      },
      "source": [
        "* pd.append( )"
      ]
    },
    {
      "cell_type": "code",
      "metadata": {
        "id": "wHCfdOatl8nW",
        "colab_type": "code",
        "colab": {
          "base_uri": "https://localhost:8080/",
          "height": 136
        },
        "outputId": "a19f4e09-15f0-4f0f-9f93-5daafa846f4f"
      },
      "source": [
        "# 데이터프레임\n",
        "df=pd.DataFrame(np.random.randn(3,4),columns=['A','B','C','D'])\n",
        "df"
      ],
      "execution_count": 102,
      "outputs": [
        {
          "output_type": "execute_result",
          "data": {
            "text/html": [
              "<div>\n",
              "<style scoped>\n",
              "    .dataframe tbody tr th:only-of-type {\n",
              "        vertical-align: middle;\n",
              "    }\n",
              "\n",
              "    .dataframe tbody tr th {\n",
              "        vertical-align: top;\n",
              "    }\n",
              "\n",
              "    .dataframe thead th {\n",
              "        text-align: right;\n",
              "    }\n",
              "</style>\n",
              "<table border=\"1\" class=\"dataframe\">\n",
              "  <thead>\n",
              "    <tr style=\"text-align: right;\">\n",
              "      <th></th>\n",
              "      <th>A</th>\n",
              "      <th>B</th>\n",
              "      <th>C</th>\n",
              "      <th>D</th>\n",
              "    </tr>\n",
              "  </thead>\n",
              "  <tbody>\n",
              "    <tr>\n",
              "      <th>0</th>\n",
              "      <td>-0.003480</td>\n",
              "      <td>-0.069280</td>\n",
              "      <td>-0.009042</td>\n",
              "      <td>-1.213300</td>\n",
              "    </tr>\n",
              "    <tr>\n",
              "      <th>1</th>\n",
              "      <td>0.301581</td>\n",
              "      <td>1.124457</td>\n",
              "      <td>-0.288683</td>\n",
              "      <td>-0.090839</td>\n",
              "    </tr>\n",
              "    <tr>\n",
              "      <th>2</th>\n",
              "      <td>-0.188025</td>\n",
              "      <td>-0.275712</td>\n",
              "      <td>1.076375</td>\n",
              "      <td>-0.713532</td>\n",
              "    </tr>\n",
              "  </tbody>\n",
              "</table>\n",
              "</div>"
            ],
            "text/plain": [
              "          A         B         C         D\n",
              "0 -0.003480 -0.069280 -0.009042 -1.213300\n",
              "1  0.301581  1.124457 -0.288683 -0.090839\n",
              "2 -0.188025 -0.275712  1.076375 -0.713532"
            ]
          },
          "metadata": {
            "tags": []
          },
          "execution_count": 102
        }
      ]
    },
    {
      "cell_type": "code",
      "metadata": {
        "id": "xO0XJ0dUmiqW",
        "colab_type": "code",
        "colab": {
          "base_uri": "https://localhost:8080/",
          "height": 105
        },
        "outputId": "fd701063-b24a-4ae9-88b1-056d0141843a"
      },
      "source": [
        "# 시리즈\n",
        "s=df.iloc[2]\n",
        "s"
      ],
      "execution_count": 103,
      "outputs": [
        {
          "output_type": "execute_result",
          "data": {
            "text/plain": [
              "A   -0.188025\n",
              "B   -0.275712\n",
              "C    1.076375\n",
              "D   -0.713532\n",
              "Name: 2, dtype: float64"
            ]
          },
          "metadata": {
            "tags": []
          },
          "execution_count": 103
        }
      ]
    },
    {
      "cell_type": "code",
      "metadata": {
        "id": "7jglIZnNmtjQ",
        "colab_type": "code",
        "colab": {
          "base_uri": "https://localhost:8080/",
          "height": 166
        },
        "outputId": "736b1a7b-2599-4f11-d07e-471985ece339"
      },
      "source": [
        "# index를 초기화 ignore_index=True\n",
        "df.append(s,ignore_index=True)"
      ],
      "execution_count": 104,
      "outputs": [
        {
          "output_type": "execute_result",
          "data": {
            "text/html": [
              "<div>\n",
              "<style scoped>\n",
              "    .dataframe tbody tr th:only-of-type {\n",
              "        vertical-align: middle;\n",
              "    }\n",
              "\n",
              "    .dataframe tbody tr th {\n",
              "        vertical-align: top;\n",
              "    }\n",
              "\n",
              "    .dataframe thead th {\n",
              "        text-align: right;\n",
              "    }\n",
              "</style>\n",
              "<table border=\"1\" class=\"dataframe\">\n",
              "  <thead>\n",
              "    <tr style=\"text-align: right;\">\n",
              "      <th></th>\n",
              "      <th>A</th>\n",
              "      <th>B</th>\n",
              "      <th>C</th>\n",
              "      <th>D</th>\n",
              "    </tr>\n",
              "  </thead>\n",
              "  <tbody>\n",
              "    <tr>\n",
              "      <th>0</th>\n",
              "      <td>-0.003480</td>\n",
              "      <td>-0.069280</td>\n",
              "      <td>-0.009042</td>\n",
              "      <td>-1.213300</td>\n",
              "    </tr>\n",
              "    <tr>\n",
              "      <th>1</th>\n",
              "      <td>0.301581</td>\n",
              "      <td>1.124457</td>\n",
              "      <td>-0.288683</td>\n",
              "      <td>-0.090839</td>\n",
              "    </tr>\n",
              "    <tr>\n",
              "      <th>2</th>\n",
              "      <td>-0.188025</td>\n",
              "      <td>-0.275712</td>\n",
              "      <td>1.076375</td>\n",
              "      <td>-0.713532</td>\n",
              "    </tr>\n",
              "    <tr>\n",
              "      <th>3</th>\n",
              "      <td>-0.188025</td>\n",
              "      <td>-0.275712</td>\n",
              "      <td>1.076375</td>\n",
              "      <td>-0.713532</td>\n",
              "    </tr>\n",
              "  </tbody>\n",
              "</table>\n",
              "</div>"
            ],
            "text/plain": [
              "          A         B         C         D\n",
              "0 -0.003480 -0.069280 -0.009042 -1.213300\n",
              "1  0.301581  1.124457 -0.288683 -0.090839\n",
              "2 -0.188025 -0.275712  1.076375 -0.713532\n",
              "3 -0.188025 -0.275712  1.076375 -0.713532"
            ]
          },
          "metadata": {
            "tags": []
          },
          "execution_count": 104
        }
      ]
    },
    {
      "cell_type": "markdown",
      "metadata": {
        "id": "Ue6WWAqBm7ct",
        "colab_type": "text"
      },
      "source": [
        "# 인덱스 그룹화\n",
        "* pd.groupby( )"
      ]
    },
    {
      "cell_type": "code",
      "metadata": {
        "id": "HLISEhDJm2XQ",
        "colab_type": "code",
        "colab": {
          "base_uri": "https://localhost:8080/",
          "height": 284
        },
        "outputId": "8d2916a0-5864-4757-c807-8525a3a636c2"
      },
      "source": [
        "df = pd.DataFrame({\n",
        "    'A' : ['foo', 'bar', 'foo', 'bar', 'foo', 'bar', 'foo', 'foo'],\n",
        "    'B' : ['one', 'one', 'two', 'three', 'two', 'two', 'one', 'three'],\n",
        "    'C' : np.random.randn(8),\n",
        "    'D' : np.random.randn(8)\n",
        "    })\n",
        "df"
      ],
      "execution_count": 105,
      "outputs": [
        {
          "output_type": "execute_result",
          "data": {
            "text/html": [
              "<div>\n",
              "<style scoped>\n",
              "    .dataframe tbody tr th:only-of-type {\n",
              "        vertical-align: middle;\n",
              "    }\n",
              "\n",
              "    .dataframe tbody tr th {\n",
              "        vertical-align: top;\n",
              "    }\n",
              "\n",
              "    .dataframe thead th {\n",
              "        text-align: right;\n",
              "    }\n",
              "</style>\n",
              "<table border=\"1\" class=\"dataframe\">\n",
              "  <thead>\n",
              "    <tr style=\"text-align: right;\">\n",
              "      <th></th>\n",
              "      <th>A</th>\n",
              "      <th>B</th>\n",
              "      <th>C</th>\n",
              "      <th>D</th>\n",
              "    </tr>\n",
              "  </thead>\n",
              "  <tbody>\n",
              "    <tr>\n",
              "      <th>0</th>\n",
              "      <td>foo</td>\n",
              "      <td>one</td>\n",
              "      <td>-0.676239</td>\n",
              "      <td>0.072549</td>\n",
              "    </tr>\n",
              "    <tr>\n",
              "      <th>1</th>\n",
              "      <td>bar</td>\n",
              "      <td>one</td>\n",
              "      <td>1.933534</td>\n",
              "      <td>1.218268</td>\n",
              "    </tr>\n",
              "    <tr>\n",
              "      <th>2</th>\n",
              "      <td>foo</td>\n",
              "      <td>two</td>\n",
              "      <td>1.559858</td>\n",
              "      <td>-0.811552</td>\n",
              "    </tr>\n",
              "    <tr>\n",
              "      <th>3</th>\n",
              "      <td>bar</td>\n",
              "      <td>three</td>\n",
              "      <td>-2.552900</td>\n",
              "      <td>0.996995</td>\n",
              "    </tr>\n",
              "    <tr>\n",
              "      <th>4</th>\n",
              "      <td>foo</td>\n",
              "      <td>two</td>\n",
              "      <td>0.140504</td>\n",
              "      <td>-0.584744</td>\n",
              "    </tr>\n",
              "    <tr>\n",
              "      <th>5</th>\n",
              "      <td>bar</td>\n",
              "      <td>two</td>\n",
              "      <td>1.536059</td>\n",
              "      <td>0.299104</td>\n",
              "    </tr>\n",
              "    <tr>\n",
              "      <th>6</th>\n",
              "      <td>foo</td>\n",
              "      <td>one</td>\n",
              "      <td>0.820583</td>\n",
              "      <td>0.962778</td>\n",
              "    </tr>\n",
              "    <tr>\n",
              "      <th>7</th>\n",
              "      <td>foo</td>\n",
              "      <td>three</td>\n",
              "      <td>0.398576</td>\n",
              "      <td>-2.441885</td>\n",
              "    </tr>\n",
              "  </tbody>\n",
              "</table>\n",
              "</div>"
            ],
            "text/plain": [
              "     A      B         C         D\n",
              "0  foo    one -0.676239  0.072549\n",
              "1  bar    one  1.933534  1.218268\n",
              "2  foo    two  1.559858 -0.811552\n",
              "3  bar  three -2.552900  0.996995\n",
              "4  foo    two  0.140504 -0.584744\n",
              "5  bar    two  1.536059  0.299104\n",
              "6  foo    one  0.820583  0.962778\n",
              "7  foo  three  0.398576 -2.441885"
            ]
          },
          "metadata": {
            "tags": []
          },
          "execution_count": 105
        }
      ]
    },
    {
      "cell_type": "code",
      "metadata": {
        "id": "pDqTSIzHnQFW",
        "colab_type": "code",
        "colab": {
          "base_uri": "https://localhost:8080/",
          "height": 136
        },
        "outputId": "21a8258a-3f91-4d39-c3ab-2771ea0cad94"
      },
      "source": [
        "df.groupby('A').sum()"
      ],
      "execution_count": 106,
      "outputs": [
        {
          "output_type": "execute_result",
          "data": {
            "text/html": [
              "<div>\n",
              "<style scoped>\n",
              "    .dataframe tbody tr th:only-of-type {\n",
              "        vertical-align: middle;\n",
              "    }\n",
              "\n",
              "    .dataframe tbody tr th {\n",
              "        vertical-align: top;\n",
              "    }\n",
              "\n",
              "    .dataframe thead th {\n",
              "        text-align: right;\n",
              "    }\n",
              "</style>\n",
              "<table border=\"1\" class=\"dataframe\">\n",
              "  <thead>\n",
              "    <tr style=\"text-align: right;\">\n",
              "      <th></th>\n",
              "      <th>C</th>\n",
              "      <th>D</th>\n",
              "    </tr>\n",
              "    <tr>\n",
              "      <th>A</th>\n",
              "      <th></th>\n",
              "      <th></th>\n",
              "    </tr>\n",
              "  </thead>\n",
              "  <tbody>\n",
              "    <tr>\n",
              "      <th>bar</th>\n",
              "      <td>0.916693</td>\n",
              "      <td>2.514367</td>\n",
              "    </tr>\n",
              "    <tr>\n",
              "      <th>foo</th>\n",
              "      <td>2.243282</td>\n",
              "      <td>-2.802854</td>\n",
              "    </tr>\n",
              "  </tbody>\n",
              "</table>\n",
              "</div>"
            ],
            "text/plain": [
              "            C         D\n",
              "A                      \n",
              "bar  0.916693  2.514367\n",
              "foo  2.243282 -2.802854"
            ]
          },
          "metadata": {
            "tags": []
          },
          "execution_count": 106
        }
      ]
    },
    {
      "cell_type": "code",
      "metadata": {
        "id": "5b0t0nfNnYI4",
        "colab_type": "code",
        "colab": {
          "base_uri": "https://localhost:8080/",
          "height": 254
        },
        "outputId": "c9b88b05-740e-4f84-c527-089b32255e1e"
      },
      "source": [
        "df.groupby(['A','B']).sum()"
      ],
      "execution_count": 107,
      "outputs": [
        {
          "output_type": "execute_result",
          "data": {
            "text/html": [
              "<div>\n",
              "<style scoped>\n",
              "    .dataframe tbody tr th:only-of-type {\n",
              "        vertical-align: middle;\n",
              "    }\n",
              "\n",
              "    .dataframe tbody tr th {\n",
              "        vertical-align: top;\n",
              "    }\n",
              "\n",
              "    .dataframe thead th {\n",
              "        text-align: right;\n",
              "    }\n",
              "</style>\n",
              "<table border=\"1\" class=\"dataframe\">\n",
              "  <thead>\n",
              "    <tr style=\"text-align: right;\">\n",
              "      <th></th>\n",
              "      <th></th>\n",
              "      <th>C</th>\n",
              "      <th>D</th>\n",
              "    </tr>\n",
              "    <tr>\n",
              "      <th>A</th>\n",
              "      <th>B</th>\n",
              "      <th></th>\n",
              "      <th></th>\n",
              "    </tr>\n",
              "  </thead>\n",
              "  <tbody>\n",
              "    <tr>\n",
              "      <th rowspan=\"3\" valign=\"top\">bar</th>\n",
              "      <th>one</th>\n",
              "      <td>1.933534</td>\n",
              "      <td>1.218268</td>\n",
              "    </tr>\n",
              "    <tr>\n",
              "      <th>three</th>\n",
              "      <td>-2.552900</td>\n",
              "      <td>0.996995</td>\n",
              "    </tr>\n",
              "    <tr>\n",
              "      <th>two</th>\n",
              "      <td>1.536059</td>\n",
              "      <td>0.299104</td>\n",
              "    </tr>\n",
              "    <tr>\n",
              "      <th rowspan=\"3\" valign=\"top\">foo</th>\n",
              "      <th>one</th>\n",
              "      <td>0.144344</td>\n",
              "      <td>1.035328</td>\n",
              "    </tr>\n",
              "    <tr>\n",
              "      <th>three</th>\n",
              "      <td>0.398576</td>\n",
              "      <td>-2.441885</td>\n",
              "    </tr>\n",
              "    <tr>\n",
              "      <th>two</th>\n",
              "      <td>1.700362</td>\n",
              "      <td>-1.396296</td>\n",
              "    </tr>\n",
              "  </tbody>\n",
              "</table>\n",
              "</div>"
            ],
            "text/plain": [
              "                  C         D\n",
              "A   B                        \n",
              "bar one    1.933534  1.218268\n",
              "    three -2.552900  0.996995\n",
              "    two    1.536059  0.299104\n",
              "foo one    0.144344  1.035328\n",
              "    three  0.398576 -2.441885\n",
              "    two    1.700362 -1.396296"
            ]
          },
          "metadata": {
            "tags": []
          },
          "execution_count": 107
        }
      ]
    },
    {
      "cell_type": "markdown",
      "metadata": {
        "id": "UeKrTu_Knt3Q",
        "colab_type": "text"
      },
      "source": [
        "# 멀티 인덱스\n",
        "* pd.MultiIndex.from_tuples( )\n",
        "* pd.stack( )\n",
        "* pd.unstack( )"
      ]
    },
    {
      "cell_type": "code",
      "metadata": {
        "id": "hjb_TbzXnkAF",
        "colab_type": "code",
        "colab": {
          "base_uri": "https://localhost:8080/",
          "height": 158
        },
        "outputId": "e698b65c-aafe-4ce5-d265-b0ae27e572b5"
      },
      "source": [
        "tuples = list(zip(*[['bar', 'bar', 'baz', 'baz','foo', 'foo', 'qux', 'qux'],\n",
        "                    ['one', 'two', 'one', 'two','one', 'two', 'one', 'two']]))\n",
        "tuples"
      ],
      "execution_count": 108,
      "outputs": [
        {
          "output_type": "execute_result",
          "data": {
            "text/plain": [
              "[('bar', 'one'),\n",
              " ('bar', 'two'),\n",
              " ('baz', 'one'),\n",
              " ('baz', 'two'),\n",
              " ('foo', 'one'),\n",
              " ('foo', 'two'),\n",
              " ('qux', 'one'),\n",
              " ('qux', 'two')]"
            ]
          },
          "metadata": {
            "tags": []
          },
          "execution_count": 108
        }
      ]
    },
    {
      "cell_type": "code",
      "metadata": {
        "id": "xOS0PyM7n-cD",
        "colab_type": "code",
        "colab": {
          "base_uri": "https://localhost:8080/",
          "height": 175
        },
        "outputId": "93edb426-71a7-417b-fe16-1383266d746b"
      },
      "source": [
        "index=pd.MultiIndex.from_tuples(tuples,names=['first','second'])\n",
        "index"
      ],
      "execution_count": 109,
      "outputs": [
        {
          "output_type": "execute_result",
          "data": {
            "text/plain": [
              "MultiIndex([('bar', 'one'),\n",
              "            ('bar', 'two'),\n",
              "            ('baz', 'one'),\n",
              "            ('baz', 'two'),\n",
              "            ('foo', 'one'),\n",
              "            ('foo', 'two'),\n",
              "            ('qux', 'one'),\n",
              "            ('qux', 'two')],\n",
              "           names=['first', 'second'])"
            ]
          },
          "metadata": {
            "tags": []
          },
          "execution_count": 109
        }
      ]
    },
    {
      "cell_type": "code",
      "metadata": {
        "id": "-TowolQqollb",
        "colab_type": "code",
        "colab": {
          "base_uri": "https://localhost:8080/",
          "height": 314
        },
        "outputId": "2004661d-9c79-42dc-a8b6-9768dc00ad7b"
      },
      "source": [
        "df=pd.DataFrame(np.random.randn(8,2),index=index,columns=['A','B'])\n",
        "df"
      ],
      "execution_count": 110,
      "outputs": [
        {
          "output_type": "execute_result",
          "data": {
            "text/html": [
              "<div>\n",
              "<style scoped>\n",
              "    .dataframe tbody tr th:only-of-type {\n",
              "        vertical-align: middle;\n",
              "    }\n",
              "\n",
              "    .dataframe tbody tr th {\n",
              "        vertical-align: top;\n",
              "    }\n",
              "\n",
              "    .dataframe thead th {\n",
              "        text-align: right;\n",
              "    }\n",
              "</style>\n",
              "<table border=\"1\" class=\"dataframe\">\n",
              "  <thead>\n",
              "    <tr style=\"text-align: right;\">\n",
              "      <th></th>\n",
              "      <th></th>\n",
              "      <th>A</th>\n",
              "      <th>B</th>\n",
              "    </tr>\n",
              "    <tr>\n",
              "      <th>first</th>\n",
              "      <th>second</th>\n",
              "      <th></th>\n",
              "      <th></th>\n",
              "    </tr>\n",
              "  </thead>\n",
              "  <tbody>\n",
              "    <tr>\n",
              "      <th rowspan=\"2\" valign=\"top\">bar</th>\n",
              "      <th>one</th>\n",
              "      <td>1.244606</td>\n",
              "      <td>-0.340970</td>\n",
              "    </tr>\n",
              "    <tr>\n",
              "      <th>two</th>\n",
              "      <td>2.080222</td>\n",
              "      <td>0.268702</td>\n",
              "    </tr>\n",
              "    <tr>\n",
              "      <th rowspan=\"2\" valign=\"top\">baz</th>\n",
              "      <th>one</th>\n",
              "      <td>0.852222</td>\n",
              "      <td>1.289496</td>\n",
              "    </tr>\n",
              "    <tr>\n",
              "      <th>two</th>\n",
              "      <td>-0.065910</td>\n",
              "      <td>0.496868</td>\n",
              "    </tr>\n",
              "    <tr>\n",
              "      <th rowspan=\"2\" valign=\"top\">foo</th>\n",
              "      <th>one</th>\n",
              "      <td>0.095337</td>\n",
              "      <td>-0.468159</td>\n",
              "    </tr>\n",
              "    <tr>\n",
              "      <th>two</th>\n",
              "      <td>-1.775047</td>\n",
              "      <td>0.474989</td>\n",
              "    </tr>\n",
              "    <tr>\n",
              "      <th rowspan=\"2\" valign=\"top\">qux</th>\n",
              "      <th>one</th>\n",
              "      <td>-0.350288</td>\n",
              "      <td>0.849306</td>\n",
              "    </tr>\n",
              "    <tr>\n",
              "      <th>two</th>\n",
              "      <td>0.466930</td>\n",
              "      <td>-1.222135</td>\n",
              "    </tr>\n",
              "  </tbody>\n",
              "</table>\n",
              "</div>"
            ],
            "text/plain": [
              "                     A         B\n",
              "first second                    \n",
              "bar   one     1.244606 -0.340970\n",
              "      two     2.080222  0.268702\n",
              "baz   one     0.852222  1.289496\n",
              "      two    -0.065910  0.496868\n",
              "foo   one     0.095337 -0.468159\n",
              "      two    -1.775047  0.474989\n",
              "qux   one    -0.350288  0.849306\n",
              "      two     0.466930 -1.222135"
            ]
          },
          "metadata": {
            "tags": []
          },
          "execution_count": 110
        }
      ]
    },
    {
      "cell_type": "code",
      "metadata": {
        "id": "tU64jbiLpAli",
        "colab_type": "code",
        "colab": {
          "base_uri": "https://localhost:8080/",
          "height": 334
        },
        "outputId": "f29d2197-db05-438c-9057-962bb8cef6b0"
      },
      "source": [
        "stacked=df.stack()\n",
        "stacked"
      ],
      "execution_count": 111,
      "outputs": [
        {
          "output_type": "execute_result",
          "data": {
            "text/plain": [
              "first  second   \n",
              "bar    one     A    1.244606\n",
              "               B   -0.340970\n",
              "       two     A    2.080222\n",
              "               B    0.268702\n",
              "baz    one     A    0.852222\n",
              "               B    1.289496\n",
              "       two     A   -0.065910\n",
              "               B    0.496868\n",
              "foo    one     A    0.095337\n",
              "               B   -0.468159\n",
              "       two     A   -1.775047\n",
              "               B    0.474989\n",
              "qux    one     A   -0.350288\n",
              "               B    0.849306\n",
              "       two     A    0.466930\n",
              "               B   -1.222135\n",
              "dtype: float64"
            ]
          },
          "metadata": {
            "tags": []
          },
          "execution_count": 111
        }
      ]
    },
    {
      "cell_type": "code",
      "metadata": {
        "id": "CX0755XIpbu_",
        "colab_type": "code",
        "colab": {
          "base_uri": "https://localhost:8080/",
          "height": 195
        },
        "outputId": "e057d514-b046-4226-d82b-a0f189e16c2c"
      },
      "source": [
        "stacked.unstack(level=0)"
      ],
      "execution_count": 112,
      "outputs": [
        {
          "output_type": "execute_result",
          "data": {
            "text/html": [
              "<div>\n",
              "<style scoped>\n",
              "    .dataframe tbody tr th:only-of-type {\n",
              "        vertical-align: middle;\n",
              "    }\n",
              "\n",
              "    .dataframe tbody tr th {\n",
              "        vertical-align: top;\n",
              "    }\n",
              "\n",
              "    .dataframe thead th {\n",
              "        text-align: right;\n",
              "    }\n",
              "</style>\n",
              "<table border=\"1\" class=\"dataframe\">\n",
              "  <thead>\n",
              "    <tr style=\"text-align: right;\">\n",
              "      <th></th>\n",
              "      <th>first</th>\n",
              "      <th>bar</th>\n",
              "      <th>baz</th>\n",
              "      <th>foo</th>\n",
              "      <th>qux</th>\n",
              "    </tr>\n",
              "    <tr>\n",
              "      <th>second</th>\n",
              "      <th></th>\n",
              "      <th></th>\n",
              "      <th></th>\n",
              "      <th></th>\n",
              "      <th></th>\n",
              "    </tr>\n",
              "  </thead>\n",
              "  <tbody>\n",
              "    <tr>\n",
              "      <th rowspan=\"2\" valign=\"top\">one</th>\n",
              "      <th>A</th>\n",
              "      <td>1.244606</td>\n",
              "      <td>0.852222</td>\n",
              "      <td>0.095337</td>\n",
              "      <td>-0.350288</td>\n",
              "    </tr>\n",
              "    <tr>\n",
              "      <th>B</th>\n",
              "      <td>-0.340970</td>\n",
              "      <td>1.289496</td>\n",
              "      <td>-0.468159</td>\n",
              "      <td>0.849306</td>\n",
              "    </tr>\n",
              "    <tr>\n",
              "      <th rowspan=\"2\" valign=\"top\">two</th>\n",
              "      <th>A</th>\n",
              "      <td>2.080222</td>\n",
              "      <td>-0.065910</td>\n",
              "      <td>-1.775047</td>\n",
              "      <td>0.466930</td>\n",
              "    </tr>\n",
              "    <tr>\n",
              "      <th>B</th>\n",
              "      <td>0.268702</td>\n",
              "      <td>0.496868</td>\n",
              "      <td>0.474989</td>\n",
              "      <td>-1.222135</td>\n",
              "    </tr>\n",
              "  </tbody>\n",
              "</table>\n",
              "</div>"
            ],
            "text/plain": [
              "first          bar       baz       foo       qux\n",
              "second                                          \n",
              "one    A  1.244606  0.852222  0.095337 -0.350288\n",
              "       B -0.340970  1.289496 -0.468159  0.849306\n",
              "two    A  2.080222 -0.065910 -1.775047  0.466930\n",
              "       B  0.268702  0.496868  0.474989 -1.222135"
            ]
          },
          "metadata": {
            "tags": []
          },
          "execution_count": 112
        }
      ]
    },
    {
      "cell_type": "code",
      "metadata": {
        "id": "zgWpKb-9phgj",
        "colab_type": "code",
        "colab": {
          "base_uri": "https://localhost:8080/",
          "height": 314
        },
        "outputId": "7669a8f4-b52d-4a8e-d306-92c403e912c1"
      },
      "source": [
        "stacked.unstack(level=1)"
      ],
      "execution_count": 113,
      "outputs": [
        {
          "output_type": "execute_result",
          "data": {
            "text/html": [
              "<div>\n",
              "<style scoped>\n",
              "    .dataframe tbody tr th:only-of-type {\n",
              "        vertical-align: middle;\n",
              "    }\n",
              "\n",
              "    .dataframe tbody tr th {\n",
              "        vertical-align: top;\n",
              "    }\n",
              "\n",
              "    .dataframe thead th {\n",
              "        text-align: right;\n",
              "    }\n",
              "</style>\n",
              "<table border=\"1\" class=\"dataframe\">\n",
              "  <thead>\n",
              "    <tr style=\"text-align: right;\">\n",
              "      <th></th>\n",
              "      <th>second</th>\n",
              "      <th>one</th>\n",
              "      <th>two</th>\n",
              "    </tr>\n",
              "    <tr>\n",
              "      <th>first</th>\n",
              "      <th></th>\n",
              "      <th></th>\n",
              "      <th></th>\n",
              "    </tr>\n",
              "  </thead>\n",
              "  <tbody>\n",
              "    <tr>\n",
              "      <th rowspan=\"2\" valign=\"top\">bar</th>\n",
              "      <th>A</th>\n",
              "      <td>1.244606</td>\n",
              "      <td>2.080222</td>\n",
              "    </tr>\n",
              "    <tr>\n",
              "      <th>B</th>\n",
              "      <td>-0.340970</td>\n",
              "      <td>0.268702</td>\n",
              "    </tr>\n",
              "    <tr>\n",
              "      <th rowspan=\"2\" valign=\"top\">baz</th>\n",
              "      <th>A</th>\n",
              "      <td>0.852222</td>\n",
              "      <td>-0.065910</td>\n",
              "    </tr>\n",
              "    <tr>\n",
              "      <th>B</th>\n",
              "      <td>1.289496</td>\n",
              "      <td>0.496868</td>\n",
              "    </tr>\n",
              "    <tr>\n",
              "      <th rowspan=\"2\" valign=\"top\">foo</th>\n",
              "      <th>A</th>\n",
              "      <td>0.095337</td>\n",
              "      <td>-1.775047</td>\n",
              "    </tr>\n",
              "    <tr>\n",
              "      <th>B</th>\n",
              "      <td>-0.468159</td>\n",
              "      <td>0.474989</td>\n",
              "    </tr>\n",
              "    <tr>\n",
              "      <th rowspan=\"2\" valign=\"top\">qux</th>\n",
              "      <th>A</th>\n",
              "      <td>-0.350288</td>\n",
              "      <td>0.466930</td>\n",
              "    </tr>\n",
              "    <tr>\n",
              "      <th>B</th>\n",
              "      <td>0.849306</td>\n",
              "      <td>-1.222135</td>\n",
              "    </tr>\n",
              "  </tbody>\n",
              "</table>\n",
              "</div>"
            ],
            "text/plain": [
              "second        one       two\n",
              "first                      \n",
              "bar   A  1.244606  2.080222\n",
              "      B -0.340970  0.268702\n",
              "baz   A  0.852222 -0.065910\n",
              "      B  1.289496  0.496868\n",
              "foo   A  0.095337 -1.775047\n",
              "      B -0.468159  0.474989\n",
              "qux   A -0.350288  0.466930\n",
              "      B  0.849306 -1.222135"
            ]
          },
          "metadata": {
            "tags": []
          },
          "execution_count": 113
        }
      ]
    },
    {
      "cell_type": "markdown",
      "metadata": {
        "id": "i-TTl8EzMZhN",
        "colab_type": "text"
      },
      "source": [
        "#Pivot tables"
      ]
    },
    {
      "cell_type": "code",
      "metadata": {
        "id": "VH318UOKpwzs",
        "colab_type": "code",
        "colab": {
          "base_uri": "https://localhost:8080/",
          "height": 402
        },
        "outputId": "d3dccef7-a3fb-403d-97bf-dfa2ae106153"
      },
      "source": [
        "df = pd.DataFrame({'A' : ['one', 'one', 'two', 'three'] * 3,\n",
        "                   'B' : ['A', 'B', 'C'] * 4,\n",
        "                   'C' : ['foo', 'foo', 'foo', 'bar', 'bar', 'bar'] * 2,\n",
        "                   'D' : np.random.randn(12),\n",
        "                   'E' : np.random.randn(12)})\n",
        "df"
      ],
      "execution_count": 114,
      "outputs": [
        {
          "output_type": "execute_result",
          "data": {
            "text/html": [
              "<div>\n",
              "<style scoped>\n",
              "    .dataframe tbody tr th:only-of-type {\n",
              "        vertical-align: middle;\n",
              "    }\n",
              "\n",
              "    .dataframe tbody tr th {\n",
              "        vertical-align: top;\n",
              "    }\n",
              "\n",
              "    .dataframe thead th {\n",
              "        text-align: right;\n",
              "    }\n",
              "</style>\n",
              "<table border=\"1\" class=\"dataframe\">\n",
              "  <thead>\n",
              "    <tr style=\"text-align: right;\">\n",
              "      <th></th>\n",
              "      <th>A</th>\n",
              "      <th>B</th>\n",
              "      <th>C</th>\n",
              "      <th>D</th>\n",
              "      <th>E</th>\n",
              "    </tr>\n",
              "  </thead>\n",
              "  <tbody>\n",
              "    <tr>\n",
              "      <th>0</th>\n",
              "      <td>one</td>\n",
              "      <td>A</td>\n",
              "      <td>foo</td>\n",
              "      <td>-0.144033</td>\n",
              "      <td>0.909405</td>\n",
              "    </tr>\n",
              "    <tr>\n",
              "      <th>1</th>\n",
              "      <td>one</td>\n",
              "      <td>B</td>\n",
              "      <td>foo</td>\n",
              "      <td>1.580662</td>\n",
              "      <td>0.486504</td>\n",
              "    </tr>\n",
              "    <tr>\n",
              "      <th>2</th>\n",
              "      <td>two</td>\n",
              "      <td>C</td>\n",
              "      <td>foo</td>\n",
              "      <td>-0.232735</td>\n",
              "      <td>-0.685442</td>\n",
              "    </tr>\n",
              "    <tr>\n",
              "      <th>3</th>\n",
              "      <td>three</td>\n",
              "      <td>A</td>\n",
              "      <td>bar</td>\n",
              "      <td>-1.004942</td>\n",
              "      <td>1.014002</td>\n",
              "    </tr>\n",
              "    <tr>\n",
              "      <th>4</th>\n",
              "      <td>one</td>\n",
              "      <td>B</td>\n",
              "      <td>bar</td>\n",
              "      <td>0.529911</td>\n",
              "      <td>0.479618</td>\n",
              "    </tr>\n",
              "    <tr>\n",
              "      <th>5</th>\n",
              "      <td>one</td>\n",
              "      <td>C</td>\n",
              "      <td>bar</td>\n",
              "      <td>1.081725</td>\n",
              "      <td>0.840548</td>\n",
              "    </tr>\n",
              "    <tr>\n",
              "      <th>6</th>\n",
              "      <td>two</td>\n",
              "      <td>A</td>\n",
              "      <td>foo</td>\n",
              "      <td>-0.577026</td>\n",
              "      <td>0.321352</td>\n",
              "    </tr>\n",
              "    <tr>\n",
              "      <th>7</th>\n",
              "      <td>three</td>\n",
              "      <td>B</td>\n",
              "      <td>foo</td>\n",
              "      <td>-1.369094</td>\n",
              "      <td>-1.284662</td>\n",
              "    </tr>\n",
              "    <tr>\n",
              "      <th>8</th>\n",
              "      <td>one</td>\n",
              "      <td>C</td>\n",
              "      <td>foo</td>\n",
              "      <td>-1.847313</td>\n",
              "      <td>-0.195932</td>\n",
              "    </tr>\n",
              "    <tr>\n",
              "      <th>9</th>\n",
              "      <td>one</td>\n",
              "      <td>A</td>\n",
              "      <td>bar</td>\n",
              "      <td>-0.680460</td>\n",
              "      <td>0.792431</td>\n",
              "    </tr>\n",
              "    <tr>\n",
              "      <th>10</th>\n",
              "      <td>two</td>\n",
              "      <td>B</td>\n",
              "      <td>bar</td>\n",
              "      <td>0.999684</td>\n",
              "      <td>0.447036</td>\n",
              "    </tr>\n",
              "    <tr>\n",
              "      <th>11</th>\n",
              "      <td>three</td>\n",
              "      <td>C</td>\n",
              "      <td>bar</td>\n",
              "      <td>-1.033042</td>\n",
              "      <td>-0.517646</td>\n",
              "    </tr>\n",
              "  </tbody>\n",
              "</table>\n",
              "</div>"
            ],
            "text/plain": [
              "        A  B    C         D         E\n",
              "0     one  A  foo -0.144033  0.909405\n",
              "1     one  B  foo  1.580662  0.486504\n",
              "2     two  C  foo -0.232735 -0.685442\n",
              "3   three  A  bar -1.004942  1.014002\n",
              "4     one  B  bar  0.529911  0.479618\n",
              "5     one  C  bar  1.081725  0.840548\n",
              "6     two  A  foo -0.577026  0.321352\n",
              "7   three  B  foo -1.369094 -1.284662\n",
              "8     one  C  foo -1.847313 -0.195932\n",
              "9     one  A  bar -0.680460  0.792431\n",
              "10    two  B  bar  0.999684  0.447036\n",
              "11  three  C  bar -1.033042 -0.517646"
            ]
          },
          "metadata": {
            "tags": []
          },
          "execution_count": 114
        }
      ]
    },
    {
      "cell_type": "code",
      "metadata": {
        "id": "7nueusCwNMay",
        "colab_type": "code",
        "colab": {
          "base_uri": "https://localhost:8080/",
          "height": 343
        },
        "outputId": "091c5af4-5c70-4922-ed62-1177f9c94d54"
      },
      "source": [
        "pd.pivot_table(df,values='D',index=['A','B'],columns=['C'])"
      ],
      "execution_count": 115,
      "outputs": [
        {
          "output_type": "execute_result",
          "data": {
            "text/html": [
              "<div>\n",
              "<style scoped>\n",
              "    .dataframe tbody tr th:only-of-type {\n",
              "        vertical-align: middle;\n",
              "    }\n",
              "\n",
              "    .dataframe tbody tr th {\n",
              "        vertical-align: top;\n",
              "    }\n",
              "\n",
              "    .dataframe thead th {\n",
              "        text-align: right;\n",
              "    }\n",
              "</style>\n",
              "<table border=\"1\" class=\"dataframe\">\n",
              "  <thead>\n",
              "    <tr style=\"text-align: right;\">\n",
              "      <th></th>\n",
              "      <th>C</th>\n",
              "      <th>bar</th>\n",
              "      <th>foo</th>\n",
              "    </tr>\n",
              "    <tr>\n",
              "      <th>A</th>\n",
              "      <th>B</th>\n",
              "      <th></th>\n",
              "      <th></th>\n",
              "    </tr>\n",
              "  </thead>\n",
              "  <tbody>\n",
              "    <tr>\n",
              "      <th rowspan=\"3\" valign=\"top\">one</th>\n",
              "      <th>A</th>\n",
              "      <td>-0.680460</td>\n",
              "      <td>-0.144033</td>\n",
              "    </tr>\n",
              "    <tr>\n",
              "      <th>B</th>\n",
              "      <td>0.529911</td>\n",
              "      <td>1.580662</td>\n",
              "    </tr>\n",
              "    <tr>\n",
              "      <th>C</th>\n",
              "      <td>1.081725</td>\n",
              "      <td>-1.847313</td>\n",
              "    </tr>\n",
              "    <tr>\n",
              "      <th rowspan=\"3\" valign=\"top\">three</th>\n",
              "      <th>A</th>\n",
              "      <td>-1.004942</td>\n",
              "      <td>NaN</td>\n",
              "    </tr>\n",
              "    <tr>\n",
              "      <th>B</th>\n",
              "      <td>NaN</td>\n",
              "      <td>-1.369094</td>\n",
              "    </tr>\n",
              "    <tr>\n",
              "      <th>C</th>\n",
              "      <td>-1.033042</td>\n",
              "      <td>NaN</td>\n",
              "    </tr>\n",
              "    <tr>\n",
              "      <th rowspan=\"3\" valign=\"top\">two</th>\n",
              "      <th>A</th>\n",
              "      <td>NaN</td>\n",
              "      <td>-0.577026</td>\n",
              "    </tr>\n",
              "    <tr>\n",
              "      <th>B</th>\n",
              "      <td>0.999684</td>\n",
              "      <td>NaN</td>\n",
              "    </tr>\n",
              "    <tr>\n",
              "      <th>C</th>\n",
              "      <td>NaN</td>\n",
              "      <td>-0.232735</td>\n",
              "    </tr>\n",
              "  </tbody>\n",
              "</table>\n",
              "</div>"
            ],
            "text/plain": [
              "C             bar       foo\n",
              "A     B                    \n",
              "one   A -0.680460 -0.144033\n",
              "      B  0.529911  1.580662\n",
              "      C  1.081725 -1.847313\n",
              "three A -1.004942       NaN\n",
              "      B       NaN -1.369094\n",
              "      C -1.033042       NaN\n",
              "two   A       NaN -0.577026\n",
              "      B  0.999684       NaN\n",
              "      C       NaN -0.232735"
            ]
          },
          "metadata": {
            "tags": []
          },
          "execution_count": 115
        }
      ]
    },
    {
      "cell_type": "markdown",
      "metadata": {
        "id": "dBtCM4UaNmmZ",
        "colab_type": "text"
      },
      "source": [
        "# 타임 시리즈 형식\n",
        "* pd.data_range( )\n",
        "* freq ('S', 'Min', 'H', 'D', 'W', 'M', 'Y')"
      ]
    },
    {
      "cell_type": "code",
      "metadata": {
        "id": "2bxz4jHkNdso",
        "colab_type": "code",
        "colab": {
          "base_uri": "https://localhost:8080/",
          "height": 122
        },
        "outputId": "a4930b11-f8e2-4a39-eeb5-e4a12aa010c8"
      },
      "source": [
        "# 시간 주기\n",
        "time=pd.date_range('9/1/2020',periods=10,freq='S')\n",
        "time"
      ],
      "execution_count": 116,
      "outputs": [
        {
          "output_type": "execute_result",
          "data": {
            "text/plain": [
              "DatetimeIndex(['2020-09-01 00:00:00', '2020-09-01 00:00:01',\n",
              "               '2020-09-01 00:00:02', '2020-09-01 00:00:03',\n",
              "               '2020-09-01 00:00:04', '2020-09-01 00:00:05',\n",
              "               '2020-09-01 00:00:06', '2020-09-01 00:00:07',\n",
              "               '2020-09-01 00:00:08', '2020-09-01 00:00:09'],\n",
              "              dtype='datetime64[ns]', freq='S')"
            ]
          },
          "metadata": {
            "tags": []
          },
          "execution_count": 116
        }
      ]
    },
    {
      "cell_type": "code",
      "metadata": {
        "id": "VwUX2s0fN7Fb",
        "colab_type": "code",
        "colab": {
          "base_uri": "https://localhost:8080/",
          "height": 210
        },
        "outputId": "67b803ba-f6c7-4d8f-8fc1-37c39d5a2aef"
      },
      "source": [
        "# 시리즈 생성\n",
        "s=pd.Series(np.random.randint(0,500,len(time)),index=time)\n",
        "s"
      ],
      "execution_count": 117,
      "outputs": [
        {
          "output_type": "execute_result",
          "data": {
            "text/plain": [
              "2020-09-01 00:00:00    371\n",
              "2020-09-01 00:00:01    310\n",
              "2020-09-01 00:00:02    432\n",
              "2020-09-01 00:00:03    352\n",
              "2020-09-01 00:00:04     92\n",
              "2020-09-01 00:00:05    366\n",
              "2020-09-01 00:00:06    155\n",
              "2020-09-01 00:00:07    331\n",
              "2020-09-01 00:00:08     82\n",
              "2020-09-01 00:00:09    196\n",
              "Freq: S, dtype: int64"
            ]
          },
          "metadata": {
            "tags": []
          },
          "execution_count": 117
        }
      ]
    },
    {
      "cell_type": "code",
      "metadata": {
        "id": "UiMCnN-9OT9N",
        "colab_type": "code",
        "colab": {
          "base_uri": "https://localhost:8080/",
          "height": 70
        },
        "outputId": "c5904edb-48e6-4409-e4ce-918b4ea21500"
      },
      "source": [
        "# 데이터 셈플링\n",
        "s.resample('5S').mean()"
      ],
      "execution_count": 118,
      "outputs": [
        {
          "output_type": "execute_result",
          "data": {
            "text/plain": [
              "2020-09-01 00:00:00    311.4\n",
              "2020-09-01 00:00:05    226.0\n",
              "Freq: 5S, dtype: float64"
            ]
          },
          "metadata": {
            "tags": []
          },
          "execution_count": 118
        }
      ]
    },
    {
      "cell_type": "markdown",
      "metadata": {
        "id": "ZR_z8lBxSYA7",
        "colab_type": "text"
      },
      "source": [
        "한국 시간대로 적용\n",
        "* pd.tz_localize( )\n",
        "* 'Asia/Seoul'"
      ]
    },
    {
      "cell_type": "code",
      "metadata": {
        "id": "IYc7DQz6PIN5",
        "colab_type": "code",
        "colab": {
          "base_uri": "https://localhost:8080/",
          "height": 70
        },
        "outputId": "e198baab-b3d1-45af-e764-d3f2e63137af"
      },
      "source": [
        "# 날 주기\n",
        "time=pd.date_range('8/1/2020 00:00',periods=5,freq='D')\n",
        "time"
      ],
      "execution_count": 119,
      "outputs": [
        {
          "output_type": "execute_result",
          "data": {
            "text/plain": [
              "DatetimeIndex(['2020-08-01', '2020-08-02', '2020-08-03', '2020-08-04',\n",
              "               '2020-08-05'],\n",
              "              dtype='datetime64[ns]', freq='D')"
            ]
          },
          "metadata": {
            "tags": []
          },
          "execution_count": 119
        }
      ]
    },
    {
      "cell_type": "code",
      "metadata": {
        "id": "izp8uWJaRHC-",
        "colab_type": "code",
        "colab": {
          "base_uri": "https://localhost:8080/",
          "height": 122
        },
        "outputId": "cf732a6d-b19c-4c24-fa93-67e90ae17f22"
      },
      "source": [
        "# 시리즈 생성\n",
        "s=pd.Series(np.random.randn(len(time)),index=time)\n",
        "s"
      ],
      "execution_count": 120,
      "outputs": [
        {
          "output_type": "execute_result",
          "data": {
            "text/plain": [
              "2020-08-01   -1.174122\n",
              "2020-08-02    0.616241\n",
              "2020-08-03    0.360128\n",
              "2020-08-04    0.559557\n",
              "2020-08-05    2.246879\n",
              "Freq: D, dtype: float64"
            ]
          },
          "metadata": {
            "tags": []
          },
          "execution_count": 120
        }
      ]
    },
    {
      "cell_type": "code",
      "metadata": {
        "id": "tAHcmb1GRVT2",
        "colab_type": "code",
        "colab": {
          "base_uri": "https://localhost:8080/",
          "height": 122
        },
        "outputId": "9904996b-3eb7-4559-8f9e-8d0391992615"
      },
      "source": [
        "# 지역 시간\n",
        "s_kr=s.tz_localize('Asia/Seoul')\n",
        "s_kr"
      ],
      "execution_count": 121,
      "outputs": [
        {
          "output_type": "execute_result",
          "data": {
            "text/plain": [
              "2020-08-01 00:00:00+09:00   -1.174122\n",
              "2020-08-02 00:00:00+09:00    0.616241\n",
              "2020-08-03 00:00:00+09:00    0.360128\n",
              "2020-08-04 00:00:00+09:00    0.559557\n",
              "2020-08-05 00:00:00+09:00    2.246879\n",
              "Freq: D, dtype: float64"
            ]
          },
          "metadata": {
            "tags": []
          },
          "execution_count": 121
        }
      ]
    },
    {
      "cell_type": "markdown",
      "metadata": {
        "id": "4nYkgqq2SbTA",
        "colab_type": "text"
      },
      "source": [
        "* pd.to_period( )"
      ]
    },
    {
      "cell_type": "code",
      "metadata": {
        "id": "zQIKXFv4R-9W",
        "colab_type": "code",
        "colab": {
          "base_uri": "https://localhost:8080/",
          "height": 70
        },
        "outputId": "7de82bc9-eb98-44ff-96ff-84f69cd13b58"
      },
      "source": [
        "# 달 주기\n",
        "time=pd.date_range('9/1/2020',periods=5,freq='M')\n",
        "time"
      ],
      "execution_count": 122,
      "outputs": [
        {
          "output_type": "execute_result",
          "data": {
            "text/plain": [
              "DatetimeIndex(['2020-09-30', '2020-10-31', '2020-11-30', '2020-12-31',\n",
              "               '2021-01-31'],\n",
              "              dtype='datetime64[ns]', freq='M')"
            ]
          },
          "metadata": {
            "tags": []
          },
          "execution_count": 122
        }
      ]
    },
    {
      "cell_type": "code",
      "metadata": {
        "id": "7SWrdawkStWZ",
        "colab_type": "code",
        "colab": {
          "base_uri": "https://localhost:8080/",
          "height": 122
        },
        "outputId": "6f614c46-f03d-4387-f686-bd5230c95d29"
      },
      "source": [
        "# 시리즈 생성\n",
        "s=pd.Series(np.random.randn(len(time)),index=time)\n",
        "s"
      ],
      "execution_count": 123,
      "outputs": [
        {
          "output_type": "execute_result",
          "data": {
            "text/plain": [
              "2020-09-30    1.295970\n",
              "2020-10-31   -1.089597\n",
              "2020-11-30   -0.021757\n",
              "2020-12-31   -0.956342\n",
              "2021-01-31    2.068223\n",
              "Freq: M, dtype: float64"
            ]
          },
          "metadata": {
            "tags": []
          },
          "execution_count": 123
        }
      ]
    },
    {
      "cell_type": "code",
      "metadata": {
        "id": "497SRv9nS50p",
        "colab_type": "code",
        "colab": {
          "base_uri": "https://localhost:8080/",
          "height": 122
        },
        "outputId": "e93ff57a-0120-4799-fda0-c09c47597bbb"
      },
      "source": [
        "# 주기로 표기 변경\n",
        "s.to_period()"
      ],
      "execution_count": 124,
      "outputs": [
        {
          "output_type": "execute_result",
          "data": {
            "text/plain": [
              "2020-09    1.295970\n",
              "2020-10   -1.089597\n",
              "2020-11   -0.021757\n",
              "2020-12   -0.956342\n",
              "2021-01    2.068223\n",
              "Freq: M, dtype: float64"
            ]
          },
          "metadata": {
            "tags": []
          },
          "execution_count": 124
        }
      ]
    },
    {
      "cell_type": "markdown",
      "metadata": {
        "id": "zL0EVZ_NvVgl",
        "colab_type": "text"
      },
      "source": [
        "* pd.asfreq( )"
      ]
    },
    {
      "cell_type": "code",
      "metadata": {
        "id": "NyPFAQtZTTuC",
        "colab_type": "code",
        "colab": {
          "base_uri": "https://localhost:8080/",
          "height": 70
        },
        "outputId": "311b8e27-bd7b-4de2-94df-a6c7f89452c3"
      },
      "source": [
        "# 분기 주기\n",
        "time=pd.period_range(start='2020Q1',end='2021Q4',freq='Q-NOV')\n",
        "time"
      ],
      "execution_count": 125,
      "outputs": [
        {
          "output_type": "execute_result",
          "data": {
            "text/plain": [
              "PeriodIndex(['2020Q1', '2020Q2', '2020Q3', '2020Q4', '2021Q1', '2021Q2',\n",
              "             '2021Q3', '2021Q4'],\n",
              "            dtype='period[Q-NOV]', freq='Q-NOV')"
            ]
          },
          "metadata": {
            "tags": []
          },
          "execution_count": 125
        }
      ]
    },
    {
      "cell_type": "code",
      "metadata": {
        "id": "UuYjOhvpUIFa",
        "colab_type": "code",
        "colab": {
          "base_uri": "https://localhost:8080/",
          "height": 175
        },
        "outputId": "f5c6ee77-77a6-4ce4-a8d1-be8afbb2cddf"
      },
      "source": [
        "# 시리즈 생성\n",
        "s=pd.Series(np.random.randn(len(time)),index=time)\n",
        "s"
      ],
      "execution_count": 126,
      "outputs": [
        {
          "output_type": "execute_result",
          "data": {
            "text/plain": [
              "2020Q1    0.935549\n",
              "2020Q2    0.282952\n",
              "2020Q3    0.149091\n",
              "2020Q4    0.324455\n",
              "2021Q1   -1.458400\n",
              "2021Q2    0.937898\n",
              "2021Q3    0.605902\n",
              "2021Q4    0.143051\n",
              "Freq: Q-NOV, dtype: float64"
            ]
          },
          "metadata": {
            "tags": []
          },
          "execution_count": 126
        }
      ]
    },
    {
      "cell_type": "code",
      "metadata": {
        "id": "682Gjf09USvd",
        "colab_type": "code",
        "colab": {
          "base_uri": "https://localhost:8080/",
          "height": 175
        },
        "outputId": "23cee651-81be-43a4-b578-7243ea05d27b"
      },
      "source": [
        "# 일자 수정\n",
        "# 달의 마지막일 + 1, 시작시간 + 9\n",
        "s.index=(time.asfreq('M','e')+1).asfreq('H','s')+9\n",
        "s"
      ],
      "execution_count": 127,
      "outputs": [
        {
          "output_type": "execute_result",
          "data": {
            "text/plain": [
              "2020-03-01 09:00    0.935549\n",
              "2020-06-01 09:00    0.282952\n",
              "2020-09-01 09:00    0.149091\n",
              "2020-12-01 09:00    0.324455\n",
              "2021-03-01 09:00   -1.458400\n",
              "2021-06-01 09:00    0.937898\n",
              "2021-09-01 09:00    0.605902\n",
              "2021-12-01 09:00    0.143051\n",
              "Freq: H, dtype: float64"
            ]
          },
          "metadata": {
            "tags": []
          },
          "execution_count": 127
        }
      ]
    },
    {
      "cell_type": "markdown",
      "metadata": {
        "id": "FgjhEk6L40Ob",
        "colab_type": "text"
      },
      "source": [
        "* to_datetime( )"
      ]
    },
    {
      "cell_type": "code",
      "metadata": {
        "id": "eMqegNLM401s",
        "colab_type": "code",
        "colab": {
          "base_uri": "https://localhost:8080/",
          "height": 106
        },
        "outputId": "6ac5cb45-8cce-402a-8be7-418eb92ed3a0"
      },
      "source": [
        "df=pd.DataFrame({'Birth':['2020-09-23 06:10:00','2020-09-30 20:20:00']})\n",
        "df"
      ],
      "execution_count": 128,
      "outputs": [
        {
          "output_type": "execute_result",
          "data": {
            "text/html": [
              "<div>\n",
              "<style scoped>\n",
              "    .dataframe tbody tr th:only-of-type {\n",
              "        vertical-align: middle;\n",
              "    }\n",
              "\n",
              "    .dataframe tbody tr th {\n",
              "        vertical-align: top;\n",
              "    }\n",
              "\n",
              "    .dataframe thead th {\n",
              "        text-align: right;\n",
              "    }\n",
              "</style>\n",
              "<table border=\"1\" class=\"dataframe\">\n",
              "  <thead>\n",
              "    <tr style=\"text-align: right;\">\n",
              "      <th></th>\n",
              "      <th>Birth</th>\n",
              "    </tr>\n",
              "  </thead>\n",
              "  <tbody>\n",
              "    <tr>\n",
              "      <th>0</th>\n",
              "      <td>2020-09-23 06:10:00</td>\n",
              "    </tr>\n",
              "    <tr>\n",
              "      <th>1</th>\n",
              "      <td>2020-09-30 20:20:00</td>\n",
              "    </tr>\n",
              "  </tbody>\n",
              "</table>\n",
              "</div>"
            ],
            "text/plain": [
              "                 Birth\n",
              "0  2020-09-23 06:10:00\n",
              "1  2020-09-30 20:20:00"
            ]
          },
          "metadata": {
            "tags": []
          },
          "execution_count": 128
        }
      ]
    },
    {
      "cell_type": "code",
      "metadata": {
        "id": "HRPINEFd5h7g",
        "colab_type": "code",
        "colab": {
          "base_uri": "https://localhost:8080/",
          "height": 70
        },
        "outputId": "73a7069a-2874-4038-f282-6653195abd28"
      },
      "source": [
        "# 결과: 시리즈 타입\n",
        "pd.to_datetime(df['Birth'],format='%Y-%m-%d %H:%M:%S')"
      ],
      "execution_count": 129,
      "outputs": [
        {
          "output_type": "execute_result",
          "data": {
            "text/plain": [
              "0   2020-09-23 06:10:00\n",
              "1   2020-09-30 20:20:00\n",
              "Name: Birth, dtype: datetime64[ns]"
            ]
          },
          "metadata": {
            "tags": []
          },
          "execution_count": 129
        }
      ]
    },
    {
      "cell_type": "markdown",
      "metadata": {
        "id": "MS8WN20Q7Xtf",
        "colab_type": "text"
      },
      "source": [
        "날짜와 시간 입력\n",
        "* Timestamp( )\n",
        "* Timedelta( ) "
      ]
    },
    {
      "cell_type": "code",
      "metadata": {
        "id": "f_oy7l8z6bWf",
        "colab_type": "code",
        "colab": {
          "base_uri": "https://localhost:8080/",
          "height": 34
        },
        "outputId": "48a71bdf-58d6-4474-d54a-bb53f0fde37a"
      },
      "source": [
        "pd.Timestamp('2020-9-23')+pd.Timedelta('10:5:33')"
      ],
      "execution_count": 130,
      "outputs": [
        {
          "output_type": "execute_result",
          "data": {
            "text/plain": [
              "Timestamp('2020-09-23 10:05:33')"
            ]
          },
          "metadata": {
            "tags": []
          },
          "execution_count": 130
        }
      ]
    },
    {
      "cell_type": "markdown",
      "metadata": {
        "id": "xEGPGNKBVE5R",
        "colab_type": "text"
      },
      "source": [
        "# 카테고리 형식"
      ]
    },
    {
      "cell_type": "code",
      "metadata": {
        "id": "zKMQ_8gfUtr-",
        "colab_type": "code",
        "colab": {
          "base_uri": "https://localhost:8080/",
          "height": 225
        },
        "outputId": "21de51bd-7452-4a54-a6e2-0a0aeec0b567"
      },
      "source": [
        "df=pd.DataFrame({'id':[1,2,3,4,5,6],'raw_grade':['a','b','b','a','a','e']})\n",
        "df"
      ],
      "execution_count": 131,
      "outputs": [
        {
          "output_type": "execute_result",
          "data": {
            "text/html": [
              "<div>\n",
              "<style scoped>\n",
              "    .dataframe tbody tr th:only-of-type {\n",
              "        vertical-align: middle;\n",
              "    }\n",
              "\n",
              "    .dataframe tbody tr th {\n",
              "        vertical-align: top;\n",
              "    }\n",
              "\n",
              "    .dataframe thead th {\n",
              "        text-align: right;\n",
              "    }\n",
              "</style>\n",
              "<table border=\"1\" class=\"dataframe\">\n",
              "  <thead>\n",
              "    <tr style=\"text-align: right;\">\n",
              "      <th></th>\n",
              "      <th>id</th>\n",
              "      <th>raw_grade</th>\n",
              "    </tr>\n",
              "  </thead>\n",
              "  <tbody>\n",
              "    <tr>\n",
              "      <th>0</th>\n",
              "      <td>1</td>\n",
              "      <td>a</td>\n",
              "    </tr>\n",
              "    <tr>\n",
              "      <th>1</th>\n",
              "      <td>2</td>\n",
              "      <td>b</td>\n",
              "    </tr>\n",
              "    <tr>\n",
              "      <th>2</th>\n",
              "      <td>3</td>\n",
              "      <td>b</td>\n",
              "    </tr>\n",
              "    <tr>\n",
              "      <th>3</th>\n",
              "      <td>4</td>\n",
              "      <td>a</td>\n",
              "    </tr>\n",
              "    <tr>\n",
              "      <th>4</th>\n",
              "      <td>5</td>\n",
              "      <td>a</td>\n",
              "    </tr>\n",
              "    <tr>\n",
              "      <th>5</th>\n",
              "      <td>6</td>\n",
              "      <td>e</td>\n",
              "    </tr>\n",
              "  </tbody>\n",
              "</table>\n",
              "</div>"
            ],
            "text/plain": [
              "   id raw_grade\n",
              "0   1         a\n",
              "1   2         b\n",
              "2   3         b\n",
              "3   4         a\n",
              "4   5         a\n",
              "5   6         e"
            ]
          },
          "metadata": {
            "tags": []
          },
          "execution_count": 131
        }
      ]
    },
    {
      "cell_type": "code",
      "metadata": {
        "id": "DBNC9M7nVf83",
        "colab_type": "code",
        "colab": {
          "base_uri": "https://localhost:8080/",
          "height": 225
        },
        "outputId": "7653282b-ce8d-47fe-8ed4-8aea34c19b8b"
      },
      "source": [
        "# 카테고리 형식 생성\n",
        "df['grade']=df['raw_grade'].astype('category')\n",
        "df"
      ],
      "execution_count": 132,
      "outputs": [
        {
          "output_type": "execute_result",
          "data": {
            "text/html": [
              "<div>\n",
              "<style scoped>\n",
              "    .dataframe tbody tr th:only-of-type {\n",
              "        vertical-align: middle;\n",
              "    }\n",
              "\n",
              "    .dataframe tbody tr th {\n",
              "        vertical-align: top;\n",
              "    }\n",
              "\n",
              "    .dataframe thead th {\n",
              "        text-align: right;\n",
              "    }\n",
              "</style>\n",
              "<table border=\"1\" class=\"dataframe\">\n",
              "  <thead>\n",
              "    <tr style=\"text-align: right;\">\n",
              "      <th></th>\n",
              "      <th>id</th>\n",
              "      <th>raw_grade</th>\n",
              "      <th>grade</th>\n",
              "    </tr>\n",
              "  </thead>\n",
              "  <tbody>\n",
              "    <tr>\n",
              "      <th>0</th>\n",
              "      <td>1</td>\n",
              "      <td>a</td>\n",
              "      <td>a</td>\n",
              "    </tr>\n",
              "    <tr>\n",
              "      <th>1</th>\n",
              "      <td>2</td>\n",
              "      <td>b</td>\n",
              "      <td>b</td>\n",
              "    </tr>\n",
              "    <tr>\n",
              "      <th>2</th>\n",
              "      <td>3</td>\n",
              "      <td>b</td>\n",
              "      <td>b</td>\n",
              "    </tr>\n",
              "    <tr>\n",
              "      <th>3</th>\n",
              "      <td>4</td>\n",
              "      <td>a</td>\n",
              "      <td>a</td>\n",
              "    </tr>\n",
              "    <tr>\n",
              "      <th>4</th>\n",
              "      <td>5</td>\n",
              "      <td>a</td>\n",
              "      <td>a</td>\n",
              "    </tr>\n",
              "    <tr>\n",
              "      <th>5</th>\n",
              "      <td>6</td>\n",
              "      <td>e</td>\n",
              "      <td>e</td>\n",
              "    </tr>\n",
              "  </tbody>\n",
              "</table>\n",
              "</div>"
            ],
            "text/plain": [
              "   id raw_grade grade\n",
              "0   1         a     a\n",
              "1   2         b     b\n",
              "2   3         b     b\n",
              "3   4         a     a\n",
              "4   5         a     a\n",
              "5   6         e     e"
            ]
          },
          "metadata": {
            "tags": []
          },
          "execution_count": 132
        }
      ]
    },
    {
      "cell_type": "code",
      "metadata": {
        "id": "5a2_V1BHVukh",
        "colab_type": "code",
        "colab": {
          "base_uri": "https://localhost:8080/",
          "height": 225
        },
        "outputId": "291877a4-524c-4eef-ef03-3b0dab676212"
      },
      "source": [
        "# 카테고리 내용 변경\n",
        "df['grade'].cat.categories=['very good','good','very bad']\n",
        "df"
      ],
      "execution_count": 133,
      "outputs": [
        {
          "output_type": "execute_result",
          "data": {
            "text/html": [
              "<div>\n",
              "<style scoped>\n",
              "    .dataframe tbody tr th:only-of-type {\n",
              "        vertical-align: middle;\n",
              "    }\n",
              "\n",
              "    .dataframe tbody tr th {\n",
              "        vertical-align: top;\n",
              "    }\n",
              "\n",
              "    .dataframe thead th {\n",
              "        text-align: right;\n",
              "    }\n",
              "</style>\n",
              "<table border=\"1\" class=\"dataframe\">\n",
              "  <thead>\n",
              "    <tr style=\"text-align: right;\">\n",
              "      <th></th>\n",
              "      <th>id</th>\n",
              "      <th>raw_grade</th>\n",
              "      <th>grade</th>\n",
              "    </tr>\n",
              "  </thead>\n",
              "  <tbody>\n",
              "    <tr>\n",
              "      <th>0</th>\n",
              "      <td>1</td>\n",
              "      <td>a</td>\n",
              "      <td>very good</td>\n",
              "    </tr>\n",
              "    <tr>\n",
              "      <th>1</th>\n",
              "      <td>2</td>\n",
              "      <td>b</td>\n",
              "      <td>good</td>\n",
              "    </tr>\n",
              "    <tr>\n",
              "      <th>2</th>\n",
              "      <td>3</td>\n",
              "      <td>b</td>\n",
              "      <td>good</td>\n",
              "    </tr>\n",
              "    <tr>\n",
              "      <th>3</th>\n",
              "      <td>4</td>\n",
              "      <td>a</td>\n",
              "      <td>very good</td>\n",
              "    </tr>\n",
              "    <tr>\n",
              "      <th>4</th>\n",
              "      <td>5</td>\n",
              "      <td>a</td>\n",
              "      <td>very good</td>\n",
              "    </tr>\n",
              "    <tr>\n",
              "      <th>5</th>\n",
              "      <td>6</td>\n",
              "      <td>e</td>\n",
              "      <td>very bad</td>\n",
              "    </tr>\n",
              "  </tbody>\n",
              "</table>\n",
              "</div>"
            ],
            "text/plain": [
              "   id raw_grade      grade\n",
              "0   1         a  very good\n",
              "1   2         b       good\n",
              "2   3         b       good\n",
              "3   4         a  very good\n",
              "4   5         a  very good\n",
              "5   6         e   very bad"
            ]
          },
          "metadata": {
            "tags": []
          },
          "execution_count": 133
        }
      ]
    },
    {
      "cell_type": "code",
      "metadata": {
        "id": "IXNtZXAgVsRB",
        "colab_type": "code",
        "colab": {
          "base_uri": "https://localhost:8080/",
          "height": 158
        },
        "outputId": "dc79d745-011e-492f-bd12-7121e7633239"
      },
      "source": [
        "df['grade']"
      ],
      "execution_count": 134,
      "outputs": [
        {
          "output_type": "execute_result",
          "data": {
            "text/plain": [
              "0    very good\n",
              "1         good\n",
              "2         good\n",
              "3    very good\n",
              "4    very good\n",
              "5     very bad\n",
              "Name: grade, dtype: category\n",
              "Categories (3, object): [very good, good, very bad]"
            ]
          },
          "metadata": {
            "tags": []
          },
          "execution_count": 134
        }
      ]
    },
    {
      "cell_type": "code",
      "metadata": {
        "id": "1iLSrGAmWHI5",
        "colab_type": "code",
        "colab": {
          "base_uri": "https://localhost:8080/",
          "height": 225
        },
        "outputId": "ceb7babb-25cd-4e5a-b644-d09297aede67"
      },
      "source": [
        "# 카테고리 내용 변경\n",
        "df[\"grade\"] = df[\"grade\"].cat.set_categories([\"very bad\", \"bad\", \"medium\", \"good\", \"very good\"])\n",
        "df"
      ],
      "execution_count": 135,
      "outputs": [
        {
          "output_type": "execute_result",
          "data": {
            "text/html": [
              "<div>\n",
              "<style scoped>\n",
              "    .dataframe tbody tr th:only-of-type {\n",
              "        vertical-align: middle;\n",
              "    }\n",
              "\n",
              "    .dataframe tbody tr th {\n",
              "        vertical-align: top;\n",
              "    }\n",
              "\n",
              "    .dataframe thead th {\n",
              "        text-align: right;\n",
              "    }\n",
              "</style>\n",
              "<table border=\"1\" class=\"dataframe\">\n",
              "  <thead>\n",
              "    <tr style=\"text-align: right;\">\n",
              "      <th></th>\n",
              "      <th>id</th>\n",
              "      <th>raw_grade</th>\n",
              "      <th>grade</th>\n",
              "    </tr>\n",
              "  </thead>\n",
              "  <tbody>\n",
              "    <tr>\n",
              "      <th>0</th>\n",
              "      <td>1</td>\n",
              "      <td>a</td>\n",
              "      <td>very good</td>\n",
              "    </tr>\n",
              "    <tr>\n",
              "      <th>1</th>\n",
              "      <td>2</td>\n",
              "      <td>b</td>\n",
              "      <td>good</td>\n",
              "    </tr>\n",
              "    <tr>\n",
              "      <th>2</th>\n",
              "      <td>3</td>\n",
              "      <td>b</td>\n",
              "      <td>good</td>\n",
              "    </tr>\n",
              "    <tr>\n",
              "      <th>3</th>\n",
              "      <td>4</td>\n",
              "      <td>a</td>\n",
              "      <td>very good</td>\n",
              "    </tr>\n",
              "    <tr>\n",
              "      <th>4</th>\n",
              "      <td>5</td>\n",
              "      <td>a</td>\n",
              "      <td>very good</td>\n",
              "    </tr>\n",
              "    <tr>\n",
              "      <th>5</th>\n",
              "      <td>6</td>\n",
              "      <td>e</td>\n",
              "      <td>very bad</td>\n",
              "    </tr>\n",
              "  </tbody>\n",
              "</table>\n",
              "</div>"
            ],
            "text/plain": [
              "   id raw_grade      grade\n",
              "0   1         a  very good\n",
              "1   2         b       good\n",
              "2   3         b       good\n",
              "3   4         a  very good\n",
              "4   5         a  very good\n",
              "5   6         e   very bad"
            ]
          },
          "metadata": {
            "tags": []
          },
          "execution_count": 135
        }
      ]
    },
    {
      "cell_type": "code",
      "metadata": {
        "id": "4CbDiO0NWXEB",
        "colab_type": "code",
        "colab": {
          "base_uri": "https://localhost:8080/",
          "height": 158
        },
        "outputId": "c55f02df-a046-456b-ca5f-0a54e4358f02"
      },
      "source": [
        "df['grade']"
      ],
      "execution_count": 136,
      "outputs": [
        {
          "output_type": "execute_result",
          "data": {
            "text/plain": [
              "0    very good\n",
              "1         good\n",
              "2         good\n",
              "3    very good\n",
              "4    very good\n",
              "5     very bad\n",
              "Name: grade, dtype: category\n",
              "Categories (5, object): [very bad, bad, medium, good, very good]"
            ]
          },
          "metadata": {
            "tags": []
          },
          "execution_count": 136
        }
      ]
    },
    {
      "cell_type": "code",
      "metadata": {
        "id": "_Olf14Z1WaSj",
        "colab_type": "code",
        "colab": {
          "base_uri": "https://localhost:8080/",
          "height": 225
        },
        "outputId": "974045fe-2b66-488e-9ce7-4a317e7415b8"
      },
      "source": [
        "# 카테고리형 데이터의 정렬\n",
        "# 내림차순, ascending=False\n",
        "df.sort_values(by='grade',ascending=False)"
      ],
      "execution_count": 137,
      "outputs": [
        {
          "output_type": "execute_result",
          "data": {
            "text/html": [
              "<div>\n",
              "<style scoped>\n",
              "    .dataframe tbody tr th:only-of-type {\n",
              "        vertical-align: middle;\n",
              "    }\n",
              "\n",
              "    .dataframe tbody tr th {\n",
              "        vertical-align: top;\n",
              "    }\n",
              "\n",
              "    .dataframe thead th {\n",
              "        text-align: right;\n",
              "    }\n",
              "</style>\n",
              "<table border=\"1\" class=\"dataframe\">\n",
              "  <thead>\n",
              "    <tr style=\"text-align: right;\">\n",
              "      <th></th>\n",
              "      <th>id</th>\n",
              "      <th>raw_grade</th>\n",
              "      <th>grade</th>\n",
              "    </tr>\n",
              "  </thead>\n",
              "  <tbody>\n",
              "    <tr>\n",
              "      <th>0</th>\n",
              "      <td>1</td>\n",
              "      <td>a</td>\n",
              "      <td>very good</td>\n",
              "    </tr>\n",
              "    <tr>\n",
              "      <th>3</th>\n",
              "      <td>4</td>\n",
              "      <td>a</td>\n",
              "      <td>very good</td>\n",
              "    </tr>\n",
              "    <tr>\n",
              "      <th>4</th>\n",
              "      <td>5</td>\n",
              "      <td>a</td>\n",
              "      <td>very good</td>\n",
              "    </tr>\n",
              "    <tr>\n",
              "      <th>1</th>\n",
              "      <td>2</td>\n",
              "      <td>b</td>\n",
              "      <td>good</td>\n",
              "    </tr>\n",
              "    <tr>\n",
              "      <th>2</th>\n",
              "      <td>3</td>\n",
              "      <td>b</td>\n",
              "      <td>good</td>\n",
              "    </tr>\n",
              "    <tr>\n",
              "      <th>5</th>\n",
              "      <td>6</td>\n",
              "      <td>e</td>\n",
              "      <td>very bad</td>\n",
              "    </tr>\n",
              "  </tbody>\n",
              "</table>\n",
              "</div>"
            ],
            "text/plain": [
              "   id raw_grade      grade\n",
              "0   1         a  very good\n",
              "3   4         a  very good\n",
              "4   5         a  very good\n",
              "1   2         b       good\n",
              "2   3         b       good\n",
              "5   6         e   very bad"
            ]
          },
          "metadata": {
            "tags": []
          },
          "execution_count": 137
        }
      ]
    },
    {
      "cell_type": "code",
      "metadata": {
        "id": "NXbTI3_OXBbQ",
        "colab_type": "code",
        "colab": {
          "base_uri": "https://localhost:8080/",
          "height": 140
        },
        "outputId": "3cd4e65a-cae6-4bf0-c4a7-2b75ca56fa39"
      },
      "source": [
        "# 그룹화(개수)\n",
        "df.groupby('grade').size()"
      ],
      "execution_count": 138,
      "outputs": [
        {
          "output_type": "execute_result",
          "data": {
            "text/plain": [
              "grade\n",
              "very bad     1\n",
              "bad          0\n",
              "medium       0\n",
              "good         2\n",
              "very good    3\n",
              "dtype: int64"
            ]
          },
          "metadata": {
            "tags": []
          },
          "execution_count": 138
        }
      ]
    },
    {
      "cell_type": "markdown",
      "metadata": {
        "id": "DPg6lzNVXSJ1",
        "colab_type": "text"
      },
      "source": [
        "# 데이터 시각화\n",
        "* 시리즈 데이터 시각화"
      ]
    },
    {
      "cell_type": "code",
      "metadata": {
        "id": "UcFlFTldXOor",
        "colab_type": "code",
        "colab": {
          "base_uri": "https://localhost:8080/",
          "height": 228
        },
        "outputId": "e89f8ecb-3d77-4269-b70a-795d9f84e272"
      },
      "source": [
        "s=pd.Series(np.random.randn(1000),index=pd.date_range('8/1/2020',periods=1000))\n",
        "s"
      ],
      "execution_count": 139,
      "outputs": [
        {
          "output_type": "execute_result",
          "data": {
            "text/plain": [
              "2020-08-01    0.496127\n",
              "2020-08-02   -0.048541\n",
              "2020-08-03   -2.205240\n",
              "2020-08-04    1.364746\n",
              "2020-08-05   -0.408171\n",
              "                ...   \n",
              "2023-04-23    0.018622\n",
              "2023-04-24    0.073029\n",
              "2023-04-25   -1.023732\n",
              "2023-04-26    0.105532\n",
              "2023-04-27    0.589780\n",
              "Freq: D, Length: 1000, dtype: float64"
            ]
          },
          "metadata": {
            "tags": []
          },
          "execution_count": 139
        }
      ]
    },
    {
      "cell_type": "code",
      "metadata": {
        "id": "cP2_MZAkXo5r",
        "colab_type": "code",
        "colab": {
          "base_uri": "https://localhost:8080/",
          "height": 277
        },
        "outputId": "62076f83-add5-4458-d3c4-a39c8aa93557"
      },
      "source": [
        "# 시리즈 데이터 그래프\n",
        "# 누적합 s.cumsum()\n",
        "s.cumsum().plot()\n",
        "plt.show()"
      ],
      "execution_count": 140,
      "outputs": [
        {
          "output_type": "display_data",
          "data": {
            "image/png": "[encoded data removed]",
            "text/plain": [
              "<Figure size 432x288 with 1 Axes>"
            ]
          },
          "metadata": {
            "tags": [],
            "needs_background": "light"
          }
        }
      ]
    },
    {
      "cell_type": "markdown",
      "metadata": {
        "id": "BOUYgyx41VRb",
        "colab_type": "text"
      },
      "source": [
        "* 데이터프레임 시각화"
      ]
    },
    {
      "cell_type": "code",
      "metadata": {
        "id": "w9MInVMzXsjN",
        "colab_type": "code",
        "colab": {
          "base_uri": "https://localhost:8080/",
          "height": 195
        },
        "outputId": "4e612ce0-7a3c-4d80-d2c3-64a0cb4682ef"
      },
      "source": [
        "df=pd.DataFrame(np.random.randn(len(s),4),index=s.index,columns=['A','B','C','D'])\n",
        "df.head()"
      ],
      "execution_count": 141,
      "outputs": [
        {
          "output_type": "execute_result",
          "data": {
            "text/html": [
              "<div>\n",
              "<style scoped>\n",
              "    .dataframe tbody tr th:only-of-type {\n",
              "        vertical-align: middle;\n",
              "    }\n",
              "\n",
              "    .dataframe tbody tr th {\n",
              "        vertical-align: top;\n",
              "    }\n",
              "\n",
              "    .dataframe thead th {\n",
              "        text-align: right;\n",
              "    }\n",
              "</style>\n",
              "<table border=\"1\" class=\"dataframe\">\n",
              "  <thead>\n",
              "    <tr style=\"text-align: right;\">\n",
              "      <th></th>\n",
              "      <th>A</th>\n",
              "      <th>B</th>\n",
              "      <th>C</th>\n",
              "      <th>D</th>\n",
              "    </tr>\n",
              "  </thead>\n",
              "  <tbody>\n",
              "    <tr>\n",
              "      <th>2020-08-01</th>\n",
              "      <td>0.161823</td>\n",
              "      <td>0.202350</td>\n",
              "      <td>0.869029</td>\n",
              "      <td>0.023853</td>\n",
              "    </tr>\n",
              "    <tr>\n",
              "      <th>2020-08-02</th>\n",
              "      <td>-0.530997</td>\n",
              "      <td>-1.078695</td>\n",
              "      <td>-0.509892</td>\n",
              "      <td>0.128454</td>\n",
              "    </tr>\n",
              "    <tr>\n",
              "      <th>2020-08-03</th>\n",
              "      <td>0.910434</td>\n",
              "      <td>-1.724270</td>\n",
              "      <td>0.280715</td>\n",
              "      <td>-1.361044</td>\n",
              "    </tr>\n",
              "    <tr>\n",
              "      <th>2020-08-04</th>\n",
              "      <td>0.625045</td>\n",
              "      <td>-1.120087</td>\n",
              "      <td>-0.019246</td>\n",
              "      <td>0.414563</td>\n",
              "    </tr>\n",
              "    <tr>\n",
              "      <th>2020-08-05</th>\n",
              "      <td>-0.112403</td>\n",
              "      <td>0.176056</td>\n",
              "      <td>0.871531</td>\n",
              "      <td>-0.761009</td>\n",
              "    </tr>\n",
              "  </tbody>\n",
              "</table>\n",
              "</div>"
            ],
            "text/plain": [
              "                   A         B         C         D\n",
              "2020-08-01  0.161823  0.202350  0.869029  0.023853\n",
              "2020-08-02 -0.530997 -1.078695 -0.509892  0.128454\n",
              "2020-08-03  0.910434 -1.724270  0.280715 -1.361044\n",
              "2020-08-04  0.625045 -1.120087 -0.019246  0.414563\n",
              "2020-08-05 -0.112403  0.176056  0.871531 -0.761009"
            ]
          },
          "metadata": {
            "tags": []
          },
          "execution_count": 141
        }
      ]
    },
    {
      "cell_type": "code",
      "metadata": {
        "id": "-7qprVxKYUUf",
        "colab_type": "code",
        "colab": {
          "base_uri": "https://localhost:8080/",
          "height": 277
        },
        "outputId": "22dda465-a6a8-46ee-e6a1-80b74c49786d"
      },
      "source": [
        "# 데이터프레임 그래프\n",
        "# 누적합 df.cumsum()\n",
        "\n",
        "df.cumsum().plot()\n",
        "plt.legend()\n",
        "plt.show()"
      ],
      "execution_count": 142,
      "outputs": [
        {
          "output_type": "display_data",
          "data": {
            "image/png": "[encoded data removed]",
            "text/plain": [
              "<Figure size 432x288 with 1 Axes>"
            ]
          },
          "metadata": {
            "tags": [],
            "needs_background": "light"
          }
        }
      ]
    },
    {
      "cell_type": "markdown",
      "metadata": {
        "id": "UBH54ENZYyKH",
        "colab_type": "text"
      },
      "source": [
        "#데이터 입출력\n",
        "* pd.to_csv( )\n",
        "* pd.read_csv( )"
      ]
    },
    {
      "cell_type": "code",
      "metadata": {
        "id": "zL-2Z3JWYb6S",
        "colab_type": "code",
        "colab": {}
      },
      "source": [
        "# 파일 저장\n",
        "df.to_csv('foo.csv')"
      ],
      "execution_count": 143,
      "outputs": []
    },
    {
      "cell_type": "code",
      "metadata": {
        "id": "dnJLLA47Y5sk",
        "colab_type": "code",
        "colab": {
          "base_uri": "https://localhost:8080/",
          "height": 402
        },
        "outputId": "ddc21ae9-3d42-46a7-9249-da7fd94e1d6a"
      },
      "source": [
        "# 파일 불러오기\n",
        "# 첫 번째 column을 index로 변경, index_col=0\n",
        "pd.read_csv('foo.csv',index_col=0)"
      ],
      "execution_count": 144,
      "outputs": [
        {
          "output_type": "execute_result",
          "data": {
            "text/html": [
              "<div>\n",
              "<style scoped>\n",
              "    .dataframe tbody tr th:only-of-type {\n",
              "        vertical-align: middle;\n",
              "    }\n",
              "\n",
              "    .dataframe tbody tr th {\n",
              "        vertical-align: top;\n",
              "    }\n",
              "\n",
              "    .dataframe thead th {\n",
              "        text-align: right;\n",
              "    }\n",
              "</style>\n",
              "<table border=\"1\" class=\"dataframe\">\n",
              "  <thead>\n",
              "    <tr style=\"text-align: right;\">\n",
              "      <th></th>\n",
              "      <th>A</th>\n",
              "      <th>B</th>\n",
              "      <th>C</th>\n",
              "      <th>D</th>\n",
              "    </tr>\n",
              "  </thead>\n",
              "  <tbody>\n",
              "    <tr>\n",
              "      <th>2020-08-01</th>\n",
              "      <td>0.161823</td>\n",
              "      <td>0.202350</td>\n",
              "      <td>0.869029</td>\n",
              "      <td>0.023853</td>\n",
              "    </tr>\n",
              "    <tr>\n",
              "      <th>2020-08-02</th>\n",
              "      <td>-0.530997</td>\n",
              "      <td>-1.078695</td>\n",
              "      <td>-0.509892</td>\n",
              "      <td>0.128454</td>\n",
              "    </tr>\n",
              "    <tr>\n",
              "      <th>2020-08-03</th>\n",
              "      <td>0.910434</td>\n",
              "      <td>-1.724270</td>\n",
              "      <td>0.280715</td>\n",
              "      <td>-1.361044</td>\n",
              "    </tr>\n",
              "    <tr>\n",
              "      <th>2020-08-04</th>\n",
              "      <td>0.625045</td>\n",
              "      <td>-1.120087</td>\n",
              "      <td>-0.019246</td>\n",
              "      <td>0.414563</td>\n",
              "    </tr>\n",
              "    <tr>\n",
              "      <th>2020-08-05</th>\n",
              "      <td>-0.112403</td>\n",
              "      <td>0.176056</td>\n",
              "      <td>0.871531</td>\n",
              "      <td>-0.761009</td>\n",
              "    </tr>\n",
              "    <tr>\n",
              "      <th>...</th>\n",
              "      <td>...</td>\n",
              "      <td>...</td>\n",
              "      <td>...</td>\n",
              "      <td>...</td>\n",
              "    </tr>\n",
              "    <tr>\n",
              "      <th>2023-04-23</th>\n",
              "      <td>0.621552</td>\n",
              "      <td>-0.145539</td>\n",
              "      <td>0.672745</td>\n",
              "      <td>-1.432953</td>\n",
              "    </tr>\n",
              "    <tr>\n",
              "      <th>2023-04-24</th>\n",
              "      <td>0.349659</td>\n",
              "      <td>0.289848</td>\n",
              "      <td>-0.199275</td>\n",
              "      <td>0.965667</td>\n",
              "    </tr>\n",
              "    <tr>\n",
              "      <th>2023-04-25</th>\n",
              "      <td>0.658106</td>\n",
              "      <td>-0.240967</td>\n",
              "      <td>-0.205929</td>\n",
              "      <td>-1.061251</td>\n",
              "    </tr>\n",
              "    <tr>\n",
              "      <th>2023-04-26</th>\n",
              "      <td>1.790105</td>\n",
              "      <td>0.735726</td>\n",
              "      <td>0.875187</td>\n",
              "      <td>0.392748</td>\n",
              "    </tr>\n",
              "    <tr>\n",
              "      <th>2023-04-27</th>\n",
              "      <td>0.490291</td>\n",
              "      <td>-0.492753</td>\n",
              "      <td>-0.144989</td>\n",
              "      <td>-0.239946</td>\n",
              "    </tr>\n",
              "  </tbody>\n",
              "</table>\n",
              "<p>1000 rows × 4 columns</p>\n",
              "</div>"
            ],
            "text/plain": [
              "                   A         B         C         D\n",
              "2020-08-01  0.161823  0.202350  0.869029  0.023853\n",
              "2020-08-02 -0.530997 -1.078695 -0.509892  0.128454\n",
              "2020-08-03  0.910434 -1.724270  0.280715 -1.361044\n",
              "2020-08-04  0.625045 -1.120087 -0.019246  0.414563\n",
              "2020-08-05 -0.112403  0.176056  0.871531 -0.761009\n",
              "...              ...       ...       ...       ...\n",
              "2023-04-23  0.621552 -0.145539  0.672745 -1.432953\n",
              "2023-04-24  0.349659  0.289848 -0.199275  0.965667\n",
              "2023-04-25  0.658106 -0.240967 -0.205929 -1.061251\n",
              "2023-04-26  1.790105  0.735726  0.875187  0.392748\n",
              "2023-04-27  0.490291 -0.492753 -0.144989 -0.239946\n",
              "\n",
              "[1000 rows x 4 columns]"
            ]
          },
          "metadata": {
            "tags": []
          },
          "execution_count": 144
        }
      ]
    },
    {
      "cell_type": "markdown",
      "metadata": {
        "id": "2-TD4KYM5p3l",
        "colab_type": "text"
      },
      "source": [
        "* pd.to_hdf( )\n",
        "* pd.read_hdf( )"
      ]
    },
    {
      "cell_type": "code",
      "metadata": {
        "id": "qNe4G7KeZSzO",
        "colab_type": "code",
        "colab": {}
      },
      "source": [
        "# 파일 저장\n",
        "df.to_hdf('foo.h5','df')"
      ],
      "execution_count": 145,
      "outputs": []
    },
    {
      "cell_type": "code",
      "metadata": {
        "id": "l854j5ELZczR",
        "colab_type": "code",
        "colab": {
          "base_uri": "https://localhost:8080/",
          "height": 402
        },
        "outputId": "dc75400e-8db5-4bd6-f266-5e7862a49b92"
      },
      "source": [
        "# 파일 불러오기\n",
        "pd.read_hdf('foo.h5','df')"
      ],
      "execution_count": 146,
      "outputs": [
        {
          "output_type": "execute_result",
          "data": {
            "text/html": [
              "<div>\n",
              "<style scoped>\n",
              "    .dataframe tbody tr th:only-of-type {\n",
              "        vertical-align: middle;\n",
              "    }\n",
              "\n",
              "    .dataframe tbody tr th {\n",
              "        vertical-align: top;\n",
              "    }\n",
              "\n",
              "    .dataframe thead th {\n",
              "        text-align: right;\n",
              "    }\n",
              "</style>\n",
              "<table border=\"1\" class=\"dataframe\">\n",
              "  <thead>\n",
              "    <tr style=\"text-align: right;\">\n",
              "      <th></th>\n",
              "      <th>A</th>\n",
              "      <th>B</th>\n",
              "      <th>C</th>\n",
              "      <th>D</th>\n",
              "    </tr>\n",
              "  </thead>\n",
              "  <tbody>\n",
              "    <tr>\n",
              "      <th>2020-08-01</th>\n",
              "      <td>0.161823</td>\n",
              "      <td>0.202350</td>\n",
              "      <td>0.869029</td>\n",
              "      <td>0.023853</td>\n",
              "    </tr>\n",
              "    <tr>\n",
              "      <th>2020-08-02</th>\n",
              "      <td>-0.530997</td>\n",
              "      <td>-1.078695</td>\n",
              "      <td>-0.509892</td>\n",
              "      <td>0.128454</td>\n",
              "    </tr>\n",
              "    <tr>\n",
              "      <th>2020-08-03</th>\n",
              "      <td>0.910434</td>\n",
              "      <td>-1.724270</td>\n",
              "      <td>0.280715</td>\n",
              "      <td>-1.361044</td>\n",
              "    </tr>\n",
              "    <tr>\n",
              "      <th>2020-08-04</th>\n",
              "      <td>0.625045</td>\n",
              "      <td>-1.120087</td>\n",
              "      <td>-0.019246</td>\n",
              "      <td>0.414563</td>\n",
              "    </tr>\n",
              "    <tr>\n",
              "      <th>2020-08-05</th>\n",
              "      <td>-0.112403</td>\n",
              "      <td>0.176056</td>\n",
              "      <td>0.871531</td>\n",
              "      <td>-0.761009</td>\n",
              "    </tr>\n",
              "    <tr>\n",
              "      <th>...</th>\n",
              "      <td>...</td>\n",
              "      <td>...</td>\n",
              "      <td>...</td>\n",
              "      <td>...</td>\n",
              "    </tr>\n",
              "    <tr>\n",
              "      <th>2023-04-23</th>\n",
              "      <td>0.621552</td>\n",
              "      <td>-0.145539</td>\n",
              "      <td>0.672745</td>\n",
              "      <td>-1.432953</td>\n",
              "    </tr>\n",
              "    <tr>\n",
              "      <th>2023-04-24</th>\n",
              "      <td>0.349659</td>\n",
              "      <td>0.289848</td>\n",
              "      <td>-0.199275</td>\n",
              "      <td>0.965667</td>\n",
              "    </tr>\n",
              "    <tr>\n",
              "      <th>2023-04-25</th>\n",
              "      <td>0.658106</td>\n",
              "      <td>-0.240967</td>\n",
              "      <td>-0.205929</td>\n",
              "      <td>-1.061251</td>\n",
              "    </tr>\n",
              "    <tr>\n",
              "      <th>2023-04-26</th>\n",
              "      <td>1.790105</td>\n",
              "      <td>0.735726</td>\n",
              "      <td>0.875187</td>\n",
              "      <td>0.392748</td>\n",
              "    </tr>\n",
              "    <tr>\n",
              "      <th>2023-04-27</th>\n",
              "      <td>0.490291</td>\n",
              "      <td>-0.492753</td>\n",
              "      <td>-0.144989</td>\n",
              "      <td>-0.239946</td>\n",
              "    </tr>\n",
              "  </tbody>\n",
              "</table>\n",
              "<p>1000 rows × 4 columns</p>\n",
              "</div>"
            ],
            "text/plain": [
              "                   A         B         C         D\n",
              "2020-08-01  0.161823  0.202350  0.869029  0.023853\n",
              "2020-08-02 -0.530997 -1.078695 -0.509892  0.128454\n",
              "2020-08-03  0.910434 -1.724270  0.280715 -1.361044\n",
              "2020-08-04  0.625045 -1.120087 -0.019246  0.414563\n",
              "2020-08-05 -0.112403  0.176056  0.871531 -0.761009\n",
              "...              ...       ...       ...       ...\n",
              "2023-04-23  0.621552 -0.145539  0.672745 -1.432953\n",
              "2023-04-24  0.349659  0.289848 -0.199275  0.965667\n",
              "2023-04-25  0.658106 -0.240967 -0.205929 -1.061251\n",
              "2023-04-26  1.790105  0.735726  0.875187  0.392748\n",
              "2023-04-27  0.490291 -0.492753 -0.144989 -0.239946\n",
              "\n",
              "[1000 rows x 4 columns]"
            ]
          },
          "metadata": {
            "tags": []
          },
          "execution_count": 146
        }
      ]
    },
    {
      "cell_type": "markdown",
      "metadata": {
        "id": "XFqi5Mkq6Eep",
        "colab_type": "text"
      },
      "source": [
        "* pd.to_excel( )\n",
        "* pd.read_excel( )"
      ]
    },
    {
      "cell_type": "code",
      "metadata": {
        "id": "pA6_V6QdZnzo",
        "colab_type": "code",
        "colab": {}
      },
      "source": [
        "# 파일 저장\n",
        "df.to_excel('foo.xlsx',sheet_name='Sheet1')"
      ],
      "execution_count": 147,
      "outputs": []
    },
    {
      "cell_type": "code",
      "metadata": {
        "id": "KjzxAzHSZxAU",
        "colab_type": "code",
        "colab": {
          "base_uri": "https://localhost:8080/",
          "height": 402
        },
        "outputId": "e9ceef57-d8e6-4673-d07f-5981aae5968e"
      },
      "source": [
        "# 파일 불러오기\n",
        "pd.read_excel('foo.xlsx','Sheet1',index_col=0,na_values=['NA'])"
      ],
      "execution_count": 148,
      "outputs": [
        {
          "output_type": "execute_result",
          "data": {
            "text/html": [
              "<div>\n",
              "<style scoped>\n",
              "    .dataframe tbody tr th:only-of-type {\n",
              "        vertical-align: middle;\n",
              "    }\n",
              "\n",
              "    .dataframe tbody tr th {\n",
              "        vertical-align: top;\n",
              "    }\n",
              "\n",
              "    .dataframe thead th {\n",
              "        text-align: right;\n",
              "    }\n",
              "</style>\n",
              "<table border=\"1\" class=\"dataframe\">\n",
              "  <thead>\n",
              "    <tr style=\"text-align: right;\">\n",
              "      <th></th>\n",
              "      <th>A</th>\n",
              "      <th>B</th>\n",
              "      <th>C</th>\n",
              "      <th>D</th>\n",
              "    </tr>\n",
              "  </thead>\n",
              "  <tbody>\n",
              "    <tr>\n",
              "      <th>2020-08-01</th>\n",
              "      <td>0.161823</td>\n",
              "      <td>0.202350</td>\n",
              "      <td>0.869029</td>\n",
              "      <td>0.023853</td>\n",
              "    </tr>\n",
              "    <tr>\n",
              "      <th>2020-08-02</th>\n",
              "      <td>-0.530997</td>\n",
              "      <td>-1.078695</td>\n",
              "      <td>-0.509892</td>\n",
              "      <td>0.128454</td>\n",
              "    </tr>\n",
              "    <tr>\n",
              "      <th>2020-08-03</th>\n",
              "      <td>0.910434</td>\n",
              "      <td>-1.724270</td>\n",
              "      <td>0.280715</td>\n",
              "      <td>-1.361044</td>\n",
              "    </tr>\n",
              "    <tr>\n",
              "      <th>2020-08-04</th>\n",
              "      <td>0.625045</td>\n",
              "      <td>-1.120087</td>\n",
              "      <td>-0.019246</td>\n",
              "      <td>0.414563</td>\n",
              "    </tr>\n",
              "    <tr>\n",
              "      <th>2020-08-05</th>\n",
              "      <td>-0.112403</td>\n",
              "      <td>0.176056</td>\n",
              "      <td>0.871531</td>\n",
              "      <td>-0.761009</td>\n",
              "    </tr>\n",
              "    <tr>\n",
              "      <th>...</th>\n",
              "      <td>...</td>\n",
              "      <td>...</td>\n",
              "      <td>...</td>\n",
              "      <td>...</td>\n",
              "    </tr>\n",
              "    <tr>\n",
              "      <th>2023-04-23</th>\n",
              "      <td>0.621552</td>\n",
              "      <td>-0.145539</td>\n",
              "      <td>0.672745</td>\n",
              "      <td>-1.432953</td>\n",
              "    </tr>\n",
              "    <tr>\n",
              "      <th>2023-04-24</th>\n",
              "      <td>0.349659</td>\n",
              "      <td>0.289848</td>\n",
              "      <td>-0.199275</td>\n",
              "      <td>0.965667</td>\n",
              "    </tr>\n",
              "    <tr>\n",
              "      <th>2023-04-25</th>\n",
              "      <td>0.658106</td>\n",
              "      <td>-0.240967</td>\n",
              "      <td>-0.205929</td>\n",
              "      <td>-1.061251</td>\n",
              "    </tr>\n",
              "    <tr>\n",
              "      <th>2023-04-26</th>\n",
              "      <td>1.790105</td>\n",
              "      <td>0.735726</td>\n",
              "      <td>0.875187</td>\n",
              "      <td>0.392748</td>\n",
              "    </tr>\n",
              "    <tr>\n",
              "      <th>2023-04-27</th>\n",
              "      <td>0.490291</td>\n",
              "      <td>-0.492753</td>\n",
              "      <td>-0.144989</td>\n",
              "      <td>-0.239946</td>\n",
              "    </tr>\n",
              "  </tbody>\n",
              "</table>\n",
              "<p>1000 rows × 4 columns</p>\n",
              "</div>"
            ],
            "text/plain": [
              "                   A         B         C         D\n",
              "2020-08-01  0.161823  0.202350  0.869029  0.023853\n",
              "2020-08-02 -0.530997 -1.078695 -0.509892  0.128454\n",
              "2020-08-03  0.910434 -1.724270  0.280715 -1.361044\n",
              "2020-08-04  0.625045 -1.120087 -0.019246  0.414563\n",
              "2020-08-05 -0.112403  0.176056  0.871531 -0.761009\n",
              "...              ...       ...       ...       ...\n",
              "2023-04-23  0.621552 -0.145539  0.672745 -1.432953\n",
              "2023-04-24  0.349659  0.289848 -0.199275  0.965667\n",
              "2023-04-25  0.658106 -0.240967 -0.205929 -1.061251\n",
              "2023-04-26  1.790105  0.735726  0.875187  0.392748\n",
              "2023-04-27  0.490291 -0.492753 -0.144989 -0.239946\n",
              "\n",
              "[1000 rows x 4 columns]"
            ]
          },
          "metadata": {
            "tags": []
          },
          "execution_count": 148
        }
      ]
    },
    {
      "cell_type": "markdown",
      "metadata": {
        "id": "DST8Nn9_bWhx",
        "colab_type": "text"
      },
      "source": [
        "# 시각화\n",
        "https://datatofish.com/plot-dataframe-pandas/"
      ]
    },
    {
      "cell_type": "code",
      "metadata": {
        "id": "h5IyHu7nbM2M",
        "colab_type": "code",
        "colab": {}
      },
      "source": [
        ""
      ],
      "execution_count": 148,
      "outputs": []
    }
  ]
}