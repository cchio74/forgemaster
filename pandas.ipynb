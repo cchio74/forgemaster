{
  "nbformat": 4,
  "nbformat_minor": 0,
  "metadata": {
    "colab": {
      "name": "pandas.ipynb",
      "provenance": [],
      "collapsed_sections": [],
      "include_colab_link": true
    },
    "kernelspec": {
      "name": "python3",
      "display_name": "Python 3"
    }
  },
  "cells": [
    {
      "cell_type": "markdown",
      "metadata": {
        "id": "view-in-github",
        "colab_type": "text"
      },
      "source": [
        "<a href=\"https://colab.research.google.com/github/cchio74/forgemaster/blob/master/pandas.ipynb\" target=\"_parent\"><img src=\"https://colab.research.google.com/assets/colab-badge.svg\" alt=\"Open In Colab\"/></a>"
      ]
    },
    {
      "cell_type": "code",
      "metadata": {
        "id": "5KLnwTUcAPrN",
        "colab_type": "code",
        "colab": {}
      },
      "source": [
        "import pandas as pd\n",
        "import numpy as np\n",
        "import matplotlib.pyplot as plt"
      ],
      "execution_count": null,
      "outputs": []
    },
    {
      "cell_type": "markdown",
      "metadata": {
        "id": "z5d79D0bFrYG",
        "colab_type": "text"
      },
      "source": [
        "# 시리즈\n",
        "* 하나의 column 을 가지는 형식\n",
        "* pd.Series()\n",
        "* 누락값: np.nan"
      ]
    },
    {
      "cell_type": "code",
      "metadata": {
        "id": "3ZjoZDl_iv_m",
        "colab_type": "code",
        "colab": {
          "base_uri": "https://localhost:8080/",
          "height": 121
        },
        "outputId": "5c9bf166-4fc0-4c20-b5a7-2c5a0ba43f9e"
      },
      "source": [
        "# numpy array를 활용한 Series 타입 정의\n",
        "pd.Series(np.random.randn(5))"
      ],
      "execution_count": null,
      "outputs": [
        {
          "output_type": "execute_result",
          "data": {
            "text/plain": [
              "0    0.545538\n",
              "1   -1.836061\n",
              "2    0.114053\n",
              "3   -0.533967\n",
              "4   -0.566146\n",
              "dtype: float64"
            ]
          },
          "metadata": {
            "tags": []
          },
          "execution_count": 13
        }
      ]
    },
    {
      "cell_type": "code",
      "metadata": {
        "id": "c9qnRO0AFWkD",
        "colab_type": "code",
        "colab": {
          "base_uri": "https://localhost:8080/",
          "height": 139
        },
        "outputId": "05e8f9be-94a4-4f9d-be5c-287bd83bf6a5"
      },
      "source": [
        "# 리스트로 Series type 만들기\n",
        "s=pd.Series([1,2,3,np.nan,6,8])\n",
        "s"
      ],
      "execution_count": null,
      "outputs": [
        {
          "output_type": "execute_result",
          "data": {
            "text/plain": [
              "0    1.0\n",
              "1    2.0\n",
              "2    3.0\n",
              "3    NaN\n",
              "4    6.0\n",
              "5    8.0\n",
              "dtype: float64"
            ]
          },
          "metadata": {
            "tags": []
          },
          "execution_count": 23
        }
      ]
    },
    {
      "cell_type": "code",
      "metadata": {
        "id": "XZMEKJrSF434",
        "colab_type": "code",
        "colab": {
          "base_uri": "https://localhost:8080/",
          "height": 104
        },
        "outputId": "14876fcb-e675-4935-cfff-c6cae8382bd4"
      },
      "source": [
        "print(type(s))\n",
        "print(s.shape)\n",
        "print(s.ndim)\n",
        "print(s.size)\n",
        "print(s.dtype)"
      ],
      "execution_count": null,
      "outputs": [
        {
          "output_type": "stream",
          "text": [
            "<class 'pandas.core.series.Series'>\n",
            "(6,)\n",
            "1\n",
            "6\n",
            "float64\n"
          ],
          "name": "stdout"
        }
      ]
    },
    {
      "cell_type": "code",
      "metadata": {
        "id": "9kddVTZBut6J",
        "colab_type": "code",
        "colab": {
          "base_uri": "https://localhost:8080/",
          "height": 104
        },
        "outputId": "4429d29c-ddfd-45b7-98c5-0a2fd57148ce"
      },
      "source": [
        "# 시리즈 형식 정의에서 인덱스 입력\n",
        "s=pd.Series(data=[4,-7,-5,3],index=['a','c','b','d'])\n",
        "s"
      ],
      "execution_count": null,
      "outputs": [
        {
          "output_type": "execute_result",
          "data": {
            "text/plain": [
              "a    4\n",
              "c   -7\n",
              "b   -5\n",
              "d    3\n",
              "dtype: int64"
            ]
          },
          "metadata": {
            "tags": []
          },
          "execution_count": 2
        }
      ]
    },
    {
      "cell_type": "code",
      "metadata": {
        "id": "u_DO1AaivvwC",
        "colab_type": "code",
        "colab": {
          "base_uri": "https://localhost:8080/",
          "height": 104
        },
        "outputId": "7d5ff363-b3d1-45dd-cb04-3dbdb1ebb531"
      },
      "source": [
        "# dict로 시리즈 정의\n",
        "s=pd.Series({'a':4,'c':-7,'b':-5,'d':3})\n",
        "s"
      ],
      "execution_count": null,
      "outputs": [
        {
          "output_type": "execute_result",
          "data": {
            "text/plain": [
              "a    4\n",
              "c   -7\n",
              "b   -5\n",
              "d    3\n",
              "dtype: int64"
            ]
          },
          "metadata": {
            "tags": []
          },
          "execution_count": 26
        }
      ]
    },
    {
      "cell_type": "code",
      "metadata": {
        "id": "12waOtVDxr3Q",
        "colab_type": "code",
        "colab": {
          "base_uri": "https://localhost:8080/",
          "height": 121
        },
        "outputId": "fb30c237-1d32-4de3-d5ba-88681d1ecc7b"
      },
      "source": [
        "# column의 이름과 index의 이름 정의\n",
        "s.name='column' #column 이름\n",
        "s.index.name='index' #index 이름\n",
        "s"
      ],
      "execution_count": null,
      "outputs": [
        {
          "output_type": "execute_result",
          "data": {
            "text/plain": [
              "index\n",
              "a    4\n",
              "c   -7\n",
              "b   -5\n",
              "d    3\n",
              "Name: column, dtype: int64"
            ]
          },
          "metadata": {
            "tags": []
          },
          "execution_count": 27
        }
      ]
    },
    {
      "cell_type": "code",
      "metadata": {
        "id": "35d63OIFy8IW",
        "colab_type": "code",
        "colab": {
          "base_uri": "https://localhost:8080/",
          "height": 121
        },
        "outputId": "9d6c7f5e-a8cc-4057-f7ec-9864726b61ee"
      },
      "source": [
        "# index 변경\n",
        "s.index=['A','B','C','D']\n",
        "s.index.name='modified'\n",
        "s"
      ],
      "execution_count": null,
      "outputs": [
        {
          "output_type": "execute_result",
          "data": {
            "text/plain": [
              "modified\n",
              "A    4\n",
              "B   -7\n",
              "C   -5\n",
              "D    3\n",
              "Name: column, dtype: int64"
            ]
          },
          "metadata": {
            "tags": []
          },
          "execution_count": 28
        }
      ]
    },
    {
      "cell_type": "code",
      "metadata": {
        "id": "oUbany_8yDCC",
        "colab_type": "code",
        "colab": {
          "base_uri": "https://localhost:8080/",
          "height": 196
        },
        "outputId": "7ce00fec-faee-4c81-aa13-8e67c712aa25"
      },
      "source": [
        "# 데이터프레임으로 변환\n",
        "pd.DataFrame(s)"
      ],
      "execution_count": null,
      "outputs": [
        {
          "output_type": "execute_result",
          "data": {
            "text/html": [
              "<div>\n",
              "<style scoped>\n",
              "    .dataframe tbody tr th:only-of-type {\n",
              "        vertical-align: middle;\n",
              "    }\n",
              "\n",
              "    .dataframe tbody tr th {\n",
              "        vertical-align: top;\n",
              "    }\n",
              "\n",
              "    .dataframe thead th {\n",
              "        text-align: right;\n",
              "    }\n",
              "</style>\n",
              "<table border=\"1\" class=\"dataframe\">\n",
              "  <thead>\n",
              "    <tr style=\"text-align: right;\">\n",
              "      <th></th>\n",
              "      <th>column</th>\n",
              "    </tr>\n",
              "    <tr>\n",
              "      <th>modified</th>\n",
              "      <th></th>\n",
              "    </tr>\n",
              "  </thead>\n",
              "  <tbody>\n",
              "    <tr>\n",
              "      <th>A</th>\n",
              "      <td>4</td>\n",
              "    </tr>\n",
              "    <tr>\n",
              "      <th>B</th>\n",
              "      <td>-7</td>\n",
              "    </tr>\n",
              "    <tr>\n",
              "      <th>C</th>\n",
              "      <td>-5</td>\n",
              "    </tr>\n",
              "    <tr>\n",
              "      <th>D</th>\n",
              "      <td>3</td>\n",
              "    </tr>\n",
              "  </tbody>\n",
              "</table>\n",
              "</div>"
            ],
            "text/plain": [
              "          column\n",
              "modified        \n",
              "A              4\n",
              "B             -7\n",
              "C             -5\n",
              "D              3"
            ]
          },
          "metadata": {
            "tags": []
          },
          "execution_count": 29
        }
      ]
    },
    {
      "cell_type": "code",
      "metadata": {
        "id": "w3JnsqdfwicM",
        "colab_type": "code",
        "colab": {
          "base_uri": "https://localhost:8080/",
          "height": 139
        },
        "outputId": "8664169c-dfc9-443a-f7aa-8ccfc004fd2e"
      },
      "source": [
        "# 시간 계열 인덱스를 가지는 시리즈 형식\n",
        "s=pd.Series(data=np.arange(6),index=pd.date_range('20200901',periods=6))\n",
        "s"
      ],
      "execution_count": null,
      "outputs": [
        {
          "output_type": "execute_result",
          "data": {
            "text/plain": [
              "2020-09-01    0\n",
              "2020-09-02    1\n",
              "2020-09-03    2\n",
              "2020-09-04    3\n",
              "2020-09-05    4\n",
              "2020-09-06    5\n",
              "Freq: D, dtype: int64"
            ]
          },
          "metadata": {
            "tags": []
          },
          "execution_count": 3
        }
      ]
    },
    {
      "cell_type": "code",
      "metadata": {
        "id": "ZYub__WLwTk1",
        "colab_type": "code",
        "colab": {
          "base_uri": "https://localhost:8080/",
          "height": 69
        },
        "outputId": "280867d1-d8b5-4701-b482-eee70207f6a7"
      },
      "source": [
        "# Series의 index\n",
        "s.index"
      ],
      "execution_count": null,
      "outputs": [
        {
          "output_type": "execute_result",
          "data": {
            "text/plain": [
              "DatetimeIndex(['2020-09-01', '2020-09-02', '2020-09-03', '2020-09-04',\n",
              "               '2020-09-05', '2020-09-06'],\n",
              "              dtype='datetime64[ns]', freq='D')"
            ]
          },
          "metadata": {
            "tags": []
          },
          "execution_count": 4
        }
      ]
    },
    {
      "cell_type": "code",
      "metadata": {
        "id": "gIxG3bQKweK4",
        "colab_type": "code",
        "colab": {
          "base_uri": "https://localhost:8080/",
          "height": 34
        },
        "outputId": "6b794878-0dbe-4598-ef1a-09ae3c5aca91"
      },
      "source": [
        "# Series의 values\n",
        "s.values"
      ],
      "execution_count": null,
      "outputs": [
        {
          "output_type": "execute_result",
          "data": {
            "text/plain": [
              "array([0, 1, 2, 3, 4, 5])"
            ]
          },
          "metadata": {
            "tags": []
          },
          "execution_count": 5
        }
      ]
    },
    {
      "cell_type": "markdown",
      "metadata": {
        "id": "XZ6Okn5yx-Ut",
        "colab_type": "text"
      },
      "source": [
        "\\[ \\] 을 활용한 데이터 slicing"
      ]
    },
    {
      "cell_type": "code",
      "metadata": {
        "id": "GfDlf5HKxrA6",
        "colab_type": "code",
        "colab": {
          "base_uri": "https://localhost:8080/",
          "height": 34
        },
        "outputId": "63b4d9f9-a2fe-4bca-c5da-52342e9ba2f3"
      },
      "source": [
        "# index 번호로 검색\n",
        "s[0]"
      ],
      "execution_count": null,
      "outputs": [
        {
          "output_type": "execute_result",
          "data": {
            "text/plain": [
              "0"
            ]
          },
          "metadata": {
            "tags": []
          },
          "execution_count": 6
        }
      ]
    },
    {
      "cell_type": "code",
      "metadata": {
        "id": "W_mxqQM-yI2I",
        "colab_type": "code",
        "colab": {
          "base_uri": "https://localhost:8080/",
          "height": 86
        },
        "outputId": "eddb9f3a-bb3e-4718-c104-5e344f30fef0"
      },
      "source": [
        "# slicing 가능\n",
        "s[1:4]"
      ],
      "execution_count": null,
      "outputs": [
        {
          "output_type": "execute_result",
          "data": {
            "text/plain": [
              "2020-09-02    1\n",
              "2020-09-03    2\n",
              "2020-09-04    3\n",
              "Freq: D, dtype: int64"
            ]
          },
          "metadata": {
            "tags": []
          },
          "execution_count": 7
        }
      ]
    },
    {
      "cell_type": "code",
      "metadata": {
        "id": "lp-huLMoyT6X",
        "colab_type": "code",
        "colab": {
          "base_uri": "https://localhost:8080/",
          "height": 34
        },
        "outputId": "cf0aad12-daad-4d19-9a46-6c3d93bf7687"
      },
      "source": [
        "# index 이름 사용 가능\n",
        "s['20200905']"
      ],
      "execution_count": null,
      "outputs": [
        {
          "output_type": "execute_result",
          "data": {
            "text/plain": [
              "4"
            ]
          },
          "metadata": {
            "tags": []
          },
          "execution_count": 8
        }
      ]
    },
    {
      "cell_type": "code",
      "metadata": {
        "id": "buH4WraayTsX",
        "colab_type": "code",
        "colab": {
          "base_uri": "https://localhost:8080/",
          "height": 104
        },
        "outputId": "553da19a-1358-4bbe-ed07-e72a155ad994"
      },
      "source": [
        "# index 이름 슬라이싱 가능\n",
        "s['20200902':'20200905']"
      ],
      "execution_count": null,
      "outputs": [
        {
          "output_type": "execute_result",
          "data": {
            "text/plain": [
              "2020-09-02    1\n",
              "2020-09-03    2\n",
              "2020-09-04    3\n",
              "2020-09-05    4\n",
              "Freq: D, dtype: int64"
            ]
          },
          "metadata": {
            "tags": []
          },
          "execution_count": 9
        }
      ]
    },
    {
      "cell_type": "markdown",
      "metadata": {
        "id": "xnkPXIJYJeck",
        "colab_type": "text"
      },
      "source": [
        "Series의 함수\n",
        "* pd.Series.value_counts( )\n",
        "* pd.Series.str.lower( )\n",
        "* pd.Series.str.upper( )\n",
        "* pd.Series.where( )"
      ]
    },
    {
      "cell_type": "code",
      "metadata": {
        "id": "h_VFcdxRgXBt",
        "colab_type": "code",
        "colab": {
          "base_uri": "https://localhost:8080/",
          "height": 226
        },
        "outputId": "bdd3360c-74fd-4e13-8253-1c30c9b193b3"
      },
      "source": [
        "# Series 데이터 생성\n",
        "series=pd.Series(np.random.randint(10,size=100))\n",
        "series"
      ],
      "execution_count": null,
      "outputs": [
        {
          "output_type": "execute_result",
          "data": {
            "text/plain": [
              "0     5\n",
              "1     0\n",
              "2     2\n",
              "3     7\n",
              "4     2\n",
              "     ..\n",
              "95    4\n",
              "96    6\n",
              "97    6\n",
              "98    4\n",
              "99    3\n",
              "Length: 100, dtype: int64"
            ]
          },
          "metadata": {
            "tags": []
          },
          "execution_count": 10
        }
      ]
    },
    {
      "cell_type": "code",
      "metadata": {
        "id": "roM9bR9lg0Dr",
        "colab_type": "code",
        "colab": {
          "base_uri": "https://localhost:8080/",
          "height": 209
        },
        "outputId": "65ddf22d-06ac-4c72-de38-bb916e137aed"
      },
      "source": [
        "# 데이터 분포도, Histogram\n",
        "series.value_counts()"
      ],
      "execution_count": null,
      "outputs": [
        {
          "output_type": "execute_result",
          "data": {
            "text/plain": [
              "3    14\n",
              "1    14\n",
              "6    12\n",
              "5    11\n",
              "8    10\n",
              "7     9\n",
              "4     9\n",
              "0     9\n",
              "2     8\n",
              "9     4\n",
              "dtype: int64"
            ]
          },
          "metadata": {
            "tags": []
          },
          "execution_count": 38
        }
      ]
    },
    {
      "cell_type": "code",
      "metadata": {
        "id": "vaCHsKIng8uc",
        "colab_type": "code",
        "colab": {
          "base_uri": "https://localhost:8080/",
          "height": 191
        },
        "outputId": "01631a58-8345-4cc7-d7eb-dbf9499a09c4"
      },
      "source": [
        "# 문자가 포함된 Series 정의\n",
        "series=pd.Series(['A','B','C','Aaba','Baca',np.nan,'CABA','dog','cat'])\n",
        "series"
      ],
      "execution_count": null,
      "outputs": [
        {
          "output_type": "execute_result",
          "data": {
            "text/plain": [
              "0       A\n",
              "1       B\n",
              "2       C\n",
              "3    Aaba\n",
              "4    Baca\n",
              "5     NaN\n",
              "6    CABA\n",
              "7     dog\n",
              "8     cat\n",
              "dtype: object"
            ]
          },
          "metadata": {
            "tags": []
          },
          "execution_count": 39
        }
      ]
    },
    {
      "cell_type": "code",
      "metadata": {
        "id": "AAS6WpMdhijI",
        "colab_type": "code",
        "colab": {
          "base_uri": "https://localhost:8080/",
          "height": 191
        },
        "outputId": "b5793912-31c5-43d6-ed34-fb09ca0b070a"
      },
      "source": [
        "# 대소문자 변환\n",
        "# pd.lower()\n",
        "# pd.upper()\n",
        "series.str.lower()"
      ],
      "execution_count": null,
      "outputs": [
        {
          "output_type": "execute_result",
          "data": {
            "text/plain": [
              "0       a\n",
              "1       b\n",
              "2       c\n",
              "3    aaba\n",
              "4    baca\n",
              "5     NaN\n",
              "6    caba\n",
              "7     dog\n",
              "8     cat\n",
              "dtype: object"
            ]
          },
          "metadata": {
            "tags": []
          },
          "execution_count": 40
        }
      ]
    },
    {
      "cell_type": "code",
      "metadata": {
        "id": "k8dz7Nu-KLdr",
        "colab_type": "code",
        "colab": {
          "base_uri": "https://localhost:8080/",
          "height": 191
        },
        "outputId": "69b4314c-56e4-4e3e-b2a8-ee211aa8fb64"
      },
      "source": [
        "series.str.upper()"
      ],
      "execution_count": null,
      "outputs": [
        {
          "output_type": "execute_result",
          "data": {
            "text/plain": [
              "0       A\n",
              "1       B\n",
              "2       C\n",
              "3    AABA\n",
              "4    BACA\n",
              "5     NaN\n",
              "6    CABA\n",
              "7     DOG\n",
              "8     CAT\n",
              "dtype: object"
            ]
          },
          "metadata": {
            "tags": []
          },
          "execution_count": 41
        }
      ]
    },
    {
      "cell_type": "code",
      "metadata": {
        "id": "53QUd8qdjrWR",
        "colab_type": "code",
        "colab": {
          "base_uri": "https://localhost:8080/",
          "height": 139
        },
        "outputId": "4bc2c604-720d-4f2f-845b-08be54608935"
      },
      "source": [
        "s"
      ],
      "execution_count": null,
      "outputs": [
        {
          "output_type": "execute_result",
          "data": {
            "text/plain": [
              "2020-09-01    0\n",
              "2020-09-02    1\n",
              "2020-09-03    2\n",
              "2020-09-04    3\n",
              "2020-09-05    4\n",
              "2020-09-06    5\n",
              "Freq: D, dtype: int64"
            ]
          },
          "metadata": {
            "tags": []
          },
          "execution_count": 14
        }
      ]
    },
    {
      "cell_type": "code",
      "metadata": {
        "id": "JeAGRdsHur69",
        "colab_type": "code",
        "colab": {
          "base_uri": "https://localhost:8080/",
          "height": 139
        },
        "outputId": "637636c7-32b1-4654-8d6f-0ee27902bc90"
      },
      "source": [
        "s.where(s<2,'high')"
      ],
      "execution_count": null,
      "outputs": [
        {
          "output_type": "execute_result",
          "data": {
            "text/plain": [
              "2020-09-01       0\n",
              "2020-09-02       1\n",
              "2020-09-03    high\n",
              "2020-09-04    high\n",
              "2020-09-05    high\n",
              "2020-09-06    high\n",
              "Freq: D, dtype: object"
            ]
          },
          "metadata": {
            "tags": []
          },
          "execution_count": 11
        }
      ]
    },
    {
      "cell_type": "markdown",
      "metadata": {
        "id": "9nbpJI1MJZ9X",
        "colab_type": "text"
      },
      "source": [
        "# 데이터프레임\n",
        "* 여러 column들을 가지는 형식\n",
        "* pd.DataFrame()\n",
        "* index, column, values"
      ]
    },
    {
      "cell_type": "code",
      "metadata": {
        "id": "IQVKZrXaiYyn",
        "colab_type": "code",
        "colab": {
          "base_uri": "https://localhost:8080/",
          "height": 137
        },
        "outputId": "12e40c4b-3ac6-4f1e-8ffb-dcdd71c37d54"
      },
      "source": [
        "# numpy array를 이용한 DataFrame 정의\n",
        "pd.DataFrame(np.random.rand(3,4))"
      ],
      "execution_count": null,
      "outputs": [
        {
          "output_type": "execute_result",
          "data": {
            "text/html": [
              "<div>\n",
              "<style scoped>\n",
              "    .dataframe tbody tr th:only-of-type {\n",
              "        vertical-align: middle;\n",
              "    }\n",
              "\n",
              "    .dataframe tbody tr th {\n",
              "        vertical-align: top;\n",
              "    }\n",
              "\n",
              "    .dataframe thead th {\n",
              "        text-align: right;\n",
              "    }\n",
              "</style>\n",
              "<table border=\"1\" class=\"dataframe\">\n",
              "  <thead>\n",
              "    <tr style=\"text-align: right;\">\n",
              "      <th></th>\n",
              "      <th>0</th>\n",
              "      <th>1</th>\n",
              "      <th>2</th>\n",
              "      <th>3</th>\n",
              "    </tr>\n",
              "  </thead>\n",
              "  <tbody>\n",
              "    <tr>\n",
              "      <th>0</th>\n",
              "      <td>0.072266</td>\n",
              "      <td>0.035548</td>\n",
              "      <td>0.123145</td>\n",
              "      <td>0.538085</td>\n",
              "    </tr>\n",
              "    <tr>\n",
              "      <th>1</th>\n",
              "      <td>0.784965</td>\n",
              "      <td>0.500621</td>\n",
              "      <td>0.708752</td>\n",
              "      <td>0.079902</td>\n",
              "    </tr>\n",
              "    <tr>\n",
              "      <th>2</th>\n",
              "      <td>0.614047</td>\n",
              "      <td>0.244121</td>\n",
              "      <td>0.068686</td>\n",
              "      <td>0.204905</td>\n",
              "    </tr>\n",
              "  </tbody>\n",
              "</table>\n",
              "</div>"
            ],
            "text/plain": [
              "          0         1         2         3\n",
              "0  0.072266  0.035548  0.123145  0.538085\n",
              "1  0.784965  0.500621  0.708752  0.079902\n",
              "2  0.614047  0.244121  0.068686  0.204905"
            ]
          },
          "metadata": {
            "tags": []
          },
          "execution_count": 12
        }
      ]
    },
    {
      "cell_type": "code",
      "metadata": {
        "id": "WSvNizq_3KQy",
        "colab_type": "code",
        "colab": {
          "base_uri": "https://localhost:8080/",
          "height": 107
        },
        "outputId": "1b65452a-5923-4b1f-d5ef-7670001e95d2"
      },
      "source": [
        "# 리스트를 이용한 데이터프레임 정의\n",
        "data=[[1,'20200901','1',3,'test','foo'],[1,'20200901',3,'test','foo']]\n",
        "index=[0,1]\n",
        "columns=['A','B','C','D','E','F']\n",
        "df=pd.DataFrame(data=data,index=index,columns=columns)\n",
        "df"
      ],
      "execution_count": null,
      "outputs": [
        {
          "output_type": "execute_result",
          "data": {
            "text/html": [
              "<div>\n",
              "<style scoped>\n",
              "    .dataframe tbody tr th:only-of-type {\n",
              "        vertical-align: middle;\n",
              "    }\n",
              "\n",
              "    .dataframe tbody tr th {\n",
              "        vertical-align: top;\n",
              "    }\n",
              "\n",
              "    .dataframe thead th {\n",
              "        text-align: right;\n",
              "    }\n",
              "</style>\n",
              "<table border=\"1\" class=\"dataframe\">\n",
              "  <thead>\n",
              "    <tr style=\"text-align: right;\">\n",
              "      <th></th>\n",
              "      <th>A</th>\n",
              "      <th>B</th>\n",
              "      <th>C</th>\n",
              "      <th>D</th>\n",
              "      <th>E</th>\n",
              "      <th>F</th>\n",
              "    </tr>\n",
              "  </thead>\n",
              "  <tbody>\n",
              "    <tr>\n",
              "      <th>0</th>\n",
              "      <td>1</td>\n",
              "      <td>20200901</td>\n",
              "      <td>1</td>\n",
              "      <td>3</td>\n",
              "      <td>test</td>\n",
              "      <td>foo</td>\n",
              "    </tr>\n",
              "    <tr>\n",
              "      <th>1</th>\n",
              "      <td>1</td>\n",
              "      <td>20200901</td>\n",
              "      <td>3</td>\n",
              "      <td>test</td>\n",
              "      <td>foo</td>\n",
              "      <td>None</td>\n",
              "    </tr>\n",
              "  </tbody>\n",
              "</table>\n",
              "</div>"
            ],
            "text/plain": [
              "   A         B  C     D     E     F\n",
              "0  1  20200901  1     3  test   foo\n",
              "1  1  20200901  3  test   foo  None"
            ]
          },
          "metadata": {
            "tags": []
          },
          "execution_count": 43
        }
      ]
    },
    {
      "cell_type": "code",
      "metadata": {
        "id": "NFc1ePDv5Xo4",
        "colab_type": "code",
        "colab": {
          "base_uri": "https://localhost:8080/",
          "height": 137
        },
        "outputId": "722feb28-c754-492b-e41f-6621161e709f"
      },
      "source": [
        "# column의 이름과 index의 이름 정의\n",
        "df.index.name='index'\n",
        "df.columns.name='columns'\n",
        "df"
      ],
      "execution_count": null,
      "outputs": [
        {
          "output_type": "execute_result",
          "data": {
            "text/html": [
              "<div>\n",
              "<style scoped>\n",
              "    .dataframe tbody tr th:only-of-type {\n",
              "        vertical-align: middle;\n",
              "    }\n",
              "\n",
              "    .dataframe tbody tr th {\n",
              "        vertical-align: top;\n",
              "    }\n",
              "\n",
              "    .dataframe thead th {\n",
              "        text-align: right;\n",
              "    }\n",
              "</style>\n",
              "<table border=\"1\" class=\"dataframe\">\n",
              "  <thead>\n",
              "    <tr style=\"text-align: right;\">\n",
              "      <th>columns</th>\n",
              "      <th>A</th>\n",
              "      <th>B</th>\n",
              "      <th>C</th>\n",
              "      <th>D</th>\n",
              "      <th>E</th>\n",
              "      <th>F</th>\n",
              "    </tr>\n",
              "    <tr>\n",
              "      <th>index</th>\n",
              "      <th></th>\n",
              "      <th></th>\n",
              "      <th></th>\n",
              "      <th></th>\n",
              "      <th></th>\n",
              "      <th></th>\n",
              "    </tr>\n",
              "  </thead>\n",
              "  <tbody>\n",
              "    <tr>\n",
              "      <th>0</th>\n",
              "      <td>1</td>\n",
              "      <td>20200901</td>\n",
              "      <td>1</td>\n",
              "      <td>3</td>\n",
              "      <td>test</td>\n",
              "      <td>foo</td>\n",
              "    </tr>\n",
              "    <tr>\n",
              "      <th>1</th>\n",
              "      <td>1</td>\n",
              "      <td>20200901</td>\n",
              "      <td>3</td>\n",
              "      <td>test</td>\n",
              "      <td>foo</td>\n",
              "      <td>None</td>\n",
              "    </tr>\n",
              "  </tbody>\n",
              "</table>\n",
              "</div>"
            ],
            "text/plain": [
              "columns  A         B  C     D     E     F\n",
              "index                                    \n",
              "0        1  20200901  1     3  test   foo\n",
              "1        1  20200901  3  test   foo  None"
            ]
          },
          "metadata": {
            "tags": []
          },
          "execution_count": 44
        }
      ]
    },
    {
      "cell_type": "code",
      "metadata": {
        "id": "zbNc8U8K6KM3",
        "colab_type": "code",
        "colab": {
          "base_uri": "https://localhost:8080/",
          "height": 86
        },
        "outputId": "04a48040-b0b4-4f30-c967-eae1a3007087"
      },
      "source": [
        "# 데이터프레임에서 하나의 colume을 Series 타입으로 가져오기\n",
        "df['A']"
      ],
      "execution_count": null,
      "outputs": [
        {
          "output_type": "execute_result",
          "data": {
            "text/plain": [
              "index\n",
              "0    1\n",
              "1    1\n",
              "Name: A, dtype: int64"
            ]
          },
          "metadata": {
            "tags": []
          },
          "execution_count": 45
        }
      ]
    },
    {
      "cell_type": "code",
      "metadata": {
        "id": "2Q6rYa6MKExA",
        "colab_type": "code",
        "colab": {
          "base_uri": "https://localhost:8080/",
          "height": 166
        },
        "outputId": "35aa1e5c-9898-46ea-9ca1-f0e1426aa5be"
      },
      "source": [
        "# dict를 이용한 데이터프레임 정의\n",
        "df=pd.DataFrame({'A':1.,\n",
        "                 'B':pd.Timestamp('20200901'),\n",
        "                 'C':pd.Series(1,index=list(range(4)),dtype='float32'),\n",
        "                 'D':np.array([3]*4,dtype='int32'),\n",
        "                 'E':pd.Categorical(['test','train','test','train']),\n",
        "                 'F':'foo'})\n",
        "df"
      ],
      "execution_count": null,
      "outputs": [
        {
          "output_type": "execute_result",
          "data": {
            "text/html": [
              "<div>\n",
              "<style scoped>\n",
              "    .dataframe tbody tr th:only-of-type {\n",
              "        vertical-align: middle;\n",
              "    }\n",
              "\n",
              "    .dataframe tbody tr th {\n",
              "        vertical-align: top;\n",
              "    }\n",
              "\n",
              "    .dataframe thead th {\n",
              "        text-align: right;\n",
              "    }\n",
              "</style>\n",
              "<table border=\"1\" class=\"dataframe\">\n",
              "  <thead>\n",
              "    <tr style=\"text-align: right;\">\n",
              "      <th></th>\n",
              "      <th>A</th>\n",
              "      <th>B</th>\n",
              "      <th>C</th>\n",
              "      <th>D</th>\n",
              "      <th>E</th>\n",
              "      <th>F</th>\n",
              "    </tr>\n",
              "  </thead>\n",
              "  <tbody>\n",
              "    <tr>\n",
              "      <th>0</th>\n",
              "      <td>1.0</td>\n",
              "      <td>2020-09-01</td>\n",
              "      <td>1.0</td>\n",
              "      <td>3</td>\n",
              "      <td>test</td>\n",
              "      <td>foo</td>\n",
              "    </tr>\n",
              "    <tr>\n",
              "      <th>1</th>\n",
              "      <td>1.0</td>\n",
              "      <td>2020-09-01</td>\n",
              "      <td>1.0</td>\n",
              "      <td>3</td>\n",
              "      <td>train</td>\n",
              "      <td>foo</td>\n",
              "    </tr>\n",
              "    <tr>\n",
              "      <th>2</th>\n",
              "      <td>1.0</td>\n",
              "      <td>2020-09-01</td>\n",
              "      <td>1.0</td>\n",
              "      <td>3</td>\n",
              "      <td>test</td>\n",
              "      <td>foo</td>\n",
              "    </tr>\n",
              "    <tr>\n",
              "      <th>3</th>\n",
              "      <td>1.0</td>\n",
              "      <td>2020-09-01</td>\n",
              "      <td>1.0</td>\n",
              "      <td>3</td>\n",
              "      <td>train</td>\n",
              "      <td>foo</td>\n",
              "    </tr>\n",
              "  </tbody>\n",
              "</table>\n",
              "</div>"
            ],
            "text/plain": [
              "     A          B    C  D      E    F\n",
              "0  1.0 2020-09-01  1.0  3   test  foo\n",
              "1  1.0 2020-09-01  1.0  3  train  foo\n",
              "2  1.0 2020-09-01  1.0  3   test  foo\n",
              "3  1.0 2020-09-01  1.0  3  train  foo"
            ]
          },
          "metadata": {
            "tags": []
          },
          "execution_count": 16
        }
      ]
    },
    {
      "cell_type": "code",
      "metadata": {
        "id": "1P8fjcAh9KmG",
        "colab_type": "code",
        "colab": {
          "base_uri": "https://localhost:8080/",
          "height": 196
        },
        "outputId": "c255ea6a-e121-4290-9908-a9a256128f89"
      },
      "source": [
        "# 하나의 column을 index로 수정\n",
        "# inplace=True 일때 원래 데이터가 수정됨\n",
        "\n",
        "df.set_index('B',inplace=True)\n",
        "df"
      ],
      "execution_count": null,
      "outputs": [
        {
          "output_type": "execute_result",
          "data": {
            "text/html": [
              "<div>\n",
              "<style scoped>\n",
              "    .dataframe tbody tr th:only-of-type {\n",
              "        vertical-align: middle;\n",
              "    }\n",
              "\n",
              "    .dataframe tbody tr th {\n",
              "        vertical-align: top;\n",
              "    }\n",
              "\n",
              "    .dataframe thead th {\n",
              "        text-align: right;\n",
              "    }\n",
              "</style>\n",
              "<table border=\"1\" class=\"dataframe\">\n",
              "  <thead>\n",
              "    <tr style=\"text-align: right;\">\n",
              "      <th></th>\n",
              "      <th>A</th>\n",
              "      <th>C</th>\n",
              "      <th>D</th>\n",
              "      <th>E</th>\n",
              "      <th>F</th>\n",
              "    </tr>\n",
              "    <tr>\n",
              "      <th>B</th>\n",
              "      <th></th>\n",
              "      <th></th>\n",
              "      <th></th>\n",
              "      <th></th>\n",
              "      <th></th>\n",
              "    </tr>\n",
              "  </thead>\n",
              "  <tbody>\n",
              "    <tr>\n",
              "      <th>2020-09-01</th>\n",
              "      <td>1.0</td>\n",
              "      <td>1.0</td>\n",
              "      <td>3</td>\n",
              "      <td>test</td>\n",
              "      <td>foo</td>\n",
              "    </tr>\n",
              "    <tr>\n",
              "      <th>2020-09-01</th>\n",
              "      <td>1.0</td>\n",
              "      <td>1.0</td>\n",
              "      <td>3</td>\n",
              "      <td>train</td>\n",
              "      <td>foo</td>\n",
              "    </tr>\n",
              "    <tr>\n",
              "      <th>2020-09-01</th>\n",
              "      <td>1.0</td>\n",
              "      <td>1.0</td>\n",
              "      <td>3</td>\n",
              "      <td>test</td>\n",
              "      <td>foo</td>\n",
              "    </tr>\n",
              "    <tr>\n",
              "      <th>2020-09-01</th>\n",
              "      <td>1.0</td>\n",
              "      <td>1.0</td>\n",
              "      <td>3</td>\n",
              "      <td>train</td>\n",
              "      <td>foo</td>\n",
              "    </tr>\n",
              "  </tbody>\n",
              "</table>\n",
              "</div>"
            ],
            "text/plain": [
              "              A    C  D      E    F\n",
              "B                                  \n",
              "2020-09-01  1.0  1.0  3   test  foo\n",
              "2020-09-01  1.0  1.0  3  train  foo\n",
              "2020-09-01  1.0  1.0  3   test  foo\n",
              "2020-09-01  1.0  1.0  3  train  foo"
            ]
          },
          "metadata": {
            "tags": []
          },
          "execution_count": 17
        }
      ]
    },
    {
      "cell_type": "code",
      "metadata": {
        "id": "mJWMjYfC9KtS",
        "colab_type": "code",
        "colab": {
          "base_uri": "https://localhost:8080/",
          "height": 166
        },
        "outputId": "ad38771f-9569-4bf5-88ca-2e88eebff2c0"
      },
      "source": [
        "# 인덱스를 삭제 또는 column으로 수정\n",
        "# drop=True 인덱스 세팅에 사용된 열을 삭제(True) 혹은 유지(False)\n",
        "df.reset_index(inplace=True)\n",
        "df"
      ],
      "execution_count": null,
      "outputs": [
        {
          "output_type": "execute_result",
          "data": {
            "text/html": [
              "<div>\n",
              "<style scoped>\n",
              "    .dataframe tbody tr th:only-of-type {\n",
              "        vertical-align: middle;\n",
              "    }\n",
              "\n",
              "    .dataframe tbody tr th {\n",
              "        vertical-align: top;\n",
              "    }\n",
              "\n",
              "    .dataframe thead th {\n",
              "        text-align: right;\n",
              "    }\n",
              "</style>\n",
              "<table border=\"1\" class=\"dataframe\">\n",
              "  <thead>\n",
              "    <tr style=\"text-align: right;\">\n",
              "      <th></th>\n",
              "      <th>B</th>\n",
              "      <th>A</th>\n",
              "      <th>C</th>\n",
              "      <th>D</th>\n",
              "      <th>E</th>\n",
              "      <th>F</th>\n",
              "    </tr>\n",
              "  </thead>\n",
              "  <tbody>\n",
              "    <tr>\n",
              "      <th>0</th>\n",
              "      <td>2020-09-01</td>\n",
              "      <td>1.0</td>\n",
              "      <td>1.0</td>\n",
              "      <td>3</td>\n",
              "      <td>test</td>\n",
              "      <td>foo</td>\n",
              "    </tr>\n",
              "    <tr>\n",
              "      <th>1</th>\n",
              "      <td>2020-09-01</td>\n",
              "      <td>1.0</td>\n",
              "      <td>1.0</td>\n",
              "      <td>3</td>\n",
              "      <td>train</td>\n",
              "      <td>foo</td>\n",
              "    </tr>\n",
              "    <tr>\n",
              "      <th>2</th>\n",
              "      <td>2020-09-01</td>\n",
              "      <td>1.0</td>\n",
              "      <td>1.0</td>\n",
              "      <td>3</td>\n",
              "      <td>test</td>\n",
              "      <td>foo</td>\n",
              "    </tr>\n",
              "    <tr>\n",
              "      <th>3</th>\n",
              "      <td>2020-09-01</td>\n",
              "      <td>1.0</td>\n",
              "      <td>1.0</td>\n",
              "      <td>3</td>\n",
              "      <td>train</td>\n",
              "      <td>foo</td>\n",
              "    </tr>\n",
              "  </tbody>\n",
              "</table>\n",
              "</div>"
            ],
            "text/plain": [
              "           B    A    C  D      E    F\n",
              "0 2020-09-01  1.0  1.0  3   test  foo\n",
              "1 2020-09-01  1.0  1.0  3  train  foo\n",
              "2 2020-09-01  1.0  1.0  3   test  foo\n",
              "3 2020-09-01  1.0  1.0  3  train  foo"
            ]
          },
          "metadata": {
            "tags": []
          },
          "execution_count": 18
        }
      ]
    },
    {
      "cell_type": "code",
      "metadata": {
        "id": "d9sV0zyNF_xi",
        "colab_type": "code",
        "colab": {}
      },
      "source": [
        "# Datetime 형식\n",
        "dates=pd.date_range('20200901',periods=6)"
      ],
      "execution_count": null,
      "outputs": []
    },
    {
      "cell_type": "code",
      "metadata": {
        "id": "Zw3X_xxkGMAM",
        "colab_type": "code",
        "colab": {
          "base_uri": "https://localhost:8080/",
          "height": 121
        },
        "outputId": "ce8e9f06-2392-4c65-b494-c1e2df01fb1d"
      },
      "source": [
        "print(type(dates))\n",
        "print(dates.shape)\n",
        "print(dates.size)\n",
        "print(dates)"
      ],
      "execution_count": null,
      "outputs": [
        {
          "output_type": "stream",
          "text": [
            "<class 'pandas.core.indexes.datetimes.DatetimeIndex'>\n",
            "(6,)\n",
            "6\n",
            "DatetimeIndex(['2020-09-01', '2020-09-02', '2020-09-03', '2020-09-04',\n",
            "               '2020-09-05', '2020-09-06'],\n",
            "              dtype='datetime64[ns]', freq='D')\n"
          ],
          "name": "stdout"
        }
      ]
    },
    {
      "cell_type": "code",
      "metadata": {
        "id": "AAwz4_8yG7HZ",
        "colab_type": "code",
        "colab": {
          "base_uri": "https://localhost:8080/",
          "height": 226
        },
        "outputId": "16eff8f7-e272-4327-827f-fec7a211caf6"
      },
      "source": [
        "# DataFrame 정의\n",
        "df=pd.DataFrame(np.random.randn(6,4),index=dates,columns=list('ABCD'))\n",
        "df"
      ],
      "execution_count": null,
      "outputs": [
        {
          "output_type": "execute_result",
          "data": {
            "text/html": [
              "<div>\n",
              "<style scoped>\n",
              "    .dataframe tbody tr th:only-of-type {\n",
              "        vertical-align: middle;\n",
              "    }\n",
              "\n",
              "    .dataframe tbody tr th {\n",
              "        vertical-align: top;\n",
              "    }\n",
              "\n",
              "    .dataframe thead th {\n",
              "        text-align: right;\n",
              "    }\n",
              "</style>\n",
              "<table border=\"1\" class=\"dataframe\">\n",
              "  <thead>\n",
              "    <tr style=\"text-align: right;\">\n",
              "      <th></th>\n",
              "      <th>A</th>\n",
              "      <th>B</th>\n",
              "      <th>C</th>\n",
              "      <th>D</th>\n",
              "    </tr>\n",
              "  </thead>\n",
              "  <tbody>\n",
              "    <tr>\n",
              "      <th>2020-09-01</th>\n",
              "      <td>-0.381740</td>\n",
              "      <td>2.063589</td>\n",
              "      <td>-0.156721</td>\n",
              "      <td>0.252971</td>\n",
              "    </tr>\n",
              "    <tr>\n",
              "      <th>2020-09-02</th>\n",
              "      <td>0.627578</td>\n",
              "      <td>-1.350872</td>\n",
              "      <td>-0.676075</td>\n",
              "      <td>-1.285219</td>\n",
              "    </tr>\n",
              "    <tr>\n",
              "      <th>2020-09-03</th>\n",
              "      <td>-0.113915</td>\n",
              "      <td>0.119141</td>\n",
              "      <td>0.045307</td>\n",
              "      <td>0.930560</td>\n",
              "    </tr>\n",
              "    <tr>\n",
              "      <th>2020-09-04</th>\n",
              "      <td>-0.532282</td>\n",
              "      <td>-0.310225</td>\n",
              "      <td>0.126354</td>\n",
              "      <td>-1.317009</td>\n",
              "    </tr>\n",
              "    <tr>\n",
              "      <th>2020-09-05</th>\n",
              "      <td>-1.066176</td>\n",
              "      <td>-0.364641</td>\n",
              "      <td>0.183499</td>\n",
              "      <td>-0.055795</td>\n",
              "    </tr>\n",
              "    <tr>\n",
              "      <th>2020-09-06</th>\n",
              "      <td>-0.403457</td>\n",
              "      <td>0.502904</td>\n",
              "      <td>2.228669</td>\n",
              "      <td>0.372644</td>\n",
              "    </tr>\n",
              "  </tbody>\n",
              "</table>\n",
              "</div>"
            ],
            "text/plain": [
              "                   A         B         C         D\n",
              "2020-09-01 -0.381740  2.063589 -0.156721  0.252971\n",
              "2020-09-02  0.627578 -1.350872 -0.676075 -1.285219\n",
              "2020-09-03 -0.113915  0.119141  0.045307  0.930560\n",
              "2020-09-04 -0.532282 -0.310225  0.126354 -1.317009\n",
              "2020-09-05 -1.066176 -0.364641  0.183499 -0.055795\n",
              "2020-09-06 -0.403457  0.502904  2.228669  0.372644"
            ]
          },
          "metadata": {
            "tags": []
          },
          "execution_count": 21
        }
      ]
    },
    {
      "cell_type": "code",
      "metadata": {
        "id": "lsZK1ovYJ0zp",
        "colab_type": "code",
        "colab": {
          "base_uri": "https://localhost:8080/",
          "height": 174
        },
        "outputId": "05bd0acc-8b2a-491c-9add-30f776995977"
      },
      "source": [
        "print(type(df))\n",
        "print(df.shape)\n",
        "print(df.ndim)\n",
        "print(df.size)\n",
        "print(df.dtypes)"
      ],
      "execution_count": null,
      "outputs": [
        {
          "output_type": "stream",
          "text": [
            "<class 'pandas.core.frame.DataFrame'>\n",
            "(6, 4)\n",
            "2\n",
            "24\n",
            "A    float64\n",
            "B    float64\n",
            "C    float64\n",
            "D    float64\n",
            "dtype: object\n"
          ],
          "name": "stdout"
        }
      ]
    },
    {
      "cell_type": "markdown",
      "metadata": {
        "id": "1op_5EZETme8",
        "colab_type": "text"
      },
      "source": [
        "# 데이터프레임 구조\n",
        "* index, column, values\n",
        "* \\[ \\] 을 활용한 데이터 slicing"
      ]
    },
    {
      "cell_type": "code",
      "metadata": {
        "id": "3UHauNV8Q9sy",
        "colab_type": "code",
        "colab": {
          "base_uri": "https://localhost:8080/",
          "height": 137
        },
        "outputId": "de607c29-9bfa-48ac-f450-c5fa2889725b"
      },
      "source": [
        "# index는 slicing 만 가능, 단독 사용 불가\n",
        "df['20200903':'20200905']"
      ],
      "execution_count": null,
      "outputs": [
        {
          "output_type": "execute_result",
          "data": {
            "text/html": [
              "<div>\n",
              "<style scoped>\n",
              "    .dataframe tbody tr th:only-of-type {\n",
              "        vertical-align: middle;\n",
              "    }\n",
              "\n",
              "    .dataframe tbody tr th {\n",
              "        vertical-align: top;\n",
              "    }\n",
              "\n",
              "    .dataframe thead th {\n",
              "        text-align: right;\n",
              "    }\n",
              "</style>\n",
              "<table border=\"1\" class=\"dataframe\">\n",
              "  <thead>\n",
              "    <tr style=\"text-align: right;\">\n",
              "      <th></th>\n",
              "      <th>A</th>\n",
              "      <th>B</th>\n",
              "      <th>C</th>\n",
              "      <th>D</th>\n",
              "    </tr>\n",
              "  </thead>\n",
              "  <tbody>\n",
              "    <tr>\n",
              "      <th>2020-09-03</th>\n",
              "      <td>-0.113915</td>\n",
              "      <td>0.119141</td>\n",
              "      <td>0.045307</td>\n",
              "      <td>0.930560</td>\n",
              "    </tr>\n",
              "    <tr>\n",
              "      <th>2020-09-04</th>\n",
              "      <td>-0.532282</td>\n",
              "      <td>-0.310225</td>\n",
              "      <td>0.126354</td>\n",
              "      <td>-1.317009</td>\n",
              "    </tr>\n",
              "    <tr>\n",
              "      <th>2020-09-05</th>\n",
              "      <td>-1.066176</td>\n",
              "      <td>-0.364641</td>\n",
              "      <td>0.183499</td>\n",
              "      <td>-0.055795</td>\n",
              "    </tr>\n",
              "  </tbody>\n",
              "</table>\n",
              "</div>"
            ],
            "text/plain": [
              "                   A         B         C         D\n",
              "2020-09-03 -0.113915  0.119141  0.045307  0.930560\n",
              "2020-09-04 -0.532282 -0.310225  0.126354 -1.317009\n",
              "2020-09-05 -1.066176 -0.364641  0.183499 -0.055795"
            ]
          },
          "metadata": {
            "tags": []
          },
          "execution_count": 23
        }
      ]
    },
    {
      "cell_type": "code",
      "metadata": {
        "id": "Cd2jQkR6UCWV",
        "colab_type": "code",
        "colab": {
          "base_uri": "https://localhost:8080/",
          "height": 139
        },
        "outputId": "a9bfc6f7-359f-43bf-e3f6-1da06b39f550"
      },
      "source": [
        "# column도 단독 사용 가능\n",
        "# df.C 로도 동일한 결과를 나나냄\n",
        "df['C']"
      ],
      "execution_count": null,
      "outputs": [
        {
          "output_type": "execute_result",
          "data": {
            "text/plain": [
              "2020-09-01   -0.156721\n",
              "2020-09-02   -0.676075\n",
              "2020-09-03    0.045307\n",
              "2020-09-04    0.126354\n",
              "2020-09-05    0.183499\n",
              "2020-09-06    2.228669\n",
              "Freq: D, Name: C, dtype: float64"
            ]
          },
          "metadata": {
            "tags": []
          },
          "execution_count": 24
        }
      ]
    },
    {
      "cell_type": "code",
      "metadata": {
        "id": "I4kgW-mZVB3y",
        "colab_type": "code",
        "colab": {
          "base_uri": "https://localhost:8080/",
          "height": 226
        },
        "outputId": "d7ac7a9c-eddf-4414-b078-842894363715"
      },
      "source": [
        "# column을 복수로 사용하기 위해서는 리스트로 전달\n",
        "df[['C','A']]"
      ],
      "execution_count": null,
      "outputs": [
        {
          "output_type": "execute_result",
          "data": {
            "text/html": [
              "<div>\n",
              "<style scoped>\n",
              "    .dataframe tbody tr th:only-of-type {\n",
              "        vertical-align: middle;\n",
              "    }\n",
              "\n",
              "    .dataframe tbody tr th {\n",
              "        vertical-align: top;\n",
              "    }\n",
              "\n",
              "    .dataframe thead th {\n",
              "        text-align: right;\n",
              "    }\n",
              "</style>\n",
              "<table border=\"1\" class=\"dataframe\">\n",
              "  <thead>\n",
              "    <tr style=\"text-align: right;\">\n",
              "      <th></th>\n",
              "      <th>C</th>\n",
              "      <th>A</th>\n",
              "    </tr>\n",
              "  </thead>\n",
              "  <tbody>\n",
              "    <tr>\n",
              "      <th>2020-09-01</th>\n",
              "      <td>-0.156721</td>\n",
              "      <td>-0.381740</td>\n",
              "    </tr>\n",
              "    <tr>\n",
              "      <th>2020-09-02</th>\n",
              "      <td>-0.676075</td>\n",
              "      <td>0.627578</td>\n",
              "    </tr>\n",
              "    <tr>\n",
              "      <th>2020-09-03</th>\n",
              "      <td>0.045307</td>\n",
              "      <td>-0.113915</td>\n",
              "    </tr>\n",
              "    <tr>\n",
              "      <th>2020-09-04</th>\n",
              "      <td>0.126354</td>\n",
              "      <td>-0.532282</td>\n",
              "    </tr>\n",
              "    <tr>\n",
              "      <th>2020-09-05</th>\n",
              "      <td>0.183499</td>\n",
              "      <td>-1.066176</td>\n",
              "    </tr>\n",
              "    <tr>\n",
              "      <th>2020-09-06</th>\n",
              "      <td>2.228669</td>\n",
              "      <td>-0.403457</td>\n",
              "    </tr>\n",
              "  </tbody>\n",
              "</table>\n",
              "</div>"
            ],
            "text/plain": [
              "                   C         A\n",
              "2020-09-01 -0.156721 -0.381740\n",
              "2020-09-02 -0.676075  0.627578\n",
              "2020-09-03  0.045307 -0.113915\n",
              "2020-09-04  0.126354 -0.532282\n",
              "2020-09-05  0.183499 -1.066176\n",
              "2020-09-06  2.228669 -0.403457"
            ]
          },
          "metadata": {
            "tags": []
          },
          "execution_count": 25
        }
      ]
    },
    {
      "cell_type": "markdown",
      "metadata": {
        "id": "-Qn3lG-CW90R",
        "colab_type": "text"
      },
      "source": [
        "* **pd.loc[ ]** 를 활용한 데이터 slicing\n",
        "* **pd.at[ ]** 스칼라 값"
      ]
    },
    {
      "cell_type": "code",
      "metadata": {
        "id": "DVgyfVvaVez0",
        "colab_type": "code",
        "colab": {
          "base_uri": "https://localhost:8080/",
          "height": 34
        },
        "outputId": "7e07900f-8a8c-40bc-ba78-da2c46b7481e"
      },
      "source": [
        "# index, column의 순서로 입력 \n",
        "# index에 하나의 값만 입력 가능\n",
        "# index는 생략할 수 없음\n",
        "df.loc['20200901','A']"
      ],
      "execution_count": null,
      "outputs": [
        {
          "output_type": "execute_result",
          "data": {
            "text/plain": [
              "-0.3817399192540805"
            ]
          },
          "metadata": {
            "tags": []
          },
          "execution_count": 26
        }
      ]
    },
    {
      "cell_type": "code",
      "metadata": {
        "id": "zpkJYtRHYt2B",
        "colab_type": "code",
        "colab": {
          "base_uri": "https://localhost:8080/",
          "height": 104
        },
        "outputId": "c155767d-7799-4633-a41a-9db0ccf754a3"
      },
      "source": [
        "# column은 생략 가능\n",
        "df.loc['20200903']"
      ],
      "execution_count": null,
      "outputs": [
        {
          "output_type": "execute_result",
          "data": {
            "text/plain": [
              "A   -0.113915\n",
              "B    0.119141\n",
              "C    0.045307\n",
              "D    0.930560\n",
              "Name: 2020-09-03 00:00:00, dtype: float64"
            ]
          },
          "metadata": {
            "tags": []
          },
          "execution_count": 27
        }
      ]
    },
    {
      "cell_type": "code",
      "metadata": {
        "id": "Q0xrKhiRXY-c",
        "colab_type": "code",
        "colab": {
          "base_uri": "https://localhost:8080/",
          "height": 86
        },
        "outputId": "542ccef8-495b-4f14-f223-4f562f5401b2"
      },
      "source": [
        "# index에서 슬라이싱 가능\n",
        "df.loc['20200903':'20200905','A']"
      ],
      "execution_count": null,
      "outputs": [
        {
          "output_type": "execute_result",
          "data": {
            "text/plain": [
              "2020-09-03   -0.113915\n",
              "2020-09-04   -0.532282\n",
              "2020-09-05   -1.066176\n",
              "Freq: D, Name: A, dtype: float64"
            ]
          },
          "metadata": {
            "tags": []
          },
          "execution_count": 28
        }
      ]
    },
    {
      "cell_type": "code",
      "metadata": {
        "id": "iXWm7uLmXuWi",
        "colab_type": "code",
        "colab": {
          "base_uri": "https://localhost:8080/",
          "height": 137
        },
        "outputId": "6ce37d14-a19d-43d8-ebab-e49129422684"
      },
      "source": [
        "# column에서 슬라이싱 가능\n",
        "df.loc['20200903':'20200905','A':'C']"
      ],
      "execution_count": null,
      "outputs": [
        {
          "output_type": "execute_result",
          "data": {
            "text/html": [
              "<div>\n",
              "<style scoped>\n",
              "    .dataframe tbody tr th:only-of-type {\n",
              "        vertical-align: middle;\n",
              "    }\n",
              "\n",
              "    .dataframe tbody tr th {\n",
              "        vertical-align: top;\n",
              "    }\n",
              "\n",
              "    .dataframe thead th {\n",
              "        text-align: right;\n",
              "    }\n",
              "</style>\n",
              "<table border=\"1\" class=\"dataframe\">\n",
              "  <thead>\n",
              "    <tr style=\"text-align: right;\">\n",
              "      <th></th>\n",
              "      <th>A</th>\n",
              "      <th>B</th>\n",
              "      <th>C</th>\n",
              "    </tr>\n",
              "  </thead>\n",
              "  <tbody>\n",
              "    <tr>\n",
              "      <th>2020-09-03</th>\n",
              "      <td>-0.113915</td>\n",
              "      <td>0.119141</td>\n",
              "      <td>0.045307</td>\n",
              "    </tr>\n",
              "    <tr>\n",
              "      <th>2020-09-04</th>\n",
              "      <td>-0.532282</td>\n",
              "      <td>-0.310225</td>\n",
              "      <td>0.126354</td>\n",
              "    </tr>\n",
              "    <tr>\n",
              "      <th>2020-09-05</th>\n",
              "      <td>-1.066176</td>\n",
              "      <td>-0.364641</td>\n",
              "      <td>0.183499</td>\n",
              "    </tr>\n",
              "  </tbody>\n",
              "</table>\n",
              "</div>"
            ],
            "text/plain": [
              "                   A         B         C\n",
              "2020-09-03 -0.113915  0.119141  0.045307\n",
              "2020-09-04 -0.532282 -0.310225  0.126354\n",
              "2020-09-05 -1.066176 -0.364641  0.183499"
            ]
          },
          "metadata": {
            "tags": []
          },
          "execution_count": 29
        }
      ]
    },
    {
      "cell_type": "code",
      "metadata": {
        "id": "UDhYdSZ7X6af",
        "colab_type": "code",
        "colab": {
          "base_uri": "https://localhost:8080/",
          "height": 137
        },
        "outputId": "7333b7a0-97f6-47b0-ac12-b4becd743753"
      },
      "source": [
        "# column은 리스트로 입력 가능\n",
        "df.loc['20200903':'20200905',['A','C','B','A']]"
      ],
      "execution_count": null,
      "outputs": [
        {
          "output_type": "execute_result",
          "data": {
            "text/html": [
              "<div>\n",
              "<style scoped>\n",
              "    .dataframe tbody tr th:only-of-type {\n",
              "        vertical-align: middle;\n",
              "    }\n",
              "\n",
              "    .dataframe tbody tr th {\n",
              "        vertical-align: top;\n",
              "    }\n",
              "\n",
              "    .dataframe thead th {\n",
              "        text-align: right;\n",
              "    }\n",
              "</style>\n",
              "<table border=\"1\" class=\"dataframe\">\n",
              "  <thead>\n",
              "    <tr style=\"text-align: right;\">\n",
              "      <th></th>\n",
              "      <th>A</th>\n",
              "      <th>C</th>\n",
              "      <th>B</th>\n",
              "      <th>A</th>\n",
              "    </tr>\n",
              "  </thead>\n",
              "  <tbody>\n",
              "    <tr>\n",
              "      <th>2020-09-03</th>\n",
              "      <td>-0.113915</td>\n",
              "      <td>0.045307</td>\n",
              "      <td>0.119141</td>\n",
              "      <td>-0.113915</td>\n",
              "    </tr>\n",
              "    <tr>\n",
              "      <th>2020-09-04</th>\n",
              "      <td>-0.532282</td>\n",
              "      <td>0.126354</td>\n",
              "      <td>-0.310225</td>\n",
              "      <td>-0.532282</td>\n",
              "    </tr>\n",
              "    <tr>\n",
              "      <th>2020-09-05</th>\n",
              "      <td>-1.066176</td>\n",
              "      <td>0.183499</td>\n",
              "      <td>-0.364641</td>\n",
              "      <td>-1.066176</td>\n",
              "    </tr>\n",
              "  </tbody>\n",
              "</table>\n",
              "</div>"
            ],
            "text/plain": [
              "                   A         C         B         A\n",
              "2020-09-03 -0.113915  0.045307  0.119141 -0.113915\n",
              "2020-09-04 -0.532282  0.126354 -0.310225 -0.532282\n",
              "2020-09-05 -1.066176  0.183499 -0.364641 -1.066176"
            ]
          },
          "metadata": {
            "tags": []
          },
          "execution_count": 30
        }
      ]
    },
    {
      "cell_type": "code",
      "metadata": {
        "id": "mKptTCbHWvLD",
        "colab_type": "code",
        "colab": {
          "base_uri": "https://localhost:8080/",
          "height": 34
        },
        "outputId": "2ead1e90-18da-404d-89b1-e042c2871cac"
      },
      "source": [
        "# 하나의 값을 확인 할 경우 적용\n",
        "df.at['20200903','A']"
      ],
      "execution_count": null,
      "outputs": [
        {
          "output_type": "execute_result",
          "data": {
            "text/plain": [
              "-0.11391511847020103"
            ]
          },
          "metadata": {
            "tags": []
          },
          "execution_count": 31
        }
      ]
    },
    {
      "cell_type": "markdown",
      "metadata": {
        "id": "DSB1XBpaZTBD",
        "colab_type": "text"
      },
      "source": [
        "* **pd.iloc[ ]** 를 활용한 데이터 slicing\n",
        "* **pd.iat[ ]** 를 하나의 스칼라 값"
      ]
    },
    {
      "cell_type": "code",
      "metadata": {
        "id": "fwQNZOMiYTwq",
        "colab_type": "code",
        "colab": {
          "base_uri": "https://localhost:8080/",
          "height": 34
        },
        "outputId": "8b719ae9-3e28-4698-e7a6-45c9bb1692bb"
      },
      "source": [
        "# index, column 순서로 숫자로 입력가능 \n",
        "df.iloc[0,0]"
      ],
      "execution_count": null,
      "outputs": [
        {
          "output_type": "execute_result",
          "data": {
            "text/plain": [
              "-0.3817399192540805"
            ]
          },
          "metadata": {
            "tags": []
          },
          "execution_count": 32
        }
      ]
    },
    {
      "cell_type": "code",
      "metadata": {
        "id": "2zsSDHegeg6X",
        "colab_type": "code",
        "colab": {
          "base_uri": "https://localhost:8080/",
          "height": 104
        },
        "outputId": "55d4cb28-47c9-4f48-a29c-48e001bc4ecd"
      },
      "source": [
        "# column 넘버는 생략 가능\n",
        "df.iloc[0]"
      ],
      "execution_count": null,
      "outputs": [
        {
          "output_type": "execute_result",
          "data": {
            "text/plain": [
              "A   -0.381740\n",
              "B    2.063589\n",
              "C   -0.156721\n",
              "D    0.252971\n",
              "Name: 2020-09-01 00:00:00, dtype: float64"
            ]
          },
          "metadata": {
            "tags": []
          },
          "execution_count": 33
        }
      ]
    },
    {
      "cell_type": "code",
      "metadata": {
        "id": "KV5aSf8mewcW",
        "colab_type": "code",
        "colab": {
          "base_uri": "https://localhost:8080/",
          "height": 107
        },
        "outputId": "da78e39a-94e3-46a6-86c1-6721c3c9e03f"
      },
      "source": [
        "# index에서 슬라이싱 가능\n",
        "df.iloc[1:3]"
      ],
      "execution_count": null,
      "outputs": [
        {
          "output_type": "execute_result",
          "data": {
            "text/html": [
              "<div>\n",
              "<style scoped>\n",
              "    .dataframe tbody tr th:only-of-type {\n",
              "        vertical-align: middle;\n",
              "    }\n",
              "\n",
              "    .dataframe tbody tr th {\n",
              "        vertical-align: top;\n",
              "    }\n",
              "\n",
              "    .dataframe thead th {\n",
              "        text-align: right;\n",
              "    }\n",
              "</style>\n",
              "<table border=\"1\" class=\"dataframe\">\n",
              "  <thead>\n",
              "    <tr style=\"text-align: right;\">\n",
              "      <th></th>\n",
              "      <th>A</th>\n",
              "      <th>B</th>\n",
              "      <th>C</th>\n",
              "      <th>D</th>\n",
              "    </tr>\n",
              "  </thead>\n",
              "  <tbody>\n",
              "    <tr>\n",
              "      <th>2020-09-02</th>\n",
              "      <td>0.627578</td>\n",
              "      <td>-1.350872</td>\n",
              "      <td>-0.676075</td>\n",
              "      <td>-1.285219</td>\n",
              "    </tr>\n",
              "    <tr>\n",
              "      <th>2020-09-03</th>\n",
              "      <td>-0.113915</td>\n",
              "      <td>0.119141</td>\n",
              "      <td>0.045307</td>\n",
              "      <td>0.930560</td>\n",
              "    </tr>\n",
              "  </tbody>\n",
              "</table>\n",
              "</div>"
            ],
            "text/plain": [
              "                   A         B         C         D\n",
              "2020-09-02  0.627578 -1.350872 -0.676075 -1.285219\n",
              "2020-09-03 -0.113915  0.119141  0.045307  0.930560"
            ]
          },
          "metadata": {
            "tags": []
          },
          "execution_count": 34
        }
      ]
    },
    {
      "cell_type": "code",
      "metadata": {
        "id": "c48KzuU2fFnf",
        "colab_type": "code",
        "colab": {
          "base_uri": "https://localhost:8080/",
          "height": 107
        },
        "outputId": "88639923-fcd7-46c6-9959-920671107b9c"
      },
      "source": [
        "# column에서 슬라이싱 가능\n",
        "df.iloc[1:3,2:4]"
      ],
      "execution_count": null,
      "outputs": [
        {
          "output_type": "execute_result",
          "data": {
            "text/html": [
              "<div>\n",
              "<style scoped>\n",
              "    .dataframe tbody tr th:only-of-type {\n",
              "        vertical-align: middle;\n",
              "    }\n",
              "\n",
              "    .dataframe tbody tr th {\n",
              "        vertical-align: top;\n",
              "    }\n",
              "\n",
              "    .dataframe thead th {\n",
              "        text-align: right;\n",
              "    }\n",
              "</style>\n",
              "<table border=\"1\" class=\"dataframe\">\n",
              "  <thead>\n",
              "    <tr style=\"text-align: right;\">\n",
              "      <th></th>\n",
              "      <th>C</th>\n",
              "      <th>D</th>\n",
              "    </tr>\n",
              "  </thead>\n",
              "  <tbody>\n",
              "    <tr>\n",
              "      <th>2020-09-02</th>\n",
              "      <td>-0.676075</td>\n",
              "      <td>-1.285219</td>\n",
              "    </tr>\n",
              "    <tr>\n",
              "      <th>2020-09-03</th>\n",
              "      <td>0.045307</td>\n",
              "      <td>0.930560</td>\n",
              "    </tr>\n",
              "  </tbody>\n",
              "</table>\n",
              "</div>"
            ],
            "text/plain": [
              "                   C         D\n",
              "2020-09-02 -0.676075 -1.285219\n",
              "2020-09-03  0.045307  0.930560"
            ]
          },
          "metadata": {
            "tags": []
          },
          "execution_count": 35
        }
      ]
    },
    {
      "cell_type": "code",
      "metadata": {
        "id": "A6IhlelqfPMB",
        "colab_type": "code",
        "colab": {
          "base_uri": "https://localhost:8080/",
          "height": 107
        },
        "outputId": "2fce4a02-9dbc-4e8a-e8a0-3ed4e881a618"
      },
      "source": [
        "# column은 리스트로 입력 가능\n",
        "df.iloc[1:3,[1,3,0,1]]"
      ],
      "execution_count": null,
      "outputs": [
        {
          "output_type": "execute_result",
          "data": {
            "text/html": [
              "<div>\n",
              "<style scoped>\n",
              "    .dataframe tbody tr th:only-of-type {\n",
              "        vertical-align: middle;\n",
              "    }\n",
              "\n",
              "    .dataframe tbody tr th {\n",
              "        vertical-align: top;\n",
              "    }\n",
              "\n",
              "    .dataframe thead th {\n",
              "        text-align: right;\n",
              "    }\n",
              "</style>\n",
              "<table border=\"1\" class=\"dataframe\">\n",
              "  <thead>\n",
              "    <tr style=\"text-align: right;\">\n",
              "      <th></th>\n",
              "      <th>B</th>\n",
              "      <th>D</th>\n",
              "      <th>A</th>\n",
              "      <th>B</th>\n",
              "    </tr>\n",
              "  </thead>\n",
              "  <tbody>\n",
              "    <tr>\n",
              "      <th>2020-09-02</th>\n",
              "      <td>-1.350872</td>\n",
              "      <td>-1.285219</td>\n",
              "      <td>0.627578</td>\n",
              "      <td>-1.350872</td>\n",
              "    </tr>\n",
              "    <tr>\n",
              "      <th>2020-09-03</th>\n",
              "      <td>0.119141</td>\n",
              "      <td>0.930560</td>\n",
              "      <td>-0.113915</td>\n",
              "      <td>0.119141</td>\n",
              "    </tr>\n",
              "  </tbody>\n",
              "</table>\n",
              "</div>"
            ],
            "text/plain": [
              "                   B         D         A         B\n",
              "2020-09-02 -1.350872 -1.285219  0.627578 -1.350872\n",
              "2020-09-03  0.119141  0.930560 -0.113915  0.119141"
            ]
          },
          "metadata": {
            "tags": []
          },
          "execution_count": 36
        }
      ]
    },
    {
      "cell_type": "code",
      "metadata": {
        "id": "svOaD6f_Ymex",
        "colab_type": "code",
        "colab": {
          "base_uri": "https://localhost:8080/",
          "height": 34
        },
        "outputId": "f9e1d9e3-cd8c-49e2-dc5e-04f759bce547"
      },
      "source": [
        "# 하나의 값 확인\n",
        "df.iat[1,1]"
      ],
      "execution_count": null,
      "outputs": [
        {
          "output_type": "execute_result",
          "data": {
            "text/plain": [
              "-1.35087233227142"
            ]
          },
          "metadata": {
            "tags": []
          },
          "execution_count": 37
        }
      ]
    },
    {
      "cell_type": "markdown",
      "metadata": {
        "id": "U23bOuRdSQeU",
        "colab_type": "text"
      },
      "source": [
        "# 데이터프레임 값 확인\n",
        "* pd.head( )\n",
        "* pd.tail( )\n",
        "* pd.index\n",
        "* pd.columns\n",
        "* pd.values\n",
        "* pd.describe( )"
      ]
    },
    {
      "cell_type": "code",
      "metadata": {
        "id": "Cn2T_TH-R75g",
        "colab_type": "code",
        "colab": {
          "base_uri": "https://localhost:8080/",
          "height": 137
        },
        "outputId": "36c5fa09-58d2-4b85-9f26-ac0dcff1e84d"
      },
      "source": [
        "df.head(3)"
      ],
      "execution_count": null,
      "outputs": [
        {
          "output_type": "execute_result",
          "data": {
            "text/html": [
              "<div>\n",
              "<style scoped>\n",
              "    .dataframe tbody tr th:only-of-type {\n",
              "        vertical-align: middle;\n",
              "    }\n",
              "\n",
              "    .dataframe tbody tr th {\n",
              "        vertical-align: top;\n",
              "    }\n",
              "\n",
              "    .dataframe thead th {\n",
              "        text-align: right;\n",
              "    }\n",
              "</style>\n",
              "<table border=\"1\" class=\"dataframe\">\n",
              "  <thead>\n",
              "    <tr style=\"text-align: right;\">\n",
              "      <th></th>\n",
              "      <th>A</th>\n",
              "      <th>B</th>\n",
              "      <th>C</th>\n",
              "      <th>D</th>\n",
              "    </tr>\n",
              "  </thead>\n",
              "  <tbody>\n",
              "    <tr>\n",
              "      <th>2020-09-01</th>\n",
              "      <td>-0.381740</td>\n",
              "      <td>2.063589</td>\n",
              "      <td>-0.156721</td>\n",
              "      <td>0.252971</td>\n",
              "    </tr>\n",
              "    <tr>\n",
              "      <th>2020-09-02</th>\n",
              "      <td>0.627578</td>\n",
              "      <td>-1.350872</td>\n",
              "      <td>-0.676075</td>\n",
              "      <td>-1.285219</td>\n",
              "    </tr>\n",
              "    <tr>\n",
              "      <th>2020-09-03</th>\n",
              "      <td>-0.113915</td>\n",
              "      <td>0.119141</td>\n",
              "      <td>0.045307</td>\n",
              "      <td>0.930560</td>\n",
              "    </tr>\n",
              "  </tbody>\n",
              "</table>\n",
              "</div>"
            ],
            "text/plain": [
              "                   A         B         C         D\n",
              "2020-09-01 -0.381740  2.063589 -0.156721  0.252971\n",
              "2020-09-02  0.627578 -1.350872 -0.676075 -1.285219\n",
              "2020-09-03 -0.113915  0.119141  0.045307  0.930560"
            ]
          },
          "metadata": {
            "tags": []
          },
          "execution_count": 38
        }
      ]
    },
    {
      "cell_type": "code",
      "metadata": {
        "id": "CfnAt880SdKz",
        "colab_type": "code",
        "colab": {
          "base_uri": "https://localhost:8080/",
          "height": 137
        },
        "outputId": "d7882fd0-2ba4-4023-b138-a2cf2f880ec1"
      },
      "source": [
        "df.tail(3)"
      ],
      "execution_count": null,
      "outputs": [
        {
          "output_type": "execute_result",
          "data": {
            "text/html": [
              "<div>\n",
              "<style scoped>\n",
              "    .dataframe tbody tr th:only-of-type {\n",
              "        vertical-align: middle;\n",
              "    }\n",
              "\n",
              "    .dataframe tbody tr th {\n",
              "        vertical-align: top;\n",
              "    }\n",
              "\n",
              "    .dataframe thead th {\n",
              "        text-align: right;\n",
              "    }\n",
              "</style>\n",
              "<table border=\"1\" class=\"dataframe\">\n",
              "  <thead>\n",
              "    <tr style=\"text-align: right;\">\n",
              "      <th></th>\n",
              "      <th>A</th>\n",
              "      <th>B</th>\n",
              "      <th>C</th>\n",
              "      <th>D</th>\n",
              "    </tr>\n",
              "  </thead>\n",
              "  <tbody>\n",
              "    <tr>\n",
              "      <th>2020-09-04</th>\n",
              "      <td>-0.532282</td>\n",
              "      <td>-0.310225</td>\n",
              "      <td>0.126354</td>\n",
              "      <td>-1.317009</td>\n",
              "    </tr>\n",
              "    <tr>\n",
              "      <th>2020-09-05</th>\n",
              "      <td>-1.066176</td>\n",
              "      <td>-0.364641</td>\n",
              "      <td>0.183499</td>\n",
              "      <td>-0.055795</td>\n",
              "    </tr>\n",
              "    <tr>\n",
              "      <th>2020-09-06</th>\n",
              "      <td>-0.403457</td>\n",
              "      <td>0.502904</td>\n",
              "      <td>2.228669</td>\n",
              "      <td>0.372644</td>\n",
              "    </tr>\n",
              "  </tbody>\n",
              "</table>\n",
              "</div>"
            ],
            "text/plain": [
              "                   A         B         C         D\n",
              "2020-09-04 -0.532282 -0.310225  0.126354 -1.317009\n",
              "2020-09-05 -1.066176 -0.364641  0.183499 -0.055795\n",
              "2020-09-06 -0.403457  0.502904  2.228669  0.372644"
            ]
          },
          "metadata": {
            "tags": []
          },
          "execution_count": 39
        }
      ]
    },
    {
      "cell_type": "code",
      "metadata": {
        "id": "Ia9I5lRVSlhF",
        "colab_type": "code",
        "colab": {
          "base_uri": "https://localhost:8080/",
          "height": 69
        },
        "outputId": "91115d78-a923-4751-fad1-b45a924f067a"
      },
      "source": [
        "df.index"
      ],
      "execution_count": null,
      "outputs": [
        {
          "output_type": "execute_result",
          "data": {
            "text/plain": [
              "DatetimeIndex(['2020-09-01', '2020-09-02', '2020-09-03', '2020-09-04',\n",
              "               '2020-09-05', '2020-09-06'],\n",
              "              dtype='datetime64[ns]', freq='D')"
            ]
          },
          "metadata": {
            "tags": []
          },
          "execution_count": 40
        }
      ]
    },
    {
      "cell_type": "code",
      "metadata": {
        "id": "EZFqBerGStTZ",
        "colab_type": "code",
        "colab": {
          "base_uri": "https://localhost:8080/",
          "height": 34
        },
        "outputId": "08b5e117-57db-46ef-d11e-a9113178aa4b"
      },
      "source": [
        "df.columns"
      ],
      "execution_count": null,
      "outputs": [
        {
          "output_type": "execute_result",
          "data": {
            "text/plain": [
              "Index(['A', 'B', 'C', 'D'], dtype='object')"
            ]
          },
          "metadata": {
            "tags": []
          },
          "execution_count": 41
        }
      ]
    },
    {
      "cell_type": "code",
      "metadata": {
        "id": "CJlBbc7VSvkU",
        "colab_type": "code",
        "colab": {
          "base_uri": "https://localhost:8080/",
          "height": 121
        },
        "outputId": "6174934f-8e08-4d78-8437-a5eff93ebdd1"
      },
      "source": [
        "df.values"
      ],
      "execution_count": null,
      "outputs": [
        {
          "output_type": "execute_result",
          "data": {
            "text/plain": [
              "array([[-0.38173992,  2.06358898, -0.1567215 ,  0.25297133],\n",
              "       [ 0.62757807, -1.35087233, -0.67607451, -1.28521897],\n",
              "       [-0.11391512,  0.1191415 ,  0.04530693,  0.93056039],\n",
              "       [-0.53228159, -0.31022535,  0.12635413, -1.3170093 ],\n",
              "       [-1.06617564, -0.36464125,  0.18349908, -0.05579519],\n",
              "       [-0.4034572 ,  0.50290383,  2.22866906,  0.37264393]])"
            ]
          },
          "metadata": {
            "tags": []
          },
          "execution_count": 42
        }
      ]
    },
    {
      "cell_type": "code",
      "metadata": {
        "id": "pCLCbUvESyme",
        "colab_type": "code",
        "colab": {
          "base_uri": "https://localhost:8080/",
          "height": 286
        },
        "outputId": "53a01b0b-b94d-4ad3-ac63-7d2072495c86"
      },
      "source": [
        "df.describe()"
      ],
      "execution_count": null,
      "outputs": [
        {
          "output_type": "execute_result",
          "data": {
            "text/html": [
              "<div>\n",
              "<style scoped>\n",
              "    .dataframe tbody tr th:only-of-type {\n",
              "        vertical-align: middle;\n",
              "    }\n",
              "\n",
              "    .dataframe tbody tr th {\n",
              "        vertical-align: top;\n",
              "    }\n",
              "\n",
              "    .dataframe thead th {\n",
              "        text-align: right;\n",
              "    }\n",
              "</style>\n",
              "<table border=\"1\" class=\"dataframe\">\n",
              "  <thead>\n",
              "    <tr style=\"text-align: right;\">\n",
              "      <th></th>\n",
              "      <th>A</th>\n",
              "      <th>B</th>\n",
              "      <th>C</th>\n",
              "      <th>D</th>\n",
              "    </tr>\n",
              "  </thead>\n",
              "  <tbody>\n",
              "    <tr>\n",
              "      <th>count</th>\n",
              "      <td>6.000000</td>\n",
              "      <td>6.000000</td>\n",
              "      <td>6.000000</td>\n",
              "      <td>6.000000</td>\n",
              "    </tr>\n",
              "    <tr>\n",
              "      <th>mean</th>\n",
              "      <td>-0.311665</td>\n",
              "      <td>0.109983</td>\n",
              "      <td>0.291839</td>\n",
              "      <td>-0.183641</td>\n",
              "    </tr>\n",
              "    <tr>\n",
              "      <th>std</th>\n",
              "      <td>0.557239</td>\n",
              "      <td>1.140788</td>\n",
              "      <td>0.998927</td>\n",
              "      <td>0.922591</td>\n",
              "    </tr>\n",
              "    <tr>\n",
              "      <th>min</th>\n",
              "      <td>-1.066176</td>\n",
              "      <td>-1.350872</td>\n",
              "      <td>-0.676075</td>\n",
              "      <td>-1.317009</td>\n",
              "    </tr>\n",
              "    <tr>\n",
              "      <th>25%</th>\n",
              "      <td>-0.500075</td>\n",
              "      <td>-0.351037</td>\n",
              "      <td>-0.106214</td>\n",
              "      <td>-0.977863</td>\n",
              "    </tr>\n",
              "    <tr>\n",
              "      <th>50%</th>\n",
              "      <td>-0.392599</td>\n",
              "      <td>-0.095542</td>\n",
              "      <td>0.085831</td>\n",
              "      <td>0.098588</td>\n",
              "    </tr>\n",
              "    <tr>\n",
              "      <th>75%</th>\n",
              "      <td>-0.180871</td>\n",
              "      <td>0.406963</td>\n",
              "      <td>0.169213</td>\n",
              "      <td>0.342726</td>\n",
              "    </tr>\n",
              "    <tr>\n",
              "      <th>max</th>\n",
              "      <td>0.627578</td>\n",
              "      <td>2.063589</td>\n",
              "      <td>2.228669</td>\n",
              "      <td>0.930560</td>\n",
              "    </tr>\n",
              "  </tbody>\n",
              "</table>\n",
              "</div>"
            ],
            "text/plain": [
              "              A         B         C         D\n",
              "count  6.000000  6.000000  6.000000  6.000000\n",
              "mean  -0.311665  0.109983  0.291839 -0.183641\n",
              "std    0.557239  1.140788  0.998927  0.922591\n",
              "min   -1.066176 -1.350872 -0.676075 -1.317009\n",
              "25%   -0.500075 -0.351037 -0.106214 -0.977863\n",
              "50%   -0.392599 -0.095542  0.085831  0.098588\n",
              "75%   -0.180871  0.406963  0.169213  0.342726\n",
              "max    0.627578  2.063589  2.228669  0.930560"
            ]
          },
          "metadata": {
            "tags": []
          },
          "execution_count": 44
        }
      ]
    },
    {
      "cell_type": "markdown",
      "metadata": {
        "id": "c3U2DKFKMRNw",
        "colab_type": "text"
      },
      "source": [
        "# 데이터프레임 순서 변환\n",
        "* pd.T\n",
        "* pd.sort_index( )\n",
        "* pd.sort_values( )"
      ]
    },
    {
      "cell_type": "code",
      "metadata": {
        "id": "RIta8twYS5qZ",
        "colab_type": "code",
        "colab": {
          "base_uri": "https://localhost:8080/",
          "height": 166
        },
        "outputId": "028c238e-6067-491a-d528-8b4e65d54ce5"
      },
      "source": [
        "df.T"
      ],
      "execution_count": null,
      "outputs": [
        {
          "output_type": "execute_result",
          "data": {
            "text/html": [
              "<div>\n",
              "<style scoped>\n",
              "    .dataframe tbody tr th:only-of-type {\n",
              "        vertical-align: middle;\n",
              "    }\n",
              "\n",
              "    .dataframe tbody tr th {\n",
              "        vertical-align: top;\n",
              "    }\n",
              "\n",
              "    .dataframe thead th {\n",
              "        text-align: right;\n",
              "    }\n",
              "</style>\n",
              "<table border=\"1\" class=\"dataframe\">\n",
              "  <thead>\n",
              "    <tr style=\"text-align: right;\">\n",
              "      <th></th>\n",
              "      <th>2020-09-01</th>\n",
              "      <th>2020-09-02</th>\n",
              "      <th>2020-09-03</th>\n",
              "      <th>2020-09-04</th>\n",
              "      <th>2020-09-05</th>\n",
              "      <th>2020-09-06</th>\n",
              "    </tr>\n",
              "  </thead>\n",
              "  <tbody>\n",
              "    <tr>\n",
              "      <th>A</th>\n",
              "      <td>0.669573</td>\n",
              "      <td>1.102297</td>\n",
              "      <td>0.151348</td>\n",
              "      <td>0.558475</td>\n",
              "      <td>1.872642</td>\n",
              "      <td>0.396975</td>\n",
              "    </tr>\n",
              "    <tr>\n",
              "      <th>B</th>\n",
              "      <td>-1.539443</td>\n",
              "      <td>0.049381</td>\n",
              "      <td>-0.536063</td>\n",
              "      <td>0.108676</td>\n",
              "      <td>0.566274</td>\n",
              "      <td>-1.462933</td>\n",
              "    </tr>\n",
              "    <tr>\n",
              "      <th>C</th>\n",
              "      <td>-1.760205</td>\n",
              "      <td>-0.332885</td>\n",
              "      <td>0.808539</td>\n",
              "      <td>0.612921</td>\n",
              "      <td>-0.631545</td>\n",
              "      <td>-0.698484</td>\n",
              "    </tr>\n",
              "    <tr>\n",
              "      <th>D</th>\n",
              "      <td>2.067187</td>\n",
              "      <td>0.116439</td>\n",
              "      <td>2.142285</td>\n",
              "      <td>-1.377114</td>\n",
              "      <td>1.139854</td>\n",
              "      <td>0.695243</td>\n",
              "    </tr>\n",
              "  </tbody>\n",
              "</table>\n",
              "</div>"
            ],
            "text/plain": [
              "   2020-09-01  2020-09-02  2020-09-03  2020-09-04  2020-09-05  2020-09-06\n",
              "A    0.669573    1.102297    0.151348    0.558475    1.872642    0.396975\n",
              "B   -1.539443    0.049381   -0.536063    0.108676    0.566274   -1.462933\n",
              "C   -1.760205   -0.332885    0.808539    0.612921   -0.631545   -0.698484\n",
              "D    2.067187    0.116439    2.142285   -1.377114    1.139854    0.695243"
            ]
          },
          "metadata": {
            "tags": []
          },
          "execution_count": 74
        }
      ]
    },
    {
      "cell_type": "code",
      "metadata": {
        "id": "1b0PxERoTTbI",
        "colab_type": "code",
        "colab": {
          "base_uri": "https://localhost:8080/",
          "height": 226
        },
        "outputId": "fed49cdf-ce46-496a-9d0f-adb4deecfeec"
      },
      "source": [
        "df.sort_index(axis=0,ascending=False)"
      ],
      "execution_count": null,
      "outputs": [
        {
          "output_type": "execute_result",
          "data": {
            "text/html": [
              "<div>\n",
              "<style scoped>\n",
              "    .dataframe tbody tr th:only-of-type {\n",
              "        vertical-align: middle;\n",
              "    }\n",
              "\n",
              "    .dataframe tbody tr th {\n",
              "        vertical-align: top;\n",
              "    }\n",
              "\n",
              "    .dataframe thead th {\n",
              "        text-align: right;\n",
              "    }\n",
              "</style>\n",
              "<table border=\"1\" class=\"dataframe\">\n",
              "  <thead>\n",
              "    <tr style=\"text-align: right;\">\n",
              "      <th></th>\n",
              "      <th>A</th>\n",
              "      <th>B</th>\n",
              "      <th>C</th>\n",
              "      <th>D</th>\n",
              "    </tr>\n",
              "  </thead>\n",
              "  <tbody>\n",
              "    <tr>\n",
              "      <th>2020-09-06</th>\n",
              "      <td>0.396975</td>\n",
              "      <td>-1.462933</td>\n",
              "      <td>-0.698484</td>\n",
              "      <td>0.695243</td>\n",
              "    </tr>\n",
              "    <tr>\n",
              "      <th>2020-09-05</th>\n",
              "      <td>1.872642</td>\n",
              "      <td>0.566274</td>\n",
              "      <td>-0.631545</td>\n",
              "      <td>1.139854</td>\n",
              "    </tr>\n",
              "    <tr>\n",
              "      <th>2020-09-04</th>\n",
              "      <td>0.558475</td>\n",
              "      <td>0.108676</td>\n",
              "      <td>0.612921</td>\n",
              "      <td>-1.377114</td>\n",
              "    </tr>\n",
              "    <tr>\n",
              "      <th>2020-09-03</th>\n",
              "      <td>0.151348</td>\n",
              "      <td>-0.536063</td>\n",
              "      <td>0.808539</td>\n",
              "      <td>2.142285</td>\n",
              "    </tr>\n",
              "    <tr>\n",
              "      <th>2020-09-02</th>\n",
              "      <td>1.102297</td>\n",
              "      <td>0.049381</td>\n",
              "      <td>-0.332885</td>\n",
              "      <td>0.116439</td>\n",
              "    </tr>\n",
              "    <tr>\n",
              "      <th>2020-09-01</th>\n",
              "      <td>0.669573</td>\n",
              "      <td>-1.539443</td>\n",
              "      <td>-1.760205</td>\n",
              "      <td>2.067187</td>\n",
              "    </tr>\n",
              "  </tbody>\n",
              "</table>\n",
              "</div>"
            ],
            "text/plain": [
              "                   A         B         C         D\n",
              "2020-09-06  0.396975 -1.462933 -0.698484  0.695243\n",
              "2020-09-05  1.872642  0.566274 -0.631545  1.139854\n",
              "2020-09-04  0.558475  0.108676  0.612921 -1.377114\n",
              "2020-09-03  0.151348 -0.536063  0.808539  2.142285\n",
              "2020-09-02  1.102297  0.049381 -0.332885  0.116439\n",
              "2020-09-01  0.669573 -1.539443 -1.760205  2.067187"
            ]
          },
          "metadata": {
            "tags": []
          },
          "execution_count": 75
        }
      ]
    },
    {
      "cell_type": "code",
      "metadata": {
        "id": "YQEN_oQuTxiw",
        "colab_type": "code",
        "colab": {
          "base_uri": "https://localhost:8080/",
          "height": 226
        },
        "outputId": "7c56759e-481f-487b-bcd8-4ec88870830e"
      },
      "source": [
        "df.sort_values(by='C',ascending=False)"
      ],
      "execution_count": null,
      "outputs": [
        {
          "output_type": "execute_result",
          "data": {
            "text/html": [
              "<div>\n",
              "<style scoped>\n",
              "    .dataframe tbody tr th:only-of-type {\n",
              "        vertical-align: middle;\n",
              "    }\n",
              "\n",
              "    .dataframe tbody tr th {\n",
              "        vertical-align: top;\n",
              "    }\n",
              "\n",
              "    .dataframe thead th {\n",
              "        text-align: right;\n",
              "    }\n",
              "</style>\n",
              "<table border=\"1\" class=\"dataframe\">\n",
              "  <thead>\n",
              "    <tr style=\"text-align: right;\">\n",
              "      <th></th>\n",
              "      <th>A</th>\n",
              "      <th>B</th>\n",
              "      <th>C</th>\n",
              "      <th>D</th>\n",
              "    </tr>\n",
              "  </thead>\n",
              "  <tbody>\n",
              "    <tr>\n",
              "      <th>2020-09-03</th>\n",
              "      <td>0.151348</td>\n",
              "      <td>-0.536063</td>\n",
              "      <td>0.808539</td>\n",
              "      <td>2.142285</td>\n",
              "    </tr>\n",
              "    <tr>\n",
              "      <th>2020-09-04</th>\n",
              "      <td>0.558475</td>\n",
              "      <td>0.108676</td>\n",
              "      <td>0.612921</td>\n",
              "      <td>-1.377114</td>\n",
              "    </tr>\n",
              "    <tr>\n",
              "      <th>2020-09-02</th>\n",
              "      <td>1.102297</td>\n",
              "      <td>0.049381</td>\n",
              "      <td>-0.332885</td>\n",
              "      <td>0.116439</td>\n",
              "    </tr>\n",
              "    <tr>\n",
              "      <th>2020-09-05</th>\n",
              "      <td>1.872642</td>\n",
              "      <td>0.566274</td>\n",
              "      <td>-0.631545</td>\n",
              "      <td>1.139854</td>\n",
              "    </tr>\n",
              "    <tr>\n",
              "      <th>2020-09-06</th>\n",
              "      <td>0.396975</td>\n",
              "      <td>-1.462933</td>\n",
              "      <td>-0.698484</td>\n",
              "      <td>0.695243</td>\n",
              "    </tr>\n",
              "    <tr>\n",
              "      <th>2020-09-01</th>\n",
              "      <td>0.669573</td>\n",
              "      <td>-1.539443</td>\n",
              "      <td>-1.760205</td>\n",
              "      <td>2.067187</td>\n",
              "    </tr>\n",
              "  </tbody>\n",
              "</table>\n",
              "</div>"
            ],
            "text/plain": [
              "                   A         B         C         D\n",
              "2020-09-03  0.151348 -0.536063  0.808539  2.142285\n",
              "2020-09-04  0.558475  0.108676  0.612921 -1.377114\n",
              "2020-09-02  1.102297  0.049381 -0.332885  0.116439\n",
              "2020-09-05  1.872642  0.566274 -0.631545  1.139854\n",
              "2020-09-06  0.396975 -1.462933 -0.698484  0.695243\n",
              "2020-09-01  0.669573 -1.539443 -1.760205  2.067187"
            ]
          },
          "metadata": {
            "tags": []
          },
          "execution_count": 76
        }
      ]
    },
    {
      "cell_type": "markdown",
      "metadata": {
        "id": "KO9FdKAeYxNk",
        "colab_type": "text"
      },
      "source": [
        "# 불리언 인덱스"
      ]
    },
    {
      "cell_type": "code",
      "metadata": {
        "id": "h0c2W58OYo-Q",
        "colab_type": "code",
        "colab": {
          "base_uri": "https://localhost:8080/",
          "height": 139
        },
        "outputId": "52670d2e-f6ea-440a-b9e1-45a52cc429fe"
      },
      "source": [
        "# Boolean 연산 Series 형식 출력\n",
        "df['A']>0"
      ],
      "execution_count": null,
      "outputs": [
        {
          "output_type": "execute_result",
          "data": {
            "text/plain": [
              "2020-09-01    True\n",
              "2020-09-02    True\n",
              "2020-09-03    True\n",
              "2020-09-04    True\n",
              "2020-09-05    True\n",
              "2020-09-06    True\n",
              "Freq: D, Name: A, dtype: bool"
            ]
          },
          "metadata": {
            "tags": []
          },
          "execution_count": 77
        }
      ]
    },
    {
      "cell_type": "code",
      "metadata": {
        "id": "Jxn0xoQDY5r5",
        "colab_type": "code",
        "colab": {
          "base_uri": "https://localhost:8080/",
          "height": 137
        },
        "outputId": "fcd2219f-2bf7-4901-950e-bfb529897e26"
      },
      "source": [
        "# Boolean 으로 이루어진 리스트로 index 출력\n",
        "df[[True,False,True,True,False,False]]"
      ],
      "execution_count": null,
      "outputs": [
        {
          "output_type": "execute_result",
          "data": {
            "text/html": [
              "<div>\n",
              "<style scoped>\n",
              "    .dataframe tbody tr th:only-of-type {\n",
              "        vertical-align: middle;\n",
              "    }\n",
              "\n",
              "    .dataframe tbody tr th {\n",
              "        vertical-align: top;\n",
              "    }\n",
              "\n",
              "    .dataframe thead th {\n",
              "        text-align: right;\n",
              "    }\n",
              "</style>\n",
              "<table border=\"1\" class=\"dataframe\">\n",
              "  <thead>\n",
              "    <tr style=\"text-align: right;\">\n",
              "      <th></th>\n",
              "      <th>A</th>\n",
              "      <th>B</th>\n",
              "      <th>C</th>\n",
              "      <th>D</th>\n",
              "    </tr>\n",
              "  </thead>\n",
              "  <tbody>\n",
              "    <tr>\n",
              "      <th>2020-09-01</th>\n",
              "      <td>0.669573</td>\n",
              "      <td>-1.539443</td>\n",
              "      <td>-1.760205</td>\n",
              "      <td>2.067187</td>\n",
              "    </tr>\n",
              "    <tr>\n",
              "      <th>2020-09-03</th>\n",
              "      <td>0.151348</td>\n",
              "      <td>-0.536063</td>\n",
              "      <td>0.808539</td>\n",
              "      <td>2.142285</td>\n",
              "    </tr>\n",
              "    <tr>\n",
              "      <th>2020-09-04</th>\n",
              "      <td>0.558475</td>\n",
              "      <td>0.108676</td>\n",
              "      <td>0.612921</td>\n",
              "      <td>-1.377114</td>\n",
              "    </tr>\n",
              "  </tbody>\n",
              "</table>\n",
              "</div>"
            ],
            "text/plain": [
              "                   A         B         C         D\n",
              "2020-09-01  0.669573 -1.539443 -1.760205  2.067187\n",
              "2020-09-03  0.151348 -0.536063  0.808539  2.142285\n",
              "2020-09-04  0.558475  0.108676  0.612921 -1.377114"
            ]
          },
          "metadata": {
            "tags": []
          },
          "execution_count": 78
        }
      ]
    },
    {
      "cell_type": "code",
      "metadata": {
        "id": "DltUsD3FQQ_J",
        "colab_type": "code",
        "colab": {
          "base_uri": "https://localhost:8080/",
          "height": 226
        },
        "outputId": "8e377805-3e32-4273-8423-beafd2b1b98f"
      },
      "source": [
        "# Series 양식의 결과로 index 출력\n",
        "df[df['A']>0]"
      ],
      "execution_count": null,
      "outputs": [
        {
          "output_type": "execute_result",
          "data": {
            "text/html": [
              "<div>\n",
              "<style scoped>\n",
              "    .dataframe tbody tr th:only-of-type {\n",
              "        vertical-align: middle;\n",
              "    }\n",
              "\n",
              "    .dataframe tbody tr th {\n",
              "        vertical-align: top;\n",
              "    }\n",
              "\n",
              "    .dataframe thead th {\n",
              "        text-align: right;\n",
              "    }\n",
              "</style>\n",
              "<table border=\"1\" class=\"dataframe\">\n",
              "  <thead>\n",
              "    <tr style=\"text-align: right;\">\n",
              "      <th></th>\n",
              "      <th>A</th>\n",
              "      <th>B</th>\n",
              "      <th>C</th>\n",
              "      <th>D</th>\n",
              "    </tr>\n",
              "  </thead>\n",
              "  <tbody>\n",
              "    <tr>\n",
              "      <th>2020-09-01</th>\n",
              "      <td>0.669573</td>\n",
              "      <td>-1.539443</td>\n",
              "      <td>-1.760205</td>\n",
              "      <td>2.067187</td>\n",
              "    </tr>\n",
              "    <tr>\n",
              "      <th>2020-09-02</th>\n",
              "      <td>1.102297</td>\n",
              "      <td>0.049381</td>\n",
              "      <td>-0.332885</td>\n",
              "      <td>0.116439</td>\n",
              "    </tr>\n",
              "    <tr>\n",
              "      <th>2020-09-03</th>\n",
              "      <td>0.151348</td>\n",
              "      <td>-0.536063</td>\n",
              "      <td>0.808539</td>\n",
              "      <td>2.142285</td>\n",
              "    </tr>\n",
              "    <tr>\n",
              "      <th>2020-09-04</th>\n",
              "      <td>0.558475</td>\n",
              "      <td>0.108676</td>\n",
              "      <td>0.612921</td>\n",
              "      <td>-1.377114</td>\n",
              "    </tr>\n",
              "    <tr>\n",
              "      <th>2020-09-05</th>\n",
              "      <td>1.872642</td>\n",
              "      <td>0.566274</td>\n",
              "      <td>-0.631545</td>\n",
              "      <td>1.139854</td>\n",
              "    </tr>\n",
              "    <tr>\n",
              "      <th>2020-09-06</th>\n",
              "      <td>0.396975</td>\n",
              "      <td>-1.462933</td>\n",
              "      <td>-0.698484</td>\n",
              "      <td>0.695243</td>\n",
              "    </tr>\n",
              "  </tbody>\n",
              "</table>\n",
              "</div>"
            ],
            "text/plain": [
              "                   A         B         C         D\n",
              "2020-09-01  0.669573 -1.539443 -1.760205  2.067187\n",
              "2020-09-02  1.102297  0.049381 -0.332885  0.116439\n",
              "2020-09-03  0.151348 -0.536063  0.808539  2.142285\n",
              "2020-09-04  0.558475  0.108676  0.612921 -1.377114\n",
              "2020-09-05  1.872642  0.566274 -0.631545  1.139854\n",
              "2020-09-06  0.396975 -1.462933 -0.698484  0.695243"
            ]
          },
          "metadata": {
            "tags": []
          },
          "execution_count": 79
        }
      ]
    },
    {
      "cell_type": "markdown",
      "metadata": {
        "id": "rKh6uxv6ShEY",
        "colab_type": "text"
      },
      "source": [
        "# 열 추가, 삭제, 수정\n",
        "* df['new column'] = values\n",
        "* df.loc[:,'new column'] = values\n",
        "* pd.drop( )"
      ]
    },
    {
      "cell_type": "code",
      "metadata": {
        "id": "yMkcebU3RPyy",
        "colab_type": "code",
        "colab": {
          "base_uri": "https://localhost:8080/",
          "height": 226
        },
        "outputId": "37a8b3f8-4a20-4744-d62e-4eeaa4dfcb03"
      },
      "source": [
        "# column 하나의 값으로 추가\n",
        "df['E']='number'\n",
        "df"
      ],
      "execution_count": null,
      "outputs": [
        {
          "output_type": "execute_result",
          "data": {
            "text/html": [
              "<div>\n",
              "<style scoped>\n",
              "    .dataframe tbody tr th:only-of-type {\n",
              "        vertical-align: middle;\n",
              "    }\n",
              "\n",
              "    .dataframe tbody tr th {\n",
              "        vertical-align: top;\n",
              "    }\n",
              "\n",
              "    .dataframe thead th {\n",
              "        text-align: right;\n",
              "    }\n",
              "</style>\n",
              "<table border=\"1\" class=\"dataframe\">\n",
              "  <thead>\n",
              "    <tr style=\"text-align: right;\">\n",
              "      <th></th>\n",
              "      <th>A</th>\n",
              "      <th>B</th>\n",
              "      <th>C</th>\n",
              "      <th>D</th>\n",
              "      <th>E</th>\n",
              "    </tr>\n",
              "  </thead>\n",
              "  <tbody>\n",
              "    <tr>\n",
              "      <th>2020-09-01</th>\n",
              "      <td>0.669573</td>\n",
              "      <td>-1.539443</td>\n",
              "      <td>-1.760205</td>\n",
              "      <td>2.067187</td>\n",
              "      <td>number</td>\n",
              "    </tr>\n",
              "    <tr>\n",
              "      <th>2020-09-02</th>\n",
              "      <td>1.102297</td>\n",
              "      <td>0.049381</td>\n",
              "      <td>-0.332885</td>\n",
              "      <td>0.116439</td>\n",
              "      <td>number</td>\n",
              "    </tr>\n",
              "    <tr>\n",
              "      <th>2020-09-03</th>\n",
              "      <td>0.151348</td>\n",
              "      <td>-0.536063</td>\n",
              "      <td>0.808539</td>\n",
              "      <td>2.142285</td>\n",
              "      <td>number</td>\n",
              "    </tr>\n",
              "    <tr>\n",
              "      <th>2020-09-04</th>\n",
              "      <td>0.558475</td>\n",
              "      <td>0.108676</td>\n",
              "      <td>0.612921</td>\n",
              "      <td>-1.377114</td>\n",
              "      <td>number</td>\n",
              "    </tr>\n",
              "    <tr>\n",
              "      <th>2020-09-05</th>\n",
              "      <td>1.872642</td>\n",
              "      <td>0.566274</td>\n",
              "      <td>-0.631545</td>\n",
              "      <td>1.139854</td>\n",
              "      <td>number</td>\n",
              "    </tr>\n",
              "    <tr>\n",
              "      <th>2020-09-06</th>\n",
              "      <td>0.396975</td>\n",
              "      <td>-1.462933</td>\n",
              "      <td>-0.698484</td>\n",
              "      <td>0.695243</td>\n",
              "      <td>number</td>\n",
              "    </tr>\n",
              "  </tbody>\n",
              "</table>\n",
              "</div>"
            ],
            "text/plain": [
              "                   A         B         C         D       E\n",
              "2020-09-01  0.669573 -1.539443 -1.760205  2.067187  number\n",
              "2020-09-02  1.102297  0.049381 -0.332885  0.116439  number\n",
              "2020-09-03  0.151348 -0.536063  0.808539  2.142285  number\n",
              "2020-09-04  0.558475  0.108676  0.612921 -1.377114  number\n",
              "2020-09-05  1.872642  0.566274 -0.631545  1.139854  number\n",
              "2020-09-06  0.396975 -1.462933 -0.698484  0.695243  number"
            ]
          },
          "metadata": {
            "tags": []
          },
          "execution_count": 80
        }
      ]
    },
    {
      "cell_type": "code",
      "metadata": {
        "id": "fi4ZyuEQFOM3",
        "colab_type": "code",
        "colab": {
          "base_uri": "https://localhost:8080/",
          "height": 226
        },
        "outputId": "2c2784a9-b81c-4000-c231-dec7eca334ee"
      },
      "source": [
        "df.loc[:,'E']='number'\n",
        "df"
      ],
      "execution_count": null,
      "outputs": [
        {
          "output_type": "execute_result",
          "data": {
            "text/html": [
              "<div>\n",
              "<style scoped>\n",
              "    .dataframe tbody tr th:only-of-type {\n",
              "        vertical-align: middle;\n",
              "    }\n",
              "\n",
              "    .dataframe tbody tr th {\n",
              "        vertical-align: top;\n",
              "    }\n",
              "\n",
              "    .dataframe thead th {\n",
              "        text-align: right;\n",
              "    }\n",
              "</style>\n",
              "<table border=\"1\" class=\"dataframe\">\n",
              "  <thead>\n",
              "    <tr style=\"text-align: right;\">\n",
              "      <th></th>\n",
              "      <th>A</th>\n",
              "      <th>B</th>\n",
              "      <th>C</th>\n",
              "      <th>D</th>\n",
              "      <th>E</th>\n",
              "    </tr>\n",
              "  </thead>\n",
              "  <tbody>\n",
              "    <tr>\n",
              "      <th>2020-09-01</th>\n",
              "      <td>0.669573</td>\n",
              "      <td>-1.539443</td>\n",
              "      <td>-1.760205</td>\n",
              "      <td>2.067187</td>\n",
              "      <td>number</td>\n",
              "    </tr>\n",
              "    <tr>\n",
              "      <th>2020-09-02</th>\n",
              "      <td>1.102297</td>\n",
              "      <td>0.049381</td>\n",
              "      <td>-0.332885</td>\n",
              "      <td>0.116439</td>\n",
              "      <td>number</td>\n",
              "    </tr>\n",
              "    <tr>\n",
              "      <th>2020-09-03</th>\n",
              "      <td>0.151348</td>\n",
              "      <td>-0.536063</td>\n",
              "      <td>0.808539</td>\n",
              "      <td>2.142285</td>\n",
              "      <td>number</td>\n",
              "    </tr>\n",
              "    <tr>\n",
              "      <th>2020-09-04</th>\n",
              "      <td>0.558475</td>\n",
              "      <td>0.108676</td>\n",
              "      <td>0.612921</td>\n",
              "      <td>-1.377114</td>\n",
              "      <td>number</td>\n",
              "    </tr>\n",
              "    <tr>\n",
              "      <th>2020-09-05</th>\n",
              "      <td>1.872642</td>\n",
              "      <td>0.566274</td>\n",
              "      <td>-0.631545</td>\n",
              "      <td>1.139854</td>\n",
              "      <td>number</td>\n",
              "    </tr>\n",
              "    <tr>\n",
              "      <th>2020-09-06</th>\n",
              "      <td>0.396975</td>\n",
              "      <td>-1.462933</td>\n",
              "      <td>-0.698484</td>\n",
              "      <td>0.695243</td>\n",
              "      <td>number</td>\n",
              "    </tr>\n",
              "  </tbody>\n",
              "</table>\n",
              "</div>"
            ],
            "text/plain": [
              "                   A         B         C         D       E\n",
              "2020-09-01  0.669573 -1.539443 -1.760205  2.067187  number\n",
              "2020-09-02  1.102297  0.049381 -0.332885  0.116439  number\n",
              "2020-09-03  0.151348 -0.536063  0.808539  2.142285  number\n",
              "2020-09-04  0.558475  0.108676  0.612921 -1.377114  number\n",
              "2020-09-05  1.872642  0.566274 -0.631545  1.139854  number\n",
              "2020-09-06  0.396975 -1.462933 -0.698484  0.695243  number"
            ]
          },
          "metadata": {
            "tags": []
          },
          "execution_count": 81
        }
      ]
    },
    {
      "cell_type": "code",
      "metadata": {
        "id": "RNmD8J6oZQ1i",
        "colab_type": "code",
        "colab": {
          "base_uri": "https://localhost:8080/",
          "height": 226
        },
        "outputId": "48f4f17d-7ded-4c28-c3f6-ec65a8b3d3ce"
      },
      "source": [
        "# column 리스트로 추가\n",
        "df['E']=['one','one','two','three','four','three']\n",
        "df"
      ],
      "execution_count": null,
      "outputs": [
        {
          "output_type": "execute_result",
          "data": {
            "text/html": [
              "<div>\n",
              "<style scoped>\n",
              "    .dataframe tbody tr th:only-of-type {\n",
              "        vertical-align: middle;\n",
              "    }\n",
              "\n",
              "    .dataframe tbody tr th {\n",
              "        vertical-align: top;\n",
              "    }\n",
              "\n",
              "    .dataframe thead th {\n",
              "        text-align: right;\n",
              "    }\n",
              "</style>\n",
              "<table border=\"1\" class=\"dataframe\">\n",
              "  <thead>\n",
              "    <tr style=\"text-align: right;\">\n",
              "      <th></th>\n",
              "      <th>A</th>\n",
              "      <th>B</th>\n",
              "      <th>C</th>\n",
              "      <th>D</th>\n",
              "      <th>E</th>\n",
              "    </tr>\n",
              "  </thead>\n",
              "  <tbody>\n",
              "    <tr>\n",
              "      <th>2020-09-01</th>\n",
              "      <td>0.669573</td>\n",
              "      <td>-1.539443</td>\n",
              "      <td>-1.760205</td>\n",
              "      <td>2.067187</td>\n",
              "      <td>one</td>\n",
              "    </tr>\n",
              "    <tr>\n",
              "      <th>2020-09-02</th>\n",
              "      <td>1.102297</td>\n",
              "      <td>0.049381</td>\n",
              "      <td>-0.332885</td>\n",
              "      <td>0.116439</td>\n",
              "      <td>one</td>\n",
              "    </tr>\n",
              "    <tr>\n",
              "      <th>2020-09-03</th>\n",
              "      <td>0.151348</td>\n",
              "      <td>-0.536063</td>\n",
              "      <td>0.808539</td>\n",
              "      <td>2.142285</td>\n",
              "      <td>two</td>\n",
              "    </tr>\n",
              "    <tr>\n",
              "      <th>2020-09-04</th>\n",
              "      <td>0.558475</td>\n",
              "      <td>0.108676</td>\n",
              "      <td>0.612921</td>\n",
              "      <td>-1.377114</td>\n",
              "      <td>three</td>\n",
              "    </tr>\n",
              "    <tr>\n",
              "      <th>2020-09-05</th>\n",
              "      <td>1.872642</td>\n",
              "      <td>0.566274</td>\n",
              "      <td>-0.631545</td>\n",
              "      <td>1.139854</td>\n",
              "      <td>four</td>\n",
              "    </tr>\n",
              "    <tr>\n",
              "      <th>2020-09-06</th>\n",
              "      <td>0.396975</td>\n",
              "      <td>-1.462933</td>\n",
              "      <td>-0.698484</td>\n",
              "      <td>0.695243</td>\n",
              "      <td>three</td>\n",
              "    </tr>\n",
              "  </tbody>\n",
              "</table>\n",
              "</div>"
            ],
            "text/plain": [
              "                   A         B         C         D      E\n",
              "2020-09-01  0.669573 -1.539443 -1.760205  2.067187    one\n",
              "2020-09-02  1.102297  0.049381 -0.332885  0.116439    one\n",
              "2020-09-03  0.151348 -0.536063  0.808539  2.142285    two\n",
              "2020-09-04  0.558475  0.108676  0.612921 -1.377114  three\n",
              "2020-09-05  1.872642  0.566274 -0.631545  1.139854   four\n",
              "2020-09-06  0.396975 -1.462933 -0.698484  0.695243  three"
            ]
          },
          "metadata": {
            "tags": []
          },
          "execution_count": 82
        }
      ]
    },
    {
      "cell_type": "code",
      "metadata": {
        "id": "Iznng6FTZhbD",
        "colab_type": "code",
        "colab": {
          "base_uri": "https://localhost:8080/",
          "height": 107
        },
        "outputId": "61604790-1be5-4cde-f6d0-fa2868887d79"
      },
      "source": [
        "# column 에서 원하는 내용이 있는지 확인\n",
        "# pd.isin()\n",
        "df[df['E'].isin(['two','four'])]"
      ],
      "execution_count": null,
      "outputs": [
        {
          "output_type": "execute_result",
          "data": {
            "text/html": [
              "<div>\n",
              "<style scoped>\n",
              "    .dataframe tbody tr th:only-of-type {\n",
              "        vertical-align: middle;\n",
              "    }\n",
              "\n",
              "    .dataframe tbody tr th {\n",
              "        vertical-align: top;\n",
              "    }\n",
              "\n",
              "    .dataframe thead th {\n",
              "        text-align: right;\n",
              "    }\n",
              "</style>\n",
              "<table border=\"1\" class=\"dataframe\">\n",
              "  <thead>\n",
              "    <tr style=\"text-align: right;\">\n",
              "      <th></th>\n",
              "      <th>A</th>\n",
              "      <th>B</th>\n",
              "      <th>C</th>\n",
              "      <th>D</th>\n",
              "      <th>E</th>\n",
              "    </tr>\n",
              "  </thead>\n",
              "  <tbody>\n",
              "    <tr>\n",
              "      <th>2020-09-03</th>\n",
              "      <td>0.151348</td>\n",
              "      <td>-0.536063</td>\n",
              "      <td>0.808539</td>\n",
              "      <td>2.142285</td>\n",
              "      <td>two</td>\n",
              "    </tr>\n",
              "    <tr>\n",
              "      <th>2020-09-05</th>\n",
              "      <td>1.872642</td>\n",
              "      <td>0.566274</td>\n",
              "      <td>-0.631545</td>\n",
              "      <td>1.139854</td>\n",
              "      <td>four</td>\n",
              "    </tr>\n",
              "  </tbody>\n",
              "</table>\n",
              "</div>"
            ],
            "text/plain": [
              "                   A         B         C         D     E\n",
              "2020-09-03  0.151348 -0.536063  0.808539  2.142285   two\n",
              "2020-09-05  1.872642  0.566274 -0.631545  1.139854  four"
            ]
          },
          "metadata": {
            "tags": []
          },
          "execution_count": 83
        }
      ]
    },
    {
      "cell_type": "code",
      "metadata": {
        "id": "99VbHz33aZFi",
        "colab_type": "code",
        "colab": {
          "base_uri": "https://localhost:8080/",
          "height": 226
        },
        "outputId": "44453fec-e352-4222-8240-508023a1a312"
      },
      "source": [
        "# Series 형식으로 colunm 추가\n",
        "# index 가 동일해야 value 추가 가능\n",
        "df['F']=s\n",
        "df"
      ],
      "execution_count": null,
      "outputs": [
        {
          "output_type": "execute_result",
          "data": {
            "text/html": [
              "<div>\n",
              "<style scoped>\n",
              "    .dataframe tbody tr th:only-of-type {\n",
              "        vertical-align: middle;\n",
              "    }\n",
              "\n",
              "    .dataframe tbody tr th {\n",
              "        vertical-align: top;\n",
              "    }\n",
              "\n",
              "    .dataframe thead th {\n",
              "        text-align: right;\n",
              "    }\n",
              "</style>\n",
              "<table border=\"1\" class=\"dataframe\">\n",
              "  <thead>\n",
              "    <tr style=\"text-align: right;\">\n",
              "      <th></th>\n",
              "      <th>A</th>\n",
              "      <th>B</th>\n",
              "      <th>C</th>\n",
              "      <th>D</th>\n",
              "      <th>E</th>\n",
              "      <th>F</th>\n",
              "    </tr>\n",
              "  </thead>\n",
              "  <tbody>\n",
              "    <tr>\n",
              "      <th>2020-09-01</th>\n",
              "      <td>0.669573</td>\n",
              "      <td>-1.539443</td>\n",
              "      <td>-1.760205</td>\n",
              "      <td>2.067187</td>\n",
              "      <td>one</td>\n",
              "      <td>0</td>\n",
              "    </tr>\n",
              "    <tr>\n",
              "      <th>2020-09-02</th>\n",
              "      <td>1.102297</td>\n",
              "      <td>0.049381</td>\n",
              "      <td>-0.332885</td>\n",
              "      <td>0.116439</td>\n",
              "      <td>one</td>\n",
              "      <td>1</td>\n",
              "    </tr>\n",
              "    <tr>\n",
              "      <th>2020-09-03</th>\n",
              "      <td>0.151348</td>\n",
              "      <td>-0.536063</td>\n",
              "      <td>0.808539</td>\n",
              "      <td>2.142285</td>\n",
              "      <td>two</td>\n",
              "      <td>2</td>\n",
              "    </tr>\n",
              "    <tr>\n",
              "      <th>2020-09-04</th>\n",
              "      <td>0.558475</td>\n",
              "      <td>0.108676</td>\n",
              "      <td>0.612921</td>\n",
              "      <td>-1.377114</td>\n",
              "      <td>three</td>\n",
              "      <td>3</td>\n",
              "    </tr>\n",
              "    <tr>\n",
              "      <th>2020-09-05</th>\n",
              "      <td>1.872642</td>\n",
              "      <td>0.566274</td>\n",
              "      <td>-0.631545</td>\n",
              "      <td>1.139854</td>\n",
              "      <td>four</td>\n",
              "      <td>4</td>\n",
              "    </tr>\n",
              "    <tr>\n",
              "      <th>2020-09-06</th>\n",
              "      <td>0.396975</td>\n",
              "      <td>-1.462933</td>\n",
              "      <td>-0.698484</td>\n",
              "      <td>0.695243</td>\n",
              "      <td>three</td>\n",
              "      <td>5</td>\n",
              "    </tr>\n",
              "  </tbody>\n",
              "</table>\n",
              "</div>"
            ],
            "text/plain": [
              "                   A         B         C         D      E  F\n",
              "2020-09-01  0.669573 -1.539443 -1.760205  2.067187    one  0\n",
              "2020-09-02  1.102297  0.049381 -0.332885  0.116439    one  1\n",
              "2020-09-03  0.151348 -0.536063  0.808539  2.142285    two  2\n",
              "2020-09-04  0.558475  0.108676  0.612921 -1.377114  three  3\n",
              "2020-09-05  1.872642  0.566274 -0.631545  1.139854   four  4\n",
              "2020-09-06  0.396975 -1.462933 -0.698484  0.695243  three  5"
            ]
          },
          "metadata": {
            "tags": []
          },
          "execution_count": 84
        }
      ]
    },
    {
      "cell_type": "code",
      "metadata": {
        "id": "w7lWU9SNawEF",
        "colab_type": "code",
        "colab": {
          "base_uri": "https://localhost:8080/",
          "height": 226
        },
        "outputId": "a77ce473-7495-4a94-e1ab-908cc2072580"
      },
      "source": [
        "# 하나의 값 수정\n",
        "# pd.at[]\n",
        "df.at['20200901','E']=0\n",
        "df"
      ],
      "execution_count": null,
      "outputs": [
        {
          "output_type": "execute_result",
          "data": {
            "text/html": [
              "<div>\n",
              "<style scoped>\n",
              "    .dataframe tbody tr th:only-of-type {\n",
              "        vertical-align: middle;\n",
              "    }\n",
              "\n",
              "    .dataframe tbody tr th {\n",
              "        vertical-align: top;\n",
              "    }\n",
              "\n",
              "    .dataframe thead th {\n",
              "        text-align: right;\n",
              "    }\n",
              "</style>\n",
              "<table border=\"1\" class=\"dataframe\">\n",
              "  <thead>\n",
              "    <tr style=\"text-align: right;\">\n",
              "      <th></th>\n",
              "      <th>A</th>\n",
              "      <th>B</th>\n",
              "      <th>C</th>\n",
              "      <th>D</th>\n",
              "      <th>E</th>\n",
              "      <th>F</th>\n",
              "    </tr>\n",
              "  </thead>\n",
              "  <tbody>\n",
              "    <tr>\n",
              "      <th>2020-09-01</th>\n",
              "      <td>0.669573</td>\n",
              "      <td>-1.539443</td>\n",
              "      <td>-1.760205</td>\n",
              "      <td>2.067187</td>\n",
              "      <td>0</td>\n",
              "      <td>0</td>\n",
              "    </tr>\n",
              "    <tr>\n",
              "      <th>2020-09-02</th>\n",
              "      <td>1.102297</td>\n",
              "      <td>0.049381</td>\n",
              "      <td>-0.332885</td>\n",
              "      <td>0.116439</td>\n",
              "      <td>one</td>\n",
              "      <td>1</td>\n",
              "    </tr>\n",
              "    <tr>\n",
              "      <th>2020-09-03</th>\n",
              "      <td>0.151348</td>\n",
              "      <td>-0.536063</td>\n",
              "      <td>0.808539</td>\n",
              "      <td>2.142285</td>\n",
              "      <td>two</td>\n",
              "      <td>2</td>\n",
              "    </tr>\n",
              "    <tr>\n",
              "      <th>2020-09-04</th>\n",
              "      <td>0.558475</td>\n",
              "      <td>0.108676</td>\n",
              "      <td>0.612921</td>\n",
              "      <td>-1.377114</td>\n",
              "      <td>three</td>\n",
              "      <td>3</td>\n",
              "    </tr>\n",
              "    <tr>\n",
              "      <th>2020-09-05</th>\n",
              "      <td>1.872642</td>\n",
              "      <td>0.566274</td>\n",
              "      <td>-0.631545</td>\n",
              "      <td>1.139854</td>\n",
              "      <td>four</td>\n",
              "      <td>4</td>\n",
              "    </tr>\n",
              "    <tr>\n",
              "      <th>2020-09-06</th>\n",
              "      <td>0.396975</td>\n",
              "      <td>-1.462933</td>\n",
              "      <td>-0.698484</td>\n",
              "      <td>0.695243</td>\n",
              "      <td>three</td>\n",
              "      <td>5</td>\n",
              "    </tr>\n",
              "  </tbody>\n",
              "</table>\n",
              "</div>"
            ],
            "text/plain": [
              "                   A         B         C         D      E  F\n",
              "2020-09-01  0.669573 -1.539443 -1.760205  2.067187      0  0\n",
              "2020-09-02  1.102297  0.049381 -0.332885  0.116439    one  1\n",
              "2020-09-03  0.151348 -0.536063  0.808539  2.142285    two  2\n",
              "2020-09-04  0.558475  0.108676  0.612921 -1.377114  three  3\n",
              "2020-09-05  1.872642  0.566274 -0.631545  1.139854   four  4\n",
              "2020-09-06  0.396975 -1.462933 -0.698484  0.695243  three  5"
            ]
          },
          "metadata": {
            "tags": []
          },
          "execution_count": 85
        }
      ]
    },
    {
      "cell_type": "code",
      "metadata": {
        "id": "ha7AhOQTa4on",
        "colab_type": "code",
        "colab": {
          "base_uri": "https://localhost:8080/",
          "height": 226
        },
        "outputId": "79b164c4-1e24-4f48-a20f-6840b51b0dad"
      },
      "source": [
        "# 하나의 값 수정\n",
        "# pd.iat[]\n",
        "df.iat[5,4]=0\n",
        "df"
      ],
      "execution_count": null,
      "outputs": [
        {
          "output_type": "execute_result",
          "data": {
            "text/html": [
              "<div>\n",
              "<style scoped>\n",
              "    .dataframe tbody tr th:only-of-type {\n",
              "        vertical-align: middle;\n",
              "    }\n",
              "\n",
              "    .dataframe tbody tr th {\n",
              "        vertical-align: top;\n",
              "    }\n",
              "\n",
              "    .dataframe thead th {\n",
              "        text-align: right;\n",
              "    }\n",
              "</style>\n",
              "<table border=\"1\" class=\"dataframe\">\n",
              "  <thead>\n",
              "    <tr style=\"text-align: right;\">\n",
              "      <th></th>\n",
              "      <th>A</th>\n",
              "      <th>B</th>\n",
              "      <th>C</th>\n",
              "      <th>D</th>\n",
              "      <th>E</th>\n",
              "      <th>F</th>\n",
              "    </tr>\n",
              "  </thead>\n",
              "  <tbody>\n",
              "    <tr>\n",
              "      <th>2020-09-01</th>\n",
              "      <td>0.669573</td>\n",
              "      <td>-1.539443</td>\n",
              "      <td>-1.760205</td>\n",
              "      <td>2.067187</td>\n",
              "      <td>0</td>\n",
              "      <td>0</td>\n",
              "    </tr>\n",
              "    <tr>\n",
              "      <th>2020-09-02</th>\n",
              "      <td>1.102297</td>\n",
              "      <td>0.049381</td>\n",
              "      <td>-0.332885</td>\n",
              "      <td>0.116439</td>\n",
              "      <td>one</td>\n",
              "      <td>1</td>\n",
              "    </tr>\n",
              "    <tr>\n",
              "      <th>2020-09-03</th>\n",
              "      <td>0.151348</td>\n",
              "      <td>-0.536063</td>\n",
              "      <td>0.808539</td>\n",
              "      <td>2.142285</td>\n",
              "      <td>two</td>\n",
              "      <td>2</td>\n",
              "    </tr>\n",
              "    <tr>\n",
              "      <th>2020-09-04</th>\n",
              "      <td>0.558475</td>\n",
              "      <td>0.108676</td>\n",
              "      <td>0.612921</td>\n",
              "      <td>-1.377114</td>\n",
              "      <td>three</td>\n",
              "      <td>3</td>\n",
              "    </tr>\n",
              "    <tr>\n",
              "      <th>2020-09-05</th>\n",
              "      <td>1.872642</td>\n",
              "      <td>0.566274</td>\n",
              "      <td>-0.631545</td>\n",
              "      <td>1.139854</td>\n",
              "      <td>four</td>\n",
              "      <td>4</td>\n",
              "    </tr>\n",
              "    <tr>\n",
              "      <th>2020-09-06</th>\n",
              "      <td>0.396975</td>\n",
              "      <td>-1.462933</td>\n",
              "      <td>-0.698484</td>\n",
              "      <td>0.695243</td>\n",
              "      <td>0</td>\n",
              "      <td>5</td>\n",
              "    </tr>\n",
              "  </tbody>\n",
              "</table>\n",
              "</div>"
            ],
            "text/plain": [
              "                   A         B         C         D      E  F\n",
              "2020-09-01  0.669573 -1.539443 -1.760205  2.067187      0  0\n",
              "2020-09-02  1.102297  0.049381 -0.332885  0.116439    one  1\n",
              "2020-09-03  0.151348 -0.536063  0.808539  2.142285    two  2\n",
              "2020-09-04  0.558475  0.108676  0.612921 -1.377114  three  3\n",
              "2020-09-05  1.872642  0.566274 -0.631545  1.139854   four  4\n",
              "2020-09-06  0.396975 -1.462933 -0.698484  0.695243      0  5"
            ]
          },
          "metadata": {
            "tags": []
          },
          "execution_count": 86
        }
      ]
    },
    {
      "cell_type": "code",
      "metadata": {
        "id": "7NrND2sPbBwJ",
        "colab_type": "code",
        "colab": {
          "base_uri": "https://localhost:8080/",
          "height": 226
        },
        "outputId": "a6868e7f-010f-460d-d423-79da4e9759f5"
      },
      "source": [
        "# 값을 활용한 수정\n",
        "# pd.loc[]\n",
        "df.loc['20200902':'20200905','E']=1\n",
        "df"
      ],
      "execution_count": null,
      "outputs": [
        {
          "output_type": "execute_result",
          "data": {
            "text/html": [
              "<div>\n",
              "<style scoped>\n",
              "    .dataframe tbody tr th:only-of-type {\n",
              "        vertical-align: middle;\n",
              "    }\n",
              "\n",
              "    .dataframe tbody tr th {\n",
              "        vertical-align: top;\n",
              "    }\n",
              "\n",
              "    .dataframe thead th {\n",
              "        text-align: right;\n",
              "    }\n",
              "</style>\n",
              "<table border=\"1\" class=\"dataframe\">\n",
              "  <thead>\n",
              "    <tr style=\"text-align: right;\">\n",
              "      <th></th>\n",
              "      <th>A</th>\n",
              "      <th>B</th>\n",
              "      <th>C</th>\n",
              "      <th>D</th>\n",
              "      <th>E</th>\n",
              "      <th>F</th>\n",
              "    </tr>\n",
              "  </thead>\n",
              "  <tbody>\n",
              "    <tr>\n",
              "      <th>2020-09-01</th>\n",
              "      <td>0.669573</td>\n",
              "      <td>-1.539443</td>\n",
              "      <td>-1.760205</td>\n",
              "      <td>2.067187</td>\n",
              "      <td>0</td>\n",
              "      <td>0</td>\n",
              "    </tr>\n",
              "    <tr>\n",
              "      <th>2020-09-02</th>\n",
              "      <td>1.102297</td>\n",
              "      <td>0.049381</td>\n",
              "      <td>-0.332885</td>\n",
              "      <td>0.116439</td>\n",
              "      <td>1</td>\n",
              "      <td>1</td>\n",
              "    </tr>\n",
              "    <tr>\n",
              "      <th>2020-09-03</th>\n",
              "      <td>0.151348</td>\n",
              "      <td>-0.536063</td>\n",
              "      <td>0.808539</td>\n",
              "      <td>2.142285</td>\n",
              "      <td>1</td>\n",
              "      <td>2</td>\n",
              "    </tr>\n",
              "    <tr>\n",
              "      <th>2020-09-04</th>\n",
              "      <td>0.558475</td>\n",
              "      <td>0.108676</td>\n",
              "      <td>0.612921</td>\n",
              "      <td>-1.377114</td>\n",
              "      <td>1</td>\n",
              "      <td>3</td>\n",
              "    </tr>\n",
              "    <tr>\n",
              "      <th>2020-09-05</th>\n",
              "      <td>1.872642</td>\n",
              "      <td>0.566274</td>\n",
              "      <td>-0.631545</td>\n",
              "      <td>1.139854</td>\n",
              "      <td>1</td>\n",
              "      <td>4</td>\n",
              "    </tr>\n",
              "    <tr>\n",
              "      <th>2020-09-06</th>\n",
              "      <td>0.396975</td>\n",
              "      <td>-1.462933</td>\n",
              "      <td>-0.698484</td>\n",
              "      <td>0.695243</td>\n",
              "      <td>0</td>\n",
              "      <td>5</td>\n",
              "    </tr>\n",
              "  </tbody>\n",
              "</table>\n",
              "</div>"
            ],
            "text/plain": [
              "                   A         B         C         D  E  F\n",
              "2020-09-01  0.669573 -1.539443 -1.760205  2.067187  0  0\n",
              "2020-09-02  1.102297  0.049381 -0.332885  0.116439  1  1\n",
              "2020-09-03  0.151348 -0.536063  0.808539  2.142285  1  2\n",
              "2020-09-04  0.558475  0.108676  0.612921 -1.377114  1  3\n",
              "2020-09-05  1.872642  0.566274 -0.631545  1.139854  1  4\n",
              "2020-09-06  0.396975 -1.462933 -0.698484  0.695243  0  5"
            ]
          },
          "metadata": {
            "tags": []
          },
          "execution_count": 87
        }
      ]
    },
    {
      "cell_type": "code",
      "metadata": {
        "id": "P-PDMxUMbN8M",
        "colab_type": "code",
        "colab": {
          "base_uri": "https://localhost:8080/",
          "height": 226
        },
        "outputId": "4390b78b-97a1-408d-ebf0-b2602b5fa337"
      },
      "source": [
        "# 리스트를 활용한 수정\n",
        "# pd.iloc[]\n",
        "df.iloc[3:5,5]=[-1,-2]\n",
        "df"
      ],
      "execution_count": null,
      "outputs": [
        {
          "output_type": "execute_result",
          "data": {
            "text/html": [
              "<div>\n",
              "<style scoped>\n",
              "    .dataframe tbody tr th:only-of-type {\n",
              "        vertical-align: middle;\n",
              "    }\n",
              "\n",
              "    .dataframe tbody tr th {\n",
              "        vertical-align: top;\n",
              "    }\n",
              "\n",
              "    .dataframe thead th {\n",
              "        text-align: right;\n",
              "    }\n",
              "</style>\n",
              "<table border=\"1\" class=\"dataframe\">\n",
              "  <thead>\n",
              "    <tr style=\"text-align: right;\">\n",
              "      <th></th>\n",
              "      <th>A</th>\n",
              "      <th>B</th>\n",
              "      <th>C</th>\n",
              "      <th>D</th>\n",
              "      <th>E</th>\n",
              "      <th>F</th>\n",
              "    </tr>\n",
              "  </thead>\n",
              "  <tbody>\n",
              "    <tr>\n",
              "      <th>2020-09-01</th>\n",
              "      <td>0.669573</td>\n",
              "      <td>-1.539443</td>\n",
              "      <td>-1.760205</td>\n",
              "      <td>2.067187</td>\n",
              "      <td>0</td>\n",
              "      <td>0</td>\n",
              "    </tr>\n",
              "    <tr>\n",
              "      <th>2020-09-02</th>\n",
              "      <td>1.102297</td>\n",
              "      <td>0.049381</td>\n",
              "      <td>-0.332885</td>\n",
              "      <td>0.116439</td>\n",
              "      <td>1</td>\n",
              "      <td>1</td>\n",
              "    </tr>\n",
              "    <tr>\n",
              "      <th>2020-09-03</th>\n",
              "      <td>0.151348</td>\n",
              "      <td>-0.536063</td>\n",
              "      <td>0.808539</td>\n",
              "      <td>2.142285</td>\n",
              "      <td>1</td>\n",
              "      <td>2</td>\n",
              "    </tr>\n",
              "    <tr>\n",
              "      <th>2020-09-04</th>\n",
              "      <td>0.558475</td>\n",
              "      <td>0.108676</td>\n",
              "      <td>0.612921</td>\n",
              "      <td>-1.377114</td>\n",
              "      <td>1</td>\n",
              "      <td>-1</td>\n",
              "    </tr>\n",
              "    <tr>\n",
              "      <th>2020-09-05</th>\n",
              "      <td>1.872642</td>\n",
              "      <td>0.566274</td>\n",
              "      <td>-0.631545</td>\n",
              "      <td>1.139854</td>\n",
              "      <td>1</td>\n",
              "      <td>-2</td>\n",
              "    </tr>\n",
              "    <tr>\n",
              "      <th>2020-09-06</th>\n",
              "      <td>0.396975</td>\n",
              "      <td>-1.462933</td>\n",
              "      <td>-0.698484</td>\n",
              "      <td>0.695243</td>\n",
              "      <td>0</td>\n",
              "      <td>5</td>\n",
              "    </tr>\n",
              "  </tbody>\n",
              "</table>\n",
              "</div>"
            ],
            "text/plain": [
              "                   A         B         C         D  E  F\n",
              "2020-09-01  0.669573 -1.539443 -1.760205  2.067187  0  0\n",
              "2020-09-02  1.102297  0.049381 -0.332885  0.116439  1  1\n",
              "2020-09-03  0.151348 -0.536063  0.808539  2.142285  1  2\n",
              "2020-09-04  0.558475  0.108676  0.612921 -1.377114  1 -1\n",
              "2020-09-05  1.872642  0.566274 -0.631545  1.139854  1 -2\n",
              "2020-09-06  0.396975 -1.462933 -0.698484  0.695243  0  5"
            ]
          },
          "metadata": {
            "tags": []
          },
          "execution_count": 88
        }
      ]
    },
    {
      "cell_type": "code",
      "metadata": {
        "id": "y-yoiVdYBnar",
        "colab_type": "code",
        "colab": {
          "base_uri": "https://localhost:8080/",
          "height": 226
        },
        "outputId": "1141fd3f-aff1-4bc4-fd82-f88384d93b7b"
      },
      "source": [
        "# column 삭제\n",
        "# del\n",
        "del df['E']\n",
        "df"
      ],
      "execution_count": null,
      "outputs": [
        {
          "output_type": "execute_result",
          "data": {
            "text/html": [
              "<div>\n",
              "<style scoped>\n",
              "    .dataframe tbody tr th:only-of-type {\n",
              "        vertical-align: middle;\n",
              "    }\n",
              "\n",
              "    .dataframe tbody tr th {\n",
              "        vertical-align: top;\n",
              "    }\n",
              "\n",
              "    .dataframe thead th {\n",
              "        text-align: right;\n",
              "    }\n",
              "</style>\n",
              "<table border=\"1\" class=\"dataframe\">\n",
              "  <thead>\n",
              "    <tr style=\"text-align: right;\">\n",
              "      <th></th>\n",
              "      <th>A</th>\n",
              "      <th>B</th>\n",
              "      <th>C</th>\n",
              "      <th>D</th>\n",
              "      <th>F</th>\n",
              "    </tr>\n",
              "  </thead>\n",
              "  <tbody>\n",
              "    <tr>\n",
              "      <th>2020-09-01</th>\n",
              "      <td>0.669573</td>\n",
              "      <td>-1.539443</td>\n",
              "      <td>-1.760205</td>\n",
              "      <td>2.067187</td>\n",
              "      <td>0</td>\n",
              "    </tr>\n",
              "    <tr>\n",
              "      <th>2020-09-02</th>\n",
              "      <td>1.102297</td>\n",
              "      <td>0.049381</td>\n",
              "      <td>-0.332885</td>\n",
              "      <td>0.116439</td>\n",
              "      <td>1</td>\n",
              "    </tr>\n",
              "    <tr>\n",
              "      <th>2020-09-03</th>\n",
              "      <td>0.151348</td>\n",
              "      <td>-0.536063</td>\n",
              "      <td>0.808539</td>\n",
              "      <td>2.142285</td>\n",
              "      <td>2</td>\n",
              "    </tr>\n",
              "    <tr>\n",
              "      <th>2020-09-04</th>\n",
              "      <td>0.558475</td>\n",
              "      <td>0.108676</td>\n",
              "      <td>0.612921</td>\n",
              "      <td>-1.377114</td>\n",
              "      <td>-1</td>\n",
              "    </tr>\n",
              "    <tr>\n",
              "      <th>2020-09-05</th>\n",
              "      <td>1.872642</td>\n",
              "      <td>0.566274</td>\n",
              "      <td>-0.631545</td>\n",
              "      <td>1.139854</td>\n",
              "      <td>-2</td>\n",
              "    </tr>\n",
              "    <tr>\n",
              "      <th>2020-09-06</th>\n",
              "      <td>0.396975</td>\n",
              "      <td>-1.462933</td>\n",
              "      <td>-0.698484</td>\n",
              "      <td>0.695243</td>\n",
              "      <td>5</td>\n",
              "    </tr>\n",
              "  </tbody>\n",
              "</table>\n",
              "</div>"
            ],
            "text/plain": [
              "                   A         B         C         D  F\n",
              "2020-09-01  0.669573 -1.539443 -1.760205  2.067187  0\n",
              "2020-09-02  1.102297  0.049381 -0.332885  0.116439  1\n",
              "2020-09-03  0.151348 -0.536063  0.808539  2.142285  2\n",
              "2020-09-04  0.558475  0.108676  0.612921 -1.377114 -1\n",
              "2020-09-05  1.872642  0.566274 -0.631545  1.139854 -2\n",
              "2020-09-06  0.396975 -1.462933 -0.698484  0.695243  5"
            ]
          },
          "metadata": {
            "tags": []
          },
          "execution_count": 89
        }
      ]
    },
    {
      "cell_type": "code",
      "metadata": {
        "id": "G8QR2kRYD3jE",
        "colab_type": "code",
        "colab": {
          "base_uri": "https://localhost:8080/",
          "height": 226
        },
        "outputId": "e8f11304-ab26-43d4-9d73-c621197a607f"
      },
      "source": [
        "# column 삭제\n",
        "# pd.drop( )\n",
        "df.drop('F',axis=1,inplace=True)\n",
        "df"
      ],
      "execution_count": null,
      "outputs": [
        {
          "output_type": "execute_result",
          "data": {
            "text/html": [
              "<div>\n",
              "<style scoped>\n",
              "    .dataframe tbody tr th:only-of-type {\n",
              "        vertical-align: middle;\n",
              "    }\n",
              "\n",
              "    .dataframe tbody tr th {\n",
              "        vertical-align: top;\n",
              "    }\n",
              "\n",
              "    .dataframe thead th {\n",
              "        text-align: right;\n",
              "    }\n",
              "</style>\n",
              "<table border=\"1\" class=\"dataframe\">\n",
              "  <thead>\n",
              "    <tr style=\"text-align: right;\">\n",
              "      <th></th>\n",
              "      <th>A</th>\n",
              "      <th>B</th>\n",
              "      <th>C</th>\n",
              "      <th>D</th>\n",
              "    </tr>\n",
              "  </thead>\n",
              "  <tbody>\n",
              "    <tr>\n",
              "      <th>2020-09-01</th>\n",
              "      <td>0.669573</td>\n",
              "      <td>-1.539443</td>\n",
              "      <td>-1.760205</td>\n",
              "      <td>2.067187</td>\n",
              "    </tr>\n",
              "    <tr>\n",
              "      <th>2020-09-02</th>\n",
              "      <td>1.102297</td>\n",
              "      <td>0.049381</td>\n",
              "      <td>-0.332885</td>\n",
              "      <td>0.116439</td>\n",
              "    </tr>\n",
              "    <tr>\n",
              "      <th>2020-09-03</th>\n",
              "      <td>0.151348</td>\n",
              "      <td>-0.536063</td>\n",
              "      <td>0.808539</td>\n",
              "      <td>2.142285</td>\n",
              "    </tr>\n",
              "    <tr>\n",
              "      <th>2020-09-04</th>\n",
              "      <td>0.558475</td>\n",
              "      <td>0.108676</td>\n",
              "      <td>0.612921</td>\n",
              "      <td>-1.377114</td>\n",
              "    </tr>\n",
              "    <tr>\n",
              "      <th>2020-09-05</th>\n",
              "      <td>1.872642</td>\n",
              "      <td>0.566274</td>\n",
              "      <td>-0.631545</td>\n",
              "      <td>1.139854</td>\n",
              "    </tr>\n",
              "    <tr>\n",
              "      <th>2020-09-06</th>\n",
              "      <td>0.396975</td>\n",
              "      <td>-1.462933</td>\n",
              "      <td>-0.698484</td>\n",
              "      <td>0.695243</td>\n",
              "    </tr>\n",
              "  </tbody>\n",
              "</table>\n",
              "</div>"
            ],
            "text/plain": [
              "                   A         B         C         D\n",
              "2020-09-01  0.669573 -1.539443 -1.760205  2.067187\n",
              "2020-09-02  1.102297  0.049381 -0.332885  0.116439\n",
              "2020-09-03  0.151348 -0.536063  0.808539  2.142285\n",
              "2020-09-04  0.558475  0.108676  0.612921 -1.377114\n",
              "2020-09-05  1.872642  0.566274 -0.631545  1.139854\n",
              "2020-09-06  0.396975 -1.462933 -0.698484  0.695243"
            ]
          },
          "metadata": {
            "tags": []
          },
          "execution_count": 90
        }
      ]
    },
    {
      "cell_type": "markdown",
      "metadata": {
        "id": "gWpK5UfF92sR",
        "colab_type": "text"
      },
      "source": [
        "# 행 추가, 삭제\n",
        "* df.loc['new index',:] = values\n",
        "* pd.drop( )"
      ]
    },
    {
      "cell_type": "code",
      "metadata": {
        "id": "UDy0-UVx-Knu",
        "colab_type": "code",
        "colab": {
          "base_uri": "https://localhost:8080/",
          "height": 256
        },
        "outputId": "8cccb9eb-fe1f-4443-f2b6-00bc369fbe0b"
      },
      "source": [
        "# 새로운 행 삽입 \n",
        "df.loc[pd.to_datetime('20200907'),:]=[1,2,3,4]\n",
        "df"
      ],
      "execution_count": null,
      "outputs": [
        {
          "output_type": "execute_result",
          "data": {
            "text/html": [
              "<div>\n",
              "<style scoped>\n",
              "    .dataframe tbody tr th:only-of-type {\n",
              "        vertical-align: middle;\n",
              "    }\n",
              "\n",
              "    .dataframe tbody tr th {\n",
              "        vertical-align: top;\n",
              "    }\n",
              "\n",
              "    .dataframe thead th {\n",
              "        text-align: right;\n",
              "    }\n",
              "</style>\n",
              "<table border=\"1\" class=\"dataframe\">\n",
              "  <thead>\n",
              "    <tr style=\"text-align: right;\">\n",
              "      <th></th>\n",
              "      <th>A</th>\n",
              "      <th>B</th>\n",
              "      <th>C</th>\n",
              "      <th>D</th>\n",
              "    </tr>\n",
              "  </thead>\n",
              "  <tbody>\n",
              "    <tr>\n",
              "      <th>2020-09-01</th>\n",
              "      <td>0.669573</td>\n",
              "      <td>-1.539443</td>\n",
              "      <td>-1.760205</td>\n",
              "      <td>2.067187</td>\n",
              "    </tr>\n",
              "    <tr>\n",
              "      <th>2020-09-02</th>\n",
              "      <td>1.102297</td>\n",
              "      <td>0.049381</td>\n",
              "      <td>-0.332885</td>\n",
              "      <td>0.116439</td>\n",
              "    </tr>\n",
              "    <tr>\n",
              "      <th>2020-09-03</th>\n",
              "      <td>0.151348</td>\n",
              "      <td>-0.536063</td>\n",
              "      <td>0.808539</td>\n",
              "      <td>2.142285</td>\n",
              "    </tr>\n",
              "    <tr>\n",
              "      <th>2020-09-04</th>\n",
              "      <td>0.558475</td>\n",
              "      <td>0.108676</td>\n",
              "      <td>0.612921</td>\n",
              "      <td>-1.377114</td>\n",
              "    </tr>\n",
              "    <tr>\n",
              "      <th>2020-09-05</th>\n",
              "      <td>1.872642</td>\n",
              "      <td>0.566274</td>\n",
              "      <td>-0.631545</td>\n",
              "      <td>1.139854</td>\n",
              "    </tr>\n",
              "    <tr>\n",
              "      <th>2020-09-06</th>\n",
              "      <td>0.396975</td>\n",
              "      <td>-1.462933</td>\n",
              "      <td>-0.698484</td>\n",
              "      <td>0.695243</td>\n",
              "    </tr>\n",
              "    <tr>\n",
              "      <th>2020-09-07</th>\n",
              "      <td>1.000000</td>\n",
              "      <td>2.000000</td>\n",
              "      <td>3.000000</td>\n",
              "      <td>4.000000</td>\n",
              "    </tr>\n",
              "  </tbody>\n",
              "</table>\n",
              "</div>"
            ],
            "text/plain": [
              "                   A         B         C         D\n",
              "2020-09-01  0.669573 -1.539443 -1.760205  2.067187\n",
              "2020-09-02  1.102297  0.049381 -0.332885  0.116439\n",
              "2020-09-03  0.151348 -0.536063  0.808539  2.142285\n",
              "2020-09-04  0.558475  0.108676  0.612921 -1.377114\n",
              "2020-09-05  1.872642  0.566274 -0.631545  1.139854\n",
              "2020-09-06  0.396975 -1.462933 -0.698484  0.695243\n",
              "2020-09-07  1.000000  2.000000  3.000000  4.000000"
            ]
          },
          "metadata": {
            "tags": []
          },
          "execution_count": 91
        }
      ]
    },
    {
      "cell_type": "code",
      "metadata": {
        "id": "d7mS9Y7pCS4n",
        "colab_type": "code",
        "colab": {
          "base_uri": "https://localhost:8080/",
          "height": 226
        },
        "outputId": "6f105add-764b-4046-9c10-3ba4af401611"
      },
      "source": [
        "# 행 삭제\n",
        "df.drop(pd.to_datetime('20200907'),axis=0,inplace=True)\n",
        "df"
      ],
      "execution_count": null,
      "outputs": [
        {
          "output_type": "execute_result",
          "data": {
            "text/html": [
              "<div>\n",
              "<style scoped>\n",
              "    .dataframe tbody tr th:only-of-type {\n",
              "        vertical-align: middle;\n",
              "    }\n",
              "\n",
              "    .dataframe tbody tr th {\n",
              "        vertical-align: top;\n",
              "    }\n",
              "\n",
              "    .dataframe thead th {\n",
              "        text-align: right;\n",
              "    }\n",
              "</style>\n",
              "<table border=\"1\" class=\"dataframe\">\n",
              "  <thead>\n",
              "    <tr style=\"text-align: right;\">\n",
              "      <th></th>\n",
              "      <th>A</th>\n",
              "      <th>B</th>\n",
              "      <th>C</th>\n",
              "      <th>D</th>\n",
              "    </tr>\n",
              "  </thead>\n",
              "  <tbody>\n",
              "    <tr>\n",
              "      <th>2020-09-01</th>\n",
              "      <td>0.669573</td>\n",
              "      <td>-1.539443</td>\n",
              "      <td>-1.760205</td>\n",
              "      <td>2.067187</td>\n",
              "    </tr>\n",
              "    <tr>\n",
              "      <th>2020-09-02</th>\n",
              "      <td>1.102297</td>\n",
              "      <td>0.049381</td>\n",
              "      <td>-0.332885</td>\n",
              "      <td>0.116439</td>\n",
              "    </tr>\n",
              "    <tr>\n",
              "      <th>2020-09-03</th>\n",
              "      <td>0.151348</td>\n",
              "      <td>-0.536063</td>\n",
              "      <td>0.808539</td>\n",
              "      <td>2.142285</td>\n",
              "    </tr>\n",
              "    <tr>\n",
              "      <th>2020-09-04</th>\n",
              "      <td>0.558475</td>\n",
              "      <td>0.108676</td>\n",
              "      <td>0.612921</td>\n",
              "      <td>-1.377114</td>\n",
              "    </tr>\n",
              "    <tr>\n",
              "      <th>2020-09-05</th>\n",
              "      <td>1.872642</td>\n",
              "      <td>0.566274</td>\n",
              "      <td>-0.631545</td>\n",
              "      <td>1.139854</td>\n",
              "    </tr>\n",
              "    <tr>\n",
              "      <th>2020-09-06</th>\n",
              "      <td>0.396975</td>\n",
              "      <td>-1.462933</td>\n",
              "      <td>-0.698484</td>\n",
              "      <td>0.695243</td>\n",
              "    </tr>\n",
              "  </tbody>\n",
              "</table>\n",
              "</div>"
            ],
            "text/plain": [
              "                   A         B         C         D\n",
              "2020-09-01  0.669573 -1.539443 -1.760205  2.067187\n",
              "2020-09-02  1.102297  0.049381 -0.332885  0.116439\n",
              "2020-09-03  0.151348 -0.536063  0.808539  2.142285\n",
              "2020-09-04  0.558475  0.108676  0.612921 -1.377114\n",
              "2020-09-05  1.872642  0.566274 -0.631545  1.139854\n",
              "2020-09-06  0.396975 -1.462933 -0.698484  0.695243"
            ]
          },
          "metadata": {
            "tags": []
          },
          "execution_count": 92
        }
      ]
    },
    {
      "cell_type": "markdown",
      "metadata": {
        "id": "hjeufV81bkGz",
        "colab_type": "text"
      },
      "source": [
        "# 누락값 처리\n",
        "* np.nan\n",
        "* np.isna( )\n",
        "* np.dropna( )\n",
        "* np.fillna( )"
      ]
    },
    {
      "cell_type": "code",
      "metadata": {
        "id": "Vcn7NLDL4aoz",
        "colab_type": "code",
        "colab": {
          "base_uri": "https://localhost:8080/",
          "height": 226
        },
        "outputId": "89ba6a0f-0b15-4a37-ec34-4f25e420e91a"
      },
      "source": [
        "# 누락 데이터 만들기\n",
        "df.at['20200903','D']=np.nan\n",
        "df.at['20200905','A']=np.nan\n",
        "df"
      ],
      "execution_count": null,
      "outputs": [
        {
          "output_type": "execute_result",
          "data": {
            "text/html": [
              "<div>\n",
              "<style scoped>\n",
              "    .dataframe tbody tr th:only-of-type {\n",
              "        vertical-align: middle;\n",
              "    }\n",
              "\n",
              "    .dataframe tbody tr th {\n",
              "        vertical-align: top;\n",
              "    }\n",
              "\n",
              "    .dataframe thead th {\n",
              "        text-align: right;\n",
              "    }\n",
              "</style>\n",
              "<table border=\"1\" class=\"dataframe\">\n",
              "  <thead>\n",
              "    <tr style=\"text-align: right;\">\n",
              "      <th></th>\n",
              "      <th>A</th>\n",
              "      <th>B</th>\n",
              "      <th>C</th>\n",
              "      <th>D</th>\n",
              "    </tr>\n",
              "  </thead>\n",
              "  <tbody>\n",
              "    <tr>\n",
              "      <th>2020-09-01</th>\n",
              "      <td>0.669573</td>\n",
              "      <td>-1.539443</td>\n",
              "      <td>-1.760205</td>\n",
              "      <td>2.067187</td>\n",
              "    </tr>\n",
              "    <tr>\n",
              "      <th>2020-09-02</th>\n",
              "      <td>1.102297</td>\n",
              "      <td>0.049381</td>\n",
              "      <td>-0.332885</td>\n",
              "      <td>0.116439</td>\n",
              "    </tr>\n",
              "    <tr>\n",
              "      <th>2020-09-03</th>\n",
              "      <td>0.151348</td>\n",
              "      <td>-0.536063</td>\n",
              "      <td>0.808539</td>\n",
              "      <td>NaN</td>\n",
              "    </tr>\n",
              "    <tr>\n",
              "      <th>2020-09-04</th>\n",
              "      <td>0.558475</td>\n",
              "      <td>0.108676</td>\n",
              "      <td>0.612921</td>\n",
              "      <td>-1.377114</td>\n",
              "    </tr>\n",
              "    <tr>\n",
              "      <th>2020-09-05</th>\n",
              "      <td>NaN</td>\n",
              "      <td>0.566274</td>\n",
              "      <td>-0.631545</td>\n",
              "      <td>1.139854</td>\n",
              "    </tr>\n",
              "    <tr>\n",
              "      <th>2020-09-06</th>\n",
              "      <td>0.396975</td>\n",
              "      <td>-1.462933</td>\n",
              "      <td>-0.698484</td>\n",
              "      <td>0.695243</td>\n",
              "    </tr>\n",
              "  </tbody>\n",
              "</table>\n",
              "</div>"
            ],
            "text/plain": [
              "                   A         B         C         D\n",
              "2020-09-01  0.669573 -1.539443 -1.760205  2.067187\n",
              "2020-09-02  1.102297  0.049381 -0.332885  0.116439\n",
              "2020-09-03  0.151348 -0.536063  0.808539       NaN\n",
              "2020-09-04  0.558475  0.108676  0.612921 -1.377114\n",
              "2020-09-05       NaN  0.566274 -0.631545  1.139854\n",
              "2020-09-06  0.396975 -1.462933 -0.698484  0.695243"
            ]
          },
          "metadata": {
            "tags": []
          },
          "execution_count": 93
        }
      ]
    },
    {
      "cell_type": "code",
      "metadata": {
        "colab_type": "code",
        "id": "RH01TigX6ZCM",
        "colab": {
          "base_uri": "https://localhost:8080/",
          "height": 226
        },
        "outputId": "549e66b9-165a-4bf2-d7ce-158593f26e41"
      },
      "source": [
        "# 누락값 확인\n",
        "df.isna()"
      ],
      "execution_count": null,
      "outputs": [
        {
          "output_type": "execute_result",
          "data": {
            "text/html": [
              "<div>\n",
              "<style scoped>\n",
              "    .dataframe tbody tr th:only-of-type {\n",
              "        vertical-align: middle;\n",
              "    }\n",
              "\n",
              "    .dataframe tbody tr th {\n",
              "        vertical-align: top;\n",
              "    }\n",
              "\n",
              "    .dataframe thead th {\n",
              "        text-align: right;\n",
              "    }\n",
              "</style>\n",
              "<table border=\"1\" class=\"dataframe\">\n",
              "  <thead>\n",
              "    <tr style=\"text-align: right;\">\n",
              "      <th></th>\n",
              "      <th>A</th>\n",
              "      <th>B</th>\n",
              "      <th>C</th>\n",
              "      <th>D</th>\n",
              "    </tr>\n",
              "  </thead>\n",
              "  <tbody>\n",
              "    <tr>\n",
              "      <th>2020-09-01</th>\n",
              "      <td>False</td>\n",
              "      <td>False</td>\n",
              "      <td>False</td>\n",
              "      <td>False</td>\n",
              "    </tr>\n",
              "    <tr>\n",
              "      <th>2020-09-02</th>\n",
              "      <td>False</td>\n",
              "      <td>False</td>\n",
              "      <td>False</td>\n",
              "      <td>False</td>\n",
              "    </tr>\n",
              "    <tr>\n",
              "      <th>2020-09-03</th>\n",
              "      <td>False</td>\n",
              "      <td>False</td>\n",
              "      <td>False</td>\n",
              "      <td>True</td>\n",
              "    </tr>\n",
              "    <tr>\n",
              "      <th>2020-09-04</th>\n",
              "      <td>False</td>\n",
              "      <td>False</td>\n",
              "      <td>False</td>\n",
              "      <td>False</td>\n",
              "    </tr>\n",
              "    <tr>\n",
              "      <th>2020-09-05</th>\n",
              "      <td>True</td>\n",
              "      <td>False</td>\n",
              "      <td>False</td>\n",
              "      <td>False</td>\n",
              "    </tr>\n",
              "    <tr>\n",
              "      <th>2020-09-06</th>\n",
              "      <td>False</td>\n",
              "      <td>False</td>\n",
              "      <td>False</td>\n",
              "      <td>False</td>\n",
              "    </tr>\n",
              "  </tbody>\n",
              "</table>\n",
              "</div>"
            ],
            "text/plain": [
              "                A      B      C      D\n",
              "2020-09-01  False  False  False  False\n",
              "2020-09-02  False  False  False  False\n",
              "2020-09-03  False  False  False   True\n",
              "2020-09-04  False  False  False  False\n",
              "2020-09-05   True  False  False  False\n",
              "2020-09-06  False  False  False  False"
            ]
          },
          "metadata": {
            "tags": []
          },
          "execution_count": 94
        }
      ]
    },
    {
      "cell_type": "code",
      "metadata": {
        "id": "m9zMBJLrcvRa",
        "colab_type": "code",
        "colab": {
          "base_uri": "https://localhost:8080/",
          "height": 166
        },
        "outputId": "587cf116-5e2d-4adc-9a3f-ac0034c9aa70"
      },
      "source": [
        "# 누락데이터가 포함된 index 삭제\n",
        "df.dropna()"
      ],
      "execution_count": null,
      "outputs": [
        {
          "output_type": "execute_result",
          "data": {
            "text/html": [
              "<div>\n",
              "<style scoped>\n",
              "    .dataframe tbody tr th:only-of-type {\n",
              "        vertical-align: middle;\n",
              "    }\n",
              "\n",
              "    .dataframe tbody tr th {\n",
              "        vertical-align: top;\n",
              "    }\n",
              "\n",
              "    .dataframe thead th {\n",
              "        text-align: right;\n",
              "    }\n",
              "</style>\n",
              "<table border=\"1\" class=\"dataframe\">\n",
              "  <thead>\n",
              "    <tr style=\"text-align: right;\">\n",
              "      <th></th>\n",
              "      <th>A</th>\n",
              "      <th>B</th>\n",
              "      <th>C</th>\n",
              "      <th>D</th>\n",
              "    </tr>\n",
              "  </thead>\n",
              "  <tbody>\n",
              "    <tr>\n",
              "      <th>2020-09-01</th>\n",
              "      <td>0.669573</td>\n",
              "      <td>-1.539443</td>\n",
              "      <td>-1.760205</td>\n",
              "      <td>2.067187</td>\n",
              "    </tr>\n",
              "    <tr>\n",
              "      <th>2020-09-02</th>\n",
              "      <td>1.102297</td>\n",
              "      <td>0.049381</td>\n",
              "      <td>-0.332885</td>\n",
              "      <td>0.116439</td>\n",
              "    </tr>\n",
              "    <tr>\n",
              "      <th>2020-09-04</th>\n",
              "      <td>0.558475</td>\n",
              "      <td>0.108676</td>\n",
              "      <td>0.612921</td>\n",
              "      <td>-1.377114</td>\n",
              "    </tr>\n",
              "    <tr>\n",
              "      <th>2020-09-06</th>\n",
              "      <td>0.396975</td>\n",
              "      <td>-1.462933</td>\n",
              "      <td>-0.698484</td>\n",
              "      <td>0.695243</td>\n",
              "    </tr>\n",
              "  </tbody>\n",
              "</table>\n",
              "</div>"
            ],
            "text/plain": [
              "                   A         B         C         D\n",
              "2020-09-01  0.669573 -1.539443 -1.760205  2.067187\n",
              "2020-09-02  1.102297  0.049381 -0.332885  0.116439\n",
              "2020-09-04  0.558475  0.108676  0.612921 -1.377114\n",
              "2020-09-06  0.396975 -1.462933 -0.698484  0.695243"
            ]
          },
          "metadata": {
            "tags": []
          },
          "execution_count": 95
        }
      ]
    },
    {
      "cell_type": "code",
      "metadata": {
        "id": "D7m-Sxp_c9tD",
        "colab_type": "code",
        "colab": {
          "base_uri": "https://localhost:8080/",
          "height": 226
        },
        "outputId": "d77ed2bf-c281-482d-90f7-5f31d9829dc0"
      },
      "source": [
        "# 누락값 체우기\n",
        "df.fillna(5,inplace=True)\n",
        "df"
      ],
      "execution_count": null,
      "outputs": [
        {
          "output_type": "execute_result",
          "data": {
            "text/html": [
              "<div>\n",
              "<style scoped>\n",
              "    .dataframe tbody tr th:only-of-type {\n",
              "        vertical-align: middle;\n",
              "    }\n",
              "\n",
              "    .dataframe tbody tr th {\n",
              "        vertical-align: top;\n",
              "    }\n",
              "\n",
              "    .dataframe thead th {\n",
              "        text-align: right;\n",
              "    }\n",
              "</style>\n",
              "<table border=\"1\" class=\"dataframe\">\n",
              "  <thead>\n",
              "    <tr style=\"text-align: right;\">\n",
              "      <th></th>\n",
              "      <th>A</th>\n",
              "      <th>B</th>\n",
              "      <th>C</th>\n",
              "      <th>D</th>\n",
              "    </tr>\n",
              "  </thead>\n",
              "  <tbody>\n",
              "    <tr>\n",
              "      <th>2020-09-01</th>\n",
              "      <td>0.669573</td>\n",
              "      <td>-1.539443</td>\n",
              "      <td>-1.760205</td>\n",
              "      <td>2.067187</td>\n",
              "    </tr>\n",
              "    <tr>\n",
              "      <th>2020-09-02</th>\n",
              "      <td>1.102297</td>\n",
              "      <td>0.049381</td>\n",
              "      <td>-0.332885</td>\n",
              "      <td>0.116439</td>\n",
              "    </tr>\n",
              "    <tr>\n",
              "      <th>2020-09-03</th>\n",
              "      <td>0.151348</td>\n",
              "      <td>-0.536063</td>\n",
              "      <td>0.808539</td>\n",
              "      <td>5.000000</td>\n",
              "    </tr>\n",
              "    <tr>\n",
              "      <th>2020-09-04</th>\n",
              "      <td>0.558475</td>\n",
              "      <td>0.108676</td>\n",
              "      <td>0.612921</td>\n",
              "      <td>-1.377114</td>\n",
              "    </tr>\n",
              "    <tr>\n",
              "      <th>2020-09-05</th>\n",
              "      <td>5.000000</td>\n",
              "      <td>0.566274</td>\n",
              "      <td>-0.631545</td>\n",
              "      <td>1.139854</td>\n",
              "    </tr>\n",
              "    <tr>\n",
              "      <th>2020-09-06</th>\n",
              "      <td>0.396975</td>\n",
              "      <td>-1.462933</td>\n",
              "      <td>-0.698484</td>\n",
              "      <td>0.695243</td>\n",
              "    </tr>\n",
              "  </tbody>\n",
              "</table>\n",
              "</div>"
            ],
            "text/plain": [
              "                   A         B         C         D\n",
              "2020-09-01  0.669573 -1.539443 -1.760205  2.067187\n",
              "2020-09-02  1.102297  0.049381 -0.332885  0.116439\n",
              "2020-09-03  0.151348 -0.536063  0.808539  5.000000\n",
              "2020-09-04  0.558475  0.108676  0.612921 -1.377114\n",
              "2020-09-05  5.000000  0.566274 -0.631545  1.139854\n",
              "2020-09-06  0.396975 -1.462933 -0.698484  0.695243"
            ]
          },
          "metadata": {
            "tags": []
          },
          "execution_count": 96
        }
      ]
    },
    {
      "cell_type": "code",
      "metadata": {
        "id": "j1H2I-vDc-Y2",
        "colab_type": "code",
        "colab": {
          "base_uri": "https://localhost:8080/",
          "height": 226
        },
        "outputId": "3da0c387-84f1-497f-c8f0-2db74d0aea3a"
      },
      "source": [
        "# 누락값 확인\n",
        "df.isna()"
      ],
      "execution_count": null,
      "outputs": [
        {
          "output_type": "execute_result",
          "data": {
            "text/html": [
              "<div>\n",
              "<style scoped>\n",
              "    .dataframe tbody tr th:only-of-type {\n",
              "        vertical-align: middle;\n",
              "    }\n",
              "\n",
              "    .dataframe tbody tr th {\n",
              "        vertical-align: top;\n",
              "    }\n",
              "\n",
              "    .dataframe thead th {\n",
              "        text-align: right;\n",
              "    }\n",
              "</style>\n",
              "<table border=\"1\" class=\"dataframe\">\n",
              "  <thead>\n",
              "    <tr style=\"text-align: right;\">\n",
              "      <th></th>\n",
              "      <th>A</th>\n",
              "      <th>B</th>\n",
              "      <th>C</th>\n",
              "      <th>D</th>\n",
              "    </tr>\n",
              "  </thead>\n",
              "  <tbody>\n",
              "    <tr>\n",
              "      <th>2020-09-01</th>\n",
              "      <td>False</td>\n",
              "      <td>False</td>\n",
              "      <td>False</td>\n",
              "      <td>False</td>\n",
              "    </tr>\n",
              "    <tr>\n",
              "      <th>2020-09-02</th>\n",
              "      <td>False</td>\n",
              "      <td>False</td>\n",
              "      <td>False</td>\n",
              "      <td>False</td>\n",
              "    </tr>\n",
              "    <tr>\n",
              "      <th>2020-09-03</th>\n",
              "      <td>False</td>\n",
              "      <td>False</td>\n",
              "      <td>False</td>\n",
              "      <td>False</td>\n",
              "    </tr>\n",
              "    <tr>\n",
              "      <th>2020-09-04</th>\n",
              "      <td>False</td>\n",
              "      <td>False</td>\n",
              "      <td>False</td>\n",
              "      <td>False</td>\n",
              "    </tr>\n",
              "    <tr>\n",
              "      <th>2020-09-05</th>\n",
              "      <td>False</td>\n",
              "      <td>False</td>\n",
              "      <td>False</td>\n",
              "      <td>False</td>\n",
              "    </tr>\n",
              "    <tr>\n",
              "      <th>2020-09-06</th>\n",
              "      <td>False</td>\n",
              "      <td>False</td>\n",
              "      <td>False</td>\n",
              "      <td>False</td>\n",
              "    </tr>\n",
              "  </tbody>\n",
              "</table>\n",
              "</div>"
            ],
            "text/plain": [
              "                A      B      C      D\n",
              "2020-09-01  False  False  False  False\n",
              "2020-09-02  False  False  False  False\n",
              "2020-09-03  False  False  False  False\n",
              "2020-09-04  False  False  False  False\n",
              "2020-09-05  False  False  False  False\n",
              "2020-09-06  False  False  False  False"
            ]
          },
          "metadata": {
            "tags": []
          },
          "execution_count": 97
        }
      ]
    },
    {
      "cell_type": "markdown",
      "metadata": {
        "id": "2-haS1uRdhOY",
        "colab_type": "text"
      },
      "source": [
        "# 데이터프레임 연산\n",
        "* pd.sum( )\n",
        "* pd.mean( )\n",
        "* pd.shift( )\n",
        "* pd.sub( )\n",
        "* pd.apply( )\n",
        "* pd.cumsum( )\n",
        "\n",
        "* count 전체 성분의 (NaN이 아닌) 값의 갯수를 계산\n",
        "\n",
        "* min, max 전체 성분의 최솟, 최댓값을 계산\n",
        "\n",
        "* argmin, argmax 전체 성분의 최솟값, 최댓값이 위치한 (정수)인덱스를 반환\n",
        "\n",
        "* idxmin, idxmax 전체 인덱스 중 최솟값, 최댓값을 반환\n",
        "\n",
        "* quantile 전체 성분의 특정 사분위수에 해당하는 값을 반환 (0~1 사이)\n",
        "\n",
        "* median 전체 성분의 중간값을 반환\n",
        "\n",
        "* mad 전체 성분의 평균값으로부터의 절대 편차(absolute deviation)의 평균을 계산\n",
        "\n",
        "* std, var 전체 성분의 표준편차, 분산을 계산\n",
        "\n",
        "* cumsum 맨 첫 번째 성분부터 각 성분까지의 누적합을 계산 (0에서부터 계속 더해짐)\n",
        "\n",
        "* cumprod 맨 첫번째 성분부터 각 성분까지의 누적곱을 계산 (1에서부터 계속 곱해짐)"
      ]
    },
    {
      "cell_type": "code",
      "metadata": {
        "id": "OGwDJ3zZJd02",
        "colab_type": "code",
        "colab": {
          "base_uri": "https://localhost:8080/",
          "height": 226
        },
        "outputId": "c332d542-84f7-462c-8bdd-5badd10cd355"
      },
      "source": [
        "df.loc['20200903','C']=np.nan\n",
        "df"
      ],
      "execution_count": null,
      "outputs": [
        {
          "output_type": "execute_result",
          "data": {
            "text/html": [
              "<div>\n",
              "<style scoped>\n",
              "    .dataframe tbody tr th:only-of-type {\n",
              "        vertical-align: middle;\n",
              "    }\n",
              "\n",
              "    .dataframe tbody tr th {\n",
              "        vertical-align: top;\n",
              "    }\n",
              "\n",
              "    .dataframe thead th {\n",
              "        text-align: right;\n",
              "    }\n",
              "</style>\n",
              "<table border=\"1\" class=\"dataframe\">\n",
              "  <thead>\n",
              "    <tr style=\"text-align: right;\">\n",
              "      <th></th>\n",
              "      <th>A</th>\n",
              "      <th>B</th>\n",
              "      <th>C</th>\n",
              "      <th>D</th>\n",
              "    </tr>\n",
              "  </thead>\n",
              "  <tbody>\n",
              "    <tr>\n",
              "      <th>2020-09-01</th>\n",
              "      <td>0.669573</td>\n",
              "      <td>-1.539443</td>\n",
              "      <td>-1.760205</td>\n",
              "      <td>2.067187</td>\n",
              "    </tr>\n",
              "    <tr>\n",
              "      <th>2020-09-02</th>\n",
              "      <td>1.102297</td>\n",
              "      <td>0.049381</td>\n",
              "      <td>-0.332885</td>\n",
              "      <td>0.116439</td>\n",
              "    </tr>\n",
              "    <tr>\n",
              "      <th>2020-09-03</th>\n",
              "      <td>0.151348</td>\n",
              "      <td>-0.536063</td>\n",
              "      <td>NaN</td>\n",
              "      <td>5.000000</td>\n",
              "    </tr>\n",
              "    <tr>\n",
              "      <th>2020-09-04</th>\n",
              "      <td>0.558475</td>\n",
              "      <td>0.108676</td>\n",
              "      <td>0.612921</td>\n",
              "      <td>-1.377114</td>\n",
              "    </tr>\n",
              "    <tr>\n",
              "      <th>2020-09-05</th>\n",
              "      <td>5.000000</td>\n",
              "      <td>0.566274</td>\n",
              "      <td>-0.631545</td>\n",
              "      <td>1.139854</td>\n",
              "    </tr>\n",
              "    <tr>\n",
              "      <th>2020-09-06</th>\n",
              "      <td>0.396975</td>\n",
              "      <td>-1.462933</td>\n",
              "      <td>-0.698484</td>\n",
              "      <td>0.695243</td>\n",
              "    </tr>\n",
              "  </tbody>\n",
              "</table>\n",
              "</div>"
            ],
            "text/plain": [
              "                   A         B         C         D\n",
              "2020-09-01  0.669573 -1.539443 -1.760205  2.067187\n",
              "2020-09-02  1.102297  0.049381 -0.332885  0.116439\n",
              "2020-09-03  0.151348 -0.536063       NaN  5.000000\n",
              "2020-09-04  0.558475  0.108676  0.612921 -1.377114\n",
              "2020-09-05  5.000000  0.566274 -0.631545  1.139854\n",
              "2020-09-06  0.396975 -1.462933 -0.698484  0.695243"
            ]
          },
          "metadata": {
            "tags": []
          },
          "execution_count": 98
        }
      ]
    },
    {
      "cell_type": "code",
      "metadata": {
        "id": "en-6oARqINZE",
        "colab_type": "code",
        "colab": {
          "base_uri": "https://localhost:8080/",
          "height": 104
        },
        "outputId": "3ca9c2b8-0dc1-484c-f600-9ef13f155d98"
      },
      "source": [
        "# axis=0 뱡향 합\n",
        "# skipna=False NaN에 대한 연산을 하지 않음\n",
        "df.sum(skipna=False)"
      ],
      "execution_count": null,
      "outputs": [
        {
          "output_type": "execute_result",
          "data": {
            "text/plain": [
              "A    7.878668\n",
              "B   -2.814108\n",
              "C         NaN\n",
              "D    7.641608\n",
              "dtype: float64"
            ]
          },
          "metadata": {
            "tags": []
          },
          "execution_count": 99
        }
      ]
    },
    {
      "cell_type": "code",
      "metadata": {
        "id": "LmuSFVMxItLk",
        "colab_type": "code",
        "colab": {
          "base_uri": "https://localhost:8080/",
          "height": 139
        },
        "outputId": "5df07d34-6223-41a3-a9ff-e1ebbac64c39"
      },
      "source": [
        "# axis=1 뱡향 합\n",
        "df.sum(axis=1)"
      ],
      "execution_count": null,
      "outputs": [
        {
          "output_type": "execute_result",
          "data": {
            "text/plain": [
              "2020-09-01   -0.562888\n",
              "2020-09-02    0.935232\n",
              "2020-09-03    4.615285\n",
              "2020-09-04   -0.097042\n",
              "2020-09-05    6.074583\n",
              "2020-09-06   -1.069199\n",
              "Freq: D, dtype: float64"
            ]
          },
          "metadata": {
            "tags": []
          },
          "execution_count": 100
        }
      ]
    },
    {
      "cell_type": "code",
      "metadata": {
        "id": "ouJu64dydkaC",
        "colab_type": "code",
        "colab": {
          "base_uri": "https://localhost:8080/",
          "height": 104
        },
        "outputId": "b5696ee4-6654-4b31-93ec-e13395e3782f"
      },
      "source": [
        "# axis=0 방향 평균\n",
        "df.mean()"
      ],
      "execution_count": null,
      "outputs": [
        {
          "output_type": "execute_result",
          "data": {
            "text/plain": [
              "A    1.313111\n",
              "B   -0.469018\n",
              "C   -0.562040\n",
              "D    1.273601\n",
              "dtype: float64"
            ]
          },
          "metadata": {
            "tags": []
          },
          "execution_count": 101
        }
      ]
    },
    {
      "cell_type": "code",
      "metadata": {
        "id": "L4DORee4dlyp",
        "colab_type": "code",
        "colab": {
          "base_uri": "https://localhost:8080/",
          "height": 139
        },
        "outputId": "94ef2b2d-995c-4a8b-9fee-2800b79a0a5f"
      },
      "source": [
        "# axis=1 방향 평균\n",
        "df.mean(axis=1)"
      ],
      "execution_count": null,
      "outputs": [
        {
          "output_type": "execute_result",
          "data": {
            "text/plain": [
              "2020-09-01   -0.140722\n",
              "2020-09-02    0.233808\n",
              "2020-09-03    1.538428\n",
              "2020-09-04   -0.024261\n",
              "2020-09-05    1.518646\n",
              "2020-09-06   -0.267300\n",
              "Freq: D, dtype: float64"
            ]
          },
          "metadata": {
            "tags": []
          },
          "execution_count": 102
        }
      ]
    },
    {
      "cell_type": "code",
      "metadata": {
        "id": "wzPYsir3dxge",
        "colab_type": "code",
        "colab": {
          "base_uri": "https://localhost:8080/",
          "height": 226
        },
        "outputId": "f8d8ff02-3884-4ef8-8d40-63561f91263b"
      },
      "source": [
        "# 데이터 이동\n",
        "df.shift(periods=1,axis=0)"
      ],
      "execution_count": null,
      "outputs": [
        {
          "output_type": "execute_result",
          "data": {
            "text/html": [
              "<div>\n",
              "<style scoped>\n",
              "    .dataframe tbody tr th:only-of-type {\n",
              "        vertical-align: middle;\n",
              "    }\n",
              "\n",
              "    .dataframe tbody tr th {\n",
              "        vertical-align: top;\n",
              "    }\n",
              "\n",
              "    .dataframe thead th {\n",
              "        text-align: right;\n",
              "    }\n",
              "</style>\n",
              "<table border=\"1\" class=\"dataframe\">\n",
              "  <thead>\n",
              "    <tr style=\"text-align: right;\">\n",
              "      <th></th>\n",
              "      <th>A</th>\n",
              "      <th>B</th>\n",
              "      <th>C</th>\n",
              "      <th>D</th>\n",
              "    </tr>\n",
              "  </thead>\n",
              "  <tbody>\n",
              "    <tr>\n",
              "      <th>2020-09-01</th>\n",
              "      <td>NaN</td>\n",
              "      <td>NaN</td>\n",
              "      <td>NaN</td>\n",
              "      <td>NaN</td>\n",
              "    </tr>\n",
              "    <tr>\n",
              "      <th>2020-09-02</th>\n",
              "      <td>0.669573</td>\n",
              "      <td>-1.539443</td>\n",
              "      <td>-1.760205</td>\n",
              "      <td>2.067187</td>\n",
              "    </tr>\n",
              "    <tr>\n",
              "      <th>2020-09-03</th>\n",
              "      <td>1.102297</td>\n",
              "      <td>0.049381</td>\n",
              "      <td>-0.332885</td>\n",
              "      <td>0.116439</td>\n",
              "    </tr>\n",
              "    <tr>\n",
              "      <th>2020-09-04</th>\n",
              "      <td>0.151348</td>\n",
              "      <td>-0.536063</td>\n",
              "      <td>NaN</td>\n",
              "      <td>5.000000</td>\n",
              "    </tr>\n",
              "    <tr>\n",
              "      <th>2020-09-05</th>\n",
              "      <td>0.558475</td>\n",
              "      <td>0.108676</td>\n",
              "      <td>0.612921</td>\n",
              "      <td>-1.377114</td>\n",
              "    </tr>\n",
              "    <tr>\n",
              "      <th>2020-09-06</th>\n",
              "      <td>5.000000</td>\n",
              "      <td>0.566274</td>\n",
              "      <td>-0.631545</td>\n",
              "      <td>1.139854</td>\n",
              "    </tr>\n",
              "  </tbody>\n",
              "</table>\n",
              "</div>"
            ],
            "text/plain": [
              "                   A         B         C         D\n",
              "2020-09-01       NaN       NaN       NaN       NaN\n",
              "2020-09-02  0.669573 -1.539443 -1.760205  2.067187\n",
              "2020-09-03  1.102297  0.049381 -0.332885  0.116439\n",
              "2020-09-04  0.151348 -0.536063       NaN  5.000000\n",
              "2020-09-05  0.558475  0.108676  0.612921 -1.377114\n",
              "2020-09-06  5.000000  0.566274 -0.631545  1.139854"
            ]
          },
          "metadata": {
            "tags": []
          },
          "execution_count": 103
        }
      ]
    },
    {
      "cell_type": "code",
      "metadata": {
        "id": "ahRHPNXdeLZh",
        "colab_type": "code",
        "colab": {
          "base_uri": "https://localhost:8080/",
          "height": 226
        },
        "outputId": "057b385b-6a48-4fe9-de8c-f3402a3da547"
      },
      "source": [
        "# 빼기\n",
        "df.sub(s,axis=0)"
      ],
      "execution_count": null,
      "outputs": [
        {
          "output_type": "execute_result",
          "data": {
            "text/html": [
              "<div>\n",
              "<style scoped>\n",
              "    .dataframe tbody tr th:only-of-type {\n",
              "        vertical-align: middle;\n",
              "    }\n",
              "\n",
              "    .dataframe tbody tr th {\n",
              "        vertical-align: top;\n",
              "    }\n",
              "\n",
              "    .dataframe thead th {\n",
              "        text-align: right;\n",
              "    }\n",
              "</style>\n",
              "<table border=\"1\" class=\"dataframe\">\n",
              "  <thead>\n",
              "    <tr style=\"text-align: right;\">\n",
              "      <th></th>\n",
              "      <th>A</th>\n",
              "      <th>B</th>\n",
              "      <th>C</th>\n",
              "      <th>D</th>\n",
              "    </tr>\n",
              "  </thead>\n",
              "  <tbody>\n",
              "    <tr>\n",
              "      <th>2020-09-01</th>\n",
              "      <td>0.669573</td>\n",
              "      <td>-1.539443</td>\n",
              "      <td>-1.760205</td>\n",
              "      <td>2.067187</td>\n",
              "    </tr>\n",
              "    <tr>\n",
              "      <th>2020-09-02</th>\n",
              "      <td>0.102297</td>\n",
              "      <td>-0.950619</td>\n",
              "      <td>-1.332885</td>\n",
              "      <td>-0.883561</td>\n",
              "    </tr>\n",
              "    <tr>\n",
              "      <th>2020-09-03</th>\n",
              "      <td>-1.848652</td>\n",
              "      <td>-2.536063</td>\n",
              "      <td>NaN</td>\n",
              "      <td>3.000000</td>\n",
              "    </tr>\n",
              "    <tr>\n",
              "      <th>2020-09-04</th>\n",
              "      <td>-2.441525</td>\n",
              "      <td>-2.891324</td>\n",
              "      <td>-2.387079</td>\n",
              "      <td>-4.377114</td>\n",
              "    </tr>\n",
              "    <tr>\n",
              "      <th>2020-09-05</th>\n",
              "      <td>1.000000</td>\n",
              "      <td>-3.433726</td>\n",
              "      <td>-4.631545</td>\n",
              "      <td>-2.860146</td>\n",
              "    </tr>\n",
              "    <tr>\n",
              "      <th>2020-09-06</th>\n",
              "      <td>-4.603025</td>\n",
              "      <td>-6.462933</td>\n",
              "      <td>-5.698484</td>\n",
              "      <td>-4.304757</td>\n",
              "    </tr>\n",
              "  </tbody>\n",
              "</table>\n",
              "</div>"
            ],
            "text/plain": [
              "                   A         B         C         D\n",
              "2020-09-01  0.669573 -1.539443 -1.760205  2.067187\n",
              "2020-09-02  0.102297 -0.950619 -1.332885 -0.883561\n",
              "2020-09-03 -1.848652 -2.536063       NaN  3.000000\n",
              "2020-09-04 -2.441525 -2.891324 -2.387079 -4.377114\n",
              "2020-09-05  1.000000 -3.433726 -4.631545 -2.860146\n",
              "2020-09-06 -4.603025 -6.462933 -5.698484 -4.304757"
            ]
          },
          "metadata": {
            "tags": []
          },
          "execution_count": 104
        }
      ]
    },
    {
      "cell_type": "code",
      "metadata": {
        "id": "ANBUqlbWE4TW",
        "colab_type": "code",
        "colab": {
          "base_uri": "https://localhost:8080/",
          "height": 226
        },
        "outputId": "6be749cf-f9f8-4562-c7eb-207bc37788cc"
      },
      "source": [
        "# 누적합\n",
        "df.cumsum(axis=0)"
      ],
      "execution_count": null,
      "outputs": [
        {
          "output_type": "execute_result",
          "data": {
            "text/html": [
              "<div>\n",
              "<style scoped>\n",
              "    .dataframe tbody tr th:only-of-type {\n",
              "        vertical-align: middle;\n",
              "    }\n",
              "\n",
              "    .dataframe tbody tr th {\n",
              "        vertical-align: top;\n",
              "    }\n",
              "\n",
              "    .dataframe thead th {\n",
              "        text-align: right;\n",
              "    }\n",
              "</style>\n",
              "<table border=\"1\" class=\"dataframe\">\n",
              "  <thead>\n",
              "    <tr style=\"text-align: right;\">\n",
              "      <th></th>\n",
              "      <th>A</th>\n",
              "      <th>B</th>\n",
              "      <th>C</th>\n",
              "      <th>D</th>\n",
              "    </tr>\n",
              "  </thead>\n",
              "  <tbody>\n",
              "    <tr>\n",
              "      <th>2020-09-01</th>\n",
              "      <td>0.669573</td>\n",
              "      <td>-1.539443</td>\n",
              "      <td>-1.760205</td>\n",
              "      <td>2.067187</td>\n",
              "    </tr>\n",
              "    <tr>\n",
              "      <th>2020-09-02</th>\n",
              "      <td>1.771871</td>\n",
              "      <td>-1.490062</td>\n",
              "      <td>-2.093090</td>\n",
              "      <td>2.183625</td>\n",
              "    </tr>\n",
              "    <tr>\n",
              "      <th>2020-09-03</th>\n",
              "      <td>1.923219</td>\n",
              "      <td>-2.026125</td>\n",
              "      <td>NaN</td>\n",
              "      <td>7.183625</td>\n",
              "    </tr>\n",
              "    <tr>\n",
              "      <th>2020-09-04</th>\n",
              "      <td>2.481693</td>\n",
              "      <td>-1.917449</td>\n",
              "      <td>-1.480169</td>\n",
              "      <td>5.806511</td>\n",
              "    </tr>\n",
              "    <tr>\n",
              "      <th>2020-09-05</th>\n",
              "      <td>7.481693</td>\n",
              "      <td>-1.351175</td>\n",
              "      <td>-2.111714</td>\n",
              "      <td>6.946365</td>\n",
              "    </tr>\n",
              "    <tr>\n",
              "      <th>2020-09-06</th>\n",
              "      <td>7.878668</td>\n",
              "      <td>-2.814108</td>\n",
              "      <td>-2.810198</td>\n",
              "      <td>7.641608</td>\n",
              "    </tr>\n",
              "  </tbody>\n",
              "</table>\n",
              "</div>"
            ],
            "text/plain": [
              "                   A         B         C         D\n",
              "2020-09-01  0.669573 -1.539443 -1.760205  2.067187\n",
              "2020-09-02  1.771871 -1.490062 -2.093090  2.183625\n",
              "2020-09-03  1.923219 -2.026125       NaN  7.183625\n",
              "2020-09-04  2.481693 -1.917449 -1.480169  5.806511\n",
              "2020-09-05  7.481693 -1.351175 -2.111714  6.946365\n",
              "2020-09-06  7.878668 -2.814108 -2.810198  7.641608"
            ]
          },
          "metadata": {
            "tags": []
          },
          "execution_count": 105
        }
      ]
    },
    {
      "cell_type": "code",
      "metadata": {
        "id": "YZdO8NTQf7Ul",
        "colab_type": "code",
        "colab": {
          "base_uri": "https://localhost:8080/",
          "height": 226
        },
        "outputId": "334b1118-6137-4bea-b46e-d5a944ffaf74"
      },
      "source": [
        "# 함수명으로 적용\n",
        "df.apply(np.cumsum)"
      ],
      "execution_count": null,
      "outputs": [
        {
          "output_type": "execute_result",
          "data": {
            "text/html": [
              "<div>\n",
              "<style scoped>\n",
              "    .dataframe tbody tr th:only-of-type {\n",
              "        vertical-align: middle;\n",
              "    }\n",
              "\n",
              "    .dataframe tbody tr th {\n",
              "        vertical-align: top;\n",
              "    }\n",
              "\n",
              "    .dataframe thead th {\n",
              "        text-align: right;\n",
              "    }\n",
              "</style>\n",
              "<table border=\"1\" class=\"dataframe\">\n",
              "  <thead>\n",
              "    <tr style=\"text-align: right;\">\n",
              "      <th></th>\n",
              "      <th>A</th>\n",
              "      <th>B</th>\n",
              "      <th>C</th>\n",
              "      <th>D</th>\n",
              "    </tr>\n",
              "  </thead>\n",
              "  <tbody>\n",
              "    <tr>\n",
              "      <th>2020-09-01</th>\n",
              "      <td>0.669573</td>\n",
              "      <td>-1.539443</td>\n",
              "      <td>-1.760205</td>\n",
              "      <td>2.067187</td>\n",
              "    </tr>\n",
              "    <tr>\n",
              "      <th>2020-09-02</th>\n",
              "      <td>1.771871</td>\n",
              "      <td>-1.490062</td>\n",
              "      <td>-2.093090</td>\n",
              "      <td>2.183625</td>\n",
              "    </tr>\n",
              "    <tr>\n",
              "      <th>2020-09-03</th>\n",
              "      <td>1.923219</td>\n",
              "      <td>-2.026125</td>\n",
              "      <td>NaN</td>\n",
              "      <td>7.183625</td>\n",
              "    </tr>\n",
              "    <tr>\n",
              "      <th>2020-09-04</th>\n",
              "      <td>2.481693</td>\n",
              "      <td>-1.917449</td>\n",
              "      <td>-1.480169</td>\n",
              "      <td>5.806511</td>\n",
              "    </tr>\n",
              "    <tr>\n",
              "      <th>2020-09-05</th>\n",
              "      <td>7.481693</td>\n",
              "      <td>-1.351175</td>\n",
              "      <td>-2.111714</td>\n",
              "      <td>6.946365</td>\n",
              "    </tr>\n",
              "    <tr>\n",
              "      <th>2020-09-06</th>\n",
              "      <td>7.878668</td>\n",
              "      <td>-2.814108</td>\n",
              "      <td>-2.810198</td>\n",
              "      <td>7.641608</td>\n",
              "    </tr>\n",
              "  </tbody>\n",
              "</table>\n",
              "</div>"
            ],
            "text/plain": [
              "                   A         B         C         D\n",
              "2020-09-01  0.669573 -1.539443 -1.760205  2.067187\n",
              "2020-09-02  1.771871 -1.490062 -2.093090  2.183625\n",
              "2020-09-03  1.923219 -2.026125       NaN  7.183625\n",
              "2020-09-04  2.481693 -1.917449 -1.480169  5.806511\n",
              "2020-09-05  7.481693 -1.351175 -2.111714  6.946365\n",
              "2020-09-06  7.878668 -2.814108 -2.810198  7.641608"
            ]
          },
          "metadata": {
            "tags": []
          },
          "execution_count": 106
        }
      ]
    },
    {
      "cell_type": "code",
      "metadata": {
        "id": "mUlRpfV5Fl4v",
        "colab_type": "code",
        "colab": {
          "base_uri": "https://localhost:8080/",
          "height": 104
        },
        "outputId": "c42f6ff0-bac0-4c2c-dfed-cb10409eb119"
      },
      "source": [
        "# 최대값\n",
        "df.max(axis=0)"
      ],
      "execution_count": null,
      "outputs": [
        {
          "output_type": "execute_result",
          "data": {
            "text/plain": [
              "A    5.000000\n",
              "B    0.566274\n",
              "C    0.612921\n",
              "D    5.000000\n",
              "dtype: float64"
            ]
          },
          "metadata": {
            "tags": []
          },
          "execution_count": 107
        }
      ]
    },
    {
      "cell_type": "code",
      "metadata": {
        "id": "RqvjFHjMFxDE",
        "colab_type": "code",
        "colab": {
          "base_uri": "https://localhost:8080/",
          "height": 139
        },
        "outputId": "9b626ed7-7f36-4176-de58-a2cd56df9d4c"
      },
      "source": [
        "# 최소값\n",
        "df.min(axis=1)"
      ],
      "execution_count": null,
      "outputs": [
        {
          "output_type": "execute_result",
          "data": {
            "text/plain": [
              "2020-09-01   -1.760205\n",
              "2020-09-02   -0.332885\n",
              "2020-09-03   -0.536063\n",
              "2020-09-04   -1.377114\n",
              "2020-09-05   -0.631545\n",
              "2020-09-06   -1.462933\n",
              "Freq: D, dtype: float64"
            ]
          },
          "metadata": {
            "tags": []
          },
          "execution_count": 108
        }
      ]
    },
    {
      "cell_type": "code",
      "metadata": {
        "id": "jEGsJQIygAbc",
        "colab_type": "code",
        "colab": {
          "base_uri": "https://localhost:8080/",
          "height": 104
        },
        "outputId": "6ecd8209-2537-4ad3-e84d-14bab3dfeb89"
      },
      "source": [
        "func = lambda x: x.max()-x.min()\n",
        "df.apply(func)"
      ],
      "execution_count": null,
      "outputs": [
        {
          "output_type": "execute_result",
          "data": {
            "text/plain": [
              "A    4.848652\n",
              "B    2.105717\n",
              "C    2.373126\n",
              "D    6.377114\n",
              "dtype: float64"
            ]
          },
          "metadata": {
            "tags": []
          },
          "execution_count": 109
        }
      ]
    },
    {
      "cell_type": "markdown",
      "metadata": {
        "id": "I0S4Y_SohzHa",
        "colab_type": "text"
      },
      "source": [
        "# 데이터프레임 결합\n",
        "* pd.concat( )"
      ]
    },
    {
      "cell_type": "code",
      "metadata": {
        "id": "zkR-Emllh7zj",
        "colab_type": "code",
        "colab": {
          "base_uri": "https://localhost:8080/",
          "height": 107
        },
        "outputId": "e4aa02b4-2c4c-47d1-9bdb-03319f6dca9f"
      },
      "source": [
        "df1=pd.DataFrame(np.random.randn(2,4))\n",
        "df1"
      ],
      "execution_count": null,
      "outputs": [
        {
          "output_type": "execute_result",
          "data": {
            "text/html": [
              "<div>\n",
              "<style scoped>\n",
              "    .dataframe tbody tr th:only-of-type {\n",
              "        vertical-align: middle;\n",
              "    }\n",
              "\n",
              "    .dataframe tbody tr th {\n",
              "        vertical-align: top;\n",
              "    }\n",
              "\n",
              "    .dataframe thead th {\n",
              "        text-align: right;\n",
              "    }\n",
              "</style>\n",
              "<table border=\"1\" class=\"dataframe\">\n",
              "  <thead>\n",
              "    <tr style=\"text-align: right;\">\n",
              "      <th></th>\n",
              "      <th>0</th>\n",
              "      <th>1</th>\n",
              "      <th>2</th>\n",
              "      <th>3</th>\n",
              "    </tr>\n",
              "  </thead>\n",
              "  <tbody>\n",
              "    <tr>\n",
              "      <th>0</th>\n",
              "      <td>-0.412798</td>\n",
              "      <td>0.104646</td>\n",
              "      <td>-0.164113</td>\n",
              "      <td>0.224506</td>\n",
              "    </tr>\n",
              "    <tr>\n",
              "      <th>1</th>\n",
              "      <td>-0.158136</td>\n",
              "      <td>-0.987749</td>\n",
              "      <td>1.321689</td>\n",
              "      <td>-0.469538</td>\n",
              "    </tr>\n",
              "  </tbody>\n",
              "</table>\n",
              "</div>"
            ],
            "text/plain": [
              "          0         1         2         3\n",
              "0 -0.412798  0.104646 -0.164113  0.224506\n",
              "1 -0.158136 -0.987749  1.321689 -0.469538"
            ]
          },
          "metadata": {
            "tags": []
          },
          "execution_count": 110
        }
      ]
    },
    {
      "cell_type": "code",
      "metadata": {
        "id": "gi8HttfmQ1OX",
        "colab_type": "code",
        "colab": {
          "base_uri": "https://localhost:8080/",
          "height": 137
        },
        "outputId": "aa76c1b0-5350-46f9-d0dc-e883a4b09948"
      },
      "source": [
        "df2=pd.DataFrame(np.random.randn(3,4))\n",
        "df2"
      ],
      "execution_count": null,
      "outputs": [
        {
          "output_type": "execute_result",
          "data": {
            "text/html": [
              "<div>\n",
              "<style scoped>\n",
              "    .dataframe tbody tr th:only-of-type {\n",
              "        vertical-align: middle;\n",
              "    }\n",
              "\n",
              "    .dataframe tbody tr th {\n",
              "        vertical-align: top;\n",
              "    }\n",
              "\n",
              "    .dataframe thead th {\n",
              "        text-align: right;\n",
              "    }\n",
              "</style>\n",
              "<table border=\"1\" class=\"dataframe\">\n",
              "  <thead>\n",
              "    <tr style=\"text-align: right;\">\n",
              "      <th></th>\n",
              "      <th>0</th>\n",
              "      <th>1</th>\n",
              "      <th>2</th>\n",
              "      <th>3</th>\n",
              "    </tr>\n",
              "  </thead>\n",
              "  <tbody>\n",
              "    <tr>\n",
              "      <th>0</th>\n",
              "      <td>-2.045727</td>\n",
              "      <td>1.446457</td>\n",
              "      <td>-0.172116</td>\n",
              "      <td>-0.617628</td>\n",
              "    </tr>\n",
              "    <tr>\n",
              "      <th>1</th>\n",
              "      <td>-0.658966</td>\n",
              "      <td>-1.364733</td>\n",
              "      <td>-0.654061</td>\n",
              "      <td>-1.586084</td>\n",
              "    </tr>\n",
              "    <tr>\n",
              "      <th>2</th>\n",
              "      <td>0.559350</td>\n",
              "      <td>-1.223986</td>\n",
              "      <td>2.428200</td>\n",
              "      <td>0.199033</td>\n",
              "    </tr>\n",
              "  </tbody>\n",
              "</table>\n",
              "</div>"
            ],
            "text/plain": [
              "          0         1         2         3\n",
              "0 -2.045727  1.446457 -0.172116 -0.617628\n",
              "1 -0.658966 -1.364733 -0.654061 -1.586084\n",
              "2  0.559350 -1.223986  2.428200  0.199033"
            ]
          },
          "metadata": {
            "tags": []
          },
          "execution_count": 111
        }
      ]
    },
    {
      "cell_type": "code",
      "metadata": {
        "id": "yzqlHq8fZyVT",
        "colab_type": "code",
        "colab": {
          "base_uri": "https://localhost:8080/",
          "height": 166
        },
        "outputId": "6555b42e-8078-41ca-9821-6803e3ee723a"
      },
      "source": [
        "df3=pd.DataFrame(np.random.randn(4,4))\n",
        "df3"
      ],
      "execution_count": null,
      "outputs": [
        {
          "output_type": "execute_result",
          "data": {
            "text/html": [
              "<div>\n",
              "<style scoped>\n",
              "    .dataframe tbody tr th:only-of-type {\n",
              "        vertical-align: middle;\n",
              "    }\n",
              "\n",
              "    .dataframe tbody tr th {\n",
              "        vertical-align: top;\n",
              "    }\n",
              "\n",
              "    .dataframe thead th {\n",
              "        text-align: right;\n",
              "    }\n",
              "</style>\n",
              "<table border=\"1\" class=\"dataframe\">\n",
              "  <thead>\n",
              "    <tr style=\"text-align: right;\">\n",
              "      <th></th>\n",
              "      <th>0</th>\n",
              "      <th>1</th>\n",
              "      <th>2</th>\n",
              "      <th>3</th>\n",
              "    </tr>\n",
              "  </thead>\n",
              "  <tbody>\n",
              "    <tr>\n",
              "      <th>0</th>\n",
              "      <td>-0.342820</td>\n",
              "      <td>-1.661446</td>\n",
              "      <td>-0.664511</td>\n",
              "      <td>0.150278</td>\n",
              "    </tr>\n",
              "    <tr>\n",
              "      <th>1</th>\n",
              "      <td>-0.854879</td>\n",
              "      <td>1.130438</td>\n",
              "      <td>-0.753762</td>\n",
              "      <td>-0.090129</td>\n",
              "    </tr>\n",
              "    <tr>\n",
              "      <th>2</th>\n",
              "      <td>0.298419</td>\n",
              "      <td>0.421415</td>\n",
              "      <td>-0.670385</td>\n",
              "      <td>0.100382</td>\n",
              "    </tr>\n",
              "    <tr>\n",
              "      <th>3</th>\n",
              "      <td>-0.512418</td>\n",
              "      <td>-0.441055</td>\n",
              "      <td>1.910758</td>\n",
              "      <td>-1.607535</td>\n",
              "    </tr>\n",
              "  </tbody>\n",
              "</table>\n",
              "</div>"
            ],
            "text/plain": [
              "          0         1         2         3\n",
              "0 -0.342820 -1.661446 -0.664511  0.150278\n",
              "1 -0.854879  1.130438 -0.753762 -0.090129\n",
              "2  0.298419  0.421415 -0.670385  0.100382\n",
              "3 -0.512418 -0.441055  1.910758 -1.607535"
            ]
          },
          "metadata": {
            "tags": []
          },
          "execution_count": 112
        }
      ]
    },
    {
      "cell_type": "code",
      "metadata": {
        "id": "iVxbVK_GjgaI",
        "colab_type": "code",
        "colab": {
          "base_uri": "https://localhost:8080/",
          "height": 316
        },
        "outputId": "53156760-6cd6-4987-a068-d8aac0c47b38"
      },
      "source": [
        "# index를 초기화 ignore_index=True\n",
        "pd.concat([df1,df2,df3],axis=0,ignore_index=True)"
      ],
      "execution_count": null,
      "outputs": [
        {
          "output_type": "execute_result",
          "data": {
            "text/html": [
              "<div>\n",
              "<style scoped>\n",
              "    .dataframe tbody tr th:only-of-type {\n",
              "        vertical-align: middle;\n",
              "    }\n",
              "\n",
              "    .dataframe tbody tr th {\n",
              "        vertical-align: top;\n",
              "    }\n",
              "\n",
              "    .dataframe thead th {\n",
              "        text-align: right;\n",
              "    }\n",
              "</style>\n",
              "<table border=\"1\" class=\"dataframe\">\n",
              "  <thead>\n",
              "    <tr style=\"text-align: right;\">\n",
              "      <th></th>\n",
              "      <th>0</th>\n",
              "      <th>1</th>\n",
              "      <th>2</th>\n",
              "      <th>3</th>\n",
              "    </tr>\n",
              "  </thead>\n",
              "  <tbody>\n",
              "    <tr>\n",
              "      <th>0</th>\n",
              "      <td>-0.412798</td>\n",
              "      <td>0.104646</td>\n",
              "      <td>-0.164113</td>\n",
              "      <td>0.224506</td>\n",
              "    </tr>\n",
              "    <tr>\n",
              "      <th>1</th>\n",
              "      <td>-0.158136</td>\n",
              "      <td>-0.987749</td>\n",
              "      <td>1.321689</td>\n",
              "      <td>-0.469538</td>\n",
              "    </tr>\n",
              "    <tr>\n",
              "      <th>2</th>\n",
              "      <td>-2.045727</td>\n",
              "      <td>1.446457</td>\n",
              "      <td>-0.172116</td>\n",
              "      <td>-0.617628</td>\n",
              "    </tr>\n",
              "    <tr>\n",
              "      <th>3</th>\n",
              "      <td>-0.658966</td>\n",
              "      <td>-1.364733</td>\n",
              "      <td>-0.654061</td>\n",
              "      <td>-1.586084</td>\n",
              "    </tr>\n",
              "    <tr>\n",
              "      <th>4</th>\n",
              "      <td>0.559350</td>\n",
              "      <td>-1.223986</td>\n",
              "      <td>2.428200</td>\n",
              "      <td>0.199033</td>\n",
              "    </tr>\n",
              "    <tr>\n",
              "      <th>5</th>\n",
              "      <td>-0.342820</td>\n",
              "      <td>-1.661446</td>\n",
              "      <td>-0.664511</td>\n",
              "      <td>0.150278</td>\n",
              "    </tr>\n",
              "    <tr>\n",
              "      <th>6</th>\n",
              "      <td>-0.854879</td>\n",
              "      <td>1.130438</td>\n",
              "      <td>-0.753762</td>\n",
              "      <td>-0.090129</td>\n",
              "    </tr>\n",
              "    <tr>\n",
              "      <th>7</th>\n",
              "      <td>0.298419</td>\n",
              "      <td>0.421415</td>\n",
              "      <td>-0.670385</td>\n",
              "      <td>0.100382</td>\n",
              "    </tr>\n",
              "    <tr>\n",
              "      <th>8</th>\n",
              "      <td>-0.512418</td>\n",
              "      <td>-0.441055</td>\n",
              "      <td>1.910758</td>\n",
              "      <td>-1.607535</td>\n",
              "    </tr>\n",
              "  </tbody>\n",
              "</table>\n",
              "</div>"
            ],
            "text/plain": [
              "          0         1         2         3\n",
              "0 -0.412798  0.104646 -0.164113  0.224506\n",
              "1 -0.158136 -0.987749  1.321689 -0.469538\n",
              "2 -2.045727  1.446457 -0.172116 -0.617628\n",
              "3 -0.658966 -1.364733 -0.654061 -1.586084\n",
              "4  0.559350 -1.223986  2.428200  0.199033\n",
              "5 -0.342820 -1.661446 -0.664511  0.150278\n",
              "6 -0.854879  1.130438 -0.753762 -0.090129\n",
              "7  0.298419  0.421415 -0.670385  0.100382\n",
              "8 -0.512418 -0.441055  1.910758 -1.607535"
            ]
          },
          "metadata": {
            "tags": []
          },
          "execution_count": 113
        }
      ]
    },
    {
      "cell_type": "markdown",
      "metadata": {
        "id": "_D7Fv9qwgkYk",
        "colab_type": "text"
      },
      "source": [
        "* pd.marge( )"
      ]
    },
    {
      "cell_type": "code",
      "metadata": {
        "id": "_AUgtJ1mjjTD",
        "colab_type": "code",
        "colab": {
          "base_uri": "https://localhost:8080/",
          "height": 107
        },
        "outputId": "9c31d700-27f1-4eba-c542-cfa9c434134a"
      },
      "source": [
        "left=pd.DataFrame({'key':['foo','foo'],'lval':[1,2]})\n",
        "left"
      ],
      "execution_count": null,
      "outputs": [
        {
          "output_type": "execute_result",
          "data": {
            "text/html": [
              "<div>\n",
              "<style scoped>\n",
              "    .dataframe tbody tr th:only-of-type {\n",
              "        vertical-align: middle;\n",
              "    }\n",
              "\n",
              "    .dataframe tbody tr th {\n",
              "        vertical-align: top;\n",
              "    }\n",
              "\n",
              "    .dataframe thead th {\n",
              "        text-align: right;\n",
              "    }\n",
              "</style>\n",
              "<table border=\"1\" class=\"dataframe\">\n",
              "  <thead>\n",
              "    <tr style=\"text-align: right;\">\n",
              "      <th></th>\n",
              "      <th>key</th>\n",
              "      <th>lval</th>\n",
              "    </tr>\n",
              "  </thead>\n",
              "  <tbody>\n",
              "    <tr>\n",
              "      <th>0</th>\n",
              "      <td>foo</td>\n",
              "      <td>1</td>\n",
              "    </tr>\n",
              "    <tr>\n",
              "      <th>1</th>\n",
              "      <td>foo</td>\n",
              "      <td>2</td>\n",
              "    </tr>\n",
              "  </tbody>\n",
              "</table>\n",
              "</div>"
            ],
            "text/plain": [
              "   key  lval\n",
              "0  foo     1\n",
              "1  foo     2"
            ]
          },
          "metadata": {
            "tags": []
          },
          "execution_count": 114
        }
      ]
    },
    {
      "cell_type": "code",
      "metadata": {
        "id": "YCCi3O_wkWyI",
        "colab_type": "code",
        "colab": {
          "base_uri": "https://localhost:8080/",
          "height": 107
        },
        "outputId": "8efc5896-acb2-4489-8ed3-bfe4b3bdd7b3"
      },
      "source": [
        "right=pd.DataFrame({'key':['foo','foo'],'rval':[4,5]})\n",
        "right"
      ],
      "execution_count": null,
      "outputs": [
        {
          "output_type": "execute_result",
          "data": {
            "text/html": [
              "<div>\n",
              "<style scoped>\n",
              "    .dataframe tbody tr th:only-of-type {\n",
              "        vertical-align: middle;\n",
              "    }\n",
              "\n",
              "    .dataframe tbody tr th {\n",
              "        vertical-align: top;\n",
              "    }\n",
              "\n",
              "    .dataframe thead th {\n",
              "        text-align: right;\n",
              "    }\n",
              "</style>\n",
              "<table border=\"1\" class=\"dataframe\">\n",
              "  <thead>\n",
              "    <tr style=\"text-align: right;\">\n",
              "      <th></th>\n",
              "      <th>key</th>\n",
              "      <th>rval</th>\n",
              "    </tr>\n",
              "  </thead>\n",
              "  <tbody>\n",
              "    <tr>\n",
              "      <th>0</th>\n",
              "      <td>foo</td>\n",
              "      <td>4</td>\n",
              "    </tr>\n",
              "    <tr>\n",
              "      <th>1</th>\n",
              "      <td>foo</td>\n",
              "      <td>5</td>\n",
              "    </tr>\n",
              "  </tbody>\n",
              "</table>\n",
              "</div>"
            ],
            "text/plain": [
              "   key  rval\n",
              "0  foo     4\n",
              "1  foo     5"
            ]
          },
          "metadata": {
            "tags": []
          },
          "execution_count": 115
        }
      ]
    },
    {
      "cell_type": "code",
      "metadata": {
        "id": "8MCTQhBWkkdD",
        "colab_type": "code",
        "colab": {
          "base_uri": "https://localhost:8080/",
          "height": 166
        },
        "outputId": "138bc2d1-3f00-4987-fae9-4ae2204cea23"
      },
      "source": [
        "pd.merge(left,right,on='key')"
      ],
      "execution_count": null,
      "outputs": [
        {
          "output_type": "execute_result",
          "data": {
            "text/html": [
              "<div>\n",
              "<style scoped>\n",
              "    .dataframe tbody tr th:only-of-type {\n",
              "        vertical-align: middle;\n",
              "    }\n",
              "\n",
              "    .dataframe tbody tr th {\n",
              "        vertical-align: top;\n",
              "    }\n",
              "\n",
              "    .dataframe thead th {\n",
              "        text-align: right;\n",
              "    }\n",
              "</style>\n",
              "<table border=\"1\" class=\"dataframe\">\n",
              "  <thead>\n",
              "    <tr style=\"text-align: right;\">\n",
              "      <th></th>\n",
              "      <th>key</th>\n",
              "      <th>lval</th>\n",
              "      <th>rval</th>\n",
              "    </tr>\n",
              "  </thead>\n",
              "  <tbody>\n",
              "    <tr>\n",
              "      <th>0</th>\n",
              "      <td>foo</td>\n",
              "      <td>1</td>\n",
              "      <td>4</td>\n",
              "    </tr>\n",
              "    <tr>\n",
              "      <th>1</th>\n",
              "      <td>foo</td>\n",
              "      <td>1</td>\n",
              "      <td>5</td>\n",
              "    </tr>\n",
              "    <tr>\n",
              "      <th>2</th>\n",
              "      <td>foo</td>\n",
              "      <td>2</td>\n",
              "      <td>4</td>\n",
              "    </tr>\n",
              "    <tr>\n",
              "      <th>3</th>\n",
              "      <td>foo</td>\n",
              "      <td>2</td>\n",
              "      <td>5</td>\n",
              "    </tr>\n",
              "  </tbody>\n",
              "</table>\n",
              "</div>"
            ],
            "text/plain": [
              "   key  lval  rval\n",
              "0  foo     1     4\n",
              "1  foo     1     5\n",
              "2  foo     2     4\n",
              "3  foo     2     5"
            ]
          },
          "metadata": {
            "tags": []
          },
          "execution_count": 116
        }
      ]
    },
    {
      "cell_type": "code",
      "metadata": {
        "id": "cxaGN6wJkyO3",
        "colab_type": "code",
        "colab": {
          "base_uri": "https://localhost:8080/",
          "height": 107
        },
        "outputId": "b8538125-207e-4254-e7f0-79c62aee9d44"
      },
      "source": [
        "left=pd.DataFrame({'key':['foo','bar'],'lval':[1,2]})\n",
        "left"
      ],
      "execution_count": null,
      "outputs": [
        {
          "output_type": "execute_result",
          "data": {
            "text/html": [
              "<div>\n",
              "<style scoped>\n",
              "    .dataframe tbody tr th:only-of-type {\n",
              "        vertical-align: middle;\n",
              "    }\n",
              "\n",
              "    .dataframe tbody tr th {\n",
              "        vertical-align: top;\n",
              "    }\n",
              "\n",
              "    .dataframe thead th {\n",
              "        text-align: right;\n",
              "    }\n",
              "</style>\n",
              "<table border=\"1\" class=\"dataframe\">\n",
              "  <thead>\n",
              "    <tr style=\"text-align: right;\">\n",
              "      <th></th>\n",
              "      <th>key</th>\n",
              "      <th>lval</th>\n",
              "    </tr>\n",
              "  </thead>\n",
              "  <tbody>\n",
              "    <tr>\n",
              "      <th>0</th>\n",
              "      <td>foo</td>\n",
              "      <td>1</td>\n",
              "    </tr>\n",
              "    <tr>\n",
              "      <th>1</th>\n",
              "      <td>bar</td>\n",
              "      <td>2</td>\n",
              "    </tr>\n",
              "  </tbody>\n",
              "</table>\n",
              "</div>"
            ],
            "text/plain": [
              "   key  lval\n",
              "0  foo     1\n",
              "1  bar     2"
            ]
          },
          "metadata": {
            "tags": []
          },
          "execution_count": 117
        }
      ]
    },
    {
      "cell_type": "code",
      "metadata": {
        "id": "iqYA8uIwlijU",
        "colab_type": "code",
        "colab": {
          "base_uri": "https://localhost:8080/",
          "height": 107
        },
        "outputId": "50cecd53-878c-4ed2-cae9-a565821bb8b2"
      },
      "source": [
        "right=pd.DataFrame({'key':['foo','bar'],'rval':[4,5]})\n",
        "right"
      ],
      "execution_count": null,
      "outputs": [
        {
          "output_type": "execute_result",
          "data": {
            "text/html": [
              "<div>\n",
              "<style scoped>\n",
              "    .dataframe tbody tr th:only-of-type {\n",
              "        vertical-align: middle;\n",
              "    }\n",
              "\n",
              "    .dataframe tbody tr th {\n",
              "        vertical-align: top;\n",
              "    }\n",
              "\n",
              "    .dataframe thead th {\n",
              "        text-align: right;\n",
              "    }\n",
              "</style>\n",
              "<table border=\"1\" class=\"dataframe\">\n",
              "  <thead>\n",
              "    <tr style=\"text-align: right;\">\n",
              "      <th></th>\n",
              "      <th>key</th>\n",
              "      <th>rval</th>\n",
              "    </tr>\n",
              "  </thead>\n",
              "  <tbody>\n",
              "    <tr>\n",
              "      <th>0</th>\n",
              "      <td>foo</td>\n",
              "      <td>4</td>\n",
              "    </tr>\n",
              "    <tr>\n",
              "      <th>1</th>\n",
              "      <td>bar</td>\n",
              "      <td>5</td>\n",
              "    </tr>\n",
              "  </tbody>\n",
              "</table>\n",
              "</div>"
            ],
            "text/plain": [
              "   key  rval\n",
              "0  foo     4\n",
              "1  bar     5"
            ]
          },
          "metadata": {
            "tags": []
          },
          "execution_count": 118
        }
      ]
    },
    {
      "cell_type": "code",
      "metadata": {
        "id": "u_-f996Ql4FZ",
        "colab_type": "code",
        "colab": {
          "base_uri": "https://localhost:8080/",
          "height": 107
        },
        "outputId": "efe0853f-197d-4a60-ec68-659fcf335f6f"
      },
      "source": [
        "pd.merge(left,right,on='key')"
      ],
      "execution_count": null,
      "outputs": [
        {
          "output_type": "execute_result",
          "data": {
            "text/html": [
              "<div>\n",
              "<style scoped>\n",
              "    .dataframe tbody tr th:only-of-type {\n",
              "        vertical-align: middle;\n",
              "    }\n",
              "\n",
              "    .dataframe tbody tr th {\n",
              "        vertical-align: top;\n",
              "    }\n",
              "\n",
              "    .dataframe thead th {\n",
              "        text-align: right;\n",
              "    }\n",
              "</style>\n",
              "<table border=\"1\" class=\"dataframe\">\n",
              "  <thead>\n",
              "    <tr style=\"text-align: right;\">\n",
              "      <th></th>\n",
              "      <th>key</th>\n",
              "      <th>lval</th>\n",
              "      <th>rval</th>\n",
              "    </tr>\n",
              "  </thead>\n",
              "  <tbody>\n",
              "    <tr>\n",
              "      <th>0</th>\n",
              "      <td>foo</td>\n",
              "      <td>1</td>\n",
              "      <td>4</td>\n",
              "    </tr>\n",
              "    <tr>\n",
              "      <th>1</th>\n",
              "      <td>bar</td>\n",
              "      <td>2</td>\n",
              "      <td>5</td>\n",
              "    </tr>\n",
              "  </tbody>\n",
              "</table>\n",
              "</div>"
            ],
            "text/plain": [
              "   key  lval  rval\n",
              "0  foo     1     4\n",
              "1  bar     2     5"
            ]
          },
          "metadata": {
            "tags": []
          },
          "execution_count": 119
        }
      ]
    },
    {
      "cell_type": "markdown",
      "metadata": {
        "id": "wsnlWWxdmQ3a",
        "colab_type": "text"
      },
      "source": [
        "* pd.append( )"
      ]
    },
    {
      "cell_type": "code",
      "metadata": {
        "id": "wHCfdOatl8nW",
        "colab_type": "code",
        "colab": {
          "base_uri": "https://localhost:8080/",
          "height": 137
        },
        "outputId": "424ccf14-3c81-4fc5-f028-8d5869fda794"
      },
      "source": [
        "# 데이터프레임\n",
        "df=pd.DataFrame(np.random.randn(3,4),columns=['A','B','C','D'])\n",
        "df"
      ],
      "execution_count": null,
      "outputs": [
        {
          "output_type": "execute_result",
          "data": {
            "text/html": [
              "<div>\n",
              "<style scoped>\n",
              "    .dataframe tbody tr th:only-of-type {\n",
              "        vertical-align: middle;\n",
              "    }\n",
              "\n",
              "    .dataframe tbody tr th {\n",
              "        vertical-align: top;\n",
              "    }\n",
              "\n",
              "    .dataframe thead th {\n",
              "        text-align: right;\n",
              "    }\n",
              "</style>\n",
              "<table border=\"1\" class=\"dataframe\">\n",
              "  <thead>\n",
              "    <tr style=\"text-align: right;\">\n",
              "      <th></th>\n",
              "      <th>A</th>\n",
              "      <th>B</th>\n",
              "      <th>C</th>\n",
              "      <th>D</th>\n",
              "    </tr>\n",
              "  </thead>\n",
              "  <tbody>\n",
              "    <tr>\n",
              "      <th>0</th>\n",
              "      <td>-0.575870</td>\n",
              "      <td>0.059710</td>\n",
              "      <td>-0.255873</td>\n",
              "      <td>0.347400</td>\n",
              "    </tr>\n",
              "    <tr>\n",
              "      <th>1</th>\n",
              "      <td>-0.334981</td>\n",
              "      <td>0.897343</td>\n",
              "      <td>-0.139940</td>\n",
              "      <td>-0.363142</td>\n",
              "    </tr>\n",
              "    <tr>\n",
              "      <th>2</th>\n",
              "      <td>-1.352205</td>\n",
              "      <td>-1.527434</td>\n",
              "      <td>1.649969</td>\n",
              "      <td>0.242585</td>\n",
              "    </tr>\n",
              "  </tbody>\n",
              "</table>\n",
              "</div>"
            ],
            "text/plain": [
              "          A         B         C         D\n",
              "0 -0.575870  0.059710 -0.255873  0.347400\n",
              "1 -0.334981  0.897343 -0.139940 -0.363142\n",
              "2 -1.352205 -1.527434  1.649969  0.242585"
            ]
          },
          "metadata": {
            "tags": []
          },
          "execution_count": 120
        }
      ]
    },
    {
      "cell_type": "code",
      "metadata": {
        "id": "xO0XJ0dUmiqW",
        "colab_type": "code",
        "colab": {
          "base_uri": "https://localhost:8080/",
          "height": 104
        },
        "outputId": "da8b2a85-dbcd-47f3-b535-3225f548533e"
      },
      "source": [
        "# 시리즈\n",
        "s=df.iloc[2]\n",
        "s"
      ],
      "execution_count": null,
      "outputs": [
        {
          "output_type": "execute_result",
          "data": {
            "text/plain": [
              "A   -1.352205\n",
              "B   -1.527434\n",
              "C    1.649969\n",
              "D    0.242585\n",
              "Name: 2, dtype: float64"
            ]
          },
          "metadata": {
            "tags": []
          },
          "execution_count": 123
        }
      ]
    },
    {
      "cell_type": "code",
      "metadata": {
        "id": "7jglIZnNmtjQ",
        "colab_type": "code",
        "colab": {
          "base_uri": "https://localhost:8080/",
          "height": 166
        },
        "outputId": "849453db-bdd5-4ea3-97df-f32720004431"
      },
      "source": [
        "# index를 초기화 ignore_index=True\n",
        "df.append(s,ignore_index=True)"
      ],
      "execution_count": null,
      "outputs": [
        {
          "output_type": "execute_result",
          "data": {
            "text/html": [
              "<div>\n",
              "<style scoped>\n",
              "    .dataframe tbody tr th:only-of-type {\n",
              "        vertical-align: middle;\n",
              "    }\n",
              "\n",
              "    .dataframe tbody tr th {\n",
              "        vertical-align: top;\n",
              "    }\n",
              "\n",
              "    .dataframe thead th {\n",
              "        text-align: right;\n",
              "    }\n",
              "</style>\n",
              "<table border=\"1\" class=\"dataframe\">\n",
              "  <thead>\n",
              "    <tr style=\"text-align: right;\">\n",
              "      <th></th>\n",
              "      <th>A</th>\n",
              "      <th>B</th>\n",
              "      <th>C</th>\n",
              "      <th>D</th>\n",
              "    </tr>\n",
              "  </thead>\n",
              "  <tbody>\n",
              "    <tr>\n",
              "      <th>0</th>\n",
              "      <td>-0.575870</td>\n",
              "      <td>0.059710</td>\n",
              "      <td>-0.255873</td>\n",
              "      <td>0.347400</td>\n",
              "    </tr>\n",
              "    <tr>\n",
              "      <th>1</th>\n",
              "      <td>-0.334981</td>\n",
              "      <td>0.897343</td>\n",
              "      <td>-0.139940</td>\n",
              "      <td>-0.363142</td>\n",
              "    </tr>\n",
              "    <tr>\n",
              "      <th>2</th>\n",
              "      <td>-1.352205</td>\n",
              "      <td>-1.527434</td>\n",
              "      <td>1.649969</td>\n",
              "      <td>0.242585</td>\n",
              "    </tr>\n",
              "    <tr>\n",
              "      <th>3</th>\n",
              "      <td>-1.352205</td>\n",
              "      <td>-1.527434</td>\n",
              "      <td>1.649969</td>\n",
              "      <td>0.242585</td>\n",
              "    </tr>\n",
              "  </tbody>\n",
              "</table>\n",
              "</div>"
            ],
            "text/plain": [
              "          A         B         C         D\n",
              "0 -0.575870  0.059710 -0.255873  0.347400\n",
              "1 -0.334981  0.897343 -0.139940 -0.363142\n",
              "2 -1.352205 -1.527434  1.649969  0.242585\n",
              "3 -1.352205 -1.527434  1.649969  0.242585"
            ]
          },
          "metadata": {
            "tags": []
          },
          "execution_count": 124
        }
      ]
    },
    {
      "cell_type": "markdown",
      "metadata": {
        "id": "Ue6WWAqBm7ct",
        "colab_type": "text"
      },
      "source": [
        "# 인덱스 그룹화\n",
        "* pd.groupby( )"
      ]
    },
    {
      "cell_type": "code",
      "metadata": {
        "id": "HLISEhDJm2XQ",
        "colab_type": "code",
        "colab": {
          "base_uri": "https://localhost:8080/",
          "height": 286
        },
        "outputId": "ee0b5eac-18ae-40bf-d171-26ab8a0c306e"
      },
      "source": [
        "df = pd.DataFrame({\n",
        "    'A' : ['foo', 'bar', 'foo', 'bar', 'foo', 'bar', 'foo', 'foo'],\n",
        "    'B' : ['one', 'one', 'two', 'three', 'two', 'two', 'one', 'three'],\n",
        "    'C' : np.random.randn(8),\n",
        "    'D' : np.random.randn(8)\n",
        "    })\n",
        "df"
      ],
      "execution_count": null,
      "outputs": [
        {
          "output_type": "execute_result",
          "data": {
            "text/html": [
              "<div>\n",
              "<style scoped>\n",
              "    .dataframe tbody tr th:only-of-type {\n",
              "        vertical-align: middle;\n",
              "    }\n",
              "\n",
              "    .dataframe tbody tr th {\n",
              "        vertical-align: top;\n",
              "    }\n",
              "\n",
              "    .dataframe thead th {\n",
              "        text-align: right;\n",
              "    }\n",
              "</style>\n",
              "<table border=\"1\" class=\"dataframe\">\n",
              "  <thead>\n",
              "    <tr style=\"text-align: right;\">\n",
              "      <th></th>\n",
              "      <th>A</th>\n",
              "      <th>B</th>\n",
              "      <th>C</th>\n",
              "      <th>D</th>\n",
              "    </tr>\n",
              "  </thead>\n",
              "  <tbody>\n",
              "    <tr>\n",
              "      <th>0</th>\n",
              "      <td>foo</td>\n",
              "      <td>one</td>\n",
              "      <td>0.711856</td>\n",
              "      <td>-0.347825</td>\n",
              "    </tr>\n",
              "    <tr>\n",
              "      <th>1</th>\n",
              "      <td>bar</td>\n",
              "      <td>one</td>\n",
              "      <td>-0.574912</td>\n",
              "      <td>-2.210577</td>\n",
              "    </tr>\n",
              "    <tr>\n",
              "      <th>2</th>\n",
              "      <td>foo</td>\n",
              "      <td>two</td>\n",
              "      <td>-0.039438</td>\n",
              "      <td>-0.848505</td>\n",
              "    </tr>\n",
              "    <tr>\n",
              "      <th>3</th>\n",
              "      <td>bar</td>\n",
              "      <td>three</td>\n",
              "      <td>-1.248317</td>\n",
              "      <td>0.839212</td>\n",
              "    </tr>\n",
              "    <tr>\n",
              "      <th>4</th>\n",
              "      <td>foo</td>\n",
              "      <td>two</td>\n",
              "      <td>-0.021177</td>\n",
              "      <td>0.234402</td>\n",
              "    </tr>\n",
              "    <tr>\n",
              "      <th>5</th>\n",
              "      <td>bar</td>\n",
              "      <td>two</td>\n",
              "      <td>-0.785868</td>\n",
              "      <td>-0.225078</td>\n",
              "    </tr>\n",
              "    <tr>\n",
              "      <th>6</th>\n",
              "      <td>foo</td>\n",
              "      <td>one</td>\n",
              "      <td>0.962337</td>\n",
              "      <td>-0.208991</td>\n",
              "    </tr>\n",
              "    <tr>\n",
              "      <th>7</th>\n",
              "      <td>foo</td>\n",
              "      <td>three</td>\n",
              "      <td>-1.327836</td>\n",
              "      <td>-0.062830</td>\n",
              "    </tr>\n",
              "  </tbody>\n",
              "</table>\n",
              "</div>"
            ],
            "text/plain": [
              "     A      B         C         D\n",
              "0  foo    one  0.711856 -0.347825\n",
              "1  bar    one -0.574912 -2.210577\n",
              "2  foo    two -0.039438 -0.848505\n",
              "3  bar  three -1.248317  0.839212\n",
              "4  foo    two -0.021177  0.234402\n",
              "5  bar    two -0.785868 -0.225078\n",
              "6  foo    one  0.962337 -0.208991\n",
              "7  foo  three -1.327836 -0.062830"
            ]
          },
          "metadata": {
            "tags": []
          },
          "execution_count": 125
        }
      ]
    },
    {
      "cell_type": "code",
      "metadata": {
        "id": "pDqTSIzHnQFW",
        "colab_type": "code",
        "colab": {
          "base_uri": "https://localhost:8080/",
          "height": 137
        },
        "outputId": "22e893e2-778b-4eaf-e830-918f45cd62f1"
      },
      "source": [
        "df.groupby('A').sum()"
      ],
      "execution_count": null,
      "outputs": [
        {
          "output_type": "execute_result",
          "data": {
            "text/html": [
              "<div>\n",
              "<style scoped>\n",
              "    .dataframe tbody tr th:only-of-type {\n",
              "        vertical-align: middle;\n",
              "    }\n",
              "\n",
              "    .dataframe tbody tr th {\n",
              "        vertical-align: top;\n",
              "    }\n",
              "\n",
              "    .dataframe thead th {\n",
              "        text-align: right;\n",
              "    }\n",
              "</style>\n",
              "<table border=\"1\" class=\"dataframe\">\n",
              "  <thead>\n",
              "    <tr style=\"text-align: right;\">\n",
              "      <th></th>\n",
              "      <th>C</th>\n",
              "      <th>D</th>\n",
              "    </tr>\n",
              "    <tr>\n",
              "      <th>A</th>\n",
              "      <th></th>\n",
              "      <th></th>\n",
              "    </tr>\n",
              "  </thead>\n",
              "  <tbody>\n",
              "    <tr>\n",
              "      <th>bar</th>\n",
              "      <td>-2.609097</td>\n",
              "      <td>-1.596443</td>\n",
              "    </tr>\n",
              "    <tr>\n",
              "      <th>foo</th>\n",
              "      <td>0.285741</td>\n",
              "      <td>-1.233748</td>\n",
              "    </tr>\n",
              "  </tbody>\n",
              "</table>\n",
              "</div>"
            ],
            "text/plain": [
              "            C         D\n",
              "A                      \n",
              "bar -2.609097 -1.596443\n",
              "foo  0.285741 -1.233748"
            ]
          },
          "metadata": {
            "tags": []
          },
          "execution_count": 126
        }
      ]
    },
    {
      "cell_type": "code",
      "metadata": {
        "id": "5b0t0nfNnYI4",
        "colab_type": "code",
        "colab": {
          "base_uri": "https://localhost:8080/",
          "height": 256
        },
        "outputId": "57b839e6-a5e1-466d-cead-2b53d475af57"
      },
      "source": [
        "df.groupby(['A','B']).sum()"
      ],
      "execution_count": null,
      "outputs": [
        {
          "output_type": "execute_result",
          "data": {
            "text/html": [
              "<div>\n",
              "<style scoped>\n",
              "    .dataframe tbody tr th:only-of-type {\n",
              "        vertical-align: middle;\n",
              "    }\n",
              "\n",
              "    .dataframe tbody tr th {\n",
              "        vertical-align: top;\n",
              "    }\n",
              "\n",
              "    .dataframe thead th {\n",
              "        text-align: right;\n",
              "    }\n",
              "</style>\n",
              "<table border=\"1\" class=\"dataframe\">\n",
              "  <thead>\n",
              "    <tr style=\"text-align: right;\">\n",
              "      <th></th>\n",
              "      <th></th>\n",
              "      <th>C</th>\n",
              "      <th>D</th>\n",
              "    </tr>\n",
              "    <tr>\n",
              "      <th>A</th>\n",
              "      <th>B</th>\n",
              "      <th></th>\n",
              "      <th></th>\n",
              "    </tr>\n",
              "  </thead>\n",
              "  <tbody>\n",
              "    <tr>\n",
              "      <th rowspan=\"3\" valign=\"top\">bar</th>\n",
              "      <th>one</th>\n",
              "      <td>-0.574912</td>\n",
              "      <td>-2.210577</td>\n",
              "    </tr>\n",
              "    <tr>\n",
              "      <th>three</th>\n",
              "      <td>-1.248317</td>\n",
              "      <td>0.839212</td>\n",
              "    </tr>\n",
              "    <tr>\n",
              "      <th>two</th>\n",
              "      <td>-0.785868</td>\n",
              "      <td>-0.225078</td>\n",
              "    </tr>\n",
              "    <tr>\n",
              "      <th rowspan=\"3\" valign=\"top\">foo</th>\n",
              "      <th>one</th>\n",
              "      <td>1.674193</td>\n",
              "      <td>-0.556815</td>\n",
              "    </tr>\n",
              "    <tr>\n",
              "      <th>three</th>\n",
              "      <td>-1.327836</td>\n",
              "      <td>-0.062830</td>\n",
              "    </tr>\n",
              "    <tr>\n",
              "      <th>two</th>\n",
              "      <td>-0.060616</td>\n",
              "      <td>-0.614103</td>\n",
              "    </tr>\n",
              "  </tbody>\n",
              "</table>\n",
              "</div>"
            ],
            "text/plain": [
              "                  C         D\n",
              "A   B                        \n",
              "bar one   -0.574912 -2.210577\n",
              "    three -1.248317  0.839212\n",
              "    two   -0.785868 -0.225078\n",
              "foo one    1.674193 -0.556815\n",
              "    three -1.327836 -0.062830\n",
              "    two   -0.060616 -0.614103"
            ]
          },
          "metadata": {
            "tags": []
          },
          "execution_count": 127
        }
      ]
    },
    {
      "cell_type": "markdown",
      "metadata": {
        "id": "UeKrTu_Knt3Q",
        "colab_type": "text"
      },
      "source": [
        "# 멀티 인덱스\n",
        "* pd.MultiIndex.from_tuples( )\n",
        "* pd.stack( )\n",
        "* pd.unstack( )"
      ]
    },
    {
      "cell_type": "code",
      "metadata": {
        "id": "hjb_TbzXnkAF",
        "colab_type": "code",
        "colab": {
          "base_uri": "https://localhost:8080/",
          "height": 156
        },
        "outputId": "f77f6011-b890-42e5-a8c0-29d39d8f7e3c"
      },
      "source": [
        "tuples = list(zip(*[['bar', 'bar', 'baz', 'baz','foo', 'foo', 'qux', 'qux'],\n",
        "                    ['one', 'two', 'one', 'two','one', 'two', 'one', 'two']]))\n",
        "tuples"
      ],
      "execution_count": null,
      "outputs": [
        {
          "output_type": "execute_result",
          "data": {
            "text/plain": [
              "[('bar', 'one'),\n",
              " ('bar', 'two'),\n",
              " ('baz', 'one'),\n",
              " ('baz', 'two'),\n",
              " ('foo', 'one'),\n",
              " ('foo', 'two'),\n",
              " ('qux', 'one'),\n",
              " ('qux', 'two')]"
            ]
          },
          "metadata": {
            "tags": []
          },
          "execution_count": 128
        }
      ]
    },
    {
      "cell_type": "code",
      "metadata": {
        "id": "xOS0PyM7n-cD",
        "colab_type": "code",
        "colab": {
          "base_uri": "https://localhost:8080/",
          "height": 174
        },
        "outputId": "c8eb8b5f-60ce-4f69-d31c-59b59662325d"
      },
      "source": [
        "index=pd.MultiIndex.from_tuples(tuples,names=['first','second'])\n",
        "index"
      ],
      "execution_count": null,
      "outputs": [
        {
          "output_type": "execute_result",
          "data": {
            "text/plain": [
              "MultiIndex([('bar', 'one'),\n",
              "            ('bar', 'two'),\n",
              "            ('baz', 'one'),\n",
              "            ('baz', 'two'),\n",
              "            ('foo', 'one'),\n",
              "            ('foo', 'two'),\n",
              "            ('qux', 'one'),\n",
              "            ('qux', 'two')],\n",
              "           names=['first', 'second'])"
            ]
          },
          "metadata": {
            "tags": []
          },
          "execution_count": 129
        }
      ]
    },
    {
      "cell_type": "code",
      "metadata": {
        "id": "-TowolQqollb",
        "colab_type": "code",
        "colab": {
          "base_uri": "https://localhost:8080/",
          "height": 316
        },
        "outputId": "459c6f63-f542-4176-c14e-789fdfeebcbe"
      },
      "source": [
        "df=pd.DataFrame(np.random.randn(8,2),index=index,columns=['A','B'])\n",
        "df"
      ],
      "execution_count": null,
      "outputs": [
        {
          "output_type": "execute_result",
          "data": {
            "text/html": [
              "<div>\n",
              "<style scoped>\n",
              "    .dataframe tbody tr th:only-of-type {\n",
              "        vertical-align: middle;\n",
              "    }\n",
              "\n",
              "    .dataframe tbody tr th {\n",
              "        vertical-align: top;\n",
              "    }\n",
              "\n",
              "    .dataframe thead th {\n",
              "        text-align: right;\n",
              "    }\n",
              "</style>\n",
              "<table border=\"1\" class=\"dataframe\">\n",
              "  <thead>\n",
              "    <tr style=\"text-align: right;\">\n",
              "      <th></th>\n",
              "      <th></th>\n",
              "      <th>A</th>\n",
              "      <th>B</th>\n",
              "    </tr>\n",
              "    <tr>\n",
              "      <th>first</th>\n",
              "      <th>second</th>\n",
              "      <th></th>\n",
              "      <th></th>\n",
              "    </tr>\n",
              "  </thead>\n",
              "  <tbody>\n",
              "    <tr>\n",
              "      <th rowspan=\"2\" valign=\"top\">bar</th>\n",
              "      <th>one</th>\n",
              "      <td>-2.554868</td>\n",
              "      <td>-1.231100</td>\n",
              "    </tr>\n",
              "    <tr>\n",
              "      <th>two</th>\n",
              "      <td>0.401610</td>\n",
              "      <td>-0.170219</td>\n",
              "    </tr>\n",
              "    <tr>\n",
              "      <th rowspan=\"2\" valign=\"top\">baz</th>\n",
              "      <th>one</th>\n",
              "      <td>-0.317628</td>\n",
              "      <td>1.235746</td>\n",
              "    </tr>\n",
              "    <tr>\n",
              "      <th>two</th>\n",
              "      <td>0.687088</td>\n",
              "      <td>-0.536336</td>\n",
              "    </tr>\n",
              "    <tr>\n",
              "      <th rowspan=\"2\" valign=\"top\">foo</th>\n",
              "      <th>one</th>\n",
              "      <td>0.439668</td>\n",
              "      <td>-1.590795</td>\n",
              "    </tr>\n",
              "    <tr>\n",
              "      <th>two</th>\n",
              "      <td>0.465238</td>\n",
              "      <td>-0.124516</td>\n",
              "    </tr>\n",
              "    <tr>\n",
              "      <th rowspan=\"2\" valign=\"top\">qux</th>\n",
              "      <th>one</th>\n",
              "      <td>0.994994</td>\n",
              "      <td>1.375384</td>\n",
              "    </tr>\n",
              "    <tr>\n",
              "      <th>two</th>\n",
              "      <td>-0.774406</td>\n",
              "      <td>-0.575456</td>\n",
              "    </tr>\n",
              "  </tbody>\n",
              "</table>\n",
              "</div>"
            ],
            "text/plain": [
              "                     A         B\n",
              "first second                    \n",
              "bar   one    -2.554868 -1.231100\n",
              "      two     0.401610 -0.170219\n",
              "baz   one    -0.317628  1.235746\n",
              "      two     0.687088 -0.536336\n",
              "foo   one     0.439668 -1.590795\n",
              "      two     0.465238 -0.124516\n",
              "qux   one     0.994994  1.375384\n",
              "      two    -0.774406 -0.575456"
            ]
          },
          "metadata": {
            "tags": []
          },
          "execution_count": 130
        }
      ]
    },
    {
      "cell_type": "code",
      "metadata": {
        "id": "tU64jbiLpAli",
        "colab_type": "code",
        "colab": {
          "base_uri": "https://localhost:8080/",
          "height": 331
        },
        "outputId": "63b0c877-0f41-4f8a-f2c3-9e3ca519a47b"
      },
      "source": [
        "stacked=df.stack()\n",
        "stacked"
      ],
      "execution_count": null,
      "outputs": [
        {
          "output_type": "execute_result",
          "data": {
            "text/plain": [
              "first  second   \n",
              "bar    one     A   -2.554868\n",
              "               B   -1.231100\n",
              "       two     A    0.401610\n",
              "               B   -0.170219\n",
              "baz    one     A   -0.317628\n",
              "               B    1.235746\n",
              "       two     A    0.687088\n",
              "               B   -0.536336\n",
              "foo    one     A    0.439668\n",
              "               B   -1.590795\n",
              "       two     A    0.465238\n",
              "               B   -0.124516\n",
              "qux    one     A    0.994994\n",
              "               B    1.375384\n",
              "       two     A   -0.774406\n",
              "               B   -0.575456\n",
              "dtype: float64"
            ]
          },
          "metadata": {
            "tags": []
          },
          "execution_count": 131
        }
      ]
    },
    {
      "cell_type": "code",
      "metadata": {
        "id": "CX0755XIpbu_",
        "colab_type": "code",
        "colab": {
          "base_uri": "https://localhost:8080/",
          "height": 196
        },
        "outputId": "f0cc02f8-d01c-4b83-bf7f-c5c8ff10ca3b"
      },
      "source": [
        "stacked.unstack(level=0)"
      ],
      "execution_count": null,
      "outputs": [
        {
          "output_type": "execute_result",
          "data": {
            "text/html": [
              "<div>\n",
              "<style scoped>\n",
              "    .dataframe tbody tr th:only-of-type {\n",
              "        vertical-align: middle;\n",
              "    }\n",
              "\n",
              "    .dataframe tbody tr th {\n",
              "        vertical-align: top;\n",
              "    }\n",
              "\n",
              "    .dataframe thead th {\n",
              "        text-align: right;\n",
              "    }\n",
              "</style>\n",
              "<table border=\"1\" class=\"dataframe\">\n",
              "  <thead>\n",
              "    <tr style=\"text-align: right;\">\n",
              "      <th></th>\n",
              "      <th>first</th>\n",
              "      <th>bar</th>\n",
              "      <th>baz</th>\n",
              "      <th>foo</th>\n",
              "      <th>qux</th>\n",
              "    </tr>\n",
              "    <tr>\n",
              "      <th>second</th>\n",
              "      <th></th>\n",
              "      <th></th>\n",
              "      <th></th>\n",
              "      <th></th>\n",
              "      <th></th>\n",
              "    </tr>\n",
              "  </thead>\n",
              "  <tbody>\n",
              "    <tr>\n",
              "      <th rowspan=\"2\" valign=\"top\">one</th>\n",
              "      <th>A</th>\n",
              "      <td>-2.554868</td>\n",
              "      <td>-0.317628</td>\n",
              "      <td>0.439668</td>\n",
              "      <td>0.994994</td>\n",
              "    </tr>\n",
              "    <tr>\n",
              "      <th>B</th>\n",
              "      <td>-1.231100</td>\n",
              "      <td>1.235746</td>\n",
              "      <td>-1.590795</td>\n",
              "      <td>1.375384</td>\n",
              "    </tr>\n",
              "    <tr>\n",
              "      <th rowspan=\"2\" valign=\"top\">two</th>\n",
              "      <th>A</th>\n",
              "      <td>0.401610</td>\n",
              "      <td>0.687088</td>\n",
              "      <td>0.465238</td>\n",
              "      <td>-0.774406</td>\n",
              "    </tr>\n",
              "    <tr>\n",
              "      <th>B</th>\n",
              "      <td>-0.170219</td>\n",
              "      <td>-0.536336</td>\n",
              "      <td>-0.124516</td>\n",
              "      <td>-0.575456</td>\n",
              "    </tr>\n",
              "  </tbody>\n",
              "</table>\n",
              "</div>"
            ],
            "text/plain": [
              "first          bar       baz       foo       qux\n",
              "second                                          \n",
              "one    A -2.554868 -0.317628  0.439668  0.994994\n",
              "       B -1.231100  1.235746 -1.590795  1.375384\n",
              "two    A  0.401610  0.687088  0.465238 -0.774406\n",
              "       B -0.170219 -0.536336 -0.124516 -0.575456"
            ]
          },
          "metadata": {
            "tags": []
          },
          "execution_count": 132
        }
      ]
    },
    {
      "cell_type": "code",
      "metadata": {
        "id": "zgWpKb-9phgj",
        "colab_type": "code",
        "colab": {
          "base_uri": "https://localhost:8080/",
          "height": 316
        },
        "outputId": "bfe51432-4ede-4b4d-a701-99e7227ef0cc"
      },
      "source": [
        "stacked.unstack(level=1)"
      ],
      "execution_count": null,
      "outputs": [
        {
          "output_type": "execute_result",
          "data": {
            "text/html": [
              "<div>\n",
              "<style scoped>\n",
              "    .dataframe tbody tr th:only-of-type {\n",
              "        vertical-align: middle;\n",
              "    }\n",
              "\n",
              "    .dataframe tbody tr th {\n",
              "        vertical-align: top;\n",
              "    }\n",
              "\n",
              "    .dataframe thead th {\n",
              "        text-align: right;\n",
              "    }\n",
              "</style>\n",
              "<table border=\"1\" class=\"dataframe\">\n",
              "  <thead>\n",
              "    <tr style=\"text-align: right;\">\n",
              "      <th></th>\n",
              "      <th>second</th>\n",
              "      <th>one</th>\n",
              "      <th>two</th>\n",
              "    </tr>\n",
              "    <tr>\n",
              "      <th>first</th>\n",
              "      <th></th>\n",
              "      <th></th>\n",
              "      <th></th>\n",
              "    </tr>\n",
              "  </thead>\n",
              "  <tbody>\n",
              "    <tr>\n",
              "      <th rowspan=\"2\" valign=\"top\">bar</th>\n",
              "      <th>A</th>\n",
              "      <td>-2.554868</td>\n",
              "      <td>0.401610</td>\n",
              "    </tr>\n",
              "    <tr>\n",
              "      <th>B</th>\n",
              "      <td>-1.231100</td>\n",
              "      <td>-0.170219</td>\n",
              "    </tr>\n",
              "    <tr>\n",
              "      <th rowspan=\"2\" valign=\"top\">baz</th>\n",
              "      <th>A</th>\n",
              "      <td>-0.317628</td>\n",
              "      <td>0.687088</td>\n",
              "    </tr>\n",
              "    <tr>\n",
              "      <th>B</th>\n",
              "      <td>1.235746</td>\n",
              "      <td>-0.536336</td>\n",
              "    </tr>\n",
              "    <tr>\n",
              "      <th rowspan=\"2\" valign=\"top\">foo</th>\n",
              "      <th>A</th>\n",
              "      <td>0.439668</td>\n",
              "      <td>0.465238</td>\n",
              "    </tr>\n",
              "    <tr>\n",
              "      <th>B</th>\n",
              "      <td>-1.590795</td>\n",
              "      <td>-0.124516</td>\n",
              "    </tr>\n",
              "    <tr>\n",
              "      <th rowspan=\"2\" valign=\"top\">qux</th>\n",
              "      <th>A</th>\n",
              "      <td>0.994994</td>\n",
              "      <td>-0.774406</td>\n",
              "    </tr>\n",
              "    <tr>\n",
              "      <th>B</th>\n",
              "      <td>1.375384</td>\n",
              "      <td>-0.575456</td>\n",
              "    </tr>\n",
              "  </tbody>\n",
              "</table>\n",
              "</div>"
            ],
            "text/plain": [
              "second        one       two\n",
              "first                      \n",
              "bar   A -2.554868  0.401610\n",
              "      B -1.231100 -0.170219\n",
              "baz   A -0.317628  0.687088\n",
              "      B  1.235746 -0.536336\n",
              "foo   A  0.439668  0.465238\n",
              "      B -1.590795 -0.124516\n",
              "qux   A  0.994994 -0.774406\n",
              "      B  1.375384 -0.575456"
            ]
          },
          "metadata": {
            "tags": []
          },
          "execution_count": 133
        }
      ]
    },
    {
      "cell_type": "markdown",
      "metadata": {
        "id": "i-TTl8EzMZhN",
        "colab_type": "text"
      },
      "source": [
        "#Pivot tables"
      ]
    },
    {
      "cell_type": "code",
      "metadata": {
        "id": "VH318UOKpwzs",
        "colab_type": "code",
        "colab": {
          "base_uri": "https://localhost:8080/",
          "height": 405
        },
        "outputId": "f2a7dcc0-b431-48f3-c01b-f52a7c2ef4c2"
      },
      "source": [
        "df = pd.DataFrame({'A' : ['one', 'one', 'two', 'three'] * 3,\n",
        "                   'B' : ['A', 'B', 'C'] * 4,\n",
        "                   'C' : ['foo', 'foo', 'foo', 'bar', 'bar', 'bar'] * 2,\n",
        "                   'D' : np.random.randn(12),\n",
        "                   'E' : np.random.randn(12)})\n",
        "df"
      ],
      "execution_count": null,
      "outputs": [
        {
          "output_type": "execute_result",
          "data": {
            "text/html": [
              "<div>\n",
              "<style scoped>\n",
              "    .dataframe tbody tr th:only-of-type {\n",
              "        vertical-align: middle;\n",
              "    }\n",
              "\n",
              "    .dataframe tbody tr th {\n",
              "        vertical-align: top;\n",
              "    }\n",
              "\n",
              "    .dataframe thead th {\n",
              "        text-align: right;\n",
              "    }\n",
              "</style>\n",
              "<table border=\"1\" class=\"dataframe\">\n",
              "  <thead>\n",
              "    <tr style=\"text-align: right;\">\n",
              "      <th></th>\n",
              "      <th>A</th>\n",
              "      <th>B</th>\n",
              "      <th>C</th>\n",
              "      <th>D</th>\n",
              "      <th>E</th>\n",
              "    </tr>\n",
              "  </thead>\n",
              "  <tbody>\n",
              "    <tr>\n",
              "      <th>0</th>\n",
              "      <td>one</td>\n",
              "      <td>A</td>\n",
              "      <td>foo</td>\n",
              "      <td>-0.253371</td>\n",
              "      <td>1.380695</td>\n",
              "    </tr>\n",
              "    <tr>\n",
              "      <th>1</th>\n",
              "      <td>one</td>\n",
              "      <td>B</td>\n",
              "      <td>foo</td>\n",
              "      <td>-0.691019</td>\n",
              "      <td>0.383152</td>\n",
              "    </tr>\n",
              "    <tr>\n",
              "      <th>2</th>\n",
              "      <td>two</td>\n",
              "      <td>C</td>\n",
              "      <td>foo</td>\n",
              "      <td>0.035252</td>\n",
              "      <td>-0.469961</td>\n",
              "    </tr>\n",
              "    <tr>\n",
              "      <th>3</th>\n",
              "      <td>three</td>\n",
              "      <td>A</td>\n",
              "      <td>bar</td>\n",
              "      <td>-0.881722</td>\n",
              "      <td>0.460735</td>\n",
              "    </tr>\n",
              "    <tr>\n",
              "      <th>4</th>\n",
              "      <td>one</td>\n",
              "      <td>B</td>\n",
              "      <td>bar</td>\n",
              "      <td>0.452431</td>\n",
              "      <td>1.666274</td>\n",
              "    </tr>\n",
              "    <tr>\n",
              "      <th>5</th>\n",
              "      <td>one</td>\n",
              "      <td>C</td>\n",
              "      <td>bar</td>\n",
              "      <td>1.666524</td>\n",
              "      <td>-1.431305</td>\n",
              "    </tr>\n",
              "    <tr>\n",
              "      <th>6</th>\n",
              "      <td>two</td>\n",
              "      <td>A</td>\n",
              "      <td>foo</td>\n",
              "      <td>-0.085843</td>\n",
              "      <td>1.599449</td>\n",
              "    </tr>\n",
              "    <tr>\n",
              "      <th>7</th>\n",
              "      <td>three</td>\n",
              "      <td>B</td>\n",
              "      <td>foo</td>\n",
              "      <td>0.191856</td>\n",
              "      <td>-0.040479</td>\n",
              "    </tr>\n",
              "    <tr>\n",
              "      <th>8</th>\n",
              "      <td>one</td>\n",
              "      <td>C</td>\n",
              "      <td>foo</td>\n",
              "      <td>-1.305943</td>\n",
              "      <td>0.557225</td>\n",
              "    </tr>\n",
              "    <tr>\n",
              "      <th>9</th>\n",
              "      <td>one</td>\n",
              "      <td>A</td>\n",
              "      <td>bar</td>\n",
              "      <td>1.499081</td>\n",
              "      <td>1.584425</td>\n",
              "    </tr>\n",
              "    <tr>\n",
              "      <th>10</th>\n",
              "      <td>two</td>\n",
              "      <td>B</td>\n",
              "      <td>bar</td>\n",
              "      <td>0.294842</td>\n",
              "      <td>0.346679</td>\n",
              "    </tr>\n",
              "    <tr>\n",
              "      <th>11</th>\n",
              "      <td>three</td>\n",
              "      <td>C</td>\n",
              "      <td>bar</td>\n",
              "      <td>-0.887832</td>\n",
              "      <td>-0.368645</td>\n",
              "    </tr>\n",
              "  </tbody>\n",
              "</table>\n",
              "</div>"
            ],
            "text/plain": [
              "        A  B    C         D         E\n",
              "0     one  A  foo -0.253371  1.380695\n",
              "1     one  B  foo -0.691019  0.383152\n",
              "2     two  C  foo  0.035252 -0.469961\n",
              "3   three  A  bar -0.881722  0.460735\n",
              "4     one  B  bar  0.452431  1.666274\n",
              "5     one  C  bar  1.666524 -1.431305\n",
              "6     two  A  foo -0.085843  1.599449\n",
              "7   three  B  foo  0.191856 -0.040479\n",
              "8     one  C  foo -1.305943  0.557225\n",
              "9     one  A  bar  1.499081  1.584425\n",
              "10    two  B  bar  0.294842  0.346679\n",
              "11  three  C  bar -0.887832 -0.368645"
            ]
          },
          "metadata": {
            "tags": []
          },
          "execution_count": 134
        }
      ]
    },
    {
      "cell_type": "code",
      "metadata": {
        "id": "7nueusCwNMay",
        "colab_type": "code",
        "colab": {
          "base_uri": "https://localhost:8080/",
          "height": 345
        },
        "outputId": "7fed3582-279d-41cc-a05e-6e613e3efbb8"
      },
      "source": [
        "pd.pivot_table(df,values='D',index=['A','B'],columns=['C'])"
      ],
      "execution_count": null,
      "outputs": [
        {
          "output_type": "execute_result",
          "data": {
            "text/html": [
              "<div>\n",
              "<style scoped>\n",
              "    .dataframe tbody tr th:only-of-type {\n",
              "        vertical-align: middle;\n",
              "    }\n",
              "\n",
              "    .dataframe tbody tr th {\n",
              "        vertical-align: top;\n",
              "    }\n",
              "\n",
              "    .dataframe thead th {\n",
              "        text-align: right;\n",
              "    }\n",
              "</style>\n",
              "<table border=\"1\" class=\"dataframe\">\n",
              "  <thead>\n",
              "    <tr style=\"text-align: right;\">\n",
              "      <th></th>\n",
              "      <th>C</th>\n",
              "      <th>bar</th>\n",
              "      <th>foo</th>\n",
              "    </tr>\n",
              "    <tr>\n",
              "      <th>A</th>\n",
              "      <th>B</th>\n",
              "      <th></th>\n",
              "      <th></th>\n",
              "    </tr>\n",
              "  </thead>\n",
              "  <tbody>\n",
              "    <tr>\n",
              "      <th rowspan=\"3\" valign=\"top\">one</th>\n",
              "      <th>A</th>\n",
              "      <td>1.499081</td>\n",
              "      <td>-0.253371</td>\n",
              "    </tr>\n",
              "    <tr>\n",
              "      <th>B</th>\n",
              "      <td>0.452431</td>\n",
              "      <td>-0.691019</td>\n",
              "    </tr>\n",
              "    <tr>\n",
              "      <th>C</th>\n",
              "      <td>1.666524</td>\n",
              "      <td>-1.305943</td>\n",
              "    </tr>\n",
              "    <tr>\n",
              "      <th rowspan=\"3\" valign=\"top\">three</th>\n",
              "      <th>A</th>\n",
              "      <td>-0.881722</td>\n",
              "      <td>NaN</td>\n",
              "    </tr>\n",
              "    <tr>\n",
              "      <th>B</th>\n",
              "      <td>NaN</td>\n",
              "      <td>0.191856</td>\n",
              "    </tr>\n",
              "    <tr>\n",
              "      <th>C</th>\n",
              "      <td>-0.887832</td>\n",
              "      <td>NaN</td>\n",
              "    </tr>\n",
              "    <tr>\n",
              "      <th rowspan=\"3\" valign=\"top\">two</th>\n",
              "      <th>A</th>\n",
              "      <td>NaN</td>\n",
              "      <td>-0.085843</td>\n",
              "    </tr>\n",
              "    <tr>\n",
              "      <th>B</th>\n",
              "      <td>0.294842</td>\n",
              "      <td>NaN</td>\n",
              "    </tr>\n",
              "    <tr>\n",
              "      <th>C</th>\n",
              "      <td>NaN</td>\n",
              "      <td>0.035252</td>\n",
              "    </tr>\n",
              "  </tbody>\n",
              "</table>\n",
              "</div>"
            ],
            "text/plain": [
              "C             bar       foo\n",
              "A     B                    \n",
              "one   A  1.499081 -0.253371\n",
              "      B  0.452431 -0.691019\n",
              "      C  1.666524 -1.305943\n",
              "three A -0.881722       NaN\n",
              "      B       NaN  0.191856\n",
              "      C -0.887832       NaN\n",
              "two   A       NaN -0.085843\n",
              "      B  0.294842       NaN\n",
              "      C       NaN  0.035252"
            ]
          },
          "metadata": {
            "tags": []
          },
          "execution_count": 135
        }
      ]
    },
    {
      "cell_type": "markdown",
      "metadata": {
        "id": "dBtCM4UaNmmZ",
        "colab_type": "text"
      },
      "source": [
        "# 타임 시리즈 형식\n",
        "* pd.data_range( )\n",
        "* freq ('S', 'Min', 'H', 'D', 'W', 'M', 'Y')"
      ]
    },
    {
      "cell_type": "code",
      "metadata": {
        "id": "2bxz4jHkNdso",
        "colab_type": "code",
        "colab": {
          "base_uri": "https://localhost:8080/",
          "height": 121
        },
        "outputId": "aa9be499-7c17-4d34-e10b-298115966c34"
      },
      "source": [
        "# 시간 주기\n",
        "time=pd.date_range('9/1/2020',periods=10,freq='S')\n",
        "time"
      ],
      "execution_count": null,
      "outputs": [
        {
          "output_type": "execute_result",
          "data": {
            "text/plain": [
              "DatetimeIndex(['2020-09-01 00:00:00', '2020-09-01 00:00:01',\n",
              "               '2020-09-01 00:00:02', '2020-09-01 00:00:03',\n",
              "               '2020-09-01 00:00:04', '2020-09-01 00:00:05',\n",
              "               '2020-09-01 00:00:06', '2020-09-01 00:00:07',\n",
              "               '2020-09-01 00:00:08', '2020-09-01 00:00:09'],\n",
              "              dtype='datetime64[ns]', freq='S')"
            ]
          },
          "metadata": {
            "tags": []
          },
          "execution_count": 136
        }
      ]
    },
    {
      "cell_type": "code",
      "metadata": {
        "id": "VwUX2s0fN7Fb",
        "colab_type": "code",
        "colab": {
          "base_uri": "https://localhost:8080/",
          "height": 209
        },
        "outputId": "0b88f41a-c9e2-489a-e595-a17649eecde9"
      },
      "source": [
        "# 시리즈 생성\n",
        "s=pd.Series(np.random.randint(0,500,len(time)),index=time)\n",
        "s"
      ],
      "execution_count": null,
      "outputs": [
        {
          "output_type": "execute_result",
          "data": {
            "text/plain": [
              "2020-09-01 00:00:00    228\n",
              "2020-09-01 00:00:01     60\n",
              "2020-09-01 00:00:02      8\n",
              "2020-09-01 00:00:03    247\n",
              "2020-09-01 00:00:04    430\n",
              "2020-09-01 00:00:05     22\n",
              "2020-09-01 00:00:06    326\n",
              "2020-09-01 00:00:07    426\n",
              "2020-09-01 00:00:08    167\n",
              "2020-09-01 00:00:09    435\n",
              "Freq: S, dtype: int64"
            ]
          },
          "metadata": {
            "tags": []
          },
          "execution_count": 137
        }
      ]
    },
    {
      "cell_type": "code",
      "metadata": {
        "id": "UiMCnN-9OT9N",
        "colab_type": "code",
        "colab": {
          "base_uri": "https://localhost:8080/",
          "height": 69
        },
        "outputId": "19bc9ada-587c-4070-8a4f-d74179a460ff"
      },
      "source": [
        "# 데이터 셈플링\n",
        "s.resample('5S').mean()"
      ],
      "execution_count": null,
      "outputs": [
        {
          "output_type": "execute_result",
          "data": {
            "text/plain": [
              "2020-09-01 00:00:00    194.6\n",
              "2020-09-01 00:00:05    275.2\n",
              "Freq: 5S, dtype: float64"
            ]
          },
          "metadata": {
            "tags": []
          },
          "execution_count": 138
        }
      ]
    },
    {
      "cell_type": "markdown",
      "metadata": {
        "id": "ZR_z8lBxSYA7",
        "colab_type": "text"
      },
      "source": [
        "한국 시간대로 적용\n",
        "* pd.tz_localize( )\n",
        "* 'Asia/Seoul'"
      ]
    },
    {
      "cell_type": "code",
      "metadata": {
        "id": "IYc7DQz6PIN5",
        "colab_type": "code",
        "colab": {
          "base_uri": "https://localhost:8080/",
          "height": 69
        },
        "outputId": "5ed39afe-0ad1-43c1-f9f6-0e404e077391"
      },
      "source": [
        "# 날 주기\n",
        "time=pd.date_range('8/1/2020 00:00',periods=5,freq='D')\n",
        "time"
      ],
      "execution_count": null,
      "outputs": [
        {
          "output_type": "execute_result",
          "data": {
            "text/plain": [
              "DatetimeIndex(['2020-08-01', '2020-08-02', '2020-08-03', '2020-08-04',\n",
              "               '2020-08-05'],\n",
              "              dtype='datetime64[ns]', freq='D')"
            ]
          },
          "metadata": {
            "tags": []
          },
          "execution_count": 139
        }
      ]
    },
    {
      "cell_type": "code",
      "metadata": {
        "id": "izp8uWJaRHC-",
        "colab_type": "code",
        "colab": {
          "base_uri": "https://localhost:8080/",
          "height": 121
        },
        "outputId": "1467997f-4588-4c90-87dd-2f82e9beaff9"
      },
      "source": [
        "# 시리즈 생성\n",
        "s=pd.Series(np.random.randn(len(time)),index=time)\n",
        "s"
      ],
      "execution_count": null,
      "outputs": [
        {
          "output_type": "execute_result",
          "data": {
            "text/plain": [
              "2020-08-01    0.453962\n",
              "2020-08-02   -0.016916\n",
              "2020-08-03   -0.717286\n",
              "2020-08-04   -1.351488\n",
              "2020-08-05   -0.940996\n",
              "Freq: D, dtype: float64"
            ]
          },
          "metadata": {
            "tags": []
          },
          "execution_count": 140
        }
      ]
    },
    {
      "cell_type": "code",
      "metadata": {
        "id": "tAHcmb1GRVT2",
        "colab_type": "code",
        "colab": {
          "base_uri": "https://localhost:8080/",
          "height": 121
        },
        "outputId": "7d7e2853-26e4-4f87-acc2-a335c314d9e0"
      },
      "source": [
        "# 지역 시간\n",
        "s_kr=s.tz_localize('Asia/Seoul')\n",
        "s_kr"
      ],
      "execution_count": null,
      "outputs": [
        {
          "output_type": "execute_result",
          "data": {
            "text/plain": [
              "2020-08-01 00:00:00+09:00    0.453962\n",
              "2020-08-02 00:00:00+09:00   -0.016916\n",
              "2020-08-03 00:00:00+09:00   -0.717286\n",
              "2020-08-04 00:00:00+09:00   -1.351488\n",
              "2020-08-05 00:00:00+09:00   -0.940996\n",
              "Freq: D, dtype: float64"
            ]
          },
          "metadata": {
            "tags": []
          },
          "execution_count": 141
        }
      ]
    },
    {
      "cell_type": "markdown",
      "metadata": {
        "id": "4nYkgqq2SbTA",
        "colab_type": "text"
      },
      "source": [
        "* pd.to_period( )"
      ]
    },
    {
      "cell_type": "code",
      "metadata": {
        "id": "zQIKXFv4R-9W",
        "colab_type": "code",
        "colab": {
          "base_uri": "https://localhost:8080/",
          "height": 69
        },
        "outputId": "958c351b-2d99-4d68-adce-4c674e4e1aab"
      },
      "source": [
        "# 달 주기\n",
        "time=pd.date_range('9/1/2020',periods=5,freq='M')\n",
        "time"
      ],
      "execution_count": null,
      "outputs": [
        {
          "output_type": "execute_result",
          "data": {
            "text/plain": [
              "DatetimeIndex(['2020-09-30', '2020-10-31', '2020-11-30', '2020-12-31',\n",
              "               '2021-01-31'],\n",
              "              dtype='datetime64[ns]', freq='M')"
            ]
          },
          "metadata": {
            "tags": []
          },
          "execution_count": 142
        }
      ]
    },
    {
      "cell_type": "code",
      "metadata": {
        "id": "7SWrdawkStWZ",
        "colab_type": "code",
        "colab": {
          "base_uri": "https://localhost:8080/",
          "height": 121
        },
        "outputId": "b3cc4bb3-2ab0-4759-ba74-13a378f55c74"
      },
      "source": [
        "# 시리즈 생성\n",
        "s=pd.Series(np.random.randn(len(time)),index=time)\n",
        "s"
      ],
      "execution_count": null,
      "outputs": [
        {
          "output_type": "execute_result",
          "data": {
            "text/plain": [
              "2020-09-30   -0.919472\n",
              "2020-10-31   -0.081727\n",
              "2020-11-30   -1.408129\n",
              "2020-12-31    0.117269\n",
              "2021-01-31   -0.512527\n",
              "Freq: M, dtype: float64"
            ]
          },
          "metadata": {
            "tags": []
          },
          "execution_count": 143
        }
      ]
    },
    {
      "cell_type": "code",
      "metadata": {
        "id": "497SRv9nS50p",
        "colab_type": "code",
        "colab": {
          "base_uri": "https://localhost:8080/",
          "height": 121
        },
        "outputId": "2e29d926-8d75-4493-a775-c406c4f67757"
      },
      "source": [
        "# 주기로 표기 변경\n",
        "s.to_period()"
      ],
      "execution_count": null,
      "outputs": [
        {
          "output_type": "execute_result",
          "data": {
            "text/plain": [
              "2020-09   -0.919472\n",
              "2020-10   -0.081727\n",
              "2020-11   -1.408129\n",
              "2020-12    0.117269\n",
              "2021-01   -0.512527\n",
              "Freq: M, dtype: float64"
            ]
          },
          "metadata": {
            "tags": []
          },
          "execution_count": 144
        }
      ]
    },
    {
      "cell_type": "markdown",
      "metadata": {
        "id": "zL0EVZ_NvVgl",
        "colab_type": "text"
      },
      "source": [
        "* pd.asfreq( )"
      ]
    },
    {
      "cell_type": "code",
      "metadata": {
        "id": "NyPFAQtZTTuC",
        "colab_type": "code",
        "colab": {
          "base_uri": "https://localhost:8080/",
          "height": 69
        },
        "outputId": "2f1d1c67-e09d-4952-f6bb-543a092e1337"
      },
      "source": [
        "# 분기 주기\n",
        "time=pd.period_range(start='2020Q1',end='2021Q4',freq='Q-NOV')\n",
        "time"
      ],
      "execution_count": null,
      "outputs": [
        {
          "output_type": "execute_result",
          "data": {
            "text/plain": [
              "PeriodIndex(['2020Q1', '2020Q2', '2020Q3', '2020Q4', '2021Q1', '2021Q2',\n",
              "             '2021Q3', '2021Q4'],\n",
              "            dtype='period[Q-NOV]', freq='Q-NOV')"
            ]
          },
          "metadata": {
            "tags": []
          },
          "execution_count": 145
        }
      ]
    },
    {
      "cell_type": "code",
      "metadata": {
        "id": "UuYjOhvpUIFa",
        "colab_type": "code",
        "colab": {
          "base_uri": "https://localhost:8080/",
          "height": 174
        },
        "outputId": "540612a8-a61f-4668-c60b-3155a3c7b21d"
      },
      "source": [
        "# 시리즈 생성\n",
        "s=pd.Series(np.random.randn(len(time)),index=time)\n",
        "s"
      ],
      "execution_count": null,
      "outputs": [
        {
          "output_type": "execute_result",
          "data": {
            "text/plain": [
              "2020Q1   -1.208092\n",
              "2020Q2    1.392355\n",
              "2020Q3    0.190680\n",
              "2020Q4    1.296738\n",
              "2021Q1    1.003644\n",
              "2021Q2    1.014542\n",
              "2021Q3   -0.567333\n",
              "2021Q4    0.114359\n",
              "Freq: Q-NOV, dtype: float64"
            ]
          },
          "metadata": {
            "tags": []
          },
          "execution_count": 146
        }
      ]
    },
    {
      "cell_type": "code",
      "metadata": {
        "id": "682Gjf09USvd",
        "colab_type": "code",
        "colab": {
          "base_uri": "https://localhost:8080/",
          "height": 174
        },
        "outputId": "6972f894-6cbb-477b-e7e8-83a9c6282359"
      },
      "source": [
        "# 일자 수정\n",
        "# 달의 마지막일 + 1, 시작시간 + 9\n",
        "s.index=(time.asfreq('M','e')+1).asfreq('H','s')+9\n",
        "s"
      ],
      "execution_count": null,
      "outputs": [
        {
          "output_type": "execute_result",
          "data": {
            "text/plain": [
              "2020-03-01 09:00   -1.208092\n",
              "2020-06-01 09:00    1.392355\n",
              "2020-09-01 09:00    0.190680\n",
              "2020-12-01 09:00    1.296738\n",
              "2021-03-01 09:00    1.003644\n",
              "2021-06-01 09:00    1.014542\n",
              "2021-09-01 09:00   -0.567333\n",
              "2021-12-01 09:00    0.114359\n",
              "Freq: H, dtype: float64"
            ]
          },
          "metadata": {
            "tags": []
          },
          "execution_count": 147
        }
      ]
    },
    {
      "cell_type": "markdown",
      "metadata": {
        "id": "FgjhEk6L40Ob",
        "colab_type": "text"
      },
      "source": [
        "* to_datetime( )"
      ]
    },
    {
      "cell_type": "code",
      "metadata": {
        "id": "eMqegNLM401s",
        "colab_type": "code",
        "colab": {
          "base_uri": "https://localhost:8080/",
          "height": 107
        },
        "outputId": "34bcb2f8-b673-4d94-89f7-68956c267e1c"
      },
      "source": [
        "df=pd.DataFrame({'Birth':['2020-09-23 06:10:00','2020-09-30 20:20:00']})\n",
        "df"
      ],
      "execution_count": null,
      "outputs": [
        {
          "output_type": "execute_result",
          "data": {
            "text/html": [
              "<div>\n",
              "<style scoped>\n",
              "    .dataframe tbody tr th:only-of-type {\n",
              "        vertical-align: middle;\n",
              "    }\n",
              "\n",
              "    .dataframe tbody tr th {\n",
              "        vertical-align: top;\n",
              "    }\n",
              "\n",
              "    .dataframe thead th {\n",
              "        text-align: right;\n",
              "    }\n",
              "</style>\n",
              "<table border=\"1\" class=\"dataframe\">\n",
              "  <thead>\n",
              "    <tr style=\"text-align: right;\">\n",
              "      <th></th>\n",
              "      <th>Birth</th>\n",
              "    </tr>\n",
              "  </thead>\n",
              "  <tbody>\n",
              "    <tr>\n",
              "      <th>0</th>\n",
              "      <td>2020-09-23 06:10:00</td>\n",
              "    </tr>\n",
              "    <tr>\n",
              "      <th>1</th>\n",
              "      <td>2020-09-30 20:20:00</td>\n",
              "    </tr>\n",
              "  </tbody>\n",
              "</table>\n",
              "</div>"
            ],
            "text/plain": [
              "                 Birth\n",
              "0  2020-09-23 06:10:00\n",
              "1  2020-09-30 20:20:00"
            ]
          },
          "metadata": {
            "tags": []
          },
          "execution_count": 148
        }
      ]
    },
    {
      "cell_type": "code",
      "metadata": {
        "id": "HRPINEFd5h7g",
        "colab_type": "code",
        "colab": {
          "base_uri": "https://localhost:8080/",
          "height": 69
        },
        "outputId": "73d05430-c01b-4b9a-c2cc-1100bcb1b5aa"
      },
      "source": [
        "# 결과: 시리즈 타입\n",
        "pd.to_datetime(df['Birth'],format='%Y-%m-%d %H:%M:%S')"
      ],
      "execution_count": null,
      "outputs": [
        {
          "output_type": "execute_result",
          "data": {
            "text/plain": [
              "0   2020-09-23 06:10:00\n",
              "1   2020-09-30 20:20:00\n",
              "Name: Birth, dtype: datetime64[ns]"
            ]
          },
          "metadata": {
            "tags": []
          },
          "execution_count": 149
        }
      ]
    },
    {
      "cell_type": "markdown",
      "metadata": {
        "id": "MS8WN20Q7Xtf",
        "colab_type": "text"
      },
      "source": [
        "날짜와 시간 입력\n",
        "* Timestamp( )\n",
        "* Timedelta( ) "
      ]
    },
    {
      "cell_type": "code",
      "metadata": {
        "id": "f_oy7l8z6bWf",
        "colab_type": "code",
        "colab": {
          "base_uri": "https://localhost:8080/",
          "height": 34
        },
        "outputId": "6e0cff3a-0db4-4a3a-8e4b-eead01a07e38"
      },
      "source": [
        "pd.Timestamp('2020-9-23')+pd.Timedelta('10:5:33')"
      ],
      "execution_count": null,
      "outputs": [
        {
          "output_type": "execute_result",
          "data": {
            "text/plain": [
              "Timestamp('2020-09-23 10:05:33')"
            ]
          },
          "metadata": {
            "tags": []
          },
          "execution_count": 150
        }
      ]
    },
    {
      "cell_type": "markdown",
      "metadata": {
        "id": "xEGPGNKBVE5R",
        "colab_type": "text"
      },
      "source": [
        "# 카테고리 형식"
      ]
    },
    {
      "cell_type": "code",
      "metadata": {
        "id": "zKMQ_8gfUtr-",
        "colab_type": "code",
        "colab": {
          "base_uri": "https://localhost:8080/",
          "height": 226
        },
        "outputId": "835b1e47-56af-4927-a897-e8178cf62811"
      },
      "source": [
        "df=pd.DataFrame({'id':[1,2,3,4,5,6],'raw_grade':['a','b','b','a','a','e']})\n",
        "df"
      ],
      "execution_count": null,
      "outputs": [
        {
          "output_type": "execute_result",
          "data": {
            "text/html": [
              "<div>\n",
              "<style scoped>\n",
              "    .dataframe tbody tr th:only-of-type {\n",
              "        vertical-align: middle;\n",
              "    }\n",
              "\n",
              "    .dataframe tbody tr th {\n",
              "        vertical-align: top;\n",
              "    }\n",
              "\n",
              "    .dataframe thead th {\n",
              "        text-align: right;\n",
              "    }\n",
              "</style>\n",
              "<table border=\"1\" class=\"dataframe\">\n",
              "  <thead>\n",
              "    <tr style=\"text-align: right;\">\n",
              "      <th></th>\n",
              "      <th>id</th>\n",
              "      <th>raw_grade</th>\n",
              "    </tr>\n",
              "  </thead>\n",
              "  <tbody>\n",
              "    <tr>\n",
              "      <th>0</th>\n",
              "      <td>1</td>\n",
              "      <td>a</td>\n",
              "    </tr>\n",
              "    <tr>\n",
              "      <th>1</th>\n",
              "      <td>2</td>\n",
              "      <td>b</td>\n",
              "    </tr>\n",
              "    <tr>\n",
              "      <th>2</th>\n",
              "      <td>3</td>\n",
              "      <td>b</td>\n",
              "    </tr>\n",
              "    <tr>\n",
              "      <th>3</th>\n",
              "      <td>4</td>\n",
              "      <td>a</td>\n",
              "    </tr>\n",
              "    <tr>\n",
              "      <th>4</th>\n",
              "      <td>5</td>\n",
              "      <td>a</td>\n",
              "    </tr>\n",
              "    <tr>\n",
              "      <th>5</th>\n",
              "      <td>6</td>\n",
              "      <td>e</td>\n",
              "    </tr>\n",
              "  </tbody>\n",
              "</table>\n",
              "</div>"
            ],
            "text/plain": [
              "   id raw_grade\n",
              "0   1         a\n",
              "1   2         b\n",
              "2   3         b\n",
              "3   4         a\n",
              "4   5         a\n",
              "5   6         e"
            ]
          },
          "metadata": {
            "tags": []
          },
          "execution_count": 151
        }
      ]
    },
    {
      "cell_type": "code",
      "metadata": {
        "id": "DBNC9M7nVf83",
        "colab_type": "code",
        "colab": {
          "base_uri": "https://localhost:8080/",
          "height": 226
        },
        "outputId": "a1cfd342-fa98-4fa8-cc32-fe50d74e1433"
      },
      "source": [
        "# 카테고리 형식 생성\n",
        "df['grade']=df['raw_grade'].astype('category')\n",
        "df"
      ],
      "execution_count": null,
      "outputs": [
        {
          "output_type": "execute_result",
          "data": {
            "text/html": [
              "<div>\n",
              "<style scoped>\n",
              "    .dataframe tbody tr th:only-of-type {\n",
              "        vertical-align: middle;\n",
              "    }\n",
              "\n",
              "    .dataframe tbody tr th {\n",
              "        vertical-align: top;\n",
              "    }\n",
              "\n",
              "    .dataframe thead th {\n",
              "        text-align: right;\n",
              "    }\n",
              "</style>\n",
              "<table border=\"1\" class=\"dataframe\">\n",
              "  <thead>\n",
              "    <tr style=\"text-align: right;\">\n",
              "      <th></th>\n",
              "      <th>id</th>\n",
              "      <th>raw_grade</th>\n",
              "      <th>grade</th>\n",
              "    </tr>\n",
              "  </thead>\n",
              "  <tbody>\n",
              "    <tr>\n",
              "      <th>0</th>\n",
              "      <td>1</td>\n",
              "      <td>a</td>\n",
              "      <td>a</td>\n",
              "    </tr>\n",
              "    <tr>\n",
              "      <th>1</th>\n",
              "      <td>2</td>\n",
              "      <td>b</td>\n",
              "      <td>b</td>\n",
              "    </tr>\n",
              "    <tr>\n",
              "      <th>2</th>\n",
              "      <td>3</td>\n",
              "      <td>b</td>\n",
              "      <td>b</td>\n",
              "    </tr>\n",
              "    <tr>\n",
              "      <th>3</th>\n",
              "      <td>4</td>\n",
              "      <td>a</td>\n",
              "      <td>a</td>\n",
              "    </tr>\n",
              "    <tr>\n",
              "      <th>4</th>\n",
              "      <td>5</td>\n",
              "      <td>a</td>\n",
              "      <td>a</td>\n",
              "    </tr>\n",
              "    <tr>\n",
              "      <th>5</th>\n",
              "      <td>6</td>\n",
              "      <td>e</td>\n",
              "      <td>e</td>\n",
              "    </tr>\n",
              "  </tbody>\n",
              "</table>\n",
              "</div>"
            ],
            "text/plain": [
              "   id raw_grade grade\n",
              "0   1         a     a\n",
              "1   2         b     b\n",
              "2   3         b     b\n",
              "3   4         a     a\n",
              "4   5         a     a\n",
              "5   6         e     e"
            ]
          },
          "metadata": {
            "tags": []
          },
          "execution_count": 152
        }
      ]
    },
    {
      "cell_type": "code",
      "metadata": {
        "id": "5a2_V1BHVukh",
        "colab_type": "code",
        "colab": {
          "base_uri": "https://localhost:8080/",
          "height": 226
        },
        "outputId": "0afd4e5e-a8a6-4963-f3e8-0aaa1af19d0a"
      },
      "source": [
        "# 카테고리 내용 변경\n",
        "df['grade'].cat.categories=['very good','good','very bad']\n",
        "df"
      ],
      "execution_count": null,
      "outputs": [
        {
          "output_type": "execute_result",
          "data": {
            "text/html": [
              "<div>\n",
              "<style scoped>\n",
              "    .dataframe tbody tr th:only-of-type {\n",
              "        vertical-align: middle;\n",
              "    }\n",
              "\n",
              "    .dataframe tbody tr th {\n",
              "        vertical-align: top;\n",
              "    }\n",
              "\n",
              "    .dataframe thead th {\n",
              "        text-align: right;\n",
              "    }\n",
              "</style>\n",
              "<table border=\"1\" class=\"dataframe\">\n",
              "  <thead>\n",
              "    <tr style=\"text-align: right;\">\n",
              "      <th></th>\n",
              "      <th>id</th>\n",
              "      <th>raw_grade</th>\n",
              "      <th>grade</th>\n",
              "    </tr>\n",
              "  </thead>\n",
              "  <tbody>\n",
              "    <tr>\n",
              "      <th>0</th>\n",
              "      <td>1</td>\n",
              "      <td>a</td>\n",
              "      <td>very good</td>\n",
              "    </tr>\n",
              "    <tr>\n",
              "      <th>1</th>\n",
              "      <td>2</td>\n",
              "      <td>b</td>\n",
              "      <td>good</td>\n",
              "    </tr>\n",
              "    <tr>\n",
              "      <th>2</th>\n",
              "      <td>3</td>\n",
              "      <td>b</td>\n",
              "      <td>good</td>\n",
              "    </tr>\n",
              "    <tr>\n",
              "      <th>3</th>\n",
              "      <td>4</td>\n",
              "      <td>a</td>\n",
              "      <td>very good</td>\n",
              "    </tr>\n",
              "    <tr>\n",
              "      <th>4</th>\n",
              "      <td>5</td>\n",
              "      <td>a</td>\n",
              "      <td>very good</td>\n",
              "    </tr>\n",
              "    <tr>\n",
              "      <th>5</th>\n",
              "      <td>6</td>\n",
              "      <td>e</td>\n",
              "      <td>very bad</td>\n",
              "    </tr>\n",
              "  </tbody>\n",
              "</table>\n",
              "</div>"
            ],
            "text/plain": [
              "   id raw_grade      grade\n",
              "0   1         a  very good\n",
              "1   2         b       good\n",
              "2   3         b       good\n",
              "3   4         a  very good\n",
              "4   5         a  very good\n",
              "5   6         e   very bad"
            ]
          },
          "metadata": {
            "tags": []
          },
          "execution_count": 153
        }
      ]
    },
    {
      "cell_type": "code",
      "metadata": {
        "id": "IXNtZXAgVsRB",
        "colab_type": "code",
        "colab": {
          "base_uri": "https://localhost:8080/",
          "height": 156
        },
        "outputId": "3546cef3-c3ed-45cd-e8a8-d57ad047e653"
      },
      "source": [
        "df['grade']"
      ],
      "execution_count": null,
      "outputs": [
        {
          "output_type": "execute_result",
          "data": {
            "text/plain": [
              "0    very good\n",
              "1         good\n",
              "2         good\n",
              "3    very good\n",
              "4    very good\n",
              "5     very bad\n",
              "Name: grade, dtype: category\n",
              "Categories (3, object): [very good, good, very bad]"
            ]
          },
          "metadata": {
            "tags": []
          },
          "execution_count": 154
        }
      ]
    },
    {
      "cell_type": "code",
      "metadata": {
        "id": "1iLSrGAmWHI5",
        "colab_type": "code",
        "colab": {
          "base_uri": "https://localhost:8080/",
          "height": 226
        },
        "outputId": "fcf21ade-3b93-4af7-a8ff-f1f1bce6b3fc"
      },
      "source": [
        "# 카테고리 내용 변경\n",
        "df[\"grade\"] = df[\"grade\"].cat.set_categories([\"very bad\", \"bad\", \"medium\", \"good\", \"very good\"])\n",
        "df"
      ],
      "execution_count": null,
      "outputs": [
        {
          "output_type": "execute_result",
          "data": {
            "text/html": [
              "<div>\n",
              "<style scoped>\n",
              "    .dataframe tbody tr th:only-of-type {\n",
              "        vertical-align: middle;\n",
              "    }\n",
              "\n",
              "    .dataframe tbody tr th {\n",
              "        vertical-align: top;\n",
              "    }\n",
              "\n",
              "    .dataframe thead th {\n",
              "        text-align: right;\n",
              "    }\n",
              "</style>\n",
              "<table border=\"1\" class=\"dataframe\">\n",
              "  <thead>\n",
              "    <tr style=\"text-align: right;\">\n",
              "      <th></th>\n",
              "      <th>id</th>\n",
              "      <th>raw_grade</th>\n",
              "      <th>grade</th>\n",
              "    </tr>\n",
              "  </thead>\n",
              "  <tbody>\n",
              "    <tr>\n",
              "      <th>0</th>\n",
              "      <td>1</td>\n",
              "      <td>a</td>\n",
              "      <td>very good</td>\n",
              "    </tr>\n",
              "    <tr>\n",
              "      <th>1</th>\n",
              "      <td>2</td>\n",
              "      <td>b</td>\n",
              "      <td>good</td>\n",
              "    </tr>\n",
              "    <tr>\n",
              "      <th>2</th>\n",
              "      <td>3</td>\n",
              "      <td>b</td>\n",
              "      <td>good</td>\n",
              "    </tr>\n",
              "    <tr>\n",
              "      <th>3</th>\n",
              "      <td>4</td>\n",
              "      <td>a</td>\n",
              "      <td>very good</td>\n",
              "    </tr>\n",
              "    <tr>\n",
              "      <th>4</th>\n",
              "      <td>5</td>\n",
              "      <td>a</td>\n",
              "      <td>very good</td>\n",
              "    </tr>\n",
              "    <tr>\n",
              "      <th>5</th>\n",
              "      <td>6</td>\n",
              "      <td>e</td>\n",
              "      <td>very bad</td>\n",
              "    </tr>\n",
              "  </tbody>\n",
              "</table>\n",
              "</div>"
            ],
            "text/plain": [
              "   id raw_grade      grade\n",
              "0   1         a  very good\n",
              "1   2         b       good\n",
              "2   3         b       good\n",
              "3   4         a  very good\n",
              "4   5         a  very good\n",
              "5   6         e   very bad"
            ]
          },
          "metadata": {
            "tags": []
          },
          "execution_count": 155
        }
      ]
    },
    {
      "cell_type": "code",
      "metadata": {
        "id": "4CbDiO0NWXEB",
        "colab_type": "code",
        "colab": {
          "base_uri": "https://localhost:8080/",
          "height": 156
        },
        "outputId": "30be26f3-d9c3-40d9-93c9-d86f50be8861"
      },
      "source": [
        "df['grade']"
      ],
      "execution_count": null,
      "outputs": [
        {
          "output_type": "execute_result",
          "data": {
            "text/plain": [
              "0    very good\n",
              "1         good\n",
              "2         good\n",
              "3    very good\n",
              "4    very good\n",
              "5     very bad\n",
              "Name: grade, dtype: category\n",
              "Categories (5, object): [very bad, bad, medium, good, very good]"
            ]
          },
          "metadata": {
            "tags": []
          },
          "execution_count": 156
        }
      ]
    },
    {
      "cell_type": "code",
      "metadata": {
        "id": "_Olf14Z1WaSj",
        "colab_type": "code",
        "colab": {
          "base_uri": "https://localhost:8080/",
          "height": 226
        },
        "outputId": "f3753b79-3c6b-4a48-ef58-5419e74190fe"
      },
      "source": [
        "# 카테고리형 데이터의 정렬\n",
        "# 내림차순, ascending=False\n",
        "df.sort_values(by='grade',ascending=False)"
      ],
      "execution_count": null,
      "outputs": [
        {
          "output_type": "execute_result",
          "data": {
            "text/html": [
              "<div>\n",
              "<style scoped>\n",
              "    .dataframe tbody tr th:only-of-type {\n",
              "        vertical-align: middle;\n",
              "    }\n",
              "\n",
              "    .dataframe tbody tr th {\n",
              "        vertical-align: top;\n",
              "    }\n",
              "\n",
              "    .dataframe thead th {\n",
              "        text-align: right;\n",
              "    }\n",
              "</style>\n",
              "<table border=\"1\" class=\"dataframe\">\n",
              "  <thead>\n",
              "    <tr style=\"text-align: right;\">\n",
              "      <th></th>\n",
              "      <th>id</th>\n",
              "      <th>raw_grade</th>\n",
              "      <th>grade</th>\n",
              "    </tr>\n",
              "  </thead>\n",
              "  <tbody>\n",
              "    <tr>\n",
              "      <th>0</th>\n",
              "      <td>1</td>\n",
              "      <td>a</td>\n",
              "      <td>very good</td>\n",
              "    </tr>\n",
              "    <tr>\n",
              "      <th>3</th>\n",
              "      <td>4</td>\n",
              "      <td>a</td>\n",
              "      <td>very good</td>\n",
              "    </tr>\n",
              "    <tr>\n",
              "      <th>4</th>\n",
              "      <td>5</td>\n",
              "      <td>a</td>\n",
              "      <td>very good</td>\n",
              "    </tr>\n",
              "    <tr>\n",
              "      <th>1</th>\n",
              "      <td>2</td>\n",
              "      <td>b</td>\n",
              "      <td>good</td>\n",
              "    </tr>\n",
              "    <tr>\n",
              "      <th>2</th>\n",
              "      <td>3</td>\n",
              "      <td>b</td>\n",
              "      <td>good</td>\n",
              "    </tr>\n",
              "    <tr>\n",
              "      <th>5</th>\n",
              "      <td>6</td>\n",
              "      <td>e</td>\n",
              "      <td>very bad</td>\n",
              "    </tr>\n",
              "  </tbody>\n",
              "</table>\n",
              "</div>"
            ],
            "text/plain": [
              "   id raw_grade      grade\n",
              "0   1         a  very good\n",
              "3   4         a  very good\n",
              "4   5         a  very good\n",
              "1   2         b       good\n",
              "2   3         b       good\n",
              "5   6         e   very bad"
            ]
          },
          "metadata": {
            "tags": []
          },
          "execution_count": 157
        }
      ]
    },
    {
      "cell_type": "code",
      "metadata": {
        "id": "NXbTI3_OXBbQ",
        "colab_type": "code",
        "colab": {
          "base_uri": "https://localhost:8080/",
          "height": 139
        },
        "outputId": "3fce4313-843f-4cb8-e013-3bccc18efaa7"
      },
      "source": [
        "# 그룹화(개수)\n",
        "df.groupby('grade').size()"
      ],
      "execution_count": null,
      "outputs": [
        {
          "output_type": "execute_result",
          "data": {
            "text/plain": [
              "grade\n",
              "very bad     1\n",
              "bad          0\n",
              "medium       0\n",
              "good         2\n",
              "very good    3\n",
              "dtype: int64"
            ]
          },
          "metadata": {
            "tags": []
          },
          "execution_count": 158
        }
      ]
    },
    {
      "cell_type": "markdown",
      "metadata": {
        "id": "DPg6lzNVXSJ1",
        "colab_type": "text"
      },
      "source": [
        "# 데이터 시각화\n",
        "* 시리즈 데이터 시각화"
      ]
    },
    {
      "cell_type": "code",
      "metadata": {
        "id": "UcFlFTldXOor",
        "colab_type": "code",
        "colab": {
          "base_uri": "https://localhost:8080/",
          "height": 226
        },
        "outputId": "3fec2593-9561-45e6-ca03-391397e65275"
      },
      "source": [
        "s=pd.Series(np.random.randn(1000),index=pd.date_range('8/1/2020',periods=1000))\n",
        "s"
      ],
      "execution_count": null,
      "outputs": [
        {
          "output_type": "execute_result",
          "data": {
            "text/plain": [
              "2020-08-01    0.919780\n",
              "2020-08-02    1.723159\n",
              "2020-08-03    0.301006\n",
              "2020-08-04   -1.626699\n",
              "2020-08-05    0.307669\n",
              "                ...   \n",
              "2023-04-23   -0.239463\n",
              "2023-04-24   -0.777503\n",
              "2023-04-25   -1.064699\n",
              "2023-04-26   -1.015075\n",
              "2023-04-27   -0.308048\n",
              "Freq: D, Length: 1000, dtype: float64"
            ]
          },
          "metadata": {
            "tags": []
          },
          "execution_count": 159
        }
      ]
    },
    {
      "cell_type": "code",
      "metadata": {
        "id": "cP2_MZAkXo5r",
        "colab_type": "code",
        "colab": {
          "base_uri": "https://localhost:8080/",
          "height": 277
        },
        "outputId": "2cb3093b-fc1a-40a4-8f77-b38c253ceb62"
      },
      "source": [
        "# 시리즈 데이터 그래프\n",
        "# 누적합 s.cumsum()\n",
        "s.cumsum().plot()\n",
        "plt.show()"
      ],
      "execution_count": null,
      "outputs": [
        {
          "output_type": "display_data",
          "data": {
            "image/png": "[encoded data removed]",
            "text/plain": [
              "<Figure size 432x288 with 1 Axes>"
            ]
          },
          "metadata": {
            "tags": [],
            "needs_background": "light"
          }
        }
      ]
    },
    {
      "cell_type": "markdown",
      "metadata": {
        "id": "BOUYgyx41VRb",
        "colab_type": "text"
      },
      "source": [
        "* 데이터프레임 시각화"
      ]
    },
    {
      "cell_type": "code",
      "metadata": {
        "id": "w9MInVMzXsjN",
        "colab_type": "code",
        "colab": {
          "base_uri": "https://localhost:8080/",
          "height": 196
        },
        "outputId": "2e2d65d1-708a-4940-b116-eefbcc5a0173"
      },
      "source": [
        "df=pd.DataFrame(np.random.randn(len(s),4),index=s.index,columns=['A','B','C','D'])\n",
        "df.head()"
      ],
      "execution_count": null,
      "outputs": [
        {
          "output_type": "execute_result",
          "data": {
            "text/html": [
              "<div>\n",
              "<style scoped>\n",
              "    .dataframe tbody tr th:only-of-type {\n",
              "        vertical-align: middle;\n",
              "    }\n",
              "\n",
              "    .dataframe tbody tr th {\n",
              "        vertical-align: top;\n",
              "    }\n",
              "\n",
              "    .dataframe thead th {\n",
              "        text-align: right;\n",
              "    }\n",
              "</style>\n",
              "<table border=\"1\" class=\"dataframe\">\n",
              "  <thead>\n",
              "    <tr style=\"text-align: right;\">\n",
              "      <th></th>\n",
              "      <th>A</th>\n",
              "      <th>B</th>\n",
              "      <th>C</th>\n",
              "      <th>D</th>\n",
              "    </tr>\n",
              "  </thead>\n",
              "  <tbody>\n",
              "    <tr>\n",
              "      <th>2020-08-01</th>\n",
              "      <td>-0.683697</td>\n",
              "      <td>-0.508609</td>\n",
              "      <td>-0.036662</td>\n",
              "      <td>0.094696</td>\n",
              "    </tr>\n",
              "    <tr>\n",
              "      <th>2020-08-02</th>\n",
              "      <td>-0.270439</td>\n",
              "      <td>0.113179</td>\n",
              "      <td>1.281405</td>\n",
              "      <td>0.007781</td>\n",
              "    </tr>\n",
              "    <tr>\n",
              "      <th>2020-08-03</th>\n",
              "      <td>-0.086814</td>\n",
              "      <td>-0.790673</td>\n",
              "      <td>1.013845</td>\n",
              "      <td>0.726439</td>\n",
              "    </tr>\n",
              "    <tr>\n",
              "      <th>2020-08-04</th>\n",
              "      <td>0.946167</td>\n",
              "      <td>1.927073</td>\n",
              "      <td>-1.735611</td>\n",
              "      <td>-0.743674</td>\n",
              "    </tr>\n",
              "    <tr>\n",
              "      <th>2020-08-05</th>\n",
              "      <td>-0.502385</td>\n",
              "      <td>-0.197415</td>\n",
              "      <td>-0.613673</td>\n",
              "      <td>0.061833</td>\n",
              "    </tr>\n",
              "  </tbody>\n",
              "</table>\n",
              "</div>"
            ],
            "text/plain": [
              "                   A         B         C         D\n",
              "2020-08-01 -0.683697 -0.508609 -0.036662  0.094696\n",
              "2020-08-02 -0.270439  0.113179  1.281405  0.007781\n",
              "2020-08-03 -0.086814 -0.790673  1.013845  0.726439\n",
              "2020-08-04  0.946167  1.927073 -1.735611 -0.743674\n",
              "2020-08-05 -0.502385 -0.197415 -0.613673  0.061833"
            ]
          },
          "metadata": {
            "tags": []
          },
          "execution_count": 161
        }
      ]
    },
    {
      "cell_type": "code",
      "metadata": {
        "id": "-7qprVxKYUUf",
        "colab_type": "code",
        "colab": {
          "base_uri": "https://localhost:8080/",
          "height": 277
        },
        "outputId": "5e1e0f03-7a4e-4307-98d8-f2ddf564a79d"
      },
      "source": [
        "# 데이터프레임 그래프\n",
        "# 누적합 df.cumsum()\n",
        "\n",
        "df.cumsum().plot()\n",
        "plt.legend()\n",
        "plt.show()"
      ],
      "execution_count": null,
      "outputs": [
        {
          "output_type": "display_data",
          "data": {
            "image/png": "[encoded data removed]",
            "text/plain": [
              "<Figure size 432x288 with 1 Axes>"
            ]
          },
          "metadata": {
            "tags": [],
            "needs_background": "light"
          }
        }
      ]
    },
    {
      "cell_type": "markdown",
      "metadata": {
        "id": "UBH54ENZYyKH",
        "colab_type": "text"
      },
      "source": [
        "#데이터 입출력\n",
        "* pd.to_csv( )\n",
        "* pd.read_csv( )"
      ]
    },
    {
      "cell_type": "code",
      "metadata": {
        "id": "zL-2Z3JWYb6S",
        "colab_type": "code",
        "colab": {}
      },
      "source": [
        "# 파일 저장\n",
        "df.to_csv('foo.csv')"
      ],
      "execution_count": null,
      "outputs": []
    },
    {
      "cell_type": "code",
      "metadata": {
        "id": "dnJLLA47Y5sk",
        "colab_type": "code",
        "colab": {
          "base_uri": "https://localhost:8080/",
          "height": 404
        },
        "outputId": "14b00b3c-d84b-49e9-e811-3b7cae57758e"
      },
      "source": [
        "# 파일 불러오기\n",
        "# 첫 번째 column을 index로 변경, index_col=0\n",
        "pd.read_csv('foo.csv',index_col=0)"
      ],
      "execution_count": null,
      "outputs": [
        {
          "output_type": "execute_result",
          "data": {
            "text/html": [
              "<div>\n",
              "<style scoped>\n",
              "    .dataframe tbody tr th:only-of-type {\n",
              "        vertical-align: middle;\n",
              "    }\n",
              "\n",
              "    .dataframe tbody tr th {\n",
              "        vertical-align: top;\n",
              "    }\n",
              "\n",
              "    .dataframe thead th {\n",
              "        text-align: right;\n",
              "    }\n",
              "</style>\n",
              "<table border=\"1\" class=\"dataframe\">\n",
              "  <thead>\n",
              "    <tr style=\"text-align: right;\">\n",
              "      <th></th>\n",
              "      <th>A</th>\n",
              "      <th>B</th>\n",
              "      <th>C</th>\n",
              "      <th>D</th>\n",
              "    </tr>\n",
              "  </thead>\n",
              "  <tbody>\n",
              "    <tr>\n",
              "      <th>2020-08-01</th>\n",
              "      <td>-0.683697</td>\n",
              "      <td>-0.508609</td>\n",
              "      <td>-0.036662</td>\n",
              "      <td>0.094696</td>\n",
              "    </tr>\n",
              "    <tr>\n",
              "      <th>2020-08-02</th>\n",
              "      <td>-0.270439</td>\n",
              "      <td>0.113179</td>\n",
              "      <td>1.281405</td>\n",
              "      <td>0.007781</td>\n",
              "    </tr>\n",
              "    <tr>\n",
              "      <th>2020-08-03</th>\n",
              "      <td>-0.086814</td>\n",
              "      <td>-0.790673</td>\n",
              "      <td>1.013845</td>\n",
              "      <td>0.726439</td>\n",
              "    </tr>\n",
              "    <tr>\n",
              "      <th>2020-08-04</th>\n",
              "      <td>0.946167</td>\n",
              "      <td>1.927073</td>\n",
              "      <td>-1.735611</td>\n",
              "      <td>-0.743674</td>\n",
              "    </tr>\n",
              "    <tr>\n",
              "      <th>2020-08-05</th>\n",
              "      <td>-0.502385</td>\n",
              "      <td>-0.197415</td>\n",
              "      <td>-0.613673</td>\n",
              "      <td>0.061833</td>\n",
              "    </tr>\n",
              "    <tr>\n",
              "      <th>...</th>\n",
              "      <td>...</td>\n",
              "      <td>...</td>\n",
              "      <td>...</td>\n",
              "      <td>...</td>\n",
              "    </tr>\n",
              "    <tr>\n",
              "      <th>2023-04-23</th>\n",
              "      <td>1.246538</td>\n",
              "      <td>0.221765</td>\n",
              "      <td>0.283586</td>\n",
              "      <td>0.955689</td>\n",
              "    </tr>\n",
              "    <tr>\n",
              "      <th>2023-04-24</th>\n",
              "      <td>-0.573490</td>\n",
              "      <td>1.253414</td>\n",
              "      <td>0.286078</td>\n",
              "      <td>-1.166819</td>\n",
              "    </tr>\n",
              "    <tr>\n",
              "      <th>2023-04-25</th>\n",
              "      <td>-0.768476</td>\n",
              "      <td>-1.042032</td>\n",
              "      <td>0.344701</td>\n",
              "      <td>1.087840</td>\n",
              "    </tr>\n",
              "    <tr>\n",
              "      <th>2023-04-26</th>\n",
              "      <td>-0.890127</td>\n",
              "      <td>0.750227</td>\n",
              "      <td>-0.626539</td>\n",
              "      <td>1.495543</td>\n",
              "    </tr>\n",
              "    <tr>\n",
              "      <th>2023-04-27</th>\n",
              "      <td>-0.715527</td>\n",
              "      <td>-1.602603</td>\n",
              "      <td>0.234892</td>\n",
              "      <td>0.408312</td>\n",
              "    </tr>\n",
              "  </tbody>\n",
              "</table>\n",
              "<p>1000 rows × 4 columns</p>\n",
              "</div>"
            ],
            "text/plain": [
              "                   A         B         C         D\n",
              "2020-08-01 -0.683697 -0.508609 -0.036662  0.094696\n",
              "2020-08-02 -0.270439  0.113179  1.281405  0.007781\n",
              "2020-08-03 -0.086814 -0.790673  1.013845  0.726439\n",
              "2020-08-04  0.946167  1.927073 -1.735611 -0.743674\n",
              "2020-08-05 -0.502385 -0.197415 -0.613673  0.061833\n",
              "...              ...       ...       ...       ...\n",
              "2023-04-23  1.246538  0.221765  0.283586  0.955689\n",
              "2023-04-24 -0.573490  1.253414  0.286078 -1.166819\n",
              "2023-04-25 -0.768476 -1.042032  0.344701  1.087840\n",
              "2023-04-26 -0.890127  0.750227 -0.626539  1.495543\n",
              "2023-04-27 -0.715527 -1.602603  0.234892  0.408312\n",
              "\n",
              "[1000 rows x 4 columns]"
            ]
          },
          "metadata": {
            "tags": []
          },
          "execution_count": 164
        }
      ]
    },
    {
      "cell_type": "markdown",
      "metadata": {
        "id": "2-TD4KYM5p3l",
        "colab_type": "text"
      },
      "source": [
        "* pd.to_hdf( )\n",
        "* pd.read_hdf( )"
      ]
    },
    {
      "cell_type": "code",
      "metadata": {
        "id": "qNe4G7KeZSzO",
        "colab_type": "code",
        "colab": {}
      },
      "source": [
        "# 파일 저장\n",
        "df.to_hdf('foo.h5','df')"
      ],
      "execution_count": null,
      "outputs": []
    },
    {
      "cell_type": "code",
      "metadata": {
        "id": "l854j5ELZczR",
        "colab_type": "code",
        "colab": {
          "base_uri": "https://localhost:8080/",
          "height": 404
        },
        "outputId": "42604683-57ff-4c9a-fa5a-ffa18271cc8d"
      },
      "source": [
        "# 파일 불러오기\n",
        "pd.read_hdf('foo.h5','df')"
      ],
      "execution_count": null,
      "outputs": [
        {
          "output_type": "execute_result",
          "data": {
            "text/html": [
              "<div>\n",
              "<style scoped>\n",
              "    .dataframe tbody tr th:only-of-type {\n",
              "        vertical-align: middle;\n",
              "    }\n",
              "\n",
              "    .dataframe tbody tr th {\n",
              "        vertical-align: top;\n",
              "    }\n",
              "\n",
              "    .dataframe thead th {\n",
              "        text-align: right;\n",
              "    }\n",
              "</style>\n",
              "<table border=\"1\" class=\"dataframe\">\n",
              "  <thead>\n",
              "    <tr style=\"text-align: right;\">\n",
              "      <th></th>\n",
              "      <th>A</th>\n",
              "      <th>B</th>\n",
              "      <th>C</th>\n",
              "      <th>D</th>\n",
              "    </tr>\n",
              "  </thead>\n",
              "  <tbody>\n",
              "    <tr>\n",
              "      <th>2020-08-01</th>\n",
              "      <td>-0.683697</td>\n",
              "      <td>-0.508609</td>\n",
              "      <td>-0.036662</td>\n",
              "      <td>0.094696</td>\n",
              "    </tr>\n",
              "    <tr>\n",
              "      <th>2020-08-02</th>\n",
              "      <td>-0.270439</td>\n",
              "      <td>0.113179</td>\n",
              "      <td>1.281405</td>\n",
              "      <td>0.007781</td>\n",
              "    </tr>\n",
              "    <tr>\n",
              "      <th>2020-08-03</th>\n",
              "      <td>-0.086814</td>\n",
              "      <td>-0.790673</td>\n",
              "      <td>1.013845</td>\n",
              "      <td>0.726439</td>\n",
              "    </tr>\n",
              "    <tr>\n",
              "      <th>2020-08-04</th>\n",
              "      <td>0.946167</td>\n",
              "      <td>1.927073</td>\n",
              "      <td>-1.735611</td>\n",
              "      <td>-0.743674</td>\n",
              "    </tr>\n",
              "    <tr>\n",
              "      <th>2020-08-05</th>\n",
              "      <td>-0.502385</td>\n",
              "      <td>-0.197415</td>\n",
              "      <td>-0.613673</td>\n",
              "      <td>0.061833</td>\n",
              "    </tr>\n",
              "    <tr>\n",
              "      <th>...</th>\n",
              "      <td>...</td>\n",
              "      <td>...</td>\n",
              "      <td>...</td>\n",
              "      <td>...</td>\n",
              "    </tr>\n",
              "    <tr>\n",
              "      <th>2023-04-23</th>\n",
              "      <td>1.246538</td>\n",
              "      <td>0.221765</td>\n",
              "      <td>0.283586</td>\n",
              "      <td>0.955689</td>\n",
              "    </tr>\n",
              "    <tr>\n",
              "      <th>2023-04-24</th>\n",
              "      <td>-0.573490</td>\n",
              "      <td>1.253414</td>\n",
              "      <td>0.286078</td>\n",
              "      <td>-1.166819</td>\n",
              "    </tr>\n",
              "    <tr>\n",
              "      <th>2023-04-25</th>\n",
              "      <td>-0.768476</td>\n",
              "      <td>-1.042032</td>\n",
              "      <td>0.344701</td>\n",
              "      <td>1.087840</td>\n",
              "    </tr>\n",
              "    <tr>\n",
              "      <th>2023-04-26</th>\n",
              "      <td>-0.890127</td>\n",
              "      <td>0.750227</td>\n",
              "      <td>-0.626539</td>\n",
              "      <td>1.495543</td>\n",
              "    </tr>\n",
              "    <tr>\n",
              "      <th>2023-04-27</th>\n",
              "      <td>-0.715527</td>\n",
              "      <td>-1.602603</td>\n",
              "      <td>0.234892</td>\n",
              "      <td>0.408312</td>\n",
              "    </tr>\n",
              "  </tbody>\n",
              "</table>\n",
              "<p>1000 rows × 4 columns</p>\n",
              "</div>"
            ],
            "text/plain": [
              "                   A         B         C         D\n",
              "2020-08-01 -0.683697 -0.508609 -0.036662  0.094696\n",
              "2020-08-02 -0.270439  0.113179  1.281405  0.007781\n",
              "2020-08-03 -0.086814 -0.790673  1.013845  0.726439\n",
              "2020-08-04  0.946167  1.927073 -1.735611 -0.743674\n",
              "2020-08-05 -0.502385 -0.197415 -0.613673  0.061833\n",
              "...              ...       ...       ...       ...\n",
              "2023-04-23  1.246538  0.221765  0.283586  0.955689\n",
              "2023-04-24 -0.573490  1.253414  0.286078 -1.166819\n",
              "2023-04-25 -0.768476 -1.042032  0.344701  1.087840\n",
              "2023-04-26 -0.890127  0.750227 -0.626539  1.495543\n",
              "2023-04-27 -0.715527 -1.602603  0.234892  0.408312\n",
              "\n",
              "[1000 rows x 4 columns]"
            ]
          },
          "metadata": {
            "tags": []
          },
          "execution_count": 166
        }
      ]
    },
    {
      "cell_type": "markdown",
      "metadata": {
        "id": "XFqi5Mkq6Eep",
        "colab_type": "text"
      },
      "source": [
        "* pd.to_excel( )\n",
        "* pd.read_excel( )"
      ]
    },
    {
      "cell_type": "code",
      "metadata": {
        "id": "pA6_V6QdZnzo",
        "colab_type": "code",
        "colab": {}
      },
      "source": [
        "# 파일 저장\n",
        "df.to_excel('foo.xlsx',sheet_name='Sheet1')"
      ],
      "execution_count": null,
      "outputs": []
    },
    {
      "cell_type": "code",
      "metadata": {
        "id": "KjzxAzHSZxAU",
        "colab_type": "code",
        "colab": {
          "base_uri": "https://localhost:8080/",
          "height": 404
        },
        "outputId": "4d4f6765-a09d-4ddf-bd95-d19cf7f2f70e"
      },
      "source": [
        "# 파일 불러오기\n",
        "pd.read_excel('foo.xlsx','Sheet1',index_col=0,na_values=['NA'])"
      ],
      "execution_count": null,
      "outputs": [
        {
          "output_type": "execute_result",
          "data": {
            "text/html": [
              "<div>\n",
              "<style scoped>\n",
              "    .dataframe tbody tr th:only-of-type {\n",
              "        vertical-align: middle;\n",
              "    }\n",
              "\n",
              "    .dataframe tbody tr th {\n",
              "        vertical-align: top;\n",
              "    }\n",
              "\n",
              "    .dataframe thead th {\n",
              "        text-align: right;\n",
              "    }\n",
              "</style>\n",
              "<table border=\"1\" class=\"dataframe\">\n",
              "  <thead>\n",
              "    <tr style=\"text-align: right;\">\n",
              "      <th></th>\n",
              "      <th>A</th>\n",
              "      <th>B</th>\n",
              "      <th>C</th>\n",
              "      <th>D</th>\n",
              "    </tr>\n",
              "  </thead>\n",
              "  <tbody>\n",
              "    <tr>\n",
              "      <th>2020-08-01</th>\n",
              "      <td>-0.683697</td>\n",
              "      <td>-0.508609</td>\n",
              "      <td>-0.036662</td>\n",
              "      <td>0.094696</td>\n",
              "    </tr>\n",
              "    <tr>\n",
              "      <th>2020-08-02</th>\n",
              "      <td>-0.270439</td>\n",
              "      <td>0.113179</td>\n",
              "      <td>1.281405</td>\n",
              "      <td>0.007781</td>\n",
              "    </tr>\n",
              "    <tr>\n",
              "      <th>2020-08-03</th>\n",
              "      <td>-0.086814</td>\n",
              "      <td>-0.790673</td>\n",
              "      <td>1.013845</td>\n",
              "      <td>0.726439</td>\n",
              "    </tr>\n",
              "    <tr>\n",
              "      <th>2020-08-04</th>\n",
              "      <td>0.946167</td>\n",
              "      <td>1.927073</td>\n",
              "      <td>-1.735611</td>\n",
              "      <td>-0.743674</td>\n",
              "    </tr>\n",
              "    <tr>\n",
              "      <th>2020-08-05</th>\n",
              "      <td>-0.502385</td>\n",
              "      <td>-0.197415</td>\n",
              "      <td>-0.613673</td>\n",
              "      <td>0.061833</td>\n",
              "    </tr>\n",
              "    <tr>\n",
              "      <th>...</th>\n",
              "      <td>...</td>\n",
              "      <td>...</td>\n",
              "      <td>...</td>\n",
              "      <td>...</td>\n",
              "    </tr>\n",
              "    <tr>\n",
              "      <th>2023-04-23</th>\n",
              "      <td>1.246538</td>\n",
              "      <td>0.221765</td>\n",
              "      <td>0.283586</td>\n",
              "      <td>0.955689</td>\n",
              "    </tr>\n",
              "    <tr>\n",
              "      <th>2023-04-24</th>\n",
              "      <td>-0.573490</td>\n",
              "      <td>1.253414</td>\n",
              "      <td>0.286078</td>\n",
              "      <td>-1.166819</td>\n",
              "    </tr>\n",
              "    <tr>\n",
              "      <th>2023-04-25</th>\n",
              "      <td>-0.768476</td>\n",
              "      <td>-1.042032</td>\n",
              "      <td>0.344701</td>\n",
              "      <td>1.087840</td>\n",
              "    </tr>\n",
              "    <tr>\n",
              "      <th>2023-04-26</th>\n",
              "      <td>-0.890127</td>\n",
              "      <td>0.750227</td>\n",
              "      <td>-0.626539</td>\n",
              "      <td>1.495543</td>\n",
              "    </tr>\n",
              "    <tr>\n",
              "      <th>2023-04-27</th>\n",
              "      <td>-0.715527</td>\n",
              "      <td>-1.602603</td>\n",
              "      <td>0.234892</td>\n",
              "      <td>0.408312</td>\n",
              "    </tr>\n",
              "  </tbody>\n",
              "</table>\n",
              "<p>1000 rows × 4 columns</p>\n",
              "</div>"
            ],
            "text/plain": [
              "                   A         B         C         D\n",
              "2020-08-01 -0.683697 -0.508609 -0.036662  0.094696\n",
              "2020-08-02 -0.270439  0.113179  1.281405  0.007781\n",
              "2020-08-03 -0.086814 -0.790673  1.013845  0.726439\n",
              "2020-08-04  0.946167  1.927073 -1.735611 -0.743674\n",
              "2020-08-05 -0.502385 -0.197415 -0.613673  0.061833\n",
              "...              ...       ...       ...       ...\n",
              "2023-04-23  1.246538  0.221765  0.283586  0.955689\n",
              "2023-04-24 -0.573490  1.253414  0.286078 -1.166819\n",
              "2023-04-25 -0.768476 -1.042032  0.344701  1.087840\n",
              "2023-04-26 -0.890127  0.750227 -0.626539  1.495543\n",
              "2023-04-27 -0.715527 -1.602603  0.234892  0.408312\n",
              "\n",
              "[1000 rows x 4 columns]"
            ]
          },
          "metadata": {
            "tags": []
          },
          "execution_count": 168
        }
      ]
    },
    {
      "cell_type": "markdown",
      "metadata": {
        "id": "DST8Nn9_bWhx",
        "colab_type": "text"
      },
      "source": [
        "# 시각화\n",
        "https://datatofish.com/plot-dataframe-pandas/"
      ]
    },
    {
      "cell_type": "code",
      "metadata": {
        "id": "h5IyHu7nbM2M",
        "colab_type": "code",
        "colab": {}
      },
      "source": [
        ""
      ],
      "execution_count": null,
      "outputs": []
    }
  ]
}