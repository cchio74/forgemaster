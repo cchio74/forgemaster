{
  "nbformat": 4,
  "nbformat_minor": 0,
  "metadata": {
    "colab": {
      "name": "tensorflow_gpu_test.ipynb",
      "provenance": [],
      "collapsed_sections": [],
      "authorship_tag": "ABX9TyN0m56fYBK2e1i7bD34cYn0",
      "include_colab_link": true
    },
    "kernelspec": {
      "name": "python3",
      "display_name": "Python 3"
    },
    "accelerator": "GPU"
  },
  "cells": [
    {
      "cell_type": "markdown",
      "metadata": {
        "id": "view-in-github",
        "colab_type": "text"
      },
      "source": [
        "<a href=\"https://colab.research.google.com/github/cchio74/forgemaster/blob/master/tensorflow_gpu_test.ipynb\" target=\"_parent\"><img src=\"https://colab.research.google.com/assets/colab-badge.svg\" alt=\"Open In Colab\"/></a>"
      ]
    },
    {
      "cell_type": "code",
      "metadata": {
        "id": "yehZoCCJqNZR",
        "colab_type": "code",
        "colab": {}
      },
      "source": [
        "import time\n",
        "import numpy as np\n",
        "import tensorflow as tf\n",
        "tf.debugging.set_log_device_placement(True)"
      ],
      "execution_count": 1,
      "outputs": []
    },
    {
      "cell_type": "markdown",
      "metadata": {
        "id": "mGnN8HgY-xqc",
        "colab_type": "text"
      },
      "source": [
        "# GPU 사용 가능 확인"
      ]
    },
    {
      "cell_type": "code",
      "metadata": {
        "id": "XEjbNmym-vEQ",
        "colab_type": "code",
        "colab": {
          "base_uri": "https://localhost:8080/",
          "height": 488
        },
        "outputId": "de6b88b9-937d-417f-e70b-42a8e955e2d5"
      },
      "source": [
        "from tensorflow.python.client import device_lib\n",
        "device_lib.list_local_devices()"
      ],
      "execution_count": 2,
      "outputs": [
        {
          "output_type": "execute_result",
          "data": {
            "text/plain": [
              "[name: \"/device:CPU:0\"\n",
              " device_type: \"CPU\"\n",
              " memory_limit: 268435456\n",
              " locality {\n",
              " }\n",
              " incarnation: 12233347492998328150, name: \"/device:XLA_CPU:0\"\n",
              " device_type: \"XLA_CPU\"\n",
              " memory_limit: 17179869184\n",
              " locality {\n",
              " }\n",
              " incarnation: 3948144329419803206\n",
              " physical_device_desc: \"device: XLA_CPU device\", name: \"/device:XLA_GPU:0\"\n",
              " device_type: \"XLA_GPU\"\n",
              " memory_limit: 17179869184\n",
              " locality {\n",
              " }\n",
              " incarnation: 9600710789794819611\n",
              " physical_device_desc: \"device: XLA_GPU device\", name: \"/device:GPU:0\"\n",
              " device_type: \"GPU\"\n",
              " memory_limit: 14640891840\n",
              " locality {\n",
              "   bus_id: 1\n",
              "   links {\n",
              "   }\n",
              " }\n",
              " incarnation: 10420708589044358824\n",
              " physical_device_desc: \"device: 0, name: Tesla T4, pci bus id: 0000:00:04.0, compute capability: 7.5\"]"
            ]
          },
          "metadata": {
            "tags": []
          },
          "execution_count": 2
        }
      ]
    },
    {
      "cell_type": "markdown",
      "metadata": {
        "id": "tLq_VghF6XR9",
        "colab_type": "text"
      },
      "source": [
        "# user function of the manual calculation "
      ]
    },
    {
      "cell_type": "code",
      "metadata": {
        "id": "vrb-rDiC6WtC",
        "colab_type": "code",
        "colab": {}
      },
      "source": [
        "def matmul(t1,t2):\n",
        "  t=np.zeros((t1.shape[0],t2.shape[1]))\n",
        "  for i in range(t1.shape[0]):\n",
        "    for j in range(t2.shape[1]):\n",
        "      for k in range(t1.shape[1]):\n",
        "        t[i][j]+=t1[i][k]*t2[k][j]\n",
        "  return t    "
      ],
      "execution_count": 3,
      "outputs": []
    },
    {
      "cell_type": "markdown",
      "metadata": {
        "id": "vgLm1zfRtaUd",
        "colab_type": "text"
      },
      "source": [
        "# user function 적용"
      ]
    },
    {
      "cell_type": "code",
      "metadata": {
        "id": "bPMPHIw2vSov",
        "colab_type": "code",
        "colab": {}
      },
      "source": [
        "x=200 # 500\n",
        "y=x\n",
        "z=x"
      ],
      "execution_count": 4,
      "outputs": []
    },
    {
      "cell_type": "code",
      "metadata": {
        "id": "diLSM9lu5iok",
        "colab_type": "code",
        "colab": {
          "base_uri": "https://localhost:8080/",
          "height": 34
        },
        "outputId": "3794f1e7-1b27-4049-a8f2-81d986fb7837"
      },
      "source": [
        "start_time=time.time()\n",
        "\n",
        "t1=np.random.randn(x,y)\n",
        "t2=np.random.randn(y,z)\n",
        "\n",
        "print('time:',time.time()-start_time)"
      ],
      "execution_count": 5,
      "outputs": [
        {
          "output_type": "stream",
          "text": [
            "time: 0.005608081817626953\n"
          ],
          "name": "stdout"
        }
      ]
    },
    {
      "cell_type": "code",
      "metadata": {
        "id": "1ytPpGC9Bfh9",
        "colab_type": "code",
        "colab": {
          "base_uri": "https://localhost:8080/",
          "height": 52
        },
        "outputId": "f3285844-74cd-4e43-f34f-dadac2abdcbe"
      },
      "source": [
        "start_time=time.time()\n",
        "\n",
        "t=matmul(t1,t2)\n",
        "\n",
        "print(t.shape)\n",
        "print('time:',time.time()-start_time)"
      ],
      "execution_count": 6,
      "outputs": [
        {
          "output_type": "stream",
          "text": [
            "(200, 200)\n",
            "time: 9.136589288711548\n"
          ],
          "name": "stdout"
        }
      ]
    },
    {
      "cell_type": "markdown",
      "metadata": {
        "id": "tMGAus_JCl2Y",
        "colab_type": "text"
      },
      "source": [
        "# numpy 내장 함수 사용"
      ]
    },
    {
      "cell_type": "code",
      "metadata": {
        "id": "UJAMwtUEz0N8",
        "colab_type": "code",
        "colab": {}
      },
      "source": [
        "import time\n",
        "import numpy as np"
      ],
      "execution_count": 7,
      "outputs": []
    },
    {
      "cell_type": "code",
      "metadata": {
        "id": "UfbmdsCpGnU7",
        "colab_type": "code",
        "colab": {}
      },
      "source": [
        "x=10000 #22000\n",
        "y=x\n",
        "z=x"
      ],
      "execution_count": 8,
      "outputs": []
    },
    {
      "cell_type": "code",
      "metadata": {
        "id": "Wu8JLOMMGq2e",
        "colab_type": "code",
        "colab": {
          "base_uri": "https://localhost:8080/",
          "height": 34
        },
        "outputId": "a42870a6-300c-4d9e-bc63-96194f978bf0"
      },
      "source": [
        "start_time=time.time()\n",
        "\n",
        "t1=np.random.randn(x,y)\n",
        "t2=np.random.randn(y,z)\n",
        "\n",
        "print('time:',time.time()-start_time)"
      ],
      "execution_count": 9,
      "outputs": [
        {
          "output_type": "stream",
          "text": [
            "time: 9.500361919403076\n"
          ],
          "name": "stdout"
        }
      ]
    },
    {
      "cell_type": "code",
      "metadata": {
        "id": "7LtEEDT8x98o",
        "colab_type": "code",
        "colab": {
          "base_uri": "https://localhost:8080/",
          "height": 52
        },
        "outputId": "36f765d9-9eac-46a2-e5f9-c031d0ce356d"
      },
      "source": [
        "start_time=time.time()\n",
        "\n",
        "t=np.matmul(t1,t2)\n",
        "\n",
        "print(t.shape)\n",
        "print('time:',time.time()-start_time)"
      ],
      "execution_count": 10,
      "outputs": [
        {
          "output_type": "stream",
          "text": [
            "(10000, 10000)\n",
            "time: 57.911457538604736\n"
          ],
          "name": "stdout"
        }
      ]
    },
    {
      "cell_type": "code",
      "metadata": {
        "id": "oQuMKOIDWSs1",
        "colab_type": "code",
        "colab": {
          "base_uri": "https://localhost:8080/",
          "height": 52
        },
        "outputId": "100b6968-279f-42c9-d01b-b596bdc251a8"
      },
      "source": [
        "start_time=time.time()\n",
        "\n",
        "t=t1@t2\n",
        "\n",
        "print(t.shape)\n",
        "print('time:',time.time()-start_time)"
      ],
      "execution_count": 11,
      "outputs": [
        {
          "output_type": "stream",
          "text": [
            "(10000, 10000)\n",
            "time: 57.512133836746216\n"
          ],
          "name": "stdout"
        }
      ]
    },
    {
      "cell_type": "markdown",
      "metadata": {
        "id": "ii8kVC0rx1rl",
        "colab_type": "text"
      },
      "source": [
        "# tensorflow GPU 연산"
      ]
    },
    {
      "cell_type": "code",
      "metadata": {
        "id": "948q0pmryEbj",
        "colab_type": "code",
        "colab": {}
      },
      "source": [
        "import time\n",
        "import tensorflow as tf\n",
        "tf.debugging.set_log_device_placement(True)"
      ],
      "execution_count": 12,
      "outputs": []
    },
    {
      "cell_type": "code",
      "metadata": {
        "id": "1H4xzLzDyKU8",
        "colab_type": "code",
        "colab": {}
      },
      "source": [
        "x=10000 #22000\n",
        "y=x\n",
        "z=x"
      ],
      "execution_count": 13,
      "outputs": []
    },
    {
      "cell_type": "code",
      "metadata": {
        "id": "oAYg5kNy5xHo",
        "colab_type": "code",
        "colab": {
          "base_uri": "https://localhost:8080/",
          "height": 139
        },
        "outputId": "344bf36b-a5a7-488b-b196-dbd8f95267ae"
      },
      "source": [
        "start_time=time.time()\n",
        "\n",
        "t1=tf.random.normal(shape=[x,y])\n",
        "t2=tf.random.normal(shape=[y,z])\n",
        "\n",
        "print('time:',time.time()-start_time)"
      ],
      "execution_count": 14,
      "outputs": [
        {
          "output_type": "stream",
          "text": [
            "Executing op RandomStandardNormal in device /job:localhost/replica:0/task:0/device:GPU:0\n",
            "Executing op Mul in device /job:localhost/replica:0/task:0/device:GPU:0\n",
            "Executing op Add in device /job:localhost/replica:0/task:0/device:GPU:0\n",
            "Executing op RandomStandardNormal in device /job:localhost/replica:0/task:0/device:GPU:0\n",
            "Executing op Mul in device /job:localhost/replica:0/task:0/device:GPU:0\n",
            "Executing op Add in device /job:localhost/replica:0/task:0/device:GPU:0\n",
            "time: 0.08842992782592773\n"
          ],
          "name": "stdout"
        }
      ]
    },
    {
      "cell_type": "code",
      "metadata": {
        "id": "Jl_L62wcrjJZ",
        "colab_type": "code",
        "colab": {
          "base_uri": "https://localhost:8080/",
          "height": 69
        },
        "outputId": "2ccb0821-1550-4006-d48c-068f01aff236"
      },
      "source": [
        "start_time=time.time()\n",
        "\n",
        "t=tf.matmul(t1,t2)\n",
        "\n",
        "print(t.shape)\n",
        "print('time:',time.time()-start_time)"
      ],
      "execution_count": 15,
      "outputs": [
        {
          "output_type": "stream",
          "text": [
            "Executing op MatMul in device /job:localhost/replica:0/task:0/device:GPU:0\n",
            "(10000, 10000)\n",
            "time: 1.429889440536499\n"
          ],
          "name": "stdout"
        }
      ]
    },
    {
      "cell_type": "markdown",
      "metadata": {
        "id": "pyEteezzC9l6",
        "colab_type": "text"
      },
      "source": [
        "# tensorflow CPU 연산"
      ]
    },
    {
      "cell_type": "code",
      "metadata": {
        "id": "Nlg8-rcKzNvR",
        "colab_type": "code",
        "colab": {}
      },
      "source": [
        "import time\n",
        "import tensorflow as tf\n",
        "tf.debugging.set_log_device_placement(True)"
      ],
      "execution_count": 16,
      "outputs": []
    },
    {
      "cell_type": "code",
      "metadata": {
        "id": "LxsZ4wS0zQNL",
        "colab_type": "code",
        "colab": {}
      },
      "source": [
        "x=10000 #22000\n",
        "y=x\n",
        "z=x"
      ],
      "execution_count": 17,
      "outputs": []
    },
    {
      "cell_type": "code",
      "metadata": {
        "id": "sZHdNhjm5JgD",
        "colab_type": "code",
        "colab": {
          "base_uri": "https://localhost:8080/",
          "height": 139
        },
        "outputId": "14281a96-a359-4e24-d37c-ff6611454d64"
      },
      "source": [
        "start_time=time.time()\n",
        "\n",
        "with tf.device('/CPU:0'):\n",
        "  t1=tf.random.normal(shape=[x,y])\n",
        "  t2=tf.random.normal(shape=[y,z])\n",
        "\n",
        "print('time:',time.time()-start_time)"
      ],
      "execution_count": 18,
      "outputs": [
        {
          "output_type": "stream",
          "text": [
            "Executing op RandomStandardNormal in device /job:localhost/replica:0/task:0/device:CPU:0\n",
            "Executing op Mul in device /job:localhost/replica:0/task:0/device:CPU:0\n",
            "Executing op Add in device /job:localhost/replica:0/task:0/device:CPU:0\n",
            "Executing op RandomStandardNormal in device /job:localhost/replica:0/task:0/device:CPU:0\n",
            "Executing op Mul in device /job:localhost/replica:0/task:0/device:CPU:0\n",
            "Executing op Add in device /job:localhost/replica:0/task:0/device:CPU:0\n",
            "time: 3.2818777561187744\n"
          ],
          "name": "stdout"
        }
      ]
    },
    {
      "cell_type": "code",
      "metadata": {
        "id": "dfx4dfNeDG8X",
        "colab_type": "code",
        "colab": {
          "base_uri": "https://localhost:8080/",
          "height": 69
        },
        "outputId": "389811f8-395b-4e8d-a53c-9e61f7dc5fe0"
      },
      "source": [
        "start_time=time.time()\n",
        "\n",
        "with tf.device('/CPU:0'):\n",
        "  t=tf.matmul(t1,t2)\n",
        "\n",
        "print(t.shape)\n",
        "print('time:',time.time()-start_time)"
      ],
      "execution_count": 19,
      "outputs": [
        {
          "output_type": "stream",
          "text": [
            "Executing op MatMul in device /job:localhost/replica:0/task:0/device:CPU:0\n",
            "(10000, 10000)\n",
            "time: 18.6141140460968\n"
          ],
          "name": "stdout"
        }
      ]
    },
    {
      "cell_type": "code",
      "metadata": {
        "id": "KoX0NnZ9DX1N",
        "colab_type": "code",
        "colab": {}
      },
      "source": [
        ""
      ],
      "execution_count": 19,
      "outputs": []
    }
  ]
}